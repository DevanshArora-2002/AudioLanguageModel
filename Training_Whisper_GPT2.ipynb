{
  "cells": [
    {
      "cell_type": "code",
      "execution_count": null,
      "metadata": {
        "colab": {
          "base_uri": "https://localhost:8080/"
        },
        "id": "uErlBIFIU7ix",
        "outputId": "765f294f-a442-4606-986b-45c57c99ec3f"
      },
      "outputs": [
        {
          "name": "stdout",
          "output_type": "stream",
          "text": [
            "Collecting transformers==4.28.0\n",
            "  Downloading transformers-4.28.0-py3-none-any.whl (7.0 MB)\n",
            "\u001b[2K     \u001b[90m━━━━━━━━━━━━━━━━━━━━━━━━━━━━━━━━━━━━━━━━\u001b[0m \u001b[32m7.0/7.0 MB\u001b[0m \u001b[31m26.2 MB/s\u001b[0m eta \u001b[36m0:00:00\u001b[0m\n",
            "\u001b[?25hRequirement already satisfied: filelock in /usr/local/lib/python3.10/dist-packages (from transformers==4.28.0) (3.12.2)\n",
            "Collecting huggingface-hub<1.0,>=0.11.0 (from transformers==4.28.0)\n",
            "  Downloading huggingface_hub-0.16.4-py3-none-any.whl (268 kB)\n",
            "\u001b[2K     \u001b[90m━━━━━━━━━━━━━━━━━━━━━━━━━━━━━━━━━━━━━━\u001b[0m \u001b[32m268.8/268.8 kB\u001b[0m \u001b[31m23.8 MB/s\u001b[0m eta \u001b[36m0:00:00\u001b[0m\n",
            "\u001b[?25hRequirement already satisfied: numpy>=1.17 in /usr/local/lib/python3.10/dist-packages (from transformers==4.28.0) (1.22.4)\n",
            "Requirement already satisfied: packaging>=20.0 in /usr/local/lib/python3.10/dist-packages (from transformers==4.28.0) (23.1)\n",
            "Requirement already satisfied: pyyaml>=5.1 in /usr/local/lib/python3.10/dist-packages (from transformers==4.28.0) (6.0.1)\n",
            "Requirement already satisfied: regex!=2019.12.17 in /usr/local/lib/python3.10/dist-packages (from transformers==4.28.0) (2022.10.31)\n",
            "Requirement already satisfied: requests in /usr/local/lib/python3.10/dist-packages (from transformers==4.28.0) (2.27.1)\n",
            "Collecting tokenizers!=0.11.3,<0.14,>=0.11.1 (from transformers==4.28.0)\n",
            "  Downloading tokenizers-0.13.3-cp310-cp310-manylinux_2_17_x86_64.manylinux2014_x86_64.whl (7.8 MB)\n",
            "\u001b[2K     \u001b[90m━━━━━━━━━━━━━━━━━━━━━━━━━━━━━━━━━━━━━━━━\u001b[0m \u001b[32m7.8/7.8 MB\u001b[0m \u001b[31m39.1 MB/s\u001b[0m eta \u001b[36m0:00:00\u001b[0m\n",
            "\u001b[?25hRequirement already satisfied: tqdm>=4.27 in /usr/local/lib/python3.10/dist-packages (from transformers==4.28.0) (4.65.0)\n",
            "Requirement already satisfied: fsspec in /usr/local/lib/python3.10/dist-packages (from huggingface-hub<1.0,>=0.11.0->transformers==4.28.0) (2023.6.0)\n",
            "Requirement already satisfied: typing-extensions>=3.7.4.3 in /usr/local/lib/python3.10/dist-packages (from huggingface-hub<1.0,>=0.11.0->transformers==4.28.0) (4.7.1)\n",
            "Requirement already satisfied: urllib3<1.27,>=1.21.1 in /usr/local/lib/python3.10/dist-packages (from requests->transformers==4.28.0) (1.26.16)\n",
            "Requirement already satisfied: certifi>=2017.4.17 in /usr/local/lib/python3.10/dist-packages (from requests->transformers==4.28.0) (2023.7.22)\n",
            "Requirement already satisfied: charset-normalizer~=2.0.0 in /usr/local/lib/python3.10/dist-packages (from requests->transformers==4.28.0) (2.0.12)\n",
            "Requirement already satisfied: idna<4,>=2.5 in /usr/local/lib/python3.10/dist-packages (from requests->transformers==4.28.0) (3.4)\n",
            "Installing collected packages: tokenizers, huggingface-hub, transformers\n",
            "Successfully installed huggingface-hub-0.16.4 tokenizers-0.13.3 transformers-4.28.0\n",
            "Collecting datasets\n",
            "  Downloading datasets-2.14.0-py3-none-any.whl (492 kB)\n",
            "\u001b[2K     \u001b[90m━━━━━━━━━━━━━━━━━━━━━━━━━━━━━━━━━━━━━━━\u001b[0m \u001b[32m492.2/492.2 kB\u001b[0m \u001b[31m7.3 MB/s\u001b[0m eta \u001b[36m0:00:00\u001b[0m\n",
            "\u001b[?25hRequirement already satisfied: numpy>=1.17 in /usr/local/lib/python3.10/dist-packages (from datasets) (1.22.4)\n",
            "Requirement already satisfied: pyarrow>=8.0.0 in /usr/local/lib/python3.10/dist-packages (from datasets) (9.0.0)\n",
            "Collecting dill<0.3.8,>=0.3.0 (from datasets)\n",
            "  Downloading dill-0.3.7-py3-none-any.whl (115 kB)\n",
            "\u001b[2K     \u001b[90m━━━━━━━━━━━━━━━━━━━━━━━━━━━━━━━━━━━━━━\u001b[0m \u001b[32m115.3/115.3 kB\u001b[0m \u001b[31m11.2 MB/s\u001b[0m eta \u001b[36m0:00:00\u001b[0m\n",
            "\u001b[?25hRequirement already satisfied: pandas in /usr/local/lib/python3.10/dist-packages (from datasets) (1.5.3)\n",
            "Requirement already satisfied: requests>=2.19.0 in /usr/local/lib/python3.10/dist-packages (from datasets) (2.27.1)\n",
            "Requirement already satisfied: tqdm>=4.62.1 in /usr/local/lib/python3.10/dist-packages (from datasets) (4.65.0)\n",
            "Collecting xxhash (from datasets)\n",
            "  Downloading xxhash-3.2.0-cp310-cp310-manylinux_2_17_x86_64.manylinux2014_x86_64.whl (212 kB)\n",
            "\u001b[2K     \u001b[90m━━━━━━━━━━━━━━━━━━━━━━━━━━━━━━━━━━━━━━\u001b[0m \u001b[32m212.5/212.5 kB\u001b[0m \u001b[31m12.3 MB/s\u001b[0m eta \u001b[36m0:00:00\u001b[0m\n",
            "\u001b[?25hCollecting multiprocess (from datasets)\n",
            "  Downloading multiprocess-0.70.15-py310-none-any.whl (134 kB)\n",
            "\u001b[2K     \u001b[90m━━━━━━━━━━━━━━━━━━━━━━━━━━━━━━━━━━━━━━\u001b[0m \u001b[32m134.8/134.8 kB\u001b[0m \u001b[31m11.8 MB/s\u001b[0m eta \u001b[36m0:00:00\u001b[0m\n",
            "\u001b[?25hRequirement already satisfied: fsspec[http]>=2021.11.1 in /usr/local/lib/python3.10/dist-packages (from datasets) (2023.6.0)\n",
            "Requirement already satisfied: aiohttp in /usr/local/lib/python3.10/dist-packages (from datasets) (3.8.5)\n",
            "Requirement already satisfied: huggingface-hub<1.0.0,>=0.14.0 in /usr/local/lib/python3.10/dist-packages (from datasets) (0.16.4)\n",
            "Requirement already satisfied: packaging in /usr/local/lib/python3.10/dist-packages (from datasets) (23.1)\n",
            "Requirement already satisfied: pyyaml>=5.1 in /usr/local/lib/python3.10/dist-packages (from datasets) (6.0.1)\n",
            "Requirement already satisfied: attrs>=17.3.0 in /usr/local/lib/python3.10/dist-packages (from aiohttp->datasets) (23.1.0)\n",
            "Requirement already satisfied: charset-normalizer<4.0,>=2.0 in /usr/local/lib/python3.10/dist-packages (from aiohttp->datasets) (2.0.12)\n",
            "Requirement already satisfied: multidict<7.0,>=4.5 in /usr/local/lib/python3.10/dist-packages (from aiohttp->datasets) (6.0.4)\n",
            "Requirement already satisfied: async-timeout<5.0,>=4.0.0a3 in /usr/local/lib/python3.10/dist-packages (from aiohttp->datasets) (4.0.2)\n",
            "Requirement already satisfied: yarl<2.0,>=1.0 in /usr/local/lib/python3.10/dist-packages (from aiohttp->datasets) (1.9.2)\n",
            "Requirement already satisfied: frozenlist>=1.1.1 in /usr/local/lib/python3.10/dist-packages (from aiohttp->datasets) (1.4.0)\n",
            "Requirement already satisfied: aiosignal>=1.1.2 in /usr/local/lib/python3.10/dist-packages (from aiohttp->datasets) (1.3.1)\n",
            "Requirement already satisfied: filelock in /usr/local/lib/python3.10/dist-packages (from huggingface-hub<1.0.0,>=0.14.0->datasets) (3.12.2)\n",
            "Requirement already satisfied: typing-extensions>=3.7.4.3 in /usr/local/lib/python3.10/dist-packages (from huggingface-hub<1.0.0,>=0.14.0->datasets) (4.7.1)\n",
            "Requirement already satisfied: urllib3<1.27,>=1.21.1 in /usr/local/lib/python3.10/dist-packages (from requests>=2.19.0->datasets) (1.26.16)\n",
            "Requirement already satisfied: certifi>=2017.4.17 in /usr/local/lib/python3.10/dist-packages (from requests>=2.19.0->datasets) (2023.7.22)\n",
            "Requirement already satisfied: idna<4,>=2.5 in /usr/local/lib/python3.10/dist-packages (from requests>=2.19.0->datasets) (3.4)\n",
            "Requirement already satisfied: python-dateutil>=2.8.1 in /usr/local/lib/python3.10/dist-packages (from pandas->datasets) (2.8.2)\n",
            "Requirement already satisfied: pytz>=2020.1 in /usr/local/lib/python3.10/dist-packages (from pandas->datasets) (2022.7.1)\n",
            "Requirement already satisfied: six>=1.5 in /usr/local/lib/python3.10/dist-packages (from python-dateutil>=2.8.1->pandas->datasets) (1.16.0)\n",
            "Installing collected packages: xxhash, dill, multiprocess, datasets\n",
            "Successfully installed datasets-2.14.0 dill-0.3.7 multiprocess-0.70.15 xxhash-3.2.0\n",
            "Collecting wandb\n",
            "  Downloading wandb-0.15.7-py3-none-any.whl (2.1 MB)\n",
            "\u001b[2K     \u001b[90m━━━━━━━━━━━━━━━━━━━━━━━━━━━━━━━━━━━━━━━━\u001b[0m \u001b[32m2.1/2.1 MB\u001b[0m \u001b[31m14.3 MB/s\u001b[0m eta \u001b[36m0:00:00\u001b[0m\n",
            "\u001b[?25hRequirement already satisfied: Click!=8.0.0,>=7.1 in /usr/local/lib/python3.10/dist-packages (from wandb) (8.1.6)\n",
            "Collecting GitPython!=3.1.29,>=1.0.0 (from wandb)\n",
            "  Downloading GitPython-3.1.32-py3-none-any.whl (188 kB)\n",
            "\u001b[2K     \u001b[90m━━━━━━━━━━━━━━━━━━━━━━━━━━━━━━━━━━━━━━\u001b[0m \u001b[32m188.5/188.5 kB\u001b[0m \u001b[31m15.4 MB/s\u001b[0m eta \u001b[36m0:00:00\u001b[0m\n",
            "\u001b[?25hRequirement already satisfied: requests<3,>=2.0.0 in /usr/local/lib/python3.10/dist-packages (from wandb) (2.27.1)\n",
            "Requirement already satisfied: psutil>=5.0.0 in /usr/local/lib/python3.10/dist-packages (from wandb) (5.9.5)\n",
            "Collecting sentry-sdk>=1.0.0 (from wandb)\n",
            "  Downloading sentry_sdk-1.28.1-py2.py3-none-any.whl (214 kB)\n",
            "\u001b[2K     \u001b[90m━━━━━━━━━━━━━━━━━━━━━━━━━━━━━━━━━━━━━━━\u001b[0m \u001b[32m214.7/214.7 kB\u001b[0m \u001b[31m9.1 MB/s\u001b[0m eta \u001b[36m0:00:00\u001b[0m\n",
            "\u001b[?25hCollecting docker-pycreds>=0.4.0 (from wandb)\n",
            "  Downloading docker_pycreds-0.4.0-py2.py3-none-any.whl (9.0 kB)\n",
            "Requirement already satisfied: PyYAML in /usr/local/lib/python3.10/dist-packages (from wandb) (6.0.1)\n",
            "Collecting pathtools (from wandb)\n",
            "  Downloading pathtools-0.1.2.tar.gz (11 kB)\n",
            "  Preparing metadata (setup.py) ... \u001b[?25l\u001b[?25hdone\n",
            "Collecting setproctitle (from wandb)\n",
            "  Downloading setproctitle-1.3.2-cp310-cp310-manylinux_2_5_x86_64.manylinux1_x86_64.manylinux_2_17_x86_64.manylinux2014_x86_64.whl (30 kB)\n",
            "Requirement already satisfied: setuptools in /usr/local/lib/python3.10/dist-packages (from wandb) (67.7.2)\n",
            "Requirement already satisfied: appdirs>=1.4.3 in /usr/local/lib/python3.10/dist-packages (from wandb) (1.4.4)\n",
            "Requirement already satisfied: protobuf!=4.21.0,<5,>=3.19.0 in /usr/local/lib/python3.10/dist-packages (from wandb) (3.20.3)\n",
            "Requirement already satisfied: six>=1.4.0 in /usr/local/lib/python3.10/dist-packages (from docker-pycreds>=0.4.0->wandb) (1.16.0)\n",
            "Collecting gitdb<5,>=4.0.1 (from GitPython!=3.1.29,>=1.0.0->wandb)\n",
            "  Downloading gitdb-4.0.10-py3-none-any.whl (62 kB)\n",
            "\u001b[2K     \u001b[90m━━━━━━━━━━━━━━━━━━━━━━━━━━━━━━━━━━━━━━━━\u001b[0m \u001b[32m62.7/62.7 kB\u001b[0m \u001b[31m8.8 MB/s\u001b[0m eta \u001b[36m0:00:00\u001b[0m\n",
            "\u001b[?25hRequirement already satisfied: urllib3<1.27,>=1.21.1 in /usr/local/lib/python3.10/dist-packages (from requests<3,>=2.0.0->wandb) (1.26.16)\n",
            "Requirement already satisfied: certifi>=2017.4.17 in /usr/local/lib/python3.10/dist-packages (from requests<3,>=2.0.0->wandb) (2023.7.22)\n",
            "Requirement already satisfied: charset-normalizer~=2.0.0 in /usr/local/lib/python3.10/dist-packages (from requests<3,>=2.0.0->wandb) (2.0.12)\n",
            "Requirement already satisfied: idna<4,>=2.5 in /usr/local/lib/python3.10/dist-packages (from requests<3,>=2.0.0->wandb) (3.4)\n",
            "Collecting smmap<6,>=3.0.1 (from gitdb<5,>=4.0.1->GitPython!=3.1.29,>=1.0.0->wandb)\n",
            "  Downloading smmap-5.0.0-py3-none-any.whl (24 kB)\n",
            "Building wheels for collected packages: pathtools\n",
            "  Building wheel for pathtools (setup.py) ... \u001b[?25l\u001b[?25hdone\n",
            "  Created wheel for pathtools: filename=pathtools-0.1.2-py3-none-any.whl size=8791 sha256=10d396a95d4ecff1f3f38e5d0db647efaeb0488a9e74639fcdf48473edcf73cb\n",
            "  Stored in directory: /root/.cache/pip/wheels/e7/f3/22/152153d6eb222ee7a56ff8617d80ee5207207a8c00a7aab794\n",
            "Successfully built pathtools\n",
            "Installing collected packages: pathtools, smmap, setproctitle, sentry-sdk, docker-pycreds, gitdb, GitPython, wandb\n",
            "Successfully installed GitPython-3.1.32 docker-pycreds-0.4.0 gitdb-4.0.10 pathtools-0.1.2 sentry-sdk-1.28.1 setproctitle-1.3.2 smmap-5.0.0 wandb-0.15.7\n"
          ]
        }
      ],
      "source": [
        "!pip install transformers==4.28.0\n",
        "!pip install datasets\n",
        "!pip install wandb"
      ]
    },
    {
      "cell_type": "code",
      "execution_count": null,
      "metadata": {
        "colab": {
          "base_uri": "https://localhost:8080/",
          "height": 124
        },
        "id": "fDzvjqUEd4p2",
        "outputId": "bdfc9bae-b651-4699-cc23-78ed9d21293c"
      },
      "outputs": [
        {
          "data": {
            "application/javascript": [
              "\n",
              "        window._wandbApiKey = new Promise((resolve, reject) => {\n",
              "            function loadScript(url) {\n",
              "            return new Promise(function(resolve, reject) {\n",
              "                let newScript = document.createElement(\"script\");\n",
              "                newScript.onerror = reject;\n",
              "                newScript.onload = resolve;\n",
              "                document.body.appendChild(newScript);\n",
              "                newScript.src = url;\n",
              "            });\n",
              "            }\n",
              "            loadScript(\"https://cdn.jsdelivr.net/npm/postmate/build/postmate.min.js\").then(() => {\n",
              "            const iframe = document.createElement('iframe')\n",
              "            iframe.style.cssText = \"width:0;height:0;border:none\"\n",
              "            document.body.appendChild(iframe)\n",
              "            const handshake = new Postmate({\n",
              "                container: iframe,\n",
              "                url: 'https://wandb.ai/authorize'\n",
              "            });\n",
              "            const timeout = setTimeout(() => reject(\"Couldn't auto authenticate\"), 5000)\n",
              "            handshake.then(function(child) {\n",
              "                child.on('authorize', data => {\n",
              "                    clearTimeout(timeout)\n",
              "                    resolve(data)\n",
              "                });\n",
              "            });\n",
              "            })\n",
              "        });\n",
              "    "
            ],
            "text/plain": [
              "<IPython.core.display.Javascript object>"
            ]
          },
          "metadata": {},
          "output_type": "display_data"
        },
        {
          "name": "stderr",
          "output_type": "stream",
          "text": [
            "\u001b[34m\u001b[1mwandb\u001b[0m: Logging into wandb.ai. (Learn how to deploy a W&B server locally: https://wandb.me/wandb-server)\n",
            "\u001b[34m\u001b[1mwandb\u001b[0m: You can find your API key in your browser here: https://wandb.ai/authorize\n",
            "wandb: Paste an API key from your profile and hit enter, or press ctrl+c to quit:"
          ]
        },
        {
          "name": "stdout",
          "output_type": "stream",
          "text": [
            " ··········\n"
          ]
        },
        {
          "name": "stderr",
          "output_type": "stream",
          "text": [
            "\u001b[34m\u001b[1mwandb\u001b[0m: Appending key for api.wandb.ai to your netrc file: /root/.netrc\n"
          ]
        },
        {
          "data": {
            "text/plain": [
              "True"
            ]
          },
          "execution_count": 2,
          "metadata": {},
          "output_type": "execute_result"
        }
      ],
      "source": [
        "import wandb\n",
        "wandb.login()"
      ]
    },
    {
      "cell_type": "code",
      "execution_count": null,
      "metadata": {
        "colab": {
          "base_uri": "https://localhost:8080/",
          "height": 144
        },
        "id": "7m4Le6cLd8LL",
        "outputId": "fa3cdd94-1fec-4237-c89e-f3ca22769744"
      },
      "outputs": [
        {
          "name": "stderr",
          "output_type": "stream",
          "text": [
            "\u001b[34m\u001b[1mwandb\u001b[0m: Currently logged in as: \u001b[33mdevansh20053\u001b[0m (\u001b[33mdevansh2002\u001b[0m). Use \u001b[1m`wandb login --relogin`\u001b[0m to force relogin\n"
          ]
        },
        {
          "data": {
            "text/html": [
              "Tracking run with wandb version 0.15.7"
            ],
            "text/plain": [
              "<IPython.core.display.HTML object>"
            ]
          },
          "metadata": {},
          "output_type": "display_data"
        },
        {
          "data": {
            "text/html": [
              "Run data is saved locally in <code>/content/wandb/run-20230726_185808-x1k3r7cv</code>"
            ],
            "text/plain": [
              "<IPython.core.display.HTML object>"
            ]
          },
          "metadata": {},
          "output_type": "display_data"
        },
        {
          "data": {
            "text/html": [
              "Syncing run <strong><a href='https://wandb.ai/devansh2002/alm_model_run30_gpt2_frozen_whisper/runs/x1k3r7cv' target=\"_blank\">quiet-totem-1</a></strong> to <a href='https://wandb.ai/devansh2002/alm_model_run30_gpt2_frozen_whisper' target=\"_blank\">Weights & Biases</a> (<a href='https://wandb.me/run' target=\"_blank\">docs</a>)<br/>"
            ],
            "text/plain": [
              "<IPython.core.display.HTML object>"
            ]
          },
          "metadata": {},
          "output_type": "display_data"
        },
        {
          "data": {
            "text/html": [
              " View project at <a href='https://wandb.ai/devansh2002/alm_model_run30_gpt2_frozen_whisper' target=\"_blank\">https://wandb.ai/devansh2002/alm_model_run30_gpt2_frozen_whisper</a>"
            ],
            "text/plain": [
              "<IPython.core.display.HTML object>"
            ]
          },
          "metadata": {},
          "output_type": "display_data"
        },
        {
          "data": {
            "text/html": [
              " View run at <a href='https://wandb.ai/devansh2002/alm_model_run30_gpt2_frozen_whisper/runs/x1k3r7cv' target=\"_blank\">https://wandb.ai/devansh2002/alm_model_run30_gpt2_frozen_whisper/runs/x1k3r7cv</a>"
            ],
            "text/plain": [
              "<IPython.core.display.HTML object>"
            ]
          },
          "metadata": {},
          "output_type": "display_data"
        },
        {
          "data": {
            "text/html": [
              "<button onClick=\"this.nextSibling.style.display='block';this.style.display='none';\">Display W&B run</button><iframe src='https://wandb.ai/devansh2002/alm_model_run30_gpt2_frozen_whisper/runs/x1k3r7cv?jupyter=true' style='border:none;width:100%;height:420px;display:none;'></iframe>"
            ],
            "text/plain": [
              "<wandb.sdk.wandb_run.Run at 0x7c6a722e4790>"
            ]
          },
          "execution_count": 11,
          "metadata": {},
          "output_type": "execute_result"
        }
      ],
      "source": [
        "wandb.init(\n",
        "    project='alm_model_run30_gpt2_frozen_whisper',\n",
        ")"
      ]
    },
    {
      "cell_type": "code",
      "execution_count": null,
      "metadata": {
        "id": "qUhTnAbMVlmL"
      },
      "outputs": [],
      "source": [
        "import numpy as np\n",
        "import pandas as pd\n",
        "import torch\n",
        "import torch.nn as nn\n",
        "from torch.utils.data import Dataset\n",
        "from torch.utils.data import DataLoader\n",
        "import torch.optim as optim\n",
        "from transformers import AutoConfig, WhisperFeatureExtractor, WhisperModel, GPT2LMHeadModel, GPT2Tokenizer"
      ]
    },
    {
      "cell_type": "code",
      "execution_count": null,
      "metadata": {
        "colab": {
          "base_uri": "https://localhost:8080/"
        },
        "id": "IuJoDW4WX-Gk",
        "outputId": "ba0ba4c6-c415-45b7-db5b-ef3c407f710d"
      },
      "outputs": [
        {
          "name": "stderr",
          "output_type": "stream",
          "text": [
            "100%|██████████| 5.95G/5.95G [00:38<00:00, 166MB/s]\n"
          ]
        }
      ],
      "source": [
        "#Dataset downloading\n",
        "import torchaudio\n",
        "root = './'\n",
        "train_dataset = torchaudio.datasets.LIBRISPEECH(root, url='train-clean-100', download=True)"
      ]
    },
    {
      "cell_type": "code",
      "execution_count": null,
      "metadata": {
        "colab": {
          "base_uri": "https://localhost:8080/"
        },
        "id": "clZzOPGOZlnN",
        "outputId": "982af455-0f0d-484e-e02a-e617386910e7"
      },
      "outputs": [
        {
          "name": "stdout",
          "output_type": "stream",
          "text": [
            "<class 'torchaudio.datasets.librispeech.LIBRISPEECH'>\n"
          ]
        }
      ],
      "source": [
        "print(type(train_dataset))"
      ]
    },
    {
      "cell_type": "code",
      "execution_count": null,
      "metadata": {
        "id": "c2WN_Cf8emwR"
      },
      "outputs": [],
      "source": [
        "#80% training 10% validation and 10% testing\n",
        "from torch.utils.data import random_split\n",
        "lengths = [int(len(train_dataset)*0.8),\n",
        "           int(len(train_dataset)*0.1),\n",
        "           len(train_dataset) - int(len(train_dataset)*0.8)-int(len(train_dataset)*0.1)]\n",
        "train_dataset, val_dataset, test_dataset = random_split(train_dataset, lengths)"
      ]
    },
    {
      "cell_type": "code",
      "execution_count": null,
      "metadata": {
        "colab": {
          "base_uri": "https://localhost:8080/",
          "height": 145,
          "referenced_widgets": [
            "edd53e36429749faafceb417ee79abe0",
            "de64e3fe4edc47b7b2fa8785d3a2cc9d",
            "5477e5547bf14fb98288bae84703ee29",
            "2a2107d99a34474faa0bba35073f6a11",
            "b4d92baeb51542df9c3033f7cdfdfa1a",
            "8586377bbf204cfeb0a662bfc9e71eaf",
            "4e49b076b4524b6da648bde65d9cd40d",
            "bff59375d9104c1986f09f024b6920ed",
            "934ba052d2f64e779ffbf14efe408726",
            "88f8c9c82cf64c398efcd24d13be7fd0",
            "ded5a2acfb984679b4a6f898137e691a",
            "9bd21cbdddba4fc58fbf2bd4031d1950",
            "33b83e59d93d4b67a25c25a72bf13f64",
            "8db2eb2e809f44e5b29caaaa1b661d93",
            "6d8b754de0214831bdbc3f33b4349e3f",
            "3d0c28599814465a8202c370d6c10cc8",
            "18c3ee11b6fd42a9ae43f039cf643b43",
            "239eef3baad548bd8758f5381d3f60b8",
            "393f14432d1449febeedbf3994ea6790",
            "3346c72b178140aaa0cf67823c89cf6a",
            "2f5467c3d252417192fd40416ed21ab1",
            "cd4eb6c24838492dbcc91974f2fa3af4",
            "21fbe40c92e3428cb6b9c87c7316f487",
            "a1abaef335b14a81be938446a4687bec",
            "d16d201bfc124afa8487f41a752ad176",
            "095c47574d384fc2b969f0dea6010684",
            "a440f1062819466493a0067c72028143",
            "5642f7d34dfc41a090da5b51e148cb26",
            "7d99da35e95e43799f1cd7e2d10a9a25",
            "7fcf4e3f01364c65836d9e1f57daf0fb",
            "2c74ee04b5754e18ba9303f80336af2b",
            "1b8c9835cd26472cb7d637ca63b8d596",
            "a02cbd4ac3134130abf4910e3be65cc7",
            "f8d10cfba5414bf88fdd94dc174957c6",
            "a508d2c45b9844998bd338717f777d49",
            "6e95166db5cd45378675a89e26a111f9",
            "f81ac022ee414b129ceddde4ef13760f",
            "160d64c4098c41b1a02da68ec74ce572",
            "b82ac7af6eda484fa6dc7b62b2c7391a",
            "7cb63d7a552c4660a4ed59ceab84ae98",
            "bb7f75a222a54846827db687cbe208ea",
            "e7dcbce3c2db4869988d5b65daecf354",
            "b45552e755264dd8bf9f7c04dfeb2fb9",
            "08c29b9e2ec044b09123bbe1da843088"
          ]
        },
        "id": "ECweUdQKdV5f",
        "outputId": "109689c0-2366-42d5-cd8b-e90a362b5e76"
      },
      "outputs": [
        {
          "data": {
            "application/vnd.jupyter.widget-view+json": {
              "model_id": "edd53e36429749faafceb417ee79abe0",
              "version_major": 2,
              "version_minor": 0
            },
            "text/plain": [
              "Downloading (…)olve/main/vocab.json:   0%|          | 0.00/1.04M [00:00<?, ?B/s]"
            ]
          },
          "metadata": {},
          "output_type": "display_data"
        },
        {
          "data": {
            "application/vnd.jupyter.widget-view+json": {
              "model_id": "9bd21cbdddba4fc58fbf2bd4031d1950",
              "version_major": 2,
              "version_minor": 0
            },
            "text/plain": [
              "Downloading (…)olve/main/merges.txt:   0%|          | 0.00/456k [00:00<?, ?B/s]"
            ]
          },
          "metadata": {},
          "output_type": "display_data"
        },
        {
          "data": {
            "application/vnd.jupyter.widget-view+json": {
              "model_id": "21fbe40c92e3428cb6b9c87c7316f487",
              "version_major": 2,
              "version_minor": 0
            },
            "text/plain": [
              "Downloading (…)lve/main/config.json:   0%|          | 0.00/665 [00:00<?, ?B/s]"
            ]
          },
          "metadata": {},
          "output_type": "display_data"
        },
        {
          "data": {
            "application/vnd.jupyter.widget-view+json": {
              "model_id": "f8d10cfba5414bf88fdd94dc174957c6",
              "version_major": 2,
              "version_minor": 0
            },
            "text/plain": [
              "Downloading (…)rocessor_config.json:   0%|          | 0.00/185k [00:00<?, ?B/s]"
            ]
          },
          "metadata": {},
          "output_type": "display_data"
        }
      ],
      "source": [
        "gpt2_ckpt='gpt2'\n",
        "whisper_ckpt='openai/whisper-base'\n",
        "from transformers import GPT2Tokenizer\n",
        "tokenizer=GPT2Tokenizer.from_pretrained(gpt2_ckpt)\n",
        "tokenizer.pad_token=tokenizer.eos_token\n",
        "from transformers import WhisperFeatureExtractor\n",
        "feature_extractor=WhisperFeatureExtractor.from_pretrained(whisper_ckpt)"
      ]
    },
    {
      "cell_type": "code",
      "execution_count": null,
      "metadata": {
        "id": "WZXR2dNSJHl_"
      },
      "outputs": [],
      "source": [
        "device='cuda' if torch.cuda.is_available() else 'cpu'"
      ]
    },
    {
      "cell_type": "code",
      "execution_count": null,
      "metadata": {
        "id": "UrAKAk1PXKkj"
      },
      "outputs": [],
      "source": [
        "#Code for dataset class\n",
        "#returns audio_features, labels and the relvant prompt\n",
        "class dataset(Dataset):\n",
        "  def __init__(self,train_df,feature_extractor,tokenizer):\n",
        "    super().__init__()\n",
        "    self.train_df=train_df\n",
        "    self.feature_extractor=feature_extractor\n",
        "    self.tokenizer=tokenizer\n",
        "  def __len__(self):\n",
        "    return len(self.train_df)\n",
        "  def __getitem__(self,idx):\n",
        "    waveform, sample_rate, utterance, speaker_id, chapter_id, utterance_id=self.train_df[idx]\n",
        "\n",
        "    audio_feats=self.feature_extractor(waveform[0],sampling_rate=sample_rate,return_tensors='pt')['input_features']\n",
        "\n",
        "    labels_batch=self.tokenizer(utterance,return_tensors='pt',max_length=200,padding='max_length',truncation=True)\n",
        "    sum=torch.sum(labels_batch.attention_mask,axis=-1)\n",
        "    labels_batch.attention_mask[:,sum]=1\n",
        "    labels = labels_batch[\"input_ids\"].masked_fill(labels_batch.attention_mask.ne(1), -100)\n",
        "\n",
        "    prompt_ids=self.tokenizer(utterance,return_tensors='pt',max_length=200,padding='max_length',truncation=True)['input_ids']\n",
        "\n",
        "\n",
        "    audio_feats=torch.squeeze(audio_feats,axis=0).to(device)\n",
        "    labels=torch.squeeze(labels,axis=0).to(device)\n",
        "    prompt_ids=torch.squeeze(prompt_ids,axis=0).to(device)\n",
        "\n",
        "    return audio_feats,labels,prompt_ids"
      ]
    },
    {
      "cell_type": "code",
      "execution_count": null,
      "metadata": {
        "id": "7K2M5qPLLiog"
      },
      "outputs": [],
      "source": [
        "tr_dataset=dataset(train_dataset,feature_extractor,tokenizer)\n",
        "val_dataset=dataset(val_dataset,feature_extractor,tokenizer)\n",
        "test_dataset=dataset(test_dataset,feature_extractor,tokenizer)\n",
        "\n",
        "train_loader=DataLoader(tr_dataset,batch_size=4,shuffle=True)\n",
        "val_loader=DataLoader(val_dataset,batch_size=4,shuffle=True)\n",
        "test_loader=DataLoader(test_dataset,batch_size=4,shuffle=True)"
      ]
    },
    {
      "cell_type": "code",
      "execution_count": null,
      "metadata": {
        "id": "SnjCBl0CMQRU"
      },
      "outputs": [],
      "source": [
        "from transformers import WhisperModel,GPT2LMHeadModel\n",
        "#Transformer mapper network\n",
        "\"\"\"Arguments- input-dimension, number of heads, hidden size dimension, number of blocks, input sequence length,\n",
        "output_sequence length and output dimension.\n",
        "Projects input to output dimension followed by multiheadself attention and sequence length reduction\n",
        "\"\"\"\n",
        "class TransformerModel(nn.Module):\n",
        "    def __init__(self, input_dim, nhead, nhid, nlayers, inp_seq_len,out_seq, output_dim):\n",
        "        super(TransformerModel, self).__init__()\n",
        "\n",
        "        # Stage 1: Self-attention mechanism that changes the output dimension\n",
        "        self.encoder = nn.Linear(input_dim, nhid)\n",
        "        self.transformer_encoder = nn.TransformerEncoder(\n",
        "            nn.TransformerEncoderLayer(nhid, nhead), nlayers\n",
        "        )\n",
        "        self.proj = nn.Linear(nhid, output_dim)\n",
        "\n",
        "        # Stage 2: Learned positional encoding to change the sequence length\n",
        "        # self.pos_encoder = nn.Linear(inp_seq_len, out_seq)\n",
        "        self.out_seq=out_seq\n",
        "\n",
        "\n",
        "\n",
        "    def forward(self, src):\n",
        "        src = self.encoder(src)\n",
        "        src = self.transformer_encoder(src)\n",
        "        src = self.proj(src)\n",
        "\n",
        "        # Adjust the sequence length\n",
        "        # src = self.pos_encoder(src.transpose(1, 2)).transpose(1, 2)\n",
        "\n",
        "        return src\n",
        "\"\"\"\n",
        "Main model consists of\n",
        "whisper encoder, Mapper transformer, GPT2 Decoder\n",
        "returns loss,logits\n",
        "\"\"\"\n",
        "class pengi_for_text_generation(nn.Module):\n",
        "  def __init__(self,whisper_ckpt,gpt2_ckpt):\n",
        "    super().__init__()\n",
        "    self.whisper_encoder=WhisperModel.from_pretrained(whisper_ckpt).encoder\n",
        "    self.whisper_ckpt=self.whisper_encoder.config\n",
        "    self.gpt2=GPT2LMHeadModel.from_pretrained(gpt2_ckpt)\n",
        "    self.gpt2_ckpt=self.gpt2.config\n",
        "    self.mapping=TransformerModel(input_dim=self.whisper_ckpt.d_model,\n",
        "                                      nhead=6,\n",
        "                                     nhid=1440,\n",
        "                                    nlayers=8,\n",
        "                                    inp_seq_len=self.whisper_ckpt.max_source_positions,\n",
        "                                     out_seq=500,\n",
        "                                     output_dim=self.gpt2_ckpt.n_embd)\n",
        "\n",
        "  def _freeze_lm(self):\n",
        "    for param in self.gpt2.parameters():\n",
        "      param.requires_grad=False\n",
        "  def _freeze_enc(self):\n",
        "    for param in self.whisper_encoder.parameters():\n",
        "      param.requires_grad=False\n",
        "  def forward(self,\n",
        "              input_audio_features,\n",
        "              input_text_ids=None,\n",
        "              input_text_embeds=None,\n",
        "              labels=None,\n",
        "              return_dict=False):\n",
        "    out=self.whisper_encoder(input_audio_features)\n",
        "    audio_embeddings=out[0]\n",
        "    if(labels is None):\n",
        "\n",
        "      raise(\"Give labels \")\n",
        "    lab_dtype=labels.dtype\n",
        "    audio_embeddings=self.mapping(audio_embeddings)\n",
        "    out_seq_len=self.mapping.out_seq\n",
        "\n",
        "    audio_embeddings=audio_embeddings[:,:out_seq_len,:]\n",
        "\n",
        "    inp_labels=-100*torch.ones((labels.shape[0],out_seq_len))\n",
        "    input_embeds=torch.concat([audio_embeddings,self.gpt2.transformer.wte(input_text_ids)],axis=-2)\n",
        "\n",
        "    labels=torch.concat([inp_labels.to(labels.device),labels],axis=-1)\n",
        "    if(labels.shape[-1]>=self.gpt2_ckpt.n_positions):\n",
        "      labels=labels[:,:self.gpt2_ckpt.n_positions]\n",
        "      input_embeds=input_embeds[:,:-out_seq_len,:]\n",
        "\n",
        "    # print(\"Input Embeddings\")\n",
        "    # print(input_embeds.shape)\n",
        "\n",
        "    # print(\"Labels\")\n",
        "    # print(labels.shape)\n",
        "\n",
        "    out=self.gpt2(inputs_embeds=input_embeds,labels=labels.to(lab_dtype),return_dict=return_dict)\n",
        "    # print(\"output\")\n",
        "    # print(out[1].shape)\n",
        "    return out\n"
      ]
    },
    {
      "cell_type": "code",
      "execution_count": null,
      "metadata": {
        "colab": {
          "base_uri": "https://localhost:8080/",
          "height": 145,
          "referenced_widgets": [
            "0915984625ce4213a167ae7935da0323",
            "de817615f45241e48544f8055703edaa",
            "c17644395e05458d869f033eb4bc7065",
            "fadaf601bd554aefb2adb5e2ad5f111e",
            "fc0d5e8b23db4ba38aea11f33149470a",
            "5201833ab7e54373b270207297ec1ada",
            "d29c0a6085ca42f88a36e7fecc88b3da",
            "90b263a27cd0403aa170809f72a4d849",
            "f71a0dda3f45445b8c860d1d8fa6fe50",
            "5e709c2355cb495dbf84cb194d9dbe93",
            "c483fdbf3ed04abb88502f1762e3bd9c",
            "de2cfc21ca2d4891b273d58e29fff048",
            "7e7f5319bdea4979a5aa1fecfcbfec33",
            "9dfcf685b2a14e85a86f90113863a916",
            "eb6f84ddedbc4a6c888a6c2e5f1e8556",
            "ce477cdcc62841f990bc15d62562607b",
            "3a64f308aaf048baa63d336c61d064c0",
            "66af6551b0fa4218a539bb519149a34c",
            "85792b2c8e9e4a4ca82f5abf35de9747",
            "923f25b994184f14a4aa5d14debac710",
            "32bdad7dd5344cc2b6c77fbe44e64fe3",
            "61452ebd779a46089a34baec1cbfe04e",
            "73dbc05638fc490b96b6fa668d881dfc",
            "9fd795afdc224a53997c822c4d63a070",
            "51d1b732b7714482b3ec1f1f559745cc",
            "7b25ace4be0a42d195a6889f774a909f",
            "8c08eba3cc5c4ec28d65c751efda49a8",
            "c37d5567c5554175ad2d6be221c55902",
            "a084eaa1523640a1b8d6407b70b8fcb8",
            "db34144009b04d4ab0395c287f1bb92a",
            "31985d63257f49d79578b83aa4f84096",
            "eea5c99eb4584725ad6c7a5db5950e94",
            "d634a13a26be428b9842196ec8a9a914",
            "c3298cfdb8a5402db9e73165eb2b293b",
            "37b9b4a4ccab4855be53f21c97bd3419",
            "bd0092b2bd6e4d7898a6b278c08977dd",
            "f2417d6947b24638817c88b37aeaf52e",
            "340187772a8d4c559778a9e8c94536f0",
            "cad5ad8fc08749098d13d9b7743e9037",
            "b85a716f59fe42ddb145228f17fb3eee",
            "a5c7ef98d0e64a28afca4c7f3ab338a9",
            "e2039dcbf6744eeda5c093456fa78278",
            "e615bd2fe3df4da4b09014b0b0de08c6",
            "e41b8521478f402785110ae508ec934e"
          ]
        },
        "id": "_jofQbwKMT5n",
        "outputId": "31c248bd-b94a-40e1-a859-06038980e25d"
      },
      "outputs": [
        {
          "data": {
            "application/vnd.jupyter.widget-view+json": {
              "model_id": "0915984625ce4213a167ae7935da0323",
              "version_major": 2,
              "version_minor": 0
            },
            "text/plain": [
              "Downloading (…)lve/main/config.json:   0%|          | 0.00/1.98k [00:00<?, ?B/s]"
            ]
          },
          "metadata": {},
          "output_type": "display_data"
        },
        {
          "data": {
            "application/vnd.jupyter.widget-view+json": {
              "model_id": "de2cfc21ca2d4891b273d58e29fff048",
              "version_major": 2,
              "version_minor": 0
            },
            "text/plain": [
              "Downloading pytorch_model.bin:   0%|          | 0.00/290M [00:00<?, ?B/s]"
            ]
          },
          "metadata": {},
          "output_type": "display_data"
        },
        {
          "data": {
            "application/vnd.jupyter.widget-view+json": {
              "model_id": "73dbc05638fc490b96b6fa668d881dfc",
              "version_major": 2,
              "version_minor": 0
            },
            "text/plain": [
              "Downloading pytorch_model.bin:   0%|          | 0.00/548M [00:00<?, ?B/s]"
            ]
          },
          "metadata": {},
          "output_type": "display_data"
        },
        {
          "data": {
            "application/vnd.jupyter.widget-view+json": {
              "model_id": "c3298cfdb8a5402db9e73165eb2b293b",
              "version_major": 2,
              "version_minor": 0
            },
            "text/plain": [
              "Downloading (…)neration_config.json:   0%|          | 0.00/124 [00:00<?, ?B/s]"
            ]
          },
          "metadata": {},
          "output_type": "display_data"
        }
      ],
      "source": [
        "pengi=pengi_for_text_generation(whisper_ckpt,gpt2_ckpt)"
      ]
    },
    {
      "cell_type": "code",
      "execution_count": null,
      "metadata": {
        "id": "otKQEjmvMZ0h"
      },
      "outputs": [],
      "source": [
        "pengi=pengi.to(device)"
      ]
    },
    {
      "cell_type": "code",
      "execution_count": null,
      "metadata": {
        "id": "tmL2m_RxMdNc"
      },
      "outputs": [],
      "source": [
        "from tqdm import tqdm"
      ]
    },
    {
      "cell_type": "code",
      "execution_count": null,
      "metadata": {
        "id": "_DOnIyrEMeuE"
      },
      "outputs": [],
      "source": [
        "#training function\n",
        "#returns training loss and validation loss as per the logging steps\n",
        "def train(model,train_loader,val_loader,epochs,logging_steps,optim,scheduler,grad_acc=1,):\n",
        "  gradient_accumulator = {}\n",
        "  for name,param in model.named_parameters():\n",
        "    gradient_accumulator[name]=0.0\n",
        "\n",
        "  # Define the total number of training steps and create a scheduler\n",
        "  total_steps = len(train_loader) * epochs\n",
        "\n",
        "  #wandb.watch(model,log='all',log_freq=20)\n",
        "  train_loss=[]\n",
        "  val_loss=[]\n",
        "  tr_steps=0\n",
        "  val_steps=0\n",
        "  best_val_loss = float('inf')\n",
        "\n",
        "  for ep in range(epochs):\n",
        "    running_loss=0.0\n",
        "    model.train()\n",
        "    for i,(audio,labels,prompt) in enumerate(tqdm(train_loader)):\n",
        "\n",
        "\n",
        "      out=model(input_audio_features=audio.to(device),\n",
        "              input_text_ids=prompt.to(device),\n",
        "              labels=labels.to(device))\n",
        "      loss=out[0]\n",
        "      running_loss+=loss.item()\n",
        "      loss.backward()\n",
        "\n",
        "      # Gradient accumulation\n",
        "      for name, param in model.named_parameters():\n",
        "        gradient_accumulator[name] += param.grad if param.grad is not None else 0.0\n",
        "\n",
        "      if (i + 1) % grad_acc == 0:\n",
        "        torch.nn.utils.clip_grad_norm_(model.parameters(), max_norm=1.0)\n",
        "        optimizer.step()\n",
        "        scheduler.step(running_loss/(i+1))  # Update learning rate schedule\n",
        "        optimizer.zero_grad()\n",
        "\n",
        "        for name, param in model.named_parameters():\n",
        "          gradient_accumulator[name]=0\n",
        "\n",
        "      if((i+1)%logging_steps==0):\n",
        "        train_loss.append(running_loss/(i+1))\n",
        "        tr_steps+=1\n",
        "        wandb.log({\"tr/loss\":train_loss[-1],\n",
        "                   \"tr/step\":tr_steps})\n",
        "\n",
        "    if i % grad_acc != 0:\n",
        "      optimizer.step()\n",
        "      optimizer.zero_grad()\n",
        "\n",
        "    model.eval()\n",
        "    running_loss=0.0\n",
        "    with torch.no_grad():\n",
        "      for i,(audio,labels,prompt) in tqdm(enumerate(val_loader)):\n",
        "        out=model(input_audio_features=audio.to(device),\n",
        "              input_text_ids=prompt.to(device),\n",
        "              labels=labels.to(device))\n",
        "        loss=out[0]\n",
        "        running_loss+=loss.item()\n",
        "        if((i+1)%logging_steps==0):\n",
        "          val_loss.append(running_loss/(i+1))\n",
        "          val_steps+=1\n",
        "          wandb.log({\"val/loss\":val_loss[-1],\n",
        "                     \"val/step\":val_steps})\n",
        "  return train_loss,val_loss"
      ]
    },
    {
      "cell_type": "code",
      "execution_count": null,
      "metadata": {
        "colab": {
          "base_uri": "https://localhost:8080/"
        },
        "id": "2BQhlr70MgV-",
        "outputId": "f3f76d1d-6922-421b-a19b-a3aa71291d55"
      },
      "outputs": [
        {
          "name": "stdout",
          "output_type": "stream",
          "text": [
            "115506592\n"
          ]
        }
      ],
      "source": [
        "#Total parameters for mapping transformer\n",
        "a=[param.numel() for name,param in pengi.named_parameters() if name[0]=='m']\n",
        "print(np.sum(np.array(a)))"
      ]
    },
    {
      "cell_type": "code",
      "execution_count": null,
      "metadata": {
        "colab": {
          "base_uri": "https://localhost:8080/"
        },
        "id": "PtysmuEZMjIn",
        "outputId": "d7b0276c-b4f7-4622-e9b1-809147db9cd4"
      },
      "outputs": [
        {
          "name": "stdout",
          "output_type": "stream",
          "text": [
            "20590592\n"
          ]
        }
      ],
      "source": [
        "#total number of parameters for whisper encoder\n",
        "a=[param.numel() for name,param in pengi.named_parameters() if name[0]=='w']\n",
        "print(np.sum(np.array(a)))"
      ]
    },
    {
      "cell_type": "code",
      "execution_count": null,
      "metadata": {
        "colab": {
          "base_uri": "https://localhost:8080/"
        },
        "id": "eqBPPCQDMlRF",
        "outputId": "95d9d243-5795-4a74-f1f1-5e308dfe9617"
      },
      "outputs": [
        {
          "name": "stdout",
          "output_type": "stream",
          "text": [
            "124439808\n"
          ]
        }
      ],
      "source": [
        "#total number of parameters for gpt2\n",
        "a=[param.numel() for name,param in pengi.named_parameters() if name[0]=='g']\n",
        "print(np.sum(np.array(a)))"
      ]
    },
    {
      "cell_type": "code",
      "execution_count": null,
      "metadata": {
        "colab": {
          "base_uri": "https://localhost:8080/"
        },
        "id": "yUIKq2taMnv6",
        "outputId": "2a3aaaec-ba33-4f11-8fe2-7d3b3488c421"
      },
      "outputs": [
        {
          "name": "stdout",
          "output_type": "stream",
          "text": [
            "260536992\n"
          ]
        }
      ],
      "source": [
        "#Overall total number of parameters\n",
        "a=[param.numel() for name,param in pengi.named_parameters()]\n",
        "print(np.sum(np.array(a)))"
      ]
    },
    {
      "cell_type": "code",
      "execution_count": null,
      "metadata": {
        "id": "3RhpNwNVKObZ"
      },
      "outputs": [],
      "source": [
        "for param in pengi.gpt2.parameters():\n",
        "  param.requires_grad=False"
      ]
    },
    {
      "cell_type": "code",
      "execution_count": null,
      "metadata": {
        "id": "7g71zdg3MpQj"
      },
      "outputs": [],
      "source": [
        "from transformers import get_linear_schedule_with_warmup\n",
        "\n",
        "# Add weight decay into the optimizer\n",
        "learning_rates=[\n",
        "    {\"params\":pengi.mapping.parameters(),\"lr\":0.0001, 'weight_decay': 0.01},\n",
        "    {\"params\":pengi.whisper_encoder.parameters(),\"lr\":0.0001, 'weight_decay': 0.01},\n",
        "]\n",
        "optimizer=optim.Adam(learning_rates)\n",
        "\n",
        "# Define the total number of training steps and create a scheduler\n",
        "total_steps = len(train_loader) * 2\n",
        "# scheduler = torch.optim.lr_scheduler.ReduceLROnPlateau(optimizer, 'min')\n",
        "# from torch.optim.lr_scheduler import CyclicLR\n",
        "# scheduler = CyclicLR(optimizer, base_lr=0.00001, max_lr=0.1, step_size_up=2000)\n",
        "total_epochs = 2\n",
        "warmup_steps = 2000\n",
        "scheduler = get_linear_schedule_with_warmup(optimizer, num_warmup_steps=warmup_steps, num_training_steps=total_epochs)\n",
        "# scheduler = torch.optim.lr_scheduler.CyclicLR(optimizer, base_lr=0.001, max_lr=0.1)"
      ]
    },
    {
      "cell_type": "code",
      "execution_count": null,
      "metadata": {
        "colab": {
          "background_save": true,
          "base_uri": "https://localhost:8080/"
        },
        "id": "6-zafVEYMrJ5",
        "outputId": "dc79f923-06fe-441d-ba96-5a7139601e95"
      },
      "outputs": [
        {
          "name": "stderr",
          "output_type": "stream",
          "text": [
            "  0%|          | 3/5708 [00:12<4:42:15,  2.97s/it]/usr/local/lib/python3.10/dist-packages/torch/optim/lr_scheduler.py:152: UserWarning: The epoch parameter in `scheduler.step()` was not necessary and is being deprecated where possible. Please use `scheduler.step()` to step the scheduler. During the deprecation, if epoch is different from None, the closed form is used instead of the new chainable form, where available. Please open an issue if you are unable to replicate your use case: https://github.com/pytorch/pytorch/issues/new/choose.\n",
            "  warnings.warn(EPOCH_DEPRECATION_WARNING, UserWarning)\n",
            "100%|██████████| 5708/5708 [1:20:15<00:00,  1.19it/s]\n",
            "714it [06:58,  1.70it/s]\n",
            "100%|██████████| 5708/5708 [1:20:15<00:00,  1.19it/s]\n",
            "714it [06:56,  1.71it/s]\n"
          ]
        },
        {
          "data": {
            "text/plain": [
              "([6.897894554138183,\n",
              "  6.799519443511963,\n",
              "  6.740676288604736,\n",
              "  6.692846999168396,\n",
              "  6.638590579986572,\n",
              "  6.596437447865804,\n",
              "  6.5586474391392295,\n",
              "  6.524327290058136,\n",
              "  6.485028601752387,\n",
              "  6.459431451797485,\n",
              "  6.434138601476496,\n",
              "  6.402767113049825,\n",
              "  6.377754437373235,\n",
              "  6.355855524880545,\n",
              "  6.330991237640381,\n",
              "  6.3062163102626805,\n",
              "  6.285494860480814,\n",
              "  6.265165548324585,\n",
              "  6.245168497185958,\n",
              "  6.227699317932129,\n",
              "  6.211650987352644,\n",
              "  6.195569464943626,\n",
              "  6.1796846928803815,\n",
              "  6.161015245119731,\n",
              "  6.143195001983643,\n",
              "  6.127228912940392,\n",
              "  6.112526024006031,\n",
              "  6.0966265548978535,\n",
              "  6.083996454436203,\n",
              "  6.0688170337677,\n",
              "  6.054075933271839,\n",
              "  6.040646413564682,\n",
              "  6.027125562610048,\n",
              "  6.012882021735696,\n",
              "  6.000288940429687,\n",
              "  5.986484888394673,\n",
              "  5.9724716181368445,\n",
              "  5.96031783907037,\n",
              "  5.946902241340051,\n",
              "  5.933432312965393,\n",
              "  5.92183692141277,\n",
              "  5.9088691734132315,\n",
              "  5.896918825992318,\n",
              "  5.884813823699951,\n",
              "  5.874135627746582,\n",
              "  5.8625384069525674,\n",
              "  5.85246949865463,\n",
              "  5.841559107700983,\n",
              "  5.830601644321364,\n",
              "  5.820286603164673,\n",
              "  5.8106589119107115,\n",
              "  5.800669097533593,\n",
              "  5.789577795784428,\n",
              "  5.7802715552294694,\n",
              "  5.769761529055509,\n",
              "  5.759954753943852,\n",
              "  5.7505199807150325,\n",
              "  5.741383401607645,\n",
              "  5.7319924529124116,\n",
              "  5.723702879587809,\n",
              "  5.71481746548512,\n",
              "  5.705213437234201,\n",
              "  5.696061802515908,\n",
              "  5.687916750907898,\n",
              "  5.678982393998366,\n",
              "  5.670407883615205,\n",
              "  5.662126450894484,\n",
              "  5.653588843345642,\n",
              "  5.645594468047653,\n",
              "  5.637178923743112,\n",
              "  5.629608076659727,\n",
              "  5.621137370268504,\n",
              "  5.612560541597131,\n",
              "  5.603739213170232,\n",
              "  5.595216500091553,\n",
              "  5.587032195643375,\n",
              "  5.578933313295439,\n",
              "  5.570773545045119,\n",
              "  5.562430506597591,\n",
              "  5.554301113128662,\n",
              "  5.545802211290525,\n",
              "  5.537785436816332,\n",
              "  5.530045278158533,\n",
              "  5.521693116823832,\n",
              "  5.513202761706184,\n",
              "  5.504741724369138,\n",
              "  5.496770864464771,\n",
              "  5.488481593132019,\n",
              "  5.480512764962872,\n",
              "  5.472397224850125,\n",
              "  5.463566196986607,\n",
              "  5.4547059761959575,\n",
              "  5.445671330318656,\n",
              "  5.436766073551584,\n",
              "  5.427347687169125,\n",
              "  5.417851404547691,\n",
              "  5.407647370013994,\n",
              "  5.397416578214996,\n",
              "  5.387625697357486,\n",
              "  5.37797519607544,\n",
              "  5.368267130049149,\n",
              "  5.358409310602674,\n",
              "  5.348802083672829,\n",
              "  5.339395750944431,\n",
              "  5.330194639387585,\n",
              "  5.321031547312467,\n",
              "  5.311845979334038,\n",
              "  5.302893243189211,\n",
              "  5.293532438453185,\n",
              "  5.284784182115034,\n",
              "  5.2758955214904235,\n",
              "  5.266927248409816,\n",
              "  5.258652999000212,\n",
              "  5.25031656624978,\n",
              "  5.24154283780637,\n",
              "  5.233103379216687,\n",
              "  5.22443466268034,\n",
              "  5.216305485337467,\n",
              "  5.208288825620122,\n",
              "  5.200470086812973,\n",
              "  5.192717636439426,\n",
              "  5.184789382121602,\n",
              "  5.1774054464479775,\n",
              "  5.16983183353178,\n",
              "  5.162234530105591,\n",
              "  5.154530672043089,\n",
              "  5.1468167383839765,\n",
              "  5.139651148617268,\n",
              "  5.132344347488049,\n",
              "  5.125212478857774,\n",
              "  5.118272636646533,\n",
              "  5.110893282240087,\n",
              "  5.104431422384161,\n",
              "  5.097683335204622,\n",
              "  5.091157657552649,\n",
              "  5.084502550503787,\n",
              "  5.077712666170441,\n",
              "  5.071207369514133,\n",
              "  5.065257276768307,\n",
              "  5.0586392354284015,\n",
              "  5.052365692287472,\n",
              "  5.046267147870131,\n",
              "  5.039915560475596,\n",
              "  5.0338003073136015,\n",
              "  5.028056768022735,\n",
              "  5.022392729733088,\n",
              "  5.0164825251962055,\n",
              "  5.010867205503825,\n",
              "  5.005289918208282,\n",
              "  4.9992117027918495,\n",
              "  4.993617324134372,\n",
              "  4.988031995672928,\n",
              "  4.982554666606429,\n",
              "  4.977089388711112,\n",
              "  4.971687646865845,\n",
              "  4.966349331599015,\n",
              "  4.961135937089374,\n",
              "  4.955739083893691,\n",
              "  4.950575586954753,\n",
              "  4.945330982923507,\n",
              "  4.940626736575772,\n",
              "  4.936165412325918,\n",
              "  4.931230445229934,\n",
              "  4.9262357151217575,\n",
              "  4.921521056955511,\n",
              "  4.916855563255678,\n",
              "  4.9124087985261475,\n",
              "  4.907617802052271,\n",
              "  4.902878318086883,\n",
              "  4.898249752886155,\n",
              "  4.893841253358718,\n",
              "  4.889168858472691,\n",
              "  4.884690615924107,\n",
              "  4.880562837699364,\n",
              "  4.876040692138672,\n",
              "  4.871915502168916,\n",
              "  4.86742902933541,\n",
              "  4.863246190306846,\n",
              "  4.859003305861404,\n",
              "  4.85488653839959,\n",
              "  4.851082173289515,\n",
              "  4.846764631952558,\n",
              "  4.842559336625813,\n",
              "  4.838851836297823,\n",
              "  4.835172341269415,\n",
              "  4.8312352878816665,\n",
              "  4.8273665123699825,\n",
              "  4.823817930120103,\n",
              "  4.820074793951852,\n",
              "  4.816390645830255,\n",
              "  4.812469936740336,\n",
              "  4.808470799575249,\n",
              "  4.804779097502713,\n",
              "  4.800915996069761,\n",
              "  4.79746582637689,\n",
              "  4.794142579448466,\n",
              "  4.790719565473838,\n",
              "  4.787394479356631,\n",
              "  4.7837486277632975,\n",
              "  4.7802733833312985,\n",
              "  4.776801109503751,\n",
              "  4.77360962844131,\n",
              "  4.770170486290467,\n",
              "  4.766720327209024,\n",
              "  4.763197205985465,\n",
              "  4.759932346668058,\n",
              "  4.756544711163654,\n",
              "  4.753108557004195,\n",
              "  4.749705932790583,\n",
              "  4.746880702881586,\n",
              "  4.743719914332385,\n",
              "  4.740591534938452,\n",
              "  4.737369715551815,\n",
              "  4.734148946343181,\n",
              "  4.731388780460801,\n",
              "  4.72819233028977,\n",
              "  4.725159091597878,\n",
              "  4.722523050089495,\n",
              "  4.719713045843116,\n",
              "  4.716997111277147,\n",
              "  4.7140884863305414,\n",
              "  4.711309466748625,\n",
              "  4.708345072365662,\n",
              "  4.705590646564961,\n",
              "  4.702585204696655,\n",
              "  4.69964241884451,\n",
              "  4.697066272155829,\n",
              "  4.6942839581506295,\n",
              "  4.107118263244629,\n",
              "  4.098514213562011,\n",
              "  4.113750616709392,\n",
              "  4.096560451984406,\n",
              "  4.095669012069703,\n",
              "  4.092911909421285,\n",
              "  4.0901422023773195,\n",
              "  4.078663976192474,\n",
              "  4.0721318520439995,\n",
              "  4.077491572380066,\n",
              "  4.077558270367709,\n",
              "  4.0765803464253745,\n",
              "  4.078679673855121,\n",
              "  4.078026304926191,\n",
              "  4.078184734344482,\n",
              "  4.081816163063049,\n",
              "  4.086235989963307,\n",
              "  4.0834496196111045,\n",
              "  4.083014184550235,\n",
              "  4.0835500898361206,\n",
              "  4.082600630351475,\n",
              "  4.078713082400236,\n",
              "  4.076446427469668,\n",
              "  4.075118810335795,\n",
              "  4.074393054962158,\n",
              "  4.075767928270193,\n",
              "  4.075477472587868,\n",
              "  4.073727517468589,\n",
              "  4.0744209013314086,\n",
              "  4.074134634971618,\n",
              "  4.07298530209449,\n",
              "  4.070351196527481,\n",
              "  4.0699716862765225,\n",
              "  4.069727054764242,\n",
              "  4.069908241816929,\n",
              "  4.070182179609935,\n",
              "  4.069722227148108,\n",
              "  4.068660518746627,\n",
              "  4.067985425851284,\n",
              "  4.067687966823578,\n",
              "  4.069058394780973,\n",
              "  4.069732463473366,\n",
              "  4.0697432804107665,\n",
              "  4.067943096160889,\n",
              "  4.067773566140069,\n",
              "  4.066495312815127,\n",
              "  4.066121695904021,\n",
              "  4.0655526494979854,\n",
              "  4.064995206521482,\n",
              "  4.064347632217407,\n",
              "  4.063336354236977,\n",
              "  4.063940391907325,\n",
              "  4.063607194288721,\n",
              "  4.0624309372018885,\n",
              "  4.060799978776411,\n",
              "  4.060533281564712,\n",
              "  4.06094985828065,\n",
              "  4.060556542626743,\n",
              "  4.061972650269331,\n",
              "  4.061563092072805,\n",
              "  4.061584697942265,\n",
              "  4.061748882416756,\n",
              "  4.06247714360555,\n",
              "  4.06295422077179,\n",
              "  4.063118800970225,\n",
              "  4.062744518193331,\n",
              "  4.062508881981693,\n",
              "  4.062012758114759,\n",
              "  4.061694223016932,\n",
              "  4.060950715201241,\n",
              "  4.060538355464667,\n",
              "  4.0598991617891524,\n",
              "  4.059696532079618,\n",
              "  4.059414528382791,\n",
              "  4.059996763737996,\n",
              "  4.059396382131075,\n",
              "  4.058777440801843,\n",
              "  4.058020181289086,\n",
              "  4.05743357042723,\n",
              "  4.05706222307682,\n",
              "  4.056102739734414,\n",
              "  4.055473805171688,\n",
              "  4.054264376077307,\n",
              "  4.054361666043599,\n",
              "  4.053923595877254,\n",
              "  4.054526086075361,\n",
              "  4.054527289730379,\n",
              "  4.054606141393835,\n",
              "  4.054055992619375,\n",
              "  4.0532395157284205,\n",
              "  4.053266634783902,\n",
              "  4.052497062683106,\n",
              "  4.052234520143078,\n",
              "  4.052399397099272,\n",
              "  4.0528757595263025,\n",
              "  4.052211367686589,\n",
              "  4.051541274257542,\n",
              "  4.051392132700706,\n",
              "  4.050730867482195,\n",
              "  4.050963431453705,\n",
              "  4.050744807838213,\n",
              "  4.050769500358432,\n",
              "  4.050915004396901,\n",
              "  4.050710179897455,\n",
              "  4.0504005315871465,\n",
              "  4.050464555362486,\n",
              "  4.050351753323992,\n",
              "  4.0500080578415485,\n",
              "  4.049789514191653,\n",
              "  4.049880884777416,\n",
              "  4.04928569037635,\n",
              "  4.049092461807387,\n",
              "  4.048680347932123,\n",
              "  4.048142295552974,\n",
              "  4.047384791581527,\n",
              "  4.04705106299499,\n",
              "  4.047238510898036,\n",
              "  4.046621471906112,\n",
              "  4.046603156418359,\n",
              "  4.046647640705109,\n",
              "  4.046233380845756,\n",
              "  4.046555368001344,\n",
              "  4.046546319790972,\n",
              "  4.046710720831348,\n",
              "  4.046464801483154,\n",
              "  4.04614400303553,\n",
              "  4.0456683213692015,\n",
              "  4.045975670590996,\n",
              "  4.045799400196519,\n",
              "  4.04533260675577,\n",
              "  4.045275556840969,\n",
              "  4.045442035559452,\n",
              "  4.045018579870239,\n",
              "  4.044680194641227,\n",
              "  4.044293408075968,\n",
              "  4.044205343863544,\n",
              "  4.04379571698878,\n",
              "  4.043651577078778,\n",
              "  4.043625668450225,\n",
              "  4.043007949147905,\n",
              "  4.042642989462995,\n",
              "  4.0425407504363795,\n",
              "  4.042331915035114,\n",
              "  4.042203698688083,\n",
              "  4.042133383126094,\n",
              "  4.041884848385641,\n",
              "  4.041442048338806,\n",
              "  4.041307791310388,\n",
              "  4.041481186527534,\n",
              "  4.041254335657755,\n",
              "  4.040861515462004,\n",
              "  4.040487779818083,\n",
              "  4.040262190500895,\n",
              "  4.0403433026276625,\n",
              "  4.040383582638156,\n",
              "  4.040131184015519,\n",
              "  4.039783109312604,\n",
              "  4.03971731330775,\n",
              "  4.039462866693173,\n",
              "  4.0390857194066045,\n",
              "  4.039102172259218,\n",
              "  4.038983761528392,\n",
              "  4.038787469337323,\n",
              "  4.0384629574054625,\n",
              "  4.038189479134299,\n",
              "  4.038084941484842,\n",
              "  4.0379496307715685,\n",
              "  4.037807169187636,\n",
              "  4.037907463502601,\n",
              "  4.037330154026256,\n",
              "  4.037057883223595,\n",
              "  4.036932247017705,\n",
              "  4.036720810046774,\n",
              "  4.036742995634846,\n",
              "  4.036504816981724,\n",
              "  4.0364713816209274,\n",
              "  4.036268025737698,\n",
              "  4.036168567678901,\n",
              "  4.035860391542232,\n",
              "  4.03602061896854,\n",
              "  4.036017464379579,\n",
              "  4.035819142205375,\n",
              "  4.035635863653297,\n",
              "  4.0354857704950415,\n",
              "  4.035250967695906,\n",
              "  4.0347691059625275,\n",
              "  4.034676088802318,\n",
              "  4.034365889417364,\n",
              "  4.034390381555709,\n",
              "  4.03443061587685,\n",
              "  4.034672876677588,\n",
              "  4.034552571028471,\n",
              "  4.034608505081018,\n",
              "  4.034662185944232,\n",
              "  4.034370309682993,\n",
              "  4.034166509083339,\n",
              "  4.034052383935996,\n",
              "  4.033775295777755,\n",
              "  4.033861614064356,\n",
              "  4.033377077245713,\n",
              "  4.033327230387066,\n",
              "  4.033289345184175,\n",
              "  4.032874037268127,\n",
              "  4.0327331273696005,\n",
              "  4.032563835934895,\n",
              "  4.032356964176141,\n",
              "  4.032214723209252,\n",
              "  4.032014997097162,\n",
              "  4.03201837042302,\n",
              "  4.031975320407322,\n",
              "  4.031974651915202,\n",
              "  4.031474154670284,\n",
              "  4.031201822880848,\n",
              "  4.030848549370454,\n",
              "  4.030802303003711,\n",
              "  4.030652401888812,\n",
              "  4.030264722103348,\n",
              "  4.030515231080011,\n",
              "  4.03052109552845,\n",
              "  4.0303794364495715,\n",
              "  4.030499291053185,\n",
              "  4.030094443226719,\n",
              "  4.029796164303082,\n",
              "  4.029476329726832,\n",
              "  4.029385285398695,\n",
              "  4.028969577856824,\n",
              "  4.028698093313477,\n",
              "  4.0283613141377765],\n",
              " [3.835175609588623,\n",
              "  3.814097533226013,\n",
              "  3.826923583348592,\n",
              "  3.8518219947814942,\n",
              "  3.856325313568115,\n",
              "  3.8617954079310097,\n",
              "  3.864121037891933,\n",
              "  3.865623759031296,\n",
              "  3.865538169013129,\n",
              "  3.8654806165695192,\n",
              "  3.8645195042003286,\n",
              "  3.862718651294708,\n",
              "  3.8589197701674243,\n",
              "  3.859431759289333,\n",
              "  3.8564638799031576,\n",
              "  3.8569197541475297,\n",
              "  3.8579652286978328,\n",
              "  3.8578169197506376,\n",
              "  3.8551263894532855,\n",
              "  3.852800862789154,\n",
              "  3.8519072332836335,\n",
              "  3.8509295910054986,\n",
              "  3.852211108000382,\n",
              "  3.8543191623687743,\n",
              "  3.8532508068084717,\n",
              "  3.854993017636813,\n",
              "  3.8522161109359176,\n",
              "  3.8522179644448418,\n",
              "  3.7648635482788086,\n",
              "  3.7765002727508543,\n",
              "  3.771417455673218,\n",
              "  3.781033914089203,\n",
              "  3.7850334568023682,\n",
              "  3.781253226598104,\n",
              "  3.7830163751329695,\n",
              "  3.7804558062553406,\n",
              "  3.780788548787435,\n",
              "  3.7814967679977416,\n",
              "  3.786984643936157,\n",
              "  3.785992652575175,\n",
              "  3.784277071586022,\n",
              "  3.7836526598249165,\n",
              "  3.7830419654846192,\n",
              "  3.7804479491710663,\n",
              "  3.7815912117677577,\n",
              "  3.7878256400426227,\n",
              "  3.7858914109280235,\n",
              "  3.787756055831909,\n",
              "  3.783481366293771,\n",
              "  3.782493960207159,\n",
              "  3.782043636156165,\n",
              "  3.7814353064695996,\n",
              "  3.7820962657928465,\n",
              "  3.7805806079277624,\n",
              "  3.7797287736115632,\n",
              "  3.782999936853136])"
            ]
          },
          "execution_count": 23,
          "metadata": {},
          "output_type": "execute_result"
        }
      ],
      "source": [
        "train(pengi.to(device),train_loader,val_loader,2,25,optimizer,scheduler,grad_acc=4)"
      ]
    },
    {
      "cell_type": "code",
      "execution_count": null,
      "metadata": {
        "colab": {
          "base_uri": "https://localhost:8080/"
        },
        "id": "VGonwZbA0jOr",
        "outputId": "9294ecbf-d26e-4836-d82a-17639d969226"
      },
      "outputs": [
        {
          "name": "stdout",
          "output_type": "stream",
          "text": [
            "Mounted at /content/drive\n"
          ]
        }
      ],
      "source": [
        "from google.colab import drive\n",
        "drive.mount('/content/drive')"
      ]
    },
    {
      "cell_type": "code",
      "execution_count": null,
      "metadata": {
        "id": "3MSApK3J0kWB"
      },
      "outputs": [],
      "source": [
        "file_path = '/content/drive/MyDrive/ALM_models/ALM_Whisper_test22_full.pt'\n",
        "torch.save(pengi.state_dict(), file_path)"
      ]
    },
    {
      "cell_type": "code",
      "execution_count": null,
      "metadata": {
        "id": "1k-W08OBNtac"
      },
      "outputs": [],
      "source": [
        "state_dict = torch.load('/content/drive/MyDrive/ALM_models/ALM_Whisper_test22_full.pt')\n",
        "pengi.load_state_dict(state_dict)"
      ]
    },
    {
      "cell_type": "code",
      "execution_count": null,
      "metadata": {
        "colab": {
          "base_uri": "https://localhost:8080/"
        },
        "id": "efcaBBNtQtGE",
        "outputId": "7377b10b-d57c-42fb-fce1-23d8abde8c03"
      },
      "outputs": [
        {
          "name": "stdout",
          "output_type": "stream",
          "text": [
            "Collecting torchmetrics\n",
            "  Downloading torchmetrics-1.0.1-py3-none-any.whl (729 kB)\n",
            "\u001b[?25l     \u001b[90m━━━━━━━━━━━━━━━━━━━━━━━━━━━━━━━━━━━━━━━━\u001b[0m \u001b[32m0.0/729.2 kB\u001b[0m \u001b[31m?\u001b[0m eta \u001b[36m-:--:--\u001b[0m\r\u001b[2K     \u001b[90m━━━━━━━━━━━━━━━━━━━━━━━━━━━━━━━━━━━━━━\u001b[0m \u001b[32m729.2/729.2 kB\u001b[0m \u001b[31m32.0 MB/s\u001b[0m eta \u001b[36m0:00:00\u001b[0m\n",
            "\u001b[?25hRequirement already satisfied: numpy>1.20.0 in /usr/local/lib/python3.10/dist-packages (from torchmetrics) (1.22.4)\n",
            "Requirement already satisfied: torch>=1.8.1 in /usr/local/lib/python3.10/dist-packages (from torchmetrics) (2.0.1+cu118)\n",
            "Requirement already satisfied: packaging in /usr/local/lib/python3.10/dist-packages (from torchmetrics) (23.1)\n",
            "Collecting lightning-utilities>=0.7.0 (from torchmetrics)\n",
            "  Downloading lightning_utilities-0.9.0-py3-none-any.whl (23 kB)\n",
            "Requirement already satisfied: typing-extensions in /usr/local/lib/python3.10/dist-packages (from lightning-utilities>=0.7.0->torchmetrics) (4.7.1)\n",
            "Requirement already satisfied: filelock in /usr/local/lib/python3.10/dist-packages (from torch>=1.8.1->torchmetrics) (3.12.2)\n",
            "Requirement already satisfied: sympy in /usr/local/lib/python3.10/dist-packages (from torch>=1.8.1->torchmetrics) (1.11.1)\n",
            "Requirement already satisfied: networkx in /usr/local/lib/python3.10/dist-packages (from torch>=1.8.1->torchmetrics) (3.1)\n",
            "Requirement already satisfied: jinja2 in /usr/local/lib/python3.10/dist-packages (from torch>=1.8.1->torchmetrics) (3.1.2)\n",
            "Requirement already satisfied: triton==2.0.0 in /usr/local/lib/python3.10/dist-packages (from torch>=1.8.1->torchmetrics) (2.0.0)\n",
            "Requirement already satisfied: cmake in /usr/local/lib/python3.10/dist-packages (from triton==2.0.0->torch>=1.8.1->torchmetrics) (3.25.2)\n",
            "Requirement already satisfied: lit in /usr/local/lib/python3.10/dist-packages (from triton==2.0.0->torch>=1.8.1->torchmetrics) (16.0.6)\n",
            "Requirement already satisfied: MarkupSafe>=2.0 in /usr/local/lib/python3.10/dist-packages (from jinja2->torch>=1.8.1->torchmetrics) (2.1.3)\n",
            "Requirement already satisfied: mpmath>=0.19 in /usr/local/lib/python3.10/dist-packages (from sympy->torch>=1.8.1->torchmetrics) (1.3.0)\n",
            "Installing collected packages: lightning-utilities, torchmetrics\n",
            "Successfully installed lightning-utilities-0.9.0 torchmetrics-1.0.1\n"
          ]
        }
      ],
      "source": [
        "!pip install torchmetrics\n",
        "from torchmetrics.functional import word_error_rate"
      ]
    },
    {
      "cell_type": "code",
      "execution_count": null,
      "metadata": {
        "id": "mERhpZpTR0uW"
      },
      "outputs": [],
      "source": [
        "def generate_text(input_embeddings, model, tokenizer, temperature=1.0, max_length=100, eos_token_id=None):\n",
        "    # Assume input_embeddings is a tensor of shape [1, seq_len, hidden_size]\n",
        "    past_key_values = None\n",
        "    generated_tokens = []\n",
        "    print(input_embeddings.shape)\n",
        "    # Apply softmax to logits to get token probabilities\n",
        "    softmax = torch.nn.functional.softmax\n",
        "    for i in range(max_length):\n",
        "\n",
        "        outputs = model.gpt2(inputs_embeds=input_embeddings,past_key_values=None)\n",
        "        logits = outputs.logits\n",
        "        past_key_values = outputs.past_key_values\n",
        "\n",
        "        # Apply a temperature to the logits to control the randomness of the predictions\n",
        "        scaled_logits = logits[:, -1, :] / temperature\n",
        "        \"\"\"\n",
        "        For getting a multinomial distribution for sampling next token use the below code\n",
        "        next_token = torch.multinomial(softmax(scaled_logits, dim=-1), num_samples=1)\n",
        "        \"\"\"\n",
        "        next_token = torch.argmax(torch.softmax(scaled_logits, dim=-1), dim=-1).unsqueeze(-1)\n",
        "        generated_tokens.append(next_token.item())\n",
        "        next_embeds = model.gpt2.transformer.wte(next_token)\n",
        "        input_embeddings=torch.concat([input_embeddings,next_embeds],axis=1)\n",
        "        if eos_token_id is not None and next_token == eos_token_id:\n",
        "            break\n",
        "\n",
        "    # Convert the list of output tokens into a string\n",
        "    output_text = tokenizer.decode(generated_tokens,skip_special_tokens=True)\n",
        "    return output_text"
      ]
    },
    {
      "cell_type": "code",
      "execution_count": null,
      "metadata": {
        "id": "kf9h9EZGR8vw"
      },
      "outputs": [],
      "source": [
        "from tqdm import tqdm\n",
        "#Inference time modelling for observing the wer\n",
        "#Returns wer over the testing loader model\n",
        "def predict(model,test_loader,tokenizer):\n",
        "  wer_sum=[]\n",
        "  model.eval()\n",
        "  with torch.no_grad():\n",
        "    for i,(audio,labels,prompt) in tqdm(enumerate(test_loader)):\n",
        "      if(i==100):\n",
        "        break\n",
        "      arr=-100*torch.ones(labels.shape)\n",
        "      mask=arr==labels.cpu()\n",
        "      labels=labels.cpu()\n",
        "      labels=labels.masked_fill(mask,50256)#Removing all -100 with EOS\n",
        "      predicted=[]\n",
        "      ground_truth=tokenizer.batch_decode(labels.cpu().detach(),skip_special_tokens=True)\n",
        "      for bat in range(labels.shape[0]):\n",
        "        audio_inp=audio[bat:bat+1,:,:]\n",
        "        prompt_inp=prompt[bat:bat+1,:]\n",
        "        audio_embeds=model.whisper_encoder(audio_inp)[0]\n",
        "        audio_embeds=model.mapping(audio_embeds)\n",
        "\n",
        "        predicted.append(generate_text(audio_embeds,model,tokenizer,1,100,tokenizer.eos_token))\n",
        "      print(\"Gt\")\n",
        "      for gt in ground_truth:\n",
        "        print(gt)\n",
        "      print(\"Pred\")\n",
        "      for pred in predicted:\n",
        "        print(pred)\n",
        "      wer_sum.append(word_error_rate(predicted,ground_truth))\n",
        "  return wer_sum"
      ]
    },
    {
      "cell_type": "code",
      "execution_count": null,
      "metadata": {
        "colab": {
          "base_uri": "https://localhost:8080/"
        },
        "id": "A6VfbVHNSpP3",
        "outputId": "42ad4b41-a9e8-4850-e1d8-b99284d08601"
      },
      "outputs": [
        {
          "name": "stderr",
          "output_type": "stream",
          "text": [
            "\r0it [00:00, ?it/s]"
          ]
        },
        {
          "name": "stdout",
          "output_type": "stream",
          "text": [
            "torch.Size([1, 100, 768])\n",
            "torch.Size([1, 100, 768])\n",
            "torch.Size([1, 100, 768])\n",
            "torch.Size([1, 100, 768])\n"
          ]
        },
        {
          "name": "stderr",
          "output_type": "stream",
          "text": [
            "/usr/local/lib/python3.10/dist-packages/torchmetrics/utilities/prints.py:69: FutureWarning: Importing `word_error_rate` from `torchmetrics.functional` was deprecated and will be removed in 2.0. Import `word_error_rate` from `torchmetrics.text` instead.\n",
            "  _future_warning(\n",
            "\r1it [00:06,  6.34s/it]"
          ]
        },
        {
          "name": "stdout",
          "output_type": "stream",
          "text": [
            "Gt\n",
            "SHE WAS NOT THERE MONTHS BEFORE SHE HAD BEEN BURIED IN THE SANDS OF THE PLATTE VALLEY MY YOUNGER BROTHER ALSO LAY BURIED ON THE PLAINS NEAR INDEPENDENCE ROCK\n",
            "THE PITTING OF STRENGTH AND CRAFT AGAINST STRENGTH AND CRAFT THE TIRELESS STRUGGLE THE EXULTATION OF VICTORY THEN SUDDENLY THEY HAD FAILED THEIR WORSHIPPER THEY CEASED TO SATISFY\n",
            "MISSUS HERNDON WAS STANDING BEHIND A DESK WHEN WE WERE BROUGHT INTO THIS OFFICE AND THERE WERE FIVE OR SIX MEN ALSO IN THE ROOM\n",
            "IT IS A CORRECTIVE THE GOOD GOD HAVING MADE THE MOUSE SAID HULLO I HAVE COMMITTED A BLUNDER AND SO HE MADE THE CAT THE CAT IS THE ERRATUM OF THE MOUSE\n",
            "Pred\n",
            "AND THE MOST IMPORTANT OF ALL THE MOST IMPORTANT OF ALL THE MOST IMPORTANT OF ALL THE MOST IMPORTANT OF ALL THE MOST IMPORTANT OF ALL THE MOST IMPORTANT OF ALL THE MOST IMPORTANT OF ALL THE MOST IMPORTANT OF ALL THE MOST IMPORTANT OF ALL THE MOST IMPORTANT OF ALL THE MOST IMPORTANT OF ALL THE MOST IMPORTANT OF ALL THE MOST\n",
            "AND THE MOST IMPORTANT OF ALL THE MOST IMPORTANT OF ALL THE MOST IMPORTANT OF ALL THE MOST IMPORTANT OF ALL THE MOST IMPORTANT OF ALL THE MOST IMPORTANT OF ALL THE MOST IMPORTANT OF ALL THE MOST IMPORTANT OF ALL THE MOST IMPORTANT OF ALL THE MOST IMPORTANT OF ALL THE MOST IMPORTANT OF ALL THE MOST IMPORTANT OF ALL THE MOST\n",
            "AND THE MOST IMPORTANT OF ALL THE MOST IMPORTANT OF ALL THE MOST IMPORTANT OF ALL THE MOST IMPORTANT OF ALL THE MOST IMPORTANT OF ALL THE MOST IMPORTANT OF ALL THE MOST IMPORTANT OF ALL THE MOST IMPORTANT OF ALL THE MOST IMPORTANT OF ALL THE MOST IMPORTANT OF ALL THE MOST IMPORTANT OF ALL THE MOST IMPORTANT OF ALL THE MOST\n",
            "AND THE MOST IMPORTANT OF ALL THE MOST IMPORTANT OF ALL THE MOST IMPORTANT OF ALL THE MOST IMPORTANT OF ALL THE MOST IMPORTANT OF ALL THE MOST IMPORTANT OF ALL THE MOST IMPORTANT OF ALL THE MOST IMPORTANT OF ALL THE MOST IMPORTANT OF ALL THE MOST IMPORTANT OF ALL THE MOST IMPORTANT OF ALL THE MOST IMPORTANT OF ALL THE MOST\n",
            "torch.Size([1, 100, 768])\n",
            "torch.Size([1, 100, 768])\n",
            "torch.Size([1, 100, 768])\n",
            "torch.Size([1, 100, 768])\n"
          ]
        },
        {
          "name": "stderr",
          "output_type": "stream",
          "text": [
            "\r2it [00:12,  6.28s/it]"
          ]
        },
        {
          "name": "stdout",
          "output_type": "stream",
          "text": [
            "Gt\n",
            "THEN THE PARTY PROCEEDED IN A BODY TO THE MISSING MAN'S HOUSE HERE ANOTHER SURPRISE AWAITED THEM THE COAT WAS AT ONCE RECOGNISED BY MISSUS SAVAREEN AS BELONGING TO HER HUSBAND BUT IT WAS NOT THE COAT WORN BY HIM AT THE TIME OF HIS DISAPPEARANCE OF THIS THERE WAS NO DOUBT WHATEVER\n",
            "AND THE TRAINING OF THE YOUNG IDEA SELDOM APPEALED TO THE SENSE OF HUMOR YOU MUST STAY AFTER SCHOOL AND TRY AGAIN REBECCA SHE SAID BUT SHE SAID IT SMILINGLY YOUR POETRY HASN'T A VERY NICE IDEA IN IT FOR A GOOD LITTLE GIRL WHO OUGHT TO LOVE DUTY\n",
            "WAS IT A WONDER IF NOW AND THEN IT PUT HIS CENTRE INTO DISORDER THE DUCE TAKE IT SAID MY UNCLE TOBY\n",
            "YOU WANT TO PLEAD FOR HIM CARLING FLUNG OUT GRUFFLY WELL HE SHOULD HAVE THOUGHT OF ALL THAT BEFORE IT'S QUITE USELESS FOR YOU TO BRING IT UP THE MAN HAS HAD HIS CHANCE ALREADY\n",
            "Pred\n",
            "AND THE MOST IMPORTANT OF ALL THE MOST IMPORTANT OF ALL THE MOST IMPORTANT OF ALL THE MOST IMPORTANT OF ALL THE MOST IMPORTANT OF ALL THE MOST IMPORTANT OF ALL THE MOST IMPORTANT OF ALL THE MOST IMPORTANT OF ALL THE MOST IMPORTANT OF ALL THE MOST IMPORTANT OF ALL THE MOST IMPORTANT OF ALL THE MOST IMPORTANT OF ALL THE MOST\n",
            "AND THE MOST IMPORTANT OF ALL THE MOST IMPORTANT OF ALL THE MOST IMPORTANT OF ALL THE MOST IMPORTANT OF ALL THE MOST IMPORTANT OF ALL THE MOST IMPORTANT OF ALL THE MOST IMPORTANT OF ALL THE MOST IMPORTANT OF ALL THE MOST IMPORTANT OF ALL THE MOST IMPORTANT OF ALL THE MOST IMPORTANT OF ALL THE MOST IMPORTANT OF ALL THE MOST\n",
            "AND THE MOST IMPORTANT OF ALL THE MOST IMPORTANT OF ALL THE MOST IMPORTANT OF ALL THE MOST IMPORTANT OF ALL THE MOST IMPORTANT OF ALL THE MOST IMPORTANT OF ALL THE MOST IMPORTANT OF ALL THE MOST IMPORTANT OF ALL THE MOST IMPORTANT OF ALL THE MOST IMPORTANT OF ALL THE MOST IMPORTANT OF ALL THE MOST IMPORTANT OF ALL THE MOST\n",
            "AND THE MOST IMPORTANT OF ALL THE MOST IMPORTANT OF ALL THE MOST IMPORTANT OF ALL THE MOST IMPORTANT OF ALL THE MOST IMPORTANT OF ALL THE MOST IMPORTANT OF ALL THE MOST IMPORTANT OF ALL THE MOST IMPORTANT OF ALL THE MOST IMPORTANT OF ALL THE MOST IMPORTANT OF ALL THE MOST IMPORTANT OF ALL THE MOST IMPORTANT OF ALL THE MOST\n",
            "torch.Size([1, 100, 768])\n",
            "torch.Size([1, 100, 768])\n",
            "torch.Size([1, 100, 768])\n",
            "torch.Size([1, 100, 768])\n"
          ]
        },
        {
          "name": "stderr",
          "output_type": "stream",
          "text": [
            "\r3it [00:18,  6.23s/it]"
          ]
        },
        {
          "name": "stdout",
          "output_type": "stream",
          "text": [
            "Gt\n",
            "DETAIN HIM ON SOME PRETEXT OR OTHER BECAUSE HE IS RATHER DIFFICULT TO GET HOLD OF AND I WANT TO SEE HIM\n",
            "THAT ON THE PART OF THEIR HOSTESS THE GIRL HAD TO RECKON WITH AS SHE ADVANCED IT TOOK HER IN FROM HEAD TO FOOT AND IN DOING SO IT TOLD A STORY THAT MADE POOR DENSHER AGAIN THE LEAST BIT SICK IT MARKED SO SOMETHING WITH WHICH KATE HABITUALLY\n",
            "OF ACTING A FATHER'S PART TO AUGUSTINE UNTIL HE WAS FAIRLY LAUNCHED IN LIFE HE HAD A CHILD OF HIS OWN\n",
            "OR STRANGE MEN MIGHT COME OUT OF THIS INLAND ICE AND KILL OUR PEOPLE WE MUST STAY TOGETHER FARTHER NORTH THEY FOUND ONLY THE SAME BARE FROZEN COUNTRY SO AFTER A WHILE THEY SAILED BACK TO THEIR HOME AND LIVED THERE\n",
            "Pred\n",
            "AND THE MOST IMPORTANT OF ALL THE MOST IMPORTANT OF ALL THE MOST IMPORTANT OF ALL THE MOST IMPORTANT OF ALL THE MOST IMPORTANT OF ALL THE MOST IMPORTANT OF ALL THE MOST IMPORTANT OF ALL THE MOST IMPORTANT OF ALL THE MOST IMPORTANT OF ALL THE MOST IMPORTANT OF ALL THE MOST IMPORTANT OF ALL THE MOST IMPORTANT OF ALL THE MOST\n",
            "AND THE MOST IMPORTANT OF ALL THE MOST IMPORTANT OF ALL THE MOST IMPORTANT OF ALL THE MOST IMPORTANT OF ALL THE MOST IMPORTANT OF ALL THE MOST IMPORTANT OF ALL THE MOST IMPORTANT OF ALL THE MOST IMPORTANT OF ALL THE MOST IMPORTANT OF ALL THE MOST IMPORTANT OF ALL THE MOST IMPORTANT OF ALL THE MOST IMPORTANT OF ALL THE MOST\n",
            "AND THE MOST IMPORTANT OF ALL THE MOST IMPORTANT OF ALL THE MOST IMPORTANT OF ALL THE MOST IMPORTANT OF ALL THE MOST IMPORTANT OF ALL THE MOST IMPORTANT OF ALL THE MOST IMPORTANT OF ALL THE MOST IMPORTANT OF ALL THE MOST IMPORTANT OF ALL THE MOST IMPORTANT OF ALL THE MOST IMPORTANT OF ALL THE MOST IMPORTANT OF ALL THE MOST\n",
            "AND THE MOST IMPORTANT OF ALL THE MOST IMPORTANT OF ALL THE MOST IMPORTANT OF ALL THE MOST IMPORTANT OF ALL THE MOST IMPORTANT OF ALL THE MOST IMPORTANT OF ALL THE MOST IMPORTANT OF ALL THE MOST IMPORTANT OF ALL THE MOST IMPORTANT OF ALL THE MOST IMPORTANT OF ALL THE MOST IMPORTANT OF ALL THE MOST IMPORTANT OF ALL THE MOST\n",
            "torch.Size([1, 100, 768])\n",
            "torch.Size([1, 100, 768])\n",
            "torch.Size([1, 100, 768])\n",
            "torch.Size([1, 100, 768])\n"
          ]
        },
        {
          "name": "stderr",
          "output_type": "stream",
          "text": [
            "\r4it [00:24,  6.23s/it]"
          ]
        },
        {
          "name": "stdout",
          "output_type": "stream",
          "text": [
            "Gt\n",
            "ITS BROAD PORCH AND ADOBE PILLARS HERE HER MOTHER HAD COME AS A BRIDE HERE MARY HAD BEEN BORN EIGHT HAPPY YEARS THEY HAD SPENT TOGETHER BEFORE HER MOTHER DIED AFTER MARY HAD BEEN TAKEN EAST TO SCHOOL HER FATHER HAD RETURNED\n",
            "MY DEAR YOU TUMBLE MY GOWN WAS MISSUS ALLEN'S REPLY HER ASSURANCE HOWEVER STANDING SOLE AS IT DID WAS NOT THROWN AWAY IT BROUGHT A MORE CORDIAL MORE NATURAL SMILE INTO HIS COUNTENANCE\n",
            "AT THE SAME MOMENT HE EXTENDED HIS ARM AND LAID THE GLOWING CHISEL WHICH HE HELD IN HIS LEFT HAND BY ITS WOODEN HANDLE\n",
            "THAT AMIABLE CONTEMPT CALLED POISE HER GLIMPSE OF TASKS INVOLVING MILLIONS OF PEOPLE AND A SCORE OF NATIONS REDUCED MAIN STREET FROM BLOATED IMPORTANCE TO ITS ACTUAL PETTINESS SHE COULD NEVER AGAIN BE QUITE SO AWED BY THE POWER\n",
            "Pred\n",
            "THE MOST IMPORTANT THING OF ALL THE MOST IMPORTANT THINGS OF ALL THE MOST IMPORTANT THINGS OF ALL THE MOST IMPORTANT THINGS OF ALL THE MOST IMPORTANT THINGS OF ALL THE MOST IMPORTANT THINGS OF ALL THE MOST IMPORTANT THINGS OF ALL THE MOST IMPORTANT THINGS OF ALL THE MOST IMPORTANT THINGS OF ALL THE MOST IMPORTANT THINGS OF ALL\n",
            "THE MOST IMPORTANT THING OF ALL THE MOST IMPORTANT THINGS OF ALL THE MOST IMPORTANT THINGS OF ALL THE MOST IMPORTANT THINGS OF ALL THE MOST IMPORTANT THINGS OF ALL THE MOST IMPORTANT THINGS OF ALL THE MOST IMPORTANT THINGS OF ALL THE MOST IMPORTANT THINGS OF ALL THE MOST IMPORTANT THINGS OF ALL THE MOST IMPORTANT THINGS OF ALL\n",
            "AND THE MOST IMPORTANT OF ALL THE MOST IMPORTANT OF ALL THE MOST IMPORTANT OF ALL THE MOST IMPORTANT OF ALL THE MOST IMPORTANT OF ALL THE MOST IMPORTANT OF ALL THE MOST IMPORTANT OF ALL THE MOST IMPORTANT OF ALL THE MOST IMPORTANT OF ALL THE MOST IMPORTANT OF ALL THE MOST IMPORTANT OF ALL THE MOST IMPORTANT OF ALL THE MOST\n",
            "THE MOST IMPORTANT THING OF ALL THE MOST IMPORTANT THINGS OF ALL THE MOST IMPORTANT THINGS OF ALL THE MOST IMPORTANT THINGS OF ALL THE MOST IMPORTANT THINGS OF ALL THE MOST IMPORTANT THINGS OF ALL THE MOST IMPORTANT THINGS OF ALL THE MOST IMPORTANT THINGS OF ALL THE MOST IMPORTANT THINGS OF ALL THE MOST IMPORTANT THINGS OF ALL\n",
            "torch.Size([1, 100, 768])\n",
            "torch.Size([1, 100, 768])\n",
            "torch.Size([1, 100, 768])\n",
            "torch.Size([1, 100, 768])\n"
          ]
        },
        {
          "name": "stderr",
          "output_type": "stream",
          "text": [
            "\r5it [00:31,  6.20s/it]"
          ]
        },
        {
          "name": "stdout",
          "output_type": "stream",
          "text": [
            "Gt\n",
            "AND THERE'RE JUST AS MANY CHANCES FOR A FELLOW AS EVER BUT THEY'RE A LITTLE GUN SHY AND YOU CAN'T CATCH THEM BY ANY SUCH COARSE METHOD AS PUTTING SALT ON THEIR TAILS THIRTY YEARS AGO YOU COULD TAKE AN OLD MUZZLE LOADER AND KNOCK OVER PLENTY OF DUCKS IN THE CITY LIMITS\n",
            "WHO INSISTED UPON REMAINING AT HIS ORDERS HE SUCCEEDED AT LAST HOWEVER BUT EVEN WHEN HE HAD REACHED THE PORTICO ON THE LEFT SIDE OF THE BUILDING\n",
            "IT WAS WELL FOR HIM THAT SHE HAD COME UPON HIM IN HIS SORROW WHEN HE ONCE KNEW THAT SHE HAD SEEN HIS TEARS\n",
            "YAWNS DISLOCATED MY JAWS MY LUNGS WERE GASPING IN THEIR QUEST FOR THAT ENKINDLING ELASTIC FLUID REQUIRED FOR BREATHING NOW GROWING SCARCER AND SCARCER MY MIND WAS IN A DAZE I LAY OUTSTRETCHED STRENGTH GONE\n",
            "Pred\n",
            "I'M NOT A MAN OF THE WORLD BUT I'M A MAN OF THE WORLD AND I'M A MAN OF THE WORLD AND I'M A MAN OF THE WORLD AND I'M A MAN OF THE WORLD AND I'M A MAN OF THE WORLD AND I'M A MAN OF THE WORLD AND I'M A MAN OF THE WORLD AND I'M A MAN OF THE WORLD AND I'M A MAN OF THE WORLD AND I'M A MAN OF THE WORLD AND\n",
            "AND THE MOST IMPORTANT OF ALL THE MOST IMPORTANT OF ALL THE MOST IMPORTANT OF ALL THE MOST IMPORTANT OF ALL THE MOST IMPORTANT OF ALL THE MOST IMPORTANT OF ALL THE MOST IMPORTANT OF ALL THE MOST IMPORTANT OF ALL THE MOST IMPORTANT OF ALL THE MOST IMPORTANT OF ALL THE MOST IMPORTANT OF ALL THE MOST IMPORTANT OF ALL THE MOST\n",
            "AND THE MOST IMPORTANT OF ALL THE MOST IMPORTANT OF ALL THE MOST IMPORTANT OF ALL THE MOST IMPORTANT OF ALL THE MOST IMPORTANT OF ALL THE MOST IMPORTANT OF ALL THE MOST IMPORTANT OF ALL THE MOST IMPORTANT OF ALL THE MOST IMPORTANT OF ALL THE MOST IMPORTANT OF ALL THE MOST IMPORTANT OF ALL THE MOST IMPORTANT OF ALL THE MOST\n",
            "THE MOST IMPORTANT THING OF ALL THE MOST IMPORTANT THINGS OF ALL THE MOST IMPORTANT THINGS OF ALL THE MOST IMPORTANT THINGS OF ALL THE MOST IMPORTANT THINGS OF ALL THE MOST IMPORTANT THINGS OF ALL THE MOST IMPORTANT THINGS OF ALL THE MOST IMPORTANT THINGS OF ALL THE MOST IMPORTANT THINGS OF ALL THE MOST IMPORTANT THINGS OF ALL\n",
            "torch.Size([1, 100, 768])\n",
            "torch.Size([1, 100, 768])\n",
            "torch.Size([1, 100, 768])\n",
            "torch.Size([1, 100, 768])\n"
          ]
        },
        {
          "name": "stderr",
          "output_type": "stream",
          "text": [
            "\r6it [00:37,  6.21s/it]"
          ]
        },
        {
          "name": "stdout",
          "output_type": "stream",
          "text": [
            "Gt\n",
            "WE WILL GET SOMETHING TO EAT AND THEN WE WILL SEE ABOUT MAKING YOU LUCKY THEY WENT TO THE RIVER BANK AND HAD A GOOD DINNER THE BACHELOR ATE MORE THAN BIG BROTHER FOR HIS MOUTH WAS NOT SORE BUT BIG BROTHER WAS VERY HAPPY\n",
            "WHEN THE FLOWER QUEEN'S DAUGHTER DEPARTED AND WENT HOME TO HER MOTHER\n",
            "THE WIND HAD BEEN RISING AT INTERVALS THE WHOLE AFTERNOON AND BY THE TIME THE PARTY BROKE UP IT BLEW AND RAINED VIOLENTLY CATHERINE AS SHE CROSSED THE HALL LISTENED TO THE TEMPEST WITH SENSATIONS OF AWE AND WHEN SHE HEARD IT RAGE ROUND A CORNER OF THE ANCIENT BUILDING AND CLOSE WITH SUDDEN FURY A DISTANT DOOR\n",
            "AND TO DO THAT HE WILL HAVE TO USE THE WIRELESS SOMEHOW IT SEEMS LIKELY THAT HE WOULD MAKE HIS EFFORT AT NIGHT\n",
            "Pred\n",
            "AND THE MOST IMPORTANT THING OF ALL THE MOST IMPORTANT THINGS OF ALL THE MOST IMPORTANT THINGS OF ALL THE MOST IMPORTANT THINGS OF ALL THE MOST IMPORTANT THINGS OF ALL THE MOST IMPORTANT THINGS OF ALL THE MOST IMPORTANT THINGS OF ALL THE MOST IMPORTANT THINGS OF ALL THE MOST IMPORTANT THINGS OF ALL THE MOST IMPORTANT THINGS OF\n",
            "THE MOST IMPORTANT THING OF ALL THE MOST IMPORTANT THINGS OF ALL THE MOST IMPORTANT THINGS OF ALL THE MOST IMPORTANT THINGS OF ALL THE MOST IMPORTANT THINGS OF ALL THE MOST IMPORTANT THINGS OF ALL THE MOST IMPORTANT THINGS OF ALL THE MOST IMPORTANT THINGS OF ALL THE MOST IMPORTANT THINGS OF ALL THE MOST IMPORTANT THINGS OF ALL\n",
            "AND THE MOST IMPORTANT OF ALL THE MOST IMPORTANT OF ALL THE MOST IMPORTANT OF ALL THE MOST IMPORTANT OF ALL THE MOST IMPORTANT OF ALL THE MOST IMPORTANT OF ALL THE MOST IMPORTANT OF ALL THE MOST IMPORTANT OF ALL THE MOST IMPORTANT OF ALL THE MOST IMPORTANT OF ALL THE MOST IMPORTANT OF ALL THE MOST IMPORTANT OF ALL THE MOST\n",
            "AND THE MOST IMPORTANT OF ALL THE MOST IMPORTANT OF ALL THE MOST IMPORTANT OF ALL THE MOST IMPORTANT OF ALL THE MOST IMPORTANT OF ALL THE MOST IMPORTANT OF ALL THE MOST IMPORTANT OF ALL THE MOST IMPORTANT OF ALL THE MOST IMPORTANT OF ALL THE MOST IMPORTANT OF ALL THE MOST IMPORTANT OF ALL THE MOST IMPORTANT OF ALL THE MOST\n",
            "torch.Size([1, 100, 768])\n",
            "torch.Size([1, 100, 768])\n",
            "torch.Size([1, 100, 768])\n",
            "torch.Size([1, 100, 768])\n"
          ]
        },
        {
          "name": "stderr",
          "output_type": "stream",
          "text": [
            "\r7it [00:43,  6.19s/it]"
          ]
        },
        {
          "name": "stdout",
          "output_type": "stream",
          "text": [
            "Gt\n",
            "I HOPE LIGHTNING DOESN'T STRIKE AROUND HERE THE STORM CAME ON RAPIDLY BUT THERE WAS A CURIOUS QUIETNESS IN THE AIR THAT WAS MORE ALARMING THAN IF A WIND HAD BLOWN THE CAMPFIRE BURNED STEADILY\n",
            "HE DARED TO CARRY HIS AMBITIOUS ADDRESSES TO THE QUEEN HERSELF AND HE FAILED NOT TO MAKE IMPRESSION ON A HEART NOT UNDISPOSED TO THE TENDER PASSIONS THAT ATTACHMENT AT LEAST OF THE MIND WHICH APPEARS SO DELICIOUS AND IS SO DANGEROUS\n",
            "AY SWEAT FOR THE HAPPY PRIVILEGE OF OCCUPYING THE SAME ROOM WITH THAT LAMP THROUGH THE COMING WINTER EVENINGS IT LOOKED TO BE ABOUT EIGHT FEET TALL IN THE CATALOGUE AND EMMA JANE ADVISED CLARA BELLE TO MEASURE THE HEIGHT OF THE SIMPSON CEILINGS\n",
            "BUT I DID NOT TURN AWAY REMEMBERING MY MOTHER'S ANXIETY AN ANXIETY SO EXTREME IT DISTURBED HER FINAL MOMENTS I APPROACHED THE FRONT DOOR AND WAS ABOUT TO KNOCK WHEN I FOUND IT OPEN GREATLY ASTONISHED I AT ONCE PASSED IN\n",
            "Pred\n",
            "THE MOST IMPORTANT THING OF ALL THE MOST IMPORTANT THINGS OF ALL THE MOST IMPORTANT THINGS OF ALL THE MOST IMPORTANT THINGS OF ALL THE MOST IMPORTANT THINGS OF ALL THE MOST IMPORTANT THINGS OF ALL THE MOST IMPORTANT THINGS OF ALL THE MOST IMPORTANT THINGS OF ALL THE MOST IMPORTANT THINGS OF ALL THE MOST IMPORTANT THINGS OF ALL\n",
            "AND THE MOST IMPORTANT OF ALL THE MOST IMPORTANT OF ALL THE MOST IMPORTANT OF ALL THE MOST IMPORTANT OF ALL THE MOST IMPORTANT OF ALL THE MOST IMPORTANT OF ALL THE MOST IMPORTANT OF ALL THE MOST IMPORTANT OF ALL THE MOST IMPORTANT OF ALL THE MOST IMPORTANT OF ALL THE MOST IMPORTANT OF ALL THE MOST IMPORTANT OF ALL THE MOST\n",
            "I'M NOT A MAN BUT I'M A MAN AND I'M A MAN AND I'M A MAN AND I'M A MAN AND I'M A MAN AND I'M A MAN AND I'M A MAN AND I'M A MAN AND I'M A MAN AND I'M A MAN AND I'M A MAN AND I'M A MAN AND I'M A MAN AND I'M A MAN AND I'M A MAN AND I'M\n",
            "I'M NOT A MAN BUT I'M A MAN AND I'M A MAN AND I'M A MAN AND I'M A MAN AND I'M A MAN AND I'M A MAN AND I'M A MAN AND I'M A MAN AND I'M A MAN AND I'M A MAN AND I'M A MAN AND I'M A MAN AND I'M A MAN AND I'M A MAN AND I'M A MAN AND I'M\n",
            "torch.Size([1, 100, 768])\n",
            "torch.Size([1, 100, 768])\n",
            "torch.Size([1, 100, 768])\n",
            "torch.Size([1, 100, 768])\n"
          ]
        },
        {
          "name": "stderr",
          "output_type": "stream",
          "text": [
            "\r8it [00:49,  6.20s/it]"
          ]
        },
        {
          "name": "stdout",
          "output_type": "stream",
          "text": [
            "Gt\n",
            "NOT AS HE HAD DONE IN THE PAST WITH NOTHING BUT HER CHARMS WHICH GAVE HIM DELIGHT BUT FOR THE FIRST TIME PICTURING TO HIMSELF HER SOUL AND HE UNDERSTOOD HER FEELINGS HER SUFFERINGS SHAME AND REMORSE\n",
            "AND AWAY HE WENT AS FAST AS HIS LEGS COULD CARRY HIM ON AND ON HE TRAVELLED UNTIL HE CAME TO THE CROSS ROADS AND THE STONE CROSS OF WHICH THE RAVEN SPOKE AND THERE SURE ENOUGH SAT THE TRAVELLER\n",
            "A LEGISLATOR AND A JUDGE A SUPREME JUDGE A SOVEREIGN LEGISLATOR DRESSED IN PURPLE AND ERMINE EQUAL TO PRINCES LIKE UNTO EMPERORS THAT YOU HAVE ON YOUR BROW THE CORONET OF A PEER\n",
            "TEN DAYS OF A RELIGIOUS ARGUMENT THREE TIMES A DAY WOULD BE INTOLERABLE BUT THE CHEERFUL VENZA WOULD HELP SHE NEVER EATS THE MIDDAY MEAL SAID SNAP SHE'S ON THE DECK HAVING ORANGE JUICE I GUESS IT'S THE OLD GAG ABOUT DIET EH\n",
            "Pred\n",
            "AND THE MOST IMPORTANT THING OF ALL THE MOST IMPORTANT THINGS OF ALL THE MOST IMPORTANT THINGS OF ALL THE MOST IMPORTANT THINGS OF ALL THE MOST IMPORTANT THINGS OF ALL THE MOST IMPORTANT THINGS OF ALL THE MOST IMPORTANT THINGS OF ALL THE MOST IMPORTANT THINGS OF ALL THE MOST IMPORTANT THINGS OF ALL THE MOST IMPORTANT THINGS OF\n",
            "I'M NOT A MAN OF THE WORLD I'M NOT A MAN OF THE WORLD I'M NOT A MAN OF THE WORLD I'M NOT A MAN OF THE WORLDThe first time you see a new game you'll be surprised how much you've changed since you first played it. You'll be surprised how much you've changed since you first played it. You'll be surprised how much you've changed since you first played it. You'll be surprised how much you've changed since\n",
            "AND THE MOST IMPORTANT OF ALL THE MOST IMPORTANT OF ALL THE MOST IMPORTANT OF ALL THE MOST IMPORTANT OF ALL THE MOST IMPORTANT OF ALL THE MOST IMPORTANT OF ALL THE MOST IMPORTANT OF ALL THE MOST IMPORTANT OF ALL THE MOST IMPORTANT OF ALL THE MOST IMPORTANT OF ALL THE MOST IMPORTANT OF ALL THE MOST IMPORTANT OF ALL THE MOST\n",
            "I'M NOT A MAN OF THE WORLD BUT I'M A MAN OF THE WORLD AND I'M A MAN OF THE WORLD AND I'M A MAN OF THE WORLD AND I'M A MAN OF THE WORLD AND I'M A MAN OF THE WORLD AND I'M A MAN OF THE WORLD AND I'M A MAN OF THE WORLD AND I'M A MAN OF THE WORLD AND I'M A MAN OF THE WORLD AND I'M A MAN OF THE WORLD AND\n",
            "torch.Size([1, 100, 768])\n",
            "torch.Size([1, 100, 768])\n",
            "torch.Size([1, 100, 768])\n",
            "torch.Size([1, 100, 768])\n"
          ]
        },
        {
          "name": "stderr",
          "output_type": "stream",
          "text": [
            "\r9it [00:55,  6.22s/it]"
          ]
        },
        {
          "name": "stdout",
          "output_type": "stream",
          "text": [
            "Gt\n",
            "PETER RABBIT DELIVERED MOTHER NATURE'S MESSAGE TO JOHNNY CHUCK JOHNNY DIDN'T SEEM AT ALL PLEASED HE GRUMBLED AND GROWLED TO HIMSELF HE DIDN'T WANT TO GO TO SCHOOL HE DIDN'T WANT TO LEARN ANYTHING ABOUT HIS RELATIVES\n",
            "I DO NOT ALLUDE TO THE IMPULSE IT RECEIVED AS SHE GAZED AT THE PYRAMIDS IN THE COURSE OF AN EXCURSION FROM CAIRO OR AS SHE STOOD AMONG THE BROKEN COLUMNS OF THE ACROPOLIS AND FIXED HER EYES UPON THE POINT DESIGNATED TO HER AS THE STRAIT OF SALAMIS\n",
            "THE WOMAN AT THE LAKE AND IN THE COURTYARD THE MOVEMENT OF THE BODY AND THE VANISHING OF THE EVIDENCE UNDER HIS HAND PAREDES'S ODD BEHAVIOUR ALL BECAME IN HIS MIND PUZZLING DETAILS THAT FAILED TO OBSCURE THE CHIEF FACT\n",
            "NOT LESS THAN ONE HUNDRED THOUSAND PERSONS IT WAS ESTIMATED IN THE EVENING PAPERS WERE COLLECTED WITHIN SIGHT AND SOUND OF THE PLATFORM BY NOON AS THE CLOCKS BEGAN TO TELL THE HOUR TWO FIGURES APPEARED FROM BEHIND THE STATUE AND CAME FORWARD AND IN AN INSTANT\n",
            "Pred\n",
            "THE MOST IMPORTANT THING OF ALL THE MOST IMPORTANT THINGS OF ALL THE MOST IMPORTANT THINGS OF ALL THE MOST IMPORTANT THINGS OF ALL THE MOST IMPORTANT THINGS OF ALL THE MOST IMPORTANT THINGS OF ALL THE MOST IMPORTANT THINGS OF ALL THE MOST IMPORTANT THINGS OF ALL THE MOST IMPORTANT THINGS OF ALL THE MOST IMPORTANT THINGS OF ALL\n",
            "I'M NOT A MAN BUT I'M A MAN AND I'M A MAN AND I'M A MAN AND I'M A MAN AND I'M A MAN AND I'M A MAN AND I'M A MAN AND I'M A MAN AND I'M A MAN AND I'M A MAN AND I'M A MAN AND I'M A MAN AND I'M A MAN AND I'M A MAN AND I'M A MAN AND I'M\n",
            "AND THE MOST IMPORTANT OF ALL THE MOST IMPORTANT OF ALL THE MOST IMPORTANT OF ALL THE MOST IMPORTANT OF ALL THE MOST IMPORTANT OF ALL THE MOST IMPORTANT OF ALL THE MOST IMPORTANT OF ALL THE MOST IMPORTANT OF ALL THE MOST IMPORTANT OF ALL THE MOST IMPORTANT OF ALL THE MOST IMPORTANT OF ALL THE MOST IMPORTANT OF ALL THE MOST\n",
            "THE MOST IMPORTANT THING OF ALL THE MOST IMPORTANT THINGS OF ALL THE MOST IMPORTANT THINGS OF ALL THE MOST IMPORTANT THINGS OF ALL THE MOST IMPORTANT THINGS OF ALL THE MOST IMPORTANT THINGS OF ALL THE MOST IMPORTANT THINGS OF ALL THE MOST IMPORTANT THINGS OF ALL THE MOST IMPORTANT THINGS OF ALL THE MOST IMPORTANT THINGS OF ALL\n",
            "torch.Size([1, 100, 768])\n",
            "torch.Size([1, 100, 768])\n",
            "torch.Size([1, 100, 768])\n",
            "torch.Size([1, 100, 768])\n"
          ]
        },
        {
          "name": "stderr",
          "output_type": "stream",
          "text": [
            "\r10it [01:02,  6.22s/it]"
          ]
        },
        {
          "name": "stdout",
          "output_type": "stream",
          "text": [
            "Gt\n",
            "THEN SHE SLIPPED OUT HE WAS AS COURTEOUS TO US AS THOUGH WE WERE GROWN LADIES SHOOK HANDS ASKED HOW WE FELT BEGGED US TO BE SEATED AND THEN STEPPED TO A DOOR AND CALLED SUSAN SUSAN\n",
            "HE HAD SUNG NO MORE WHEN THE FACE OF MISSUS COLLINGWOOD APPEARED IN THE DOORWAY HER EYES WERE WIDE AND STARING HER FEATURES ALMOST GRAY IN COLOR\n",
            "AND HAD SEEN ONLY A FEW OF ITS ROOMS THE NETTING BOX JUST LEISURELY DRAWN FORTH WAS CLOSED WITH JOYFUL HASTE AND SHE WAS READY TO ATTEND HIM IN A MOMENT\n",
            "IN OUR OWN TIME THE SLOW DISINTEGRATION OF PRIMITIVE ANIMISTIC CONCEPTIONS AIDED CERTAINLY BY THE DEGRADED CONCEPTION OF SEXUAL PHENOMENA TAUGHT BY MEDIAEVAL MONKS FOR WHOM WOMAN WAS TEMPLUM AEDIFICATUM SUPER CLOACAM\n",
            "Pred\n",
            "AND THE MOST IMPORTANT OF ALL THE MOST IMPORTANT OF ALL THE MOST IMPORTANT OF ALL THE MOST IMPORTANT OF ALL THE MOST IMPORTANT OF ALL THE MOST IMPORTANT OF ALL THE MOST IMPORTANT OF ALL THE MOST IMPORTANT OF ALL THE MOST IMPORTANT OF ALL THE MOST IMPORTANT OF ALL THE MOST IMPORTANT OF ALL THE MOST IMPORTANT OF ALL THE MOST\n",
            "AND THE MOST IMPORTANT OF ALL THE MOST IMPORTANT OF ALL THE MOST IMPORTANT OF ALL THE MOST IMPORTANT OF ALL THE MOST IMPORTANT OF ALL THE MOST IMPORTANT OF ALL THE MOST IMPORTANT OF ALL THE MOST IMPORTANT OF ALL THE MOST IMPORTANT OF ALL THE MOST IMPORTANT OF ALL THE MOST IMPORTANT OF ALL THE MOST IMPORTANT OF ALL THE MOST\n",
            "AND THE MOST IMPORTANT OF ALL THE MOST IMPORTANT OF ALL THE MOST IMPORTANT OF ALL THE MOST IMPORTANT OF ALL THE MOST IMPORTANT OF ALL THE MOST IMPORTANT OF ALL THE MOST IMPORTANT OF ALL THE MOST IMPORTANT OF ALL THE MOST IMPORTANT OF ALL THE MOST IMPORTANT OF ALL THE MOST IMPORTANT OF ALL THE MOST IMPORTANT OF ALL THE MOST\n",
            "THE MOST IMPORTANT THING OF ALL THE MOST IMPORTANT THINGS OF ALL THE MOST IMPORTANT THINGS OF ALL THE MOST IMPORTANT THINGS OF ALL THE MOST IMPORTANT THINGS OF ALL THE MOST IMPORTANT THINGS OF ALL THE MOST IMPORTANT THINGS OF ALL THE MOST IMPORTANT THINGS OF ALL THE MOST IMPORTANT THINGS OF ALL THE MOST IMPORTANT THINGS OF ALL\n",
            "torch.Size([1, 100, 768])\n",
            "torch.Size([1, 100, 768])\n",
            "torch.Size([1, 100, 768])\n",
            "torch.Size([1, 100, 768])\n"
          ]
        },
        {
          "name": "stderr",
          "output_type": "stream",
          "text": [
            "\r11it [01:08,  6.24s/it]"
          ]
        },
        {
          "name": "stdout",
          "output_type": "stream",
          "text": [
            "Gt\n",
            "RAN THE BOAT ALONGSIDE UNDER THE VERY NOSE OF THE REVENGEFUL REX THE MASS OF IRON FELL HALF IN BOARD UPON THE NOW STAYED BOAT AND GAVE HER STERNWAY WITH A SPLINTERED PLANK VILLAINS CRIED FRERE WOULD YOU SWAMP US\n",
            "AND DOUBTLESS PASSES WITH MOST READERS FOR ALL RIGHT PSYCHOLOGISTS STUDYING OUR PERCEPTIONS OF MOVEMENT HAVE UNEARTHED EXPERIENCES IN WHICH MOVEMENT IS FELT IN GENERAL\n",
            "HEATHEN MYTHOLOGY CELEBRATED IT IN THE THREE FATES SPINNING AND MEASURING OUT THE THREAD OF HUMAN LIFE\n",
            "HE WAS A PRISONER IN THE ROMAN CAMP DURING THE SIEGE OF JERUSALEM AND HE WATCHED WITH DISMAY THE GREAT BATTERING RAMS AND WAR ENGINES CRASHING THROUGH THE WALLS OF THE HOLY CITY HIS EARS RANG WITH THE CRIES OF RAGE AND DESPAIR WHICH BROKE FROM THE JEWS WITHIN\n",
            "Pred\n",
            "AND THE MOST IMPORTANT OF ALL THE MOST IMPORTANT OF ALL THE MOST IMPORTANT OF ALL THE MOST IMPORTANT OF ALL THE MOST IMPORTANT OF ALL THE MOST IMPORTANT OF ALL THE MOST IMPORTANT OF ALL THE MOST IMPORTANT OF ALL THE MOST IMPORTANT OF ALL THE MOST IMPORTANT OF ALL THE MOST IMPORTANT OF ALL THE MOST IMPORTANT OF ALL THE MOST\n",
            "AND THE MOST IMPORTANT THING OF ALL THE MOST IMPORTANT THINGS OF ALL THE MOST IMPORTANT THINGS OF ALL THE MOST IMPORTANT THINGS OF ALL THE MOST IMPORTANT THINGS OF ALL THE MOST IMPORTANT THINGS OF ALL THE MOST IMPORTANT THINGS OF ALL THE MOST IMPORTANT THINGS OF ALL THE MOST IMPORTANT THINGS OF ALL THE MOST IMPORTANT THINGS OF\n",
            "AND THE MOST IMPORTANT OF ALL THE MOST IMPORTANT OF ALL THE MOST IMPORTANT OF ALL THE MOST IMPORTANT OF ALL THE MOST IMPORTANT OF ALL THE MOST IMPORTANT OF ALL THE MOST IMPORTANT OF ALL THE MOST IMPORTANT OF ALL THE MOST IMPORTANT OF ALL THE MOST IMPORTANT OF ALL THE MOST IMPORTANT OF ALL THE MOST IMPORTANT OF ALL THE MOST\n",
            "THE MOST IMPORTANT OF ALL THE MOST IMPORTANT OF ALL THE MOST IMPORTANT OF ALL THE MOST IMPORTANT OF ALL THE MOST IMPORTANT OF ALL THE MOST IMPORTANT OF ALL THE MOST IMPORTANT OF ALL THE MOST IMPORTANT OF ALL THE MOST IMPORTANT OF ALL THE MOST IMPORTANT OF ALL THE MOST IMPORTANT OF ALL THE MOST IMPORTANT OF ALL THE MOST IMP\n",
            "torch.Size([1, 100, 768])\n",
            "torch.Size([1, 100, 768])\n",
            "torch.Size([1, 100, 768])\n",
            "torch.Size([1, 100, 768])\n"
          ]
        },
        {
          "name": "stderr",
          "output_type": "stream",
          "text": [
            "\r12it [01:14,  6.23s/it]"
          ]
        },
        {
          "name": "stdout",
          "output_type": "stream",
          "text": [
            "Gt\n",
            "YOU IT WAS WHO WHEN I HAD THE SORROW TO LOSE MY FATHER COMFORTED ME BY YOUR FRIENDSHIP HELPED ME WITH YOUR ADVICE AND ASSISTED ME WITH YOUR FORTUNE\n",
            "WOMAN'S VANITY OFTEN OUTRUNS HER NATURAL DIFFIDENCE AND THE CONSCIOUSNESS OF HER GREAT BEAUTY STIFLES THE CONSCIENCE OF MODESTY VISITORS TO THE ACADEMY KNOW THE PICTURE CIRCE SEATED\n",
            "SHALL WE SEND BOBO IN SEARCH OF THE LOST HALF HOUR SAID THE PRINCESS TO THE COURTIERS YES YES CRIED THE COURTIERS BOBO SHALL LOOK FOR THE LOST HALF HOUR I'LL GIVE HIM A HORSE SAID ONE\n",
            "IF SUCH SENDING MIGHT POSSIBLY BE DONE BY FAIR BEATING REGARDLESS WHETHER HE HIMSELF MIGHT BE CALLED UPON TO FOLLOW HIM WAS IT NOT HARD THAT FOR THE TWO OF THEM FOR LILY AND FOR HIM ALSO\n",
            "Pred\n",
            "THE MOST IMPORTANT THING OF ALL THE MOST IMPORTANT THINGS OF ALL THE MOST IMPORTANT THINGS OF ALL THE MOST IMPORTANT THINGS OF ALL THE MOST IMPORTANT THINGS OF ALL THE MOST IMPORTANT THINGS OF ALL THE MOST IMPORTANT THINGS OF ALL THE MOST IMPORTANT THINGS OF ALL THE MOST IMPORTANT THINGS OF ALL THE MOST IMPORTANT THINGS OF ALL\n",
            "AND THE MOST IMPORTANT OF ALL THE MOST IMPORTANT OF ALL THE MOST IMPORTANT OF ALL THE MOST IMPORTANT OF ALL THE MOST IMPORTANT OF ALL THE MOST IMPORTANT OF ALL THE MOST IMPORTANT OF ALL THE MOST IMPORTANT OF ALL THE MOST IMPORTANT OF ALL THE MOST IMPORTANT OF ALL THE MOST IMPORTANT OF ALL THE MOST IMPORTANT OF ALL THE MOST\n",
            "I'M NOT A MAN OF THE WORLD I'M NOT A MAN OF THE WORLD I'M NOT A MAN OF THE WORLD I'M NOT A MAN OF THE WORLDThe first time you see a new game you'll be surprised how much you've changed since you first played it. You'll be surprised how much you've changed since you first played it. You'll be surprised how much you've changed since you first played it. You'll be surprised how much you've changed since\n",
            "AND THE MOST IMPORTANT THING OF ALL THE MOST IMPORTANT THINGS OF ALL THE MOST IMPORTANT THINGS OF ALL THE MOST IMPORTANT THINGS OF ALL THE MOST IMPORTANT THINGS OF ALL THE MOST IMPORTANT THINGS OF ALL THE MOST IMPORTANT THINGS OF ALL THE MOST IMPORTANT THINGS OF ALL THE MOST IMPORTANT THINGS OF ALL THE MOST IMPORTANT THINGS OF\n",
            "torch.Size([1, 100, 768])\n",
            "torch.Size([1, 100, 768])\n",
            "torch.Size([1, 100, 768])\n",
            "torch.Size([1, 100, 768])\n"
          ]
        },
        {
          "name": "stderr",
          "output_type": "stream",
          "text": [
            "\r13it [01:21,  6.26s/it]"
          ]
        },
        {
          "name": "stdout",
          "output_type": "stream",
          "text": [
            "Gt\n",
            "SHE STARTED WITHOUT LOOKING ROUND AS IF SHE CONNECTED THE SOUND WITH NO PLACE DINAH ADAM SAID AGAIN\n",
            "HE SHUNNED THE PATROLS HE AVOIDED THE SENTINELS HE MADE A CIRCUIT REACHED THE RUE DE BETHISY\n",
            "BUT FIND ME SOMEWHERE AN ENGINEER THAT WILL LAY OUT A PERFECT RAILROAD LINE MEN APPOINTED BY THIS COLONEL TRAVELED SOME MONTHS THEY VISITED MANY CITIES WROTE LETTERS AND ASKED ADVICE THEN THE COLONEL WENT BACK TO THE EMPEROR AND SAID\n",
            "IT WASN'T MY IDEA SAID REBECCA APOLOGETICALLY I HAD ONLY MADE THE FIRST LINE WHEN I SAW YOU WERE GOING TO RING THE BELL AND SAY THE TIME WAS UP I HAD CLASH WRITTEN AND I COULDN'T THINK OF ANYTHING THEN BUT HASH OR RASH OR SMASH I'LL CHANGE IT TO THIS\n",
            "Pred\n",
            "AND THE MOST IMPORTANT OF ALL THE MOST IMPORTANT OF ALL THE MOST IMPORTANT OF ALL THE MOST IMPORTANT OF ALL THE MOST IMPORTANT OF ALL THE MOST IMPORTANT OF ALL THE MOST IMPORTANT OF ALL THE MOST IMPORTANT OF ALL THE MOST IMPORTANT OF ALL THE MOST IMPORTANT OF ALL THE MOST IMPORTANT OF ALL THE MOST IMPORTANT OF ALL THE MOST\n",
            "THE MOST IMPORTANT THING OF ALL THE MOST IMPORTANT THINGS OF ALL THE MOST IMPORTANT THINGS OF ALL THE MOST IMPORTANT THINGS OF ALL THE MOST IMPORTANT THINGS OF ALL THE MOST IMPORTANT THINGS OF ALL THE MOST IMPORTANT THINGS OF ALL THE MOST IMPORTANT THINGS OF ALL THE MOST IMPORTANT THINGS OF ALL THE MOST IMPORTANT THINGS OF ALL\n",
            "AND THE MOST IMPORTANT THING OF ALL THE MOST IMPORTANT THINGS OF ALL THE MOST IMPORTANT THINGS OF ALL THE MOST IMPORTANT THINGS OF ALL THE MOST IMPORTANT THINGS OF ALL THE MOST IMPORTANT THINGS OF ALL THE MOST IMPORTANT THINGS OF ALL THE MOST IMPORTANT THINGS OF ALL THE MOST IMPORTANT THINGS OF ALL THE MOST IMPORTANT THINGS OF\n",
            "AND THE MOST IMPORTANT OF ALL THE MOST IMPORTANT OF ALL THE MOST IMPORTANT OF ALL THE MOST IMPORTANT OF ALL THE MOST IMPORTANT OF ALL THE MOST IMPORTANT OF ALL THE MOST IMPORTANT OF ALL THE MOST IMPORTANT OF ALL THE MOST IMPORTANT OF ALL THE MOST IMPORTANT OF ALL THE MOST IMPORTANT OF ALL THE MOST IMPORTANT OF ALL THE MOST\n",
            "torch.Size([1, 100, 768])\n",
            "torch.Size([1, 100, 768])\n",
            "torch.Size([1, 100, 768])\n",
            "torch.Size([1, 100, 768])\n"
          ]
        },
        {
          "name": "stderr",
          "output_type": "stream",
          "text": [
            "\r14it [01:27,  6.25s/it]"
          ]
        },
        {
          "name": "stdout",
          "output_type": "stream",
          "text": [
            "Gt\n",
            "AND HE AWOKE TO FIND THE OLD MAN'S HAND STROKING HIS HEAD TENDERLY THAT THE TERROR LEFT HIM\n",
            "HE SUCCEEDED IN GETTING RID OF HIS FETTERS AND COULD MOVE ABOUT AS FREELY AS A TIGER IN A CAGE TO GET OUT OF THIS CAGE WAS BARTHOLEMY'S FIRST OBJECT IT WOULD BE COMPARATIVELY EASY BECAUSE IN THE COURSE OF TIME SOME ONE WOULD COME INTO THE HOLD\n",
            "WELL MISTER MARKHAM WHAT IS IT SAID THE YOUNG MOTHER ACCOSTING ME WITH A PLEASANT SMILE I WANT YOU TO LOOK AT THIS BOOK AND IF YOU PLEASE TO TAKE IT AND PERUSE IT AT YOUR LEISURE\n",
            "SO WHEN THEO BROKE INTO EXCLAMATIONS OF PLEASURE AND ASTONISHMENT SHE DID NOT UNDERSTAND EITHER HER ENTHUSIASM OR HER SURPRISE WHAT SHE SAID YOU LIKE THE IDEA DO YOU\n",
            "Pred\n",
            "AND THE MOST IMPORTANT OF ALL THE MOST IMPORTANT OF ALL THE MOST IMPORTANT OF ALL THE MOST IMPORTANT OF ALL THE MOST IMPORTANT OF ALL THE MOST IMPORTANT OF ALL THE MOST IMPORTANT OF ALL THE MOST IMPORTANT OF ALL THE MOST IMPORTANT OF ALL THE MOST IMPORTANT OF ALL THE MOST IMPORTANT OF ALL THE MOST IMPORTANT OF ALL THE MOST\n",
            "AND THE MOST IMPORTANT OF ALL THE MOST IMPORTANT OF ALL THE MOST IMPORTANT OF ALL THE MOST IMPORTANT OF ALL THE MOST IMPORTANT OF ALL THE MOST IMPORTANT OF ALL THE MOST IMPORTANT OF ALL THE MOST IMPORTANT OF ALL THE MOST IMPORTANT OF ALL THE MOST IMPORTANT OF ALL THE MOST IMPORTANT OF ALL THE MOST IMPORTANT OF ALL THE MOST\n",
            "AND THE MOST IMPORTANT OF ALL THE MOST IMPORTANT OF ALL THE MOST IMPORTANT OF ALL THE MOST IMPORTANT OF ALL THE MOST IMPORTANT OF ALL THE MOST IMPORTANT OF ALL THE MOST IMPORTANT OF ALL THE MOST IMPORTANT OF ALL THE MOST IMPORTANT OF ALL THE MOST IMPORTANT OF ALL THE MOST IMPORTANT OF ALL THE MOST IMPORTANT OF ALL THE MOST\n",
            "AND THE MOST IMPORTANT OF ALL THE MOST IMPORTANT OF ALL THE MOST IMPORTANT OF ALL THE MOST IMPORTANT OF ALL THE MOST IMPORTANT OF ALL THE MOST IMPORTANT OF ALL THE MOST IMPORTANT OF ALL THE MOST IMPORTANT OF ALL THE MOST IMPORTANT OF ALL THE MOST IMPORTANT OF ALL THE MOST IMPORTANT OF ALL THE MOST IMPORTANT OF ALL THE MOST\n",
            "torch.Size([1, 100, 768])\n",
            "torch.Size([1, 100, 768])\n",
            "torch.Size([1, 100, 768])\n",
            "torch.Size([1, 100, 768])\n"
          ]
        },
        {
          "name": "stderr",
          "output_type": "stream",
          "text": [
            "\r15it [01:33,  6.27s/it]"
          ]
        },
        {
          "name": "stdout",
          "output_type": "stream",
          "text": [
            "Gt\n",
            "NOT FOR THIS PURPOSE HAD GOD REVEALED HIS WILL TO MAN SOME YEARS AGO IN THE COFFIN OF AN EGYPTIAN MUMMY A LITTLE JAR OF WHEAT WAS FOUND FOR THOUSANDS OF YEARS IT HAD LAIN THERE SHUT UP IN THE DARK\n",
            "THAT SMALL SNAILS OF A LAND SPECIES HAD FALLEN NEAR REDRUTH CORNWALL JULY EIGHTH EIGHTEEN EIGHTY SIX DURING A HEAVY THUNDERSTORM ROADS AND FIELDS STREWN WITH THEM SO THAT THEY WERE GATHERED UP BY THE HATFUL\n",
            "WHEN THE DRAGON CAME IN THE OLD WOMAN BEGAN TO QUESTION IT WHERE IN GOD'S NAME HAVE YOU BEEN WHITHER DO YOU GO SO FAR YOU WILL NEVER TELL ME WHITHER YOU GO THE DRAGON REPLIED WELL MY DEAR OLD WOMAN I DO GO FAR\n",
            "SINCE THE ENTRANCE TO THE PALACE WAS NOT THROUGH THE GARDEN IN WHICH STILLNESS AND PRIVACY ALWAYS REIGNED SHE WISHED RATHER TO FORESTALL HIS ARRIVAL BY A PROCESS OF CONJECTURE AND TO JUDGE BY THE EXPRESSION OF HER FACE THIS ATTEMPT GAVE HER PLENTY TO DO\n",
            "Pred\n",
            "THE MOST IMPORTANT THING OF ALL THE MOST IMPORTANT THINGS OF ALL THE MOST IMPORTANT THINGS OF ALL THE MOST IMPORTANT THINGS OF ALL THE MOST IMPORTANT THINGS OF ALL THE MOST IMPORTANT THINGS OF ALL THE MOST IMPORTANT THINGS OF ALL THE MOST IMPORTANT THINGS OF ALL THE MOST IMPORTANT THINGS OF ALL THE MOST IMPORTANT THINGS OF ALL\n",
            "THE MOST IMPORTANT THING OF ALL THE MOST IMPORTANT THINGS OF ALL THE MOST IMPORTANT THINGS OF ALL THE MOST IMPORTANT THINGS OF ALL THE MOST IMPORTANT THINGS OF ALL THE MOST IMPORTANT THINGS OF ALL THE MOST IMPORTANT THINGS OF ALL THE MOST IMPORTANT THINGS OF ALL THE MOST IMPORTANT THINGS OF ALL THE MOST IMPORTANT THINGS OF ALL\n",
            "AND THE MOST IMPORTANT THING OF ALL THE MOST IMPORTANT THINGS OF ALL THE MOST IMPORTANT THINGS OF ALL THE MOST IMPORTANT THINGS OF ALL THE MOST IMPORTANT THINGS OF ALL THE MOST IMPORTANT THINGS OF ALL THE MOST IMPORTANT THINGS OF ALL THE MOST IMPORTANT THINGS OF ALL THE MOST IMPORTANT THINGS OF ALL THE MOST IMPORTANT THINGS OF\n",
            "I'M NOT A MAN OF THE WORLD BUT I'M A MAN OF THE WORLD AND I'M A MAN OF THE WORLD AND I'M A MAN OF THE WORLD AND I'M A MAN OF THE WORLD AND I'M A MAN OF THE WORLD AND I'M A MAN OF THE WORLD AND I'M A MAN OF THE WORLD AND I'M A MAN OF THE WORLD AND I'M A MAN OF THE WORLD AND I'M A MAN OF THE WORLD AND\n",
            "torch.Size([1, 100, 768])\n",
            "torch.Size([1, 100, 768])\n",
            "torch.Size([1, 100, 768])\n",
            "torch.Size([1, 100, 768])\n"
          ]
        },
        {
          "name": "stderr",
          "output_type": "stream",
          "text": [
            "\r16it [01:39,  6.25s/it]"
          ]
        },
        {
          "name": "stdout",
          "output_type": "stream",
          "text": [
            "Gt\n",
            "THAT SAID CORONEL SIMPLY IS MUCH MORE SURPRISING MERRIWIG HOWEVER WAS NOT SO SURE OF THAT HE LIKED THE LOOK OF CORONEL HE LIKED HIS MANNER\n",
            "WHO MIGHT DISCUSS THE QUESTION IN THE PRESENCE OF A STARVING AUDIENCE WE SHOULD HAVE PILLAGE FOR CONCLUSION AND PERORATION\n",
            "YOU RE DISAPPOINTED ARE N'T YOU I CONFESS I AM DISAPPOINTED\n",
            "SHE REPLIED THE SWEET LITTLE FACE ALL SUFFUSED WITH BLUSHES AND THE SOFT DOWNCAST EYES FILLING WITH TEARS WHY DO YOU THINK SO HE ASKED AGAIN\n",
            "Pred\n",
            "AND THE MOST IMPORTANT OF ALL THE MOST IMPORTANT OF ALL THE MOST IMPORTANT OF ALL THE MOST IMPORTANT OF ALL THE MOST IMPORTANT OF ALL THE MOST IMPORTANT OF ALL THE MOST IMPORTANT OF ALL THE MOST IMPORTANT OF ALL THE MOST IMPORTANT OF ALL THE MOST IMPORTANT OF ALL THE MOST IMPORTANT OF ALL THE MOST IMPORTANT OF ALL THE MOST\n",
            "AND THE MOST IMPORTANT OF ALL THE MOST IMPORTANT OF ALL THE MOST IMPORTANT OF ALL THE MOST IMPORTANT OF ALL THE MOST IMPORTANT OF ALL THE MOST IMPORTANT OF ALL THE MOST IMPORTANT OF ALL THE MOST IMPORTANT OF ALL THE MOST IMPORTANT OF ALL THE MOST IMPORTANT OF ALL THE MOST IMPORTANT OF ALL THE MOST IMPORTANT OF ALL THE MOST\n",
            "AND THE MOST IMPORTANT OF ALL THE MOST IMPORTANT OF ALL THE MOST IMPORTANT OF ALL THE MOST IMPORTANT OF ALL THE MOST IMPORTANT OF ALL THE MOST IMPORTANT OF ALL THE MOST IMPORTANT OF ALL THE MOST IMPORTANT OF ALL THE MOST IMPORTANT OF ALL THE MOST IMPORTANT OF ALL THE MOST IMPORTANT OF ALL THE MOST IMPORTANT OF ALL THE MOST\n",
            "AND THE MOST IMPORTANT OF ALL THE MOST IMPORTANT OF ALL THE MOST IMPORTANT OF ALL THE MOST IMPORTANT OF ALL THE MOST IMPORTANT OF ALL THE MOST IMPORTANT OF ALL THE MOST IMPORTANT OF ALL THE MOST IMPORTANT OF ALL THE MOST IMPORTANT OF ALL THE MOST IMPORTANT OF ALL THE MOST IMPORTANT OF ALL THE MOST IMPORTANT OF ALL THE MOST\n",
            "torch.Size([1, 100, 768])\n",
            "torch.Size([1, 100, 768])\n",
            "torch.Size([1, 100, 768])\n",
            "torch.Size([1, 100, 768])\n"
          ]
        },
        {
          "name": "stderr",
          "output_type": "stream",
          "text": [
            "\r17it [01:45,  6.23s/it]"
          ]
        },
        {
          "name": "stdout",
          "output_type": "stream",
          "text": [
            "Gt\n",
            "HIS FOURTH WAS AN OBJECT OF UNCEASING PURSUIT AND HE HELD THAT OTHER THINGS BEING EQUAL THE EXTENT OF HAPPINESS WAS PROPORTIONED TO THE SPIRITUALITY OF THIS OBJECT\n",
            "UNTIL SHERLOCK IS PRESENTLY EXPLAINING BY THE HELP OF THE MINOR INJURIES THAT THE MACHINE RIDDEN IS AN OLD FASHIONED AFFAIR WITH A FORK INSTEAD OF THE DIAMOND FRAME A CUSHIONED TIRE WELL WORN ON THE HIND WHEEL\n",
            "IT WAS A COLD FORMAL NOTE MERELY A FEW LINES OF HURRIED SCRAWL AND READ YOU ARE RIGHT I HAVE BEEN FALSE TO YOU THINK NO MORE OF ME BY THE TIME YOU RECEIVE THIS I SHALL BE ON MY WAY TO NEW YORK\n",
            "THE COUNCIL PENSIONARY FIRST SET TO WORK TO HAVE THE TREATY FROM WHICH THE EXCLUSION ARTICLE HAD BEEN CUT OUT RATIFIED RAPIDLY BY THE STATES GENERAL\n",
            "Pred\n",
            "AND THE MOST IMPORTANT OF ALL THE MOST IMPORTANT OF ALL THE MOST IMPORTANT OF ALL THE MOST IMPORTANT OF ALL THE MOST IMPORTANT OF ALL THE MOST IMPORTANT OF ALL THE MOST IMPORTANT OF ALL THE MOST IMPORTANT OF ALL THE MOST IMPORTANT OF ALL THE MOST IMPORTANT OF ALL THE MOST IMPORTANT OF ALL THE MOST IMPORTANT OF ALL THE MOST\n",
            "AND THE MOST IMPORTANT THING OF ALL THE MOST IMPORTANT THINGS OF ALL THE MOST IMPORTANT THINGS OF ALL THE MOST IMPORTANT THINGS OF ALL THE MOST IMPORTANT THINGS OF ALL THE MOST IMPORTANT THINGS OF ALL THE MOST IMPORTANT THINGS OF ALL THE MOST IMPORTANT THINGS OF ALL THE MOST IMPORTANT THINGS OF ALL THE MOST IMPORTANT THINGS OF\n",
            "THE MOST IMPORTANT THING OF ALL THE MOST IMPORTANT THINGS OF ALL THE MOST IMPORTANT THINGS OF ALL THE MOST IMPORTANT THINGS OF ALL THE MOST IMPORTANT THINGS OF ALL THE MOST IMPORTANT THINGS OF ALL THE MOST IMPORTANT THINGS OF ALL THE MOST IMPORTANT THINGS OF ALL THE MOST IMPORTANT THINGS OF ALL THE MOST IMPORTANT THINGS OF ALL\n",
            "AND THE MOST IMPORTANT OF ALL THE MOST IMPORTANT OF ALL THE MOST IMPORTANT OF ALL THE MOST IMPORTANT OF ALL THE MOST IMPORTANT OF ALL THE MOST IMPORTANT OF ALL THE MOST IMPORTANT OF ALL THE MOST IMPORTANT OF ALL THE MOST IMPORTANT OF ALL THE MOST IMPORTANT OF ALL THE MOST IMPORTANT OF ALL THE MOST IMPORTANT OF ALL THE MOST\n",
            "torch.Size([1, 100, 768])\n",
            "torch.Size([1, 100, 768])\n",
            "torch.Size([1, 100, 768])\n",
            "torch.Size([1, 100, 768])\n"
          ]
        },
        {
          "name": "stderr",
          "output_type": "stream",
          "text": [
            "\r18it [01:52,  6.22s/it]"
          ]
        },
        {
          "name": "stdout",
          "output_type": "stream",
          "text": [
            "Gt\n",
            "ALL WAS A RED BLAZE BEHIND THEM\n",
            "A SAIL ALREADY HUNG FROM THE NEW MAST AND THE WIND WAS PLAYING IN ITS WAVING FOLDS THE PROFESSOR SAID A FEW WORDS TO THE GUIDE AND IMMEDIATELY HE PUT EVERYTHING ON BOARD AND ARRANGED EVERY NECESSARY FOR OUR DEPARTURE\n",
            "ALWAYS NO TO THAT HOW CAN IT BE OTHERWISE YOU WOULD NOT HAVE ME MARRY YOU WHILE I LOVE ANOTHER BUT HE IS GONE HE HAS TAKEN ANOTHER WIFE I CANNOT CHANGE MYSELF BECAUSE HE IS CHANGED\n",
            "ELSIE STOOD A MOMENT LOOKING MUCH PERPLEXED THEN WITH A BRIGHTENING FACE EXCLAIMED IN HER CHEERFUL PLEASANT WAY WELL NEVER MIND FLORA DEAR I WILL GET YOU MY DOLL\n",
            "Pred\n",
            "THE MOST IMPORTANT THING OF ALL THE MOST IMPORTANT THINGS OF ALL THE MOST IMPORTANT THINGS OF ALL THE MOST IMPORTANT THINGS OF ALL THE MOST IMPORTANT THINGS OF ALL THE MOST IMPORTANT THINGS OF ALL THE MOST IMPORTANT THINGS OF ALL THE MOST IMPORTANT THINGS OF ALL THE MOST IMPORTANT THINGS OF ALL THE MOST IMPORTANT THINGS OF ALL\n",
            "THE MOST IMPORTANT THING OF ALL THE MOST IMPORTANT THINGS OF ALL THE MOST IMPORTANT THINGS OF ALL THE MOST IMPORTANT THINGS OF ALL THE MOST IMPORTANT THINGS OF ALL THE MOST IMPORTANT THINGS OF ALL THE MOST IMPORTANT THINGS OF ALL THE MOST IMPORTANT THINGS OF ALL THE MOST IMPORTANT THINGS OF ALL THE MOST IMPORTANT THINGS OF ALL\n",
            "AND THE MOST IMPORTANT THING OF ALL THE MOST IMPORTANT THINGS OF ALL THE MOST IMPORTANT THINGS OF ALL THE MOST IMPORTANT THINGS OF ALL THE MOST IMPORTANT THINGS OF ALL THE MOST IMPORTANT THINGS OF ALL THE MOST IMPORTANT THINGS OF ALL THE MOST IMPORTANT THINGS OF ALL THE MOST IMPORTANT THINGS OF ALL THE MOST IMPORTANT THINGS OF\n",
            "AND THE MOST IMPORTANT OF ALL THE MOST IMPORTANT OF ALL THE MOST IMPORTANT OF ALL THE MOST IMPORTANT OF ALL THE MOST IMPORTANT OF ALL THE MOST IMPORTANT OF ALL THE MOST IMPORTANT OF ALL THE MOST IMPORTANT OF ALL THE MOST IMPORTANT OF ALL THE MOST IMPORTANT OF ALL THE MOST IMPORTANT OF ALL THE MOST IMPORTANT OF ALL THE MOST\n",
            "torch.Size([1, 100, 768])\n",
            "torch.Size([1, 100, 768])\n",
            "torch.Size([1, 100, 768])\n",
            "torch.Size([1, 100, 768])\n"
          ]
        },
        {
          "name": "stderr",
          "output_type": "stream",
          "text": [
            "\r19it [01:58,  6.22s/it]"
          ]
        },
        {
          "name": "stdout",
          "output_type": "stream",
          "text": [
            "Gt\n",
            "SAID SIR RICHMOND IT WILL BE LIKE TURNING OVER THE PAGES OF THE HISTORY OF OUR FAMILY TO AND FRO\n",
            "AND INSTEAD OF RUNNING ANY FARTHER TOWARDS JASON THEY BEGAN TO FIGHT AMONG THEMSELVES THE CONFUSION SPREAD THROUGH THE HOST\n",
            "HIS HABITS WERE THE BEST AND WHY SHOULD NOT SUCH A BOY SUCCEED IN THREE YEARS WHEN HE WAS TWENTY ONE HE HAD BECOME THE HEAD OF A PUBLISHING HOUSE\n",
            "AS MISSUS THORNTON OBSERVED TO HERSELF SHE LIKED MISSUS HALE'S DOUBLE KNITTING FAR BETTER THAT WAS SENSIBLE OF ITS KIND THE ROOM ALTOGETHER WAS FULL OF KNICK KNACKS WHICH MUST TAKE A LONG TIME TO DUST AND TIME TO PEOPLE OF LIMITED INCOME WAS MONEY\n",
            "Pred\n",
            "AND THE MOST IMPORTANT OF ALL THE MOST IMPORTANT OF ALL THE MOST IMPORTANT OF ALL THE MOST IMPORTANT OF ALL THE MOST IMPORTANT OF ALL THE MOST IMPORTANT OF ALL THE MOST IMPORTANT OF ALL THE MOST IMPORTANT OF ALL THE MOST IMPORTANT OF ALL THE MOST IMPORTANT OF ALL THE MOST IMPORTANT OF ALL THE MOST IMPORTANT OF ALL THE MOST\n",
            "AND THE MOST IMPORTANT OF ALL THE MOST IMPORTANT OF ALL THE MOST IMPORTANT OF ALL THE MOST IMPORTANT OF ALL THE MOST IMPORTANT OF ALL THE MOST IMPORTANT OF ALL THE MOST IMPORTANT OF ALL THE MOST IMPORTANT OF ALL THE MOST IMPORTANT OF ALL THE MOST IMPORTANT OF ALL THE MOST IMPORTANT OF ALL THE MOST IMPORTANT OF ALL THE MOST\n",
            "AND THE MOST IMPORTANT OF ALL THE MOST IMPORTANT OF ALL THE MOST IMPORTANT OF ALL THE MOST IMPORTANT OF ALL THE MOST IMPORTANT OF ALL THE MOST IMPORTANT OF ALL THE MOST IMPORTANT OF ALL THE MOST IMPORTANT OF ALL THE MOST IMPORTANT OF ALL THE MOST IMPORTANT OF ALL THE MOST IMPORTANT OF ALL THE MOST IMPORTANT OF ALL THE MOST\n",
            "AND THE MOST IMPORTANT OF ALL THE MOST IMPORTANT OF ALL THE MOST IMPORTANT OF ALL THE MOST IMPORTANT OF ALL THE MOST IMPORTANT OF ALL THE MOST IMPORTANT OF ALL THE MOST IMPORTANT OF ALL THE MOST IMPORTANT OF ALL THE MOST IMPORTANT OF ALL THE MOST IMPORTANT OF ALL THE MOST IMPORTANT OF ALL THE MOST IMPORTANT OF ALL THE MOST\n",
            "torch.Size([1, 100, 768])\n",
            "torch.Size([1, 100, 768])\n",
            "torch.Size([1, 100, 768])\n",
            "torch.Size([1, 100, 768])\n"
          ]
        },
        {
          "name": "stderr",
          "output_type": "stream",
          "text": [
            "\r20it [02:04,  6.21s/it]"
          ]
        },
        {
          "name": "stdout",
          "output_type": "stream",
          "text": [
            "Gt\n",
            "THAT WAS MY RUIN FOR WHEN I WAS IN THE MUD I COMFORTED MYSELF WITH THE THOUGHT THAT AT OTHER TIMES I WAS A HERO AND THE HERO WAS A CLOAK FOR THE MUD\n",
            "SAID THEY THEN THE DRAGON SEIZED THEM IN HIS CLAWS TOOK THEM THROUGH THE AIR OVER THE ARMY AND SET THEM DOWN ON THE EARTH A LONG WAY FROM IT HE GAVE THEM A LITTLE WHIP SAYING\n",
            "THE VOICE WAS THAT OF A YOUNG MAN AND ITS SWEETNESS OF TONE AND THE AGREEABLE THINGS IT UTTERED LED ONE TO INFER THAT ITS OWNER MUST BE EQUALLY CHARMING BUT THIS HAD TO BE A MERE MATTER OF FANCY FOR NO ONE WAS VISIBLE\n",
            "THAT I FIND HARD TO CREDIT BUT BEFORE YOU LEAVE HERE THIS AFTERNOON I MUST KNOW WHO IS INNOCENT AND WHO IS GUILTY MISS THOMPSON PAUSED AND A NUMBER OF GIRLS STIRRED UNEASILY IN THEIR SEATS WHILE A FEW GLANCED QUICKLY TOWARD ELEANOR WHO WAS LOOKING STRAIGHT AHEAD THE PICTURE OF INNOCENCE\n",
            "Pred\n",
            "AND THE MOST IMPORTANT OF ALL THE MOST IMPORTANT OF ALL THE MOST IMPORTANT OF ALL THE MOST IMPORTANT OF ALL THE MOST IMPORTANT OF ALL THE MOST IMPORTANT OF ALL THE MOST IMPORTANT OF ALL THE MOST IMPORTANT OF ALL THE MOST IMPORTANT OF ALL THE MOST IMPORTANT OF ALL THE MOST IMPORTANT OF ALL THE MOST IMPORTANT OF ALL THE MOST\n",
            "AND THE MOST IMPORTANT OF ALL THE MOST IMPORTANT OF ALL THE MOST IMPORTANT OF ALL THE MOST IMPORTANT OF ALL THE MOST IMPORTANT OF ALL THE MOST IMPORTANT OF ALL THE MOST IMPORTANT OF ALL THE MOST IMPORTANT OF ALL THE MOST IMPORTANT OF ALL THE MOST IMPORTANT OF ALL THE MOST IMPORTANT OF ALL THE MOST IMPORTANT OF ALL THE MOST\n",
            "I'M NOT A MAN OF THE WORLD BUT I'M A MAN OF THE WORLD AND I'M A MAN OF THE WORLD AND I'M A MAN OF THE WORLD AND I'M A MAN OF THE WORLD AND I'M A MAN OF THE WORLD AND I'M A MAN OF THE WORLD AND I'M A MAN OF THE WORLD AND I'M A MAN OF THE WORLD AND I'M A MAN OF THE WORLD AND I'M A MAN OF THE WORLD AND\n",
            "AND THE MOST IMPORTANT THING OF ALL THE MOST IMPORTANT THINGS OF ALL THE MOST IMPORTANT THINGS OF ALL THE MOST IMPORTANT THINGS OF ALL THE MOST IMPORTANT THINGS OF ALL THE MOST IMPORTANT THINGS OF ALL THE MOST IMPORTANT THINGS OF ALL THE MOST IMPORTANT THINGS OF ALL THE MOST IMPORTANT THINGS OF ALL THE MOST IMPORTANT THINGS OF\n",
            "torch.Size([1, 100, 768])\n",
            "torch.Size([1, 100, 768])\n",
            "torch.Size([1, 100, 768])\n",
            "torch.Size([1, 100, 768])\n"
          ]
        },
        {
          "name": "stderr",
          "output_type": "stream",
          "text": [
            "\r21it [02:10,  6.21s/it]"
          ]
        },
        {
          "name": "stdout",
          "output_type": "stream",
          "text": [
            "Gt\n",
            "WHO HAD NOT SO LARGE A SHARE OF THE GIFTS OF FORTUNE AS OF NATURE FOR IF THE TRUTH BE TOLD UNGRUDGINGLY HE IS THE MOST AGILE YOUTH WE KNOW A MIGHTY THROWER OF THE BAR A FIRST RATE WRESTLER AND A GREAT BALL PLAYER HE RUNS LIKE A DEER AND LEAPS BETTER THAN A GOAT\n",
            "BUT CAN YOU RAISE MONEY ON A BILL OF THIS SORT WITHOUT SECURITY WITHOUT SECURITY YOU ARE FORGETTING THAT WE ARE GUARANTEEING IT REPLIED LEVIN WITH CONTEMPTUOUS FAMILIARITY I DON'T WANT TO DEPRECIATE IT OBSERVED FALK I'M GRATEFUL FOR YOUR GUARANTEES\n",
            "THERE ARE VARIOUS RUMOURS AFLOAT AS TO WHO THEIR REPRESENTATIVE IS TO BE THE NAME OF TED BARTON BEING FREELY MENTIONED BUT THE BETTING WHICH IS SEVEN TO ONE ON THE MASTER AGAINST ANY UNTRIED MAN IS A FAIR REFLECTION OF THE FEELING OF THE COMMUNITY\n",
            "HE ROSE WITHOUT DARING TO LOOK AGAIN THREW HIS NET ON A FIRE THAT BURNED ON THE FLOOR AND RUSHING TO THE SIDE OF THE LITTLE RIVER HE TURNED HIMSELF INTO A SALMON SWAM DOWN TO THE DEEPEST STILLEST POOL AT THE BOTTOM\n",
            "Pred\n",
            "THE MOST IMPORTANT THING OF ALL THE MOST IMPORTANT THINGS OF ALL THE MOST IMPORTANT THINGS OF ALL THE MOST IMPORTANT THINGS OF ALL THE MOST IMPORTANT THINGS OF ALL THE MOST IMPORTANT THINGS OF ALL THE MOST IMPORTANT THINGS OF ALL THE MOST IMPORTANT THINGS OF ALL THE MOST IMPORTANT THINGS OF ALL THE MOST IMPORTANT THINGS OF ALL\n",
            "I'M NOT A MAN BUT I'M A MAN AND I'M A MAN AND I'M A MAN AND I'M A MAN AND I'M A MAN AND I'M A MAN AND I'M A MAN AND I'M A MAN AND I'M A MAN AND I'M A MAN AND I'M A MAN AND I'M A MAN AND I'M A MAN AND I'M A MAN AND I'M A MAN AND I'M\n",
            "AND THE MOST IMPORTANT OF ALL THE MOST IMPORTANT OF ALL THE MOST IMPORTANT OF ALL THE MOST IMPORTANT OF ALL THE MOST IMPORTANT OF ALL THE MOST IMPORTANT OF ALL THE MOST IMPORTANT OF ALL THE MOST IMPORTANT OF ALL THE MOST IMPORTANT OF ALL THE MOST IMPORTANT OF ALL THE MOST IMPORTANT OF ALL THE MOST IMPORTANT OF ALL THE MOST\n",
            "AND THE MOST IMPORTANT THING OF ALL THE MOST IMPORTANT THINGS OF ALL THE MOST IMPORTANT THINGS OF ALL THE MOST IMPORTANT THINGS OF ALL THE MOST IMPORTANT THINGS OF ALL THE MOST IMPORTANT THINGS OF ALL THE MOST IMPORTANT THINGS OF ALL THE MOST IMPORTANT THINGS OF ALL THE MOST IMPORTANT THINGS OF ALL THE MOST IMPORTANT THINGS OF\n",
            "torch.Size([1, 100, 768])\n",
            "torch.Size([1, 100, 768])\n",
            "torch.Size([1, 100, 768])\n",
            "torch.Size([1, 100, 768])\n"
          ]
        },
        {
          "name": "stderr",
          "output_type": "stream",
          "text": [
            "\r22it [02:17,  6.23s/it]"
          ]
        },
        {
          "name": "stdout",
          "output_type": "stream",
          "text": [
            "Gt\n",
            "IN THE BOUNDS AND BANKS WHICH HAD HITHERTO KEPT THEM OUT AT THE COMMENCEMENT OF SUMMER WE BEGAN TO FEEL THAT THE MISCHIEF WHICH HAD TAKEN PLACE IN DISTANT COUNTRIES WAS GREATER THAN WE HAD AT FIRST SUSPECTED\n",
            "HELP ME UP BIBBS THEN WHEN SHE WAS ONCE MORE UPON HER FEET SHE WIPED HER EYES AND SMILED UPON HIM RUEFULLY AND FAINTLY BUT REASSURINGLY AS IF TO TELL HIM IN THAT WAY\n",
            "IT IS CHOKICHI WHO HAS BEEN THROWING OBSTACLES IN THE WAY AT LAST HIS LORDSHIP HAS SECRETLY SENT A MAN CALLED KAJI SAZEN A FORTUNE TELLER TO ARRANGE AN INTERVIEW BETWEEN YOU SO NOW MY CHILD YOU MAY CHEER UP\n",
            "WE SHALL CONSIDER IN ANOTHER CHAPTER IN THIS CONNECTION WE FIND GREAT INTEREST IN AN ARTICLE IN THE MEDICAL NEWS JULY TWENTY EIGHTH EIGHTEEN NINETY FOUR\n",
            "Pred\n",
            "AND THE MOST IMPORTANT THING OF ALL THE MOST IMPORTANT THINGS OF ALL THE MOST IMPORTANT THINGS OF ALL THE MOST IMPORTANT THINGS OF ALL THE MOST IMPORTANT THINGS OF ALL THE MOST IMPORTANT THINGS OF ALL THE MOST IMPORTANT THINGS OF ALL THE MOST IMPORTANT THINGS OF ALL THE MOST IMPORTANT THINGS OF ALL THE MOST IMPORTANT THINGS OF\n",
            "AND THE MOST IMPORTANT THING OF ALL THE MOST IMPORTANT THINGS OF ALL THE MOST IMPORTANT THINGS OF ALL THE MOST IMPORTANT THINGS OF ALL THE MOST IMPORTANT THINGS OF ALL THE MOST IMPORTANT THINGS OF ALL THE MOST IMPORTANT THINGS OF ALL THE MOST IMPORTANT THINGS OF ALL THE MOST IMPORTANT THINGS OF ALL THE MOST IMPORTANT THINGS OF\n",
            "I'M NOT A MAN OF THE WORLD BUT I'M A MAN OF THE WORLD AND I'M A MAN OF THE WORLD AND I'M A MAN OF THE WORLD AND I'M A MAN OF THE WORLD AND I'M A MAN OF THE WORLD AND I'M A MAN OF THE WORLD AND I'M A MAN OF THE WORLD AND I'M A MAN OF THE WORLD AND I'M A MAN OF THE WORLD AND I'M A MAN OF THE WORLD AND\n",
            "AND THE MOST IMPORTANT OF ALL THE MOST IMPORTANT OF ALL THE MOST IMPORTANT OF ALL THE MOST IMPORTANT OF ALL THE MOST IMPORTANT OF ALL THE MOST IMPORTANT OF ALL THE MOST IMPORTANT OF ALL THE MOST IMPORTANT OF ALL THE MOST IMPORTANT OF ALL THE MOST IMPORTANT OF ALL THE MOST IMPORTANT OF ALL THE MOST IMPORTANT OF ALL THE MOST\n",
            "torch.Size([1, 100, 768])\n",
            "torch.Size([1, 100, 768])\n",
            "torch.Size([1, 100, 768])\n",
            "torch.Size([1, 100, 768])\n"
          ]
        },
        {
          "name": "stderr",
          "output_type": "stream",
          "text": [
            "\r23it [02:23,  6.23s/it]"
          ]
        },
        {
          "name": "stdout",
          "output_type": "stream",
          "text": [
            "Gt\n",
            "FLOATING NEAR THE END OF THE BOARD AND LAY DOWN UPON IT FOR THE PURPOSE OF CATCHING THEM\n",
            "AND OCCASIONALLY UTTERED SOME FEW GUTTURAL SOUNDS OF COMMAND WHICH WERE RESPECTFULLY LISTENED TO BY HIS COMPANION HE WAS EVIDENTLY A BRAVE WHO HAD MET RUSSIANS MORE THAN ONCE BEFORE IN QUITE OTHER CIRCUMSTANCES AND NOTHING ABOUT THEM COULD ASTONISH OR EVEN INTEREST HIM\n",
            "BEATING ABOUT THE COUNTRY SELLING TO SOME STEALING FROM OTHERS AND TRAVELLING LIKE A FAMILY MAN WITH WIFE AND CHILDREN IN A RICKETY CART IN THE REAR OF TROOPS ON THE MARCH WITH AN INSTINCT FOR ALWAYS ATTACHING HIMSELF TO THE VICTORIOUS ARMY\n",
            "TREES BUT TREES THERE WERE IN PLENTY THEY STOOD EVERYWHERE FROM COAST TO COAST THEY SAW THEMSELVES REFLECTED IN ALL THE RIVERS AND LAKES AND STRETCHED THEIR MIGHTY BOUGHS UP TOWARDS HEAVEN\n",
            "Pred\n",
            "AND THE MOST IMPORTANT OF ALL THE MOST IMPORTANT OF ALL THE MOST IMPORTANT OF ALL THE MOST IMPORTANT OF ALL THE MOST IMPORTANT OF ALL THE MOST IMPORTANT OF ALL THE MOST IMPORTANT OF ALL THE MOST IMPORTANT OF ALL THE MOST IMPORTANT OF ALL THE MOST IMPORTANT OF ALL THE MOST IMPORTANT OF ALL THE MOST IMPORTANT OF ALL THE MOST\n",
            "THE SAME AS THE SAME AS THE SAME AS THE SAME AS THE SAME AS THE SAME AS THE SAME AS THE SAME AS THE SAME AS THE SAME AS THE SAME AS THE SAME AS THE SAME AS THE SAME AS THE SAME AS THE SAME AS THE SAME AS THE SAME AS THE SAME AS THE SAME AS THE SAME AS THE SAME AS THE SAME AS THE SAME AS THE SAME AS\n",
            "AND THE MOST IMPORTANT THING OF ALL THE MOST IMPORTANT THINGS OF ALL THE MOST IMPORTANT THINGS OF ALL THE MOST IMPORTANT THINGS OF ALL THE MOST IMPORTANT THINGS OF ALL THE MOST IMPORTANT THINGS OF ALL THE MOST IMPORTANT THINGS OF ALL THE MOST IMPORTANT THINGS OF ALL THE MOST IMPORTANT THINGS OF ALL THE MOST IMPORTANT THINGS OF\n",
            "AND THE MOST IMPORTANT OF ALL THE MOST IMPORTANT OF ALL THE MOST IMPORTANT OF ALL THE MOST IMPORTANT OF ALL THE MOST IMPORTANT OF ALL THE MOST IMPORTANT OF ALL THE MOST IMPORTANT OF ALL THE MOST IMPORTANT OF ALL THE MOST IMPORTANT OF ALL THE MOST IMPORTANT OF ALL THE MOST IMPORTANT OF ALL THE MOST IMPORTANT OF ALL THE MOST\n",
            "torch.Size([1, 100, 768])\n",
            "torch.Size([1, 100, 768])\n",
            "torch.Size([1, 100, 768])\n",
            "torch.Size([1, 100, 768])\n"
          ]
        },
        {
          "name": "stderr",
          "output_type": "stream",
          "text": [
            "\r24it [02:29,  6.25s/it]"
          ]
        },
        {
          "name": "stdout",
          "output_type": "stream",
          "text": [
            "Gt\n",
            "HE FOUND THEM CARNAL AND LOQUACIOUS FULL OF INSANE PRIDE THE GREAT CHARM OF MANICHEISM TO AUGUSTINE WAS THAT IT TAUGHT THAT A MAN WAS NOT RESPONSIBLE FOR HIS SINS THIS DOCTRINE WAS CONVENIENT TO ONE\n",
            "COULD NOT GIVE HIS HAND TO THE BRIDE\n",
            "HE COULD RIDE BACK TRIUMPHANT AS A FIELD MARSHAL THEN THE HORSE WOULD BE DELIGHTFUL TO HIM BUT IF SHE SHOULD GIVE HIM NO HOPE IF IT SHOULD BE HIS DESTINY TO BE REJECTED UTTERLY ON THAT MORNING THEN THE HORSE WOULD BE TERRIBLY IN THE WAY OF HIS SORROW\n",
            "CAN YOU TELL ME SHE SAID FROM BEHIND MORE VEILS THAN THAT OF LACE HOW TO GET RID OF A HAUNTING IDEA THAT DEPENDS ON THE NATURE OF THE IDEA I SHOULD IMAGINE ANSWERED THE CURATE SUCH THINGS SOMETIMES ARISE MERELY FROM THE STATE OF THE HEALTH\n",
            "Pred\n",
            "THE MOST IMPORTANT THING OF ALL THE MOST IMPORTANT THINGS OF ALL THE MOST IMPORTANT THINGS OF ALL THE MOST IMPORTANT THINGS OF ALL THE MOST IMPORTANT THINGS OF ALL THE MOST IMPORTANT THINGS OF ALL THE MOST IMPORTANT THINGS OF ALL THE MOST IMPORTANT THINGS OF ALL THE MOST IMPORTANT THINGS OF ALL THE MOST IMPORTANT THINGS OF ALL\n",
            "AND THE MOST IMPORTANT OF ALL THE MOST IMPORTANT OF ALL THE MOST IMPORTANT OF ALL THE MOST IMPORTANT OF ALL THE MOST IMPORTANT OF ALL THE MOST IMPORTANT OF ALL THE MOST IMPORTANT OF ALL THE MOST IMPORTANT OF ALL THE MOST IMPORTANT OF ALL THE MOST IMPORTANT OF ALL THE MOST IMPORTANT OF ALL THE MOST IMPORTANT OF ALL THE MOST\n",
            "AND THE MOST IMPORTANT THING OF ALL THE MOST IMPORTANT THINGS OF ALL THE MOST IMPORTANT THINGS OF ALL THE MOST IMPORTANT THINGS OF ALL THE MOST IMPORTANT THINGS OF ALL THE MOST IMPORTANT THINGS OF ALL THE MOST IMPORTANT THINGS OF ALL THE MOST IMPORTANT THINGS OF ALL THE MOST IMPORTANT THINGS OF ALL THE MOST IMPORTANT THINGS OF\n",
            "THE MOST IMPORTANT THING OF ALL THE MOST IMPORTANT THINGS OF ALL THE MOST IMPORTANT THINGS OF ALL THE MOST IMPORTANT THINGS OF ALL THE MOST IMPORTANT THINGS OF ALL THE MOST IMPORTANT THINGS OF ALL THE MOST IMPORTANT THINGS OF ALL THE MOST IMPORTANT THINGS OF ALL THE MOST IMPORTANT THINGS OF ALL THE MOST IMPORTANT THINGS OF ALL\n",
            "torch.Size([1, 100, 768])\n",
            "torch.Size([1, 100, 768])\n",
            "torch.Size([1, 100, 768])\n",
            "torch.Size([1, 100, 768])\n"
          ]
        },
        {
          "name": "stderr",
          "output_type": "stream",
          "text": [
            "\r25it [02:35,  6.23s/it]"
          ]
        },
        {
          "name": "stdout",
          "output_type": "stream",
          "text": [
            "Gt\n",
            "HE'S THE ONE WHO'S KEPT HER IN THAT HOUSE\n",
            "STUMBLING BLOCK OF ALL WHICH OUGHT TO BE SUCH IS PROPERTY TO SUM UP AND CONCLUDE NOT ONLY DOES OCCUPATION LEAD TO EQUALITY IT PREVENTS PROPERTY\n",
            "THOUGH NOT AS I HAVE SAID IN THE DEVIL I DO NOT THINK THAT OUR FUEGIANS WERE MUCH MORE SUPERSTITIOUS THAN SOME OF THE SAILORS FOR AN OLD QUARTERMASTER FIRMLY BELIEVED THAT THE SUCCESSIVE HEAVY GALES WHICH WE ENCOUNTERED OFF CAPE HORN WERE CAUSED BY OUR HAVING THE FUEGIANS ON BOARD\n",
            "SHE SPOKE HESITATINGLY I HAD NOT THOUGHT OF THEM SAID DERONDA I WAS THINKING TOO MUCH OF THE OTHER THINGS PERHAPS YOU DON'T QUITE KNOW THE BEGINNING OF IT ALL SAID GWENDOLEN SLOWLY AS IF SHE WERE OVERCOMING HER RELUCTANCE\n",
            "Pred\n",
            "AND THE MOST IMPORTANT THING OF ALL THE MOST IMPORTANT THINGS OF ALL THE MOST IMPORTANT THINGS OF ALL THE MOST IMPORTANT THINGS OF ALL THE MOST IMPORTANT THINGS OF ALL THE MOST IMPORTANT THINGS OF ALL THE MOST IMPORTANT THINGS OF ALL THE MOST IMPORTANT THINGS OF ALL THE MOST IMPORTANT THINGS OF ALL THE MOST IMPORTANT THINGS OF\n",
            "THE MOST IMPORTANT THING OF ALL THE MOST IMPORTANT THINGS OF ALL THE MOST IMPORTANT THINGS OF ALL THE MOST IMPORTANT THINGS OF ALL THE MOST IMPORTANT THINGS OF ALL THE MOST IMPORTANT THINGS OF ALL THE MOST IMPORTANT THINGS OF ALL THE MOST IMPORTANT THINGS OF ALL THE MOST IMPORTANT THINGS OF ALL THE MOST IMPORTANT THINGS OF ALL\n",
            "THAT WAS THE ONLY WAY TO MAKE THE SAME THING AS THE SAME THING AS THE SAME THING AS THE SAME THING AS THE SAME THING AS THE SAME THING AS THE SAME THING AS THE SAME THING AS THE SAME THING AS THE SAME THING AS THE SAME THING AS THE SAME THING AS THE SAME THING AS THE SAME THING AS THE SAME THING AS THE S\n",
            "AND THE MOST IMPORTANT OF ALL THE MOST IMPORTANT OF ALL THE MOST IMPORTANT OF ALL THE MOST IMPORTANT OF ALL THE MOST IMPORTANT OF ALL THE MOST IMPORTANT OF ALL THE MOST IMPORTANT OF ALL THE MOST IMPORTANT OF ALL THE MOST IMPORTANT OF ALL THE MOST IMPORTANT OF ALL THE MOST IMPORTANT OF ALL THE MOST IMPORTANT OF ALL THE MOST\n",
            "torch.Size([1, 100, 768])\n",
            "torch.Size([1, 100, 768])\n",
            "torch.Size([1, 100, 768])\n",
            "torch.Size([1, 100, 768])\n"
          ]
        },
        {
          "name": "stderr",
          "output_type": "stream",
          "text": [
            "\r26it [02:41,  6.22s/it]"
          ]
        },
        {
          "name": "stdout",
          "output_type": "stream",
          "text": [
            "Gt\n",
            "SOLOMON OWL MADE NO REPLY HE WAS A PERSON OF FEW WORDS IF ANYBODY ASKED HIS OPINION HE WAS READY TO GIVE IT BUT HE SELDOM GAVE ANY UNSOUGHT ADVICE\n",
            "BY THE FAILURE OF A NEIGHBOR TO CONSERVE WHEAT HAVE ASKED WHY THE FOOD ADMINISTRATION TRUSTS TO VOLUNTARY METHODS WHY IT DOES NOT RATION THE COUNTRY RATIONING MAY COME YET BUT ANY SUCH SYSTEM BRISTLES WITH DIFFICULTIES\n",
            "BUT A SILENT AND ABSOLUTE OBEDIENCE TO THY WILL EVEN BEFORE I KNOW IT IS MY CORDIAL PRESERVE THAT TO ME O MY GOD AND THAT WILL PRESERVE ME TO THEE\n",
            "AND RUNNING INTO A COURT HE DISAPPEARED ALAS SAID ANDREA SIGHING\n",
            "Pred\n",
            "AND THE MOST IMPORTANT OF ALL THE MOST IMPORTANT OF ALL THE MOST IMPORTANT OF ALL THE MOST IMPORTANT OF ALL THE MOST IMPORTANT OF ALL THE MOST IMPORTANT OF ALL THE MOST IMPORTANT OF ALL THE MOST IMPORTANT OF ALL THE MOST IMPORTANT OF ALL THE MOST IMPORTANT OF ALL THE MOST IMPORTANT OF ALL THE MOST IMPORTANT OF ALL THE MOST\n",
            "AND THE MOST IMPORTANT OF ALL THE MOST IMPORTANT OF ALL THE MOST IMPORTANT OF ALL THE MOST IMPORTANT OF ALL THE MOST IMPORTANT OF ALL THE MOST IMPORTANT OF ALL THE MOST IMPORTANT OF ALL THE MOST IMPORTANT OF ALL THE MOST IMPORTANT OF ALL THE MOST IMPORTANT OF ALL THE MOST IMPORTANT OF ALL THE MOST IMPORTANT OF ALL THE MOST\n",
            "AND THE MOST IMPORTANT OF ALL THE MOST IMPORTANT OF ALL THE MOST IMPORTANT OF ALL THE MOST IMPORTANT OF ALL THE MOST IMPORTANT OF ALL THE MOST IMPORTANT OF ALL THE MOST IMPORTANT OF ALL THE MOST IMPORTANT OF ALL THE MOST IMPORTANT OF ALL THE MOST IMPORTANT OF ALL THE MOST IMPORTANT OF ALL THE MOST IMPORTANT OF ALL THE MOST\n",
            "AND THE MOST IMPORTANT OF ALL THE MOST IMPORTANT OF ALL THE MOST IMPORTANT OF ALL THE MOST IMPORTANT OF ALL THE MOST IMPORTANT OF ALL THE MOST IMPORTANT OF ALL THE MOST IMPORTANT OF ALL THE MOST IMPORTANT OF ALL THE MOST IMPORTANT OF ALL THE MOST IMPORTANT OF ALL THE MOST IMPORTANT OF ALL THE MOST IMPORTANT OF ALL THE MOST\n",
            "torch.Size([1, 100, 768])\n",
            "torch.Size([1, 100, 768])\n",
            "torch.Size([1, 100, 768])\n",
            "torch.Size([1, 100, 768])\n"
          ]
        },
        {
          "name": "stderr",
          "output_type": "stream",
          "text": [
            "\r27it [02:48,  6.21s/it]"
          ]
        },
        {
          "name": "stdout",
          "output_type": "stream",
          "text": [
            "Gt\n",
            "THEY HAVE PERISHED FROM REMEMBRANCE FOR WANT OF A HISTORIAN THE PHILANTHROPIST MAY WEEP OVER THEIR DESOLATION THE POET MAY WANDER AMONG THEIR MOULDERING ARCHES AND BROKEN COLUMNS\n",
            "THE PEOPLE IN THE LITTLE ROOM COULD NOT HEAR EACH OTHER SHOUT GRAHAM STOOD HIS INTELLIGENCE CLINGING HELPLESSLY TO THE THING HE HAD JUST HEARD THE COUNCIL HE REPEATED BLANKLY AND THEN SNATCHED AT A NAME THAT HAD STRUCK HIM\n",
            "AM I LIKELY TO DO THIS I A POOR PRINCESS KEPT IN CAPTIVITY FOR TWO YEARS WITH YOU AS MY GAOLER IN CAPTIVITY REPEATED THE QUEEN WHY THEN DO YOU DRESS YOURSELF SO FINE\n",
            "YOU LITTLE THOUGHT OF ITS ENDING SO ISABELLA NO WONDER NOW I HAVE NOT HEARD FROM HER ISABELLA HAS DESERTED MY BROTHER AND IS TO MARRY YOURS COULD YOU HAVE BELIEVED THERE HAD BEEN SUCH INCONSTANCY AND FICKLENESS\n",
            "Pred\n",
            "AND THE MOST IMPORTANT THING OF ALL THE MOST IMPORTANT THINGS OF ALL THE MOST IMPORTANT THINGS OF ALL THE MOST IMPORTANT THINGS OF ALL THE MOST IMPORTANT THINGS OF ALL THE MOST IMPORTANT THINGS OF ALL THE MOST IMPORTANT THINGS OF ALL THE MOST IMPORTANT THINGS OF ALL THE MOST IMPORTANT THINGS OF ALL THE MOST IMPORTANT THINGS OF\n",
            "THE MOST IMPORTANT THING OF ALL THE MOST IMPORTANT THINGS OF ALL THE MOST IMPORTANT THINGS OF ALL THE MOST IMPORTANT THINGS OF ALL THE MOST IMPORTANT THINGS OF ALL THE MOST IMPORTANT THINGS OF ALL THE MOST IMPORTANT THINGS OF ALL THE MOST IMPORTANT THINGS OF ALL THE MOST IMPORTANT THINGS OF ALL THE MOST IMPORTANT THINGS OF ALL\n",
            "I'M NOT A MAN OF THE WORLD BUT I'M A MAN OF THE WORLD AND I'M A MAN OF THE WORLD AND I'M A MAN OF THE WORLD AND I'M A MAN OF THE WORLD AND I'M A MAN OF THE WORLD AND I'M A MAN OF THE WORLD AND I'M A MAN OF THE WORLD AND I'M A MAN OF THE WORLD AND I'M A MAN OF THE WORLD AND I'M A MAN OF THE WORLD AND\n",
            "THE MOST IMPORTANT OF ALL THE MOST IMPORTANT OF ALL THE MOST IMPORTANT OF ALL THE MOST IMPORTANT OF ALL THE MOST IMPORTANT OF ALL THE MOST IMPORTANT OF ALL THE MOST IMPORTANT OF ALL THE MOST IMPORTANT OF ALL THE MOST IMPORTANT OF ALL THE MOST IMPORTANT OF ALL THE MOST IMPORTANT OF ALL THE MOST IMPORTANT OF ALL THE MOST IMP\n",
            "torch.Size([1, 100, 768])\n",
            "torch.Size([1, 100, 768])\n",
            "torch.Size([1, 100, 768])\n",
            "torch.Size([1, 100, 768])\n"
          ]
        },
        {
          "name": "stderr",
          "output_type": "stream",
          "text": [
            "\r28it [02:54,  6.22s/it]"
          ]
        },
        {
          "name": "stdout",
          "output_type": "stream",
          "text": [
            "Gt\n",
            "AND WAS ABOUT TO DASH WITH THEM TO THE EARTH THE MEN LEAPED TO THEIR FEET AND STARED AT THE LAD A STOWAWAY ON BOARD CRIED MISTER DAMON BLESS MY SOUL HOW DID HE ARE YOU SURE THAT MESSAGE IS STRAIGHT ASKED MISTER JENKS\n",
            "THEN HE REMARKED THAT THE ERUPTION OF VESUVIUS WAS WANING AND THE TROUBLE NEARLY OVER FOR THIS TIME\n",
            "AND HAULING THE SHEET AFT PUT THE OAR OVER THE STERN AND BROUGHT THE LITTLE CRAFT'S HEAD TO AN EASTERLY COURSE THE DRAUGHT OF AIR WAS EXTREMELY WEAK AND SCARCE FURNISHED IMPULSE ENOUGH TO THE SAIL TO RAISE A BUBBLE ALONGSIDE\n",
            "BUT WILL TAKE THE MATTER OF SENTENCE UNDER ADVISEMENT AND SO THE GUILTY PICKETS WERE SUMMARILY RELEASED THE ADMINISTRATION DID NOT RELISH THE INCARCERATION OF FORTY ONE WOMEN FOR ANOTHER REASON THAN LIMITED HOUSING ACCOMMODATIONS\n",
            "Pred\n",
            "AND THE SAME AS THE SAME AS THE SAME AS THE SAME AS THE SAME AS THE SAME AS THE SAME AS THE SAME AS THE SAME AS THE SAME AS THE SAME AS THE SAME AS THE SAME AS THE SAME AS THE SAME AS THE SAME AS THE SAME AS THE SAME AS THE SAME AS THE SAME AS THE SAME AS THE SAME AS THE SAME AS THE SAME AS THE SAME\n",
            "AND THE MOST IMPORTANT OF ALL THE MOST IMPORTANT OF ALL THE MOST IMPORTANT OF ALL THE MOST IMPORTANT OF ALL THE MOST IMPORTANT OF ALL THE MOST IMPORTANT OF ALL THE MOST IMPORTANT OF ALL THE MOST IMPORTANT OF ALL THE MOST IMPORTANT OF ALL THE MOST IMPORTANT OF ALL THE MOST IMPORTANT OF ALL THE MOST IMPORTANT OF ALL THE MOST\n",
            "I'M NOT A MAN OF THE WORLD BUT I'M A MAN OF THE WORLD AND I'M A MAN OF THE WORLD AND I'M A MAN OF THE WORLD AND I'M A MAN OF THE WORLD AND I'M A MAN OF THE WORLD AND I'M A MAN OF THE WORLD AND I'M A MAN OF THE WORLD AND I'M A MAN OF THE WORLD AND I'M A MAN OF THE WORLD AND I'M A MAN OF THE WORLD AND\n",
            "AND THE MOST IMPORTANT OF ALL THE MOST IMPORTANT OF ALL THE MOST IMPORTANT OF ALL THE MOST IMPORTANT OF ALL THE MOST IMPORTANT OF ALL THE MOST IMPORTANT OF ALL THE MOST IMPORTANT OF ALL THE MOST IMPORTANT OF ALL THE MOST IMPORTANT OF ALL THE MOST IMPORTANT OF ALL THE MOST IMPORTANT OF ALL THE MOST IMPORTANT OF ALL THE MOST\n",
            "torch.Size([1, 100, 768])\n",
            "torch.Size([1, 100, 768])\n",
            "torch.Size([1, 100, 768])\n",
            "torch.Size([1, 100, 768])\n"
          ]
        },
        {
          "name": "stderr",
          "output_type": "stream",
          "text": [
            "\r29it [03:00,  6.23s/it]"
          ]
        },
        {
          "name": "stdout",
          "output_type": "stream",
          "text": [
            "Gt\n",
            "I SPOTTED CAPE CLEAR FOR AN INSTANT PLUS THE LIGHTHOUSE ON FASTNET ROCK THAT GUIDES ALL THOSE THOUSANDS OF SHIPS SETTING OUT FROM GLASGOW OR LIVERPOOL AN IMPORTANT QUESTION THEN POPPED INTO MY HEAD\n",
            "AND SAINT JOHN AND STRICKLAND RETURNED TO ENGLAND ON JULY THIRTY FIRST SIXTEEN FIFTY ONE THEIR FAILURE CREATED A VERY BAD IMPRESSION UPON THE PARLIAMENT ALL THE OLD COMPLAINTS AGAINST THE DUTCH WERE REVIVED AND\n",
            "HE ATTACHED HIMSELF TO EACH INDIVIDUAL OF THE SHIP HE HAD NO FAVORITES BUT WAS HAIL FELLOW WELL MET WITH ALL HE DEVELOPED ALL THE PLAYFUL QUALITIES OF A PUPPY AND REASONED OUT A NUMBER OF PROBLEMS IN HIS OWN WAY\n",
            "WHILE ON THE OTHER HAND I DID AFTERWARDS DISCOVER THESE AS SOON AS I SUPPOSED GOD TO HAVE CREATED A RATIONAL SOUL AND TO HAVE ANNEXED IT TO THIS BODY IN A PARTICULAR MANNER WHICH I DESCRIBED\n",
            "Pred\n",
            "THE MOST IMPORTANT THING OF ALL THE MOST IMPORTANT THINGS OF ALL THE MOST IMPORTANT THINGS OF ALL THE MOST IMPORTANT THINGS OF ALL THE MOST IMPORTANT THINGS OF ALL THE MOST IMPORTANT THINGS OF ALL THE MOST IMPORTANT THINGS OF ALL THE MOST IMPORTANT THINGS OF ALL THE MOST IMPORTANT THINGS OF ALL THE MOST IMPORTANT THINGS OF ALL\n",
            "AND THE MOST IMPORTANT OF ALL THE MOST IMPORTANT OF ALL THE MOST IMPORTANT OF ALL THE MOST IMPORTANT OF ALL THE MOST IMPORTANT OF ALL THE MOST IMPORTANT OF ALL THE MOST IMPORTANT OF ALL THE MOST IMPORTANT OF ALL THE MOST IMPORTANT OF ALL THE MOST IMPORTANT OF ALL THE MOST IMPORTANT OF ALL THE MOST IMPORTANT OF ALL THE MOST\n",
            "THE MOST IMPORTANT THING OF ALL THE MOST IMPORTANT THINGS OF ALL THE MOST IMPORTANT THINGS OF ALL THE MOST IMPORTANT THINGS OF ALL THE MOST IMPORTANT THINGS OF ALL THE MOST IMPORTANT THINGS OF ALL THE MOST IMPORTANT THINGS OF ALL THE MOST IMPORTANT THINGS OF ALL THE MOST IMPORTANT THINGS OF ALL THE MOST IMPORTANT THINGS OF ALL\n",
            "THE MOST IMPORTANT THING OF ALL THE MOST IMPORTANT THINGS OF ALL THE MOST IMPORTANT THINGS OF ALL THE MOST IMPORTANT THINGS OF ALL THE MOST IMPORTANT THINGS OF ALL THE MOST IMPORTANT THINGS OF ALL THE MOST IMPORTANT THINGS OF ALL THE MOST IMPORTANT THINGS OF ALL THE MOST IMPORTANT THINGS OF ALL THE MOST IMPORTANT THINGS OF ALL\n",
            "torch.Size([1, 100, 768])\n",
            "torch.Size([1, 100, 768])\n",
            "torch.Size([1, 100, 768])\n",
            "torch.Size([1, 100, 768])\n"
          ]
        },
        {
          "name": "stderr",
          "output_type": "stream",
          "text": [
            "\r30it [03:06,  6.22s/it]"
          ]
        },
        {
          "name": "stdout",
          "output_type": "stream",
          "text": [
            "Gt\n",
            "SAID MISTER SMITH AS HE TOOK HIS CARDS ONE BY ONE FROM THE TABLE IN A FEW MOMENTS A FINE LOOKING BRIGHT EYED MULATTO BOY APPARENTLY ABOUT FIFTEEN YEARS OF AGE WAS STANDING BY HIS MASTER'S SIDE AT THE TABLE\n",
            "THE GIRL WAS ANNE PIERSON WHO IN SOME MYSTERIOUS MANNER HAD BEEN ALL BUT OVERLOOKED UNTIL MISS TEBBS SPIED HER STANDING BETWEEN GRACE AND NORA CAN YOU SPARE US A MOMENT MORE MISTER SOUTHARD SAID MISS TEBBS TO THE ACTOR WHO WAS PREPARING TO LEAVE\n",
            "SO FAR AS TO MAKE A REACTION DIFFICULT EXPERIENCE DEMONSTRATED THAT IN A YEAR OR TWO PESTILENCE WOULD CEASE IT WERE WELL THAT IN THE MEAN TIME\n",
            "BUT THE VOICE ADDED WHEN PROSERPINE HAS GIVEN YOU THE BOX FILLED WITH HER BEAUTY OF ALL THINGS THIS IS CHIEFLY TO BE OBSERVED BY YOU\n",
            "Pred\n",
            "AND THE MOST IMPORTANT THING OF ALL THE MOST IMPORTANT THINGS OF ALL THE MOST IMPORTANT THINGS OF ALL THE MOST IMPORTANT THINGS OF ALL THE MOST IMPORTANT THINGS OF ALL THE MOST IMPORTANT THINGS OF ALL THE MOST IMPORTANT THINGS OF ALL THE MOST IMPORTANT THINGS OF ALL THE MOST IMPORTANT THINGS OF ALL THE MOST IMPORTANT THINGS OF\n",
            "AND THE MOST IMPORTANT OF ALL THE MOST IMPORTANT OF ALL THE MOST IMPORTANT OF ALL THE MOST IMPORTANT OF ALL THE MOST IMPORTANT OF ALL THE MOST IMPORTANT OF ALL THE MOST IMPORTANT OF ALL THE MOST IMPORTANT OF ALL THE MOST IMPORTANT OF ALL THE MOST IMPORTANT OF ALL THE MOST IMPORTANT OF ALL THE MOST IMPORTANT OF ALL THE MOST\n",
            "AND THE MOST IMPORTANT THING OF ALL THE MOST IMPORTANT THINGS OF ALL THE MOST IMPORTANT THINGS OF ALL THE MOST IMPORTANT THINGS OF ALL THE MOST IMPORTANT THINGS OF ALL THE MOST IMPORTANT THINGS OF ALL THE MOST IMPORTANT THINGS OF ALL THE MOST IMPORTANT THINGS OF ALL THE MOST IMPORTANT THINGS OF ALL THE MOST IMPORTANT THINGS OF\n",
            "AND THE MOST IMPORTANT OF ALL THE MOST IMPORTANT OF ALL THE MOST IMPORTANT OF ALL THE MOST IMPORTANT OF ALL THE MOST IMPORTANT OF ALL THE MOST IMPORTANT OF ALL THE MOST IMPORTANT OF ALL THE MOST IMPORTANT OF ALL THE MOST IMPORTANT OF ALL THE MOST IMPORTANT OF ALL THE MOST IMPORTANT OF ALL THE MOST IMPORTANT OF ALL THE MOST\n",
            "torch.Size([1, 100, 768])\n",
            "torch.Size([1, 100, 768])\n",
            "torch.Size([1, 100, 768])\n",
            "torch.Size([1, 100, 768])\n"
          ]
        },
        {
          "name": "stderr",
          "output_type": "stream",
          "text": [
            "\r31it [03:13,  6.21s/it]"
          ]
        },
        {
          "name": "stdout",
          "output_type": "stream",
          "text": [
            "Gt\n",
            "AND THAT HE PROPHESIED GREAT CHANGES WHEN HIS GAS PROPELLED VEHICLE WAS PERFECTED THINK OF HOW MUCH VALUE AN ORDINARY CITIZEN OF OUR WORLD WOULD BE TO THESE BRIEFITES IF HE COULD STEP UPON THEIR WORLD AND COMMUNICATE WITH THEM CONCERNING THE MAGIC WONDERS OF STEAM\n",
            "HE WAS DASHING FOR THE LOUNGE ARCHWAY DOCTOR FRANK AND I FOLLOWED I REALIZED THAT WE PASSED THE DECK DOOR AND WINDOW OF A TWENTY TWO BUT THEY WERE DARK AND EVIDENTLY SEALED ON THE INSIDE\n",
            "YES SAID A FINE OLD FELLOW WHO WAS FLOATING NEAR HER A ROW OF THEIR MOTHERS HE WAS A TURTLE WHOM SHE HAD NEVER LIKED VERY WELL BUT NOW SHE BEGAN TO THINK THAT HE WAS RATHER AGREEABLE AFTER ALL\n",
            "NOW AT THE LOWER EXTREMITY OF THE COURT AND ABOUT TWELVE OR FIFTEEN FEET DISTANT FROM THE GARDEN WALL THERE GREW A PEAR TREE SOME OF THE BRANCHES OF WHICH OVERHUNG INTO THE GARDEN BEYOND SO FIRST MAKING SURE THAT NO ONE WAS LOOKING THAT WAY\n",
            "Pred\n",
            "AND THE MOST IMPORTANT THING OF ALL THE MOST IMPORTANT THINGS OF ALL THE MOST IMPORTANT THINGS OF ALL THE MOST IMPORTANT THINGS OF ALL THE MOST IMPORTANT THINGS OF ALL THE MOST IMPORTANT THINGS OF ALL THE MOST IMPORTANT THINGS OF ALL THE MOST IMPORTANT THINGS OF ALL THE MOST IMPORTANT THINGS OF ALL THE MOST IMPORTANT THINGS OF\n",
            "I'M NOT A MAN OF THE WORLD I'M NOT A MAN OF THE WORLD I'M NOT A MAN OF THE WORLD I'M NOT A MAN OF THE WORLD I'M NOT A MAN OF THE WORLDThe first time you see a new game you'll be able to play it on your phone or tablet while you're playing it on your computer or tablet while you're playing it on your phone or tablet while you're playing it on your computer or tablet while you're playing\n",
            "AND THE MOST IMPORTANT THING OF ALL THE MOST IMPORTANT THINGS OF ALL THE MOST IMPORTANT THINGS OF ALL THE MOST IMPORTANT THINGS OF ALL THE MOST IMPORTANT THINGS OF ALL THE MOST IMPORTANT THINGS OF ALL THE MOST IMPORTANT THINGS OF ALL THE MOST IMPORTANT THINGS OF ALL THE MOST IMPORTANT THINGS OF ALL THE MOST IMPORTANT THINGS OF\n",
            "THE MOST IMPORTANT THING OF ALL THE MOST IMPORTANT THINGS OF ALL THE MOST IMPORTANT THINGS OF ALL THE MOST IMPORTANT THINGS OF ALL THE MOST IMPORTANT THINGS OF ALL THE MOST IMPORTANT THINGS OF ALL THE MOST IMPORTANT THINGS OF ALL THE MOST IMPORTANT THINGS OF ALL THE MOST IMPORTANT THINGS OF ALL THE MOST IMPORTANT THINGS OF ALL\n",
            "torch.Size([1, 100, 768])\n",
            "torch.Size([1, 100, 768])\n",
            "torch.Size([1, 100, 768])\n",
            "torch.Size([1, 100, 768])\n"
          ]
        },
        {
          "name": "stderr",
          "output_type": "stream",
          "text": [
            "\r32it [03:19,  6.21s/it]"
          ]
        },
        {
          "name": "stdout",
          "output_type": "stream",
          "text": [
            "Gt\n",
            "AND THAT HE AVOWS THE INTENTION OF OBSERVING THE CHRISTMAS OF THE FOLLOWING YEAR WITH PUBLIC SERVICES UNLESS INDEED HE SHOULD BE ANTICIPATED BY HIS ANCIENT PREDECESSOR\n",
            "AND WHEN CLEAR OF CONFINING RAILS SPREAD ON ALL SIDES OVER THE DECK FLOWED FORWARD AND AFT OVERFLOWED DOWN THE YAWNING HATCHWAYS FILLED THE INNER RECESSES OF THE SHIP LIKE WATER FILLING A CISTERN\n",
            "OF THE WORLD ONE COULD LINGER HERE FOR DAYS BUT WE MUST SEE THE LOVELY COUNTRY SEAT CALLED WOOTTON SOME DISTANCE OUT FROM THE CITY\n",
            "ASTONISH US SAID MICHEL ARDAN I FIRMLY BELIEVE THAT AT THE PERIOD WHEN THE MOON WAS INHABITED THE NIGHTS AND DAYS DID NOT LAST THREE HUNDRED FIFTY FOUR HOURS AND WHY\n",
            "Pred\n",
            "AND THE MOST IMPORTANT OF ALL THE MOST IMPORTANT OF ALL THE MOST IMPORTANT OF ALL THE MOST IMPORTANT OF ALL THE MOST IMPORTANT OF ALL THE MOST IMPORTANT OF ALL THE MOST IMPORTANT OF ALL THE MOST IMPORTANT OF ALL THE MOST IMPORTANT OF ALL THE MOST IMPORTANT OF ALL THE MOST IMPORTANT OF ALL THE MOST IMPORTANT OF ALL THE MOST\n",
            "AND THE MOST IMPORTANT OF ALL THE MOST IMPORTANT OF ALL THE MOST IMPORTANT OF ALL THE MOST IMPORTANT OF ALL THE MOST IMPORTANT OF ALL THE MOST IMPORTANT OF ALL THE MOST IMPORTANT OF ALL THE MOST IMPORTANT OF ALL THE MOST IMPORTANT OF ALL THE MOST IMPORTANT OF ALL THE MOST IMPORTANT OF ALL THE MOST IMPORTANT OF ALL THE MOST\n",
            "AND THE MOST IMPORTANT OF ALL THE MOST IMPORTANT OF ALL THE MOST IMPORTANT OF ALL THE MOST IMPORTANT OF ALL THE MOST IMPORTANT OF ALL THE MOST IMPORTANT OF ALL THE MOST IMPORTANT OF ALL THE MOST IMPORTANT OF ALL THE MOST IMPORTANT OF ALL THE MOST IMPORTANT OF ALL THE MOST IMPORTANT OF ALL THE MOST IMPORTANT OF ALL THE MOST\n",
            "THE MOST IMPORTANT OF ALL THE MOST IMPORTANT OF ALL THE MOST IMPORTANT OF ALL THE MOST IMPORTANT OF ALL THE MOST IMPORTANT OF ALL THE MOST IMPORTANT OF ALL THE MOST IMPORTANT OF ALL THE MOST IMPORTANT OF ALL THE MOST IMPORTANT OF ALL THE MOST IMPORTANT OF ALL THE MOST IMPORTANT OF ALL THE MOST IMPORTANT OF ALL THE MOST IMP\n",
            "torch.Size([1, 100, 768])\n",
            "torch.Size([1, 100, 768])\n",
            "torch.Size([1, 100, 768])\n",
            "torch.Size([1, 100, 768])\n"
          ]
        },
        {
          "name": "stderr",
          "output_type": "stream",
          "text": [
            "\r33it [03:25,  6.21s/it]"
          ]
        },
        {
          "name": "stdout",
          "output_type": "stream",
          "text": [
            "Gt\n",
            "THERE WAS LESS SPITE IN ITS WASH LESS FURY IN ITS BLOW THE MULTITUDINOUS ROARING OF THE HEAVING BLACKNESS HAD SOBERED INTO A HARD AND SULLEN GROWLING A SOUND AS OF THUNDER AMONG MOUNTAINS HEARD IN A VALLEY\n",
            "HIS FATHER REMONSTRATIVE BUT COVERTLY PROUD OF THE EXCESS HAD PAID HIS BILLS AND BROUGHT HIM HOME\n",
            "I DON'T THINK HE WOULD BE OF THE SLIGHTEST USE TO YOU SHE SAID STILL STOOPING AND SHE FELT LIKE A DEVIL DRAGGING THE SOUL OF HER BROTHER TO HELL BUT THAT WAS A FOOLISH FANCY AND MUST BE RESISTED\n",
            "WHAT SAY YOU TO HALF A GLASS OF WINE A SMALL HALF GLASS PUT INTO A TUMBLER OF WATER I DO NOT THINK IT COULD DISAGREE WITH YOU EMMA ALLOWED HER FATHER TO TALK BUT SUPPLIED HER VISITORS IN A MUCH MORE SATISFACTORY STYLE\n",
            "Pred\n",
            "AND THE MOST IMPORTANT OF ALL THE MOST IMPORTANT OF ALL THE MOST IMPORTANT OF ALL THE MOST IMPORTANT OF ALL THE MOST IMPORTANT OF ALL THE MOST IMPORTANT OF ALL THE MOST IMPORTANT OF ALL THE MOST IMPORTANT OF ALL THE MOST IMPORTANT OF ALL THE MOST IMPORTANT OF ALL THE MOST IMPORTANT OF ALL THE MOST IMPORTANT OF ALL THE MOST\n",
            "AND THE MOST IMPORTANT OF ALL THE MOST IMPORTANT OF ALL THE MOST IMPORTANT OF ALL THE MOST IMPORTANT OF ALL THE MOST IMPORTANT OF ALL THE MOST IMPORTANT OF ALL THE MOST IMPORTANT OF ALL THE MOST IMPORTANT OF ALL THE MOST IMPORTANT OF ALL THE MOST IMPORTANT OF ALL THE MOST IMPORTANT OF ALL THE MOST IMPORTANT OF ALL THE MOST\n",
            "AND THE MOST IMPORTANT THING OF ALL THE MOST IMPORTANT THINGS OF ALL THE MOST IMPORTANT THINGS OF ALL THE MOST IMPORTANT THINGS OF ALL THE MOST IMPORTANT THINGS OF ALL THE MOST IMPORTANT THINGS OF ALL THE MOST IMPORTANT THINGS OF ALL THE MOST IMPORTANT THINGS OF ALL THE MOST IMPORTANT THINGS OF ALL THE MOST IMPORTANT THINGS OF\n",
            "THE MOST IMPORTANT THING OF ALL THE MOST IMPORTANT THINGS OF ALL THE MOST IMPORTANT THINGS OF ALL THE MOST IMPORTANT THINGS OF ALL THE MOST IMPORTANT THINGS OF ALL THE MOST IMPORTANT THINGS OF ALL THE MOST IMPORTANT THINGS OF ALL THE MOST IMPORTANT THINGS OF ALL THE MOST IMPORTANT THINGS OF ALL THE MOST IMPORTANT THINGS OF ALL\n",
            "torch.Size([1, 100, 768])\n",
            "torch.Size([1, 100, 768])\n",
            "torch.Size([1, 100, 768])\n",
            "torch.Size([1, 100, 768])\n"
          ]
        },
        {
          "name": "stderr",
          "output_type": "stream",
          "text": [
            "\r34it [03:31,  6.22s/it]"
          ]
        },
        {
          "name": "stdout",
          "output_type": "stream",
          "text": [
            "Gt\n",
            "HAD LOVED HER AS MUCH AS SHE DID THE OTHERS WHO WERE ALL WHITE GRAY OR YELLOW POOR LITTLE BLOT HAD BEEN MUCH NEGLECTED BY EVERY ONE BUT NOW HER LONELY MAMMA DISCOVERED HOW GOOD AND AFFECTIONATE A CHICKEN SHE WAS\n",
            "BUT SHE WAS VERY BRAVE EMERSON GILLIS SAYS IF SHE THOUGHT IT WAS A DOG SHE WASN'T ANY BRAVER THAN IF IT REALLY WAS A DOG BUT EMERSON IS JEALOUS BECAUSE HE HASN'T GOT A BRAVE AUNT HIMSELF NOTHING BUT UNCLES I HAVE KEPT THE BEST FOR THE LAST\n",
            "NOTHING LESS THAN FATAL EXPERIENCE COULD ENGAGE THE ENGLISH PRINCES TO PAY A DUE REGARD TO THE INCLINATIONS OF THAT FORMIDABLE ASSEMBLY THE EARL OF SUFFOLK CHANCELLOR OF THE UNIVERSITY OF CAMBRIDGE DYING ABOUT THIS TIME\n",
            "PARALLELING EACH OTHER FOR ALMOST A HUNDRED YARDS\n",
            "Pred\n",
            "AND THE MOST IMPORTANT OF ALL THE MOST IMPORTANT OF ALL THE MOST IMPORTANT OF ALL THE MOST IMPORTANT OF ALL THE MOST IMPORTANT OF ALL THE MOST IMPORTANT OF ALL THE MOST IMPORTANT OF ALL THE MOST IMPORTANT OF ALL THE MOST IMPORTANT OF ALL THE MOST IMPORTANT OF ALL THE MOST IMPORTANT OF ALL THE MOST IMPORTANT OF ALL THE MOST\n",
            "AND THE MOST IMPORTANT OF ALL THE MOST IMPORTANT OF ALL THE MOST IMPORTANT OF ALL THE MOST IMPORTANT OF ALL THE MOST IMPORTANT OF ALL THE MOST IMPORTANT OF ALL THE MOST IMPORTANT OF ALL THE MOST IMPORTANT OF ALL THE MOST IMPORTANT OF ALL THE MOST IMPORTANT OF ALL THE MOST IMPORTANT OF ALL THE MOST IMPORTANT OF ALL THE MOST\n",
            "AND THE MOST IMPORTANT OF ALL THE MOST IMPORTANT OF ALL THE MOST IMPORTANT OF ALL THE MOST IMPORTANT OF ALL THE MOST IMPORTANT OF ALL THE MOST IMPORTANT OF ALL THE MOST IMPORTANT OF ALL THE MOST IMPORTANT OF ALL THE MOST IMPORTANT OF ALL THE MOST IMPORTANT OF ALL THE MOST IMPORTANT OF ALL THE MOST IMPORTANT OF ALL THE MOST\n",
            "AND THE MOST IMPORTANT THING OF ALL THE MOST IMPORTANT THINGS OF ALL THE MOST IMPORTANT THINGS OF ALL THE MOST IMPORTANT THINGS OF ALL THE MOST IMPORTANT THINGS OF ALL THE MOST IMPORTANT THINGS OF ALL THE MOST IMPORTANT THINGS OF ALL THE MOST IMPORTANT THINGS OF ALL THE MOST IMPORTANT THINGS OF ALL THE MOST IMPORTANT THINGS OF\n",
            "torch.Size([1, 100, 768])\n",
            "torch.Size([1, 100, 768])\n",
            "torch.Size([1, 100, 768])\n",
            "torch.Size([1, 100, 768])\n"
          ]
        },
        {
          "name": "stderr",
          "output_type": "stream",
          "text": [
            "\r35it [03:37,  6.22s/it]"
          ]
        },
        {
          "name": "stdout",
          "output_type": "stream",
          "text": [
            "Gt\n",
            "OR IF HE DID NOT HIS FRIENDS AND CHILDREN DID THERE WERE GREAT VEXATIONS HOWEVER ATTENDING SUCH A GARDEN AS HIS\n",
            "WE MAY REJOICE THAT THESE CAUSES OF IRRITATION NO LONGER EXIST AND THAT IF SUCH FEELINGS AS JEALOUSY RIVALRY AND DISCONTENT EVER TOUCH CELESTIAL BOSOMS IN THE MODERN BALL ROOM THEY MUST ARISE FROM DIFFERENT AND MORE RECONDITE SOURCES\n",
            "HE TECK DAT TIME TOO\n",
            "I WAS ABOUT TO CALL UPON HIM BUT I WANTED TO SEE YOU FIRST I WILL GO WITH YOU I HAVE NOT DONE HIM JUSTICE REPLIED EDWARD AND YET I HARDLY KNOW HOW TO EXPLAIN TO HIM SAY NOTHING BUT MEET HIM CORDIALLY\n",
            "Pred\n",
            "THE MOST IMPORTANT THING OF ALL THE MOST IMPORTANT THINGS OF ALL THE MOST IMPORTANT THINGS OF ALL THE MOST IMPORTANT THINGS OF ALL THE MOST IMPORTANT THINGS OF ALL THE MOST IMPORTANT THINGS OF ALL THE MOST IMPORTANT THINGS OF ALL THE MOST IMPORTANT THINGS OF ALL THE MOST IMPORTANT THINGS OF ALL THE MOST IMPORTANT THINGS OF ALL\n",
            "I'M NOT A MAN BUT A MAN AND I'M NOT A MAN BUT A MAN AND I'M NOT A MAN BUT A MAN AND I'M NOT A MAN BUT A MAN AND I'M NOT A MAN BUT A MAN AND I'M NOT A MAN BUT A MAN AND I'M NOT A MAN BUT A MAN AND I'M NOT A MAN BUT A MAN AND I'M NOT A MAN BUT A MAN AND I'M NOT A MAN BUT A MAN AND\n",
            "AND THE MOST IMPORTANT THING OF ALL THE MOST IMPORTANT THINGS OF ALL THE MOST IMPORTANT THINGS OF ALL THE MOST IMPORTANT THINGS OF ALL THE MOST IMPORTANT THINGS OF ALL THE MOST IMPORTANT THINGS OF ALL THE MOST IMPORTANT THINGS OF ALL THE MOST IMPORTANT THINGS OF ALL THE MOST IMPORTANT THINGS OF ALL THE MOST IMPORTANT THINGS OF\n",
            "I'M NOT A MAN OF THE WORLD BUT I'M A MAN OF THE WORLD AND I'M A MAN OF THE WORLD AND I'M A MAN OF THE WORLD AND I'M A MAN OF THE WORLD AND I'M A MAN OF THE WORLD AND I'M A MAN OF THE WORLD AND I'M A MAN OF THE WORLD AND I'M A MAN OF THE WORLD AND I'M A MAN OF THE WORLD AND I'M A MAN OF THE WORLD AND\n",
            "torch.Size([1, 100, 768])\n",
            "torch.Size([1, 100, 768])\n",
            "torch.Size([1, 100, 768])\n",
            "torch.Size([1, 100, 768])\n"
          ]
        },
        {
          "name": "stderr",
          "output_type": "stream",
          "text": [
            "\r36it [03:44,  6.21s/it]"
          ]
        },
        {
          "name": "stdout",
          "output_type": "stream",
          "text": [
            "Gt\n",
            "THOUGH HANDSOME HE BELONGED TO THE UGLY CLUB THIS CLUB WAS DEDICATED TO DEFORMITY THE MEMBERS AGREED TO FIGHT NOT ABOUT A BEAUTIFUL WOMAN BUT ABOUT AN UGLY MAN THE HALL OF THE CLUB WAS ADORNED BY HIDEOUS PORTRAITS\n",
            "FOR HEAVEN'S SAKE HOLD YOUR HAND ALLOW ME ONE WORD\n",
            "I WAS NOT VERY EASY IN THAT PROPOSAL NOT KNOWING WHAT POSTURE I WAS TO LIVE IN THERE OR HOW HE MIGHT USE ME BUT WHILE THIS WAS IN DEBATE\n",
            "SHALL I GIVE YOU COUNSEL GOOD COUNSEL THE COUNSEL OF A FRIEND\n",
            "Pred\n",
            "AND THE MOST IMPORTANT THING OF ALL THE MOST IMPORTANT THINGS OF ALL THE MOST IMPORTANT THINGS OF ALL THE MOST IMPORTANT THINGS OF ALL THE MOST IMPORTANT THINGS OF ALL THE MOST IMPORTANT THINGS OF ALL THE MOST IMPORTANT THINGS OF ALL THE MOST IMPORTANT THINGS OF ALL THE MOST IMPORTANT THINGS OF ALL THE MOST IMPORTANT THINGS OF\n",
            "THE MOST IMPORTANT THING OF ALL THE MOST IMPORTANT THINGS OF ALL THE MOST IMPORTANT THINGS OF ALL THE MOST IMPORTANT THINGS OF ALL THE MOST IMPORTANT THINGS OF ALL THE MOST IMPORTANT THINGS OF ALL THE MOST IMPORTANT THINGS OF ALL THE MOST IMPORTANT THINGS OF ALL THE MOST IMPORTANT THINGS OF ALL THE MOST IMPORTANT THINGS OF ALL\n",
            "AND THE MOST IMPORTANT OF ALL THE MOST IMPORTANT OF ALL THE MOST IMPORTANT OF ALL THE MOST IMPORTANT OF ALL THE MOST IMPORTANT OF ALL THE MOST IMPORTANT OF ALL THE MOST IMPORTANT OF ALL THE MOST IMPORTANT OF ALL THE MOST IMPORTANT OF ALL THE MOST IMPORTANT OF ALL THE MOST IMPORTANT OF ALL THE MOST IMPORTANT OF ALL THE MOST\n",
            "THE MOST IMPORTANT THING OF ALL THE MOST IMPORTANT THINGS OF ALL THE MOST IMPORTANT THINGS OF ALL THE MOST IMPORTANT THINGS OF ALL THE MOST IMPORTANT THINGS OF ALL THE MOST IMPORTANT THINGS OF ALL THE MOST IMPORTANT THINGS OF ALL THE MOST IMPORTANT THINGS OF ALL THE MOST IMPORTANT THINGS OF ALL THE MOST IMPORTANT THINGS OF ALL\n",
            "torch.Size([1, 100, 768])\n",
            "torch.Size([1, 100, 768])\n",
            "torch.Size([1, 100, 768])\n",
            "torch.Size([1, 100, 768])\n"
          ]
        },
        {
          "name": "stderr",
          "output_type": "stream",
          "text": [
            "\r37it [03:50,  6.24s/it]"
          ]
        },
        {
          "name": "stdout",
          "output_type": "stream",
          "text": [
            "Gt\n",
            "AND YOU WON'T BE AWAY MUCH LONGER THAN YOU WERE WHEN YOU WENT TO ELMHURST AFTER AUNT JANE'S MONEY WHICH YOU DIDN'T GET MARY TAKES FINE CARE OF OUR LITTLE ROOMS AND DOUBTLESS I SHALL BE SO BUSY THAT I WON'T MISS YOU AT ALL AT ALL DADDY\n",
            "COMING AFTER THEM BEGAN TO RUN TOO AND THE CAPTAIN RAN HARDEST OF ALL THEN THE DOCTOR TRIPPED OVER HIS MEDICINE BAG AND FELL DOWN IN THE MUD AND THE CAPTAIN THOUGHT HE WOULD SURELY CATCH HIM THIS TIME\n",
            "THE SUCCEEDING SECTIONS OF THE BOOK TREAT IN SOME DETAIL THE LIGHT CAST ON SPIRITUAL PROBLEMS BY MENTAL ANALYSIS A PROCESS WHICH NEED NOT NECESSARILY BE CONDUCTED FROM THE STANDPOINT OF A DEGRADED MATERIALISM\n",
            "AND ON THE SUCCEEDING DAY FAVOURED TO AN UNCOMMON DEGREE BY A FINE EASTERLY BREEZE WE CLOSED IN WITH THE BARNEVELTS AND RUNNING PAST CAPE DECEIT WITH ITS STONY PEAKS ABOUT THREE O'CLOCK DOUBLED THE WEATHER BEATEN CAPE HORN THE EVENING WAS CALM AND BRIGHT\n",
            "Pred\n",
            "THE MOST IMPORTANT THING OF ALL THE MOST IMPORTANT THINGS OF ALL THE MOST IMPORTANT THINGS OF ALL THE MOST IMPORTANT THINGS OF ALL THE MOST IMPORTANT THINGS OF ALL THE MOST IMPORTANT THINGS OF ALL THE MOST IMPORTANT THINGS OF ALL THE MOST IMPORTANT THINGS OF ALL THE MOST IMPORTANT THINGS OF ALL THE MOST IMPORTANT THINGS OF ALL\n",
            "AND THE MOST IMPORTANT OF ALL THE MOST IMPORTANT OF ALL THE MOST IMPORTANT OF ALL THE MOST IMPORTANT OF ALL THE MOST IMPORTANT OF ALL THE MOST IMPORTANT OF ALL THE MOST IMPORTANT OF ALL THE MOST IMPORTANT OF ALL THE MOST IMPORTANT OF ALL THE MOST IMPORTANT OF ALL THE MOST IMPORTANT OF ALL THE MOST IMPORTANT OF ALL THE MOST\n",
            "AND THE MOST IMPORTANT OF ALL THE MOST IMPORTANT OF ALL THE MOST IMPORTANT OF ALL THE MOST IMPORTANT OF ALL THE MOST IMPORTANT OF ALL THE MOST IMPORTANT OF ALL THE MOST IMPORTANT OF ALL THE MOST IMPORTANT OF ALL THE MOST IMPORTANT OF ALL THE MOST IMPORTANT OF ALL THE MOST IMPORTANT OF ALL THE MOST IMPORTANT OF ALL THE MOST\n",
            "I'M NOT A MAN OF THE WORLD BUT I'M A MAN OF THE WORLD AND I'M A MAN OF THE WORLD AND I'M A MAN OF THE WORLD AND I'M A MAN OF THE WORLD AND I'M A MAN OF THE WORLD AND I'M A MAN OF THE WORLD AND I'M A MAN OF THE WORLD AND I'M A MAN OF THE WORLD AND I'M A MAN OF THE WORLD AND I'M A MAN OF THE WORLD AND\n",
            "torch.Size([1, 100, 768])\n",
            "torch.Size([1, 100, 768])\n",
            "torch.Size([1, 100, 768])\n",
            "torch.Size([1, 100, 768])\n"
          ]
        },
        {
          "name": "stderr",
          "output_type": "stream",
          "text": [
            "\r38it [03:56,  6.24s/it]"
          ]
        },
        {
          "name": "stdout",
          "output_type": "stream",
          "text": [
            "Gt\n",
            "HE REPLIED WHAT BECAME OF THE YOUNG MAN ASKED THE GIRL HE'S A COMPETENT CHAUFFEUR AND SO HE WENT TO WORK DRIVING AN AUTOMOBILE WHERE IS MILLVILLE INQUIRED UNCLE JOHN THOUGHTFULLY SOMEWHERE AT THE NORTH OF THE STATE I BELIEVE\n",
            "AND PLENTY OF THE LANGUID MUSIC OF PIANOS MINGLING WITH THE BABEL NOISES OF COMMERCE CARRIED ON IN A HUNDRED TONGUES THE MAIN STREETS ARE CROWDED WITH BRIGHT WIDE AWAKE LAWYERS MINISTERS MERCHANTS AGENTS FOR EVERYTHING UNDER THE SUN\n",
            "MINUTELY AND SAGACIOUSLY DIRECTING THE VARIOUS MODES OF INVESTMENT HE BEQUEATHED THE AGGREGATE AMOUNT TO THE NEAREST OF BLOOD BEARING THE NAME ELLISON WHO SHOULD BE ALIVE AT THE END OF THE HUNDRED YEARS\n",
            "NO TIME WAS WASTED IN WORDS ELZEVIR HAD THE FLASK IN HIS POCKET AND THE BOY WAS BITING THE CROWN WHAT SHOT HAVE YOU SAID ELZEVIR WHAT HAVE YOU DROPPED YOUR SHOT FLASK TOO ASKED THE BOY\n",
            "Pred\n",
            "AND THE MOST IMPORTANT OF ALL THE MOST IMPORTANT OF ALL THE MOST IMPORTANT OF ALL THE MOST IMPORTANT OF ALL THE MOST IMPORTANT OF ALL THE MOST IMPORTANT OF ALL THE MOST IMPORTANT OF ALL THE MOST IMPORTANT OF ALL THE MOST IMPORTANT OF ALL THE MOST IMPORTANT OF ALL THE MOST IMPORTANT OF ALL THE MOST IMPORTANT OF ALL THE MOST\n",
            "THE MOST IMPORTANT THING OF ALL THE MOST IMPORTANT THINGS OF ALL THE MOST IMPORTANT THINGS OF ALL THE MOST IMPORTANT THINGS OF ALL THE MOST IMPORTANT THINGS OF ALL THE MOST IMPORTANT THINGS OF ALL THE MOST IMPORTANT THINGS OF ALL THE MOST IMPORTANT THINGS OF ALL THE MOST IMPORTANT THINGS OF ALL THE MOST IMPORTANT THINGS OF ALL\n",
            "AND THE MOST IMPORTANT THING OF ALL THE MOST IMPORTANT THINGS OF ALL THE MOST IMPORTANT THINGS OF ALL THE MOST IMPORTANT THINGS OF ALL THE MOST IMPORTANT THINGS OF ALL THE MOST IMPORTANT THINGS OF ALL THE MOST IMPORTANT THINGS OF ALL THE MOST IMPORTANT THINGS OF ALL THE MOST IMPORTANT THINGS OF ALL THE MOST IMPORTANT THINGS OF\n",
            "AND THE MOST IMPORTANT OF ALL THE MOST IMPORTANT OF ALL THE MOST IMPORTANT OF ALL THE MOST IMPORTANT OF ALL THE MOST IMPORTANT OF ALL THE MOST IMPORTANT OF ALL THE MOST IMPORTANT OF ALL THE MOST IMPORTANT OF ALL THE MOST IMPORTANT OF ALL THE MOST IMPORTANT OF ALL THE MOST IMPORTANT OF ALL THE MOST IMPORTANT OF ALL THE MOST\n",
            "torch.Size([1, 100, 768])\n",
            "torch.Size([1, 100, 768])\n",
            "torch.Size([1, 100, 768])\n",
            "torch.Size([1, 100, 768])\n"
          ]
        },
        {
          "name": "stderr",
          "output_type": "stream",
          "text": [
            "\r39it [04:02,  6.26s/it]"
          ]
        },
        {
          "name": "stdout",
          "output_type": "stream",
          "text": [
            "Gt\n",
            "WHO WERE DIRECTING THEIR LABOURS THE BURLY LABOURERS OF THE OLD VICTORIAN TIMES HAD FOLLOWED THAT DRAY HORSE AND ALL SUCH LIVING FORCE PRODUCERS TO EXTINCTION THE PLACE OF HIS COSTLY MUSCLES WAS TAKEN BY SOME DEXTEROUS MACHINE\n",
            "YOU WOULD NOT FOR INSTANCE NOW GO TO A BALL FOR THE WORLD YOU FEEL THAT YOU HAVE NO LONGER ANY FRIEND TO WHOM YOU CAN SPEAK WITH UNRESERVE ON WHOSE REGARD YOU CAN PLACE DEPENDENCE OR WHOSE COUNSEL\n",
            "AND FOR FRUIT THEY SAY IT COMES UP SO FAST YOU CAN'T STOP IT AND THEN HE WOULD PASS INTO DETAILS ABOUT THE HASH ENDERS AND THE RESURRECTOS AND TECHNICAL THINGS LIKE THAT TILL IT WAS THOUGHT A WONDER HOW HE COULD KNOW IT STILL IT WAS REALIZED THAT A MAN WITH MONEY HAS GOT TO KNOW THESE THINGS\n",
            "I WANT YOU TO TAKE ME UP IN YOUR FINE CARRIAGE AND CARRY ME BACK ANDREA TURNED PALE BUT SAID NOTHING\n",
            "Pred\n",
            "AND THE MOST IMPORTANT THING OF ALL THE MOST IMPORTANT THINGS OF ALL THE MOST IMPORTANT THINGS OF ALL THE MOST IMPORTANT THINGS OF ALL THE MOST IMPORTANT THINGS OF ALL THE MOST IMPORTANT THINGS OF ALL THE MOST IMPORTANT THINGS OF ALL THE MOST IMPORTANT THINGS OF ALL THE MOST IMPORTANT THINGS OF ALL THE MOST IMPORTANT THINGS OF\n",
            "AND THE MOST IMPORTANT OF ALL THE MOST IMPORTANT OF ALL THE MOST IMPORTANT OF ALL THE MOST IMPORTANT OF ALL THE MOST IMPORTANT OF ALL THE MOST IMPORTANT OF ALL THE MOST IMPORTANT OF ALL THE MOST IMPORTANT OF ALL THE MOST IMPORTANT OF ALL THE MOST IMPORTANT OF ALL THE MOST IMPORTANT OF ALL THE MOST IMPORTANT OF ALL THE MOST\n",
            "AND THE MOST IMPORTANT OF ALL THE MOST IMPORTANT OF ALL THE MOST IMPORTANT OF ALL THE MOST IMPORTANT OF ALL THE MOST IMPORTANT OF ALL THE MOST IMPORTANT OF ALL THE MOST IMPORTANT OF ALL THE MOST IMPORTANT OF ALL THE MOST IMPORTANT OF ALL THE MOST IMPORTANT OF ALL THE MOST IMPORTANT OF ALL THE MOST IMPORTANT OF ALL THE MOST\n",
            "AND THE MOST IMPORTANT OF ALL THE MOST IMPORTANT OF ALL THE MOST IMPORTANT OF ALL THE MOST IMPORTANT OF ALL THE MOST IMPORTANT OF ALL THE MOST IMPORTANT OF ALL THE MOST IMPORTANT OF ALL THE MOST IMPORTANT OF ALL THE MOST IMPORTANT OF ALL THE MOST IMPORTANT OF ALL THE MOST IMPORTANT OF ALL THE MOST IMPORTANT OF ALL THE MOST\n",
            "torch.Size([1, 100, 768])\n",
            "torch.Size([1, 100, 768])\n",
            "torch.Size([1, 100, 768])\n",
            "torch.Size([1, 100, 768])\n"
          ]
        },
        {
          "name": "stderr",
          "output_type": "stream",
          "text": [
            "\r40it [04:09,  6.24s/it]"
          ]
        },
        {
          "name": "stdout",
          "output_type": "stream",
          "text": [
            "Gt\n",
            "AND THIS NIGHT AND DAY TRAVELLING HAD BROUGHT HER AT LAST WITHIN SIGHT OF THE SHORES OF ENGLAND IN A FEW MINUTES SHE WOULD SET FOOT UPON THEM AND THEN THERE WOULD BE BUT TWO MORE STAGES TO HER JOURNEY FOR FROM THE MOMENT SHE STARTED\n",
            "THE DOORS OF WHICH THEY CLOSED JUST IN TIME TO PREVENT THEIR ENEMIES FROM ENTERING WITH THEM AS TO THE WOUNDED MAN HE HAD BEEN TAKEN IN AT ONCE AND AS WE HAVE SAID IN A VERY BAD STATE\n",
            "WITH KAIMAK ENRICHED WITH THE CANDIED PEEL OF CITRONS WITH ORANGES LEMONS PINE APPLES PISTACHIO NUTS AND MOCHA COFFEE UNADULTERATED WITH THE BAD COFFEE OF BATAVIA OR THE AMERICAN ISLANDS\n",
            "BROBDIGNAGIANS BUT WE ON OUR STABLE ABODE COULD NOT BE HURT IN LIFE OR LIMB BY THESE ERUPTIONS OF NATURE WE COULD NOT FEAR WE DID NOT YET A FEELING OF AWE\n",
            "Pred\n",
            "THE MOST IMPORTANT THING OF ALL THE MOST IMPORTANT THINGS OF ALL THE MOST IMPORTANT THINGS OF ALL THE MOST IMPORTANT THINGS OF ALL THE MOST IMPORTANT THINGS OF ALL THE MOST IMPORTANT THINGS OF ALL THE MOST IMPORTANT THINGS OF ALL THE MOST IMPORTANT THINGS OF ALL THE MOST IMPORTANT THINGS OF ALL THE MOST IMPORTANT THINGS OF ALL\n",
            "THE MOST IMPORTANT OF ALL THE MOST IMPORTANT OF ALL THE MOST IMPORTANT OF ALL THE MOST IMPORTANT OF ALL THE MOST IMPORTANT OF ALL THE MOST IMPORTANT OF ALL THE MOST IMPORTANT OF ALL THE MOST IMPORTANT OF ALL THE MOST IMPORTANT OF ALL THE MOST IMPORTANT OF ALL THE MOST IMPORTANT OF ALL THE MOST IMPORTANT OF ALL THE MOST IMP\n",
            "I'M NOT A MAN OF THE WORLD I'M NOT A MAN OF THE WORLD I'M NOT A MAN OF THE WORLD I'M NOT A MAN OF THE WORLDThe first time I saw this video on YouTube I thought it was a joke but it was actually a real one so it's not like it's just some kind of joke but it's realThe first time I saw this video on YouTube I thought it was a joke but it was actually a real one so it\n",
            "AND THE MOST IMPORTANT OF ALL THE MOST IMPORTANT OF ALL THE MOST IMPORTANT OF ALL THE MOST IMPORTANT OF ALL THE MOST IMPORTANT OF ALL THE MOST IMPORTANT OF ALL THE MOST IMPORTANT OF ALL THE MOST IMPORTANT OF ALL THE MOST IMPORTANT OF ALL THE MOST IMPORTANT OF ALL THE MOST IMPORTANT OF ALL THE MOST IMPORTANT OF ALL THE MOST\n",
            "torch.Size([1, 100, 768])\n",
            "torch.Size([1, 100, 768])\n",
            "torch.Size([1, 100, 768])\n",
            "torch.Size([1, 100, 768])\n"
          ]
        },
        {
          "name": "stderr",
          "output_type": "stream",
          "text": [
            "\r41it [04:15,  6.22s/it]"
          ]
        },
        {
          "name": "stdout",
          "output_type": "stream",
          "text": [
            "Gt\n",
            "SHE WAS REGULARLY ADVERTISED AS THE FAST RUNNING ET CETERA HER REGULAR TRIPS FROM NEW ORLEANS TO NATCHEZ WERE USUALLY MADE IN FROM SIX TO EIGHT DAYS A TRIP MADE BY HER IN FIVE DAYS WAS CONSIDERED REMARKABLE\n",
            "THOUGH HE WOULD HARDLY KNOW THE CAUSE OF HIS MISERY HER RIDICULE AND RAILLERY HE COULD BEAR\n",
            "THE GOWN HAD FALLEN AWAY FROM HER BREAST AND SHOWED THE CONVULSIVE FLUTTERING OF HER HEART\n",
            "AND TWO HAD ALREADY BEEN GUILLOTINED AND FORGOTTEN THE LIST WAS READ IN THE VAULTED CHAMBER WHERE DARNAY HAD SEEN THE ASSOCIATED PRISONERS ON THE NIGHT OF HIS ARRIVAL EVERY ONE OF THOSE HAD PERISHED IN THE MASSACRE\n",
            "Pred\n",
            "AND THE MOST IMPORTANT THING OF ALL THE MOST IMPORTANT THINGS OF ALL THE MOST IMPORTANT THINGS OF ALL THE MOST IMPORTANT THINGS OF ALL THE MOST IMPORTANT THINGS OF ALL THE MOST IMPORTANT THINGS OF ALL THE MOST IMPORTANT THINGS OF ALL THE MOST IMPORTANT THINGS OF ALL THE MOST IMPORTANT THINGS OF ALL THE MOST IMPORTANT THINGS OF\n",
            "AND THE MOST IMPORTANT OF ALL THE MOST IMPORTANT OF ALL THE MOST IMPORTANT OF ALL THE MOST IMPORTANT OF ALL THE MOST IMPORTANT OF ALL THE MOST IMPORTANT OF ALL THE MOST IMPORTANT OF ALL THE MOST IMPORTANT OF ALL THE MOST IMPORTANT OF ALL THE MOST IMPORTANT OF ALL THE MOST IMPORTANT OF ALL THE MOST IMPORTANT OF ALL THE MOST\n",
            "AND THE MOST IMPORTANT THING OF ALL THE MOST IMPORTANT THINGS OF ALL THE MOST IMPORTANT THINGS OF ALL THE MOST IMPORTANT THINGS OF ALL THE MOST IMPORTANT THINGS OF ALL THE MOST IMPORTANT THINGS OF ALL THE MOST IMPORTANT THINGS OF ALL THE MOST IMPORTANT THINGS OF ALL THE MOST IMPORTANT THINGS OF ALL THE MOST IMPORTANT THINGS OF\n",
            "AND THE MOST IMPORTANT OF ALL THE MOST IMPORTANT OF ALL THE MOST IMPORTANT OF ALL THE MOST IMPORTANT OF ALL THE MOST IMPORTANT OF ALL THE MOST IMPORTANT OF ALL THE MOST IMPORTANT OF ALL THE MOST IMPORTANT OF ALL THE MOST IMPORTANT OF ALL THE MOST IMPORTANT OF ALL THE MOST IMPORTANT OF ALL THE MOST IMPORTANT OF ALL THE MOST\n",
            "torch.Size([1, 100, 768])\n",
            "torch.Size([1, 100, 768])\n",
            "torch.Size([1, 100, 768])\n",
            "torch.Size([1, 100, 768])\n"
          ]
        },
        {
          "name": "stderr",
          "output_type": "stream",
          "text": [
            "\r42it [04:21,  6.21s/it]"
          ]
        },
        {
          "name": "stdout",
          "output_type": "stream",
          "text": [
            "Gt\n",
            "AND WITH THE SORT OF TRANQUILLITY OBVIOUS IN ALL SHE DID A TRANQUILLITY WHICH SOOTHED AND SUITED ME SINGULARLY AT LEAST I THOUGHT SO THAT EVENING BRUSSELS SEEMED A VERY PLEASANT PLACE TO ME WHEN I GOT OUT AGAIN INTO THE STREET\n",
            "AS ROUSSEAU EIGHTY YEARS AGO HANDLED LETTERS WITH A MAGNIFICENT AND POETICAL DISPLAY OF WIT AND KNOWLEDGE SUCH AT LEAST IS MY OPINION\n",
            "LET THIS BE A WARNING THAT NO FURTHER INTERFERENCE WILL BE OF AVAIL THE CAPTAIN LOOKED FROM THE NOTE TO THE CHAIN\n",
            "PHINEAS COULD NOT KEEP HIMSELF FROM FEELING THAT MISSUS LOW INTENDED TO TRIUMPH OVER HIM BUT NEVERTHELESS HE ACCEPTED THE INVITATION THEY WERE VERY GLAD TO SEE HIM EXPLAINING THAT\n",
            "Pred\n",
            "AND THE MOST IMPORTANT OF ALL THE MOST IMPORTANT OF ALL THE MOST IMPORTANT OF ALL THE MOST IMPORTANT OF ALL THE MOST IMPORTANT OF ALL THE MOST IMPORTANT OF ALL THE MOST IMPORTANT OF ALL THE MOST IMPORTANT OF ALL THE MOST IMPORTANT OF ALL THE MOST IMPORTANT OF ALL THE MOST IMPORTANT OF ALL THE MOST IMPORTANT OF ALL THE MOST\n",
            "AND THE MOST IMPORTANT THING OF ALL THE MOST IMPORTANT THINGS OF ALL THE MOST IMPORTANT THINGS OF ALL THE MOST IMPORTANT THINGS OF ALL THE MOST IMPORTANT THINGS OF ALL THE MOST IMPORTANT THINGS OF ALL THE MOST IMPORTANT THINGS OF ALL THE MOST IMPORTANT THINGS OF ALL THE MOST IMPORTANT THINGS OF ALL THE MOST IMPORTANT THINGS OF\n",
            "AND THE MOST IMPORTANT OF ALL THE MOST IMPORTANT OF ALL THE MOST IMPORTANT OF ALL THE MOST IMPORTANT OF ALL THE MOST IMPORTANT OF ALL THE MOST IMPORTANT OF ALL THE MOST IMPORTANT OF ALL THE MOST IMPORTANT OF ALL THE MOST IMPORTANT OF ALL THE MOST IMPORTANT OF ALL THE MOST IMPORTANT OF ALL THE MOST IMPORTANT OF ALL THE MOST\n",
            "I'M NOT A MAN BUT A MAN AND I'M NOT A MAN BUT A MAN AND I'M NOT A MAN BUT A MAN AND I'M NOT A MAN BUT A MAN AND I'M NOT A MAN BUT A MAN AND I'M NOT A MAN BUT A MAN AND I'M NOT A MAN BUT A MAN AND I'M NOT A MAN BUT A MAN AND I'M NOT A MAN BUT A MAN AND I'M NOT A MAN BUT A MAN AND\n",
            "torch.Size([1, 100, 768])\n",
            "torch.Size([1, 100, 768])\n",
            "torch.Size([1, 100, 768])\n",
            "torch.Size([1, 100, 768])\n"
          ]
        },
        {
          "name": "stderr",
          "output_type": "stream",
          "text": [
            "\r43it [04:27,  6.20s/it]"
          ]
        },
        {
          "name": "stdout",
          "output_type": "stream",
          "text": [
            "Gt\n",
            "YOU ARE SEVENTEEN SAID PRISCILLA I KNEW AT SEVENTEEN THEO RECOVERED THE NEEDLE AND RESET IT IN HER WORK TO GIVE HERSELF TIME AND THEN SHE LOOKED UP AND FACED HER QUESTIONER BRAVELY IN A SORT OF DESPERATENESS IF I KNEW THAT I LOVED ANY ONE\n",
            "MISLED BY THE RHODOMONTADE OF HIS FRIEND TO BELIEVE HIS FATHER A MAN OF SUBSTANCE AND CREDIT WHEREAS THE TRANSACTIONS OF THE TWO OR THREE LAST WEEKS PROVED HIM TO BE NEITHER\n",
            "YES I WILL ANSWERED THE PRINCESS AND KISSED HIM WITH A LONG SWEET COLD KISS NOW SAID HE WITH A SIGH OF CONTENT I DIE HAPPY\n",
            "AND STARTED OUT WITH HER SHEEP THAT THEY MIGHT FEED UPON THE TENDER JUICY GRASSES WITH WHICH THE HILLS ABOUNDED THE LITTLE GIRL USUALLY ACCOMPANIED HER MOTHER AND SAT BY HER SIDE\n",
            "Pred\n",
            "AND THE MOST IMPORTANT OF ALL THE MOST IMPORTANT OF ALL THE MOST IMPORTANT OF ALL THE MOST IMPORTANT OF ALL THE MOST IMPORTANT OF ALL THE MOST IMPORTANT OF ALL THE MOST IMPORTANT OF ALL THE MOST IMPORTANT OF ALL THE MOST IMPORTANT OF ALL THE MOST IMPORTANT OF ALL THE MOST IMPORTANT OF ALL THE MOST IMPORTANT OF ALL THE MOST\n",
            "AND THE MOST IMPORTANT OF ALL THE MOST IMPORTANT OF ALL THE MOST IMPORTANT OF ALL THE MOST IMPORTANT OF ALL THE MOST IMPORTANT OF ALL THE MOST IMPORTANT OF ALL THE MOST IMPORTANT OF ALL THE MOST IMPORTANT OF ALL THE MOST IMPORTANT OF ALL THE MOST IMPORTANT OF ALL THE MOST IMPORTANT OF ALL THE MOST IMPORTANT OF ALL THE MOST\n",
            "THAT WAS THE ONLY WAY TO MAKE THE SAME THING AS THE SAME THING AS THE SAME THING AS THE SAME THING AS THE SAME THING AS THE SAME THING AS THE SAME THING AS THE SAME THING AS THE SAME THING AS THE SAME THING AS THE SAME THING AS THE SAME THING AS THE SAME THING AS THE SAME THING AS THE SAME THing AS THE S\n",
            "AND THE MOST IMPORTANT THING OF ALL THE MOST IMPORTANT THINGS OF ALL THE MOST IMPORTANT THINGS OF ALL THE MOST IMPORTANT THINGS OF ALL THE MOST IMPORTANT THINGS OF ALL THE MOST IMPORTANT THINGS OF ALL THE MOST IMPORTANT THINGS OF ALL THE MOST IMPORTANT THINGS OF ALL THE MOST IMPORTANT THINGS OF ALL THE MOST IMPORTANT THINGS OF\n",
            "torch.Size([1, 100, 768])\n",
            "torch.Size([1, 100, 768])\n",
            "torch.Size([1, 100, 768])\n",
            "torch.Size([1, 100, 768])\n"
          ]
        },
        {
          "name": "stderr",
          "output_type": "stream",
          "text": [
            "\r44it [04:33,  6.20s/it]"
          ]
        },
        {
          "name": "stdout",
          "output_type": "stream",
          "text": [
            "Gt\n",
            "I AM AS I AM WONT TWILL NOT BE FROM CASAL NOR ACQUASPARTA FROM WHENCE COME SUCH UNTO THE WRITTEN WORD THAT ONE AVOIDS IT AND THE OTHER NARROWS\n",
            "MY EYES FLEW TOWARD THE CLOCK IT WAS ELEVEN IN THE MORNING IT HAD TO BE MARCH TWENTY EIGHTH THE NAUTILUS WAS TRAVELING AT THE FRIGHTFUL SPEED OF FORTY MILES PER HOUR IT WAS WRITHING IN THE WATERS\n",
            "TRUE THE THOUGHT OF HIS MOTHER AND BROTHERS LEFT IN THE PRISON HOUSE LARGELY MARRED HIS JOY AS IT DID ALSO THE COMMITTEE'S STILL THE COMMITTEE FELT THAT CHARLES HAD GAINED HIS FREEDOM HONORABLY\n",
            "THE POPULATION DECREASED BY NEARLY TWO THIRDS AND PRACTICALLY ALL THE CHILDREN DIED PEACE CAME WELL BEING CAME FREEDOM FROM RAPE AND MURDER AND TORTURE AND HIGHWAY ROBBERY AND EVERY BRUTAL GRATIFICATION OF LUST AND GREED CAME\n",
            "Pred\n",
            "AND THE MOST IMPORTANT OF ALL THE MOST IMPORTANT OF ALL THE MOST IMPORTANT OF ALL THE MOST IMPORTANT OF ALL THE MOST IMPORTANT OF ALL THE MOST IMPORTANT OF ALL THE MOST IMPORTANT OF ALL THE MOST IMPORTANT OF ALL THE MOST IMPORTANT OF ALL THE MOST IMPORTANT OF ALL THE MOST IMPORTANT OF ALL THE MOST IMPORTANT OF ALL THE MOST\n",
            "THE MOST IMPORTANT THING OF ALL THE MOST IMPORTANT THINGS OF ALL THE MOST IMPORTANT THINGS OF ALL THE MOST IMPORTANT THINGS OF ALL THE MOST IMPORTANT THINGS OF ALL THE MOST IMPORTANT THINGS OF ALL THE MOST IMPORTANT THINGS OF ALL THE MOST IMPORTANT THINGS OF ALL THE MOST IMPORTANT THINGS OF ALL THE MOST IMPORTANT THINGS OF ALL\n",
            "AND THE MOST IMPORTANT THING OF ALL THE MOST IMPORTANT THINGS OF ALL THE MOST IMPORTANT THINGS OF ALL THE MOST IMPORTANT THINGS OF ALL THE MOST IMPORTANT THINGS OF ALL THE MOST IMPORTANT THINGS OF ALL THE MOST IMPORTANT THINGS OF ALL THE MOST IMPORTANT THINGS OF ALL THE MOST IMPORTANT THINGS OF ALL THE MOST IMPORTANT THINGS OF\n",
            "AND THE MOST IMPORTANT OF ALL THE MOST IMPORTANT OF ALL THE MOST IMPORTANT OF ALL THE MOST IMPORTANT OF ALL THE MOST IMPORTANT OF ALL THE MOST IMPORTANT OF ALL THE MOST IMPORTANT OF ALL THE MOST IMPORTANT OF ALL THE MOST IMPORTANT OF ALL THE MOST IMPORTANT OF ALL THE MOST IMPORTANT OF ALL THE MOST IMPORTANT OF ALL THE MOST\n",
            "torch.Size([1, 100, 768])\n",
            "torch.Size([1, 100, 768])\n",
            "torch.Size([1, 100, 768])\n",
            "torch.Size([1, 100, 768])\n"
          ]
        },
        {
          "name": "stderr",
          "output_type": "stream",
          "text": [
            "\r45it [04:40,  6.20s/it]"
          ]
        },
        {
          "name": "stdout",
          "output_type": "stream",
          "text": [
            "Gt\n",
            "THOUGH HE MIGHT HAVE EVINCED MORE COARSENESS AND URGENCY AND THEN SHE HAD SO MANY REASONS SO MANY EXPLANATIONS AND AFTER ALL SHE SUCCEEDED IN PROVING HERSELF QUITE DISINTERESTED AND EVEN LIBERAL AT LAST SHE CONCLUDED SHE COULD SAY NO MORE\n",
            "AND WHEN SHE COULD NOT GET ME TO NAME A SUM SHE REASONED AND REASONED WITH A FLUENT YET QUIET CIRCUMLOCUTION OF SPEECH AND AT LAST NAILED ME DOWN TO FIVE HUNDRED FRANCS PER ANNUM NOT TOO MUCH BUT I AGREED\n",
            "AS ONE BY ONE THEIR DEFENCES FELL AND THE END DREW NEAR THEN FOOD FAILED IN THE CITY MEN FOUGHT LIKE DEMONS IN THE STREETS FOR A TINY LOAF OF BARLEY BREAD SO FRANTIC WERE THE PEOPLE WITH HUNGER\n",
            "WITH WHAT ASKED MISSUS THORNTON HER BROW SLIGHTLY CONTRACTING\n",
            "Pred\n",
            "AND THE MOST IMPORTANT OF ALL THE MOST IMPORTANT OF ALL THE MOST IMPORTANT OF ALL THE MOST IMPORTANT OF ALL THE MOST IMPORTANT OF ALL THE MOST IMPORTANT OF ALL THE MOST IMPORTANT OF ALL THE MOST IMPORTANT OF ALL THE MOST IMPORTANT OF ALL THE MOST IMPORTANT OF ALL THE MOST IMPORTANT OF ALL THE MOST IMPORTANT OF ALL THE MOST\n",
            "I'M NOT A MAN BUT I'M A MAN AND I'M A MAN AND I'M A MAN AND I'M A MAN AND I'M A MAN AND I'M A MAN AND I'M A MAN AND I'M A MAN AND I'M A MAN AND I'M A MAN AND I'M A MAN AND I'M A MAN AND I'M A MAN AND I'M A MAN AND I'M A MAN AND I'M\n",
            "THE MOST IMPORTANT THING OF ALL THE MOST IMPORTANT THINGS OF ALL THE MOST IMPORTANT THINGS OF ALL THE MOST IMPORTANT THINGS OF ALL THE MOST IMPORTANT THINGS OF ALL THE MOST IMPORTANT THINGS OF ALL THE MOST IMPORTANT THINGS OF ALL THE MOST IMPORTANT THINGS OF ALL THE MOST IMPORTANT THINGS OF ALL THE MOST IMPORTANT THINGS OF ALL\n",
            "AND THE MOST IMPORTANT OF ALL THE MOST IMPORTANT OF ALL THE MOST IMPORTANT OF ALL THE MOST IMPORTANT OF ALL THE MOST IMPORTANT OF ALL THE MOST IMPORTANT OF ALL THE MOST IMPORTANT OF ALL THE MOST IMPORTANT OF ALL THE MOST IMPORTANT OF ALL THE MOST IMPORTANT OF ALL THE MOST IMPORTANT OF ALL THE MOST IMPORTANT OF ALL THE MOST\n",
            "torch.Size([1, 100, 768])\n",
            "torch.Size([1, 100, 768])\n",
            "torch.Size([1, 100, 768])\n",
            "torch.Size([1, 100, 768])\n"
          ]
        },
        {
          "name": "stderr",
          "output_type": "stream",
          "text": [
            "\r46it [04:46,  6.22s/it]"
          ]
        },
        {
          "name": "stdout",
          "output_type": "stream",
          "text": [
            "Gt\n",
            "YOU'LL HAVE TO COUNT ME OUT OF THAT DEAL FRANK TOLD THEM YOU REMEMBER THAT I SPRAINED MY ANKLE YESTERDAY AND A LONG WALK WOULD LAY ME UP IF ANYBODY GOES IT WILL HAVE TO BE YOU TWO JERRY LOOKED AT BLUFF I DARE YOU HE SAID\n",
            "WHEN I QUESTIONED SIR JOSEPH ABOUT HIS PAPERS HIS MANNER SEEMED CURIOUS AS I HAVE SAID HE AT ONCE DECLARED THAT HE HAD NO PART IN ANY GOVERNMENT SECRET OR MYSTERIOUS SOCIETY GRATUITOUS INFORMATION YOU UNDERSTAND\n",
            "THERE CAN BE NOTHING BETTER THAN TWO OR THREE SUCH HOURS FIRST DRIVER OUT ON COMMONWEALTH AVENUE THAT WILL TONE DOWN THE HORSES STOP ON THE LEFT AFTER YOU HAVE PASSED FAIRFIELD STREET\n",
            "I WAS ABLE TO DEVELOP THIS SERIES OF UNANSWERABLE REASONS FOR TEN MINUTES WITHOUT INTERRUPTION NOT THAT THE PROFESSOR WAS PAYING ANY RESPECTFUL ATTENTION TO HIS NEPHEW'S ARGUMENTS BUT BECAUSE HE WAS DEAF TO ALL MY ELOQUENCE\n",
            "Pred\n",
            "AND THE MOST IMPORTANT THING OF ALL THE MOST IMPORTANT THINGS OF ALL THE MOST IMPORTANT THINGS OF ALL THE MOST IMPORTANT THINGS OF ALL THE MOST IMPORTANT THINGS OF ALL THE MOST IMPORTANT THINGS OF ALL THE MOST IMPORTANT THINGS OF ALL THE MOST IMPORTANT THINGS OF ALL THE MOST IMPORTANT THINGS OF ALL THE MOST IMPORTANT THINGS OF\n",
            "THE MOST IMPORTANT THING OF ALL THE MOST IMPORTANT THINGS OF ALL THE MOST IMPORTANT THINGS OF ALL THE MOST IMPORTANT THINGS OF ALL THE MOST IMPORTANT THINGS OF ALL THE MOST IMPORTANT THINGS OF ALL THE MOST IMPORTANT THINGS OF ALL THE MOST IMPORTANT THINGS OF ALL THE MOST IMPORTANT THINGS OF ALL THE MOST IMPORTANT THINGS OF ALL\n",
            "AND THE MOST IMPORTANT THING OF ALL THE MOST IMPORTANT THINGS OF ALL THE MOST IMPORTANT THINGS OF ALL THE MOST IMPORTANT THINGS OF ALL THE MOST IMPORTANT THINGS OF ALL THE MOST IMPORTANT THINGS OF ALL THE MOST IMPORTANT THINGS OF ALL THE MOST IMPORTANT THINGS OF ALL THE MOST IMPORTANT THINGS OF ALL THE MOST IMPORTANT THINGS OF\n",
            "AND THE MOST IMPORTANT OF ALL THE MOST IMPORTANT OF ALL THE MOST IMPORTANT OF ALL THE MOST IMPORTANT OF ALL THE MOST IMPORTANT OF ALL THE MOST IMPORTANT OF ALL THE MOST IMPORTANT OF ALL THE MOST IMPORTANT OF ALL THE MOST IMPORTANT OF ALL THE MOST IMPORTANT OF ALL THE MOST IMPORTANT OF ALL THE MOST IMPORTANT OF ALL THE MOST\n",
            "torch.Size([1, 100, 768])\n",
            "torch.Size([1, 100, 768])\n",
            "torch.Size([1, 100, 768])\n",
            "torch.Size([1, 100, 768])\n"
          ]
        },
        {
          "name": "stderr",
          "output_type": "stream",
          "text": [
            "\r47it [04:52,  6.23s/it]"
          ]
        },
        {
          "name": "stdout",
          "output_type": "stream",
          "text": [
            "Gt\n",
            "WHAT SHE WOULD BE AT FOR THERE COULD BE NO NEED OF MY BEING PLAYED OFF TO MAKE HER SECURE OF TILNEY WE PARTED AT LAST BY MUTUAL CONSENT HAPPY FOR ME HAD WE NEVER MET\n",
            "IS THEN A FURTHER ARCHAIC TENDENCY OF THE DREAM THE SAME INFORMATION MAY BE MADE USE OF IN ANOTHER OF THE PUZZLES THAT HAVE PRESENTED THEMSELVES TO US YOU WILL RECALL HOW ASTONISHED PEOPLE WERE\n",
            "JUST A LITTLE SOUVENIR THAT I PICKED UP I'LL TELL YOU AS SOON AS I'VE INTERVIEWED THE DOWAGER HURRY AND SLIP IN WHILE JELLY ISN'T LOOKING THEY CAST A QUICK GLANCE OVER THEIR SHOULDERS TOWARD THE GYMNASIUM INSTRUCTOR WHO WAS ARGUING FAT IRENE MC CULLOUGH INTO FASTER MOVEMENTS ON THE TENNIS COURT\n",
            "SO WE CAN SIT UP LATE WITHOUT THINKING ABOUT SCHOOL THE NEXT DAY WELL YOU'LL SEE ME SURE SAID PHILIP BUT SEE HERE IT'S FIVE O'CLOCK NOW AND I HAVE AN ENGAGEMENT DOWN TOWN\n",
            "Pred\n",
            "AND THE MOST IMPORTANT OF ALL THE MOST IMPORTANT OF ALL THE MOST IMPORTANT OF ALL THE MOST IMPORTANT OF ALL THE MOST IMPORTANT OF ALL THE MOST IMPORTANT OF ALL THE MOST IMPORTANT OF ALL THE MOST IMPORTANT OF ALL THE MOST IMPORTANT OF ALL THE MOST IMPORTANT OF ALL THE MOST IMPORTANT OF ALL THE MOST IMPORTANT OF ALL THE MOST\n",
            "AND THE MOST IMPORTANT OF ALL THE MOST IMPORTANT OF ALL THE MOST IMPORTANT OF ALL THE MOST IMPORTANT OF ALL THE MOST IMPORTANT OF ALL THE MOST IMPORTANT OF ALL THE MOST IMPORTANT OF ALL THE MOST IMPORTANT OF ALL THE MOST IMPORTANT OF ALL THE MOST IMPORTANT OF ALL THE MOST IMPORTANT OF ALL THE MOST IMPORTANT OF ALL THE MOST\n",
            "AND THE SAME AS THE SAME AS THE SAME AS THE SAME AS THE SAME AS THE SAME AS THE SAME AS THE SAME AS THE SAME AS THE SAME AS THE SAME AS THE SAME AS THE SAME AS THE SAME AS THE SAME AS THE SAME AS THE SAME AS THE SAME AS THE SAME AS THE SAME AS THE SAME AS THE SAME AS THE SAME AS THE SAME AS THE SAME\n",
            "AND THE MOST IMPORTANT OF ALL THE MOST IMPORTANT OF ALL THE MOST IMPORTANT OF ALL THE MOST IMPORTANT OF ALL THE MOST IMPORTANT OF ALL THE MOST IMPORTANT OF ALL THE MOST IMPORTANT OF ALL THE MOST IMPORTANT OF ALL THE MOST IMPORTANT OF ALL THE MOST IMPORTANT OF ALL THE MOST IMPORTANT OF ALL THE MOST IMPORTANT OF ALL THE MOST\n",
            "torch.Size([1, 100, 768])\n",
            "torch.Size([1, 100, 768])\n",
            "torch.Size([1, 100, 768])\n",
            "torch.Size([1, 100, 768])\n"
          ]
        },
        {
          "name": "stderr",
          "output_type": "stream",
          "text": [
            "\r48it [04:58,  6.25s/it]"
          ]
        },
        {
          "name": "stdout",
          "output_type": "stream",
          "text": [
            "Gt\n",
            "TO SEND A MESSAGE FROM THENCE TO THE MANOR AND THEN TO ESCAPE BACK TO LONDON SO THINKING BUT WITH NO RESOLUTION MADE HE WENT ON THROUGH THE WOODS\n",
            "AND WHILE PLANTING THE PLAINS WITH SAGE AND THE HILLS WITH CEDAR SHE HAS COVERED AT LEAST ONE MOUNTAIN WITH GOLDEN ERYTHRONIUMS AND FRITILLARIAS AS ITS CROWNING GLORY AS IF WILLING TO SHOW WHAT SHE COULD DO IN THE LILY LINE EVEN HERE\n",
            "TELLING HIM IT WAS THE LIKENESS OF HER COUSIN RACHEL'S HUSBAND I REPLIED WE KNEW THAT GRANDFATHER HAD MARRIED A RACHEL SOMERS COUSIN CHARLES WAS SURPRISED AND A LITTLE VEXED THAT THE DOCTOR HAD NEVER TOLD HIM\n",
            "AND MADAME ROLLED HER EYES AWFULLY AS IF SHE EXPECTED TO SEE SOMETHING UNEARTHLY AND INDEED LOOKED VERY LIKE IT HERSELF COME AWAY MADAME I SAID GROWING FRIGHTENED AND FEELING THAT IF I WERE ONCE BY ANY ACCIDENT\n",
            "Pred\n",
            "AND THE MOST IMPORTANT OF ALL THE MOST IMPORTANT OF ALL THE MOST IMPORTANT OF ALL THE MOST IMPORTANT OF ALL THE MOST IMPORTANT OF ALL THE MOST IMPORTANT OF ALL THE MOST IMPORTANT OF ALL THE MOST IMPORTANT OF ALL THE MOST IMPORTANT OF ALL THE MOST IMPORTANT OF ALL THE MOST IMPORTANT OF ALL THE MOST IMPORTANT OF ALL THE MOST\n",
            "THE MOST IMPORTANT THING OF ALL THE MOST IMPORTANT THINGS OF ALL THE MOST IMPORTANT THINGS OF ALL THE MOST IMPORTANT THINGS OF ALL THE MOST IMPORTANT THINGS OF ALL THE MOST IMPORTANT THINGS OF ALL THE MOST IMPORTANT THINGS OF ALL THE MOST IMPORTANT THINGS OF ALL THE MOST IMPORTANT THINGS OF ALL THE MOST IMPORTANT THINGS OF ALL\n",
            "AND THE MOST IMPORTANT THING OF ALL THE MOST IMPORTANT THINGS OF ALL THE MOST IMPORTANT THINGS OF ALL THE MOST IMPORTANT THINGS OF ALL THE MOST IMPORTANT THINGS OF ALL THE MOST IMPORTANT THINGS OF ALL THE MOST IMPORTANT THINGS OF ALL THE MOST IMPORTANT THINGS OF ALL THE MOST IMPORTANT THINGS OF ALL THE MOST IMPORTANT THINGS OF\n",
            "THE MOST IMPORTANT THING OF ALL THE MOST IMPORTANT THINGS OF ALL THE MOST IMPORTANT THINGS OF ALL THE MOST IMPORTANT THINGS OF ALL THE MOST IMPORTANT THINGS OF ALL THE MOST IMPORTANT THINGS OF ALL THE MOST IMPORTANT THINGS OF ALL THE MOST IMPORTANT THINGS OF ALL THE MOST IMPORTANT THINGS OF ALL THE MOST IMPORTANT THINGS OF ALL\n",
            "torch.Size([1, 100, 768])\n",
            "torch.Size([1, 100, 768])\n",
            "torch.Size([1, 100, 768])\n",
            "torch.Size([1, 100, 768])\n"
          ]
        },
        {
          "name": "stderr",
          "output_type": "stream",
          "text": [
            "\r49it [05:05,  6.23s/it]"
          ]
        },
        {
          "name": "stdout",
          "output_type": "stream",
          "text": [
            "Gt\n",
            "SHOWS THAT THE UNPRONOUNCED ALEPH AT THE END WAS AT THAT TIME SOUNDED\n",
            "HAD MADE A PARTY OF PLEASURE WITH A YOUNG FELLOW FROM GASCONY WHOM I HAD INTRODUCED TO THEM THE SAME MORNING THE PARTY WAS TO TAKE PLACE AT SAINT GERMAIN I BELIEVE AND THEY HAD APPOINTED TO MEET AT THE CARMES DESCHAUX WHEN THEY WERE DISTURBED BY DE JUSSAC CAHUSAC\n",
            "HAVING PUBLISHED A REPORT OF A FALL OF FISHES WRITES I AM CONTINUALLY RECEIVING SIMILAR ACCOUNTS OF FROGS AND FISHES BUT IN ALL THE VOLUMES OF THE ZOOLOGIST I CAN FIND ONLY TWO REPORTS OF SUCH FALLS THERE IS NOTHING TO CONCLUDE\n",
            "THE DIVINING INSTINCT FOR THE RELATIONSHIPS OF THESE VALUATIONS FOR THE RELATION OF THE AUTHORITY OF THE VALUATIONS TO THE AUTHORITY OF THE OPERATING FORCES THIS HISTORICAL SENSE\n",
            "Pred\n",
            "THE MOST IMPORTANT THING OF ALL THE MOST IMPORTANT THINGS OF ALL THE MOST IMPORTANT THINGS OF ALL THE MOST IMPORTANT THINGS OF ALL THE MOST IMPORTANT THINGS OF ALL THE MOST IMPORTANT THINGS OF ALL THE MOST IMPORTANT THINGS OF ALL THE MOST IMPORTANT THINGS OF ALL THE MOST IMPORTANT THINGS OF ALL THE MOST IMPORTANT THINGS OF ALL\n",
            "THE MOST IMPORTANT OF ALL THE MOST IMPORTANT OF ALL THE MOST IMPORTANT OF ALL THE MOST IMPORTANT OF ALL THE MOST IMPORTANT OF ALL THE MOST IMPORTANT OF ALL THE MOST IMPORTANT OF ALL THE MOST IMPORTANT OF ALL THE MOST IMPORTANT OF ALL THE MOST IMPORTANT OF ALL THE MOST IMPORTANT OF ALL THE MOST IMPORTANT OF ALL THE MOST IMP\n",
            "I'M NOT A MAN OF THE WORLD BUT I'M A MAN OF THE WORLD AND I'M A MAN OF THE WORLD AND I'M A MAN OF THE WORLD AND I'M A MAN OF THE WORLD AND I'M A MAN OF THE WORLD AND I'M A MAN OF THE WORLD AND I'M A MAN OF THE WORLD AND I'M A MAN OF THE WORLD AND I'M A MAN OF THE WORLD AND I'M A MAN OF THE WORLD AND\n",
            "AND THE MOST IMPORTANT OF ALL THE MOST IMPORTANT OF ALL THE MOST IMPORTANT OF ALL THE MOST IMPORTANT OF ALL THE MOST IMPORTANT OF ALL THE MOST IMPORTANT OF ALL THE MOST IMPORTANT OF ALL THE MOST IMPORTANT OF ALL THE MOST IMPORTANT OF ALL THE MOST IMPORTANT OF ALL THE MOST IMPORTANT OF ALL THE MOST IMPORTANT OF ALL THE MOST\n",
            "torch.Size([1, 100, 768])\n",
            "torch.Size([1, 100, 768])\n",
            "torch.Size([1, 100, 768])\n",
            "torch.Size([1, 100, 768])\n"
          ]
        },
        {
          "name": "stderr",
          "output_type": "stream",
          "text": [
            "\r50it [05:11,  6.27s/it]"
          ]
        },
        {
          "name": "stdout",
          "output_type": "stream",
          "text": [
            "Gt\n",
            "LOVING US THEY LET US STOP THEIR DEVELOPING IN TUNE WITH THEIR NATURES AND THEY'VE PATIENTLY TRIED EVER SINCE TO ADOPT WAYS OF OURS THEY HAVE DONE IT TOO BUT OF COURSE THEY CAN'T GET FAR IT'S NOT THEIR OWN ROAD\n",
            "YET UPON THIS AND THE LIKE OCCASIONS I HOPE IT IS NOT TOO MUCH TO SAY WITH JOB\n",
            "IT DOES NOT WORK TO ASSUME THAT PHYSICAL OBJECTS ARE GOING TO ACT OUTWARDLY BY THEIR SYMPATHETIC OR ANTIPATHETIC QUALITIES THE BEAUTY OF A THING OR ITS VALUE IS NO FORCE THAT CAN BE PLOTTED IN A POLYGON OF COMPOSITIONS\n",
            "LOOKED AT HER ANXIOUSLY CATHERINE TOOK HER PLACE AT THE TABLE AND AFTER A SHORT SILENCE ELEANOR SAID NO BAD NEWS FROM FULLERTON I HOPE MISTER AND MISSUS MORLAND YOUR BROTHERS AND SISTERS I HOPE THEY ARE NONE OF THEM ILL\n",
            "Pred\n",
            "AND THE MOST IMPORTANT OF ALL THE MOST IMPORTANT OF ALL THE MOST IMPORTANT OF ALL THE MOST IMPORTANT OF ALL THE MOST IMPORTANT OF ALL THE MOST IMPORTANT OF ALL THE MOST IMPORTANT OF ALL THE MOST IMPORTANT OF ALL THE MOST IMPORTANT OF ALL THE MOST IMPORTANT OF ALL THE MOST IMPORTANT OF ALL THE MOST IMPORTANT OF ALL THE MOST\n",
            "AND THE MOST IMPORTANT OF ALL THE MOST IMPORTANT OF ALL THE MOST IMPORTANT OF ALL THE MOST IMPORTANT OF ALL THE MOST IMPORTANT OF ALL THE MOST IMPORTANT OF ALL THE MOST IMPORTANT OF ALL THE MOST IMPORTANT OF ALL THE MOST IMPORTANT OF ALL THE MOST IMPORTANT OF ALL THE MOST IMPORTANT OF ALL THE MOST IMPORTANT OF ALL THE MOST\n",
            "THAT WAS THE ONLY WAY TO MAKE THE SAME THING AS THE SAME THING AS THE SAME THING AS THE SAME THING AS THE SAME THING AS THE SAME THING AS THE SAME THING AS THE SAME THING AS THE SAME THING AS THE SAME THING AS THE SAME THING AS THE SAME THING AS THE SAME THING AS THE SAME THING AS THE SAME THING AS THE S\n",
            "THE MOST IMPORTANT OF ALL THE MOST IMPORTANT OF ALL THE MOST IMPORTANT OF ALL THE MOST IMPORTANT OF ALL THE MOST IMPORTANT OF ALL THE MOST IMPORTANT OF ALL THE MOST IMPORTANT OF ALL THE MOST IMPORTANT OF ALL THE MOST IMPORTANT OF ALL THE MOST IMPORTANT OF ALL THE MOST IMPORTANT OF ALL THE MOST IMPORTANT OF ALL THE MOST IMP\n",
            "torch.Size([1, 100, 768])\n",
            "torch.Size([1, 100, 768])\n",
            "torch.Size([1, 100, 768])\n",
            "torch.Size([1, 100, 768])\n"
          ]
        },
        {
          "name": "stderr",
          "output_type": "stream",
          "text": [
            "\r51it [05:17,  6.26s/it]"
          ]
        },
        {
          "name": "stdout",
          "output_type": "stream",
          "text": [
            "Gt\n",
            "ALL THOT'S BETTER MON THOT'S FINE HE WOULD ADD AS HIS OPPONENT LIFTED HIM ACROSS THE ROOM ON THE END OF A RIGHT COUNTER THOT'S HOW I LIKES TO FEEL EM HAPPEN THOU'LT PULL THROUGH YET HE CHUCKLED WITH JOY WHEN MONTGOMERY KNOCKED HIM INTO A CORNER\n",
            "BUT THEY WERE DECEIVED IN THINKING THAT THE STRUGGLE IN THE CHANNEL WAS OVER FOR THE WINTER THE DESERTERS AT THE KENTISH KNOCK WERE PUNISHED\n",
            "THEN ALL THE MEN WAVED THEIR HANDS TO THE SHORE AND GAVE A GREAT SHOUT FOR THAT GOOD LAND FOR ALL THAT VOYAGE THEY HAD FAIR WEATHER AND SAILED INTO ERIC'S HARBOR BEFORE THE WINTER CAME\n",
            "BUT I HAD NO OTHER COMFORTING ANSWER FROM THEM THAN THIS THAT IT WOULD BE NO MATTER IF MY HEAD WERE OFF TOO THE THIRTEENTH REMOVE INSTEAD OF GOING TOWARD THE BAY WHICH WAS THAT I DESIRED\n",
            "Pred\n",
            "AND THE SAME AS THE SAME AS THE SAME AS THE SAME AS THE SAME AS THE SAME AS THE SAME AS THE SAME AS THE SAME AS THE SAME AS THE SAME AS THE SAME AS THE SAME AS THE SAME AS THE SAME AS THE SAME AS THE SAME AS THE SAME AS THE SAME AS THE SAME AS THE SAME AS THE SAME AS THE SAME AS THE SAME AS THE SAME\n",
            "AND THE MOST IMPORTANT OF ALL THE MOST IMPORTANT OF ALL THE MOST IMPORTANT OF ALL THE MOST IMPORTANT OF ALL THE MOST IMPORTANT OF ALL THE MOST IMPORTANT OF ALL THE MOST IMPORTANT OF ALL THE MOST IMPORTANT OF ALL THE MOST IMPORTANT OF ALL THE MOST IMPORTANT OF ALL THE MOST IMPORTANT OF ALL THE MOST IMPORTANT OF ALL THE MOST\n",
            "AND THE MOST IMPORTANT OF ALL THE MOST IMPORTANT OF ALL THE MOST IMPORTANT OF ALL THE MOST IMPORTANT OF ALL THE MOST IMPORTANT OF ALL THE MOST IMPORTANT OF ALL THE MOST IMPORTANT OF ALL THE MOST IMPORTANT OF ALL THE MOST IMPORTANT OF ALL THE MOST IMPORTANT OF ALL THE MOST IMPORTANT OF ALL THE MOST IMPORTANT OF ALL THE MOST\n",
            "AND THE MOST IMPORTANT OF ALL THE MOST IMPORTANT OF ALL THE MOST IMPORTANT OF ALL THE MOST IMPORTANT OF ALL THE MOST IMPORTANT OF ALL THE MOST IMPORTANT OF ALL THE MOST IMPORTANT OF ALL THE MOST IMPORTANT OF ALL THE MOST IMPORTANT OF ALL THE MOST IMPORTANT OF ALL THE MOST IMPORTANT OF ALL THE MOST IMPORTANT OF ALL THE MOST\n",
            "torch.Size([1, 100, 768])\n",
            "torch.Size([1, 100, 768])\n",
            "torch.Size([1, 100, 768])\n",
            "torch.Size([1, 100, 768])\n"
          ]
        },
        {
          "name": "stderr",
          "output_type": "stream",
          "text": [
            "\r52it [05:24,  6.27s/it]"
          ]
        },
        {
          "name": "stdout",
          "output_type": "stream",
          "text": [
            "Gt\n",
            "AS THE OLD COACHMAN URGED ON HIS HORSE HE COULD NOT REFRAIN FROM SAYING THINGS ARE GOING ON TO SUIT YOU A FRIENDLY HUSH WAS THE ONLY RESPONSE\n",
            "WHAT COULD THEY HAVE TO SAY OF HER SHE FEARED GENERAL TILNEY DID NOT LIKE HER APPEARANCE SHE FOUND IT WAS IMPLIED IN HIS PREVENTING HER ADMITTANCE TO HIS DAUGHTER RATHER THAN POSTPONE HIS OWN WALK A FEW MINUTES HOW CAME MISTER THORPE TO KNOW YOUR FATHER WAS HER ANXIOUS INQUIRY\n",
            "BOTH FLAPS OF THE GANGWAY WERE LOWERED ON THE RIGHT AND LEFT ON HINGES THUS MAKING A ROOF OVER THE HOLD SO THAT THE SHIP IN HEAVY SEAS WAS HERMETICALLY CLOSED THESE SLOOPS BEING OF VERY MASSIVE CONSTRUCTION HAD A BEAM FOR A TILLER\n",
            "NOBODY COULD BE PERSUADED TO WITHHOLD THEIR RIGHT HAND FROM SLAUGHTER BUT THEY SLEW PEOPLE OF ALL AGES LIKE MADMEN THEN IT WAS THAT ANTIGONUS WITHOUT ANY REGARD TO HIS FORMER OR TO HIS PRESENT FORTUNE CAME DOWN FROM THE CITADEL\n",
            "Pred\n",
            "AND THE MOST IMPORTANT THING OF ALL THE MOST IMPORTANT THINGS OF ALL THE MOST IMPORTANT THINGS OF ALL THE MOST IMPORTANT THINGS OF ALL THE MOST IMPORTANT THINGS OF ALL THE MOST IMPORTANT THINGS OF ALL THE MOST IMPORTANT THINGS OF ALL THE MOST IMPORTANT THINGS OF ALL THE MOST IMPORTANT THINGS OF ALL THE MOST IMPORTANT THINGS OF\n",
            "THE MOST IMPORTANT THING OF ALL THE MOST IMPORTANT THINGS OF ALL THE MOST IMPORTANT THINGS OF ALL THE MOST IMPORTANT THINGS OF ALL THE MOST IMPORTANT THINGS OF ALL THE MOST IMPORTANT THINGS OF ALL THE MOST IMPORTANT THINGS OF ALL THE MOST IMPORTANT THINGS OF ALL THE MOST IMPORTANT THINGS OF ALL THE MOST IMPORTANT THINGS OF ALL\n",
            "I'M NOT A MAN BUT I'M A MAN AND I'M A MAN AND I'M A MAN AND I'M A MAN AND I'M A MAN AND I'M A MAN AND I'M A MAN AND I'M A MAN AND I'M A MAN AND I'M A MAN AND I'M A MAN AND I'M A MAN AND I'M A MAN AND I'M A MAN AND I'M A MAN AND I'M\n",
            "THE MOST IMPORTANT THING OF ALL THE MOST IMPORTANT THINGS OF ALL THE MOST IMPORTANT THINGS OF ALL THE MOST IMPORTANT THINGS OF ALL THE MOST IMPORTANT THINGS OF ALL THE MOST IMPORTANT THINGS OF ALL THE MOST IMPORTANT THINGS OF ALL THE MOST IMPORTANT THINGS OF ALL THE MOST IMPORTANT THINGS OF ALL THE MOST IMPORTANT THINGS OF ALL\n",
            "torch.Size([1, 100, 768])\n",
            "torch.Size([1, 100, 768])\n",
            "torch.Size([1, 100, 768])\n",
            "torch.Size([1, 100, 768])\n"
          ]
        },
        {
          "name": "stderr",
          "output_type": "stream",
          "text": [
            "\r53it [05:30,  6.25s/it]"
          ]
        },
        {
          "name": "stdout",
          "output_type": "stream",
          "text": [
            "Gt\n",
            "RYNCH WENT FLAT ON THE STREAM BANK MADE A WORM'S PROGRESS UP THE SLOPE TO CROUCH BEHIND A BUSH AND SURVEY THE LAND IMMEDIATELY AHEAD THERE STOOD AN OFF WORLD SPACER FINS DOWN NOSE SKYWARD\n",
            "THEN WITH A BEAUTIFUL GESTURE THE MAN HELD OUT HIS ARMS AND THE WOMAN WITH A LITTLE GASP OF HAPPINESS\n",
            "TO TELL HER THAT IF THE SASSIETY WANTED TO MAKE A GERANIUM BED AT THE CROSSROADS IN THE SPRING THEY NEEDN'T BE AFRAID OF HER COW FOR SHE WOULD SEE THAT THE MARAUDING ANIMAL WAS KEPT WITHIN SAFE BOUNDS EVEN MISTER HARRISON CHUCKLED IF HE CHUCKLED AT ALL IN PRIVATE\n",
            "I KNEW THERE WAS NO OTHER BULKHEAD IN THE SHIP BUT THE COLLISION BULKHEAD SEPARATING THE FOREPEAK FROM THE FOREHOLD I WENT BACK TO TELL THE CAPTAIN I CAME UPON THE SECOND ENGINEER GETTING UP AT THE FOOT OF THE BRIDGE LADDER HE SEEMED DAZED AND\n",
            "Pred\n",
            "AND THE MOST IMPORTANT OF ALL THE MOST IMPORTANT OF ALL THE MOST IMPORTANT OF ALL THE MOST IMPORTANT OF ALL THE MOST IMPORTANT OF ALL THE MOST IMPORTANT OF ALL THE MOST IMPORTANT OF ALL THE MOST IMPORTANT OF ALL THE MOST IMPORTANT OF ALL THE MOST IMPORTANT OF ALL THE MOST IMPORTANT OF ALL THE MOST IMPORTANT OF ALL THE MOST\n",
            "AND THE MOST IMPORTANT THING OF ALL THE MOST IMPORTANT THINGS OF ALL THE MOST IMPORTANT THINGS OF ALL THE MOST IMPORTANT THINGS OF ALL THE MOST IMPORTANT THINGS OF ALL THE MOST IMPORTANT THINGS OF ALL THE MOST IMPORTANT THINGS OF ALL THE MOST IMPORTANT THINGS OF ALL THE MOST IMPORTANT THINGS OF ALL THE MOST IMPORTANT THINGS OF\n",
            "THE MOST IMPORTANT THING OF ALL THE MOST IMPORTANT THINGS OF ALL THE MOST IMPORTANT THINGS OF ALL THE MOST IMPORTANT THINGS OF ALL THE MOST IMPORTANT THINGS OF ALL THE MOST IMPORTANT THINGS OF ALL THE MOST IMPORTANT THINGS OF ALL THE MOST IMPORTANT THINGS OF ALL THE MOST IMPORTANT THINGS OF ALL THE MOST IMPORTANT THINGS OF ALL\n",
            "I'M NOT A MAN OF THE WORLD BUT I'M A MAN OF THE WORLD AND I'M A MAN OF THE WORLD AND I'M A MAN OF THE WORLD AND I'M A MAN OF THE WORLD AND I'M A MAN OF THE WORLD AND I'M A MAN OF THE WORLD AND I'M A MAN OF THE WORLD AND I'M A MAN OF THE WORLD AND I'M A MAN OF THE WORLD AND I'M A MAN OF THE WORLD AND\n",
            "torch.Size([1, 100, 768])\n",
            "torch.Size([1, 100, 768])\n",
            "torch.Size([1, 100, 768])\n",
            "torch.Size([1, 100, 768])\n"
          ]
        },
        {
          "name": "stderr",
          "output_type": "stream",
          "text": [
            "\r54it [05:36,  6.27s/it]"
          ]
        },
        {
          "name": "stdout",
          "output_type": "stream",
          "text": [
            "Gt\n",
            "NONSENSE DEAR POLDIE IT WAS ALL FANCY NOTHING MORE SHE RETURNED IN A VOICE ALMOST AS HOLLOW AS HIS AND THE LIGHTNESS OF THE WORDS UTTERED IN SUCH A TONE JARRED DISMAYFULLY ON HER OWN EAR FANCY HE REPEATED\n",
            "FOR SEVERAL DAYS THE AMERICAN AND FRENCH AVIATORS HAD BEEN REPORTING HEAVY GERMAN FORMATIONS IN THAT REGION EVIDENTLY WITH THE DESIGN OF A TERRIFIC ASSAULT BUT THE ALLIED COMMANDERS HAD NOT EXPECTED IT SO SOON AND IN TRUTH THEY WERE NOT FULLY PREPARED FOR IT\n",
            "TERRIFIED BY THE VOICE AND THE FEROCIOUS APPEARANCE OF THE HEROES THE SHEPHERD RETREATS HURRIEDLY LOCKING THE DOOR BEHIND HIM\n",
            "AND MISTER MARVIN HAS BEEN SO KIND AND CONSIDERATE THAT I WON'T PLAY HIM A DIRTY TRICK BY LEAVING HIM IN THE LURCH PATSY NODDED APPROVAL THAT'S RIGHT DADDY SHE SAID UNCLE JOHN LAY BACK IN THE CHAIR AND PUT THE NEWSPAPER OVER HIS FACE AGAIN\n",
            "Pred\n",
            "THE MOST IMPORTANT THING OF ALL THE MOST IMPORTANT THINGS OF ALL THE MOST IMPORTANT THINGS OF ALL THE MOST IMPORTANT THINGS OF ALL THE MOST IMPORTANT THINGS OF ALL THE MOST IMPORTANT THINGS OF ALL THE MOST IMPORTANT THINGS OF ALL THE MOST IMPORTANT THINGS OF ALL THE MOST IMPORTANT THINGS OF ALL THE MOST IMPORTANT THINGS OF ALL\n",
            "AND THE MOST IMPORTANT OF ALL THE MOST IMPORTANT OF ALL THE MOST IMPORTANT OF ALL THE MOST IMPORTANT OF ALL THE MOST IMPORTANT OF ALL THE MOST IMPORTANT OF ALL THE MOST IMPORTANT OF ALL THE MOST IMPORTANT OF ALL THE MOST IMPORTANT OF ALL THE MOST IMPORTANT OF ALL THE MOST IMPORTANT OF ALL THE MOST IMPORTANT OF ALL THE MOST\n",
            "AND THE MOST IMPORTANT OF ALL THE MOST IMPORTANT OF ALL THE MOST IMPORTANT OF ALL THE MOST IMPORTANT OF ALL THE MOST IMPORTANT OF ALL THE MOST IMPORTANT OF ALL THE MOST IMPORTANT OF ALL THE MOST IMPORTANT OF ALL THE MOST IMPORTANT OF ALL THE MOST IMPORTANT OF ALL THE MOST IMPORTANT OF ALL THE MOST IMPORTANT OF ALL THE MOST\n",
            "AND THE MOST IMPORTANT OF ALL THE MOST IMPORTANT OF ALL THE MOST IMPORTANT OF ALL THE MOST IMPORTANT OF ALL THE MOST IMPORTANT OF ALL THE MOST IMPORTANT OF ALL THE MOST IMPORTANT OF ALL THE MOST IMPORTANT OF ALL THE MOST IMPORTANT OF ALL THE MOST IMPORTANT OF ALL THE MOST IMPORTANT OF ALL THE MOST IMPORTANT OF ALL THE MOST\n",
            "torch.Size([1, 100, 768])\n",
            "torch.Size([1, 100, 768])\n",
            "torch.Size([1, 100, 768])\n",
            "torch.Size([1, 100, 768])\n"
          ]
        },
        {
          "name": "stderr",
          "output_type": "stream",
          "text": [
            "\r55it [05:42,  6.26s/it]"
          ]
        },
        {
          "name": "stdout",
          "output_type": "stream",
          "text": [
            "Gt\n",
            "HE CAME TO THE WARREN OF THE JEWELLERS AND WITH SOME DIFFICULTY AND BY USING HIS SIGNATURE OBTAINED ADMISSION TO THESE GALLERIES THEY WERE HIGH AND DARK AND RATHER COLD IN THE FIRST A FEW MEN WERE MAKING ORNAMENTS OF GOLD FILIGREE\n",
            "HE HAD ONLY COME THAT AFTERNOON TO MONKSHAVEN AND FOR THE SOLE PURPOSE OF SEEING SYLVIA ONCE MORE BEFORE HE WENT TO FULFIL HIS ENGAGEMENT AS SPECKSIONEER IN THE URANIA A WHALING VESSEL THAT WAS TO SAIL FROM NORTH SHIELDS ON THURSDAY MORNING AND THIS WAS MONDAY\n",
            "AND ON THE PRAIRIES OF THE GREAT WEST HE HAS A SMALLER COUSIN NAMED\n",
            "TO THE AERIAL HEIGHTS HE HAD FOUND A VIVID PICTURE OF HIS METHOD OF TEACHING IS GIVEN IN THE LECTURES ON FREDERIC CHOPIN'S WORKS AND THEIR PROPER INTERPRETATION BY THE POLE JEAN KLECZYNSKI\n",
            "Pred\n",
            "THE MOST IMPORTANT THING OF ALL THE MOST IMPORTANT THINGS OF ALL THE MOST IMPORTANT THINGS OF ALL THE MOST IMPORTANT THINGS OF ALL THE MOST IMPORTANT THINGS OF ALL THE MOST IMPORTANT THINGS OF ALL THE MOST IMPORTANT THINGS OF ALL THE MOST IMPORTANT THINGS OF ALL THE MOST IMPORTANT THINGS OF ALL THE MOST IMPORTANT THINGS OF ALL\n",
            "AND THE MOST IMPORTANT OF ALL THE MOST IMPORTANT OF ALL THE MOST IMPORTANT OF ALL THE MOST IMPORTANT OF ALL THE MOST IMPORTANT OF ALL THE MOST IMPORTANT OF ALL THE MOST IMPORTANT OF ALL THE MOST IMPORTANT OF ALL THE MOST IMPORTANT OF ALL THE MOST IMPORTANT OF ALL THE MOST IMPORTANT OF ALL THE MOST IMPORTANT OF ALL THE MOST\n",
            "AND THE MOST IMPORTANT OF ALL THE MOST IMPORTANT OF ALL THE MOST IMPORTANT OF ALL THE MOST IMPORTANT OF ALL THE MOST IMPORTANT OF ALL THE MOST IMPORTANT OF ALL THE MOST IMPORTANT OF ALL THE MOST IMPORTANT OF ALL THE MOST IMPORTANT OF ALL THE MOST IMPORTANT OF ALL THE MOST IMPORTANT OF ALL THE MOST IMPORTANT OF ALL THE MOST\n",
            "AND THE MOST IMPORTANT OF ALL THE MOST IMPORTANT OF ALL THE MOST IMPORTANT OF ALL THE MOST IMPORTANT OF ALL THE MOST IMPORTANT OF ALL THE MOST IMPORTANT OF ALL THE MOST IMPORTANT OF ALL THE MOST IMPORTANT OF ALL THE MOST IMPORTANT OF ALL THE MOST IMPORTANT OF ALL THE MOST IMPORTANT OF ALL THE MOST IMPORTANT OF ALL THE MOST\n",
            "torch.Size([1, 100, 768])\n",
            "torch.Size([1, 100, 768])\n",
            "torch.Size([1, 100, 768])\n",
            "torch.Size([1, 100, 768])\n"
          ]
        },
        {
          "name": "stderr",
          "output_type": "stream",
          "text": [
            "\r56it [05:48,  6.24s/it]"
          ]
        },
        {
          "name": "stdout",
          "output_type": "stream",
          "text": [
            "Gt\n",
            "WHICH IN THE OTHER CASE WE PERMITTED TO REMAIN PROFANE\n",
            "COMING LIKE THE STATUE OF THE COMMANDANTE TO KNOCK AT THE DOOR OF A DON GIOVANNI AND IN THE MIDST OF FEAST AND ORGY TO ANNOUNCE THAT IT IS EVEN NOW THE MOMENT TO BEGIN TO THINK OF HEAVEN HE HAD BEEN BORN AT FERRARA\n",
            "SIGNED BETWEEN PRUSSIA AND AUSTRIA AFTER THE BATTLE OF SADOVA THROUGH THE MISTS ON THE TWENTY SEVENTH IT SIGHTED THE PORT OF HEART'S CONTENT\n",
            "THE LADY WHO JUST NOW SPOKE TO YOU WILL ACQUAINT YOU WITH THE REST THEREFORE THINK OF NOTHING BUT RECOVERING YOUR HEALTH I WILL CONTRIBUTE ALL IN MY POWER TOWARDS IT HAVING SPOKE THESE WORDS HE LEFT GANEM TO TAKE HIS REST\n",
            "Pred\n",
            "AND THE MOST IMPORTANT OF ALL THE MOST IMPORTANT OF ALL THE MOST IMPORTANT OF ALL THE MOST IMPORTANT OF ALL THE MOST IMPORTANT OF ALL THE MOST IMPORTANT OF ALL THE MOST IMPORTANT OF ALL THE MOST IMPORTANT OF ALL THE MOST IMPORTANT OF ALL THE MOST IMPORTANT OF ALL THE MOST IMPORTANT OF ALL THE MOST IMPORTANT OF ALL THE MOST\n",
            "AND THE MOST IMPORTANT OF ALL THE MOST IMPORTANT OF ALL THE MOST IMPORTANT OF ALL THE MOST IMPORTANT OF ALL THE MOST IMPORTANT OF ALL THE MOST IMPORTANT OF ALL THE MOST IMPORTANT OF ALL THE MOST IMPORTANT OF ALL THE MOST IMPORTANT OF ALL THE MOST IMPORTANT OF ALL THE MOST IMPORTANT OF ALL THE MOST IMPORTANT OF ALL THE MOST\n",
            "AND THE MOST IMPORTANT OF ALL THE MOST IMPORTANT OF ALL THE MOST IMPORTANT OF ALL THE MOST IMPORTANT OF ALL THE MOST IMPORTANT OF ALL THE MOST IMPORTANT OF ALL THE MOST IMPORTANT OF ALL THE MOST IMPORTANT OF ALL THE MOST IMPORTANT OF ALL THE MOST IMPORTANT OF ALL THE MOST IMPORTANT OF ALL THE MOST IMPORTANT OF ALL THE MOST\n",
            "THE MOST IMPORTANT THING OF ALL THE MOST IMPORTANT THINGS OF ALL THE MOST IMPORTANT THINGS OF ALL THE MOST IMPORTANT THINGS OF ALL THE MOST IMPORTANT THINGS OF ALL THE MOST IMPORTANT THINGS OF ALL THE MOST IMPORTANT THINGS OF ALL THE MOST IMPORTANT THINGS OF ALL THE MOST IMPORTANT THINGS OF ALL THE MOST IMPORTANT THINGS OF ALL\n",
            "torch.Size([1, 100, 768])\n",
            "torch.Size([1, 100, 768])\n",
            "torch.Size([1, 100, 768])\n",
            "torch.Size([1, 100, 768])\n"
          ]
        },
        {
          "name": "stderr",
          "output_type": "stream",
          "text": [
            "\r57it [05:55,  6.25s/it]"
          ]
        },
        {
          "name": "stdout",
          "output_type": "stream",
          "text": [
            "Gt\n",
            "LORD DAVID WAS ONE OF THE FEW REFEREES WHOM THEY DARED NOT THRASH NO ONE COULD TRAIN LIKE HIM THE PUGILIST WHOSE TRAINER HE CONSENTED TO BECOME WAS SURE TO WIN LORD DAVID WOULD CHOOSE A HERCULES MASSIVE AS A ROCK TALL AS A TOWER AND MAKE HIM HIS CHILD\n",
            "THE GOVERNING CLASS ENTRENCHED BY THE PRECEDENT AND POWER OF CENTURIES AND BY THE STAMP IT HAS PUT UPON HIS MIND WILL NEVER FREE HIM IT WOULD BE THE SUICIDE OF THE GOVERNING CLASS AND THE GOVERNING CLASS KNOWS IT\n",
            "IT WAS SO NOW YOU DO NOT SEEM INTERESTED IN THE BROKEN BOX OF COUNTERS SHE SAID TURNING TOWARD HER GRANDFATHER I WONDER WIGAN IS THAT THE CLEW QUARLES SAID QUICKLY IT CREEPS INTO MY BRAIN THE COUNTERS WERE IN A HEAP I SAID\n",
            "HOWEVER I'M NOT GOING TO BOTHER MUCH ABOUT THE PLAY NOW FOR THE SENIOR TEAM HAS JUST SENT ME A CHALLENGE TO PLAY THEM SATURDAY DECEMBER TWELFTH SO I'LL HAVE TO GET THE TEAM TOGETHER AND GO TO WORK WE'RE AWFULLY LATE THIS YEAR ABOUT STARTING DON'T YOU THINK SO ASKED NORA\n",
            "Pred\n",
            "AND THE MOST IMPORTANT THING OF ALL THE MOST IMPORTANT THINGS OF ALL THE MOST IMPORTANT THINGS OF ALL THE MOST IMPORTANT THINGS OF ALL THE MOST IMPORTANT THINGS OF ALL THE MOST IMPORTANT THINGS OF ALL THE MOST IMPORTANT THINGS OF ALL THE MOST IMPORTANT THINGS OF ALL THE MOST IMPORTANT THINGS OF ALL THE MOST IMPORTANT THINGS OF\n",
            "AND THE MOST IMPORTANT THING OF ALL THE MOST IMPORTANT THINGS OF ALL THE MOST IMPORTANT THINGS OF ALL THE MOST IMPORTANT THINGS OF ALL THE MOST IMPORTANT THINGS OF ALL THE MOST IMPORTANT THINGS OF ALL THE MOST IMPORTANT THINGS OF ALL THE MOST IMPORTANT THINGS OF ALL THE MOST IMPORTANT THINGS OF ALL THE MOST IMPORTANT THINGS OF\n",
            "THE MOST IMPORTANT THING OF ALL THE MOST IMPORTANT THINGS OF ALL THE MOST IMPORTANT THINGS OF ALL THE MOST IMPORTANT THINGS OF ALL THE MOST IMPORTANT THINGS OF ALL THE MOST IMPORTANT THINGS OF ALL THE MOST IMPORTANT THINGS OF ALL THE MOST IMPORTANT THINGS OF ALL THE MOST IMPORTANT THINGS OF ALL THE MOST IMPORTANT THINGS OF ALL\n",
            "AND THE MOST IMPORTANT OF ALL THE MOST IMPORTANT OF ALL THE MOST IMPORTANT OF ALL THE MOST IMPORTANT OF ALL THE MOST IMPORTANT OF ALL THE MOST IMPORTANT OF ALL THE MOST IMPORTANT OF ALL THE MOST IMPORTANT OF ALL THE MOST IMPORTANT OF ALL THE MOST IMPORTANT OF ALL THE MOST IMPORTANT OF ALL THE MOST IMPORTANT OF ALL THE MOST\n",
            "torch.Size([1, 100, 768])\n",
            "torch.Size([1, 100, 768])\n",
            "torch.Size([1, 100, 768])\n",
            "torch.Size([1, 100, 768])\n"
          ]
        },
        {
          "name": "stderr",
          "output_type": "stream",
          "text": [
            "\r58it [06:01,  6.24s/it]"
          ]
        },
        {
          "name": "stdout",
          "output_type": "stream",
          "text": [
            "Gt\n",
            "HE DID NOT STRIKE HIM AGAIN HE STOOD BENDING OVER HIM AND SPEAKING ANGRILY BUT QUITE LOW\n",
            "AS I AM SURE YOU WILL NOT BE SLOW TO DISCOVER BUT HIS LONG MILITARY SERVICE AND THE UNPARALLELED TUMULT OF OUR EUROPEAN HISTORY SINCE EIGHTEEN O FIVE HAVE INTERFERED AS YOU MAY SUPPOSE WITH THE CULTIVATION OF HIS MIND\n",
            "I NEVER BEFORE HAD SEEN TWO GREEN MARTIAN WARRIORS BATTLE WITH NATURE'S WEAPONS AND THE EXHIBITION OF ANIMAL FEROCITY WHICH ENSUED WAS AS FEARFUL A THING AS THE MOST DISORDERED IMAGINATION COULD PICTURE\n",
            "YOU ARE NOT IN THE COUNTRY NOW AND YOU ARE NOT DEALING WITH PEASANTS THERE'S NO REASON WHY YOU SHOULDN'T WITNESS THAT FALK'S SIGNATURE IS GENUINE SELLEN SIGNED SHAKING HIS HEAD\n",
            "Pred\n",
            "AND THE MOST IMPORTANT OF ALL THE MOST IMPORTANT OF ALL THE MOST IMPORTANT OF ALL THE MOST IMPORTANT OF ALL THE MOST IMPORTANT OF ALL THE MOST IMPORTANT OF ALL THE MOST IMPORTANT OF ALL THE MOST IMPORTANT OF ALL THE MOST IMPORTANT OF ALL THE MOST IMPORTANT OF ALL THE MOST IMPORTANT OF ALL THE MOST IMPORTANT OF ALL THE MOST\n",
            "AND THE MOST IMPORTANT OF ALL THE MOST IMPORTANT OF ALL THE MOST IMPORTANT OF ALL THE MOST IMPORTANT OF ALL THE MOST IMPORTANT OF ALL THE MOST IMPORTANT OF ALL THE MOST IMPORTANT OF ALL THE MOST IMPORTANT OF ALL THE MOST IMPORTANT OF ALL THE MOST IMPORTANT OF ALL THE MOST IMPORTANT OF ALL THE MOST IMPORTANT OF ALL THE MOST\n",
            "AND THE MOST IMPORTANT OF ALL THE MOST IMPORTANT OF ALL THE MOST IMPORTANT OF ALL THE MOST IMPORTANT OF ALL THE MOST IMPORTANT OF ALL THE MOST IMPORTANT OF ALL THE MOST IMPORTANT OF ALL THE MOST IMPORTANT OF ALL THE MOST IMPORTANT OF ALL THE MOST IMPORTANT OF ALL THE MOST IMPORTANT OF ALL THE MOST IMPORTANT OF ALL THE MOST\n",
            "AND THE MOST IMPORTANT OF ALL THE MOST IMPORTANT OF ALL THE MOST IMPORTANT OF ALL THE MOST IMPORTANT OF ALL THE MOST IMPORTANT OF ALL THE MOST IMPORTANT OF ALL THE MOST IMPORTANT OF ALL THE MOST IMPORTANT OF ALL THE MOST IMPORTANT OF ALL THE MOST IMPORTANT OF ALL THE MOST IMPORTANT OF ALL THE MOST IMPORTANT OF ALL THE MOST\n",
            "torch.Size([1, 100, 768])\n",
            "torch.Size([1, 100, 768])\n",
            "torch.Size([1, 100, 768])\n",
            "torch.Size([1, 100, 768])\n"
          ]
        },
        {
          "name": "stderr",
          "output_type": "stream",
          "text": [
            "\r59it [06:07,  6.24s/it]"
          ]
        },
        {
          "name": "stdout",
          "output_type": "stream",
          "text": [
            "Gt\n",
            "AND NOT YET FROM MY BOSOM WAS EXHAUSTED THE ARDOUR OF SACRIFICE BEFORE I KNEW THIS OFFERING WAS ACCEPTED AND AUSPICIOUS FOR WITH SO GREAT A LUSTRE AND SO RED SPLENDOURS APPEARED TO ME IN TWOFOLD RAYS I SAID O HELIOS WHO DOST SO ADORN THEM\n",
            "CAN BE PRODUCED AT A NON HYPNOTIC LEVEL A LARGE NUMBER OF HYPNOTISTS INCLUDING THE AUTHOR HAS COME TO BELIEVE THAT HYPNOSIS IS A SEMANTIC PROBLEM IN WHICH WORDS ARE THE BUILDING BLOCKS TO SUCCESS NOT JUST ANY WORDS\n",
            "THEY SHALL NOT KEEP ME HERE BY FORCE WOE TO HIM WHO BARS MY EXIT WHAT IS THAT GREAT TOWER YONDER IF THERE WAS A GIANT A HELL HOUND A MINOTAUR TO KEEP THE GATE OF THIS ENCHANTED PALACE I WOULD ANNIHILATE HIM IF AN ARMY I WOULD EXTERMINATE IT\n",
            "WHEREAS THE OTHERS BEING ROUND ARE MORE CONVENIENTLY CLOSED WITH THREE BESIDES I WISH SUCH PERSONS TO OBSERVE THAT THE GRAND ARTERY AND THE ARTERIAL VEIN ARE OF MUCH HARDER AND FIRMER TEXTURE\n",
            "Pred\n",
            "THE MOST IMPORTANT THING OF ALL THE MOST IMPORTANT THINGS OF ALL THE MOST IMPORTANT THINGS OF ALL THE MOST IMPORTANT THINGS OF ALL THE MOST IMPORTANT THINGS OF ALL THE MOST IMPORTANT THINGS OF ALL THE MOST IMPORTANT THINGS OF ALL THE MOST IMPORTANT THINGS OF ALL THE MOST IMPORTANT THINGS OF ALL THE MOST IMPORTANT THINGS OF ALL\n",
            "AND THE MOST IMPORTANT THING OF ALL THE MOST IMPORTANT THINGS OF ALL THE MOST IMPORTANT THINGS OF ALL THE MOST IMPORTANT THINGS OF ALL THE MOST IMPORTANT THINGS OF ALL THE MOST IMPORTANT THINGS OF ALL THE MOST IMPORTANT THINGS OF ALL THE MOST IMPORTANT THINGS OF ALL THE MOST IMPORTANT THINGS OF ALL THE MOST IMPORTANT THINGS OF\n",
            "THE MOST IMPORTANT THING OF ALL THE MOST IMPORTANT THINGS OF ALL THE MOST IMPORTANT THINGS OF ALL THE MOST IMPORTANT THINGS OF ALL THE MOST IMPORTANT THINGS OF ALL THE MOST IMPORTANT THINGS OF ALL THE MOST IMPORTANT THINGS OF ALL THE MOST IMPORTANT THINGS OF ALL THE MOST IMPORTANT THINGS OF ALL THE MOST IMPORTANT THINGS OF ALL\n",
            "THE MOST IMPORTANT THING OF ALL THE MOST IMPORTANT THINGS OF ALL THE MOST IMPORTANT THINGS OF ALL THE MOST IMPORTANT THINGS OF ALL THE MOST IMPORTANT THINGS OF ALL THE MOST IMPORTANT THINGS OF ALL THE MOST IMPORTANT THINGS OF ALL THE MOST IMPORTANT THINGS OF ALL THE MOST IMPORTANT THINGS OF ALL THE MOST IMPORTANT THINGS OF ALL\n",
            "torch.Size([1, 100, 768])\n",
            "torch.Size([1, 100, 768])\n",
            "torch.Size([1, 100, 768])\n",
            "torch.Size([1, 100, 768])\n"
          ]
        },
        {
          "name": "stderr",
          "output_type": "stream",
          "text": [
            "\r60it [06:13,  6.22s/it]"
          ]
        },
        {
          "name": "stdout",
          "output_type": "stream",
          "text": [
            "Gt\n",
            "BUT THERE IS SOME QUESTION OF SPECIES I THINK MYSELF THAT THEY WERE MINNOWS AND STICKLEBACKS SOME PERSONS THINKING THEM TO BE SEA FISHES PLACED THEM IN SALT WATER ACCORDING TO MISTER ROBERTS\n",
            "AND A FULL SOFT BROWN BEARD WHICH HE HAD WORN EVER SINCE HE WAS TWENTY IN FACT HE HAD LOOKED AT TWENTY VERY MUCH AS HE LOOKED AT SIXTY LACKING A LITTLE OF THE GRAYNESS WHEN HE REACHED BRIGHT RIVER THERE WAS NO SIGN OF ANY TRAIN\n",
            "GLADSTONE AT EIGHTY TWO WAS A GROWING STATESMAN AND ELECTED PRIME MINISTER OF ENGLAND FOR THE FOURTH TIME CATO AT EIGHTY BEGAN TO STUDY GREEK AND RENEWED THE YOUTH OF HIS MIND DONALD DAVIS\n",
            "WHAT IF YOUR AUNT SHOULDN'T LIKE THE KIND OF SOAP QUERIED REBECCA NERVOUSLY MY AUNT ALWAYS LIKES WHAT I LIKE HE RETURNED MINE DOESN'T EXCLAIMED REBECCA THEN THERE'S SOMETHING WRONG WITH YOUR AUNT OR WITH ME LAUGHED REBECCA\n",
            "Pred\n",
            "AND THE MOST IMPORTANT OF ALL THE MOST IMPORTANT OF ALL THE MOST IMPORTANT OF ALL THE MOST IMPORTANT OF ALL THE MOST IMPORTANT OF ALL THE MOST IMPORTANT OF ALL THE MOST IMPORTANT OF ALL THE MOST IMPORTANT OF ALL THE MOST IMPORTANT OF ALL THE MOST IMPORTANT OF ALL THE MOST IMPORTANT OF ALL THE MOST IMPORTANT OF ALL THE MOST\n",
            "THE MOST IMPORTANT THING OF ALL THE MOST IMPORTANT THINGS OF ALL THE MOST IMPORTANT THINGS OF ALL THE MOST IMPORTANT THINGS OF ALL THE MOST IMPORTANT THINGS OF ALL THE MOST IMPORTANT THINGS OF ALL THE MOST IMPORTANT THINGS OF ALL THE MOST IMPORTANT THINGS OF ALL THE MOST IMPORTANT THINGS OF ALL THE MOST IMPORTANT THINGS OF ALL\n",
            "AND THE MOST IMPORTANT OF ALL THE MOST IMPORTANT OF ALL THE MOST IMPORTANT OF ALL THE MOST IMPORTANT OF ALL THE MOST IMPORTANT OF ALL THE MOST IMPORTANT OF ALL THE MOST IMPORTANT OF ALL THE MOST IMPORTANT OF ALL THE MOST IMPORTANT OF ALL THE MOST IMPORTANT OF ALL THE MOST IMPORTANT OF ALL THE MOST IMPORTANT OF ALL THE MOST\n",
            "I'M NOT A MAN BUT I'M A MAN AND I'M A MAN AND I'M A MAN AND I'M A MAN AND I'M A MAN AND I'M A MAN AND I'M A MAN AND I'M A MAN AND I'M A MAN AND I'M A MAN AND I'M A MAN AND I'M A MAN AND I'M A MAN AND I'M A MAN AND I'M A MAN AND I'M\n",
            "torch.Size([1, 100, 768])\n",
            "torch.Size([1, 100, 768])\n",
            "torch.Size([1, 100, 768])\n",
            "torch.Size([1, 100, 768])\n"
          ]
        },
        {
          "name": "stderr",
          "output_type": "stream",
          "text": [
            "\r61it [06:20,  6.28s/it]"
          ]
        },
        {
          "name": "stdout",
          "output_type": "stream",
          "text": [
            "Gt\n",
            "I WOULD LAY AN PLEASE YOUR HONOUR MY MONTERO CAP TO A SHILLING WAS IT PROPER CONTINUED TRIM MAKING A BOW TO OFFER A WAGER BEFORE YOUR HONOURS THERE IS NOTHING IMPROPER IN IT SAID MY FATHER\n",
            "WHETHER POSITIVE OR NEGATIVE IT MATTERS LITTLE THEN THERE WAS NO PROPERTY NOT EVEN PRIVATE POSSESSION THE GENESIS AND GROWTH OF POSSESSION GRADUALLY FORCING PEOPLE TO LABOR FOR THEIR SUPPORT\n",
            "WAS ALSO BY A SINGULAR COINCIDENCE MY LAST IT WAS COMMITTED AT CHRISTMAS AS AN ARTIST\n",
            "OF HEAD AND OF THE EAR THE RIGHT EAR IT IS PARFOIS AGONY ABSOLUTELY AND NOW IT IS HERE AND SHE WINCED AND MOANED WITH HER EYES CLOSED AND HER HAND PRESSED TO THE ORGAN AFFECTED\n",
            "Pred\n",
            "AND THE MOST IMPORTANT OF ALL THE MOST IMPORTANT OF ALL THE MOST IMPORTANT OF ALL THE MOST IMPORTANT OF ALL THE MOST IMPORTANT OF ALL THE MOST IMPORTANT OF ALL THE MOST IMPORTANT OF ALL THE MOST IMPORTANT OF ALL THE MOST IMPORTANT OF ALL THE MOST IMPORTANT OF ALL THE MOST IMPORTANT OF ALL THE MOST IMPORTANT OF ALL THE MOST\n",
            "THE MOST IMPORTANT THING OF ALL THE MOST IMPORTANT THINGS OF ALL THE MOST IMPORTANT THINGS OF ALL THE MOST IMPORTANT THINGS OF ALL THE MOST IMPORTANT THINGS OF ALL THE MOST IMPORTANT THINGS OF ALL THE MOST IMPORTANT THINGS OF ALL THE MOST IMPORTANT THINGS OF ALL THE MOST IMPORTANT THINGS OF ALL THE MOST IMPORTANT THINGS OF ALL\n",
            "THE MOST IMPORTANT THING OF ALL THE MOST IMPORTANT THINGS OF ALL THE MOST IMPORTANT THINGS OF ALL THE MOST IMPORTANT THINGS OF ALL THE MOST IMPORTANT THINGS OF ALL THE MOST IMPORTANT THINGS OF ALL THE MOST IMPORTANT THINGS OF ALL THE MOST IMPORTANT THINGS OF ALL THE MOST IMPORTANT THINGS OF ALL THE MOST IMPORTANT THINGS OF ALL\n",
            "AND THE MOST IMPORTANT OF ALL THE MOST IMPORTANT OF ALL THE MOST IMPORTANT OF ALL THE MOST IMPORTANT OF ALL THE MOST IMPORTANT OF ALL THE MOST IMPORTANT OF ALL THE MOST IMPORTANT OF ALL THE MOST IMPORTANT OF ALL THE MOST IMPORTANT OF ALL THE MOST IMPORTANT OF ALL THE MOST IMPORTANT OF ALL THE MOST IMPORTANT OF ALL THE MOST\n",
            "torch.Size([1, 100, 768])\n",
            "torch.Size([1, 100, 768])\n",
            "torch.Size([1, 100, 768])\n",
            "torch.Size([1, 100, 768])\n"
          ]
        },
        {
          "name": "stderr",
          "output_type": "stream",
          "text": [
            "\r62it [06:26,  6.24s/it]"
          ]
        },
        {
          "name": "stdout",
          "output_type": "stream",
          "text": [
            "Gt\n",
            "LOUISE AND BETH HAVING AT LAST FULL KNOWLEDGE OF THEIR COUSIN'S DESIRE TO INCREASE THEIR BEQUESTS WERE OPENLY VERY GRATEFUL FOR HER GOOD WILL ALTHOUGH SECRETLY THEY COULD NOT FAIL TO RESENT PATSY'S CHOICE OF THE BOY AS THE PROPER HEIR OF HIS UNCLE'S FORTUNE\n",
            "WAS ONE CHIEF INDUCEMENT TO CAPTAIN FITZ ROY TO UNDERTAKE OUR PRESENT VOYAGE AND BEFORE THE ADMIRALTY HAD RESOLVED TO SEND OUT THIS EXPEDITION CAPTAIN FITZ ROY HAD GENEROUSLY CHARTERED A VESSEL AND WOULD HIMSELF HAVE TAKEN THEM BACK THE NATIVES WERE ACCOMPANIED BY A MISSIONARY\n",
            "MARIANNE LOOKED WITH AMAZEMENT AT EDWARD WITH COMPASSION AT HER SISTER\n",
            "FOR THE LAST MONTH THIS WRETCHED HOUSE HAD PRESENTED THE GLOOMY APPEARANCE OF A LAZARETTO INFECTED WITH THE PLAGUE SOME OF THE APARTMENTS WERE CLOSED WITHIN AND WITHOUT THE SHUTTERS WERE ONLY OPENED TO ADMIT A MINUTE'S AIR SHOWING THE SCARED FACE OF A FOOTMAN\n",
            "Pred\n",
            "I'M NOT A MAN OF THE WORLD BUT I'M A MAN OF THE WORLD AND I'M A MAN OF THE WORLD AND I'M A MAN OF THE WORLD AND I'M A MAN OF THE WORLD AND I'M A MAN OF THE WORLD AND I'M A MAN OF THE WORLD AND I'M A MAN OF THE WORLD AND I'M A MAN OF THE WORLD AND I'M A MAN OF THE WORLD AND I'M A MAN OF THE WORLD AND\n",
            "THE MOST IMPORTANT THING OF ALL THE MOST IMPORTANT THINGS OF ALL THE MOST IMPORTANT THINGS OF ALL THE MOST IMPORTANT THINGS OF ALL THE MOST IMPORTANT THINGS OF ALL THE MOST IMPORTANT THINGS OF ALL THE MOST IMPORTANT THINGS OF ALL THE MOST IMPORTANT THINGS OF ALL THE MOST IMPORTANT THINGS OF ALL THE MOST IMPORTANT THINGS OF ALL\n",
            "THE MOST IMPORTANT THING OF ALL THE MOST IMPORTANT THINGS OF ALL THE MOST IMPORTANT THINGS OF ALL THE MOST IMPORTANT THINGS OF ALL THE MOST IMPORTANT THINGS OF ALL THE MOST IMPORTANT THINGS OF ALL THE MOST IMPORTANT THINGS OF ALL THE MOST IMPORTANT THINGS OF ALL THE MOST IMPORTANT THINGS OF ALL THE MOST IMPORTANT THINGS OF ALL\n",
            "THE MOST IMPORTANT THING OF ALL THE MOST IMPORTANT THINGS OF ALL THE MOST IMPORTANT THINGS OF ALL THE MOST IMPORTANT THINGS OF ALL THE MOST IMPORTANT THINGS OF ALL THE MOST IMPORTANT THINGS OF ALL THE MOST IMPORTANT THINGS OF ALL THE MOST IMPORTANT THINGS OF ALL THE MOST IMPORTANT THINGS OF ALL THE MOST IMPORTANT THINGS OF ALL\n",
            "torch.Size([1, 100, 768])\n",
            "torch.Size([1, 100, 768])\n",
            "torch.Size([1, 100, 768])\n",
            "torch.Size([1, 100, 768])\n"
          ]
        },
        {
          "name": "stderr",
          "output_type": "stream",
          "text": [
            "\r63it [06:32,  6.23s/it]"
          ]
        },
        {
          "name": "stdout",
          "output_type": "stream",
          "text": [
            "Gt\n",
            "CANNON BOOMED STEAM WHISTLES SHRIEKED AND THE CITIZENS SHOUTED AND HURRAHED AND I WAS GLAD MAC WAS NOT WITH ME TO ADD HIS SALUTE\n",
            "SHE HAD NO ILLUSIONS ABOUT THE POWER OF THE FORMER CLASS IT DIDN'T EXIST THEY WERE STEERED TO THEIR DECISIONS BY PEOPLE EMPLOYED DIRECTED OR STIMULATED BY FATHER AND HIS FRIENDS AND ASSOCIATES THE OWNERS OF AMERICA THE REAL RESPONSIBLE CITIZENS\n",
            "THAT UNCLE JOHN AT ONCE DECIDED MUST REPRESENT THE COLONEL HAVING NOTED THESE DETAILS PATSY'S UNCLE SMOOTHED BACK HIS STUBBY GRAY HAIR WITH A REFLECTIVE AND HALF PUZZLED GESTURE IT'S COZY ENOUGH MY CHILD AND I THANK YOU FOR MY WELCOME SAID HE\n",
            "A BLOW WAS THE ONLY RESPONSE WHEN SHE TRIED TO EXPOSTULATE SHE WAS TAKEN TO PRISON AND PLACED IN SOLITARY CONFINEMENT HER ARREST WAS SHROUDED WITH THE MOST CAREFUL SECRECY FOR THE GERMANS DID NOT WANT TO HAVE THE REPRESENTATIVES OF NEUTRAL GOVERNMENTS\n",
            "Pred\n",
            "AND THE MOST IMPORTANT OF ALL THE MOST IMPORTANT OF ALL THE MOST IMPORTANT OF ALL THE MOST IMPORTANT OF ALL THE MOST IMPORTANT OF ALL THE MOST IMPORTANT OF ALL THE MOST IMPORTANT OF ALL THE MOST IMPORTANT OF ALL THE MOST IMPORTANT OF ALL THE MOST IMPORTANT OF ALL THE MOST IMPORTANT OF ALL THE MOST IMPORTANT OF ALL THE MOST\n",
            "AND THE MOST IMPORTANT OF ALL THE MOST IMPORTANT OF ALL THE MOST IMPORTANT OF ALL THE MOST IMPORTANT OF ALL THE MOST IMPORTANT OF ALL THE MOST IMPORTANT OF ALL THE MOST IMPORTANT OF ALL THE MOST IMPORTANT OF ALL THE MOST IMPORTANT OF ALL THE MOST IMPORTANT OF ALL THE MOST IMPORTANT OF ALL THE MOST IMPORTANT OF ALL THE MOST\n",
            "AND THE MOST IMPORTANT OF ALL THE MOST IMPORTANT OF ALL THE MOST IMPORTANT OF ALL THE MOST IMPORTANT OF ALL THE MOST IMPORTANT OF ALL THE MOST IMPORTANT OF ALL THE MOST IMPORTANT OF ALL THE MOST IMPORTANT OF ALL THE MOST IMPORTANT OF ALL THE MOST IMPORTANT OF ALL THE MOST IMPORTANT OF ALL THE MOST IMPORTANT OF ALL THE MOST\n",
            "THE MOST IMPORTANT THING OF ALL THE MOST IMPORTANT THINGS OF ALL THE MOST IMPORTANT THINGS OF ALL THE MOST IMPORTANT THINGS OF ALL THE MOST IMPORTANT THINGS OF ALL THE MOST IMPORTANT THINGS OF ALL THE MOST IMPORTANT THINGS OF ALL THE MOST IMPORTANT THINGS OF ALL THE MOST IMPORTANT THINGS OF ALL THE MOST IMPORTANT THINGS OF ALL\n",
            "torch.Size([1, 100, 768])\n",
            "torch.Size([1, 100, 768])\n",
            "torch.Size([1, 100, 768])\n",
            "torch.Size([1, 100, 768])\n"
          ]
        },
        {
          "name": "stderr",
          "output_type": "stream",
          "text": [
            "\r64it [06:38,  6.21s/it]"
          ]
        },
        {
          "name": "stdout",
          "output_type": "stream",
          "text": [
            "Gt\n",
            "AND PRESENTLY I CAME IN SIGHT OF THE VILLAGE CHURCH SITTING SOLITARY WITHIN ITS CIRCLE OF ELMS FROM FORTH THE VESTRY WINDOW PROJECTED TWO SMALL LEGS GYRATING HUNGRY FOR FOOTHOLD WITH LARCENY\n",
            "THERE WERE NO HORSES TO BE PROCURED AND I MUST RETURN BY THE LAKE BUT THE WIND WAS UNFAVOURABLE AND THE RAIN FELL IN TORRENTS\n",
            "AND UNLESS HE FANCIED HIMSELF AT ANY TIME UNEQUAL TO COMPANY THERE WAS SCARCELY AN EVENING IN THE WEEK IN WHICH EMMA COULD NOT MAKE UP A CARD TABLE FOR HIM REAL LONG STANDING REGARD BROUGHT THE WESTONS AND MISTER KNIGHTLEY\n",
            "AND DON'T I HOPE THAT FIRST PICTURE TURNS OUT GOOD IT WAS A REMARKABLE POSE IF ONLY THE FOCUS WAS RIGHT HE STARTED TOWARD THE CABIN DOOR AS THOUGH ANXIOUS TO DEVELOP HIS ROLL OF FILM AND DISCOVER WHAT SUCCESS HIS LABOR HAD RESULTED IN\n",
            "Pred\n",
            "AND THE MOST IMPORTANT THING OF ALL THE MOST IMPORTANT THINGS OF ALL THE MOST IMPORTANT THINGS OF ALL THE MOST IMPORTANT THINGS OF ALL THE MOST IMPORTANT THINGS OF ALL THE MOST IMPORTANT THINGS OF ALL THE MOST IMPORTANT THINGS OF ALL THE MOST IMPORTANT THINGS OF ALL THE MOST IMPORTANT THINGS OF ALL THE MOST IMPORTANT THINGS OF\n",
            "THE MOST IMPORTANT OF ALL THE MOST IMPORTANT OF ALL THE MOST IMPORTANT OF ALL THE MOST IMPORTANT OF ALL THE MOST IMPORTANT OF ALL THE MOST IMPORTANT OF ALL THE MOST IMPORTANT OF ALL THE MOST IMPORTANT OF ALL THE MOST IMPORTANT OF ALL THE MOST IMPORTANT OF ALL THE MOST IMPORTANT OF ALL THE MOST IMPORTANT OF ALL THE MOST IMP\n",
            "AND THE MOST IMPORTANT THING OF ALL THE MOST IMPORTANT THINGS OF ALL THE MOST IMPORTANT THINGS OF ALL THE MOST IMPORTANT THINGS OF ALL THE MOST IMPORTANT THINGS OF ALL THE MOST IMPORTANT THINGS OF ALL THE MOST IMPORTANT THINGS OF ALL THE MOST IMPORTANT THINGS OF ALL THE MOST IMPORTANT THINGS OF ALL THE MOST IMPORTANT THINGS OF\n",
            "AND THE MOST IMPORTANT THING OF ALL THE MOST IMPORTANT THINGS OF ALL THE MOST IMPORTANT THINGS OF ALL THE MOST IMPORTANT THINGS OF ALL THE MOST IMPORTANT THINGS OF ALL THE MOST IMPORTANT THINGS OF ALL THE MOST IMPORTANT THINGS OF ALL THE MOST IMPORTANT THINGS OF ALL THE MOST IMPORTANT THINGS OF ALL THE MOST IMPORTANT THINGS OF\n",
            "torch.Size([1, 100, 768])\n",
            "torch.Size([1, 100, 768])\n",
            "torch.Size([1, 100, 768])\n",
            "torch.Size([1, 100, 768])\n"
          ]
        },
        {
          "name": "stderr",
          "output_type": "stream",
          "text": [
            "\r65it [06:45,  6.21s/it]"
          ]
        },
        {
          "name": "stdout",
          "output_type": "stream",
          "text": [
            "Gt\n",
            "OR WITHOUT SPEAKING TO THE PROCUREUR WELL I HAVE BUSINESS WITH THE PROCUREUR IS IT PRESSING BUSINESS YOU CAN IMAGINE SO SINCE I HAVE NOT EVEN BROUGHT MY CARRIAGE OUT YET BUT ENOUGH OF THIS HERE IS MY CARD\n",
            "HE HAD HARDLY FINISHED AND WAS STILL LOOKING AT THE CHIPS AS THEY WERE BEING CARRIED AWAY BY THE STREAM WHEN A GENTLE STEP CAME CLOSE UP TO HIM AND TURNING ROUND HE SAW THAT LADY JULIA WAS ON THE BRIDGE SHE WAS CLOSE TO HIM\n",
            "FOR IN THIS INDUSTRY THE RULE IS EITHER VERY GREAT PROFITS OR VERY GREAT AND RAPID LOSSES\n",
            "IT IS DUE TO MY CABINET THAT YOU SHOULD BE THE FIRST TO HEAR AND KNOW OF IT AND IF ANY OF YOU HAVE ANY SUGGESTIONS TO MAKE AS TO THE FORM OF THIS PAPER OR ITS COMPOSITION I SHALL BE GLAD TO HEAR THEM\n",
            "Pred\n",
            "THE MOST IMPORTANT THING OF ALL THE MOST IMPORTANT THINGS OF ALL THE MOST IMPORTANT THINGS OF ALL THE MOST IMPORTANT THINGS OF ALL THE MOST IMPORTANT THINGS OF ALL THE MOST IMPORTANT THINGS OF ALL THE MOST IMPORTANT THINGS OF ALL THE MOST IMPORTANT THINGS OF ALL THE MOST IMPORTANT THINGS OF ALL THE MOST IMPORTANT THINGS OF ALL\n",
            "AND THE MOST IMPORTANT OF ALL THE MOST IMPORTANT OF ALL THE MOST IMPORTANT OF ALL THE MOST IMPORTANT OF ALL THE MOST IMPORTANT OF ALL THE MOST IMPORTANT OF ALL THE MOST IMPORTANT OF ALL THE MOST IMPORTANT OF ALL THE MOST IMPORTANT OF ALL THE MOST IMPORTANT OF ALL THE MOST IMPORTANT OF ALL THE MOST IMPORTANT OF ALL THE MOST\n",
            "AND THE MOST IMPORTANT OF ALL THE MOST IMPORTANT OF ALL THE MOST IMPORTANT OF ALL THE MOST IMPORTANT OF ALL THE MOST IMPORTANT OF ALL THE MOST IMPORTANT OF ALL THE MOST IMPORTANT OF ALL THE MOST IMPORTANT OF ALL THE MOST IMPORTANT OF ALL THE MOST IMPORTANT OF ALL THE MOST IMPORTANT OF ALL THE MOST IMPORTANT OF ALL THE MOST\n",
            "AND THE MOST IMPORTANT OF ALL THE MOST IMPORTANT OF ALL THE MOST IMPORTANT OF ALL THE MOST IMPORTANT OF ALL THE MOST IMPORTANT OF ALL THE MOST IMPORTANT OF ALL THE MOST IMPORTANT OF ALL THE MOST IMPORTANT OF ALL THE MOST IMPORTANT OF ALL THE MOST IMPORTANT OF ALL THE MOST IMPORTANT OF ALL THE MOST IMPORTANT OF ALL THE MOST\n",
            "torch.Size([1, 100, 768])\n",
            "torch.Size([1, 100, 768])\n",
            "torch.Size([1, 100, 768])\n",
            "torch.Size([1, 100, 768])\n"
          ]
        },
        {
          "name": "stderr",
          "output_type": "stream",
          "text": [
            "\r66it [06:51,  6.22s/it]"
          ]
        },
        {
          "name": "stdout",
          "output_type": "stream",
          "text": [
            "Gt\n",
            "THAT HE WAS ALREADY ON HIS WAY TO SNOWFIELD ON HORSEBACK THIS TIME FOR HIS HOURS WERE PRECIOUS NOW AND HE HAD BORROWED JONATHAN BURGE'S GOOD NAG FOR THE JOURNEY WHAT KEEN MEMORIES WENT ALONG THE ROAD WITH HIM\n",
            "AND TO ASSIST AND SUPPORT ME AS LONG AS I LIVED AND THAT IF HE DIED BEFORE ME HE WOULD LEAVE SUFFICIENT TO HIS MOTHER TO TAKE CARE OF ME STILL IN THE NAME OF A SISTER AND HE WAS IN SOME RESPECTS CAREFUL OF ME WHEN HE HEARD OF ME\n",
            "AW TWENTY FIVE DOLLARS IS ENOUGH SAYS PA ALL RIGHT SAYS THE TENDERFOOT HERE'S THE MONEY AND HE COUNTS IT OUT IN PA'S HAND HE SAYS WHAT A LITTLE BEAUTY IT WOULD BE A TREAT TO SEE HIM WORK ON A POLO FIELD PA SAYS\n",
            "SHE WOULD STILL COME AGAIN TO THE BATTLE A WORD OF ENCOURAGEMENT WOULD SHE SAID BRING LARRY TWENTYMAN BACK TO HIS COURTSHIP AND THAT WORD MIGHT BE SPOKEN IF MARY'S VISIT TO CHELTENHAM WERE FORBIDDEN\n",
            "Pred\n",
            "AND THE MOST IMPORTANT OF ALL THE MOST IMPORTANT OF ALL THE MOST IMPORTANT OF ALL THE MOST IMPORTANT OF ALL THE MOST IMPORTANT OF ALL THE MOST IMPORTANT OF ALL THE MOST IMPORTANT OF ALL THE MOST IMPORTANT OF ALL THE MOST IMPORTANT OF ALL THE MOST IMPORTANT OF ALL THE MOST IMPORTANT OF ALL THE MOST IMPORTANT OF ALL THE MOST\n",
            "AND THE MOST IMPORTANT OF ALL THE MOST IMPORTANT OF ALL THE MOST IMPORTANT OF ALL THE MOST IMPORTANT OF ALL THE MOST IMPORTANT OF ALL THE MOST IMPORTANT OF ALL THE MOST IMPORTANT OF ALL THE MOST IMPORTANT OF ALL THE MOST IMPORTANT OF ALL THE MOST IMPORTANT OF ALL THE MOST IMPORTANT OF ALL THE MOST IMPORTANT OF ALL THE MOST\n",
            "THE MOST IMPORTANT THING OF ALL THE MOST IMPORTANT THINGS OF ALL THE MOST IMPORTANT THINGS OF ALL THE MOST IMPORTANT THINGS OF ALL THE MOST IMPORTANT THINGS OF ALL THE MOST IMPORTANT THINGS OF ALL THE MOST IMPORTANT THINGS OF ALL THE MOST IMPORTANT THINGS OF ALL THE MOST IMPORTANT THINGS OF ALL THE MOST IMPORTANT THINGS OF ALL\n",
            "AND THE MOST IMPORTANT OF ALL THE MOST IMPORTANT OF ALL THE MOST IMPORTANT OF ALL THE MOST IMPORTANT OF ALL THE MOST IMPORTANT OF ALL THE MOST IMPORTANT OF ALL THE MOST IMPORTANT OF ALL THE MOST IMPORTANT OF ALL THE MOST IMPORTANT OF ALL THE MOST IMPORTANT OF ALL THE MOST IMPORTANT OF ALL THE MOST IMPORTANT OF ALL THE MOST\n",
            "torch.Size([1, 100, 768])\n",
            "torch.Size([1, 100, 768])\n",
            "torch.Size([1, 100, 768])\n",
            "torch.Size([1, 100, 768])\n"
          ]
        },
        {
          "name": "stderr",
          "output_type": "stream",
          "text": [
            "\r67it [06:57,  6.23s/it]"
          ]
        },
        {
          "name": "stdout",
          "output_type": "stream",
          "text": [
            "Gt\n",
            "THE FLY CATCHER THE WALKING FERN ET CETERA I HARDLY KNOW HOW THE LITTLE BELLS I HAVE BEEN DESCRIBING WOULD BE REGARDED BY SEEKERS OF THIS CLASS BUT EVERY TRUE FLOWER LOVER WHO COMES TO CONSIDER THESE UTAH LILIES WILL SURELY BE WELL REWARDED HOWEVER LONG THE WAY\n",
            "AND SO TUESDAY NIGHT THE METROPOLITAN PEOPLE GAVE UP THEIR UNEQUAL CONTEST ALL GOOD MEN AND ANGELS REJOICING AT THEIR DISCOMFITURE AND ONLY A FEW OF THE PEOPLE IN THE VERY LOWEST BOLGIE BEING ILL NATURED ENOUGH TO GRIEVE\n",
            "AS HE SOON FORCED HER TO TELL HIM IN WORDS THAT SHE HAD NEVER SEEN ANY GARDENS AT ALL EQUAL TO THEM BEFORE\n",
            "IN THE MERRY MONTH OF MAY IN A MORN AT BREAK OF DAY WITH A TROOP OF DAMSELS PLAYING THE QUEEN FORSOOTH WENT FORTH A MAYING OLD SONG SO WHEN THE QUEEN HAD MAYED\n",
            "Pred\n",
            "AND THE MOST IMPORTANT THING OF ALL THE MOST IMPORTANT THINGS OF ALL THE MOST IMPORTANT THINGS OF ALL THE MOST IMPORTANT THINGS OF ALL THE MOST IMPORTANT THINGS OF ALL THE MOST IMPORTANT THINGS OF ALL THE MOST IMPORTANT THINGS OF ALL THE MOST IMPORTANT THINGS OF ALL THE MOST IMPORTANT THINGS OF ALL THE MOST IMPORTANT THINGS OF\n",
            "I'M NOT A MAN OF THE WORLD BUT I'M A MAN OF THE WORLD AND I'M A MAN OF THE WORLD AND I'M A MAN OF THE WORLD AND I'M A MAN OF THE WORLD AND I'M A MAN OF THE WORLD AND I'M A MAN OF THE WORLD AND I'M A MAN OF THE WORLD AND I'M A MAN OF THE WORLD AND I'M A MAN OF THE WORLD AND I'M A MAN OF THE WORLD AND\n",
            "AND THE MOST IMPORTANT OF ALL THE MOST IMPORTANT OF ALL THE MOST IMPORTANT OF ALL THE MOST IMPORTANT OF ALL THE MOST IMPORTANT OF ALL THE MOST IMPORTANT OF ALL THE MOST IMPORTANT OF ALL THE MOST IMPORTANT OF ALL THE MOST IMPORTANT OF ALL THE MOST IMPORTANT OF ALL THE MOST IMPORTANT OF ALL THE MOST IMPORTANT OF ALL THE MOST\n",
            "AND THE MOST IMPORTANT THING OF ALL THE MOST IMPORTANT THINGS OF ALL THE MOST IMPORTANT THINGS OF ALL THE MOST IMPORTANT THINGS OF ALL THE MOST IMPORTANT THINGS OF ALL THE MOST IMPORTANT THINGS OF ALL THE MOST IMPORTANT THINGS OF ALL THE MOST IMPORTANT THINGS OF ALL THE MOST IMPORTANT THINGS OF ALL THE MOST IMPORTANT THINGS OF\n",
            "torch.Size([1, 100, 768])\n",
            "torch.Size([1, 100, 768])\n",
            "torch.Size([1, 100, 768])\n",
            "torch.Size([1, 100, 768])\n"
          ]
        },
        {
          "name": "stderr",
          "output_type": "stream",
          "text": [
            "\r68it [07:03,  6.24s/it]"
          ]
        },
        {
          "name": "stdout",
          "output_type": "stream",
          "text": [
            "Gt\n",
            "NOTABLY DOCTOR WILLIAM S KROGER A PSYCHIATRICALLY ORIENTED OBSTETRICIAN AND GYNECOLOGIST WHO LIMITS HIS PRACTICE TO HYPNOTHERAPY BELIEVE HYPNOSIS IS A CONVICTION PHENOMENON WHICH PRODUCES RESULTS THAT PARALLEL THE PHENOMENA\n",
            "HE HAS DEVELOPED NATIONAL CONSCIOUSNESS INSTEAD OF MORAL CONSCIOUSNESS HE IS NOT INTERESTED IN HIS OWN MORAL WELFARE EXCEPT IN SO FAR AS IT IS THE WELFARE OF THE STATE THE HONOUR OF THE INDIVIDUAL PER SE DOES NOT EXIST\n",
            "WORTH ANYTHING WORTHY ENOUGH I SHALL ALWAYS BE TOO WICKED TO THE VOICE BROKE OFF HELPLESS DERONDA'S HEART WAS PIERCED HE TURNED HIS EYES ON HER POOR BESEECHING FACE AND SAID\n",
            "AND WANTED TO BE HIS NEIGHBORS SO THE NEXT SUMMER THIRTY FIVE SHIPS FULL OF MEN AND WOMEN AND GOODS FOLLOWED ERIC FOR GREENLAND BUT THEY MET HEAVY STORMS AND SOME SHIPS WERE WRECKED AND THE MEN DROWNED\n",
            "Pred\n",
            "THE MOST IMPORTANT THING OF ALL THE MOST IMPORTANT THINGS OF ALL THE MOST IMPORTANT THINGS OF ALL THE MOST IMPORTANT THINGS OF ALL THE MOST IMPORTANT THINGS OF ALL THE MOST IMPORTANT THINGS OF ALL THE MOST IMPORTANT THINGS OF ALL THE MOST IMPORTANT THINGS OF ALL THE MOST IMPORTANT THINGS OF ALL THE MOST IMPORTANT THINGS OF ALL\n",
            "AND THE MOST IMPORTANT OF ALL THE MOST IMPORTANT OF ALL THE MOST IMPORTANT OF ALL THE MOST IMPORTANT OF ALL THE MOST IMPORTANT OF ALL THE MOST IMPORTANT OF ALL THE MOST IMPORTANT OF ALL THE MOST IMPORTANT OF ALL THE MOST IMPORTANT OF ALL THE MOST IMPORTANT OF ALL THE MOST IMPORTANT OF ALL THE MOST IMPORTANT OF ALL THE MOST\n",
            "THE MOST IMPORTANT OF ALL THE MOST IMPORTANT OF ALL THE MOST IMPORTANT OF ALL THE MOST IMPORTANT OF ALL THE MOST IMPORTANT OF ALL THE MOST IMPORTANT OF ALL THE MOST IMPORTANT OF ALL THE MOST IMPORTANT OF ALL THE MOST IMPORTANT OF ALL THE MOST IMPORTANT OF ALL THE MOST IMPORTANT OF ALL THE MOST IMPORTANT OF ALL THE MOST IMP\n",
            "AND THE MOST IMPORTANT OF ALL THE MOST IMPORTANT OF ALL THE MOST IMPORTANT OF ALL THE MOST IMPORTANT OF ALL THE MOST IMPORTANT OF ALL THE MOST IMPORTANT OF ALL THE MOST IMPORTANT OF ALL THE MOST IMPORTANT OF ALL THE MOST IMPORTANT OF ALL THE MOST IMPORTANT OF ALL THE MOST IMPORTANT OF ALL THE MOST IMPORTANT OF ALL THE MOST\n",
            "torch.Size([1, 100, 768])\n",
            "torch.Size([1, 100, 768])\n",
            "torch.Size([1, 100, 768])\n",
            "torch.Size([1, 100, 768])\n"
          ]
        },
        {
          "name": "stderr",
          "output_type": "stream",
          "text": [
            "\r69it [07:10,  6.25s/it]"
          ]
        },
        {
          "name": "stdout",
          "output_type": "stream",
          "text": [
            "Gt\n",
            "DOWN IT WAS POURING AN AVALANCHE OF MEN I CAUGHT THE GLINT OF HELMETS AND CORSELETS THOSE IN THE VAN WERE MOUNTED GALLOPING TWO ABREAST UPON SURE FOOTED MOUNTAIN PONIES THEIR SHORT SWORDS LIFTED HIGH FLICKERED\n",
            "I SUPPOSE THE MOST RUDIMENTARY FORM OF HIS SPECULATION WAS THE HENS THAT WAS YEARS AGO HE KEPT THEM OUT AT THE BACK OF HIS HOUSE WHICH ITSELF STOOD UP A GRASS PLOT BEHIND AND BEYOND THE BARBER SHOP AND IN THE OLD DAYS JEFF WOULD SAY WITH A CERTAIN NOTE OF PRIDE IN HIS VOICE\n",
            "WHEAT IS THE ONLY ONE OF THE CEREALS THAT HAS MUCH GLUTEN RYE HAS A LITTLE AND THE OTHERS PRACTICALLY NONE GLUTEN SEEMS TO BE ESSENTIAL TO THE MAKING OF A LIGHT YEAST RAISED LOAF\n",
            "SWEATED A LITTLE AND WAS MUCH REFRESHED THE APPREHENSIONS OF ITS BEING THE INFECTION WENT ALSO QUITE AWAY WITH MY ILLNESS AND I WENT ABOUT MY BUSINESS AS USUAL\n",
            "Pred\n",
            "AND THE MOST IMPORTANT OF ALL THE MOST IMPORTANT OF ALL THE MOST IMPORTANT OF ALL THE MOST IMPORTANT OF ALL THE MOST IMPORTANT OF ALL THE MOST IMPORTANT OF ALL THE MOST IMPORTANT OF ALL THE MOST IMPORTANT OF ALL THE MOST IMPORTANT OF ALL THE MOST IMPORTANT OF ALL THE MOST IMPORTANT OF ALL THE MOST IMPORTANT OF ALL THE MOST\n",
            "THE MOST IMPORTANT THING OF ALL THE MOST IMPORTANT THINGS OF ALL THE MOST IMPORTANT THINGS OF ALL THE MOST IMPORTANT THINGS OF ALL THE MOST IMPORTANT THINGS OF ALL THE MOST IMPORTANT THINGS OF ALL THE MOST IMPORTANT THINGS OF ALL THE MOST IMPORTANT THINGS OF ALL THE MOST IMPORTANT THINGS OF ALL THE MOST IMPORTANT THINGS OF ALL\n",
            "AND THE MOST IMPORTANT THING OF ALL THE MOST IMPORTANT THINGS OF ALL THE MOST IMPORTANT THINGS OF ALL THE MOST IMPORTANT THINGS OF ALL THE MOST IMPORTANT THINGS OF ALL THE MOST IMPORTANT THINGS OF ALL THE MOST IMPORTANT THINGS OF ALL THE MOST IMPORTANT THINGS OF ALL THE MOST IMPORTANT THINGS OF ALL THE MOST IMPORTANT THINGS OF\n",
            "THE MOST IMPORTANT THING OF ALL THE MOST IMPORTANT THINGS OF ALL THE MOST IMPORTANT THINGS OF ALL THE MOST IMPORTANT THINGS OF ALL THE MOST IMPORTANT THINGS OF ALL THE MOST IMPORTANT THINGS OF ALL THE MOST IMPORTANT THINGS OF ALL THE MOST IMPORTANT THINGS OF ALL THE MOST IMPORTANT THINGS OF ALL THE MOST IMPORTANT THINGS OF ALL\n",
            "torch.Size([1, 100, 768])\n",
            "torch.Size([1, 100, 768])\n",
            "torch.Size([1, 100, 768])\n",
            "torch.Size([1, 100, 768])\n"
          ]
        },
        {
          "name": "stderr",
          "output_type": "stream",
          "text": [
            "\r70it [07:16,  6.25s/it]"
          ]
        },
        {
          "name": "stdout",
          "output_type": "stream",
          "text": [
            "Gt\n",
            "A RUIN AND A WRECK UPON THE FIELDS OF THE ATLANTIC WHAT ARE WE THE INHABITANTS OF THIS GLOBE LEAST AMONG THE MANY THAT PEOPLE INFINITE SPACE OUR MINDS EMBRACE INFINITY\n",
            "AND IN THIS APPRECIATION THE POPULACE WHOLEHEARTEDLY CONCURRED WHETHER SUCH A PANEGYRIC FROM SUCH AN AUSPICIOUS QUARTER IS PRAISE INDEED OR THE EQUIVALENT OF COMPLETE CONDEMNATION HISTORY ALONE WILL BE ABLE TO JUDGE\n",
            "UNC BILLY GRINNED AND GOOD NATUREDLY STARTED UP A TREE HE CREPT OUT ON A BRANCH THAT OVERHUNG ANOTHER BRANCH WAY OUT WHERE THE BRANCH WAS SMALL CREPT UNC BILLY\n",
            "HAVE YOU PILES WHY SUFFER LONGER WHEN ROSSMAN'S PILE CURE IS AT HAND\n",
            "Pred\n",
            "AND THE MOST IMPORTANT OF ALL THE MOST IMPORTANT OF ALL THE MOST IMPORTANT OF ALL THE MOST IMPORTANT OF ALL THE MOST IMPORTANT OF ALL THE MOST IMPORTANT OF ALL THE MOST IMPORTANT OF ALL THE MOST IMPORTANT OF ALL THE MOST IMPORTANT OF ALL THE MOST IMPORTANT OF ALL THE MOST IMPORTANT OF ALL THE MOST IMPORTANT OF ALL THE MOST\n",
            "THE MOST IMPORTANT THING OF ALL THE MOST IMPORTANT THINGS OF ALL THE MOST IMPORTANT THINGS OF ALL THE MOST IMPORTANT THINGS OF ALL THE MOST IMPORTANT THINGS OF ALL THE MOST IMPORTANT THINGS OF ALL THE MOST IMPORTANT THINGS OF ALL THE MOST IMPORTANT THINGS OF ALL THE MOST IMPORTANT THINGS OF ALL THE MOST IMPORTANT THINGS OF ALL\n",
            "THE MOST IMPORTANT THING OF ALL THE MOST IMPORTANT THINGS OF ALL THE MOST IMPORTANT THINGS OF ALL THE MOST IMPORTANT THINGS OF ALL THE MOST IMPORTANT THINGS OF ALL THE MOST IMPORTANT THINGS OF ALL THE MOST IMPORTANT THINGS OF ALL THE MOST IMPORTANT THINGS OF ALL THE MOST IMPORTANT THINGS OF ALL THE MOST IMPORTANT THINGS OF ALL\n",
            "AND THE MOST IMPORTANT OF ALL THE MOST IMPORTANT OF ALL THE MOST IMPORTANT OF ALL THE MOST IMPORTANT OF ALL THE MOST IMPORTANT OF ALL THE MOST IMPORTANT OF ALL THE MOST IMPORTANT OF ALL THE MOST IMPORTANT OF ALL THE MOST IMPORTANT OF ALL THE MOST IMPORTANT OF ALL THE MOST IMPORTANT OF ALL THE MOST IMPORTANT OF ALL THE MOST\n",
            "torch.Size([1, 100, 768])\n",
            "torch.Size([1, 100, 768])\n",
            "torch.Size([1, 100, 768])\n",
            "torch.Size([1, 100, 768])\n"
          ]
        },
        {
          "name": "stderr",
          "output_type": "stream",
          "text": [
            "\r71it [07:22,  6.24s/it]"
          ]
        },
        {
          "name": "stdout",
          "output_type": "stream",
          "text": [
            "Gt\n",
            "AND STILL MORE SO THE REPORTER HOWEVER HE KNEW ONE THING THIS WAS THAT HE WOULD HAVE TO PREVENT THE INFLAMMATORY STRANGULATION OF THE INJURED PARTS THEN TO CONTEND WITH THE LOCAL INFLAMMATION AND FEVER WHICH WOULD RESULT FROM THE WOUND PERHAPS MORTAL\n",
            "ON THE STREET HE HAD MET THE FARM HAND FROM THE BENTLEY PLACE AND KNEW OF HIS SON'S RETURN TO TOWN WHEN THE BOY DID NOT COME HOME AN ALARM WAS SET UP AND JOHN HARDY WITH SEVERAL MEN OF THE TOWN WENT TO SEARCH THE COUNTRY\n",
            "YOU ARE LUCKY I WISH I COULD SAY AS MUCH FOR I DO CONCEAL MYSELF AND THEN I WAS AFRAID YOU WOULD NOT RECOGNIZE ME BUT YOU DID\n",
            "AND TOOK UPON HIMSELF THE ONUS OF ENDING IT SO FAR AS ITALY WAS CONCERNED BY CREATING A NEW EMPEROR OF THE WEST\n",
            "Pred\n",
            "AND THE MOST IMPORTANT THING OF ALL THE MOST IMPORTANT THINGS OF ALL THE MOST IMPORTANT THINGS OF ALL THE MOST IMPORTANT THINGS OF ALL THE MOST IMPORTANT THINGS OF ALL THE MOST IMPORTANT THINGS OF ALL THE MOST IMPORTANT THINGS OF ALL THE MOST IMPORTANT THINGS OF ALL THE MOST IMPORTANT THINGS OF ALL THE MOST IMPORTANT THINGS OF\n",
            "AND THE MOST IMPORTANT THING OF ALL THE MOST IMPORTANT THINGS OF ALL THE MOST IMPORTANT THINGS OF ALL THE MOST IMPORTANT THINGS OF ALL THE MOST IMPORTANT THINGS OF ALL THE MOST IMPORTANT THINGS OF ALL THE MOST IMPORTANT THINGS OF ALL THE MOST IMPORTANT THINGS OF ALL THE MOST IMPORTANT THINGS OF ALL THE MOST IMPORTANT THINGS OF\n",
            "THE MOST IMPORTANT THING OF ALL THE MOST IMPORTANT THINGS OF ALL THE MOST IMPORTANT THINGS OF ALL THE MOST IMPORTANT THINGS OF ALL THE MOST IMPORTANT THINGS OF ALL THE MOST IMPORTANT THINGS OF ALL THE MOST IMPORTANT THINGS OF ALL THE MOST IMPORTANT THINGS OF ALL THE MOST IMPORTANT THINGS OF ALL THE MOST IMPORTANT THINGS OF ALL\n",
            "AND THE MOST IMPORTANT OF ALL THE MOST IMPORTANT OF ALL THE MOST IMPORTANT OF ALL THE MOST IMPORTANT OF ALL THE MOST IMPORTANT OF ALL THE MOST IMPORTANT OF ALL THE MOST IMPORTANT OF ALL THE MOST IMPORTANT OF ALL THE MOST IMPORTANT OF ALL THE MOST IMPORTANT OF ALL THE MOST IMPORTANT OF ALL THE MOST IMPORTANT OF ALL THE MOST\n",
            "torch.Size([1, 100, 768])\n",
            "torch.Size([1, 100, 768])\n",
            "torch.Size([1, 100, 768])\n",
            "torch.Size([1, 100, 768])\n"
          ]
        },
        {
          "name": "stderr",
          "output_type": "stream",
          "text": [
            "\r72it [07:28,  6.25s/it]"
          ]
        },
        {
          "name": "stdout",
          "output_type": "stream",
          "text": [
            "Gt\n",
            "SUPPOSIN IT'S MARRIED YOUR MAN IS WALLACE MAY HAVE CHANGED HIS MIND ABOUT ME BUT HE WOULD NOT MARRY WITHOUT TELLING ME IF HE IS ALIVE HE IS HONORABLE THEN I ASKED\n",
            "AND IT WILL BE LABOUR IN VAIN FOR YOU TO URGE ME TO RESIST WHAT HEAVEN WILLS FATE ORDAINS REASON REQUIRES AND ABOVE ALL MY OWN INCLINATION FAVOURS FOR KNOWING AS I DO THE COUNTLESS TOILS THAT ARE THE ACCOMPANIMENTS OF KNIGHT ERRANTRY\n",
            "WHO HAD THE EYE OF A LYNX SANG ALOUD BEWARE FLORINA YOU SEE MADAM SAID FLORINA EVEN THE SPIRITS OF THE AIR TAKE PITY UPON ME I SEE THAT YOU ARE IN LEAGUE WITH DEMONS BUT YOUR FATHER SHALL JUDGE YOU\n",
            "AND FEAR FRICTION IN THEIR OWN CASE HE WOULD PREFER TO RETAIN HIS INCOME PERSUADE HIS READERS TO BUY POISON AND REMAIN FREE PERSONALLY FROM TOUCHING THE STUFF HE RECOMMENDED FOR PAY\n",
            "Pred\n",
            "THE MOST IMPORTANT THING OF ALL THE MOST IMPORTANT THINGS OF ALL THE MOST IMPORTANT THINGS OF ALL THE MOST IMPORTANT THINGS OF ALL THE MOST IMPORTANT THINGS OF ALL THE MOST IMPORTANT THINGS OF ALL THE MOST IMPORTANT THINGS OF ALL THE MOST IMPORTANT THINGS OF ALL THE MOST IMPORTANT THINGS OF ALL THE MOST IMPORTANT THINGS OF ALL\n",
            "AND THE MOST IMPORTANT OF ALL THE MOST IMPORTANT OF ALL THE MOST IMPORTANT OF ALL THE MOST IMPORTANT OF ALL THE MOST IMPORTANT OF ALL THE MOST IMPORTANT OF ALL THE MOST IMPORTANT OF ALL THE MOST IMPORTANT OF ALL THE MOST IMPORTANT OF ALL THE MOST IMPORTANT OF ALL THE MOST IMPORTANT OF ALL THE MOST IMPORTANT OF ALL THE MOST\n",
            "I'M NOT A MAN BUT I'M A MAN AND I'M A MAN AND I'M A MAN AND I'M A MAN AND I'M A MAN AND I'M A MAN AND I'M A MAN AND I'M A MAN AND I'M A MAN AND I'M A MAN AND I'M A MAN AND I'M A MAN AND I'M A MAN AND I'M A MAN AND I'M A MAN AND I'M\n",
            "AND THE MOST IMPORTANT OF ALL THE MOST IMPORTANT OF ALL THE MOST IMPORTANT OF ALL THE MOST IMPORTANT OF ALL THE MOST IMPORTANT OF ALL THE MOST IMPORTANT OF ALL THE MOST IMPORTANT OF ALL THE MOST IMPORTANT OF ALL THE MOST IMPORTANT OF ALL THE MOST IMPORTANT OF ALL THE MOST IMPORTANT OF ALL THE MOST IMPORTANT OF ALL THE MOST\n",
            "torch.Size([1, 100, 768])\n",
            "torch.Size([1, 100, 768])\n",
            "torch.Size([1, 100, 768])\n",
            "torch.Size([1, 100, 768])\n"
          ]
        },
        {
          "name": "stderr",
          "output_type": "stream",
          "text": [
            "\r73it [07:35,  6.25s/it]"
          ]
        },
        {
          "name": "stdout",
          "output_type": "stream",
          "text": [
            "Gt\n",
            "TO THOSE IMPOSED FOR THE GOVERNMENT TEST ON JUNE TWENTIETH NINETEEN O EIGHT AT EIGHT TWENTY SIX A M THE CRAFT ASCENDED AND REMAINED ALOFT FOR TWELVE HOURS DURING WHICH TIME IT MADE AN ENCOURAGING CIRCULAR TOUR FLUSHED WITH THIS SUCCESS\n",
            "IN THE ABSENCE OF MORE ENLIGHTENED COUNSELORS THE EXPERIENCE OF A DISCREET MATRON IS FREQUENTLY OF GREAT EFFICACY IN CHECKING THE PROGRESS OF DISEASE UNDER SUCH CIRCUMSTANCES MADAM IT IS DREADFUL TO HAVE TO CONTEND WITH IGNORANCE AND OBSTINACY\n",
            "THE REPORTER THEREFORE THOUGHT IT BEST TO SIMPLY BATHE THE TWO WOUNDS WITH COLD WATER HERBERT WAS PLACED ON HIS LEFT SIDE AND WAS MAINTAINED IN THAT POSITION HE MUST NOT BE MOVED SAID GIDEON SPILETT\n",
            "SIX INCHES DEEP IN MUD I AM ABSOLUTELY CERTAIN AND THE GOWN WHICH HAD BEEN LET DOWN TO HIDE IT NOT DOING ITS OFFICE YOUR PICTURE MAY BE VERY EXACT LOUISA SAID BINGLEY BUT THIS WAS ALL LOST UPON ME\n",
            "Pred\n",
            "I'M NOT A MAN OF THE WORLD I'M NOT A MAN OF THE WORLD I'M NOT A MAN OF THE WORLD I'M NOT A MAN OF THE WORLD I'M NOT A MAN OF THE WORLD I'M NOT A MAN OF THE WORLD I'M NOT A MAN OF THE WORLD I'M NOT A MAN OF THE WORLD I'M NOT A MAN OF THE WORLD I'M NOT A MAN OF THE WORLD I'M NOT A MAN OF THE WORLD I\n",
            "THE MOST IMPORTANT THING OF ALL THE MOST IMPORTANT THINGS OF ALL THE MOST IMPORTANT THINGS OF ALL THE MOST IMPORTANT THINGS OF ALL THE MOST IMPORTANT THINGS OF ALL THE MOST IMPORTANT THINGS OF ALL THE MOST IMPORTANT THINGS OF ALL THE MOST IMPORTANT THINGS OF ALL THE MOST IMPORTANT THINGS OF ALL THE MOST IMPORTANT THINGS OF ALL\n",
            "AND THE MOST IMPORTANT OF ALL THE MOST IMPORTANT OF ALL THE MOST IMPORTANT OF ALL THE MOST IMPORTANT OF ALL THE MOST IMPORTANT OF ALL THE MOST IMPORTANT OF ALL THE MOST IMPORTANT OF ALL THE MOST IMPORTANT OF ALL THE MOST IMPORTANT OF ALL THE MOST IMPORTANT OF ALL THE MOST IMPORTANT OF ALL THE MOST IMPORTANT OF ALL THE MOST\n",
            "AND THE MOST IMPORTANT THING OF ALL THE MOST IMPORTANT THINGS OF ALL THE MOST IMPORTANT THINGS OF ALL THE MOST IMPORTANT THINGS OF ALL THE MOST IMPORTANT THINGS OF ALL THE MOST IMPORTANT THINGS OF ALL THE MOST IMPORTANT THINGS OF ALL THE MOST IMPORTANT THINGS OF ALL THE MOST IMPORTANT THINGS OF ALL THE MOST IMPORTANT THINGS OF\n",
            "torch.Size([1, 100, 768])\n",
            "torch.Size([1, 100, 768])\n",
            "torch.Size([1, 100, 768])\n",
            "torch.Size([1, 100, 768])\n"
          ]
        },
        {
          "name": "stderr",
          "output_type": "stream",
          "text": [
            "\r74it [07:41,  6.24s/it]"
          ]
        },
        {
          "name": "stdout",
          "output_type": "stream",
          "text": [
            "Gt\n",
            "AND PUT IT ON IN ORDER TO PREPARE MYSELF IF ATTACKED I WAS TREMBLING AT THE TIME AND WAS STUNNED WITH TERROR AT THE SITUATION AS IT HAD DEVELOPED AND SAID TO THE SUPERINTENDENT I WILL GIVE MY NAME UNDER PROTEST AND STARTED TO WALK TOWARDS THE DESK WHEREON LAY THE BOOKS THE SUPERINTENDENT SHOUTED TO ME\n",
            "BY THE RIVERS OF BABYLON THERE WE SATE DOWN\n",
            "WHICH HE KEPT CRACKING AND EATING AS HE TRUDGED ALONG THE ROAD AND JUST THEN HE CAME UPON ONE WITH A WORM HOLE IN IT WHEN HE SAW ILL LUCK IT CAME INTO HIS HEAD TO DO A GOOD TURN TO POOR SORROWFUL MAN GOOD MORNING ILL LUCK SAYS HE\n",
            "WHILE HE WAS MAKING READY WITH HIS MOTHER AND SISTER THE GRAND VIZIER JAAFFIER CAME TO THE SYNDIC'S HOUSE HE HAD COME ON HORSEBACK ATTENDED BY A GREAT NUMBER OF OFFICERS SIR SAID HE TO GANEM AS SOON AS HE ENTERED\n",
            "Pred\n",
            "AND THE MOST IMPORTANT THING OF ALL THE MOST IMPORTANT THINGS OF ALL THE MOST IMPORTANT THINGS OF ALL THE MOST IMPORTANT THINGS OF ALL THE MOST IMPORTANT THINGS OF ALL THE MOST IMPORTANT THINGS OF ALL THE MOST IMPORTANT THINGS OF ALL THE MOST IMPORTANT THINGS OF ALL THE MOST IMPORTANT THINGS OF ALL THE MOST IMPORTANT THINGS OF\n",
            "AND THE MOST IMPORTANT THING OF ALL THE MOST IMPORTANT THINGS OF ALL THE MOST IMPORTANT THINGS OF ALL THE MOST IMPORTANT THINGS OF ALL THE MOST IMPORTANT THINGS OF ALL THE MOST IMPORTANT THINGS OF ALL THE MOST IMPORTANT THINGS OF ALL THE MOST IMPORTANT THINGS OF ALL THE MOST IMPORTANT THINGS OF ALL THE MOST IMPORTANT THINGS OF\n",
            "AND THE MOST IMPORTANT OF ALL THE MOST IMPORTANT OF ALL THE MOST IMPORTANT OF ALL THE MOST IMPORTANT OF ALL THE MOST IMPORTANT OF ALL THE MOST IMPORTANT OF ALL THE MOST IMPORTANT OF ALL THE MOST IMPORTANT OF ALL THE MOST IMPORTANT OF ALL THE MOST IMPORTANT OF ALL THE MOST IMPORTANT OF ALL THE MOST IMPORTANT OF ALL THE MOST\n",
            "AND THE MOST IMPORTANT OF ALL THE MOST IMPORTANT OF ALL THE MOST IMPORTANT OF ALL THE MOST IMPORTANT OF ALL THE MOST IMPORTANT OF ALL THE MOST IMPORTANT OF ALL THE MOST IMPORTANT OF ALL THE MOST IMPORTANT OF ALL THE MOST IMPORTANT OF ALL THE MOST IMPORTANT OF ALL THE MOST IMPORTANT OF ALL THE MOST IMPORTANT OF ALL THE MOST\n",
            "torch.Size([1, 100, 768])\n",
            "torch.Size([1, 100, 768])\n",
            "torch.Size([1, 100, 768])\n",
            "torch.Size([1, 100, 768])\n"
          ]
        },
        {
          "name": "stderr",
          "output_type": "stream",
          "text": [
            "\r75it [07:47,  6.21s/it]"
          ]
        },
        {
          "name": "stdout",
          "output_type": "stream",
          "text": [
            "Gt\n",
            "LOOKING FORWARD TO THE COMING OF THEIR WEDDING DAY WHEN THE BRIDE'S MYSTERIOUS DISAPPEARANCE TOOK PLACE THE SAD NEWS DROVE RATIBOR DISTRACTED AND AS THE DAYS WENT ON AND NOTHING COULD BE HEARD OF THE PRINCESS HE FORSOOK HIS CASTLE\n",
            "AND THEN SAT DOWN UNTIL IT SHOULD STOP ACHING WAIT FOR ME HE CALLED OUT TO HIS BROTHERS AND SISTERS I'M COMING IN A MINUTE THE OTHER LITTLE TURTLES WAITED BUT WHEN HIS TOE WAS COMFORTABLE AGAIN AND HE STARTED TOWARD THEM HE MET A VERY INTERESTING SNAIL\n",
            "WELL REPLIED BARBICANE SMILING AND WHAT HAND WOULD BE POWERFUL ENOUGH TO THROW A BALL TO GIVE SUCH A SHOCK AS THAT THE HAND IS NOT NECESSARY ANSWERED NICHOLL NOT AT ALL CONFOUNDED\n",
            "WHO DOES NOT NEED THE STRONG RELIGIOUS REENFORCEMENT OF THE SUGGESTION BECAUSE HE REENFORCES INSTEAD THE SUGGESTIBILITY OF THE PATIENT BY SLIGHT INFLUENCES ON HIS SENSES\n",
            "Pred\n",
            "THE MOST IMPORTANT THING OF ALL THE MOST IMPORTANT THINGS OF ALL THE MOST IMPORTANT THINGS OF ALL THE MOST IMPORTANT THINGS OF ALL THE MOST IMPORTANT THINGS OF ALL THE MOST IMPORTANT THINGS OF ALL THE MOST IMPORTANT THINGS OF ALL THE MOST IMPORTANT THINGS OF ALL THE MOST IMPORTANT THINGS OF ALL THE MOST IMPORTANT THINGS OF ALL\n",
            "THE MOST IMPORTANT THING OF ALL THE MOST IMPORTANT THINGS OF ALL THE MOST IMPORTANT THINGS OF ALL THE MOST IMPORTANT THINGS OF ALL THE MOST IMPORTANT THINGS OF ALL THE MOST IMPORTANT THINGS OF ALL THE MOST IMPORTANT THINGS OF ALL THE MOST IMPORTANT THINGS OF ALL THE MOST IMPORTANT THINGS OF ALL THE MOST IMPORTANT THINGS OF ALL\n",
            "AND THE MOST IMPORTANT THING OF ALL THE MOST IMPORTANT THINGS OF ALL THE MOST IMPORTANT THINGS OF ALL THE MOST IMPORTANT THINGS OF ALL THE MOST IMPORTANT THINGS OF ALL THE MOST IMPORTANT THINGS OF ALL THE MOST IMPORTANT THINGS OF ALL THE MOST IMPORTANT THINGS OF ALL THE MOST IMPORTANT THINGS OF ALL THE MOST IMPORTANT THINGS OF\n",
            "AND THE MOST IMPORTANT OF ALL THE MOST IMPORTANT OF ALL THE MOST IMPORTANT OF ALL THE MOST IMPORTANT OF ALL THE MOST IMPORTANT OF ALL THE MOST IMPORTANT OF ALL THE MOST IMPORTANT OF ALL THE MOST IMPORTANT OF ALL THE MOST IMPORTANT OF ALL THE MOST IMPORTANT OF ALL THE MOST IMPORTANT OF ALL THE MOST IMPORTANT OF ALL THE MOST\n",
            "torch.Size([1, 100, 768])\n",
            "torch.Size([1, 100, 768])\n",
            "torch.Size([1, 100, 768])\n",
            "torch.Size([1, 100, 768])\n"
          ]
        },
        {
          "name": "stderr",
          "output_type": "stream",
          "text": [
            "\r76it [07:53,  6.23s/it]"
          ]
        },
        {
          "name": "stdout",
          "output_type": "stream",
          "text": [
            "Gt\n",
            "EVERYONE WAS ASTOUNDED NO ONE HAD EXPECTED ANYTHING FROM HIM AND INSTINCTIVELY EVERY EYE TURNED TOWARDS AMABEL TO SEE HOW SHE WAS AFFECTED BY HIS ACTION STRANGELY EVIDENTLY\n",
            "SOMETIMES DISASTROUS AND ON OCCASIONS EVEN DISGRACEFUL WHEN A MAN PERHAPS THROUGH A LONG POLITICAL LIFE HAS BOUND HIMSELF TO A CERTAIN CODE OF OPINIONS HOW CAN HE CHANGE THAT CODE AT A MOMENT\n",
            "NEVERTHELESS SHE DID NOT AGAIN ATTEMPT TO LEAVE THE ROOM SHE HAD MET WITH A WILL STRONGER THAN HER OWN AND SHE REALIZED IT IGNORING ELEANOR'S FINAL REMARK MISS THOMPSON ONCE MORE TURNED HER ATTENTION TO THE MATTER IN HAND\n",
            "SHALMANESER THE THIRD OF ASSYRIA FOUND IT NECESSARY TO INVADE BABYLONIA\n",
            "Pred\n",
            "AND THE MOST IMPORTANT OF ALL THE MOST IMPORTANT OF ALL THE MOST IMPORTANT OF ALL THE MOST IMPORTANT OF ALL THE MOST IMPORTANT OF ALL THE MOST IMPORTANT OF ALL THE MOST IMPORTANT OF ALL THE MOST IMPORTANT OF ALL THE MOST IMPORTANT OF ALL THE MOST IMPORTANT OF ALL THE MOST IMPORTANT OF ALL THE MOST IMPORTANT OF ALL THE MOST\n",
            "AND THE MOST IMPORTANT THING OF ALL THE MOST IMPORTANT THINGS OF ALL THE MOST IMPORTANT THINGS OF ALL THE MOST IMPORTANT THINGS OF ALL THE MOST IMPORTANT THINGS OF ALL THE MOST IMPORTANT THINGS OF ALL THE MOST IMPORTANT THINGS OF ALL THE MOST IMPORTANT THINGS OF ALL THE MOST IMPORTANT THINGS OF ALL THE MOST IMPORTANT THINGS OF\n",
            "AND THE MOST IMPORTANT OF ALL THE MOST IMPORTANT OF ALL THE MOST IMPORTANT OF ALL THE MOST IMPORTANT OF ALL THE MOST IMPORTANT OF ALL THE MOST IMPORTANT OF ALL THE MOST IMPORTANT OF ALL THE MOST IMPORTANT OF ALL THE MOST IMPORTANT OF ALL THE MOST IMPORTANT OF ALL THE MOST IMPORTANT OF ALL THE MOST IMPORTANT OF ALL THE MOST\n",
            "I'M NOT A MAN OF THE WORLDThe first time I saw this book I thought it was a bit too much for me. But it's not like it's all about me or anything. It's about me and my family. It's about me and my family. It's about me and my family. It's about me and my family. It's about me and my family. It's about me and my family.The first time I saw this book I thought it\n",
            "torch.Size([1, 100, 768])\n",
            "torch.Size([1, 100, 768])\n",
            "torch.Size([1, 100, 768])\n",
            "torch.Size([1, 100, 768])\n"
          ]
        },
        {
          "name": "stderr",
          "output_type": "stream",
          "text": [
            "\r77it [07:59,  6.22s/it]"
          ]
        },
        {
          "name": "stdout",
          "output_type": "stream",
          "text": [
            "Gt\n",
            "I THINK THAT ALL HE IS WAITING FOR IS A FAVORABLE CHANCE DECLARED THE DIAMOND SEEKER HE WOULD DESTROY THE CRAFT AND US TOO IF HE COULD PREVENT US FROM DISCOVERING THE SECRET OF PHANTOM MOUNTAIN I BELIEVE\n",
            "HOW SOON CAN WE GET THERE BECAME THE ALL ABSORBING PROBLEM OF EAGER LISTENERS THE ONLY HOTEL KEEPER IN THE TOWN SOLD HIS KETTLES AND PANS CLOSED HIS HOUSE AND DEPARTED\n",
            "I MAY BE ABLE TO HINT AT SOME HOPE SAID WINGFOLD VERY GENTLY DO YOU CALL YOURSELF A CHRISTIAN THE QUESTION WOULD TO MOST PEOPLE HAVE SOUNDED STRANGE ABRUPT INQUISITORIAL BUT TO HELEN IT SOUNDED NOT ONE OF THEM ALL\n",
            "SCRAPPER FLEW BACK AND PERCHED ON A DEAD BRANCH OF ONE OF THE TREES WHERE HE RECEIVED THE CONGRATULATIONS OF ALL HIS FEATHERED NEIGHBORS HE TOOK THEM QUITE MODESTLY ASSURING THEM THAT HE HAD DONE NOTHING\n",
            "Pred\n",
            "AND THE MOST IMPORTANT OF ALL THE MOST IMPORTANT OF ALL THE MOST IMPORTANT OF ALL THE MOST IMPORTANT OF ALL THE MOST IMPORTANT OF ALL THE MOST IMPORTANT OF ALL THE MOST IMPORTANT OF ALL THE MOST IMPORTANT OF ALL THE MOST IMPORTANT OF ALL THE MOST IMPORTANT OF ALL THE MOST IMPORTANT OF ALL THE MOST IMPORTANT OF ALL THE MOST\n",
            "AND THE MOST IMPORTANT OF ALL THE MOST IMPORTANT OF ALL THE MOST IMPORTANT OF ALL THE MOST IMPORTANT OF ALL THE MOST IMPORTANT OF ALL THE MOST IMPORTANT OF ALL THE MOST IMPORTANT OF ALL THE MOST IMPORTANT OF ALL THE MOST IMPORTANT OF ALL THE MOST IMPORTANT OF ALL THE MOST IMPORTANT OF ALL THE MOST IMPORTANT OF ALL THE MOST\n",
            "AND THE MOST IMPORTANT THING OF ALL THE MOST IMPORTANT THINGS OF ALL THE MOST IMPORTANT THINGS OF ALL THE MOST IMPORTANT THINGS OF ALL THE MOST IMPORTANT THINGS OF ALL THE MOST IMPORTANT THINGS OF ALL THE MOST IMPORTANT THINGS OF ALL THE MOST IMPORTANT THINGS OF ALL THE MOST IMPORTANT THINGS OF ALL THE MOST IMPORTANT THINGS OF\n",
            "AND THE MOST IMPORTANT OF ALL THE MOST IMPORTANT OF ALL THE MOST IMPORTANT OF ALL THE MOST IMPORTANT OF ALL THE MOST IMPORTANT OF ALL THE MOST IMPORTANT OF ALL THE MOST IMPORTANT OF ALL THE MOST IMPORTANT OF ALL THE MOST IMPORTANT OF ALL THE MOST IMPORTANT OF ALL THE MOST IMPORTANT OF ALL THE MOST IMPORTANT OF ALL THE MOST\n",
            "torch.Size([1, 100, 768])\n",
            "torch.Size([1, 100, 768])\n",
            "torch.Size([1, 100, 768])\n",
            "torch.Size([1, 100, 768])\n"
          ]
        },
        {
          "name": "stderr",
          "output_type": "stream",
          "text": [
            "\r78it [08:06,  6.23s/it]"
          ]
        },
        {
          "name": "stdout",
          "output_type": "stream",
          "text": [
            "Gt\n",
            "THEY COULD NOT KNOW FOR MISTER LINCOLN DARED NOT TELL THEM THAT HE HAD THE EMANCIPATION PROCLAMATION IN HIS POCKET WAITING FOR A FEDERAL VICTORY BEFORE HE COULD ISSUE IT THE PROCLAMATION\n",
            "SMILING ALL THE WHILE WITH THE SAME AFFABLE EXPRESSION AS SOON AS PORTHOS HAD PLACED HIM ON THE GROUND THE LAD'S LEGS SO SHOOK UNDER HIM THAT HE FELL BACK UPON SOME SACKS OF CORKS BUT NOTICING THE GIANT'S GENTLENESS OF MANNER HE VENTURED AGAIN AND SAID\n",
            "AND HOW I RESENTED THE OFFHAND MANNER IN WHICH THE CAPTAIN HAD EXTENDED HIS DEPLORABLE INVITATION\n",
            "AND TAKE POSSESSION OF THE BELONGINGS OF MY FOREFATHERS YOU MUST GO OUT INTO THE WORLD AND TAKE SERVICE AS A MAIDSERVANT THE YOUNG PRINCESS CONSENTED AT ONCE AND FOR A WHOLE YEAR\n",
            "Pred\n",
            "THE MOST IMPORTANT OF ALL THE MOST IMPORTANT OF ALL THE MOST IMPORTANT OF ALL THE MOST IMPORTANT OF ALL THE MOST IMPORTANT OF ALL THE MOST IMPORTANT OF ALL THE MOST IMPORTANT OF ALL THE MOST IMPORTANT OF ALL THE MOST IMPORTANT OF ALL THE MOST IMPORTANT OF ALL THE MOST IMPORTANT OF ALL THE MOST IMPORTANT OF ALL THE MOST IMP\n",
            "AND THE MOST IMPORTANT THING OF ALL THE MOST IMPORTANT THINGS OF ALL THE MOST IMPORTANT THINGS OF ALL THE MOST IMPORTANT THINGS OF ALL THE MOST IMPORTANT THINGS OF ALL THE MOST IMPORTANT THINGS OF ALL THE MOST IMPORTANT THINGS OF ALL THE MOST IMPORTANT THINGS OF ALL THE MOST IMPORTANT THINGS OF ALL THE MOST IMPORTANT THINGS OF\n",
            "THE MOST IMPORTANT OF ALL THE MOST IMPORTANT OF ALL THE MOST IMPORTANT OF ALL THE MOST IMPORTANT OF ALL THE MOST IMPORTANT OF ALL THE MOST IMPORTANT OF ALL THE MOST IMPORTANT OF ALL THE MOST IMPORTANT OF ALL THE MOST IMPORTANT OF ALL THE MOST IMPORTANT OF ALL THE MOST IMPORTANT OF ALL THE MOST IMPORTANT OF ALL THE MOST IMP\n",
            "THE MOST IMPORTANT THING OF ALL THE MOST IMPORTANT THINGS OF ALL THE MOST IMPORTANT THINGS OF ALL THE MOST IMPORTANT THINGS OF ALL THE MOST IMPORTANT THINGS OF ALL THE MOST IMPORTANT THINGS OF ALL THE MOST IMPORTANT THINGS OF ALL THE MOST IMPORTANT THINGS OF ALL THE MOST IMPORTANT THINGS OF ALL THE MOST IMPORTANT THINGS OF ALL\n",
            "torch.Size([1, 100, 768])\n",
            "torch.Size([1, 100, 768])\n",
            "torch.Size([1, 100, 768])\n",
            "torch.Size([1, 100, 768])\n"
          ]
        },
        {
          "name": "stderr",
          "output_type": "stream",
          "text": [
            "\r79it [08:12,  6.24s/it]"
          ]
        },
        {
          "name": "stdout",
          "output_type": "stream",
          "text": [
            "Gt\n",
            "FOR THE LIBERTY OF AMERICAN WOMEN\n",
            "JASON FOLLOWED MEDEA'S GUIDANCE INTO THE GROVE OF MARS WHERE THE GREAT OAK TREES THAT HAD BEEN GROWING FOR CENTURIES THREW SO THICK A SHADE THAT THE MOONBEAMS STRUGGLED VAINLY TO FIND THEIR WAY THROUGH IT\n",
            "POYSER MIGHT SIT DOWN IF HE LIKED SHE THOUGHT SHE WASN'T GOING TO SIT DOWN AS IF SHE'D GIVE IN TO ANY SUCH SMOOTH TONGUED PALAVER MISTER POYSER WHO LOOKED AND FELT THE REVERSE OF ICY DID SIT DOWN IN HIS THREE CORNERED CHAIR\n",
            "SILAS HOBBS WELL SAID MISTER HOBBS HE'S PERVIDED FOR BETWEEN US IF HE AINT A EARL SO HE IS SAID DICK I'D HA STOOD BY HIM BLEST IF I DIDN'T LIKE THAT LITTLE FELLER FUST RATE\n",
            "Pred\n",
            "AND THE MOST IMPORTANT OF ALL THE MOST IMPORTANT OF ALL THE MOST IMPORTANT OF ALL THE MOST IMPORTANT OF ALL THE MOST IMPORTANT OF ALL THE MOST IMPORTANT OF ALL THE MOST IMPORTANT OF ALL THE MOST IMPORTANT OF ALL THE MOST IMPORTANT OF ALL THE MOST IMPORTANT OF ALL THE MOST IMPORTANT OF ALL THE MOST IMPORTANT OF ALL THE MOST\n",
            "AND THE MOST IMPORTANT OF ALL THE MOST IMPORTANT OF ALL THE MOST IMPORTANT OF ALL THE MOST IMPORTANT OF ALL THE MOST IMPORTANT OF ALL THE MOST IMPORTANT OF ALL THE MOST IMPORTANT OF ALL THE MOST IMPORTANT OF ALL THE MOST IMPORTANT OF ALL THE MOST IMPORTANT OF ALL THE MOST IMPORTANT OF ALL THE MOST IMPORTANT OF ALL THE MOST\n",
            "AND THE MOST IMPORTANT OF ALL THE MOST IMPORTANT OF ALL THE MOST IMPORTANT OF ALL THE MOST IMPORTANT OF ALL THE MOST IMPORTANT OF ALL THE MOST IMPORTANT OF ALL THE MOST IMPORTANT OF ALL THE MOST IMPORTANT OF ALL THE MOST IMPORTANT OF ALL THE MOST IMPORTANT OF ALL THE MOST IMPORTANT OF ALL THE MOST IMPORTANT OF ALL THE MOST\n",
            "I'M NOT A MAN BUT I'M A MAN AND I'M A MAN AND I'M A MAN AND I'M A MAN AND I'M A MAN AND I'M A MAN AND I'M A MAN AND I'M A MAN AND I'M A MAN AND I'M A MAN AND I'M A MAN AND I'M A MAN AND I'M A MAN AND I'M A MAN AND I'M A MAN AND I'M\n",
            "torch.Size([1, 100, 768])\n",
            "torch.Size([1, 100, 768])\n",
            "torch.Size([1, 100, 768])\n",
            "torch.Size([1, 100, 768])\n"
          ]
        },
        {
          "name": "stderr",
          "output_type": "stream",
          "text": [
            "\r80it [08:18,  6.25s/it]"
          ]
        },
        {
          "name": "stdout",
          "output_type": "stream",
          "text": [
            "Gt\n",
            "WE GOING TO HAVE A LITTLE MUSIC SOME OF YOU GENTLEMEN GOING TO PLAY FOR ME THIS EVENING IT WAS THE SOFT AMIABLE NEGRO VOICE LIKE THOSE I REMEMBERED FROM EARLY CHILDHOOD WITH THE NOTE OF DOCILE SUBSERVIENCE IN IT\n",
            "THAT THROUGH THEM HE SAW TROUTINA AND SOUSSIO CONVERSING TOGETHER HE STOOD LIKE A MAN IN A DREAM WHAT AM I BETRAYED HAS THIS ENEMY TO MY PEACE CARRIED AWAY MY DEAR FLORINA\n",
            "SHE WANTS YOU TO GO TO HER AT CHELTENHAM FOR A MONTH OH MISTER MORTON WOULD YOU LIKE TO GO HOW SHOULD I NOT LIKE TO GO LADY USHANT IS MY DEAREST DEAREST FRIEND IT IS SO VERY GOOD OF HER TO THINK OF ME\n",
            "YOU WOULD MAKE ME YOUR BROTHER MISS BEAUMONT YES WE COULD STOP THERE TOGETHER SHE TOOK A MINUTE TO ANSWER I AM GOING TO LIGHT THESE LAMPS SAID HOOPDRIVER HE BENT DOWN TO HIS OWN AND STRUCK A MATCH ON HIS SHOE\n",
            "Pred\n",
            "AND THE MOST IMPORTANT OF ALL THE MOST IMPORTANT OF ALL THE MOST IMPORTANT OF ALL THE MOST IMPORTANT OF ALL THE MOST IMPORTANT OF ALL THE MOST IMPORTANT OF ALL THE MOST IMPORTANT OF ALL THE MOST IMPORTANT OF ALL THE MOST IMPORTANT OF ALL THE MOST IMPORTANT OF ALL THE MOST IMPORTANT OF ALL THE MOST IMPORTANT OF ALL THE MOST\n",
            "AND THE MOST IMPORTANT OF ALL THE MOST IMPORTANT OF ALL THE MOST IMPORTANT OF ALL THE MOST IMPORTANT OF ALL THE MOST IMPORTANT OF ALL THE MOST IMPORTANT OF ALL THE MOST IMPORTANT OF ALL THE MOST IMPORTANT OF ALL THE MOST IMPORTANT OF ALL THE MOST IMPORTANT OF ALL THE MOST IMPORTANT OF ALL THE MOST IMPORTANT OF ALL THE MOST\n",
            "THE MOST IMPORTANT THING OF ALL THE MOST IMPORTANT THINGS OF ALL THE MOST IMPORTANT THINGS OF ALL THE MOST IMPORTANT THINGS OF ALL THE MOST IMPORTANT THINGS OF ALL THE MOST IMPORTANT THINGS OF ALL THE MOST IMPORTANT THINGS OF ALL THE MOST IMPORTANT THINGS OF ALL THE MOST IMPORTANT THINGS OF ALL THE MOST IMPORTANT THINGS OF ALL\n",
            "AND THE MOST IMPORTANT OF ALL THE MOST IMPORTANT OF ALL THE MOST IMPORTANT OF ALL THE MOST IMPORTANT OF ALL THE MOST IMPORTANT OF ALL THE MOST IMPORTANT OF ALL THE MOST IMPORTANT OF ALL THE MOST IMPORTANT OF ALL THE MOST IMPORTANT OF ALL THE MOST IMPORTANT OF ALL THE MOST IMPORTANT OF ALL THE MOST IMPORTANT OF ALL THE MOST\n",
            "torch.Size([1, 100, 768])\n",
            "torch.Size([1, 100, 768])\n",
            "torch.Size([1, 100, 768])\n",
            "torch.Size([1, 100, 768])\n"
          ]
        },
        {
          "name": "stderr",
          "output_type": "stream",
          "text": [
            "\r81it [08:24,  6.26s/it]"
          ]
        },
        {
          "name": "stdout",
          "output_type": "stream",
          "text": [
            "Gt\n",
            "THE PRESIDENT REMINDED HIM TRUE BUT NOT AN ENGLISH WOMAN A CITIZENESS OF FRANCE YES BY BIRTH HER NAME AND FAMILY\n",
            "DIFFERENT WITH HIM LOUISE TURNED AND WENT OUT OF THE ROOM LEAVING THE TWO MEN TO SIT IN EMBARRASSED SILENCE AS VERY OFTEN HAPPENED SHE LATER STAYED IN HER ROOM FOR DAYS\n",
            "IF IF HE SPEAKS TO YOU URGE HIM TO ABANDON THOUGHTS OF LOVE AND REGARD ME AS A FRIEND ONLY YOU ARE AT LEAST SENSIBLE ETHEL I SAID IT IS GRATIFYING TO KNOW THAT YOU RECOGNISE THE IMPOSSIBILITY OF SUCH AN UNION\n",
            "HATED CONFINEMENT AND CLEANLINESS AND LOVED NOTHING SO WELL IN THE WORLD AS ROLLING DOWN THE GREEN SLOPE AT THE BACK OF THE HOUSE SUCH WAS CATHERINE MORLAND AT TEN AT FIFTEEN APPEARANCES WERE MENDING\n",
            "Pred\n",
            "AND THE MOST IMPORTANT THING OF ALL THE MOST IMPORTANT THINGS OF ALL THE MOST IMPORTANT THINGS OF ALL THE MOST IMPORTANT THINGS OF ALL THE MOST IMPORTANT THINGS OF ALL THE MOST IMPORTANT THINGS OF ALL THE MOST IMPORTANT THINGS OF ALL THE MOST IMPORTANT THINGS OF ALL THE MOST IMPORTANT THINGS OF ALL THE MOST IMPORTANT THINGS OF\n",
            "AND THE MOST IMPORTANT OF ALL THE MOST IMPORTANT OF ALL THE MOST IMPORTANT OF ALL THE MOST IMPORTANT OF ALL THE MOST IMPORTANT OF ALL THE MOST IMPORTANT OF ALL THE MOST IMPORTANT OF ALL THE MOST IMPORTANT OF ALL THE MOST IMPORTANT OF ALL THE MOST IMPORTANT OF ALL THE MOST IMPORTANT OF ALL THE MOST IMPORTANT OF ALL THE MOST\n",
            "AND THE MOST IMPORTANT THING OF ALL THE MOST IMPORTANT THINGS OF ALL THE MOST IMPORTANT THINGS OF ALL THE MOST IMPORTANT THINGS OF ALL THE MOST IMPORTANT THINGS OF ALL THE MOST IMPORTANT THINGS OF ALL THE MOST IMPORTANT THINGS OF ALL THE MOST IMPORTANT THINGS OF ALL THE MOST IMPORTANT THINGS OF ALL THE MOST IMPORTANT THINGS OF\n",
            "AND THE MOST IMPORTANT OF ALL THE MOST IMPORTANT OF ALL THE MOST IMPORTANT OF ALL THE MOST IMPORTANT OF ALL THE MOST IMPORTANT OF ALL THE MOST IMPORTANT OF ALL THE MOST IMPORTANT OF ALL THE MOST IMPORTANT OF ALL THE MOST IMPORTANT OF ALL THE MOST IMPORTANT OF ALL THE MOST IMPORTANT OF ALL THE MOST IMPORTANT OF ALL THE MOST\n",
            "torch.Size([1, 100, 768])\n",
            "torch.Size([1, 100, 768])\n",
            "torch.Size([1, 100, 768])\n",
            "torch.Size([1, 100, 768])\n"
          ]
        },
        {
          "name": "stderr",
          "output_type": "stream",
          "text": [
            "\r82it [08:31,  6.26s/it]"
          ]
        },
        {
          "name": "stdout",
          "output_type": "stream",
          "text": [
            "Gt\n",
            "THREE ARTIFICIAL HORIZONS OF WHICH TWO WERE GLASS HORIZONS WITH DARK GLASSES AND ONE A MERCURY HORIZON AND FOUR SPIRIT COMPASSES MADE IN CHRISTIANIA THEY WERE EXCELLENT LITTLE COMPASSES\n",
            "TWENTY NINE\n",
            "MORE LIVE AND LET LIVE IN ALLOWING OTHER SPECIES TO STAY HERE OUR WAY IS TO KILL GOOD AND BAD MALE AND FEMALE AND BABIES TILL THE FEW LAST SURVIVORS LIE HIDDEN AWAY FROM OUR GUNS\n",
            "BEFORE THE CLERKS OR HER FATHER MAMMA WANTED MISTER CARLYLE'S OPINION UPON A LITTLE PRIVATE BUSINESS AND NOT FEELING WELL ENOUGH TO COME HERSELF SHE SENT ME\n",
            "Pred\n",
            "AND THE MOST IMPORTANT OF ALL THE MOST IMPORTANT OF ALL THE MOST IMPORTANT OF ALL THE MOST IMPORTANT OF ALL THE MOST IMPORTANT OF ALL THE MOST IMPORTANT OF ALL THE MOST IMPORTANT OF ALL THE MOST IMPORTANT OF ALL THE MOST IMPORTANT OF ALL THE MOST IMPORTANT OF ALL THE MOST IMPORTANT OF ALL THE MOST IMPORTANT OF ALL THE MOST\n",
            "AND THE MOST IMPORTANT OF ALL THE MOST IMPORTANT OF ALL THE MOST IMPORTANT OF ALL THE MOST IMPORTANT OF ALL THE MOST IMPORTANT OF ALL THE MOST IMPORTANT OF ALL THE MOST IMPORTANT OF ALL THE MOST IMPORTANT OF ALL THE MOST IMPORTANT OF ALL THE MOST IMPORTANT OF ALL THE MOST IMPORTANT OF ALL THE MOST IMPORTANT OF ALL THE MOST\n",
            "AND THE MOST IMPORTANT OF ALL THE MOST IMPORTANT OF ALL THE MOST IMPORTANT OF ALL THE MOST IMPORTANT OF ALL THE MOST IMPORTANT OF ALL THE MOST IMPORTANT OF ALL THE MOST IMPORTANT OF ALL THE MOST IMPORTANT OF ALL THE MOST IMPORTANT OF ALL THE MOST IMPORTANT OF ALL THE MOST IMPORTANT OF ALL THE MOST IMPORTANT OF ALL THE MOST\n",
            "AND THE MOST IMPORTANT OF ALL THE MOST IMPORTANT OF ALL THE MOST IMPORTANT OF ALL THE MOST IMPORTANT OF ALL THE MOST IMPORTANT OF ALL THE MOST IMPORTANT OF ALL THE MOST IMPORTANT OF ALL THE MOST IMPORTANT OF ALL THE MOST IMPORTANT OF ALL THE MOST IMPORTANT OF ALL THE MOST IMPORTANT OF ALL THE MOST IMPORTANT OF ALL THE MOST\n",
            "torch.Size([1, 100, 768])\n",
            "torch.Size([1, 100, 768])\n",
            "torch.Size([1, 100, 768])\n",
            "torch.Size([1, 100, 768])\n"
          ]
        },
        {
          "name": "stderr",
          "output_type": "stream",
          "text": [
            "\r83it [08:37,  6.26s/it]"
          ]
        },
        {
          "name": "stdout",
          "output_type": "stream",
          "text": [
            "Gt\n",
            "THE ORDINARY HISTORY OF OUR COUNTRY HAS BEEN WRITTEN BY MANY AND THE READER HAS A WIDE CHOICE BUT IN THE MATTER OF OUR SOCIAL HISTORY HE HAS NO CHOICE AT ALL FOR THESE THREE BOOKS OF MINE HAVE FOR THE FIRST AND ONLY TIME\n",
            "CHAPTER TWELVE THE STRANGE BARGAIN RONICKY DREW HIS GUN AND WAITED GOOD SAID THE MAN OF THE SNEER GO AHEAD IT WAS DOWN IN THE CELLAR THAT WE FOUND THE FIRST TRACKS\n",
            "SHE HAD A GREAT NUMBER OF THINGS PERTAINING TO HERSELF TO CONSIDER AND WHICH CONCERNED HER A GREAT DEAL MORE THAN MAJOR DOBBIN'S HAPPINESS IN THIS LIFE\n",
            "I RAN SIDEWAYS SHOUTING I DUG GLAD HEELS INTO THE SQUELCHING SOIL I SPLASHED DIAMOND SHOWERS FROM PUDDLES WITH A STICK I HURLED CLODS SKYWARDS AT RANDOM AND PRESENTLY I SOMEHOW FOUND MYSELF SINGING\n",
            "Pred\n",
            "AND THE MOST IMPORTANT OF ALL THE MOST IMPORTANT OF ALL THE MOST IMPORTANT OF ALL THE MOST IMPORTANT OF ALL THE MOST IMPORTANT OF ALL THE MOST IMPORTANT OF ALL THE MOST IMPORTANT OF ALL THE MOST IMPORTANT OF ALL THE MOST IMPORTANT OF ALL THE MOST IMPORTANT OF ALL THE MOST IMPORTANT OF ALL THE MOST IMPORTANT OF ALL THE MOST\n",
            "THE MOST IMPORTANT THING OF ALL THE MOST IMPORTANT THINGS OF ALL THE MOST IMPORTANT THINGS OF ALL THE MOST IMPORTANT THINGS OF ALL THE MOST IMPORTANT THINGS OF ALL THE MOST IMPORTANT THINGS OF ALL THE MOST IMPORTANT THINGS OF ALL THE MOST IMPORTANT THINGS OF ALL THE MOST IMPORTANT THINGS OF ALL THE MOST IMPORTANT THINGS OF ALL\n",
            "AND THE MOST IMPORTANT OF ALL THE MOST IMPORTANT OF ALL THE MOST IMPORTANT OF ALL THE MOST IMPORTANT OF ALL THE MOST IMPORTANT OF ALL THE MOST IMPORTANT OF ALL THE MOST IMPORTANT OF ALL THE MOST IMPORTANT OF ALL THE MOST IMPORTANT OF ALL THE MOST IMPORTANT OF ALL THE MOST IMPORTANT OF ALL THE MOST IMPORTANT OF ALL THE MOST\n",
            "AND THE MOST IMPORTANT THING OF ALL THE MOST IMPORTANT THINGS OF ALL THE MOST IMPORTANT THINGS OF ALL THE MOST IMPORTANT THINGS OF ALL THE MOST IMPORTANT THINGS OF ALL THE MOST IMPORTANT THINGS OF ALL THE MOST IMPORTANT THINGS OF ALL THE MOST IMPORTANT THINGS OF ALL THE MOST IMPORTANT THINGS OF ALL THE MOST IMPORTANT THINGS OF\n",
            "torch.Size([1, 100, 768])\n",
            "torch.Size([1, 100, 768])\n",
            "torch.Size([1, 100, 768])\n",
            "torch.Size([1, 100, 768])\n"
          ]
        },
        {
          "name": "stderr",
          "output_type": "stream",
          "text": [
            "\r84it [08:43,  6.22s/it]"
          ]
        },
        {
          "name": "stdout",
          "output_type": "stream",
          "text": [
            "Gt\n",
            "AS YET AND TILL LONG AFTERWARDS MADE THE MOST INCONSIDERABLE PROGRESS NEITHER IS THERE ANY INSTANCE THAT ARGUMENT HAS EVER BEEN ABLE TO FREE THE PEOPLE FROM THAT ENORMOUS LOAD OF ABSURDITY\n",
            "AND AFTER HAVING REMAINED DURING THE SPACE OF SEVERAL REVOLUTIONS OF THE MOON IN MY HOVEL I DISCOVERED THE NAMES THAT WERE GIVEN TO SOME OF THE MOST FAMILIAR OBJECTS OF DISCOURSE I LEARNED AND APPLIED THE WORDS FIRE MILK BREAD AND WOOD\n",
            "BUT HER MIND WAS VERY FAR FROM THE CORRESPONDENCE BEFORE HER SHE HEARD THE SOFT THUD OF THE FRONT DOOR CLOSING AND RISING SHE CROSSED THE ROOM RAPIDLY AND LOOKED DOWN THROUGH THE WINDOW TO THE STREET SHE WATCHED FISHER UNTIL HE WAS OUT OF SIGHT\n",
            "I AM WEARY SAID THE CHILD WHAT O'CLOCK IS IT I AM COLD WHAT ARE YOU DOING THERE I AM HUNGRY THE HEAD REPLIED\n",
            "Pred\n",
            "AND THE MOST IMPORTANT THING OF ALL THE MOST IMPORTANT THINGS OF ALL THE MOST IMPORTANT THINGS OF ALL THE MOST IMPORTANT THINGS OF ALL THE MOST IMPORTANT THINGS OF ALL THE MOST IMPORTANT THINGS OF ALL THE MOST IMPORTANT THINGS OF ALL THE MOST IMPORTANT THINGS OF ALL THE MOST IMPORTANT THINGS OF ALL THE MOST IMPORTANT THINGS OF\n",
            "THE MOST IMPORTANT THING OF ALL THE MOST IMPORTANT THINGS OF ALL THE MOST IMPORTANT THINGS OF ALL THE MOST IMPORTANT THINGS OF ALL THE MOST IMPORTANT THINGS OF ALL THE MOST IMPORTANT THINGS OF ALL THE MOST IMPORTANT THINGS OF ALL THE MOST IMPORTANT THINGS OF ALL THE MOST IMPORTANT THINGS OF ALL THE MOST IMPORTANT THINGS OF ALL\n",
            "AND THE MOST IMPORTANT OF ALL THE MOST IMPORTANT OF ALL THE MOST IMPORTANT OF ALL THE MOST IMPORTANT OF ALL THE MOST IMPORTANT OF ALL THE MOST IMPORTANT OF ALL THE MOST IMPORTANT OF ALL THE MOST IMPORTANT OF ALL THE MOST IMPORTANT OF ALL THE MOST IMPORTANT OF ALL THE MOST IMPORTANT OF ALL THE MOST IMPORTANT OF ALL THE MOST\n",
            "AND THE MOST IMPORTANT OF ALL THE MOST IMPORTANT OF ALL THE MOST IMPORTANT OF ALL THE MOST IMPORTANT OF ALL THE MOST IMPORTANT OF ALL THE MOST IMPORTANT OF ALL THE MOST IMPORTANT OF ALL THE MOST IMPORTANT OF ALL THE MOST IMPORTANT OF ALL THE MOST IMPORTANT OF ALL THE MOST IMPORTANT OF ALL THE MOST IMPORTANT OF ALL THE MOST\n",
            "torch.Size([1, 100, 768])\n",
            "torch.Size([1, 100, 768])\n",
            "torch.Size([1, 100, 768])\n",
            "torch.Size([1, 100, 768])\n"
          ]
        },
        {
          "name": "stderr",
          "output_type": "stream",
          "text": [
            "\r85it [08:49,  6.22s/it]"
          ]
        },
        {
          "name": "stdout",
          "output_type": "stream",
          "text": [
            "Gt\n",
            "BUT WOULD MAKE THE VERY BEST OF THE CHANCES THAT LIFE OFFERED HER AND CONQUER CIRCUMSTANCES BY HER EXCEPTIONAL CLEVERNESS\n",
            "FOLDED HIS ARMS AND FELL TO THINKING ABOUT HIS FATHER HE THOUGHT OF THAT HEROIC COLONEL PONTMERCY WHO HAD BEEN SO PROUD A SOLDIER WHO HAD GUARDED THE FRONTIER OF FRANCE UNDER THE REPUBLIC\n",
            "HE CAME FORWARD FORGIVE ME IF I HEARD A FEW WORDS OF YOUR CONVERSATION BUT I HAVE JUST COME IN DOCTOR PAYNE I HOPE I SEE YOU WELL QUITE WELL SAID THE DOCTOR WHO DID NOT LIKE BERYL THINKING HIM\n",
            "THE PEOPLE AND ARMY WERE OUT OF HAND THE EPHEMERAL EMPEROR COULD COUNT ON NO LOYALTY AND ANY SHOCK WAS SUFFICIENT TO UPSET HIS PRECARIOUS THRONE WE MUST NOW TURN TO THE BANISHED JUSTINIAN\n",
            "Pred\n",
            "AND THE MOST IMPORTANT OF ALL THE MOST IMPORTANT OF ALL THE MOST IMPORTANT OF ALL THE MOST IMPORTANT OF ALL THE MOST IMPORTANT OF ALL THE MOST IMPORTANT OF ALL THE MOST IMPORTANT OF ALL THE MOST IMPORTANT OF ALL THE MOST IMPORTANT OF ALL THE MOST IMPORTANT OF ALL THE MOST IMPORTANT OF ALL THE MOST IMPORTANT OF ALL THE MOST\n",
            "AND THE MOST IMPORTANT THING OF ALL THE MOST IMPORTANT THINGS OF ALL THE MOST IMPORTANT THINGS OF ALL THE MOST IMPORTANT THINGS OF ALL THE MOST IMPORTANT THINGS OF ALL THE MOST IMPORTANT THINGS OF ALL THE MOST IMPORTANT THINGS OF ALL THE MOST IMPORTANT THINGS OF ALL THE MOST IMPORTANT THINGS OF ALL THE MOST IMPORTANT THINGS OF\n",
            "THE MOST IMPORTANT THING OF ALL THE MOST IMPORTANT THINGS OF ALL THE MOST IMPORTANT THINGS OF ALL THE MOST IMPORTANT THINGS OF ALL THE MOST IMPORTANT THINGS OF ALL THE MOST IMPORTANT THINGS OF ALL THE MOST IMPORTANT THINGS OF ALL THE MOST IMPORTANT THINGS OF ALL THE MOST IMPORTANT THINGS OF ALL THE MOST IMPORTANT THINGS OF ALL\n",
            "I'M NOT A MAN BUT A MAN AND I'M NOT A MAN BUT A MAN AND I'M NOT A MAN BUT A MAN AND I'M NOT A MAN BUT A MAN AND I'M NOT A MAN BUT A MAN AND I'M NOT A MAN BUT A MAN AND I'M NOT A MAN BUT A MAN AND I'M NOT A MAN BUT A MAN AND I'M NOT A MAN BUT A MAN AND I'M NOT A MAN BUT A MAN AND\n",
            "torch.Size([1, 100, 768])\n",
            "torch.Size([1, 100, 768])\n",
            "torch.Size([1, 100, 768])\n",
            "torch.Size([1, 100, 768])\n"
          ]
        },
        {
          "name": "stderr",
          "output_type": "stream",
          "text": [
            "\r86it [08:56,  6.22s/it]"
          ]
        },
        {
          "name": "stdout",
          "output_type": "stream",
          "text": [
            "Gt\n",
            "I NEVER SAW A CHAP SO EXCITED PETER CRIED CRIED ECHOED MISS CARLYLE WELL MA'AM YOU KNOW HE WAS VERY FOND OF LADY ISABEL WAS PETER AND SOMEHOW HIS FEELINGS OVERCAME HIM HE SAID HE HAD NOT HEARD ANYTHING TO PLEASE HIM SO MUCH FOR MANY A DAY\n",
            "LET US QUOTE DOCTOR COCKE'S EXPERIMENT IN HYPNOTIZING HIMSELF IT WILL BE REMEMBERED THAT A PROFESSIONAL HYPNOTIZER OR MAGNETIZER HAD HYPNOTIZED HIM BY TELLING HIM TO FIX HIS MIND ON THE NUMBER TWENTY SIX AND HOLDING UP HIS HAND\n",
            "BUT LIKE THE PAINTERS WHO FINDING THEMSELVES UNABLE TO REPRESENT EQUALLY WELL ON A PLAIN SURFACE ALL THE DIFFERENT FACES OF A SOLID BODY SELECT ONE OF THE CHIEF ON WHICH ALONE THEY MAKE THE LIGHT FALL AND THROWING THE REST INTO THE SHADE\n",
            "I HEARD MY OWN VOICE REJOINED MONTONI STERNLY AND NOTHING ELSE\n",
            "Pred\n",
            "AND THE MOST IMPORTANT OF ALL THE MOST IMPORTANT OF ALL THE MOST IMPORTANT OF ALL THE MOST IMPORTANT OF ALL THE MOST IMPORTANT OF ALL THE MOST IMPORTANT OF ALL THE MOST IMPORTANT OF ALL THE MOST IMPORTANT OF ALL THE MOST IMPORTANT OF ALL THE MOST IMPORTANT OF ALL THE MOST IMPORTANT OF ALL THE MOST IMPORTANT OF ALL THE MOST\n",
            "THE MOST IMPORTANT THING OF ALL THE MOST IMPORTANT THINGS OF ALL THE MOST IMPORTANT THINGS OF ALL THE MOST IMPORTANT THINGS OF ALL THE MOST IMPORTANT THINGS OF ALL THE MOST IMPORTANT THINGS OF ALL THE MOST IMPORTANT THINGS OF ALL THE MOST IMPORTANT THINGS OF ALL THE MOST IMPORTANT THINGS OF ALL THE MOST IMPORTANT THINGS OF ALL\n",
            "AND THE MOST IMPORTANT OF ALL THE MOST IMPORTANT OF ALL THE MOST IMPORTANT OF ALL THE MOST IMPORTANT OF ALL THE MOST IMPORTANT OF ALL THE MOST IMPORTANT OF ALL THE MOST IMPORTANT OF ALL THE MOST IMPORTANT OF ALL THE MOST IMPORTANT OF ALL THE MOST IMPORTANT OF ALL THE MOST IMPORTANT OF ALL THE MOST IMPORTANT OF ALL THE MOST\n",
            "AND THE MOST IMPORTANT THING OF ALL THE MOST IMPORTANT THINGS OF ALL THE MOST IMPORTANT THINGS OF ALL THE MOST IMPORTANT THINGS OF ALL THE MOST IMPORTANT THINGS OF ALL THE MOST IMPORTANT THINGS OF ALL THE MOST IMPORTANT THINGS OF ALL THE MOST IMPORTANT THINGS OF ALL THE MOST IMPORTANT THINGS OF ALL THE MOST IMPORTANT THINGS OF\n",
            "torch.Size([1, 100, 768])\n",
            "torch.Size([1, 100, 768])\n",
            "torch.Size([1, 100, 768])\n",
            "torch.Size([1, 100, 768])\n"
          ]
        },
        {
          "name": "stderr",
          "output_type": "stream",
          "text": [
            "\r87it [09:02,  6.21s/it]"
          ]
        },
        {
          "name": "stdout",
          "output_type": "stream",
          "text": [
            "Gt\n",
            "THIS THEORY RECEIVED SOMETHING OF A CHECK WHEN OUR FLOCK COUNTED ONLY TWENTY NINE THE NEXT MORNING THERE WERE MORE FOX TRACKS AND A GREAT MANY MORE FEATHERS UNDER THE TREE THIS PUT A NEW AND ALTOGETHER UGLY ASPECT ON THE MATTER\n",
            "HE UTTERED A MOAN SO FEEBLE THAT THEY ALMOST THOUGHT IT WAS HIS LAST SIGH HERBERTS BACK WAS COVERED WITH BLOOD FROM ANOTHER CONTUSED WOUND BY WHICH THE BALL HAD IMMEDIATELY ESCAPED GOD BE PRAISED SAID THE REPORTER THE BALL IS NOT IN THE BODY AND WE SHALL NOT HAVE TO EXTRACT IT\n",
            "FINALLY MY TWO ELDEST SISTERS WERE GIVEN EMPLOYMENT BY DIFFERENT FAMILIES IN EXCHANGE FOR FOOD WHICH THEY SHARED WITH US BUT IT WAS OFTEN INSUFFICIENT AND WE LITTLE ONES DRIFTED ALONG FORLORNLY SOMETIMES HOME\n",
            "THE WORK KEPT ME GOING BESIDES WORKING MEANT LEAVING THE NAUTILUS WHICH MEANT BREATHING THE CLEAN OXYGEN DRAWN FROM THE AIR TANKS AND SUPPLIED BY OUR EQUIPMENT WHICH MEANT LEAVING THE THIN FOUL AIR BEHIND\n",
            "Pred\n",
            "AND THE MOST IMPORTANT OF ALL THE MOST IMPORTANT OF ALL THE MOST IMPORTANT OF ALL THE MOST IMPORTANT OF ALL THE MOST IMPORTANT OF ALL THE MOST IMPORTANT OF ALL THE MOST IMPORTANT OF ALL THE MOST IMPORTANT OF ALL THE MOST IMPORTANT OF ALL THE MOST IMPORTANT OF ALL THE MOST IMPORTANT OF ALL THE MOST IMPORTANT OF ALL THE MOST\n",
            "THE MOST IMPORTANT THING OF ALL THE MOST IMPORTANT THINGS OF ALL THE MOST IMPORTANT THINGS OF ALL THE MOST IMPORTANT THINGS OF ALL THE MOST IMPORTANT THINGS OF ALL THE MOST IMPORTANT THINGS OF ALL THE MOST IMPORTANT THINGS OF ALL THE MOST IMPORTANT THINGS OF ALL THE MOST IMPORTANT THINGS OF ALL THE MOST IMPORTANT THINGS OF ALL\n",
            "THE MOST IMPORTANT THING OF ALL THE MOST IMPORTANT THINGS OF ALL THE MOST IMPORTANT THINGS OF ALL THE MOST IMPORTANT THINGS OF ALL THE MOST IMPORTANT THINGS OF ALL THE MOST IMPORTANT THINGS OF ALL THE MOST IMPORTANT THINGS OF ALL THE MOST IMPORTANT THINGS OF ALL THE MOST IMPORTANT THINGS OF ALL THE MOST IMPORTANT THINGS OF ALL\n",
            "I'M NOT A MAN OF THE WORLD BUT I'M A MAN OF THE WORLD AND I'M A MAN OF THE WORLD AND I'M A MAN OF THE WORLD AND I'M A MAN OF THE WORLD AND I'M A MAN OF THE WORLD AND I'M A MAN OF THE WORLD AND I'M A MAN OF THE WORLD AND I'M A MAN OF THE WORLD AND I'M A MAN OF THE WORLD AND I'M A MAN OF THE WORLD AND\n",
            "torch.Size([1, 100, 768])\n",
            "torch.Size([1, 100, 768])\n",
            "torch.Size([1, 100, 768])\n",
            "torch.Size([1, 100, 768])\n"
          ]
        },
        {
          "name": "stderr",
          "output_type": "stream",
          "text": [
            "\r88it [09:08,  6.21s/it]"
          ]
        },
        {
          "name": "stdout",
          "output_type": "stream",
          "text": [
            "Gt\n",
            "BUT MY HUSBAND PREFERS THIS STYLE OF BUILDING THAT'S ONLY BECAUSE HE ISN'T PROPERLY INSTRUCTED PRAY DID YOU EVER ATTEND DOCTOR KITE'S LECTURES ON THE NERVOUS SYSTEM NO I HAVE NO TIME TO ATTEND LECTURES WHO WOULD SIT ON THE EGGS\n",
            "THE NOTE WAS IMMEDIATELY DISPATCHED AND ITS CONTENTS AS QUICKLY COMPLIED WITH MISSUS BENNET ACCOMPANIED BY HER TWO YOUNGEST GIRLS REACHED NETHERFIELD SOON AFTER THE FAMILY BREAKFAST HAD SHE FOUND JANE IN ANY APPARENT DANGER\n",
            "AN IMMENSE ORGANIZATION OF MATURE COMMONSENSE HEALTHY AND SECURE GATHERING KNOWLEDGE AND POWER FOR CREATIVE ADVENTURES AS YET BEYOND DREAMING\n",
            "A TALL SALLOW DARK HAIRED SHINING EYED YOUTH WHITE CLAD FROM TOP TO TOE CLAMBERED UP TOWARDS THE PLATFORM SHOUTING LOYALLY AND SPRANG DOWN AGAIN AND RECEDED LOOKING BACKWARD HEADS SHOULDERS\n",
            "Pred\n",
            "AND THE MOST IMPORTANT THING OF ALL THE MOST IMPORTANT THINGS OF ALL THE MOST IMPORTANT THINGS OF ALL THE MOST IMPORTANT THINGS OF ALL THE MOST IMPORTANT THINGS OF ALL THE MOST IMPORTANT THINGS OF ALL THE MOST IMPORTANT THINGS OF ALL THE MOST IMPORTANT THINGS OF ALL THE MOST IMPORTANT THINGS OF ALL THE MOST IMPORTANT THINGS OF\n",
            "AND THE MOST IMPORTANT OF ALL THE MOST IMPORTANT OF ALL THE MOST IMPORTANT OF ALL THE MOST IMPORTANT OF ALL THE MOST IMPORTANT OF ALL THE MOST IMPORTANT OF ALL THE MOST IMPORTANT OF ALL THE MOST IMPORTANT OF ALL THE MOST IMPORTANT OF ALL THE MOST IMPORTANT OF ALL THE MOST IMPORTANT OF ALL THE MOST IMPORTANT OF ALL THE MOST\n",
            "AND THE MOST IMPORTANT OF ALL THE MOST IMPORTANT OF ALL THE MOST IMPORTANT OF ALL THE MOST IMPORTANT OF ALL THE MOST IMPORTANT OF ALL THE MOST IMPORTANT OF ALL THE MOST IMPORTANT OF ALL THE MOST IMPORTANT OF ALL THE MOST IMPORTANT OF ALL THE MOST IMPORTANT OF ALL THE MOST IMPORTANT OF ALL THE MOST IMPORTANT OF ALL THE MOST\n",
            "AND THE MOST IMPORTANT THING OF ALL THE MOST IMPORTANT THINGS OF ALL THE MOST IMPORTANT THINGS OF ALL THE MOST IMPORTANT THINGS OF ALL THE MOST IMPORTANT THINGS OF ALL THE MOST IMPORTANT THINGS OF ALL THE MOST IMPORTANT THINGS OF ALL THE MOST IMPORTANT THINGS OF ALL THE MOST IMPORTANT THINGS OF ALL THE MOST IMPORTANT THINGS OF\n",
            "torch.Size([1, 100, 768])\n",
            "torch.Size([1, 100, 768])\n",
            "torch.Size([1, 100, 768])\n",
            "torch.Size([1, 100, 768])\n"
          ]
        },
        {
          "name": "stderr",
          "output_type": "stream",
          "text": [
            "\r89it [09:14,  6.20s/it]"
          ]
        },
        {
          "name": "stdout",
          "output_type": "stream",
          "text": [
            "Gt\n",
            "UPON THIS CONVICTION SHE WOULD NOT BE SURPRISED IF EVEN IN HENRY AND ELEANOR TILNEY SOME SLIGHT IMPERFECTION MIGHT HEREAFTER APPEAR\n",
            "SAW THE POPPIES DRIFT JUST BEYOND HER FINGER TIPS SAW HER LEAN A LITTLE FARTHER THEN SLIP HEAD FIRST INTO THE DEEP WATER SUCH SHRIEKS AS TERRIFIED CHILDREN GIVE BROUGHT THE INDIAN GIRL QUICKLY TO OUR AID LIKE A FLASH\n",
            "WHENCE IT HAPPENS THAT IF THE BLOOD BE WITHDRAWN FROM ANY PART THE HEAT IS LIKEWISE WITHDRAWN BY THE SAME MEANS AND ALTHOUGH THE HEART WERE AS HOT AS GLOWING IRON IT WOULD NOT BE CAPABLE OF WARMING THE FEET AND HANDS\n",
            "WITH ANYBODY WHO DELIGHTED ME SO MUCH SUCH A COUNTENANCE SUCH MANNERS AND SO EXTREMELY ACCOMPLISHED FOR HER AGE HER PERFORMANCE ON THE PIANOFORTE IS EXQUISITE IT IS AMAZING TO ME SAID BINGLEY\n",
            "Pred\n",
            "AND THE MOST IMPORTANT OF ALL THE MOST IMPORTANT OF ALL THE MOST IMPORTANT OF ALL THE MOST IMPORTANT OF ALL THE MOST IMPORTANT OF ALL THE MOST IMPORTANT OF ALL THE MOST IMPORTANT OF ALL THE MOST IMPORTANT OF ALL THE MOST IMPORTANT OF ALL THE MOST IMPORTANT OF ALL THE MOST IMPORTANT OF ALL THE MOST IMPORTANT OF ALL THE MOST\n",
            "AND THE MOST IMPORTANT OF ALL THE MOST IMPORTANT OF ALL THE MOST IMPORTANT OF ALL THE MOST IMPORTANT OF ALL THE MOST IMPORTANT OF ALL THE MOST IMPORTANT OF ALL THE MOST IMPORTANT OF ALL THE MOST IMPORTANT OF ALL THE MOST IMPORTANT OF ALL THE MOST IMPORTANT OF ALL THE MOST IMPORTANT OF ALL THE MOST IMPORTANT OF ALL THE MOST\n",
            "AND THE MOST IMPORTANT OF ALL THE MOST IMPORTANT OF ALL THE MOST IMPORTANT OF ALL THE MOST IMPORTANT OF ALL THE MOST IMPORTANT OF ALL THE MOST IMPORTANT OF ALL THE MOST IMPORTANT OF ALL THE MOST IMPORTANT OF ALL THE MOST IMPORTANT OF ALL THE MOST IMPORTANT OF ALL THE MOST IMPORTANT OF ALL THE MOST IMPORTANT OF ALL THE MOST\n",
            "THE MOST IMPORTANT THING OF ALL THE MOST IMPORTANT THINGS OF ALL THE MOST IMPORTANT THINGS OF ALL THE MOST IMPORTANT THINGS OF ALL THE MOST IMPORTANT THINGS OF ALL THE MOST IMPORTANT THINGS OF ALL THE MOST IMPORTANT THINGS OF ALL THE MOST IMPORTANT THINGS OF ALL THE MOST IMPORTANT THINGS OF ALL THE MOST IMPORTANT THINGS OF ALL\n",
            "torch.Size([1, 100, 768])\n",
            "torch.Size([1, 100, 768])\n",
            "torch.Size([1, 100, 768])\n",
            "torch.Size([1, 100, 768])\n"
          ]
        },
        {
          "name": "stderr",
          "output_type": "stream",
          "text": [
            "\r90it [09:20,  6.20s/it]"
          ]
        },
        {
          "name": "stdout",
          "output_type": "stream",
          "text": [
            "Gt\n",
            "DO YOU THINK I SHOULD RUN THAT RISK HOWEVER THE OLD MAN BETWEEN YOU AND ME WILL NEVER COME HERE AGAIN FALK PONDERED\n",
            "GIRLS OF MY THEN AGE WILL EASILY CONCEIVE HOW MISERABLE UNDER SIMILAR CIRCUMSTANCES SUCH A MISGIVING WOULD MAKE THEM IT WAS A LONG WAY TO MADAME'S ROOM I MET MISSUS RUSK BUSTLING ALONG THE PASSAGE WITH A HOUSEMAID\n",
            "THIS MARKED THE BEGINNING OF THE ADOPTION BY THE ADMINISTRATION OF TACTICS FROM WHICH THEY COULD NEVER EXTRICATE THEMSELVES WITH HONOR UNFORTUNATELY FOR THEM THEY WERE ENTERING UPON THIS POLICY TOWARD WOMEN WHICH SAVORED OF CZARIST PRACTICES\n",
            "SO MUCH ENAMOURED I BECAME THEREWITH THAT UNTIL THEN THERE WAS NOT ANYTHING THAT E'ER HAD FETTERED ME WITH SUCH SWEET BONDS PERHAPS MY WORD APPEARS SOMEWHAT TOO BOLD POSTPONING THE DELIGHT OF THOSE FAIR EYES INTO WHICH GAZING MY DESIRE HAS REST\n",
            "Pred\n",
            "AND THE MOST IMPORTANT OF ALL THE MOST IMPORTANT OF ALL THE MOST IMPORTANT OF ALL THE MOST IMPORTANT OF ALL THE MOST IMPORTANT OF ALL THE MOST IMPORTANT OF ALL THE MOST IMPORTANT OF ALL THE MOST IMPORTANT OF ALL THE MOST IMPORTANT OF ALL THE MOST IMPORTANT OF ALL THE MOST IMPORTANT OF ALL THE MOST IMPORTANT OF ALL THE MOST\n",
            "I'M NOT A MAN BUT I'M A MAN AND I'M A MAN AND I'M A MAN AND I'M A MAN AND I'M A MAN AND I'M A MAN AND I'M A MAN AND I'M A MAN AND I'M A MAN AND I'M A MAN AND I'M A MAN AND I'M A MAN AND I'M A MAN AND I'M A MAN AND I'M A MAN AND I'M\n",
            "AND THE MOST IMPORTANT OF ALL THE MOST IMPORTANT OF ALL THE MOST IMPORTANT OF ALL THE MOST IMPORTANT OF ALL THE MOST IMPORTANT OF ALL THE MOST IMPORTANT OF ALL THE MOST IMPORTANT OF ALL THE MOST IMPORTANT OF ALL THE MOST IMPORTANT OF ALL THE MOST IMPORTANT OF ALL THE MOST IMPORTANT OF ALL THE MOST IMPORTANT OF ALL THE MOST\n",
            "I'M NOT A MAN OF THE WORLD BUT I'M A MAN OF THE WORLD AND I'M A MAN OF THE WORLD AND I'M A MAN OF THE WORLD AND I'M A MAN OF THE WORLD AND I'M A MAN OF THE WORLD AND I'M A MAN OF THE WORLD AND I'M A MAN OF THE WORLD AND I'M A MAN OF THE WORLD AND I'M A MAN OF THE WORLD AND I'M A MAN OF THE WORLD AND\n",
            "torch.Size([1, 100, 768])\n",
            "torch.Size([1, 100, 768])\n",
            "torch.Size([1, 100, 768])\n",
            "torch.Size([1, 100, 768])\n"
          ]
        },
        {
          "name": "stderr",
          "output_type": "stream",
          "text": [
            "\r91it [09:27,  6.22s/it]"
          ]
        },
        {
          "name": "stdout",
          "output_type": "stream",
          "text": [
            "Gt\n",
            "HER MOTHER WAS A WOMAN OF USEFUL PLAIN SENSE WITH A GOOD TEMPER AND WHAT IS MORE REMARKABLE WITH A GOOD CONSTITUTION SHE HAD THREE SONS BEFORE CATHERINE WAS BORN\n",
            "A RIFLE SHOT RANG OUT ABOVE US ANOTHER AND ANOTHER FROM THE PORTAL SCAMPERED CHIU MING HIS ROBE TUCKED UP ABOUT HIS KNEES THEY COME HE GASPED THEY COME\n",
            "BUT IT IS HARD TO TURN BACK ON THE DOWNHILL ROAD HE TELLS US HOW HE WENT ONE NIGHT WITH A BAND OF THESE WILD COMPANIONS TO ROB THE FRUIT TREE OF A POOR NEIGHBOUR IT WAS LADEN WITH PEARS\n",
            "THE TOPS OF THE HIGH WINDOWS WERE CONVERTED INTO SMALL ROOMS AND GLASS ATTICS FORMING PRETTY HABITABLE LANTERNS THE THICKNESS OF THE WALLS WAS SUCH THAT THERE WERE ROOMS WITHIN THEM HERE AND THERE WERE CLOSETS\n",
            "Pred\n",
            "AND THE MOST IMPORTANT THING OF ALL THE MOST IMPORTANT THINGS OF ALL THE MOST IMPORTANT THINGS OF ALL THE MOST IMPORTANT THINGS OF ALL THE MOST IMPORTANT THINGS OF ALL THE MOST IMPORTANT THINGS OF ALL THE MOST IMPORTANT THINGS OF ALL THE MOST IMPORTANT THINGS OF ALL THE MOST IMPORTANT THINGS OF ALL THE MOST IMPORTANT THINGS OF\n",
            "AND THE MOST IMPORTANT OF ALL THE MOST IMPORTANT OF ALL THE MOST IMPORTANT OF ALL THE MOST IMPORTANT OF ALL THE MOST IMPORTANT OF ALL THE MOST IMPORTANT OF ALL THE MOST IMPORTANT OF ALL THE MOST IMPORTANT OF ALL THE MOST IMPORTANT OF ALL THE MOST IMPORTANT OF ALL THE MOST IMPORTANT OF ALL THE MOST IMPORTANT OF ALL THE MOST\n",
            "AND THE MOST IMPORTANT THING OF ALL THE MOST IMPORTANT THINGS OF ALL THE MOST IMPORTANT THINGS OF ALL THE MOST IMPORTANT THINGS OF ALL THE MOST IMPORTANT THINGS OF ALL THE MOST IMPORTANT THINGS OF ALL THE MOST IMPORTANT THINGS OF ALL THE MOST IMPORTANT THINGS OF ALL THE MOST IMPORTANT THINGS OF ALL THE MOST IMPORTANT THINGS OF\n",
            "THE MOST IMPORTANT THING OF ALL THE MOST IMPORTANT THINGS OF ALL THE MOST IMPORTANT THINGS OF ALL THE MOST IMPORTANT THINGS OF ALL THE MOST IMPORTANT THINGS OF ALL THE MOST IMPORTANT THINGS OF ALL THE MOST IMPORTANT THINGS OF ALL THE MOST IMPORTANT THINGS OF ALL THE MOST IMPORTANT THINGS OF ALL THE MOST IMPORTANT THINGS OF ALL\n",
            "torch.Size([1, 100, 768])\n",
            "torch.Size([1, 100, 768])\n",
            "torch.Size([1, 100, 768])\n",
            "torch.Size([1, 100, 768])\n"
          ]
        },
        {
          "name": "stderr",
          "output_type": "stream",
          "text": [
            "\r92it [09:33,  6.22s/it]"
          ]
        },
        {
          "name": "stdout",
          "output_type": "stream",
          "text": [
            "Gt\n",
            "THE NEXT AFTERNOON HE ARRANGED A DRIVE I THOUGHT WE WERE GOING TO WITHAN BUT WE TURNED AWAY FROM THE VILLAGE AND PRESENTLY QUARLES STOPPED THE CARRIAGE\n",
            "SHE WAS ABOUT TEN YEARS OLD AND TAKEN FROM THE DOOR AT FIRST BY A PRAYING INDIANA AND AFTERWARD SOLD FOR A GUN\n",
            "IT IS NOT ONLY YOU SOME FATAL INFLUENCE SEEMS TO HAVE SHUT UP HER HEART AGAINST HER FELLOW CREATURES SHE HAS SCARCELY SAID ANYTHING MORE THAN NO EITHER TO ME OR THE CHAPLAIN THREE OR FOUR DAYS AGO BEFORE YOU WERE MENTIONED TO HER\n",
            "WHAT ANSWER GOD WILL GIVE TO YOUR COMPLAINTS HOUSEKEEPER I KNOW NOT NOR WHAT HIS MAJESTY WILL ANSWER EITHER I ONLY KNOW THAT IF I WERE KING I SHOULD DECLINE TO ANSWER THE NUMBERLESS SILLY PETITIONS THEY PRESENT EVERY DAY\n",
            "Pred\n",
            "THE MOST IMPORTANT OF ALL THE MOST IMPORTANT OF ALL THE MOST IMPORTANT OF ALL THE MOST IMPORTANT OF ALL THE MOST IMPORTANT OF ALL THE MOST IMPORTANT OF ALL THE MOST IMPORTANT OF ALL THE MOST IMPORTANT OF ALL THE MOST IMPORTANT OF ALL THE MOST IMPORTANT OF ALL THE MOST IMPORTANT OF ALL THE MOST IMPORTANT OF ALL THE MOST IMP\n",
            "AND THE MOST IMPORTANT OF ALL THE MOST IMPORTANT OF ALL THE MOST IMPORTANT OF ALL THE MOST IMPORTANT OF ALL THE MOST IMPORTANT OF ALL THE MOST IMPORTANT OF ALL THE MOST IMPORTANT OF ALL THE MOST IMPORTANT OF ALL THE MOST IMPORTANT OF ALL THE MOST IMPORTANT OF ALL THE MOST IMPORTANT OF ALL THE MOST IMPORTANT OF ALL THE MOST\n",
            "THE MOST IMPORTANT THING OF ALL THE MOST IMPORTANT THINGS OF ALL THE MOST IMPORTANT THINGS OF ALL THE MOST IMPORTANT THINGS OF ALL THE MOST IMPORTANT THINGS OF ALL THE MOST IMPORTANT THINGS OF ALL THE MOST IMPORTANT THINGS OF ALL THE MOST IMPORTANT THINGS OF ALL THE MOST IMPORTANT THINGS OF ALL THE MOST IMPORTANT THINGS OF ALL\n",
            "AND THE MOST IMPORTANT OF ALL THE MOST IMPORTANT OF ALL THE MOST IMPORTANT OF ALL THE MOST IMPORTANT OF ALL THE MOST IMPORTANT OF ALL THE MOST IMPORTANT OF ALL THE MOST IMPORTANT OF ALL THE MOST IMPORTANT OF ALL THE MOST IMPORTANT OF ALL THE MOST IMPORTANT OF ALL THE MOST IMPORTANT OF ALL THE MOST IMPORTANT OF ALL THE MOST\n",
            "torch.Size([1, 100, 768])\n",
            "torch.Size([1, 100, 768])\n",
            "torch.Size([1, 100, 768])\n",
            "torch.Size([1, 100, 768])\n"
          ]
        },
        {
          "name": "stderr",
          "output_type": "stream",
          "text": [
            "\r93it [09:39,  6.23s/it]"
          ]
        },
        {
          "name": "stdout",
          "output_type": "stream",
          "text": [
            "Gt\n",
            "THERE DIED BUT THREE OF WHICH NOT ONE WITHIN THE WHOLE CITY OR LIBERTIES AND SAINT ANDREW'S BURIED BUT FIFTEEN WHICH WAS VERY LOW\n",
            "AS I WAS THAT I OUGHT INDEED TO SUBMIT TO IT AS A WORK OF HEAVEN IF I HAD BEEN ANY WAY DISABLED BY DISTEMPERS OR DISEASES AND THAT THEN NOT BEING ABLE TO GO\n",
            "FOR IT WOULD BE IMPOSSIBLE NOW TO FIND ONE OF THEIR DESCENDANTS AND EVEN SHOULD WE FIND ONE IT WOULD BE IN SOME LOWLY AND HUMBLE CONDITION OF PLEBEIAN LINEAGES I HAVE NOTHING TO SAY SAVE THAT THEY MERELY SERVE TO SWELL THE NUMBER OF THOSE THAT LIVE\n",
            "I HAVE REPORTED YOUR EXPLOIT TO THE COMMANDER I DON'T KNOW WHAT WILL COME OF IT I HAVE RECOMMENDED YOU FOR A CROSS YOU'RE TOO YOUNG TO BE MADE A SERGEANT CAN YOU READ I CAN'T BUT WHAT A FINE FELLOW TO LOOK AT SAID THE CAPTAIN\n",
            "Pred\n",
            "AND THE MOST IMPORTANT OF ALL THE MOST IMPORTANT OF ALL THE MOST IMPORTANT OF ALL THE MOST IMPORTANT OF ALL THE MOST IMPORTANT OF ALL THE MOST IMPORTANT OF ALL THE MOST IMPORTANT OF ALL THE MOST IMPORTANT OF ALL THE MOST IMPORTANT OF ALL THE MOST IMPORTANT OF ALL THE MOST IMPORTANT OF ALL THE MOST IMPORTANT OF ALL THE MOST\n",
            "THAT WAS THE ONLY WAY TO MAKE THE SAME THING AS THE SAME THING AS THE SAME THING AS THE SAME THING AS THE SAME THING AS THE SAME THING AS THE SAME THING AS THE SAME THING AS THE SAME THING AS THE SAME THING AS THE SAME THING AS THE SAME THING AS THE SAME THING AS THE SAME THING AS THE SAME THING AS THE S\n",
            "THE MOST IMPORTANT THING OF ALL THE MOST IMPORTANT THINGS OF ALL THE MOST IMPORTANT THINGS OF ALL THE MOST IMPORTANT THINGS OF ALL THE MOST IMPORTANT THINGS OF ALL THE MOST IMPORTANT THINGS OF ALL THE MOST IMPORTANT THINGS OF ALL THE MOST IMPORTANT THINGS OF ALL THE MOST IMPORTANT THINGS OF ALL THE MOST IMPORTANT THINGS OF ALL\n",
            "I'M NOT A MAN BUT I'M A MAN AND I'M A MAN AND I'M A MAN AND I'M A MAN AND I'M A MAN AND I'M A MAN AND I'M A MAN AND I'M A MAN AND I'M A MAN AND I'M A MAN AND I'M A MAN AND I'M A MAN AND I'M A MAN AND I'M A MAN AND I'M A MAN AND I'M\n",
            "torch.Size([1, 100, 768])\n",
            "torch.Size([1, 100, 768])\n",
            "torch.Size([1, 100, 768])\n",
            "torch.Size([1, 100, 768])\n"
          ]
        },
        {
          "name": "stderr",
          "output_type": "stream",
          "text": [
            "\r94it [09:45,  6.26s/it]"
          ]
        },
        {
          "name": "stdout",
          "output_type": "stream",
          "text": [
            "Gt\n",
            "THE IRON WAS RUSTY THE LEATHER TORN THE WOOD WORK WORM EATEN THERE WERE LINES OF CRACKS ACROSS THE WINDOW IN FRONT THROUGH WHICH SHONE A RAY FROM THE LANTERN THE WHEELS WERE WARPED THE LINING THE FLOOR\n",
            "I AM SURE I SHOULD BE VERY SORRY TO LEAVE YOU SO SOON BUT SOMETHING HAS HAPPENED THAT WOULD MAKE IT VERY DREADFUL FOR ME TO BE IN THE SAME HOUSE WITH CAPTAIN TILNEY ELEANOR'S WORK WAS SUSPENDED WHILE SHE GAZED WITH INCREASING ASTONISHMENT\n",
            "CLASSIFIES MEASURES AS DUPLE TRIPLE OR QUADRUPLE SPECIFYING THAT A SIMPLE MEASURE IS ONE IN WHICH EACH BEAT IS REPRESENTED BY A NOTE WHOSE VALUE CAN BE DIVIDED INTO HALVES\n",
            "AND THAT I NEVER OUTGREW MY CHILDISH TERROR I LOOKED EVERYWHERE ABOUT THE BARN WAS TOO FAR THE FENCE TOO HIGH I SAW HIM COMING AND THERE WAS NOTHING BUT YOU AND THE OPEN COUNTRY OF COURSE I TOOK YOU IT WAS VERY NATURAL I'M SURE\n",
            "Pred\n",
            "AND THE MOST IMPORTANT OF ALL THE MOST IMPORTANT OF ALL THE MOST IMPORTANT OF ALL THE MOST IMPORTANT OF ALL THE MOST IMPORTANT OF ALL THE MOST IMPORTANT OF ALL THE MOST IMPORTANT OF ALL THE MOST IMPORTANT OF ALL THE MOST IMPORTANT OF ALL THE MOST IMPORTANT OF ALL THE MOST IMPORTANT OF ALL THE MOST IMPORTANT OF ALL THE MOST\n",
            "AND THE MOST IMPORTANT OF ALL THE MOST IMPORTANT OF ALL THE MOST IMPORTANT OF ALL THE MOST IMPORTANT OF ALL THE MOST IMPORTANT OF ALL THE MOST IMPORTANT OF ALL THE MOST IMPORTANT OF ALL THE MOST IMPORTANT OF ALL THE MOST IMPORTANT OF ALL THE MOST IMPORTANT OF ALL THE MOST IMPORTANT OF ALL THE MOST IMPORTANT OF ALL THE MOST\n",
            "AND THE MOST IMPORTANT OF ALL THE MOST IMPORTANT OF ALL THE MOST IMPORTANT OF ALL THE MOST IMPORTANT OF ALL THE MOST IMPORTANT OF ALL THE MOST IMPORTANT OF ALL THE MOST IMPORTANT OF ALL THE MOST IMPORTANT OF ALL THE MOST IMPORTANT OF ALL THE MOST IMPORTANT OF ALL THE MOST IMPORTANT OF ALL THE MOST IMPORTANT OF ALL THE MOST\n",
            "THE MOST IMPORTANT THING OF ALL THE MOST IMPORTANT THINGS OF ALL THE MOST IMPORTANT THINGS OF ALL THE MOST IMPORTANT THINGS OF ALL THE MOST IMPORTANT THINGS OF ALL THE MOST IMPORTANT THINGS OF ALL THE MOST IMPORTANT THINGS OF ALL THE MOST IMPORTANT THINGS OF ALL THE MOST IMPORTANT THINGS OF ALL THE MOST IMPORTANT THINGS OF ALL\n",
            "torch.Size([1, 100, 768])\n",
            "torch.Size([1, 100, 768])\n",
            "torch.Size([1, 100, 768])\n",
            "torch.Size([1, 100, 768])\n"
          ]
        },
        {
          "name": "stderr",
          "output_type": "stream",
          "text": [
            "\r95it [09:52,  6.24s/it]"
          ]
        },
        {
          "name": "stdout",
          "output_type": "stream",
          "text": [
            "Gt\n",
            "WHICH SHE FROM THE ADVANCED AGE OF TWENTY THREE COULD NOT LOOK UPON AS PARTICULARLY EXCITING NO NOT A PARCEL CRIED DORA DANCING ROUND HER IT'S A LETTER THERE NOW\n",
            "ITS NUMBER SOMEWHAT EXCEEDED A THOUSAND SOULS\n",
            "ONE WHO SPOKE ALL THOSE LANGUAGES THAT WERE CULTIVATED AMONG THE NORTHERN ABORIGINES THE WISE HURON IS WELCOME SAID THE DELAWARE\n",
            "THEN THERE WAS NO QUARREL AMONG HER CHILDREN TO SEE WHO SHOULD HAVE THE FIRST TURN NOT AT ALL ONE YOUNG MUSKRAT SAID AREN'T YOU GOING TO LET US PLAY ANY MORE YES\n",
            "Pred\n",
            "AND THE MOST IMPORTANT OF ALL THE MOST IMPORTANT OF ALL THE MOST IMPORTANT OF ALL THE MOST IMPORTANT OF ALL THE MOST IMPORTANT OF ALL THE MOST IMPORTANT OF ALL THE MOST IMPORTANT OF ALL THE MOST IMPORTANT OF ALL THE MOST IMPORTANT OF ALL THE MOST IMPORTANT OF ALL THE MOST IMPORTANT OF ALL THE MOST IMPORTANT OF ALL THE MOST\n",
            "AND THE MOST IMPORTANT OF ALL THE MOST IMPORTANT OF ALL THE MOST IMPORTANT OF ALL THE MOST IMPORTANT OF ALL THE MOST IMPORTANT OF ALL THE MOST IMPORTANT OF ALL THE MOST IMPORTANT OF ALL THE MOST IMPORTANT OF ALL THE MOST IMPORTANT OF ALL THE MOST IMPORTANT OF ALL THE MOST IMPORTANT OF ALL THE MOST IMPORTANT OF ALL THE MOST\n",
            "AND THE MOST IMPORTANT OF ALL THE MOST IMPORTANT OF ALL THE MOST IMPORTANT OF ALL THE MOST IMPORTANT OF ALL THE MOST IMPORTANT OF ALL THE MOST IMPORTANT OF ALL THE MOST IMPORTANT OF ALL THE MOST IMPORTANT OF ALL THE MOST IMPORTANT OF ALL THE MOST IMPORTANT OF ALL THE MOST IMPORTANT OF ALL THE MOST IMPORTANT OF ALL THE MOST\n",
            "AND THE MOST IMPORTANT THING OF ALL THE MOST IMPORTANT THINGS OF ALL THE MOST IMPORTANT THINGS OF ALL THE MOST IMPORTANT THINGS OF ALL THE MOST IMPORTANT THINGS OF ALL THE MOST IMPORTANT THINGS OF ALL THE MOST IMPORTANT THINGS OF ALL THE MOST IMPORTANT THINGS OF ALL THE MOST IMPORTANT THINGS OF ALL THE MOST IMPORTANT THINGS OF\n",
            "torch.Size([1, 100, 768])\n",
            "torch.Size([1, 100, 768])\n",
            "torch.Size([1, 100, 768])\n",
            "torch.Size([1, 100, 768])\n"
          ]
        },
        {
          "name": "stderr",
          "output_type": "stream",
          "text": [
            "\r96it [09:58,  6.26s/it]"
          ]
        },
        {
          "name": "stdout",
          "output_type": "stream",
          "text": [
            "Gt\n",
            "COULDN'T I FIND A PLACE TO SPEND THE NIGHT LAUGHED LUKASHKA BUT THE CORPORAL ASKED ME TO GO BACK I HEARD YOU SINGING LAST NIGHT AND ALSO SAW YOU EVERY ONE AND LUKE SWAYED HIS HEAD IS IT TRUE YOU ARE GETTING MARRIED ASKED OLENIN\n",
            "EVERY NEW COMER WHO ENTERED THE TAVERN SAID ON CATCHING SIGHT OF MADAME THENARDIER THERE IS THE MASTER OF THE HOUSE A MISTAKE SHE WAS NOT EVEN THE MISTRESS THE HUSBAND WAS BOTH MASTER AND MISTRESS\n",
            "I GAVE UP EVERYTHING I HAD TO HER I'M A BEGGAR BECAUSE I WOULD MARRY HER BY JOVE SIR I'VE PAWNED MY OWN WATCH IN ORDER TO GET HER ANYTHING SHE FANCIED AND SHE\n",
            "EVERYTHING SAID SAVONAROLA BUT ON THREE CONDITIONS WHAT ARE THEY ASKED THE DYING MAN THE FIRST SAID SAVONAROLA IS THAT YOU FEEL A COMPLETE FAITH IN THE POWER AND THE MERCY OF GOD\n",
            "Pred\n",
            "THE MOST IMPORTANT THING OF ALL THE MOST IMPORTANT THINGS OF ALL THE MOST IMPORTANT THINGS OF ALL THE MOST IMPORTANT THINGS OF ALL THE MOST IMPORTANT THINGS OF ALL THE MOST IMPORTANT THINGS OF ALL THE MOST IMPORTANT THINGS OF ALL THE MOST IMPORTANT THINGS OF ALL THE MOST IMPORTANT THINGS OF ALL THE MOST IMPORTANT THINGS OF ALL\n",
            "AND THE MOST IMPORTANT OF ALL THE MOST IMPORTANT OF ALL THE MOST IMPORTANT OF ALL THE MOST IMPORTANT OF ALL THE MOST IMPORTANT OF ALL THE MOST IMPORTANT OF ALL THE MOST IMPORTANT OF ALL THE MOST IMPORTANT OF ALL THE MOST IMPORTANT OF ALL THE MOST IMPORTANT OF ALL THE MOST IMPORTANT OF ALL THE MOST IMPORTANT OF ALL THE MOST\n",
            "AND THE MOST IMPORTANT OF ALL THE MOST IMPORTANT OF ALL THE MOST IMPORTANT OF ALL THE MOST IMPORTANT OF ALL THE MOST IMPORTANT OF ALL THE MOST IMPORTANT OF ALL THE MOST IMPORTANT OF ALL THE MOST IMPORTANT OF ALL THE MOST IMPORTANT OF ALL THE MOST IMPORTANT OF ALL THE MOST IMPORTANT OF ALL THE MOST IMPORTANT OF ALL THE MOST\n",
            "AND THE MOST IMPORTANT THING OF ALL THE MOST IMPORTANT THINGS OF ALL THE MOST IMPORTANT THINGS OF ALL THE MOST IMPORTANT THINGS OF ALL THE MOST IMPORTANT THINGS OF ALL THE MOST IMPORTANT THINGS OF ALL THE MOST IMPORTANT THINGS OF ALL THE MOST IMPORTANT THINGS OF ALL THE MOST IMPORTANT THINGS OF ALL THE MOST IMPORTANT THINGS OF\n",
            "torch.Size([1, 100, 768])\n",
            "torch.Size([1, 100, 768])\n",
            "torch.Size([1, 100, 768])\n",
            "torch.Size([1, 100, 768])\n"
          ]
        },
        {
          "name": "stderr",
          "output_type": "stream",
          "text": [
            "\r97it [10:04,  6.24s/it]"
          ]
        },
        {
          "name": "stdout",
          "output_type": "stream",
          "text": [
            "Gt\n",
            "IT WAS THUS THAT PINELLI THE FAMOUS SCULPTOR HAD COMMENCED A GIRL OF SIX OR SEVEN THAT IS A LITTLE YOUNGER THAN VAMPA TENDED SHEEP ON A FARM NEAR PALESTRINA SHE WAS AN ORPHAN BORN AT VALMONTONE AND WAS NAMED TERESA THE TWO CHILDREN MET\n",
            "I WILL NOW FAITHFULLY GIVE YOU IN HIS OWN WORDS AS I HEARD HIM RELATE THEM TO HIS FRIENDS SEVERAL TIMES ON MY ARRIVAL SAYS MY FATHER AT HELVOETSLUYS I WAS OBSERVED TO BREATHE WITH SOME DIFFICULTY\n",
            "POSSESSION AGRICULTURE WAS A NATURAL CONSEQUENCE OF THE MULTIPLICATION OF THE HUMAN RACE AND AGRICULTURE IN ITS TURN FAVORS POPULATION AND NECESSITATES THE ESTABLISHMENT OF PERMANENT PROPERTY\n",
            "HE HAD TOLD THE COACHMAN THIS OR THAT THE MAN OUGHT TO HAVE KNOWN IT FOR HIMSELF ON REACHING HOME PIERRE GAVE ORDERS TO EVSTAFEY HIS HEAD COACHMAN WHO KNEW EVERYTHING COULD DO ANYTHING AND WAS KNOWN TO ALL MOSCOW\n",
            "Pred\n",
            "I'M NOT A MAN OF THE WORLD BUT I'M A MAN OF THE WORLD AND I'M A MAN OF THE WORLD AND I'M A MAN OF THE WORLD AND I'M A MAN OF THE WORLD AND I'M A MAN OF THE WORLD AND I'M A MAN OF THE WORLD AND I'M A MAN OF THE WORLD AND I'M A MAN OF THE WORLD AND I'M A MAN OF THE WORLD AND I'M A MAN OF THE WORLD AND\n",
            "AND THE MOST IMPORTANT THING OF ALL THE MOST IMPORTANT THINGS OF ALL THE MOST IMPORTANT THINGS OF ALL THE MOST IMPORTANT THINGS OF ALL THE MOST IMPORTANT THINGS OF ALL THE MOST IMPORTANT THINGS OF ALL THE MOST IMPORTANT THINGS OF ALL THE MOST IMPORTANT THINGS OF ALL THE MOST IMPORTANT THINGS OF ALL THE MOST IMPORTANT THINGS OF\n",
            "THE MOST IMPORTANT THING OF ALL THE MOST IMPORTANT THINGS OF ALL THE MOST IMPORTANT THINGS OF ALL THE MOST IMPORTANT THINGS OF ALL THE MOST IMPORTANT THINGS OF ALL THE MOST IMPORTANT THINGS OF ALL THE MOST IMPORTANT THINGS OF ALL THE MOST IMPORTANT THINGS OF ALL THE MOST IMPORTANT THINGS OF ALL THE MOST IMPORTANT THINGS OF ALL\n",
            "AND THE MOST IMPORTANT OF ALL THE MOST IMPORTANT OF ALL THE MOST IMPORTANT OF ALL THE MOST IMPORTANT OF ALL THE MOST IMPORTANT OF ALL THE MOST IMPORTANT OF ALL THE MOST IMPORTANT OF ALL THE MOST IMPORTANT OF ALL THE MOST IMPORTANT OF ALL THE MOST IMPORTANT OF ALL THE MOST IMPORTANT OF ALL THE MOST IMPORTANT OF ALL THE MOST\n",
            "torch.Size([1, 100, 768])\n",
            "torch.Size([1, 100, 768])\n",
            "torch.Size([1, 100, 768])\n",
            "torch.Size([1, 100, 768])\n"
          ]
        },
        {
          "name": "stderr",
          "output_type": "stream",
          "text": [
            "\r98it [10:10,  6.23s/it]"
          ]
        },
        {
          "name": "stdout",
          "output_type": "stream",
          "text": [
            "Gt\n",
            "THE POSSESSOR OF THIS FARM SHOULD BE OBLIGED TO GUARD HIS REPUTATION AS A GOOD FATHER OF A FAMILY BY PAYING TO SOCIETY TEN THOUSAND FRANCS LESS THE TOTAL COSTS OF CULTIVATION\n",
            "BUT HER FEATURES ARE HIDDEN BY A HALF MASK OF BLACK SILK THE LIPS WITH THEIR ARC DE CUPIDON ARE SLIGHTLY PARTED DISCLOSING AN EVEN ROW OF PEARLY TEETH\n",
            "NOWHERE HAS IT EFFECTED GREATER CHANGES THAN IN TEXAS DURING THE LAST DECADE AND ESPECIALLY\n",
            "I ALWAYS FEEL SAFE WITH THESE WOMEN FOLK FOR I HAVE ALWAYS FOUND THAT THE ROAD TO A WOMAN'S HEART LIES THROUGH HER CHILD YOU SEEM SAID I TO UNDERSTAND THE FEMALE HEART SO WELL I MAKE NO DOUBT YOU ARE A GENERAL FAVORITE AMONG THE FAIR SEX\n",
            "Pred\n",
            "AND THE MOST IMPORTANT OF ALL THE MOST IMPORTANT OF ALL THE MOST IMPORTANT OF ALL THE MOST IMPORTANT OF ALL THE MOST IMPORTANT OF ALL THE MOST IMPORTANT OF ALL THE MOST IMPORTANT OF ALL THE MOST IMPORTANT OF ALL THE MOST IMPORTANT OF ALL THE MOST IMPORTANT OF ALL THE MOST IMPORTANT OF ALL THE MOST IMPORTANT OF ALL THE MOST\n",
            "AND THE MOST IMPORTANT OF ALL THE MOST IMPORTANT OF ALL THE MOST IMPORTANT OF ALL THE MOST IMPORTANT OF ALL THE MOST IMPORTANT OF ALL THE MOST IMPORTANT OF ALL THE MOST IMPORTANT OF ALL THE MOST IMPORTANT OF ALL THE MOST IMPORTANT OF ALL THE MOST IMPORTANT OF ALL THE MOST IMPORTANT OF ALL THE MOST IMPORTANT OF ALL THE MOST\n",
            "AND THE MOST IMPORTANT OF ALL THE MOST IMPORTANT OF ALL THE MOST IMPORTANT OF ALL THE MOST IMPORTANT OF ALL THE MOST IMPORTANT OF ALL THE MOST IMPORTANT OF ALL THE MOST IMPORTANT OF ALL THE MOST IMPORTANT OF ALL THE MOST IMPORTANT OF ALL THE MOST IMPORTANT OF ALL THE MOST IMPORTANT OF ALL THE MOST IMPORTANT OF ALL THE MOST\n",
            "AND THE MOST IMPORTANT THING OF ALL THE MOST IMPORTANT THINGS OF ALL THE MOST IMPORTANT THINGS OF ALL THE MOST IMPORTANT THINGS OF ALL THE MOST IMPORTANT THINGS OF ALL THE MOST IMPORTANT THINGS OF ALL THE MOST IMPORTANT THINGS OF ALL THE MOST IMPORTANT THINGS OF ALL THE MOST IMPORTANT THINGS OF ALL THE MOST IMPORTANT THINGS OF\n",
            "torch.Size([1, 100, 768])\n",
            "torch.Size([1, 100, 768])\n",
            "torch.Size([1, 100, 768])\n",
            "torch.Size([1, 100, 768])\n"
          ]
        },
        {
          "name": "stderr",
          "output_type": "stream",
          "text": [
            "\r99it [10:16,  6.22s/it]"
          ]
        },
        {
          "name": "stdout",
          "output_type": "stream",
          "text": [
            "Gt\n",
            "AND IT WAS MY UNFORTUNATE LOT TO LAY THE FOUNDATION FOR BRINGING THIS HAPPY PAIR TOGETHER AGAIN I CAN EASILY CONCEIVE WHAT EXECRATIONS THE HUSBAND LOADED ME WITH WHEN ON HIS RETURN\n",
            "PRICKS ITS WAY STILL DEEPER AND SMALL ARMS GO UP AROUND HIS NECK WHEN THE MAN TURNS HIS FACE WEARS A SOFT AND TENDER EXPRESSION AS THOUGH HE WERE LOOKING AT SOME BEAUTIFUL SIGHT FAR AWAY\n",
            "HAD ANY ONE BEEN NEAR HIM THAT PERSON WOULD HAVE HEARD HIM MUTTER IN A LOW VOICE PATRIA\n",
            "OPENED THE DRAWER AND TOOK OUT THE KNIFE MARIUS FRETTED WITH THE HANDLE OF HIS PISTOL UNPRECEDENTED PERPLEXITY FOR THE LAST HOUR HE HAD HAD TWO VOICES IN HIS CONSCIENCE\n",
            "Pred\n",
            "THE MOST IMPORTANT THING OF ALL THE MOST IMPORTANT THINGS OF ALL THE MOST IMPORTANT THINGS OF ALL THE MOST IMPORTANT THINGS OF ALL THE MOST IMPORTANT THINGS OF ALL THE MOST IMPORTANT THINGS OF ALL THE MOST IMPORTANT THINGS OF ALL THE MOST IMPORTANT THINGS OF ALL THE MOST IMPORTANT THINGS OF ALL THE MOST IMPORTANT THINGS OF ALL\n",
            "THE MOST IMPORTANT THING OF ALL THE MOST IMPORTANT THINGS OF ALL THE MOST IMPORTANT THINGS OF ALL THE MOST IMPORTANT THINGS OF ALL THE MOST IMPORTANT THINGS OF ALL THE MOST IMPORTANT THINGS OF ALL THE MOST IMPORTANT THINGS OF ALL THE MOST IMPORTANT THINGS OF ALL THE MOST IMPORTANT THINGS OF ALL THE MOST IMPORTANT THINGS OF ALL\n",
            "THAT WAS THE ONLY WAY TO MAKE THE SAME SENSE OF THE SAME SENSE OF THE SAME SENSE OF THE SAME SENSE OF THE SAME SENSE OF THE SAME SENSE OF THE SAME SENSE OF THE SAME SENSE OF THE SAME SENSE OF THE SAME SENSE OF THE SAME SENSE OF THE SAME SENSE OF THE SAME SENSE OF THE SAME SENSE OF THE SAME SENSE OF THE S\n",
            "THE MOST IMPORTANT THING OF ALL THE MOST IMPORTANT THINGS OF ALL THE MOST IMPORTANT THINGS OF ALL THE MOST IMPORTANT THINGS OF ALL THE MOST IMPORTANT THINGS OF ALL THE MOST IMPORTANT THINGS OF ALL THE MOST IMPORTANT THINGS OF ALL THE MOST IMPORTANT THINGS OF ALL THE MOST IMPORTANT THINGS OF ALL THE MOST IMPORTANT THINGS OF ALL\n",
            "torch.Size([1, 100, 768])\n",
            "torch.Size([1, 100, 768])\n",
            "torch.Size([1, 100, 768])\n",
            "torch.Size([1, 100, 768])\n"
          ]
        },
        {
          "name": "stderr",
          "output_type": "stream",
          "text": [
            "\r100it [10:23,  6.23s/it]"
          ]
        },
        {
          "name": "stdout",
          "output_type": "stream",
          "text": [
            "Gt\n",
            "ONE PART WAS OPEN AND BY THAT I HAD CREPT IN BUT NOW I COVERED EVERY CREVICE BY WHICH I MIGHT BE PERCEIVED WITH STONES AND WOOD\n",
            "FROM THE INDEPENDENT EXERTION OF HIS POWERS OR FROM ENCOUNTERING THE ILL HUMORS HOWEVER TRANSIENT WHICH MAY HAPPEN TO PREVAIL EITHER IN A CONSIDERABLE PART OF THE SOCIETY ITSELF OR EVEN IN A PREDOMINANT FACTION IN THE LEGISLATIVE BODY\n",
            "I CALL TO MIND ANOTHER SIMILAR MYTH IN IT A MOTHER IS ALSO SAID TO HAVE BROUGHT FORTH TWINS OR A PAIR OF TWINS AND TO HAVE PAID FOR THEM WITH HER LIFE AGAIN THE ONE IS DESCRIBED AS THE BRIGHT\n",
            "LAID SIEGE TO THE CITY THINKING THAT HE WOULD COMPEL THE ROMANS TO SURRENDER BUT INSTEAD OF HAVING ANY THOUGHT OF SURRENDER BELISARIUS WAS PREPARING HIS MEN FOR FIGHT AND WHEN THEY WERE READY HE ATTACKED VITIGES AND DEFEATED HIM\n",
            "Pred\n",
            "AND THE MOST IMPORTANT OF ALL THE MOST IMPORTANT OF ALL THE MOST IMPORTANT OF ALL THE MOST IMPORTANT OF ALL THE MOST IMPORTANT OF ALL THE MOST IMPORTANT OF ALL THE MOST IMPORTANT OF ALL THE MOST IMPORTANT OF ALL THE MOST IMPORTANT OF ALL THE MOST IMPORTANT OF ALL THE MOST IMPORTANT OF ALL THE MOST IMPORTANT OF ALL THE MOST\n",
            "AND THE MOST IMPORTANT OF ALL THE MOST IMPORTANT OF ALL THE MOST IMPORTANT OF ALL THE MOST IMPORTANT OF ALL THE MOST IMPORTANT OF ALL THE MOST IMPORTANT OF ALL THE MOST IMPORTANT OF ALL THE MOST IMPORTANT OF ALL THE MOST IMPORTANT OF ALL THE MOST IMPORTANT OF ALL THE MOST IMPORTANT OF ALL THE MOST IMPORTANT OF ALL THE MOST\n",
            "AND THE MOST IMPORTANT OF ALL THE MOST IMPORTANT OF ALL THE MOST IMPORTANT OF ALL THE MOST IMPORTANT OF ALL THE MOST IMPORTANT OF ALL THE MOST IMPORTANT OF ALL THE MOST IMPORTANT OF ALL THE MOST IMPORTANT OF ALL THE MOST IMPORTANT OF ALL THE MOST IMPORTANT OF ALL THE MOST IMPORTANT OF ALL THE MOST IMPORTANT OF ALL THE MOST\n",
            "THE MOST IMPORTANT THING OF ALL THE MOST IMPORTANT THINGS OF ALL THE MOST IMPORTANT THINGS OF ALL THE MOST IMPORTANT THINGS OF ALL THE MOST IMPORTANT THINGS OF ALL THE MOST IMPORTANT THINGS OF ALL THE MOST IMPORTANT THINGS OF ALL THE MOST IMPORTANT THINGS OF ALL THE MOST IMPORTANT THINGS OF ALL THE MOST IMPORTANT THINGS OF ALL\n"
          ]
        },
        {
          "name": "stderr",
          "output_type": "stream",
          "text": [
            "\r100it [10:23,  6.24s/it]\n"
          ]
        }
      ],
      "source": [
        "#Differences between actual sentences and predicted sentences\n",
        "wer=predict(pengi,test_loader,tokenizer)"
      ]
    },
    {
      "cell_type": "code",
      "execution_count": null,
      "metadata": {
        "id": "eLbzyTrKwsWZ"
      },
      "outputs": [],
      "source": [
        "wer=np.array(wer)"
      ]
    },
    {
      "cell_type": "code",
      "execution_count": null,
      "metadata": {
        "colab": {
          "base_uri": "https://localhost:8080/"
        },
        "id": "25cKrOzDzMdJ",
        "outputId": "4a567a75-7c37-4837-9ce9-e1f46d76e034"
      },
      "outputs": [
        {
          "name": "stdout",
          "output_type": "stream",
          "text": [
            "[0.5153509  0.3710692  0.4567669  0.4293478  0.45503598 0.42572463\n",
            " 0.37808642 0.4379085  0.33236995 0.47047246 0.42938933 0.47519085\n",
            " 0.4609375  0.4564394  0.35565478 0.7319277  0.41727942 0.5265487\n",
            " 0.51521736 0.36309522 0.30510753 0.45652175 0.45437956 0.4007092\n",
            " 0.4722222  0.5642202  0.4482143  0.46376812 0.38435373 0.42572463\n",
            " 0.36458334 0.49358973 0.4208633  0.44216418 0.6319444  0.64835167\n",
            " 0.36445785 0.36666667 0.3821656  0.44047618 0.5321101  0.54273504\n",
            " 0.44485295 0.41485506 0.46346155 0.3872549  0.39808917 0.39965987\n",
            " 0.44548872 0.44642857 0.4275862  0.3582317  0.397351   0.385\n",
            " 0.42647058 0.4731405  0.30241936 0.50206614 0.34077382 0.40131578\n",
            " 0.5021008  0.41326532 0.38907284 0.3986014  0.4030612  0.34705883\n",
            " 0.4201389  0.42446044 0.36057693 0.55140185 0.39716312 0.41216215\n",
            " 0.39583334 0.37579617 0.38605443 0.57522124 0.39482757 0.44921875\n",
            " 0.50409836 0.3796875  0.44807693 0.66223407 0.41666666 0.3862069\n",
            " 0.4921875  0.41373238 0.37804878 0.47047246 0.43933824 0.4574468\n",
            " 0.42777777 0.4533582  0.40097404 0.37183544 0.6620879  0.3918919\n",
            " 0.41107383 0.47782257 0.51939654 0.40136054]\n"
          ]
        }
      ],
      "source": [
        "wer=wer/4\n",
        "print(wer)"
      ]
    },
    {
      "cell_type": "code",
      "execution_count": null,
      "metadata": {
        "colab": {
          "base_uri": "https://localhost:8080/",
          "height": 448
        },
        "id": "NwqVRAA1zTwQ",
        "outputId": "4f801057-105b-46d9-f271-b2677b6bee0e"
      },
      "outputs": [
        {
          "data": {
            "text/plain": [
              "<matplotlib.collections.PathCollection at 0x7f2bb8cafe50>"
            ]
          },
          "execution_count": 80,
          "metadata": {},
          "output_type": "execute_result"
        },
        {
          "data": {
            "image/png": "[encoded data removed]",
            "text/plain": [
              "<Figure size 640x480 with 1 Axes>"
            ]
          },
          "metadata": {},
          "output_type": "display_data"
        }
      ],
      "source": [
        "import matplotlib.pyplot as plt\n",
        "plt.scatter([i for i in range(len(wer))],wer)"
      ]
    },
    {
      "cell_type": "code",
      "execution_count": null,
      "metadata": {
        "id": "v0YcFK_3zdBZ"
      },
      "outputs": [],
      "source": []
    }
  ],
  "metadata": {
    "accelerator": "GPU",
    "colab": {
      "machine_shape": "hm",
      "provenance": []
    },
    "kernelspec": {
      "display_name": "Python 3",
      "name": "python3"
    },
    "language_info": {
      "name": "python"
    },
    "widgets": {
      "application/vnd.jupyter.widget-state+json": {
        "08c29b9e2ec044b09123bbe1da843088": {
          "model_module": "@jupyter-widgets/controls",
          "model_module_version": "1.5.0",
          "model_name": "DescriptionStyleModel",
          "state": {
            "_model_module": "@jupyter-widgets/controls",
            "_model_module_version": "1.5.0",
            "_model_name": "DescriptionStyleModel",
            "_view_count": null,
            "_view_module": "@jupyter-widgets/base",
            "_view_module_version": "1.2.0",
            "_view_name": "StyleView",
            "description_width": ""
          }
        },
        "0915984625ce4213a167ae7935da0323": {
          "model_module": "@jupyter-widgets/controls",
          "model_module_version": "1.5.0",
          "model_name": "HBoxModel",
          "state": {
            "_dom_classes": [],
            "_model_module": "@jupyter-widgets/controls",
            "_model_module_version": "1.5.0",
            "_model_name": "HBoxModel",
            "_view_count": null,
            "_view_module": "@jupyter-widgets/controls",
            "_view_module_version": "1.5.0",
            "_view_name": "HBoxView",
            "box_style": "",
            "children": [
              "IPY_MODEL_de817615f45241e48544f8055703edaa",
              "IPY_MODEL_c17644395e05458d869f033eb4bc7065",
              "IPY_MODEL_fadaf601bd554aefb2adb5e2ad5f111e"
            ],
            "layout": "IPY_MODEL_fc0d5e8b23db4ba38aea11f33149470a"
          }
        },
        "095c47574d384fc2b969f0dea6010684": {
          "model_module": "@jupyter-widgets/controls",
          "model_module_version": "1.5.0",
          "model_name": "HTMLModel",
          "state": {
            "_dom_classes": [],
            "_model_module": "@jupyter-widgets/controls",
            "_model_module_version": "1.5.0",
            "_model_name": "HTMLModel",
            "_view_count": null,
            "_view_module": "@jupyter-widgets/controls",
            "_view_module_version": "1.5.0",
            "_view_name": "HTMLView",
            "description": "",
            "description_tooltip": null,
            "layout": "IPY_MODEL_1b8c9835cd26472cb7d637ca63b8d596",
            "placeholder": "​",
            "style": "IPY_MODEL_a02cbd4ac3134130abf4910e3be65cc7",
            "value": " 665/665 [00:00&lt;00:00, 60.5kB/s]"
          }
        },
        "160d64c4098c41b1a02da68ec74ce572": {
          "model_module": "@jupyter-widgets/base",
          "model_module_version": "1.2.0",
          "model_name": "LayoutModel",
          "state": {
            "_model_module": "@jupyter-widgets/base",
            "_model_module_version": "1.2.0",
            "_model_name": "LayoutModel",
            "_view_count": null,
            "_view_module": "@jupyter-widgets/base",
            "_view_module_version": "1.2.0",
            "_view_name": "LayoutView",
            "align_content": null,
            "align_items": null,
            "align_self": null,
            "border": null,
            "bottom": null,
            "display": null,
            "flex": null,
            "flex_flow": null,
            "grid_area": null,
            "grid_auto_columns": null,
            "grid_auto_flow": null,
            "grid_auto_rows": null,
            "grid_column": null,
            "grid_gap": null,
            "grid_row": null,
            "grid_template_areas": null,
            "grid_template_columns": null,
            "grid_template_rows": null,
            "height": null,
            "justify_content": null,
            "justify_items": null,
            "left": null,
            "margin": null,
            "max_height": null,
            "max_width": null,
            "min_height": null,
            "min_width": null,
            "object_fit": null,
            "object_position": null,
            "order": null,
            "overflow": null,
            "overflow_x": null,
            "overflow_y": null,
            "padding": null,
            "right": null,
            "top": null,
            "visibility": null,
            "width": null
          }
        },
        "18c3ee11b6fd42a9ae43f039cf643b43": {
          "model_module": "@jupyter-widgets/base",
          "model_module_version": "1.2.0",
          "model_name": "LayoutModel",
          "state": {
            "_model_module": "@jupyter-widgets/base",
            "_model_module_version": "1.2.0",
            "_model_name": "LayoutModel",
            "_view_count": null,
            "_view_module": "@jupyter-widgets/base",
            "_view_module_version": "1.2.0",
            "_view_name": "LayoutView",
            "align_content": null,
            "align_items": null,
            "align_self": null,
            "border": null,
            "bottom": null,
            "display": null,
            "flex": null,
            "flex_flow": null,
            "grid_area": null,
            "grid_auto_columns": null,
            "grid_auto_flow": null,
            "grid_auto_rows": null,
            "grid_column": null,
            "grid_gap": null,
            "grid_row": null,
            "grid_template_areas": null,
            "grid_template_columns": null,
            "grid_template_rows": null,
            "height": null,
            "justify_content": null,
            "justify_items": null,
            "left": null,
            "margin": null,
            "max_height": null,
            "max_width": null,
            "min_height": null,
            "min_width": null,
            "object_fit": null,
            "object_position": null,
            "order": null,
            "overflow": null,
            "overflow_x": null,
            "overflow_y": null,
            "padding": null,
            "right": null,
            "top": null,
            "visibility": null,
            "width": null
          }
        },
        "1b8c9835cd26472cb7d637ca63b8d596": {
          "model_module": "@jupyter-widgets/base",
          "model_module_version": "1.2.0",
          "model_name": "LayoutModel",
          "state": {
            "_model_module": "@jupyter-widgets/base",
            "_model_module_version": "1.2.0",
            "_model_name": "LayoutModel",
            "_view_count": null,
            "_view_module": "@jupyter-widgets/base",
            "_view_module_version": "1.2.0",
            "_view_name": "LayoutView",
            "align_content": null,
            "align_items": null,
            "align_self": null,
            "border": null,
            "bottom": null,
            "display": null,
            "flex": null,
            "flex_flow": null,
            "grid_area": null,
            "grid_auto_columns": null,
            "grid_auto_flow": null,
            "grid_auto_rows": null,
            "grid_column": null,
            "grid_gap": null,
            "grid_row": null,
            "grid_template_areas": null,
            "grid_template_columns": null,
            "grid_template_rows": null,
            "height": null,
            "justify_content": null,
            "justify_items": null,
            "left": null,
            "margin": null,
            "max_height": null,
            "max_width": null,
            "min_height": null,
            "min_width": null,
            "object_fit": null,
            "object_position": null,
            "order": null,
            "overflow": null,
            "overflow_x": null,
            "overflow_y": null,
            "padding": null,
            "right": null,
            "top": null,
            "visibility": null,
            "width": null
          }
        },
        "21fbe40c92e3428cb6b9c87c7316f487": {
          "model_module": "@jupyter-widgets/controls",
          "model_module_version": "1.5.0",
          "model_name": "HBoxModel",
          "state": {
            "_dom_classes": [],
            "_model_module": "@jupyter-widgets/controls",
            "_model_module_version": "1.5.0",
            "_model_name": "HBoxModel",
            "_view_count": null,
            "_view_module": "@jupyter-widgets/controls",
            "_view_module_version": "1.5.0",
            "_view_name": "HBoxView",
            "box_style": "",
            "children": [
              "IPY_MODEL_a1abaef335b14a81be938446a4687bec",
              "IPY_MODEL_d16d201bfc124afa8487f41a752ad176",
              "IPY_MODEL_095c47574d384fc2b969f0dea6010684"
            ],
            "layout": "IPY_MODEL_a440f1062819466493a0067c72028143"
          }
        },
        "239eef3baad548bd8758f5381d3f60b8": {
          "model_module": "@jupyter-widgets/controls",
          "model_module_version": "1.5.0",
          "model_name": "DescriptionStyleModel",
          "state": {
            "_model_module": "@jupyter-widgets/controls",
            "_model_module_version": "1.5.0",
            "_model_name": "DescriptionStyleModel",
            "_view_count": null,
            "_view_module": "@jupyter-widgets/base",
            "_view_module_version": "1.2.0",
            "_view_name": "StyleView",
            "description_width": ""
          }
        },
        "2a2107d99a34474faa0bba35073f6a11": {
          "model_module": "@jupyter-widgets/controls",
          "model_module_version": "1.5.0",
          "model_name": "HTMLModel",
          "state": {
            "_dom_classes": [],
            "_model_module": "@jupyter-widgets/controls",
            "_model_module_version": "1.5.0",
            "_model_name": "HTMLModel",
            "_view_count": null,
            "_view_module": "@jupyter-widgets/controls",
            "_view_module_version": "1.5.0",
            "_view_name": "HTMLView",
            "description": "",
            "description_tooltip": null,
            "layout": "IPY_MODEL_88f8c9c82cf64c398efcd24d13be7fd0",
            "placeholder": "​",
            "style": "IPY_MODEL_ded5a2acfb984679b4a6f898137e691a",
            "value": " 1.04M/1.04M [00:00&lt;00:00, 4.37MB/s]"
          }
        },
        "2c74ee04b5754e18ba9303f80336af2b": {
          "model_module": "@jupyter-widgets/controls",
          "model_module_version": "1.5.0",
          "model_name": "ProgressStyleModel",
          "state": {
            "_model_module": "@jupyter-widgets/controls",
            "_model_module_version": "1.5.0",
            "_model_name": "ProgressStyleModel",
            "_view_count": null,
            "_view_module": "@jupyter-widgets/base",
            "_view_module_version": "1.2.0",
            "_view_name": "StyleView",
            "bar_color": null,
            "description_width": ""
          }
        },
        "2f5467c3d252417192fd40416ed21ab1": {
          "model_module": "@jupyter-widgets/base",
          "model_module_version": "1.2.0",
          "model_name": "LayoutModel",
          "state": {
            "_model_module": "@jupyter-widgets/base",
            "_model_module_version": "1.2.0",
            "_model_name": "LayoutModel",
            "_view_count": null,
            "_view_module": "@jupyter-widgets/base",
            "_view_module_version": "1.2.0",
            "_view_name": "LayoutView",
            "align_content": null,
            "align_items": null,
            "align_self": null,
            "border": null,
            "bottom": null,
            "display": null,
            "flex": null,
            "flex_flow": null,
            "grid_area": null,
            "grid_auto_columns": null,
            "grid_auto_flow": null,
            "grid_auto_rows": null,
            "grid_column": null,
            "grid_gap": null,
            "grid_row": null,
            "grid_template_areas": null,
            "grid_template_columns": null,
            "grid_template_rows": null,
            "height": null,
            "justify_content": null,
            "justify_items": null,
            "left": null,
            "margin": null,
            "max_height": null,
            "max_width": null,
            "min_height": null,
            "min_width": null,
            "object_fit": null,
            "object_position": null,
            "order": null,
            "overflow": null,
            "overflow_x": null,
            "overflow_y": null,
            "padding": null,
            "right": null,
            "top": null,
            "visibility": null,
            "width": null
          }
        },
        "31985d63257f49d79578b83aa4f84096": {
          "model_module": "@jupyter-widgets/controls",
          "model_module_version": "1.5.0",
          "model_name": "ProgressStyleModel",
          "state": {
            "_model_module": "@jupyter-widgets/controls",
            "_model_module_version": "1.5.0",
            "_model_name": "ProgressStyleModel",
            "_view_count": null,
            "_view_module": "@jupyter-widgets/base",
            "_view_module_version": "1.2.0",
            "_view_name": "StyleView",
            "bar_color": null,
            "description_width": ""
          }
        },
        "32bdad7dd5344cc2b6c77fbe44e64fe3": {
          "model_module": "@jupyter-widgets/base",
          "model_module_version": "1.2.0",
          "model_name": "LayoutModel",
          "state": {
            "_model_module": "@jupyter-widgets/base",
            "_model_module_version": "1.2.0",
            "_model_name": "LayoutModel",
            "_view_count": null,
            "_view_module": "@jupyter-widgets/base",
            "_view_module_version": "1.2.0",
            "_view_name": "LayoutView",
            "align_content": null,
            "align_items": null,
            "align_self": null,
            "border": null,
            "bottom": null,
            "display": null,
            "flex": null,
            "flex_flow": null,
            "grid_area": null,
            "grid_auto_columns": null,
            "grid_auto_flow": null,
            "grid_auto_rows": null,
            "grid_column": null,
            "grid_gap": null,
            "grid_row": null,
            "grid_template_areas": null,
            "grid_template_columns": null,
            "grid_template_rows": null,
            "height": null,
            "justify_content": null,
            "justify_items": null,
            "left": null,
            "margin": null,
            "max_height": null,
            "max_width": null,
            "min_height": null,
            "min_width": null,
            "object_fit": null,
            "object_position": null,
            "order": null,
            "overflow": null,
            "overflow_x": null,
            "overflow_y": null,
            "padding": null,
            "right": null,
            "top": null,
            "visibility": null,
            "width": null
          }
        },
        "3346c72b178140aaa0cf67823c89cf6a": {
          "model_module": "@jupyter-widgets/controls",
          "model_module_version": "1.5.0",
          "model_name": "ProgressStyleModel",
          "state": {
            "_model_module": "@jupyter-widgets/controls",
            "_model_module_version": "1.5.0",
            "_model_name": "ProgressStyleModel",
            "_view_count": null,
            "_view_module": "@jupyter-widgets/base",
            "_view_module_version": "1.2.0",
            "_view_name": "StyleView",
            "bar_color": null,
            "description_width": ""
          }
        },
        "33b83e59d93d4b67a25c25a72bf13f64": {
          "model_module": "@jupyter-widgets/controls",
          "model_module_version": "1.5.0",
          "model_name": "HTMLModel",
          "state": {
            "_dom_classes": [],
            "_model_module": "@jupyter-widgets/controls",
            "_model_module_version": "1.5.0",
            "_model_name": "HTMLModel",
            "_view_count": null,
            "_view_module": "@jupyter-widgets/controls",
            "_view_module_version": "1.5.0",
            "_view_name": "HTMLView",
            "description": "",
            "description_tooltip": null,
            "layout": "IPY_MODEL_18c3ee11b6fd42a9ae43f039cf643b43",
            "placeholder": "​",
            "style": "IPY_MODEL_239eef3baad548bd8758f5381d3f60b8",
            "value": "Downloading (…)olve/main/merges.txt: 100%"
          }
        },
        "340187772a8d4c559778a9e8c94536f0": {
          "model_module": "@jupyter-widgets/base",
          "model_module_version": "1.2.0",
          "model_name": "LayoutModel",
          "state": {
            "_model_module": "@jupyter-widgets/base",
            "_model_module_version": "1.2.0",
            "_model_name": "LayoutModel",
            "_view_count": null,
            "_view_module": "@jupyter-widgets/base",
            "_view_module_version": "1.2.0",
            "_view_name": "LayoutView",
            "align_content": null,
            "align_items": null,
            "align_self": null,
            "border": null,
            "bottom": null,
            "display": null,
            "flex": null,
            "flex_flow": null,
            "grid_area": null,
            "grid_auto_columns": null,
            "grid_auto_flow": null,
            "grid_auto_rows": null,
            "grid_column": null,
            "grid_gap": null,
            "grid_row": null,
            "grid_template_areas": null,
            "grid_template_columns": null,
            "grid_template_rows": null,
            "height": null,
            "justify_content": null,
            "justify_items": null,
            "left": null,
            "margin": null,
            "max_height": null,
            "max_width": null,
            "min_height": null,
            "min_width": null,
            "object_fit": null,
            "object_position": null,
            "order": null,
            "overflow": null,
            "overflow_x": null,
            "overflow_y": null,
            "padding": null,
            "right": null,
            "top": null,
            "visibility": null,
            "width": null
          }
        },
        "37b9b4a4ccab4855be53f21c97bd3419": {
          "model_module": "@jupyter-widgets/controls",
          "model_module_version": "1.5.0",
          "model_name": "HTMLModel",
          "state": {
            "_dom_classes": [],
            "_model_module": "@jupyter-widgets/controls",
            "_model_module_version": "1.5.0",
            "_model_name": "HTMLModel",
            "_view_count": null,
            "_view_module": "@jupyter-widgets/controls",
            "_view_module_version": "1.5.0",
            "_view_name": "HTMLView",
            "description": "",
            "description_tooltip": null,
            "layout": "IPY_MODEL_cad5ad8fc08749098d13d9b7743e9037",
            "placeholder": "​",
            "style": "IPY_MODEL_b85a716f59fe42ddb145228f17fb3eee",
            "value": "Downloading (…)neration_config.json: 100%"
          }
        },
        "393f14432d1449febeedbf3994ea6790": {
          "model_module": "@jupyter-widgets/base",
          "model_module_version": "1.2.0",
          "model_name": "LayoutModel",
          "state": {
            "_model_module": "@jupyter-widgets/base",
            "_model_module_version": "1.2.0",
            "_model_name": "LayoutModel",
            "_view_count": null,
            "_view_module": "@jupyter-widgets/base",
            "_view_module_version": "1.2.0",
            "_view_name": "LayoutView",
            "align_content": null,
            "align_items": null,
            "align_self": null,
            "border": null,
            "bottom": null,
            "display": null,
            "flex": null,
            "flex_flow": null,
            "grid_area": null,
            "grid_auto_columns": null,
            "grid_auto_flow": null,
            "grid_auto_rows": null,
            "grid_column": null,
            "grid_gap": null,
            "grid_row": null,
            "grid_template_areas": null,
            "grid_template_columns": null,
            "grid_template_rows": null,
            "height": null,
            "justify_content": null,
            "justify_items": null,
            "left": null,
            "margin": null,
            "max_height": null,
            "max_width": null,
            "min_height": null,
            "min_width": null,
            "object_fit": null,
            "object_position": null,
            "order": null,
            "overflow": null,
            "overflow_x": null,
            "overflow_y": null,
            "padding": null,
            "right": null,
            "top": null,
            "visibility": null,
            "width": null
          }
        },
        "3a64f308aaf048baa63d336c61d064c0": {
          "model_module": "@jupyter-widgets/base",
          "model_module_version": "1.2.0",
          "model_name": "LayoutModel",
          "state": {
            "_model_module": "@jupyter-widgets/base",
            "_model_module_version": "1.2.0",
            "_model_name": "LayoutModel",
            "_view_count": null,
            "_view_module": "@jupyter-widgets/base",
            "_view_module_version": "1.2.0",
            "_view_name": "LayoutView",
            "align_content": null,
            "align_items": null,
            "align_self": null,
            "border": null,
            "bottom": null,
            "display": null,
            "flex": null,
            "flex_flow": null,
            "grid_area": null,
            "grid_auto_columns": null,
            "grid_auto_flow": null,
            "grid_auto_rows": null,
            "grid_column": null,
            "grid_gap": null,
            "grid_row": null,
            "grid_template_areas": null,
            "grid_template_columns": null,
            "grid_template_rows": null,
            "height": null,
            "justify_content": null,
            "justify_items": null,
            "left": null,
            "margin": null,
            "max_height": null,
            "max_width": null,
            "min_height": null,
            "min_width": null,
            "object_fit": null,
            "object_position": null,
            "order": null,
            "overflow": null,
            "overflow_x": null,
            "overflow_y": null,
            "padding": null,
            "right": null,
            "top": null,
            "visibility": null,
            "width": null
          }
        },
        "3d0c28599814465a8202c370d6c10cc8": {
          "model_module": "@jupyter-widgets/base",
          "model_module_version": "1.2.0",
          "model_name": "LayoutModel",
          "state": {
            "_model_module": "@jupyter-widgets/base",
            "_model_module_version": "1.2.0",
            "_model_name": "LayoutModel",
            "_view_count": null,
            "_view_module": "@jupyter-widgets/base",
            "_view_module_version": "1.2.0",
            "_view_name": "LayoutView",
            "align_content": null,
            "align_items": null,
            "align_self": null,
            "border": null,
            "bottom": null,
            "display": null,
            "flex": null,
            "flex_flow": null,
            "grid_area": null,
            "grid_auto_columns": null,
            "grid_auto_flow": null,
            "grid_auto_rows": null,
            "grid_column": null,
            "grid_gap": null,
            "grid_row": null,
            "grid_template_areas": null,
            "grid_template_columns": null,
            "grid_template_rows": null,
            "height": null,
            "justify_content": null,
            "justify_items": null,
            "left": null,
            "margin": null,
            "max_height": null,
            "max_width": null,
            "min_height": null,
            "min_width": null,
            "object_fit": null,
            "object_position": null,
            "order": null,
            "overflow": null,
            "overflow_x": null,
            "overflow_y": null,
            "padding": null,
            "right": null,
            "top": null,
            "visibility": null,
            "width": null
          }
        },
        "4e49b076b4524b6da648bde65d9cd40d": {
          "model_module": "@jupyter-widgets/controls",
          "model_module_version": "1.5.0",
          "model_name": "DescriptionStyleModel",
          "state": {
            "_model_module": "@jupyter-widgets/controls",
            "_model_module_version": "1.5.0",
            "_model_name": "DescriptionStyleModel",
            "_view_count": null,
            "_view_module": "@jupyter-widgets/base",
            "_view_module_version": "1.2.0",
            "_view_name": "StyleView",
            "description_width": ""
          }
        },
        "51d1b732b7714482b3ec1f1f559745cc": {
          "model_module": "@jupyter-widgets/controls",
          "model_module_version": "1.5.0",
          "model_name": "FloatProgressModel",
          "state": {
            "_dom_classes": [],
            "_model_module": "@jupyter-widgets/controls",
            "_model_module_version": "1.5.0",
            "_model_name": "FloatProgressModel",
            "_view_count": null,
            "_view_module": "@jupyter-widgets/controls",
            "_view_module_version": "1.5.0",
            "_view_name": "ProgressView",
            "bar_style": "success",
            "description": "",
            "description_tooltip": null,
            "layout": "IPY_MODEL_db34144009b04d4ab0395c287f1bb92a",
            "max": 548118077,
            "min": 0,
            "orientation": "horizontal",
            "style": "IPY_MODEL_31985d63257f49d79578b83aa4f84096",
            "value": 548118077
          }
        },
        "5201833ab7e54373b270207297ec1ada": {
          "model_module": "@jupyter-widgets/base",
          "model_module_version": "1.2.0",
          "model_name": "LayoutModel",
          "state": {
            "_model_module": "@jupyter-widgets/base",
            "_model_module_version": "1.2.0",
            "_model_name": "LayoutModel",
            "_view_count": null,
            "_view_module": "@jupyter-widgets/base",
            "_view_module_version": "1.2.0",
            "_view_name": "LayoutView",
            "align_content": null,
            "align_items": null,
            "align_self": null,
            "border": null,
            "bottom": null,
            "display": null,
            "flex": null,
            "flex_flow": null,
            "grid_area": null,
            "grid_auto_columns": null,
            "grid_auto_flow": null,
            "grid_auto_rows": null,
            "grid_column": null,
            "grid_gap": null,
            "grid_row": null,
            "grid_template_areas": null,
            "grid_template_columns": null,
            "grid_template_rows": null,
            "height": null,
            "justify_content": null,
            "justify_items": null,
            "left": null,
            "margin": null,
            "max_height": null,
            "max_width": null,
            "min_height": null,
            "min_width": null,
            "object_fit": null,
            "object_position": null,
            "order": null,
            "overflow": null,
            "overflow_x": null,
            "overflow_y": null,
            "padding": null,
            "right": null,
            "top": null,
            "visibility": null,
            "width": null
          }
        },
        "5477e5547bf14fb98288bae84703ee29": {
          "model_module": "@jupyter-widgets/controls",
          "model_module_version": "1.5.0",
          "model_name": "FloatProgressModel",
          "state": {
            "_dom_classes": [],
            "_model_module": "@jupyter-widgets/controls",
            "_model_module_version": "1.5.0",
            "_model_name": "FloatProgressModel",
            "_view_count": null,
            "_view_module": "@jupyter-widgets/controls",
            "_view_module_version": "1.5.0",
            "_view_name": "ProgressView",
            "bar_style": "success",
            "description": "",
            "description_tooltip": null,
            "layout": "IPY_MODEL_bff59375d9104c1986f09f024b6920ed",
            "max": 1042301,
            "min": 0,
            "orientation": "horizontal",
            "style": "IPY_MODEL_934ba052d2f64e779ffbf14efe408726",
            "value": 1042301
          }
        },
        "5642f7d34dfc41a090da5b51e148cb26": {
          "model_module": "@jupyter-widgets/base",
          "model_module_version": "1.2.0",
          "model_name": "LayoutModel",
          "state": {
            "_model_module": "@jupyter-widgets/base",
            "_model_module_version": "1.2.0",
            "_model_name": "LayoutModel",
            "_view_count": null,
            "_view_module": "@jupyter-widgets/base",
            "_view_module_version": "1.2.0",
            "_view_name": "LayoutView",
            "align_content": null,
            "align_items": null,
            "align_self": null,
            "border": null,
            "bottom": null,
            "display": null,
            "flex": null,
            "flex_flow": null,
            "grid_area": null,
            "grid_auto_columns": null,
            "grid_auto_flow": null,
            "grid_auto_rows": null,
            "grid_column": null,
            "grid_gap": null,
            "grid_row": null,
            "grid_template_areas": null,
            "grid_template_columns": null,
            "grid_template_rows": null,
            "height": null,
            "justify_content": null,
            "justify_items": null,
            "left": null,
            "margin": null,
            "max_height": null,
            "max_width": null,
            "min_height": null,
            "min_width": null,
            "object_fit": null,
            "object_position": null,
            "order": null,
            "overflow": null,
            "overflow_x": null,
            "overflow_y": null,
            "padding": null,
            "right": null,
            "top": null,
            "visibility": null,
            "width": null
          }
        },
        "5e709c2355cb495dbf84cb194d9dbe93": {
          "model_module": "@jupyter-widgets/base",
          "model_module_version": "1.2.0",
          "model_name": "LayoutModel",
          "state": {
            "_model_module": "@jupyter-widgets/base",
            "_model_module_version": "1.2.0",
            "_model_name": "LayoutModel",
            "_view_count": null,
            "_view_module": "@jupyter-widgets/base",
            "_view_module_version": "1.2.0",
            "_view_name": "LayoutView",
            "align_content": null,
            "align_items": null,
            "align_self": null,
            "border": null,
            "bottom": null,
            "display": null,
            "flex": null,
            "flex_flow": null,
            "grid_area": null,
            "grid_auto_columns": null,
            "grid_auto_flow": null,
            "grid_auto_rows": null,
            "grid_column": null,
            "grid_gap": null,
            "grid_row": null,
            "grid_template_areas": null,
            "grid_template_columns": null,
            "grid_template_rows": null,
            "height": null,
            "justify_content": null,
            "justify_items": null,
            "left": null,
            "margin": null,
            "max_height": null,
            "max_width": null,
            "min_height": null,
            "min_width": null,
            "object_fit": null,
            "object_position": null,
            "order": null,
            "overflow": null,
            "overflow_x": null,
            "overflow_y": null,
            "padding": null,
            "right": null,
            "top": null,
            "visibility": null,
            "width": null
          }
        },
        "61452ebd779a46089a34baec1cbfe04e": {
          "model_module": "@jupyter-widgets/controls",
          "model_module_version": "1.5.0",
          "model_name": "DescriptionStyleModel",
          "state": {
            "_model_module": "@jupyter-widgets/controls",
            "_model_module_version": "1.5.0",
            "_model_name": "DescriptionStyleModel",
            "_view_count": null,
            "_view_module": "@jupyter-widgets/base",
            "_view_module_version": "1.2.0",
            "_view_name": "StyleView",
            "description_width": ""
          }
        },
        "66af6551b0fa4218a539bb519149a34c": {
          "model_module": "@jupyter-widgets/controls",
          "model_module_version": "1.5.0",
          "model_name": "DescriptionStyleModel",
          "state": {
            "_model_module": "@jupyter-widgets/controls",
            "_model_module_version": "1.5.0",
            "_model_name": "DescriptionStyleModel",
            "_view_count": null,
            "_view_module": "@jupyter-widgets/base",
            "_view_module_version": "1.2.0",
            "_view_name": "StyleView",
            "description_width": ""
          }
        },
        "6d8b754de0214831bdbc3f33b4349e3f": {
          "model_module": "@jupyter-widgets/controls",
          "model_module_version": "1.5.0",
          "model_name": "HTMLModel",
          "state": {
            "_dom_classes": [],
            "_model_module": "@jupyter-widgets/controls",
            "_model_module_version": "1.5.0",
            "_model_name": "HTMLModel",
            "_view_count": null,
            "_view_module": "@jupyter-widgets/controls",
            "_view_module_version": "1.5.0",
            "_view_name": "HTMLView",
            "description": "",
            "description_tooltip": null,
            "layout": "IPY_MODEL_2f5467c3d252417192fd40416ed21ab1",
            "placeholder": "​",
            "style": "IPY_MODEL_cd4eb6c24838492dbcc91974f2fa3af4",
            "value": " 456k/456k [00:00&lt;00:00, 29.7MB/s]"
          }
        },
        "6e95166db5cd45378675a89e26a111f9": {
          "model_module": "@jupyter-widgets/controls",
          "model_module_version": "1.5.0",
          "model_name": "FloatProgressModel",
          "state": {
            "_dom_classes": [],
            "_model_module": "@jupyter-widgets/controls",
            "_model_module_version": "1.5.0",
            "_model_name": "FloatProgressModel",
            "_view_count": null,
            "_view_module": "@jupyter-widgets/controls",
            "_view_module_version": "1.5.0",
            "_view_name": "ProgressView",
            "bar_style": "success",
            "description": "",
            "description_tooltip": null,
            "layout": "IPY_MODEL_bb7f75a222a54846827db687cbe208ea",
            "max": 184990,
            "min": 0,
            "orientation": "horizontal",
            "style": "IPY_MODEL_e7dcbce3c2db4869988d5b65daecf354",
            "value": 184990
          }
        },
        "73dbc05638fc490b96b6fa668d881dfc": {
          "model_module": "@jupyter-widgets/controls",
          "model_module_version": "1.5.0",
          "model_name": "HBoxModel",
          "state": {
            "_dom_classes": [],
            "_model_module": "@jupyter-widgets/controls",
            "_model_module_version": "1.5.0",
            "_model_name": "HBoxModel",
            "_view_count": null,
            "_view_module": "@jupyter-widgets/controls",
            "_view_module_version": "1.5.0",
            "_view_name": "HBoxView",
            "box_style": "",
            "children": [
              "IPY_MODEL_9fd795afdc224a53997c822c4d63a070",
              "IPY_MODEL_51d1b732b7714482b3ec1f1f559745cc",
              "IPY_MODEL_7b25ace4be0a42d195a6889f774a909f"
            ],
            "layout": "IPY_MODEL_8c08eba3cc5c4ec28d65c751efda49a8"
          }
        },
        "7b25ace4be0a42d195a6889f774a909f": {
          "model_module": "@jupyter-widgets/controls",
          "model_module_version": "1.5.0",
          "model_name": "HTMLModel",
          "state": {
            "_dom_classes": [],
            "_model_module": "@jupyter-widgets/controls",
            "_model_module_version": "1.5.0",
            "_model_name": "HTMLModel",
            "_view_count": null,
            "_view_module": "@jupyter-widgets/controls",
            "_view_module_version": "1.5.0",
            "_view_name": "HTMLView",
            "description": "",
            "description_tooltip": null,
            "layout": "IPY_MODEL_eea5c99eb4584725ad6c7a5db5950e94",
            "placeholder": "​",
            "style": "IPY_MODEL_d634a13a26be428b9842196ec8a9a914",
            "value": " 548M/548M [00:06&lt;00:00, 88.5MB/s]"
          }
        },
        "7cb63d7a552c4660a4ed59ceab84ae98": {
          "model_module": "@jupyter-widgets/controls",
          "model_module_version": "1.5.0",
          "model_name": "DescriptionStyleModel",
          "state": {
            "_model_module": "@jupyter-widgets/controls",
            "_model_module_version": "1.5.0",
            "_model_name": "DescriptionStyleModel",
            "_view_count": null,
            "_view_module": "@jupyter-widgets/base",
            "_view_module_version": "1.2.0",
            "_view_name": "StyleView",
            "description_width": ""
          }
        },
        "7d99da35e95e43799f1cd7e2d10a9a25": {
          "model_module": "@jupyter-widgets/controls",
          "model_module_version": "1.5.0",
          "model_name": "DescriptionStyleModel",
          "state": {
            "_model_module": "@jupyter-widgets/controls",
            "_model_module_version": "1.5.0",
            "_model_name": "DescriptionStyleModel",
            "_view_count": null,
            "_view_module": "@jupyter-widgets/base",
            "_view_module_version": "1.2.0",
            "_view_name": "StyleView",
            "description_width": ""
          }
        },
        "7e7f5319bdea4979a5aa1fecfcbfec33": {
          "model_module": "@jupyter-widgets/controls",
          "model_module_version": "1.5.0",
          "model_name": "HTMLModel",
          "state": {
            "_dom_classes": [],
            "_model_module": "@jupyter-widgets/controls",
            "_model_module_version": "1.5.0",
            "_model_name": "HTMLModel",
            "_view_count": null,
            "_view_module": "@jupyter-widgets/controls",
            "_view_module_version": "1.5.0",
            "_view_name": "HTMLView",
            "description": "",
            "description_tooltip": null,
            "layout": "IPY_MODEL_3a64f308aaf048baa63d336c61d064c0",
            "placeholder": "​",
            "style": "IPY_MODEL_66af6551b0fa4218a539bb519149a34c",
            "value": "Downloading pytorch_model.bin: 100%"
          }
        },
        "7fcf4e3f01364c65836d9e1f57daf0fb": {
          "model_module": "@jupyter-widgets/base",
          "model_module_version": "1.2.0",
          "model_name": "LayoutModel",
          "state": {
            "_model_module": "@jupyter-widgets/base",
            "_model_module_version": "1.2.0",
            "_model_name": "LayoutModel",
            "_view_count": null,
            "_view_module": "@jupyter-widgets/base",
            "_view_module_version": "1.2.0",
            "_view_name": "LayoutView",
            "align_content": null,
            "align_items": null,
            "align_self": null,
            "border": null,
            "bottom": null,
            "display": null,
            "flex": null,
            "flex_flow": null,
            "grid_area": null,
            "grid_auto_columns": null,
            "grid_auto_flow": null,
            "grid_auto_rows": null,
            "grid_column": null,
            "grid_gap": null,
            "grid_row": null,
            "grid_template_areas": null,
            "grid_template_columns": null,
            "grid_template_rows": null,
            "height": null,
            "justify_content": null,
            "justify_items": null,
            "left": null,
            "margin": null,
            "max_height": null,
            "max_width": null,
            "min_height": null,
            "min_width": null,
            "object_fit": null,
            "object_position": null,
            "order": null,
            "overflow": null,
            "overflow_x": null,
            "overflow_y": null,
            "padding": null,
            "right": null,
            "top": null,
            "visibility": null,
            "width": null
          }
        },
        "85792b2c8e9e4a4ca82f5abf35de9747": {
          "model_module": "@jupyter-widgets/base",
          "model_module_version": "1.2.0",
          "model_name": "LayoutModel",
          "state": {
            "_model_module": "@jupyter-widgets/base",
            "_model_module_version": "1.2.0",
            "_model_name": "LayoutModel",
            "_view_count": null,
            "_view_module": "@jupyter-widgets/base",
            "_view_module_version": "1.2.0",
            "_view_name": "LayoutView",
            "align_content": null,
            "align_items": null,
            "align_self": null,
            "border": null,
            "bottom": null,
            "display": null,
            "flex": null,
            "flex_flow": null,
            "grid_area": null,
            "grid_auto_columns": null,
            "grid_auto_flow": null,
            "grid_auto_rows": null,
            "grid_column": null,
            "grid_gap": null,
            "grid_row": null,
            "grid_template_areas": null,
            "grid_template_columns": null,
            "grid_template_rows": null,
            "height": null,
            "justify_content": null,
            "justify_items": null,
            "left": null,
            "margin": null,
            "max_height": null,
            "max_width": null,
            "min_height": null,
            "min_width": null,
            "object_fit": null,
            "object_position": null,
            "order": null,
            "overflow": null,
            "overflow_x": null,
            "overflow_y": null,
            "padding": null,
            "right": null,
            "top": null,
            "visibility": null,
            "width": null
          }
        },
        "8586377bbf204cfeb0a662bfc9e71eaf": {
          "model_module": "@jupyter-widgets/base",
          "model_module_version": "1.2.0",
          "model_name": "LayoutModel",
          "state": {
            "_model_module": "@jupyter-widgets/base",
            "_model_module_version": "1.2.0",
            "_model_name": "LayoutModel",
            "_view_count": null,
            "_view_module": "@jupyter-widgets/base",
            "_view_module_version": "1.2.0",
            "_view_name": "LayoutView",
            "align_content": null,
            "align_items": null,
            "align_self": null,
            "border": null,
            "bottom": null,
            "display": null,
            "flex": null,
            "flex_flow": null,
            "grid_area": null,
            "grid_auto_columns": null,
            "grid_auto_flow": null,
            "grid_auto_rows": null,
            "grid_column": null,
            "grid_gap": null,
            "grid_row": null,
            "grid_template_areas": null,
            "grid_template_columns": null,
            "grid_template_rows": null,
            "height": null,
            "justify_content": null,
            "justify_items": null,
            "left": null,
            "margin": null,
            "max_height": null,
            "max_width": null,
            "min_height": null,
            "min_width": null,
            "object_fit": null,
            "object_position": null,
            "order": null,
            "overflow": null,
            "overflow_x": null,
            "overflow_y": null,
            "padding": null,
            "right": null,
            "top": null,
            "visibility": null,
            "width": null
          }
        },
        "88f8c9c82cf64c398efcd24d13be7fd0": {
          "model_module": "@jupyter-widgets/base",
          "model_module_version": "1.2.0",
          "model_name": "LayoutModel",
          "state": {
            "_model_module": "@jupyter-widgets/base",
            "_model_module_version": "1.2.0",
            "_model_name": "LayoutModel",
            "_view_count": null,
            "_view_module": "@jupyter-widgets/base",
            "_view_module_version": "1.2.0",
            "_view_name": "LayoutView",
            "align_content": null,
            "align_items": null,
            "align_self": null,
            "border": null,
            "bottom": null,
            "display": null,
            "flex": null,
            "flex_flow": null,
            "grid_area": null,
            "grid_auto_columns": null,
            "grid_auto_flow": null,
            "grid_auto_rows": null,
            "grid_column": null,
            "grid_gap": null,
            "grid_row": null,
            "grid_template_areas": null,
            "grid_template_columns": null,
            "grid_template_rows": null,
            "height": null,
            "justify_content": null,
            "justify_items": null,
            "left": null,
            "margin": null,
            "max_height": null,
            "max_width": null,
            "min_height": null,
            "min_width": null,
            "object_fit": null,
            "object_position": null,
            "order": null,
            "overflow": null,
            "overflow_x": null,
            "overflow_y": null,
            "padding": null,
            "right": null,
            "top": null,
            "visibility": null,
            "width": null
          }
        },
        "8c08eba3cc5c4ec28d65c751efda49a8": {
          "model_module": "@jupyter-widgets/base",
          "model_module_version": "1.2.0",
          "model_name": "LayoutModel",
          "state": {
            "_model_module": "@jupyter-widgets/base",
            "_model_module_version": "1.2.0",
            "_model_name": "LayoutModel",
            "_view_count": null,
            "_view_module": "@jupyter-widgets/base",
            "_view_module_version": "1.2.0",
            "_view_name": "LayoutView",
            "align_content": null,
            "align_items": null,
            "align_self": null,
            "border": null,
            "bottom": null,
            "display": null,
            "flex": null,
            "flex_flow": null,
            "grid_area": null,
            "grid_auto_columns": null,
            "grid_auto_flow": null,
            "grid_auto_rows": null,
            "grid_column": null,
            "grid_gap": null,
            "grid_row": null,
            "grid_template_areas": null,
            "grid_template_columns": null,
            "grid_template_rows": null,
            "height": null,
            "justify_content": null,
            "justify_items": null,
            "left": null,
            "margin": null,
            "max_height": null,
            "max_width": null,
            "min_height": null,
            "min_width": null,
            "object_fit": null,
            "object_position": null,
            "order": null,
            "overflow": null,
            "overflow_x": null,
            "overflow_y": null,
            "padding": null,
            "right": null,
            "top": null,
            "visibility": null,
            "width": null
          }
        },
        "8db2eb2e809f44e5b29caaaa1b661d93": {
          "model_module": "@jupyter-widgets/controls",
          "model_module_version": "1.5.0",
          "model_name": "FloatProgressModel",
          "state": {
            "_dom_classes": [],
            "_model_module": "@jupyter-widgets/controls",
            "_model_module_version": "1.5.0",
            "_model_name": "FloatProgressModel",
            "_view_count": null,
            "_view_module": "@jupyter-widgets/controls",
            "_view_module_version": "1.5.0",
            "_view_name": "ProgressView",
            "bar_style": "success",
            "description": "",
            "description_tooltip": null,
            "layout": "IPY_MODEL_393f14432d1449febeedbf3994ea6790",
            "max": 456318,
            "min": 0,
            "orientation": "horizontal",
            "style": "IPY_MODEL_3346c72b178140aaa0cf67823c89cf6a",
            "value": 456318
          }
        },
        "90b263a27cd0403aa170809f72a4d849": {
          "model_module": "@jupyter-widgets/base",
          "model_module_version": "1.2.0",
          "model_name": "LayoutModel",
          "state": {
            "_model_module": "@jupyter-widgets/base",
            "_model_module_version": "1.2.0",
            "_model_name": "LayoutModel",
            "_view_count": null,
            "_view_module": "@jupyter-widgets/base",
            "_view_module_version": "1.2.0",
            "_view_name": "LayoutView",
            "align_content": null,
            "align_items": null,
            "align_self": null,
            "border": null,
            "bottom": null,
            "display": null,
            "flex": null,
            "flex_flow": null,
            "grid_area": null,
            "grid_auto_columns": null,
            "grid_auto_flow": null,
            "grid_auto_rows": null,
            "grid_column": null,
            "grid_gap": null,
            "grid_row": null,
            "grid_template_areas": null,
            "grid_template_columns": null,
            "grid_template_rows": null,
            "height": null,
            "justify_content": null,
            "justify_items": null,
            "left": null,
            "margin": null,
            "max_height": null,
            "max_width": null,
            "min_height": null,
            "min_width": null,
            "object_fit": null,
            "object_position": null,
            "order": null,
            "overflow": null,
            "overflow_x": null,
            "overflow_y": null,
            "padding": null,
            "right": null,
            "top": null,
            "visibility": null,
            "width": null
          }
        },
        "923f25b994184f14a4aa5d14debac710": {
          "model_module": "@jupyter-widgets/controls",
          "model_module_version": "1.5.0",
          "model_name": "ProgressStyleModel",
          "state": {
            "_model_module": "@jupyter-widgets/controls",
            "_model_module_version": "1.5.0",
            "_model_name": "ProgressStyleModel",
            "_view_count": null,
            "_view_module": "@jupyter-widgets/base",
            "_view_module_version": "1.2.0",
            "_view_name": "StyleView",
            "bar_color": null,
            "description_width": ""
          }
        },
        "934ba052d2f64e779ffbf14efe408726": {
          "model_module": "@jupyter-widgets/controls",
          "model_module_version": "1.5.0",
          "model_name": "ProgressStyleModel",
          "state": {
            "_model_module": "@jupyter-widgets/controls",
            "_model_module_version": "1.5.0",
            "_model_name": "ProgressStyleModel",
            "_view_count": null,
            "_view_module": "@jupyter-widgets/base",
            "_view_module_version": "1.2.0",
            "_view_name": "StyleView",
            "bar_color": null,
            "description_width": ""
          }
        },
        "9bd21cbdddba4fc58fbf2bd4031d1950": {
          "model_module": "@jupyter-widgets/controls",
          "model_module_version": "1.5.0",
          "model_name": "HBoxModel",
          "state": {
            "_dom_classes": [],
            "_model_module": "@jupyter-widgets/controls",
            "_model_module_version": "1.5.0",
            "_model_name": "HBoxModel",
            "_view_count": null,
            "_view_module": "@jupyter-widgets/controls",
            "_view_module_version": "1.5.0",
            "_view_name": "HBoxView",
            "box_style": "",
            "children": [
              "IPY_MODEL_33b83e59d93d4b67a25c25a72bf13f64",
              "IPY_MODEL_8db2eb2e809f44e5b29caaaa1b661d93",
              "IPY_MODEL_6d8b754de0214831bdbc3f33b4349e3f"
            ],
            "layout": "IPY_MODEL_3d0c28599814465a8202c370d6c10cc8"
          }
        },
        "9dfcf685b2a14e85a86f90113863a916": {
          "model_module": "@jupyter-widgets/controls",
          "model_module_version": "1.5.0",
          "model_name": "FloatProgressModel",
          "state": {
            "_dom_classes": [],
            "_model_module": "@jupyter-widgets/controls",
            "_model_module_version": "1.5.0",
            "_model_name": "FloatProgressModel",
            "_view_count": null,
            "_view_module": "@jupyter-widgets/controls",
            "_view_module_version": "1.5.0",
            "_view_name": "ProgressView",
            "bar_style": "success",
            "description": "",
            "description_tooltip": null,
            "layout": "IPY_MODEL_85792b2c8e9e4a4ca82f5abf35de9747",
            "max": 290453207,
            "min": 0,
            "orientation": "horizontal",
            "style": "IPY_MODEL_923f25b994184f14a4aa5d14debac710",
            "value": 290453207
          }
        },
        "9fd795afdc224a53997c822c4d63a070": {
          "model_module": "@jupyter-widgets/controls",
          "model_module_version": "1.5.0",
          "model_name": "HTMLModel",
          "state": {
            "_dom_classes": [],
            "_model_module": "@jupyter-widgets/controls",
            "_model_module_version": "1.5.0",
            "_model_name": "HTMLModel",
            "_view_count": null,
            "_view_module": "@jupyter-widgets/controls",
            "_view_module_version": "1.5.0",
            "_view_name": "HTMLView",
            "description": "",
            "description_tooltip": null,
            "layout": "IPY_MODEL_c37d5567c5554175ad2d6be221c55902",
            "placeholder": "​",
            "style": "IPY_MODEL_a084eaa1523640a1b8d6407b70b8fcb8",
            "value": "Downloading pytorch_model.bin: 100%"
          }
        },
        "a02cbd4ac3134130abf4910e3be65cc7": {
          "model_module": "@jupyter-widgets/controls",
          "model_module_version": "1.5.0",
          "model_name": "DescriptionStyleModel",
          "state": {
            "_model_module": "@jupyter-widgets/controls",
            "_model_module_version": "1.5.0",
            "_model_name": "DescriptionStyleModel",
            "_view_count": null,
            "_view_module": "@jupyter-widgets/base",
            "_view_module_version": "1.2.0",
            "_view_name": "StyleView",
            "description_width": ""
          }
        },
        "a084eaa1523640a1b8d6407b70b8fcb8": {
          "model_module": "@jupyter-widgets/controls",
          "model_module_version": "1.5.0",
          "model_name": "DescriptionStyleModel",
          "state": {
            "_model_module": "@jupyter-widgets/controls",
            "_model_module_version": "1.5.0",
            "_model_name": "DescriptionStyleModel",
            "_view_count": null,
            "_view_module": "@jupyter-widgets/base",
            "_view_module_version": "1.2.0",
            "_view_name": "StyleView",
            "description_width": ""
          }
        },
        "a1abaef335b14a81be938446a4687bec": {
          "model_module": "@jupyter-widgets/controls",
          "model_module_version": "1.5.0",
          "model_name": "HTMLModel",
          "state": {
            "_dom_classes": [],
            "_model_module": "@jupyter-widgets/controls",
            "_model_module_version": "1.5.0",
            "_model_name": "HTMLModel",
            "_view_count": null,
            "_view_module": "@jupyter-widgets/controls",
            "_view_module_version": "1.5.0",
            "_view_name": "HTMLView",
            "description": "",
            "description_tooltip": null,
            "layout": "IPY_MODEL_5642f7d34dfc41a090da5b51e148cb26",
            "placeholder": "​",
            "style": "IPY_MODEL_7d99da35e95e43799f1cd7e2d10a9a25",
            "value": "Downloading (…)lve/main/config.json: 100%"
          }
        },
        "a440f1062819466493a0067c72028143": {
          "model_module": "@jupyter-widgets/base",
          "model_module_version": "1.2.0",
          "model_name": "LayoutModel",
          "state": {
            "_model_module": "@jupyter-widgets/base",
            "_model_module_version": "1.2.0",
            "_model_name": "LayoutModel",
            "_view_count": null,
            "_view_module": "@jupyter-widgets/base",
            "_view_module_version": "1.2.0",
            "_view_name": "LayoutView",
            "align_content": null,
            "align_items": null,
            "align_self": null,
            "border": null,
            "bottom": null,
            "display": null,
            "flex": null,
            "flex_flow": null,
            "grid_area": null,
            "grid_auto_columns": null,
            "grid_auto_flow": null,
            "grid_auto_rows": null,
            "grid_column": null,
            "grid_gap": null,
            "grid_row": null,
            "grid_template_areas": null,
            "grid_template_columns": null,
            "grid_template_rows": null,
            "height": null,
            "justify_content": null,
            "justify_items": null,
            "left": null,
            "margin": null,
            "max_height": null,
            "max_width": null,
            "min_height": null,
            "min_width": null,
            "object_fit": null,
            "object_position": null,
            "order": null,
            "overflow": null,
            "overflow_x": null,
            "overflow_y": null,
            "padding": null,
            "right": null,
            "top": null,
            "visibility": null,
            "width": null
          }
        },
        "a508d2c45b9844998bd338717f777d49": {
          "model_module": "@jupyter-widgets/controls",
          "model_module_version": "1.5.0",
          "model_name": "HTMLModel",
          "state": {
            "_dom_classes": [],
            "_model_module": "@jupyter-widgets/controls",
            "_model_module_version": "1.5.0",
            "_model_name": "HTMLModel",
            "_view_count": null,
            "_view_module": "@jupyter-widgets/controls",
            "_view_module_version": "1.5.0",
            "_view_name": "HTMLView",
            "description": "",
            "description_tooltip": null,
            "layout": "IPY_MODEL_b82ac7af6eda484fa6dc7b62b2c7391a",
            "placeholder": "​",
            "style": "IPY_MODEL_7cb63d7a552c4660a4ed59ceab84ae98",
            "value": "Downloading (…)rocessor_config.json: 100%"
          }
        },
        "a5c7ef98d0e64a28afca4c7f3ab338a9": {
          "model_module": "@jupyter-widgets/base",
          "model_module_version": "1.2.0",
          "model_name": "LayoutModel",
          "state": {
            "_model_module": "@jupyter-widgets/base",
            "_model_module_version": "1.2.0",
            "_model_name": "LayoutModel",
            "_view_count": null,
            "_view_module": "@jupyter-widgets/base",
            "_view_module_version": "1.2.0",
            "_view_name": "LayoutView",
            "align_content": null,
            "align_items": null,
            "align_self": null,
            "border": null,
            "bottom": null,
            "display": null,
            "flex": null,
            "flex_flow": null,
            "grid_area": null,
            "grid_auto_columns": null,
            "grid_auto_flow": null,
            "grid_auto_rows": null,
            "grid_column": null,
            "grid_gap": null,
            "grid_row": null,
            "grid_template_areas": null,
            "grid_template_columns": null,
            "grid_template_rows": null,
            "height": null,
            "justify_content": null,
            "justify_items": null,
            "left": null,
            "margin": null,
            "max_height": null,
            "max_width": null,
            "min_height": null,
            "min_width": null,
            "object_fit": null,
            "object_position": null,
            "order": null,
            "overflow": null,
            "overflow_x": null,
            "overflow_y": null,
            "padding": null,
            "right": null,
            "top": null,
            "visibility": null,
            "width": null
          }
        },
        "b45552e755264dd8bf9f7c04dfeb2fb9": {
          "model_module": "@jupyter-widgets/base",
          "model_module_version": "1.2.0",
          "model_name": "LayoutModel",
          "state": {
            "_model_module": "@jupyter-widgets/base",
            "_model_module_version": "1.2.0",
            "_model_name": "LayoutModel",
            "_view_count": null,
            "_view_module": "@jupyter-widgets/base",
            "_view_module_version": "1.2.0",
            "_view_name": "LayoutView",
            "align_content": null,
            "align_items": null,
            "align_self": null,
            "border": null,
            "bottom": null,
            "display": null,
            "flex": null,
            "flex_flow": null,
            "grid_area": null,
            "grid_auto_columns": null,
            "grid_auto_flow": null,
            "grid_auto_rows": null,
            "grid_column": null,
            "grid_gap": null,
            "grid_row": null,
            "grid_template_areas": null,
            "grid_template_columns": null,
            "grid_template_rows": null,
            "height": null,
            "justify_content": null,
            "justify_items": null,
            "left": null,
            "margin": null,
            "max_height": null,
            "max_width": null,
            "min_height": null,
            "min_width": null,
            "object_fit": null,
            "object_position": null,
            "order": null,
            "overflow": null,
            "overflow_x": null,
            "overflow_y": null,
            "padding": null,
            "right": null,
            "top": null,
            "visibility": null,
            "width": null
          }
        },
        "b4d92baeb51542df9c3033f7cdfdfa1a": {
          "model_module": "@jupyter-widgets/base",
          "model_module_version": "1.2.0",
          "model_name": "LayoutModel",
          "state": {
            "_model_module": "@jupyter-widgets/base",
            "_model_module_version": "1.2.0",
            "_model_name": "LayoutModel",
            "_view_count": null,
            "_view_module": "@jupyter-widgets/base",
            "_view_module_version": "1.2.0",
            "_view_name": "LayoutView",
            "align_content": null,
            "align_items": null,
            "align_self": null,
            "border": null,
            "bottom": null,
            "display": null,
            "flex": null,
            "flex_flow": null,
            "grid_area": null,
            "grid_auto_columns": null,
            "grid_auto_flow": null,
            "grid_auto_rows": null,
            "grid_column": null,
            "grid_gap": null,
            "grid_row": null,
            "grid_template_areas": null,
            "grid_template_columns": null,
            "grid_template_rows": null,
            "height": null,
            "justify_content": null,
            "justify_items": null,
            "left": null,
            "margin": null,
            "max_height": null,
            "max_width": null,
            "min_height": null,
            "min_width": null,
            "object_fit": null,
            "object_position": null,
            "order": null,
            "overflow": null,
            "overflow_x": null,
            "overflow_y": null,
            "padding": null,
            "right": null,
            "top": null,
            "visibility": null,
            "width": null
          }
        },
        "b82ac7af6eda484fa6dc7b62b2c7391a": {
          "model_module": "@jupyter-widgets/base",
          "model_module_version": "1.2.0",
          "model_name": "LayoutModel",
          "state": {
            "_model_module": "@jupyter-widgets/base",
            "_model_module_version": "1.2.0",
            "_model_name": "LayoutModel",
            "_view_count": null,
            "_view_module": "@jupyter-widgets/base",
            "_view_module_version": "1.2.0",
            "_view_name": "LayoutView",
            "align_content": null,
            "align_items": null,
            "align_self": null,
            "border": null,
            "bottom": null,
            "display": null,
            "flex": null,
            "flex_flow": null,
            "grid_area": null,
            "grid_auto_columns": null,
            "grid_auto_flow": null,
            "grid_auto_rows": null,
            "grid_column": null,
            "grid_gap": null,
            "grid_row": null,
            "grid_template_areas": null,
            "grid_template_columns": null,
            "grid_template_rows": null,
            "height": null,
            "justify_content": null,
            "justify_items": null,
            "left": null,
            "margin": null,
            "max_height": null,
            "max_width": null,
            "min_height": null,
            "min_width": null,
            "object_fit": null,
            "object_position": null,
            "order": null,
            "overflow": null,
            "overflow_x": null,
            "overflow_y": null,
            "padding": null,
            "right": null,
            "top": null,
            "visibility": null,
            "width": null
          }
        },
        "b85a716f59fe42ddb145228f17fb3eee": {
          "model_module": "@jupyter-widgets/controls",
          "model_module_version": "1.5.0",
          "model_name": "DescriptionStyleModel",
          "state": {
            "_model_module": "@jupyter-widgets/controls",
            "_model_module_version": "1.5.0",
            "_model_name": "DescriptionStyleModel",
            "_view_count": null,
            "_view_module": "@jupyter-widgets/base",
            "_view_module_version": "1.2.0",
            "_view_name": "StyleView",
            "description_width": ""
          }
        },
        "bb7f75a222a54846827db687cbe208ea": {
          "model_module": "@jupyter-widgets/base",
          "model_module_version": "1.2.0",
          "model_name": "LayoutModel",
          "state": {
            "_model_module": "@jupyter-widgets/base",
            "_model_module_version": "1.2.0",
            "_model_name": "LayoutModel",
            "_view_count": null,
            "_view_module": "@jupyter-widgets/base",
            "_view_module_version": "1.2.0",
            "_view_name": "LayoutView",
            "align_content": null,
            "align_items": null,
            "align_self": null,
            "border": null,
            "bottom": null,
            "display": null,
            "flex": null,
            "flex_flow": null,
            "grid_area": null,
            "grid_auto_columns": null,
            "grid_auto_flow": null,
            "grid_auto_rows": null,
            "grid_column": null,
            "grid_gap": null,
            "grid_row": null,
            "grid_template_areas": null,
            "grid_template_columns": null,
            "grid_template_rows": null,
            "height": null,
            "justify_content": null,
            "justify_items": null,
            "left": null,
            "margin": null,
            "max_height": null,
            "max_width": null,
            "min_height": null,
            "min_width": null,
            "object_fit": null,
            "object_position": null,
            "order": null,
            "overflow": null,
            "overflow_x": null,
            "overflow_y": null,
            "padding": null,
            "right": null,
            "top": null,
            "visibility": null,
            "width": null
          }
        },
        "bd0092b2bd6e4d7898a6b278c08977dd": {
          "model_module": "@jupyter-widgets/controls",
          "model_module_version": "1.5.0",
          "model_name": "FloatProgressModel",
          "state": {
            "_dom_classes": [],
            "_model_module": "@jupyter-widgets/controls",
            "_model_module_version": "1.5.0",
            "_model_name": "FloatProgressModel",
            "_view_count": null,
            "_view_module": "@jupyter-widgets/controls",
            "_view_module_version": "1.5.0",
            "_view_name": "ProgressView",
            "bar_style": "success",
            "description": "",
            "description_tooltip": null,
            "layout": "IPY_MODEL_a5c7ef98d0e64a28afca4c7f3ab338a9",
            "max": 124,
            "min": 0,
            "orientation": "horizontal",
            "style": "IPY_MODEL_e2039dcbf6744eeda5c093456fa78278",
            "value": 124
          }
        },
        "bff59375d9104c1986f09f024b6920ed": {
          "model_module": "@jupyter-widgets/base",
          "model_module_version": "1.2.0",
          "model_name": "LayoutModel",
          "state": {
            "_model_module": "@jupyter-widgets/base",
            "_model_module_version": "1.2.0",
            "_model_name": "LayoutModel",
            "_view_count": null,
            "_view_module": "@jupyter-widgets/base",
            "_view_module_version": "1.2.0",
            "_view_name": "LayoutView",
            "align_content": null,
            "align_items": null,
            "align_self": null,
            "border": null,
            "bottom": null,
            "display": null,
            "flex": null,
            "flex_flow": null,
            "grid_area": null,
            "grid_auto_columns": null,
            "grid_auto_flow": null,
            "grid_auto_rows": null,
            "grid_column": null,
            "grid_gap": null,
            "grid_row": null,
            "grid_template_areas": null,
            "grid_template_columns": null,
            "grid_template_rows": null,
            "height": null,
            "justify_content": null,
            "justify_items": null,
            "left": null,
            "margin": null,
            "max_height": null,
            "max_width": null,
            "min_height": null,
            "min_width": null,
            "object_fit": null,
            "object_position": null,
            "order": null,
            "overflow": null,
            "overflow_x": null,
            "overflow_y": null,
            "padding": null,
            "right": null,
            "top": null,
            "visibility": null,
            "width": null
          }
        },
        "c17644395e05458d869f033eb4bc7065": {
          "model_module": "@jupyter-widgets/controls",
          "model_module_version": "1.5.0",
          "model_name": "FloatProgressModel",
          "state": {
            "_dom_classes": [],
            "_model_module": "@jupyter-widgets/controls",
            "_model_module_version": "1.5.0",
            "_model_name": "FloatProgressModel",
            "_view_count": null,
            "_view_module": "@jupyter-widgets/controls",
            "_view_module_version": "1.5.0",
            "_view_name": "ProgressView",
            "bar_style": "success",
            "description": "",
            "description_tooltip": null,
            "layout": "IPY_MODEL_90b263a27cd0403aa170809f72a4d849",
            "max": 1983,
            "min": 0,
            "orientation": "horizontal",
            "style": "IPY_MODEL_f71a0dda3f45445b8c860d1d8fa6fe50",
            "value": 1983
          }
        },
        "c3298cfdb8a5402db9e73165eb2b293b": {
          "model_module": "@jupyter-widgets/controls",
          "model_module_version": "1.5.0",
          "model_name": "HBoxModel",
          "state": {
            "_dom_classes": [],
            "_model_module": "@jupyter-widgets/controls",
            "_model_module_version": "1.5.0",
            "_model_name": "HBoxModel",
            "_view_count": null,
            "_view_module": "@jupyter-widgets/controls",
            "_view_module_version": "1.5.0",
            "_view_name": "HBoxView",
            "box_style": "",
            "children": [
              "IPY_MODEL_37b9b4a4ccab4855be53f21c97bd3419",
              "IPY_MODEL_bd0092b2bd6e4d7898a6b278c08977dd",
              "IPY_MODEL_f2417d6947b24638817c88b37aeaf52e"
            ],
            "layout": "IPY_MODEL_340187772a8d4c559778a9e8c94536f0"
          }
        },
        "c37d5567c5554175ad2d6be221c55902": {
          "model_module": "@jupyter-widgets/base",
          "model_module_version": "1.2.0",
          "model_name": "LayoutModel",
          "state": {
            "_model_module": "@jupyter-widgets/base",
            "_model_module_version": "1.2.0",
            "_model_name": "LayoutModel",
            "_view_count": null,
            "_view_module": "@jupyter-widgets/base",
            "_view_module_version": "1.2.0",
            "_view_name": "LayoutView",
            "align_content": null,
            "align_items": null,
            "align_self": null,
            "border": null,
            "bottom": null,
            "display": null,
            "flex": null,
            "flex_flow": null,
            "grid_area": null,
            "grid_auto_columns": null,
            "grid_auto_flow": null,
            "grid_auto_rows": null,
            "grid_column": null,
            "grid_gap": null,
            "grid_row": null,
            "grid_template_areas": null,
            "grid_template_columns": null,
            "grid_template_rows": null,
            "height": null,
            "justify_content": null,
            "justify_items": null,
            "left": null,
            "margin": null,
            "max_height": null,
            "max_width": null,
            "min_height": null,
            "min_width": null,
            "object_fit": null,
            "object_position": null,
            "order": null,
            "overflow": null,
            "overflow_x": null,
            "overflow_y": null,
            "padding": null,
            "right": null,
            "top": null,
            "visibility": null,
            "width": null
          }
        },
        "c483fdbf3ed04abb88502f1762e3bd9c": {
          "model_module": "@jupyter-widgets/controls",
          "model_module_version": "1.5.0",
          "model_name": "DescriptionStyleModel",
          "state": {
            "_model_module": "@jupyter-widgets/controls",
            "_model_module_version": "1.5.0",
            "_model_name": "DescriptionStyleModel",
            "_view_count": null,
            "_view_module": "@jupyter-widgets/base",
            "_view_module_version": "1.2.0",
            "_view_name": "StyleView",
            "description_width": ""
          }
        },
        "cad5ad8fc08749098d13d9b7743e9037": {
          "model_module": "@jupyter-widgets/base",
          "model_module_version": "1.2.0",
          "model_name": "LayoutModel",
          "state": {
            "_model_module": "@jupyter-widgets/base",
            "_model_module_version": "1.2.0",
            "_model_name": "LayoutModel",
            "_view_count": null,
            "_view_module": "@jupyter-widgets/base",
            "_view_module_version": "1.2.0",
            "_view_name": "LayoutView",
            "align_content": null,
            "align_items": null,
            "align_self": null,
            "border": null,
            "bottom": null,
            "display": null,
            "flex": null,
            "flex_flow": null,
            "grid_area": null,
            "grid_auto_columns": null,
            "grid_auto_flow": null,
            "grid_auto_rows": null,
            "grid_column": null,
            "grid_gap": null,
            "grid_row": null,
            "grid_template_areas": null,
            "grid_template_columns": null,
            "grid_template_rows": null,
            "height": null,
            "justify_content": null,
            "justify_items": null,
            "left": null,
            "margin": null,
            "max_height": null,
            "max_width": null,
            "min_height": null,
            "min_width": null,
            "object_fit": null,
            "object_position": null,
            "order": null,
            "overflow": null,
            "overflow_x": null,
            "overflow_y": null,
            "padding": null,
            "right": null,
            "top": null,
            "visibility": null,
            "width": null
          }
        },
        "cd4eb6c24838492dbcc91974f2fa3af4": {
          "model_module": "@jupyter-widgets/controls",
          "model_module_version": "1.5.0",
          "model_name": "DescriptionStyleModel",
          "state": {
            "_model_module": "@jupyter-widgets/controls",
            "_model_module_version": "1.5.0",
            "_model_name": "DescriptionStyleModel",
            "_view_count": null,
            "_view_module": "@jupyter-widgets/base",
            "_view_module_version": "1.2.0",
            "_view_name": "StyleView",
            "description_width": ""
          }
        },
        "ce477cdcc62841f990bc15d62562607b": {
          "model_module": "@jupyter-widgets/base",
          "model_module_version": "1.2.0",
          "model_name": "LayoutModel",
          "state": {
            "_model_module": "@jupyter-widgets/base",
            "_model_module_version": "1.2.0",
            "_model_name": "LayoutModel",
            "_view_count": null,
            "_view_module": "@jupyter-widgets/base",
            "_view_module_version": "1.2.0",
            "_view_name": "LayoutView",
            "align_content": null,
            "align_items": null,
            "align_self": null,
            "border": null,
            "bottom": null,
            "display": null,
            "flex": null,
            "flex_flow": null,
            "grid_area": null,
            "grid_auto_columns": null,
            "grid_auto_flow": null,
            "grid_auto_rows": null,
            "grid_column": null,
            "grid_gap": null,
            "grid_row": null,
            "grid_template_areas": null,
            "grid_template_columns": null,
            "grid_template_rows": null,
            "height": null,
            "justify_content": null,
            "justify_items": null,
            "left": null,
            "margin": null,
            "max_height": null,
            "max_width": null,
            "min_height": null,
            "min_width": null,
            "object_fit": null,
            "object_position": null,
            "order": null,
            "overflow": null,
            "overflow_x": null,
            "overflow_y": null,
            "padding": null,
            "right": null,
            "top": null,
            "visibility": null,
            "width": null
          }
        },
        "d16d201bfc124afa8487f41a752ad176": {
          "model_module": "@jupyter-widgets/controls",
          "model_module_version": "1.5.0",
          "model_name": "FloatProgressModel",
          "state": {
            "_dom_classes": [],
            "_model_module": "@jupyter-widgets/controls",
            "_model_module_version": "1.5.0",
            "_model_name": "FloatProgressModel",
            "_view_count": null,
            "_view_module": "@jupyter-widgets/controls",
            "_view_module_version": "1.5.0",
            "_view_name": "ProgressView",
            "bar_style": "success",
            "description": "",
            "description_tooltip": null,
            "layout": "IPY_MODEL_7fcf4e3f01364c65836d9e1f57daf0fb",
            "max": 665,
            "min": 0,
            "orientation": "horizontal",
            "style": "IPY_MODEL_2c74ee04b5754e18ba9303f80336af2b",
            "value": 665
          }
        },
        "d29c0a6085ca42f88a36e7fecc88b3da": {
          "model_module": "@jupyter-widgets/controls",
          "model_module_version": "1.5.0",
          "model_name": "DescriptionStyleModel",
          "state": {
            "_model_module": "@jupyter-widgets/controls",
            "_model_module_version": "1.5.0",
            "_model_name": "DescriptionStyleModel",
            "_view_count": null,
            "_view_module": "@jupyter-widgets/base",
            "_view_module_version": "1.2.0",
            "_view_name": "StyleView",
            "description_width": ""
          }
        },
        "d634a13a26be428b9842196ec8a9a914": {
          "model_module": "@jupyter-widgets/controls",
          "model_module_version": "1.5.0",
          "model_name": "DescriptionStyleModel",
          "state": {
            "_model_module": "@jupyter-widgets/controls",
            "_model_module_version": "1.5.0",
            "_model_name": "DescriptionStyleModel",
            "_view_count": null,
            "_view_module": "@jupyter-widgets/base",
            "_view_module_version": "1.2.0",
            "_view_name": "StyleView",
            "description_width": ""
          }
        },
        "db34144009b04d4ab0395c287f1bb92a": {
          "model_module": "@jupyter-widgets/base",
          "model_module_version": "1.2.0",
          "model_name": "LayoutModel",
          "state": {
            "_model_module": "@jupyter-widgets/base",
            "_model_module_version": "1.2.0",
            "_model_name": "LayoutModel",
            "_view_count": null,
            "_view_module": "@jupyter-widgets/base",
            "_view_module_version": "1.2.0",
            "_view_name": "LayoutView",
            "align_content": null,
            "align_items": null,
            "align_self": null,
            "border": null,
            "bottom": null,
            "display": null,
            "flex": null,
            "flex_flow": null,
            "grid_area": null,
            "grid_auto_columns": null,
            "grid_auto_flow": null,
            "grid_auto_rows": null,
            "grid_column": null,
            "grid_gap": null,
            "grid_row": null,
            "grid_template_areas": null,
            "grid_template_columns": null,
            "grid_template_rows": null,
            "height": null,
            "justify_content": null,
            "justify_items": null,
            "left": null,
            "margin": null,
            "max_height": null,
            "max_width": null,
            "min_height": null,
            "min_width": null,
            "object_fit": null,
            "object_position": null,
            "order": null,
            "overflow": null,
            "overflow_x": null,
            "overflow_y": null,
            "padding": null,
            "right": null,
            "top": null,
            "visibility": null,
            "width": null
          }
        },
        "de2cfc21ca2d4891b273d58e29fff048": {
          "model_module": "@jupyter-widgets/controls",
          "model_module_version": "1.5.0",
          "model_name": "HBoxModel",
          "state": {
            "_dom_classes": [],
            "_model_module": "@jupyter-widgets/controls",
            "_model_module_version": "1.5.0",
            "_model_name": "HBoxModel",
            "_view_count": null,
            "_view_module": "@jupyter-widgets/controls",
            "_view_module_version": "1.5.0",
            "_view_name": "HBoxView",
            "box_style": "",
            "children": [
              "IPY_MODEL_7e7f5319bdea4979a5aa1fecfcbfec33",
              "IPY_MODEL_9dfcf685b2a14e85a86f90113863a916",
              "IPY_MODEL_eb6f84ddedbc4a6c888a6c2e5f1e8556"
            ],
            "layout": "IPY_MODEL_ce477cdcc62841f990bc15d62562607b"
          }
        },
        "de64e3fe4edc47b7b2fa8785d3a2cc9d": {
          "model_module": "@jupyter-widgets/controls",
          "model_module_version": "1.5.0",
          "model_name": "HTMLModel",
          "state": {
            "_dom_classes": [],
            "_model_module": "@jupyter-widgets/controls",
            "_model_module_version": "1.5.0",
            "_model_name": "HTMLModel",
            "_view_count": null,
            "_view_module": "@jupyter-widgets/controls",
            "_view_module_version": "1.5.0",
            "_view_name": "HTMLView",
            "description": "",
            "description_tooltip": null,
            "layout": "IPY_MODEL_8586377bbf204cfeb0a662bfc9e71eaf",
            "placeholder": "​",
            "style": "IPY_MODEL_4e49b076b4524b6da648bde65d9cd40d",
            "value": "Downloading (…)olve/main/vocab.json: 100%"
          }
        },
        "de817615f45241e48544f8055703edaa": {
          "model_module": "@jupyter-widgets/controls",
          "model_module_version": "1.5.0",
          "model_name": "HTMLModel",
          "state": {
            "_dom_classes": [],
            "_model_module": "@jupyter-widgets/controls",
            "_model_module_version": "1.5.0",
            "_model_name": "HTMLModel",
            "_view_count": null,
            "_view_module": "@jupyter-widgets/controls",
            "_view_module_version": "1.5.0",
            "_view_name": "HTMLView",
            "description": "",
            "description_tooltip": null,
            "layout": "IPY_MODEL_5201833ab7e54373b270207297ec1ada",
            "placeholder": "​",
            "style": "IPY_MODEL_d29c0a6085ca42f88a36e7fecc88b3da",
            "value": "Downloading (…)lve/main/config.json: 100%"
          }
        },
        "ded5a2acfb984679b4a6f898137e691a": {
          "model_module": "@jupyter-widgets/controls",
          "model_module_version": "1.5.0",
          "model_name": "DescriptionStyleModel",
          "state": {
            "_model_module": "@jupyter-widgets/controls",
            "_model_module_version": "1.5.0",
            "_model_name": "DescriptionStyleModel",
            "_view_count": null,
            "_view_module": "@jupyter-widgets/base",
            "_view_module_version": "1.2.0",
            "_view_name": "StyleView",
            "description_width": ""
          }
        },
        "e2039dcbf6744eeda5c093456fa78278": {
          "model_module": "@jupyter-widgets/controls",
          "model_module_version": "1.5.0",
          "model_name": "ProgressStyleModel",
          "state": {
            "_model_module": "@jupyter-widgets/controls",
            "_model_module_version": "1.5.0",
            "_model_name": "ProgressStyleModel",
            "_view_count": null,
            "_view_module": "@jupyter-widgets/base",
            "_view_module_version": "1.2.0",
            "_view_name": "StyleView",
            "bar_color": null,
            "description_width": ""
          }
        },
        "e41b8521478f402785110ae508ec934e": {
          "model_module": "@jupyter-widgets/controls",
          "model_module_version": "1.5.0",
          "model_name": "DescriptionStyleModel",
          "state": {
            "_model_module": "@jupyter-widgets/controls",
            "_model_module_version": "1.5.0",
            "_model_name": "DescriptionStyleModel",
            "_view_count": null,
            "_view_module": "@jupyter-widgets/base",
            "_view_module_version": "1.2.0",
            "_view_name": "StyleView",
            "description_width": ""
          }
        },
        "e615bd2fe3df4da4b09014b0b0de08c6": {
          "model_module": "@jupyter-widgets/base",
          "model_module_version": "1.2.0",
          "model_name": "LayoutModel",
          "state": {
            "_model_module": "@jupyter-widgets/base",
            "_model_module_version": "1.2.0",
            "_model_name": "LayoutModel",
            "_view_count": null,
            "_view_module": "@jupyter-widgets/base",
            "_view_module_version": "1.2.0",
            "_view_name": "LayoutView",
            "align_content": null,
            "align_items": null,
            "align_self": null,
            "border": null,
            "bottom": null,
            "display": null,
            "flex": null,
            "flex_flow": null,
            "grid_area": null,
            "grid_auto_columns": null,
            "grid_auto_flow": null,
            "grid_auto_rows": null,
            "grid_column": null,
            "grid_gap": null,
            "grid_row": null,
            "grid_template_areas": null,
            "grid_template_columns": null,
            "grid_template_rows": null,
            "height": null,
            "justify_content": null,
            "justify_items": null,
            "left": null,
            "margin": null,
            "max_height": null,
            "max_width": null,
            "min_height": null,
            "min_width": null,
            "object_fit": null,
            "object_position": null,
            "order": null,
            "overflow": null,
            "overflow_x": null,
            "overflow_y": null,
            "padding": null,
            "right": null,
            "top": null,
            "visibility": null,
            "width": null
          }
        },
        "e7dcbce3c2db4869988d5b65daecf354": {
          "model_module": "@jupyter-widgets/controls",
          "model_module_version": "1.5.0",
          "model_name": "ProgressStyleModel",
          "state": {
            "_model_module": "@jupyter-widgets/controls",
            "_model_module_version": "1.5.0",
            "_model_name": "ProgressStyleModel",
            "_view_count": null,
            "_view_module": "@jupyter-widgets/base",
            "_view_module_version": "1.2.0",
            "_view_name": "StyleView",
            "bar_color": null,
            "description_width": ""
          }
        },
        "eb6f84ddedbc4a6c888a6c2e5f1e8556": {
          "model_module": "@jupyter-widgets/controls",
          "model_module_version": "1.5.0",
          "model_name": "HTMLModel",
          "state": {
            "_dom_classes": [],
            "_model_module": "@jupyter-widgets/controls",
            "_model_module_version": "1.5.0",
            "_model_name": "HTMLModel",
            "_view_count": null,
            "_view_module": "@jupyter-widgets/controls",
            "_view_module_version": "1.5.0",
            "_view_name": "HTMLView",
            "description": "",
            "description_tooltip": null,
            "layout": "IPY_MODEL_32bdad7dd5344cc2b6c77fbe44e64fe3",
            "placeholder": "​",
            "style": "IPY_MODEL_61452ebd779a46089a34baec1cbfe04e",
            "value": " 290M/290M [00:01&lt;00:00, 97.0MB/s]"
          }
        },
        "edd53e36429749faafceb417ee79abe0": {
          "model_module": "@jupyter-widgets/controls",
          "model_module_version": "1.5.0",
          "model_name": "HBoxModel",
          "state": {
            "_dom_classes": [],
            "_model_module": "@jupyter-widgets/controls",
            "_model_module_version": "1.5.0",
            "_model_name": "HBoxModel",
            "_view_count": null,
            "_view_module": "@jupyter-widgets/controls",
            "_view_module_version": "1.5.0",
            "_view_name": "HBoxView",
            "box_style": "",
            "children": [
              "IPY_MODEL_de64e3fe4edc47b7b2fa8785d3a2cc9d",
              "IPY_MODEL_5477e5547bf14fb98288bae84703ee29",
              "IPY_MODEL_2a2107d99a34474faa0bba35073f6a11"
            ],
            "layout": "IPY_MODEL_b4d92baeb51542df9c3033f7cdfdfa1a"
          }
        },
        "eea5c99eb4584725ad6c7a5db5950e94": {
          "model_module": "@jupyter-widgets/base",
          "model_module_version": "1.2.0",
          "model_name": "LayoutModel",
          "state": {
            "_model_module": "@jupyter-widgets/base",
            "_model_module_version": "1.2.0",
            "_model_name": "LayoutModel",
            "_view_count": null,
            "_view_module": "@jupyter-widgets/base",
            "_view_module_version": "1.2.0",
            "_view_name": "LayoutView",
            "align_content": null,
            "align_items": null,
            "align_self": null,
            "border": null,
            "bottom": null,
            "display": null,
            "flex": null,
            "flex_flow": null,
            "grid_area": null,
            "grid_auto_columns": null,
            "grid_auto_flow": null,
            "grid_auto_rows": null,
            "grid_column": null,
            "grid_gap": null,
            "grid_row": null,
            "grid_template_areas": null,
            "grid_template_columns": null,
            "grid_template_rows": null,
            "height": null,
            "justify_content": null,
            "justify_items": null,
            "left": null,
            "margin": null,
            "max_height": null,
            "max_width": null,
            "min_height": null,
            "min_width": null,
            "object_fit": null,
            "object_position": null,
            "order": null,
            "overflow": null,
            "overflow_x": null,
            "overflow_y": null,
            "padding": null,
            "right": null,
            "top": null,
            "visibility": null,
            "width": null
          }
        },
        "f2417d6947b24638817c88b37aeaf52e": {
          "model_module": "@jupyter-widgets/controls",
          "model_module_version": "1.5.0",
          "model_name": "HTMLModel",
          "state": {
            "_dom_classes": [],
            "_model_module": "@jupyter-widgets/controls",
            "_model_module_version": "1.5.0",
            "_model_name": "HTMLModel",
            "_view_count": null,
            "_view_module": "@jupyter-widgets/controls",
            "_view_module_version": "1.5.0",
            "_view_name": "HTMLView",
            "description": "",
            "description_tooltip": null,
            "layout": "IPY_MODEL_e615bd2fe3df4da4b09014b0b0de08c6",
            "placeholder": "​",
            "style": "IPY_MODEL_e41b8521478f402785110ae508ec934e",
            "value": " 124/124 [00:00&lt;00:00, 9.20kB/s]"
          }
        },
        "f71a0dda3f45445b8c860d1d8fa6fe50": {
          "model_module": "@jupyter-widgets/controls",
          "model_module_version": "1.5.0",
          "model_name": "ProgressStyleModel",
          "state": {
            "_model_module": "@jupyter-widgets/controls",
            "_model_module_version": "1.5.0",
            "_model_name": "ProgressStyleModel",
            "_view_count": null,
            "_view_module": "@jupyter-widgets/base",
            "_view_module_version": "1.2.0",
            "_view_name": "StyleView",
            "bar_color": null,
            "description_width": ""
          }
        },
        "f81ac022ee414b129ceddde4ef13760f": {
          "model_module": "@jupyter-widgets/controls",
          "model_module_version": "1.5.0",
          "model_name": "HTMLModel",
          "state": {
            "_dom_classes": [],
            "_model_module": "@jupyter-widgets/controls",
            "_model_module_version": "1.5.0",
            "_model_name": "HTMLModel",
            "_view_count": null,
            "_view_module": "@jupyter-widgets/controls",
            "_view_module_version": "1.5.0",
            "_view_name": "HTMLView",
            "description": "",
            "description_tooltip": null,
            "layout": "IPY_MODEL_b45552e755264dd8bf9f7c04dfeb2fb9",
            "placeholder": "​",
            "style": "IPY_MODEL_08c29b9e2ec044b09123bbe1da843088",
            "value": " 185k/185k [00:00&lt;00:00, 1.15MB/s]"
          }
        },
        "f8d10cfba5414bf88fdd94dc174957c6": {
          "model_module": "@jupyter-widgets/controls",
          "model_module_version": "1.5.0",
          "model_name": "HBoxModel",
          "state": {
            "_dom_classes": [],
            "_model_module": "@jupyter-widgets/controls",
            "_model_module_version": "1.5.0",
            "_model_name": "HBoxModel",
            "_view_count": null,
            "_view_module": "@jupyter-widgets/controls",
            "_view_module_version": "1.5.0",
            "_view_name": "HBoxView",
            "box_style": "",
            "children": [
              "IPY_MODEL_a508d2c45b9844998bd338717f777d49",
              "IPY_MODEL_6e95166db5cd45378675a89e26a111f9",
              "IPY_MODEL_f81ac022ee414b129ceddde4ef13760f"
            ],
            "layout": "IPY_MODEL_160d64c4098c41b1a02da68ec74ce572"
          }
        },
        "fadaf601bd554aefb2adb5e2ad5f111e": {
          "model_module": "@jupyter-widgets/controls",
          "model_module_version": "1.5.0",
          "model_name": "HTMLModel",
          "state": {
            "_dom_classes": [],
            "_model_module": "@jupyter-widgets/controls",
            "_model_module_version": "1.5.0",
            "_model_name": "HTMLModel",
            "_view_count": null,
            "_view_module": "@jupyter-widgets/controls",
            "_view_module_version": "1.5.0",
            "_view_name": "HTMLView",
            "description": "",
            "description_tooltip": null,
            "layout": "IPY_MODEL_5e709c2355cb495dbf84cb194d9dbe93",
            "placeholder": "​",
            "style": "IPY_MODEL_c483fdbf3ed04abb88502f1762e3bd9c",
            "value": " 1.98k/1.98k [00:00&lt;00:00, 165kB/s]"
          }
        },
        "fc0d5e8b23db4ba38aea11f33149470a": {
          "model_module": "@jupyter-widgets/base",
          "model_module_version": "1.2.0",
          "model_name": "LayoutModel",
          "state": {
            "_model_module": "@jupyter-widgets/base",
            "_model_module_version": "1.2.0",
            "_model_name": "LayoutModel",
            "_view_count": null,
            "_view_module": "@jupyter-widgets/base",
            "_view_module_version": "1.2.0",
            "_view_name": "LayoutView",
            "align_content": null,
            "align_items": null,
            "align_self": null,
            "border": null,
            "bottom": null,
            "display": null,
            "flex": null,
            "flex_flow": null,
            "grid_area": null,
            "grid_auto_columns": null,
            "grid_auto_flow": null,
            "grid_auto_rows": null,
            "grid_column": null,
            "grid_gap": null,
            "grid_row": null,
            "grid_template_areas": null,
            "grid_template_columns": null,
            "grid_template_rows": null,
            "height": null,
            "justify_content": null,
            "justify_items": null,
            "left": null,
            "margin": null,
            "max_height": null,
            "max_width": null,
            "min_height": null,
            "min_width": null,
            "object_fit": null,
            "object_position": null,
            "order": null,
            "overflow": null,
            "overflow_x": null,
            "overflow_y": null,
            "padding": null,
            "right": null,
            "top": null,
            "visibility": null,
            "width": null
          }
        }
      }
    }
  },
  "nbformat": 4,
  "nbformat_minor": 0
}