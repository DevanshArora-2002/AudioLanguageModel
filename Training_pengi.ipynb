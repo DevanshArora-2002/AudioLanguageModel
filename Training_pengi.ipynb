{
  "nbformat": 4,
  "nbformat_minor": 0,
  "metadata": {
    "colab": {
      "provenance": [],
      "machine_shape": "hm",
      "gpuType": "A100"
    },
    "kernelspec": {
      "name": "python3",
      "display_name": "Python 3"
    },
    "language_info": {
      "name": "python"
    },
    "accelerator": "GPU",
    "widgets": {
      "application/vnd.jupyter.widget-state+json": {
        "2bea4620cff64dafbf19379f12013e3e": {
          "model_module": "@jupyter-widgets/controls",
          "model_name": "HBoxModel",
          "model_module_version": "1.5.0",
          "state": {
            "_dom_classes": [],
            "_model_module": "@jupyter-widgets/controls",
            "_model_module_version": "1.5.0",
            "_model_name": "HBoxModel",
            "_view_count": null,
            "_view_module": "@jupyter-widgets/controls",
            "_view_module_version": "1.5.0",
            "_view_name": "HBoxView",
            "box_style": "",
            "children": [
              "IPY_MODEL_46189790ad9e4b269ec71b50f1ed50e0",
              "IPY_MODEL_90f2e2705428499685f243fbce466977",
              "IPY_MODEL_6914110199444914a6303114de7af952"
            ],
            "layout": "IPY_MODEL_73eadd00adf64b72a446b68bdb0227b4"
          }
        },
        "46189790ad9e4b269ec71b50f1ed50e0": {
          "model_module": "@jupyter-widgets/controls",
          "model_name": "HTMLModel",
          "model_module_version": "1.5.0",
          "state": {
            "_dom_classes": [],
            "_model_module": "@jupyter-widgets/controls",
            "_model_module_version": "1.5.0",
            "_model_name": "HTMLModel",
            "_view_count": null,
            "_view_module": "@jupyter-widgets/controls",
            "_view_module_version": "1.5.0",
            "_view_name": "HTMLView",
            "description": "",
            "description_tooltip": null,
            "layout": "IPY_MODEL_c459462e2d21486b8441314460c0353d",
            "placeholder": "​",
            "style": "IPY_MODEL_97e6543c387a4d5988cab92b0c228db5",
            "value": "Downloading (…)olve/main/vocab.json: 100%"
          }
        },
        "90f2e2705428499685f243fbce466977": {
          "model_module": "@jupyter-widgets/controls",
          "model_name": "FloatProgressModel",
          "model_module_version": "1.5.0",
          "state": {
            "_dom_classes": [],
            "_model_module": "@jupyter-widgets/controls",
            "_model_module_version": "1.5.0",
            "_model_name": "FloatProgressModel",
            "_view_count": null,
            "_view_module": "@jupyter-widgets/controls",
            "_view_module_version": "1.5.0",
            "_view_name": "ProgressView",
            "bar_style": "success",
            "description": "",
            "description_tooltip": null,
            "layout": "IPY_MODEL_f8dbe9c7edad445598195adfa111289a",
            "max": 1042301,
            "min": 0,
            "orientation": "horizontal",
            "style": "IPY_MODEL_675d5ab72f0d46da82cbed0c6919a890",
            "value": 1042301
          }
        },
        "6914110199444914a6303114de7af952": {
          "model_module": "@jupyter-widgets/controls",
          "model_name": "HTMLModel",
          "model_module_version": "1.5.0",
          "state": {
            "_dom_classes": [],
            "_model_module": "@jupyter-widgets/controls",
            "_model_module_version": "1.5.0",
            "_model_name": "HTMLModel",
            "_view_count": null,
            "_view_module": "@jupyter-widgets/controls",
            "_view_module_version": "1.5.0",
            "_view_name": "HTMLView",
            "description": "",
            "description_tooltip": null,
            "layout": "IPY_MODEL_07b88a7077544ace881eeb73983050cb",
            "placeholder": "​",
            "style": "IPY_MODEL_29bfa6caf81b4260ad6667f36cd2d071",
            "value": " 1.04M/1.04M [00:00&lt;00:00, 1.63MB/s]"
          }
        },
        "73eadd00adf64b72a446b68bdb0227b4": {
          "model_module": "@jupyter-widgets/base",
          "model_name": "LayoutModel",
          "model_module_version": "1.2.0",
          "state": {
            "_model_module": "@jupyter-widgets/base",
            "_model_module_version": "1.2.0",
            "_model_name": "LayoutModel",
            "_view_count": null,
            "_view_module": "@jupyter-widgets/base",
            "_view_module_version": "1.2.0",
            "_view_name": "LayoutView",
            "align_content": null,
            "align_items": null,
            "align_self": null,
            "border": null,
            "bottom": null,
            "display": null,
            "flex": null,
            "flex_flow": null,
            "grid_area": null,
            "grid_auto_columns": null,
            "grid_auto_flow": null,
            "grid_auto_rows": null,
            "grid_column": null,
            "grid_gap": null,
            "grid_row": null,
            "grid_template_areas": null,
            "grid_template_columns": null,
            "grid_template_rows": null,
            "height": null,
            "justify_content": null,
            "justify_items": null,
            "left": null,
            "margin": null,
            "max_height": null,
            "max_width": null,
            "min_height": null,
            "min_width": null,
            "object_fit": null,
            "object_position": null,
            "order": null,
            "overflow": null,
            "overflow_x": null,
            "overflow_y": null,
            "padding": null,
            "right": null,
            "top": null,
            "visibility": null,
            "width": null
          }
        },
        "c459462e2d21486b8441314460c0353d": {
          "model_module": "@jupyter-widgets/base",
          "model_name": "LayoutModel",
          "model_module_version": "1.2.0",
          "state": {
            "_model_module": "@jupyter-widgets/base",
            "_model_module_version": "1.2.0",
            "_model_name": "LayoutModel",
            "_view_count": null,
            "_view_module": "@jupyter-widgets/base",
            "_view_module_version": "1.2.0",
            "_view_name": "LayoutView",
            "align_content": null,
            "align_items": null,
            "align_self": null,
            "border": null,
            "bottom": null,
            "display": null,
            "flex": null,
            "flex_flow": null,
            "grid_area": null,
            "grid_auto_columns": null,
            "grid_auto_flow": null,
            "grid_auto_rows": null,
            "grid_column": null,
            "grid_gap": null,
            "grid_row": null,
            "grid_template_areas": null,
            "grid_template_columns": null,
            "grid_template_rows": null,
            "height": null,
            "justify_content": null,
            "justify_items": null,
            "left": null,
            "margin": null,
            "max_height": null,
            "max_width": null,
            "min_height": null,
            "min_width": null,
            "object_fit": null,
            "object_position": null,
            "order": null,
            "overflow": null,
            "overflow_x": null,
            "overflow_y": null,
            "padding": null,
            "right": null,
            "top": null,
            "visibility": null,
            "width": null
          }
        },
        "97e6543c387a4d5988cab92b0c228db5": {
          "model_module": "@jupyter-widgets/controls",
          "model_name": "DescriptionStyleModel",
          "model_module_version": "1.5.0",
          "state": {
            "_model_module": "@jupyter-widgets/controls",
            "_model_module_version": "1.5.0",
            "_model_name": "DescriptionStyleModel",
            "_view_count": null,
            "_view_module": "@jupyter-widgets/base",
            "_view_module_version": "1.2.0",
            "_view_name": "StyleView",
            "description_width": ""
          }
        },
        "f8dbe9c7edad445598195adfa111289a": {
          "model_module": "@jupyter-widgets/base",
          "model_name": "LayoutModel",
          "model_module_version": "1.2.0",
          "state": {
            "_model_module": "@jupyter-widgets/base",
            "_model_module_version": "1.2.0",
            "_model_name": "LayoutModel",
            "_view_count": null,
            "_view_module": "@jupyter-widgets/base",
            "_view_module_version": "1.2.0",
            "_view_name": "LayoutView",
            "align_content": null,
            "align_items": null,
            "align_self": null,
            "border": null,
            "bottom": null,
            "display": null,
            "flex": null,
            "flex_flow": null,
            "grid_area": null,
            "grid_auto_columns": null,
            "grid_auto_flow": null,
            "grid_auto_rows": null,
            "grid_column": null,
            "grid_gap": null,
            "grid_row": null,
            "grid_template_areas": null,
            "grid_template_columns": null,
            "grid_template_rows": null,
            "height": null,
            "justify_content": null,
            "justify_items": null,
            "left": null,
            "margin": null,
            "max_height": null,
            "max_width": null,
            "min_height": null,
            "min_width": null,
            "object_fit": null,
            "object_position": null,
            "order": null,
            "overflow": null,
            "overflow_x": null,
            "overflow_y": null,
            "padding": null,
            "right": null,
            "top": null,
            "visibility": null,
            "width": null
          }
        },
        "675d5ab72f0d46da82cbed0c6919a890": {
          "model_module": "@jupyter-widgets/controls",
          "model_name": "ProgressStyleModel",
          "model_module_version": "1.5.0",
          "state": {
            "_model_module": "@jupyter-widgets/controls",
            "_model_module_version": "1.5.0",
            "_model_name": "ProgressStyleModel",
            "_view_count": null,
            "_view_module": "@jupyter-widgets/base",
            "_view_module_version": "1.2.0",
            "_view_name": "StyleView",
            "bar_color": null,
            "description_width": ""
          }
        },
        "07b88a7077544ace881eeb73983050cb": {
          "model_module": "@jupyter-widgets/base",
          "model_name": "LayoutModel",
          "model_module_version": "1.2.0",
          "state": {
            "_model_module": "@jupyter-widgets/base",
            "_model_module_version": "1.2.0",
            "_model_name": "LayoutModel",
            "_view_count": null,
            "_view_module": "@jupyter-widgets/base",
            "_view_module_version": "1.2.0",
            "_view_name": "LayoutView",
            "align_content": null,
            "align_items": null,
            "align_self": null,
            "border": null,
            "bottom": null,
            "display": null,
            "flex": null,
            "flex_flow": null,
            "grid_area": null,
            "grid_auto_columns": null,
            "grid_auto_flow": null,
            "grid_auto_rows": null,
            "grid_column": null,
            "grid_gap": null,
            "grid_row": null,
            "grid_template_areas": null,
            "grid_template_columns": null,
            "grid_template_rows": null,
            "height": null,
            "justify_content": null,
            "justify_items": null,
            "left": null,
            "margin": null,
            "max_height": null,
            "max_width": null,
            "min_height": null,
            "min_width": null,
            "object_fit": null,
            "object_position": null,
            "order": null,
            "overflow": null,
            "overflow_x": null,
            "overflow_y": null,
            "padding": null,
            "right": null,
            "top": null,
            "visibility": null,
            "width": null
          }
        },
        "29bfa6caf81b4260ad6667f36cd2d071": {
          "model_module": "@jupyter-widgets/controls",
          "model_name": "DescriptionStyleModel",
          "model_module_version": "1.5.0",
          "state": {
            "_model_module": "@jupyter-widgets/controls",
            "_model_module_version": "1.5.0",
            "_model_name": "DescriptionStyleModel",
            "_view_count": null,
            "_view_module": "@jupyter-widgets/base",
            "_view_module_version": "1.2.0",
            "_view_name": "StyleView",
            "description_width": ""
          }
        },
        "2e5e81334d384276bad29d776555c80d": {
          "model_module": "@jupyter-widgets/controls",
          "model_name": "HBoxModel",
          "model_module_version": "1.5.0",
          "state": {
            "_dom_classes": [],
            "_model_module": "@jupyter-widgets/controls",
            "_model_module_version": "1.5.0",
            "_model_name": "HBoxModel",
            "_view_count": null,
            "_view_module": "@jupyter-widgets/controls",
            "_view_module_version": "1.5.0",
            "_view_name": "HBoxView",
            "box_style": "",
            "children": [
              "IPY_MODEL_ac652f5c1cc8451d870b2defbb90f404",
              "IPY_MODEL_3bed751f3485435a8567990326791562",
              "IPY_MODEL_903f95ae73894773ac70ce0c2ee487a3"
            ],
            "layout": "IPY_MODEL_5e81fd8f8598414bbadd65a6bdae7970"
          }
        },
        "ac652f5c1cc8451d870b2defbb90f404": {
          "model_module": "@jupyter-widgets/controls",
          "model_name": "HTMLModel",
          "model_module_version": "1.5.0",
          "state": {
            "_dom_classes": [],
            "_model_module": "@jupyter-widgets/controls",
            "_model_module_version": "1.5.0",
            "_model_name": "HTMLModel",
            "_view_count": null,
            "_view_module": "@jupyter-widgets/controls",
            "_view_module_version": "1.5.0",
            "_view_name": "HTMLView",
            "description": "",
            "description_tooltip": null,
            "layout": "IPY_MODEL_58950f4e460c4e5ea31ee8993a767cb8",
            "placeholder": "​",
            "style": "IPY_MODEL_c821dfd0936e4741a23cd5d51809419b",
            "value": "Downloading (…)olve/main/merges.txt: 100%"
          }
        },
        "3bed751f3485435a8567990326791562": {
          "model_module": "@jupyter-widgets/controls",
          "model_name": "FloatProgressModel",
          "model_module_version": "1.5.0",
          "state": {
            "_dom_classes": [],
            "_model_module": "@jupyter-widgets/controls",
            "_model_module_version": "1.5.0",
            "_model_name": "FloatProgressModel",
            "_view_count": null,
            "_view_module": "@jupyter-widgets/controls",
            "_view_module_version": "1.5.0",
            "_view_name": "ProgressView",
            "bar_style": "success",
            "description": "",
            "description_tooltip": null,
            "layout": "IPY_MODEL_c51b8dee1a354d25ace1f5ce9b76af77",
            "max": 456318,
            "min": 0,
            "orientation": "horizontal",
            "style": "IPY_MODEL_2795817674504fcfbcf3e0d0271fa704",
            "value": 456318
          }
        },
        "903f95ae73894773ac70ce0c2ee487a3": {
          "model_module": "@jupyter-widgets/controls",
          "model_name": "HTMLModel",
          "model_module_version": "1.5.0",
          "state": {
            "_dom_classes": [],
            "_model_module": "@jupyter-widgets/controls",
            "_model_module_version": "1.5.0",
            "_model_name": "HTMLModel",
            "_view_count": null,
            "_view_module": "@jupyter-widgets/controls",
            "_view_module_version": "1.5.0",
            "_view_name": "HTMLView",
            "description": "",
            "description_tooltip": null,
            "layout": "IPY_MODEL_f80ff5c84b5749abbd7a7e557669ba62",
            "placeholder": "​",
            "style": "IPY_MODEL_cf14fcdecd4346cbb3be66f606990355",
            "value": " 456k/456k [00:00&lt;00:00, 2.17MB/s]"
          }
        },
        "5e81fd8f8598414bbadd65a6bdae7970": {
          "model_module": "@jupyter-widgets/base",
          "model_name": "LayoutModel",
          "model_module_version": "1.2.0",
          "state": {
            "_model_module": "@jupyter-widgets/base",
            "_model_module_version": "1.2.0",
            "_model_name": "LayoutModel",
            "_view_count": null,
            "_view_module": "@jupyter-widgets/base",
            "_view_module_version": "1.2.0",
            "_view_name": "LayoutView",
            "align_content": null,
            "align_items": null,
            "align_self": null,
            "border": null,
            "bottom": null,
            "display": null,
            "flex": null,
            "flex_flow": null,
            "grid_area": null,
            "grid_auto_columns": null,
            "grid_auto_flow": null,
            "grid_auto_rows": null,
            "grid_column": null,
            "grid_gap": null,
            "grid_row": null,
            "grid_template_areas": null,
            "grid_template_columns": null,
            "grid_template_rows": null,
            "height": null,
            "justify_content": null,
            "justify_items": null,
            "left": null,
            "margin": null,
            "max_height": null,
            "max_width": null,
            "min_height": null,
            "min_width": null,
            "object_fit": null,
            "object_position": null,
            "order": null,
            "overflow": null,
            "overflow_x": null,
            "overflow_y": null,
            "padding": null,
            "right": null,
            "top": null,
            "visibility": null,
            "width": null
          }
        },
        "58950f4e460c4e5ea31ee8993a767cb8": {
          "model_module": "@jupyter-widgets/base",
          "model_name": "LayoutModel",
          "model_module_version": "1.2.0",
          "state": {
            "_model_module": "@jupyter-widgets/base",
            "_model_module_version": "1.2.0",
            "_model_name": "LayoutModel",
            "_view_count": null,
            "_view_module": "@jupyter-widgets/base",
            "_view_module_version": "1.2.0",
            "_view_name": "LayoutView",
            "align_content": null,
            "align_items": null,
            "align_self": null,
            "border": null,
            "bottom": null,
            "display": null,
            "flex": null,
            "flex_flow": null,
            "grid_area": null,
            "grid_auto_columns": null,
            "grid_auto_flow": null,
            "grid_auto_rows": null,
            "grid_column": null,
            "grid_gap": null,
            "grid_row": null,
            "grid_template_areas": null,
            "grid_template_columns": null,
            "grid_template_rows": null,
            "height": null,
            "justify_content": null,
            "justify_items": null,
            "left": null,
            "margin": null,
            "max_height": null,
            "max_width": null,
            "min_height": null,
            "min_width": null,
            "object_fit": null,
            "object_position": null,
            "order": null,
            "overflow": null,
            "overflow_x": null,
            "overflow_y": null,
            "padding": null,
            "right": null,
            "top": null,
            "visibility": null,
            "width": null
          }
        },
        "c821dfd0936e4741a23cd5d51809419b": {
          "model_module": "@jupyter-widgets/controls",
          "model_name": "DescriptionStyleModel",
          "model_module_version": "1.5.0",
          "state": {
            "_model_module": "@jupyter-widgets/controls",
            "_model_module_version": "1.5.0",
            "_model_name": "DescriptionStyleModel",
            "_view_count": null,
            "_view_module": "@jupyter-widgets/base",
            "_view_module_version": "1.2.0",
            "_view_name": "StyleView",
            "description_width": ""
          }
        },
        "c51b8dee1a354d25ace1f5ce9b76af77": {
          "model_module": "@jupyter-widgets/base",
          "model_name": "LayoutModel",
          "model_module_version": "1.2.0",
          "state": {
            "_model_module": "@jupyter-widgets/base",
            "_model_module_version": "1.2.0",
            "_model_name": "LayoutModel",
            "_view_count": null,
            "_view_module": "@jupyter-widgets/base",
            "_view_module_version": "1.2.0",
            "_view_name": "LayoutView",
            "align_content": null,
            "align_items": null,
            "align_self": null,
            "border": null,
            "bottom": null,
            "display": null,
            "flex": null,
            "flex_flow": null,
            "grid_area": null,
            "grid_auto_columns": null,
            "grid_auto_flow": null,
            "grid_auto_rows": null,
            "grid_column": null,
            "grid_gap": null,
            "grid_row": null,
            "grid_template_areas": null,
            "grid_template_columns": null,
            "grid_template_rows": null,
            "height": null,
            "justify_content": null,
            "justify_items": null,
            "left": null,
            "margin": null,
            "max_height": null,
            "max_width": null,
            "min_height": null,
            "min_width": null,
            "object_fit": null,
            "object_position": null,
            "order": null,
            "overflow": null,
            "overflow_x": null,
            "overflow_y": null,
            "padding": null,
            "right": null,
            "top": null,
            "visibility": null,
            "width": null
          }
        },
        "2795817674504fcfbcf3e0d0271fa704": {
          "model_module": "@jupyter-widgets/controls",
          "model_name": "ProgressStyleModel",
          "model_module_version": "1.5.0",
          "state": {
            "_model_module": "@jupyter-widgets/controls",
            "_model_module_version": "1.5.0",
            "_model_name": "ProgressStyleModel",
            "_view_count": null,
            "_view_module": "@jupyter-widgets/base",
            "_view_module_version": "1.2.0",
            "_view_name": "StyleView",
            "bar_color": null,
            "description_width": ""
          }
        },
        "f80ff5c84b5749abbd7a7e557669ba62": {
          "model_module": "@jupyter-widgets/base",
          "model_name": "LayoutModel",
          "model_module_version": "1.2.0",
          "state": {
            "_model_module": "@jupyter-widgets/base",
            "_model_module_version": "1.2.0",
            "_model_name": "LayoutModel",
            "_view_count": null,
            "_view_module": "@jupyter-widgets/base",
            "_view_module_version": "1.2.0",
            "_view_name": "LayoutView",
            "align_content": null,
            "align_items": null,
            "align_self": null,
            "border": null,
            "bottom": null,
            "display": null,
            "flex": null,
            "flex_flow": null,
            "grid_area": null,
            "grid_auto_columns": null,
            "grid_auto_flow": null,
            "grid_auto_rows": null,
            "grid_column": null,
            "grid_gap": null,
            "grid_row": null,
            "grid_template_areas": null,
            "grid_template_columns": null,
            "grid_template_rows": null,
            "height": null,
            "justify_content": null,
            "justify_items": null,
            "left": null,
            "margin": null,
            "max_height": null,
            "max_width": null,
            "min_height": null,
            "min_width": null,
            "object_fit": null,
            "object_position": null,
            "order": null,
            "overflow": null,
            "overflow_x": null,
            "overflow_y": null,
            "padding": null,
            "right": null,
            "top": null,
            "visibility": null,
            "width": null
          }
        },
        "cf14fcdecd4346cbb3be66f606990355": {
          "model_module": "@jupyter-widgets/controls",
          "model_name": "DescriptionStyleModel",
          "model_module_version": "1.5.0",
          "state": {
            "_model_module": "@jupyter-widgets/controls",
            "_model_module_version": "1.5.0",
            "_model_name": "DescriptionStyleModel",
            "_view_count": null,
            "_view_module": "@jupyter-widgets/base",
            "_view_module_version": "1.2.0",
            "_view_name": "StyleView",
            "description_width": ""
          }
        },
        "98a019290558484cbe9c3cd7ee977977": {
          "model_module": "@jupyter-widgets/controls",
          "model_name": "HBoxModel",
          "model_module_version": "1.5.0",
          "state": {
            "_dom_classes": [],
            "_model_module": "@jupyter-widgets/controls",
            "_model_module_version": "1.5.0",
            "_model_name": "HBoxModel",
            "_view_count": null,
            "_view_module": "@jupyter-widgets/controls",
            "_view_module_version": "1.5.0",
            "_view_name": "HBoxView",
            "box_style": "",
            "children": [
              "IPY_MODEL_572a6ea7927546e6bdfdabe7dba8eb82",
              "IPY_MODEL_5442c39fb7a8480c9a75203654295eb8",
              "IPY_MODEL_3afacb702516400ba4941e02e95ac251"
            ],
            "layout": "IPY_MODEL_efa6bd357f664b26ae19b3ddac07f163"
          }
        },
        "572a6ea7927546e6bdfdabe7dba8eb82": {
          "model_module": "@jupyter-widgets/controls",
          "model_name": "HTMLModel",
          "model_module_version": "1.5.0",
          "state": {
            "_dom_classes": [],
            "_model_module": "@jupyter-widgets/controls",
            "_model_module_version": "1.5.0",
            "_model_name": "HTMLModel",
            "_view_count": null,
            "_view_module": "@jupyter-widgets/controls",
            "_view_module_version": "1.5.0",
            "_view_name": "HTMLView",
            "description": "",
            "description_tooltip": null,
            "layout": "IPY_MODEL_f64e1e5fc3f34292b84f1b518e7d266b",
            "placeholder": "​",
            "style": "IPY_MODEL_b863b7a45faa4054872e45f6e5cc9955",
            "value": "Downloading (…)lve/main/config.json: 100%"
          }
        },
        "5442c39fb7a8480c9a75203654295eb8": {
          "model_module": "@jupyter-widgets/controls",
          "model_name": "FloatProgressModel",
          "model_module_version": "1.5.0",
          "state": {
            "_dom_classes": [],
            "_model_module": "@jupyter-widgets/controls",
            "_model_module_version": "1.5.0",
            "_model_name": "FloatProgressModel",
            "_view_count": null,
            "_view_module": "@jupyter-widgets/controls",
            "_view_module_version": "1.5.0",
            "_view_name": "ProgressView",
            "bar_style": "success",
            "description": "",
            "description_tooltip": null,
            "layout": "IPY_MODEL_b0d4713ec12a4af6a911cfc9ab8fe393",
            "max": 665,
            "min": 0,
            "orientation": "horizontal",
            "style": "IPY_MODEL_dc5c6e1bbc4a4e648af5c757f33bdd0e",
            "value": 665
          }
        },
        "3afacb702516400ba4941e02e95ac251": {
          "model_module": "@jupyter-widgets/controls",
          "model_name": "HTMLModel",
          "model_module_version": "1.5.0",
          "state": {
            "_dom_classes": [],
            "_model_module": "@jupyter-widgets/controls",
            "_model_module_version": "1.5.0",
            "_model_name": "HTMLModel",
            "_view_count": null,
            "_view_module": "@jupyter-widgets/controls",
            "_view_module_version": "1.5.0",
            "_view_name": "HTMLView",
            "description": "",
            "description_tooltip": null,
            "layout": "IPY_MODEL_f29ce1b9182446629ca48b401cbc30f3",
            "placeholder": "​",
            "style": "IPY_MODEL_a1c98b642e1940259bcf4aa25c4620d8",
            "value": " 665/665 [00:00&lt;00:00, 64.6kB/s]"
          }
        },
        "efa6bd357f664b26ae19b3ddac07f163": {
          "model_module": "@jupyter-widgets/base",
          "model_name": "LayoutModel",
          "model_module_version": "1.2.0",
          "state": {
            "_model_module": "@jupyter-widgets/base",
            "_model_module_version": "1.2.0",
            "_model_name": "LayoutModel",
            "_view_count": null,
            "_view_module": "@jupyter-widgets/base",
            "_view_module_version": "1.2.0",
            "_view_name": "LayoutView",
            "align_content": null,
            "align_items": null,
            "align_self": null,
            "border": null,
            "bottom": null,
            "display": null,
            "flex": null,
            "flex_flow": null,
            "grid_area": null,
            "grid_auto_columns": null,
            "grid_auto_flow": null,
            "grid_auto_rows": null,
            "grid_column": null,
            "grid_gap": null,
            "grid_row": null,
            "grid_template_areas": null,
            "grid_template_columns": null,
            "grid_template_rows": null,
            "height": null,
            "justify_content": null,
            "justify_items": null,
            "left": null,
            "margin": null,
            "max_height": null,
            "max_width": null,
            "min_height": null,
            "min_width": null,
            "object_fit": null,
            "object_position": null,
            "order": null,
            "overflow": null,
            "overflow_x": null,
            "overflow_y": null,
            "padding": null,
            "right": null,
            "top": null,
            "visibility": null,
            "width": null
          }
        },
        "f64e1e5fc3f34292b84f1b518e7d266b": {
          "model_module": "@jupyter-widgets/base",
          "model_name": "LayoutModel",
          "model_module_version": "1.2.0",
          "state": {
            "_model_module": "@jupyter-widgets/base",
            "_model_module_version": "1.2.0",
            "_model_name": "LayoutModel",
            "_view_count": null,
            "_view_module": "@jupyter-widgets/base",
            "_view_module_version": "1.2.0",
            "_view_name": "LayoutView",
            "align_content": null,
            "align_items": null,
            "align_self": null,
            "border": null,
            "bottom": null,
            "display": null,
            "flex": null,
            "flex_flow": null,
            "grid_area": null,
            "grid_auto_columns": null,
            "grid_auto_flow": null,
            "grid_auto_rows": null,
            "grid_column": null,
            "grid_gap": null,
            "grid_row": null,
            "grid_template_areas": null,
            "grid_template_columns": null,
            "grid_template_rows": null,
            "height": null,
            "justify_content": null,
            "justify_items": null,
            "left": null,
            "margin": null,
            "max_height": null,
            "max_width": null,
            "min_height": null,
            "min_width": null,
            "object_fit": null,
            "object_position": null,
            "order": null,
            "overflow": null,
            "overflow_x": null,
            "overflow_y": null,
            "padding": null,
            "right": null,
            "top": null,
            "visibility": null,
            "width": null
          }
        },
        "b863b7a45faa4054872e45f6e5cc9955": {
          "model_module": "@jupyter-widgets/controls",
          "model_name": "DescriptionStyleModel",
          "model_module_version": "1.5.0",
          "state": {
            "_model_module": "@jupyter-widgets/controls",
            "_model_module_version": "1.5.0",
            "_model_name": "DescriptionStyleModel",
            "_view_count": null,
            "_view_module": "@jupyter-widgets/base",
            "_view_module_version": "1.2.0",
            "_view_name": "StyleView",
            "description_width": ""
          }
        },
        "b0d4713ec12a4af6a911cfc9ab8fe393": {
          "model_module": "@jupyter-widgets/base",
          "model_name": "LayoutModel",
          "model_module_version": "1.2.0",
          "state": {
            "_model_module": "@jupyter-widgets/base",
            "_model_module_version": "1.2.0",
            "_model_name": "LayoutModel",
            "_view_count": null,
            "_view_module": "@jupyter-widgets/base",
            "_view_module_version": "1.2.0",
            "_view_name": "LayoutView",
            "align_content": null,
            "align_items": null,
            "align_self": null,
            "border": null,
            "bottom": null,
            "display": null,
            "flex": null,
            "flex_flow": null,
            "grid_area": null,
            "grid_auto_columns": null,
            "grid_auto_flow": null,
            "grid_auto_rows": null,
            "grid_column": null,
            "grid_gap": null,
            "grid_row": null,
            "grid_template_areas": null,
            "grid_template_columns": null,
            "grid_template_rows": null,
            "height": null,
            "justify_content": null,
            "justify_items": null,
            "left": null,
            "margin": null,
            "max_height": null,
            "max_width": null,
            "min_height": null,
            "min_width": null,
            "object_fit": null,
            "object_position": null,
            "order": null,
            "overflow": null,
            "overflow_x": null,
            "overflow_y": null,
            "padding": null,
            "right": null,
            "top": null,
            "visibility": null,
            "width": null
          }
        },
        "dc5c6e1bbc4a4e648af5c757f33bdd0e": {
          "model_module": "@jupyter-widgets/controls",
          "model_name": "ProgressStyleModel",
          "model_module_version": "1.5.0",
          "state": {
            "_model_module": "@jupyter-widgets/controls",
            "_model_module_version": "1.5.0",
            "_model_name": "ProgressStyleModel",
            "_view_count": null,
            "_view_module": "@jupyter-widgets/base",
            "_view_module_version": "1.2.0",
            "_view_name": "StyleView",
            "bar_color": null,
            "description_width": ""
          }
        },
        "f29ce1b9182446629ca48b401cbc30f3": {
          "model_module": "@jupyter-widgets/base",
          "model_name": "LayoutModel",
          "model_module_version": "1.2.0",
          "state": {
            "_model_module": "@jupyter-widgets/base",
            "_model_module_version": "1.2.0",
            "_model_name": "LayoutModel",
            "_view_count": null,
            "_view_module": "@jupyter-widgets/base",
            "_view_module_version": "1.2.0",
            "_view_name": "LayoutView",
            "align_content": null,
            "align_items": null,
            "align_self": null,
            "border": null,
            "bottom": null,
            "display": null,
            "flex": null,
            "flex_flow": null,
            "grid_area": null,
            "grid_auto_columns": null,
            "grid_auto_flow": null,
            "grid_auto_rows": null,
            "grid_column": null,
            "grid_gap": null,
            "grid_row": null,
            "grid_template_areas": null,
            "grid_template_columns": null,
            "grid_template_rows": null,
            "height": null,
            "justify_content": null,
            "justify_items": null,
            "left": null,
            "margin": null,
            "max_height": null,
            "max_width": null,
            "min_height": null,
            "min_width": null,
            "object_fit": null,
            "object_position": null,
            "order": null,
            "overflow": null,
            "overflow_x": null,
            "overflow_y": null,
            "padding": null,
            "right": null,
            "top": null,
            "visibility": null,
            "width": null
          }
        },
        "a1c98b642e1940259bcf4aa25c4620d8": {
          "model_module": "@jupyter-widgets/controls",
          "model_name": "DescriptionStyleModel",
          "model_module_version": "1.5.0",
          "state": {
            "_model_module": "@jupyter-widgets/controls",
            "_model_module_version": "1.5.0",
            "_model_name": "DescriptionStyleModel",
            "_view_count": null,
            "_view_module": "@jupyter-widgets/base",
            "_view_module_version": "1.2.0",
            "_view_name": "StyleView",
            "description_width": ""
          }
        },
        "22b22193cbf5484bbc3ac0452e8694a2": {
          "model_module": "@jupyter-widgets/controls",
          "model_name": "HBoxModel",
          "model_module_version": "1.5.0",
          "state": {
            "_dom_classes": [],
            "_model_module": "@jupyter-widgets/controls",
            "_model_module_version": "1.5.0",
            "_model_name": "HBoxModel",
            "_view_count": null,
            "_view_module": "@jupyter-widgets/controls",
            "_view_module_version": "1.5.0",
            "_view_name": "HBoxView",
            "box_style": "",
            "children": [
              "IPY_MODEL_7588936045564be8a5a5edbe01775fa1",
              "IPY_MODEL_33ec5391377049af81010ced3acdd9ae",
              "IPY_MODEL_d42c266e6c094f9b8907f3ace839e2b6"
            ],
            "layout": "IPY_MODEL_ce5bdc94fd764d00a09b2fb57cc345cd"
          }
        },
        "7588936045564be8a5a5edbe01775fa1": {
          "model_module": "@jupyter-widgets/controls",
          "model_name": "HTMLModel",
          "model_module_version": "1.5.0",
          "state": {
            "_dom_classes": [],
            "_model_module": "@jupyter-widgets/controls",
            "_model_module_version": "1.5.0",
            "_model_name": "HTMLModel",
            "_view_count": null,
            "_view_module": "@jupyter-widgets/controls",
            "_view_module_version": "1.5.0",
            "_view_name": "HTMLView",
            "description": "",
            "description_tooltip": null,
            "layout": "IPY_MODEL_c09b7efa8a474a77837b8eed96f04910",
            "placeholder": "​",
            "style": "IPY_MODEL_b02952b0fd9d452095f1f4e3b5fbb246",
            "value": "Downloading (…)rocessor_config.json: 100%"
          }
        },
        "33ec5391377049af81010ced3acdd9ae": {
          "model_module": "@jupyter-widgets/controls",
          "model_name": "FloatProgressModel",
          "model_module_version": "1.5.0",
          "state": {
            "_dom_classes": [],
            "_model_module": "@jupyter-widgets/controls",
            "_model_module_version": "1.5.0",
            "_model_name": "FloatProgressModel",
            "_view_count": null,
            "_view_module": "@jupyter-widgets/controls",
            "_view_module_version": "1.5.0",
            "_view_name": "ProgressView",
            "bar_style": "success",
            "description": "",
            "description_tooltip": null,
            "layout": "IPY_MODEL_7bfbc36474924aabbde7a5d3c7a9f9f3",
            "max": 184990,
            "min": 0,
            "orientation": "horizontal",
            "style": "IPY_MODEL_ba5f4c2f81d8423a8f7baf17c3119475",
            "value": 184990
          }
        },
        "d42c266e6c094f9b8907f3ace839e2b6": {
          "model_module": "@jupyter-widgets/controls",
          "model_name": "HTMLModel",
          "model_module_version": "1.5.0",
          "state": {
            "_dom_classes": [],
            "_model_module": "@jupyter-widgets/controls",
            "_model_module_version": "1.5.0",
            "_model_name": "HTMLModel",
            "_view_count": null,
            "_view_module": "@jupyter-widgets/controls",
            "_view_module_version": "1.5.0",
            "_view_name": "HTMLView",
            "description": "",
            "description_tooltip": null,
            "layout": "IPY_MODEL_f7b185767d684255bfe70d5f1593948d",
            "placeholder": "​",
            "style": "IPY_MODEL_b433dde01665475da36cbad072fbea39",
            "value": " 185k/185k [00:00&lt;00:00, 15.7MB/s]"
          }
        },
        "ce5bdc94fd764d00a09b2fb57cc345cd": {
          "model_module": "@jupyter-widgets/base",
          "model_name": "LayoutModel",
          "model_module_version": "1.2.0",
          "state": {
            "_model_module": "@jupyter-widgets/base",
            "_model_module_version": "1.2.0",
            "_model_name": "LayoutModel",
            "_view_count": null,
            "_view_module": "@jupyter-widgets/base",
            "_view_module_version": "1.2.0",
            "_view_name": "LayoutView",
            "align_content": null,
            "align_items": null,
            "align_self": null,
            "border": null,
            "bottom": null,
            "display": null,
            "flex": null,
            "flex_flow": null,
            "grid_area": null,
            "grid_auto_columns": null,
            "grid_auto_flow": null,
            "grid_auto_rows": null,
            "grid_column": null,
            "grid_gap": null,
            "grid_row": null,
            "grid_template_areas": null,
            "grid_template_columns": null,
            "grid_template_rows": null,
            "height": null,
            "justify_content": null,
            "justify_items": null,
            "left": null,
            "margin": null,
            "max_height": null,
            "max_width": null,
            "min_height": null,
            "min_width": null,
            "object_fit": null,
            "object_position": null,
            "order": null,
            "overflow": null,
            "overflow_x": null,
            "overflow_y": null,
            "padding": null,
            "right": null,
            "top": null,
            "visibility": null,
            "width": null
          }
        },
        "c09b7efa8a474a77837b8eed96f04910": {
          "model_module": "@jupyter-widgets/base",
          "model_name": "LayoutModel",
          "model_module_version": "1.2.0",
          "state": {
            "_model_module": "@jupyter-widgets/base",
            "_model_module_version": "1.2.0",
            "_model_name": "LayoutModel",
            "_view_count": null,
            "_view_module": "@jupyter-widgets/base",
            "_view_module_version": "1.2.0",
            "_view_name": "LayoutView",
            "align_content": null,
            "align_items": null,
            "align_self": null,
            "border": null,
            "bottom": null,
            "display": null,
            "flex": null,
            "flex_flow": null,
            "grid_area": null,
            "grid_auto_columns": null,
            "grid_auto_flow": null,
            "grid_auto_rows": null,
            "grid_column": null,
            "grid_gap": null,
            "grid_row": null,
            "grid_template_areas": null,
            "grid_template_columns": null,
            "grid_template_rows": null,
            "height": null,
            "justify_content": null,
            "justify_items": null,
            "left": null,
            "margin": null,
            "max_height": null,
            "max_width": null,
            "min_height": null,
            "min_width": null,
            "object_fit": null,
            "object_position": null,
            "order": null,
            "overflow": null,
            "overflow_x": null,
            "overflow_y": null,
            "padding": null,
            "right": null,
            "top": null,
            "visibility": null,
            "width": null
          }
        },
        "b02952b0fd9d452095f1f4e3b5fbb246": {
          "model_module": "@jupyter-widgets/controls",
          "model_name": "DescriptionStyleModel",
          "model_module_version": "1.5.0",
          "state": {
            "_model_module": "@jupyter-widgets/controls",
            "_model_module_version": "1.5.0",
            "_model_name": "DescriptionStyleModel",
            "_view_count": null,
            "_view_module": "@jupyter-widgets/base",
            "_view_module_version": "1.2.0",
            "_view_name": "StyleView",
            "description_width": ""
          }
        },
        "7bfbc36474924aabbde7a5d3c7a9f9f3": {
          "model_module": "@jupyter-widgets/base",
          "model_name": "LayoutModel",
          "model_module_version": "1.2.0",
          "state": {
            "_model_module": "@jupyter-widgets/base",
            "_model_module_version": "1.2.0",
            "_model_name": "LayoutModel",
            "_view_count": null,
            "_view_module": "@jupyter-widgets/base",
            "_view_module_version": "1.2.0",
            "_view_name": "LayoutView",
            "align_content": null,
            "align_items": null,
            "align_self": null,
            "border": null,
            "bottom": null,
            "display": null,
            "flex": null,
            "flex_flow": null,
            "grid_area": null,
            "grid_auto_columns": null,
            "grid_auto_flow": null,
            "grid_auto_rows": null,
            "grid_column": null,
            "grid_gap": null,
            "grid_row": null,
            "grid_template_areas": null,
            "grid_template_columns": null,
            "grid_template_rows": null,
            "height": null,
            "justify_content": null,
            "justify_items": null,
            "left": null,
            "margin": null,
            "max_height": null,
            "max_width": null,
            "min_height": null,
            "min_width": null,
            "object_fit": null,
            "object_position": null,
            "order": null,
            "overflow": null,
            "overflow_x": null,
            "overflow_y": null,
            "padding": null,
            "right": null,
            "top": null,
            "visibility": null,
            "width": null
          }
        },
        "ba5f4c2f81d8423a8f7baf17c3119475": {
          "model_module": "@jupyter-widgets/controls",
          "model_name": "ProgressStyleModel",
          "model_module_version": "1.5.0",
          "state": {
            "_model_module": "@jupyter-widgets/controls",
            "_model_module_version": "1.5.0",
            "_model_name": "ProgressStyleModel",
            "_view_count": null,
            "_view_module": "@jupyter-widgets/base",
            "_view_module_version": "1.2.0",
            "_view_name": "StyleView",
            "bar_color": null,
            "description_width": ""
          }
        },
        "f7b185767d684255bfe70d5f1593948d": {
          "model_module": "@jupyter-widgets/base",
          "model_name": "LayoutModel",
          "model_module_version": "1.2.0",
          "state": {
            "_model_module": "@jupyter-widgets/base",
            "_model_module_version": "1.2.0",
            "_model_name": "LayoutModel",
            "_view_count": null,
            "_view_module": "@jupyter-widgets/base",
            "_view_module_version": "1.2.0",
            "_view_name": "LayoutView",
            "align_content": null,
            "align_items": null,
            "align_self": null,
            "border": null,
            "bottom": null,
            "display": null,
            "flex": null,
            "flex_flow": null,
            "grid_area": null,
            "grid_auto_columns": null,
            "grid_auto_flow": null,
            "grid_auto_rows": null,
            "grid_column": null,
            "grid_gap": null,
            "grid_row": null,
            "grid_template_areas": null,
            "grid_template_columns": null,
            "grid_template_rows": null,
            "height": null,
            "justify_content": null,
            "justify_items": null,
            "left": null,
            "margin": null,
            "max_height": null,
            "max_width": null,
            "min_height": null,
            "min_width": null,
            "object_fit": null,
            "object_position": null,
            "order": null,
            "overflow": null,
            "overflow_x": null,
            "overflow_y": null,
            "padding": null,
            "right": null,
            "top": null,
            "visibility": null,
            "width": null
          }
        },
        "b433dde01665475da36cbad072fbea39": {
          "model_module": "@jupyter-widgets/controls",
          "model_name": "DescriptionStyleModel",
          "model_module_version": "1.5.0",
          "state": {
            "_model_module": "@jupyter-widgets/controls",
            "_model_module_version": "1.5.0",
            "_model_name": "DescriptionStyleModel",
            "_view_count": null,
            "_view_module": "@jupyter-widgets/base",
            "_view_module_version": "1.2.0",
            "_view_name": "StyleView",
            "description_width": ""
          }
        }
      }
    }
  },
  "cells": [
    {
      "cell_type": "code",
      "execution_count": null,
      "metadata": {
        "colab": {
          "base_uri": "https://localhost:8080/"
        },
        "id": "Hjpee5DgojGk",
        "outputId": "8efdf234-b02e-47c0-cd12-1c8e8ce79475"
      },
      "outputs": [
        {
          "output_type": "stream",
          "name": "stdout",
          "text": [
            "Mounted at /content/drive\n"
          ]
        }
      ],
      "source": [
        "from google.colab import drive\n",
        "drive.mount('/content/drive')"
      ]
    },
    {
      "cell_type": "code",
      "source": [
        "!pip install wandb\n",
        "!pip install transformers==4.28.0\n",
        "!pip install datasets"
      ],
      "metadata": {
        "colab": {
          "base_uri": "https://localhost:8080/"
        },
        "id": "OAzBeFFKozaN",
        "outputId": "6e900285-8663-4b15-a635-7f0fcca4d5bc"
      },
      "execution_count": null,
      "outputs": [
        {
          "output_type": "stream",
          "name": "stdout",
          "text": [
            "Collecting wandb\n",
            "  Downloading wandb-0.15.5-py3-none-any.whl (2.1 MB)\n",
            "\u001b[2K     \u001b[90m━━━━━━━━━━━━━━━━━━━━━━━━━━━━━━━━━━━━━━━━\u001b[0m \u001b[32m2.1/2.1 MB\u001b[0m \u001b[31m58.3 MB/s\u001b[0m eta \u001b[36m0:00:00\u001b[0m\n",
            "\u001b[?25hRequirement already satisfied: Click!=8.0.0,>=7.1 in /usr/local/lib/python3.10/dist-packages (from wandb) (8.1.4)\n",
            "Collecting GitPython!=3.1.29,>=1.0.0 (from wandb)\n",
            "  Downloading GitPython-3.1.32-py3-none-any.whl (188 kB)\n",
            "\u001b[2K     \u001b[90m━━━━━━━━━━━━━━━━━━━━━━━━━━━━━━━━━━━━━━\u001b[0m \u001b[32m188.5/188.5 kB\u001b[0m \u001b[31m26.7 MB/s\u001b[0m eta \u001b[36m0:00:00\u001b[0m\n",
            "\u001b[?25hRequirement already satisfied: requests<3,>=2.0.0 in /usr/local/lib/python3.10/dist-packages (from wandb) (2.27.1)\n",
            "Requirement already satisfied: psutil>=5.0.0 in /usr/local/lib/python3.10/dist-packages (from wandb) (5.9.5)\n",
            "Collecting sentry-sdk>=1.0.0 (from wandb)\n",
            "  Downloading sentry_sdk-1.28.1-py2.py3-none-any.whl (214 kB)\n",
            "\u001b[2K     \u001b[90m━━━━━━━━━━━━━━━━━━━━━━━━━━━━━━━━━━━━━━\u001b[0m \u001b[32m214.7/214.7 kB\u001b[0m \u001b[31m29.8 MB/s\u001b[0m eta \u001b[36m0:00:00\u001b[0m\n",
            "\u001b[?25hCollecting docker-pycreds>=0.4.0 (from wandb)\n",
            "  Downloading docker_pycreds-0.4.0-py2.py3-none-any.whl (9.0 kB)\n",
            "Requirement already satisfied: PyYAML in /usr/local/lib/python3.10/dist-packages (from wandb) (6.0)\n",
            "Collecting pathtools (from wandb)\n",
            "  Downloading pathtools-0.1.2.tar.gz (11 kB)\n",
            "  Preparing metadata (setup.py) ... \u001b[?25l\u001b[?25hdone\n",
            "Collecting setproctitle (from wandb)\n",
            "  Downloading setproctitle-1.3.2-cp310-cp310-manylinux_2_5_x86_64.manylinux1_x86_64.manylinux_2_17_x86_64.manylinux2014_x86_64.whl (30 kB)\n",
            "Requirement already satisfied: setuptools in /usr/local/lib/python3.10/dist-packages (from wandb) (67.7.2)\n",
            "Requirement already satisfied: appdirs>=1.4.3 in /usr/local/lib/python3.10/dist-packages (from wandb) (1.4.4)\n",
            "Requirement already satisfied: protobuf!=4.21.0,<5,>=3.19.0 in /usr/local/lib/python3.10/dist-packages (from wandb) (3.20.3)\n",
            "Requirement already satisfied: six>=1.4.0 in /usr/local/lib/python3.10/dist-packages (from docker-pycreds>=0.4.0->wandb) (1.16.0)\n",
            "Collecting gitdb<5,>=4.0.1 (from GitPython!=3.1.29,>=1.0.0->wandb)\n",
            "  Downloading gitdb-4.0.10-py3-none-any.whl (62 kB)\n",
            "\u001b[2K     \u001b[90m━━━━━━━━━━━━━━━━━━━━━━━━━━━━━━━━━━━━━━━━\u001b[0m \u001b[32m62.7/62.7 kB\u001b[0m \u001b[31m9.2 MB/s\u001b[0m eta \u001b[36m0:00:00\u001b[0m\n",
            "\u001b[?25hRequirement already satisfied: urllib3<1.27,>=1.21.1 in /usr/local/lib/python3.10/dist-packages (from requests<3,>=2.0.0->wandb) (1.26.16)\n",
            "Requirement already satisfied: certifi>=2017.4.17 in /usr/local/lib/python3.10/dist-packages (from requests<3,>=2.0.0->wandb) (2023.5.7)\n",
            "Requirement already satisfied: charset-normalizer~=2.0.0 in /usr/local/lib/python3.10/dist-packages (from requests<3,>=2.0.0->wandb) (2.0.12)\n",
            "Requirement already satisfied: idna<4,>=2.5 in /usr/local/lib/python3.10/dist-packages (from requests<3,>=2.0.0->wandb) (3.4)\n",
            "Collecting smmap<6,>=3.0.1 (from gitdb<5,>=4.0.1->GitPython!=3.1.29,>=1.0.0->wandb)\n",
            "  Downloading smmap-5.0.0-py3-none-any.whl (24 kB)\n",
            "Building wheels for collected packages: pathtools\n",
            "  Building wheel for pathtools (setup.py) ... \u001b[?25l\u001b[?25hdone\n",
            "  Created wheel for pathtools: filename=pathtools-0.1.2-py3-none-any.whl size=8791 sha256=5942aa1c88fc53d12543295950a4b115e9a0ddf349b256b52704b667a76ddb1b\n",
            "  Stored in directory: /root/.cache/pip/wheels/e7/f3/22/152153d6eb222ee7a56ff8617d80ee5207207a8c00a7aab794\n",
            "Successfully built pathtools\n",
            "Installing collected packages: pathtools, smmap, setproctitle, sentry-sdk, docker-pycreds, gitdb, GitPython, wandb\n",
            "Successfully installed GitPython-3.1.32 docker-pycreds-0.4.0 gitdb-4.0.10 pathtools-0.1.2 sentry-sdk-1.28.1 setproctitle-1.3.2 smmap-5.0.0 wandb-0.15.5\n",
            "Collecting transformers==4.28.0\n",
            "  Downloading transformers-4.28.0-py3-none-any.whl (7.0 MB)\n",
            "\u001b[2K     \u001b[90m━━━━━━━━━━━━━━━━━━━━━━━━━━━━━━━━━━━━━━━━\u001b[0m \u001b[32m7.0/7.0 MB\u001b[0m \u001b[31m70.1 MB/s\u001b[0m eta \u001b[36m0:00:00\u001b[0m\n",
            "\u001b[?25hRequirement already satisfied: filelock in /usr/local/lib/python3.10/dist-packages (from transformers==4.28.0) (3.12.2)\n",
            "Collecting huggingface-hub<1.0,>=0.11.0 (from transformers==4.28.0)\n",
            "  Downloading huggingface_hub-0.16.4-py3-none-any.whl (268 kB)\n",
            "\u001b[2K     \u001b[90m━━━━━━━━━━━━━━━━━━━━━━━━━━━━━━━━━━━━━━\u001b[0m \u001b[32m268.8/268.8 kB\u001b[0m \u001b[31m35.6 MB/s\u001b[0m eta \u001b[36m0:00:00\u001b[0m\n",
            "\u001b[?25hRequirement already satisfied: numpy>=1.17 in /usr/local/lib/python3.10/dist-packages (from transformers==4.28.0) (1.22.4)\n",
            "Requirement already satisfied: packaging>=20.0 in /usr/local/lib/python3.10/dist-packages (from transformers==4.28.0) (23.1)\n",
            "Requirement already satisfied: pyyaml>=5.1 in /usr/local/lib/python3.10/dist-packages (from transformers==4.28.0) (6.0)\n",
            "Requirement already satisfied: regex!=2019.12.17 in /usr/local/lib/python3.10/dist-packages (from transformers==4.28.0) (2022.10.31)\n",
            "Requirement already satisfied: requests in /usr/local/lib/python3.10/dist-packages (from transformers==4.28.0) (2.27.1)\n",
            "Collecting tokenizers!=0.11.3,<0.14,>=0.11.1 (from transformers==4.28.0)\n",
            "  Downloading tokenizers-0.13.3-cp310-cp310-manylinux_2_17_x86_64.manylinux2014_x86_64.whl (7.8 MB)\n",
            "\u001b[2K     \u001b[90m━━━━━━━━━━━━━━━━━━━━━━━━━━━━━━━━━━━━━━━━\u001b[0m \u001b[32m7.8/7.8 MB\u001b[0m \u001b[31m96.3 MB/s\u001b[0m eta \u001b[36m0:00:00\u001b[0m\n",
            "\u001b[?25hRequirement already satisfied: tqdm>=4.27 in /usr/local/lib/python3.10/dist-packages (from transformers==4.28.0) (4.65.0)\n",
            "Requirement already satisfied: fsspec in /usr/local/lib/python3.10/dist-packages (from huggingface-hub<1.0,>=0.11.0->transformers==4.28.0) (2023.6.0)\n",
            "Requirement already satisfied: typing-extensions>=3.7.4.3 in /usr/local/lib/python3.10/dist-packages (from huggingface-hub<1.0,>=0.11.0->transformers==4.28.0) (4.7.1)\n",
            "Requirement already satisfied: urllib3<1.27,>=1.21.1 in /usr/local/lib/python3.10/dist-packages (from requests->transformers==4.28.0) (1.26.16)\n",
            "Requirement already satisfied: certifi>=2017.4.17 in /usr/local/lib/python3.10/dist-packages (from requests->transformers==4.28.0) (2023.5.7)\n",
            "Requirement already satisfied: charset-normalizer~=2.0.0 in /usr/local/lib/python3.10/dist-packages (from requests->transformers==4.28.0) (2.0.12)\n",
            "Requirement already satisfied: idna<4,>=2.5 in /usr/local/lib/python3.10/dist-packages (from requests->transformers==4.28.0) (3.4)\n",
            "Installing collected packages: tokenizers, huggingface-hub, transformers\n",
            "Successfully installed huggingface-hub-0.16.4 tokenizers-0.13.3 transformers-4.28.0\n",
            "Collecting datasets\n",
            "  Downloading datasets-2.13.1-py3-none-any.whl (486 kB)\n",
            "\u001b[2K     \u001b[90m━━━━━━━━━━━━━━━━━━━━━━━━━━━━━━━━━━━━━━\u001b[0m \u001b[32m486.2/486.2 kB\u001b[0m \u001b[31m37.2 MB/s\u001b[0m eta \u001b[36m0:00:00\u001b[0m\n",
            "\u001b[?25hRequirement already satisfied: numpy>=1.17 in /usr/local/lib/python3.10/dist-packages (from datasets) (1.22.4)\n",
            "Requirement already satisfied: pyarrow>=8.0.0 in /usr/local/lib/python3.10/dist-packages (from datasets) (9.0.0)\n",
            "Collecting dill<0.3.7,>=0.3.0 (from datasets)\n",
            "  Downloading dill-0.3.6-py3-none-any.whl (110 kB)\n",
            "\u001b[2K     \u001b[90m━━━━━━━━━━━━━━━━━━━━━━━━━━━━━━━━━━━━━━\u001b[0m \u001b[32m110.5/110.5 kB\u001b[0m \u001b[31m17.7 MB/s\u001b[0m eta \u001b[36m0:00:00\u001b[0m\n",
            "\u001b[?25hRequirement already satisfied: pandas in /usr/local/lib/python3.10/dist-packages (from datasets) (1.5.3)\n",
            "Requirement already satisfied: requests>=2.19.0 in /usr/local/lib/python3.10/dist-packages (from datasets) (2.27.1)\n",
            "Requirement already satisfied: tqdm>=4.62.1 in /usr/local/lib/python3.10/dist-packages (from datasets) (4.65.0)\n",
            "Collecting xxhash (from datasets)\n",
            "  Downloading xxhash-3.2.0-cp310-cp310-manylinux_2_17_x86_64.manylinux2014_x86_64.whl (212 kB)\n",
            "\u001b[2K     \u001b[90m━━━━━━━━━━━━━━━━━━━━━━━━━━━━━━━━━━━━━━\u001b[0m \u001b[32m212.5/212.5 kB\u001b[0m \u001b[31m30.0 MB/s\u001b[0m eta \u001b[36m0:00:00\u001b[0m\n",
            "\u001b[?25hCollecting multiprocess (from datasets)\n",
            "  Downloading multiprocess-0.70.14-py310-none-any.whl (134 kB)\n",
            "\u001b[2K     \u001b[90m━━━━━━━━━━━━━━━━━━━━━━━━━━━━━━━━━━━━━━\u001b[0m \u001b[32m134.3/134.3 kB\u001b[0m \u001b[31m15.2 MB/s\u001b[0m eta \u001b[36m0:00:00\u001b[0m\n",
            "\u001b[?25hRequirement already satisfied: fsspec[http]>=2021.11.1 in /usr/local/lib/python3.10/dist-packages (from datasets) (2023.6.0)\n",
            "Requirement already satisfied: aiohttp in /usr/local/lib/python3.10/dist-packages (from datasets) (3.8.4)\n",
            "Requirement already satisfied: huggingface-hub<1.0.0,>=0.11.0 in /usr/local/lib/python3.10/dist-packages (from datasets) (0.16.4)\n",
            "Requirement already satisfied: packaging in /usr/local/lib/python3.10/dist-packages (from datasets) (23.1)\n",
            "Requirement already satisfied: pyyaml>=5.1 in /usr/local/lib/python3.10/dist-packages (from datasets) (6.0)\n",
            "Requirement already satisfied: attrs>=17.3.0 in /usr/local/lib/python3.10/dist-packages (from aiohttp->datasets) (23.1.0)\n",
            "Requirement already satisfied: charset-normalizer<4.0,>=2.0 in /usr/local/lib/python3.10/dist-packages (from aiohttp->datasets) (2.0.12)\n",
            "Requirement already satisfied: multidict<7.0,>=4.5 in /usr/local/lib/python3.10/dist-packages (from aiohttp->datasets) (6.0.4)\n",
            "Requirement already satisfied: async-timeout<5.0,>=4.0.0a3 in /usr/local/lib/python3.10/dist-packages (from aiohttp->datasets) (4.0.2)\n",
            "Requirement already satisfied: yarl<2.0,>=1.0 in /usr/local/lib/python3.10/dist-packages (from aiohttp->datasets) (1.9.2)\n",
            "Requirement already satisfied: frozenlist>=1.1.1 in /usr/local/lib/python3.10/dist-packages (from aiohttp->datasets) (1.3.3)\n",
            "Requirement already satisfied: aiosignal>=1.1.2 in /usr/local/lib/python3.10/dist-packages (from aiohttp->datasets) (1.3.1)\n",
            "Requirement already satisfied: filelock in /usr/local/lib/python3.10/dist-packages (from huggingface-hub<1.0.0,>=0.11.0->datasets) (3.12.2)\n",
            "Requirement already satisfied: typing-extensions>=3.7.4.3 in /usr/local/lib/python3.10/dist-packages (from huggingface-hub<1.0.0,>=0.11.0->datasets) (4.7.1)\n",
            "Requirement already satisfied: urllib3<1.27,>=1.21.1 in /usr/local/lib/python3.10/dist-packages (from requests>=2.19.0->datasets) (1.26.16)\n",
            "Requirement already satisfied: certifi>=2017.4.17 in /usr/local/lib/python3.10/dist-packages (from requests>=2.19.0->datasets) (2023.5.7)\n",
            "Requirement already satisfied: idna<4,>=2.5 in /usr/local/lib/python3.10/dist-packages (from requests>=2.19.0->datasets) (3.4)\n",
            "Requirement already satisfied: python-dateutil>=2.8.1 in /usr/local/lib/python3.10/dist-packages (from pandas->datasets) (2.8.2)\n",
            "Requirement already satisfied: pytz>=2020.1 in /usr/local/lib/python3.10/dist-packages (from pandas->datasets) (2022.7.1)\n",
            "Requirement already satisfied: six>=1.5 in /usr/local/lib/python3.10/dist-packages (from python-dateutil>=2.8.1->pandas->datasets) (1.16.0)\n",
            "Installing collected packages: xxhash, dill, multiprocess, datasets\n",
            "Successfully installed datasets-2.13.1 dill-0.3.6 multiprocess-0.70.14 xxhash-3.2.0\n"
          ]
        }
      ]
    },
    {
      "cell_type": "code",
      "source": [
        "!pip install torchlibrosa\n",
        "!pip install museval"
      ],
      "metadata": {
        "colab": {
          "base_uri": "https://localhost:8080/"
        },
        "id": "s4JAre54o-ax",
        "outputId": "4c1cb3f3-2ac5-4cef-8d8d-92d98b45b4e4"
      },
      "execution_count": null,
      "outputs": [
        {
          "output_type": "stream",
          "name": "stdout",
          "text": [
            "Collecting torchlibrosa\n",
            "  Downloading torchlibrosa-0.1.0-py3-none-any.whl (11 kB)\n",
            "Requirement already satisfied: numpy in /usr/local/lib/python3.10/dist-packages (from torchlibrosa) (1.22.4)\n",
            "Requirement already satisfied: librosa>=0.8.0 in /usr/local/lib/python3.10/dist-packages (from torchlibrosa) (0.10.0.post2)\n",
            "Requirement already satisfied: audioread>=2.1.9 in /usr/local/lib/python3.10/dist-packages (from librosa>=0.8.0->torchlibrosa) (3.0.0)\n",
            "Requirement already satisfied: scipy>=1.2.0 in /usr/local/lib/python3.10/dist-packages (from librosa>=0.8.0->torchlibrosa) (1.10.1)\n",
            "Requirement already satisfied: scikit-learn>=0.20.0 in /usr/local/lib/python3.10/dist-packages (from librosa>=0.8.0->torchlibrosa) (1.2.2)\n",
            "Requirement already satisfied: joblib>=0.14 in /usr/local/lib/python3.10/dist-packages (from librosa>=0.8.0->torchlibrosa) (1.3.1)\n",
            "Requirement already satisfied: decorator>=4.3.0 in /usr/local/lib/python3.10/dist-packages (from librosa>=0.8.0->torchlibrosa) (4.4.2)\n",
            "Requirement already satisfied: numba>=0.51.0 in /usr/local/lib/python3.10/dist-packages (from librosa>=0.8.0->torchlibrosa) (0.56.4)\n",
            "Requirement already satisfied: soundfile>=0.12.1 in /usr/local/lib/python3.10/dist-packages (from librosa>=0.8.0->torchlibrosa) (0.12.1)\n",
            "Requirement already satisfied: pooch<1.7,>=1.0 in /usr/local/lib/python3.10/dist-packages (from librosa>=0.8.0->torchlibrosa) (1.6.0)\n",
            "Requirement already satisfied: soxr>=0.3.2 in /usr/local/lib/python3.10/dist-packages (from librosa>=0.8.0->torchlibrosa) (0.3.5)\n",
            "Requirement already satisfied: typing-extensions>=4.1.1 in /usr/local/lib/python3.10/dist-packages (from librosa>=0.8.0->torchlibrosa) (4.7.1)\n",
            "Requirement already satisfied: lazy-loader>=0.1 in /usr/local/lib/python3.10/dist-packages (from librosa>=0.8.0->torchlibrosa) (0.3)\n",
            "Requirement already satisfied: msgpack>=1.0 in /usr/local/lib/python3.10/dist-packages (from librosa>=0.8.0->torchlibrosa) (1.0.5)\n",
            "Requirement already satisfied: llvmlite<0.40,>=0.39.0dev0 in /usr/local/lib/python3.10/dist-packages (from numba>=0.51.0->librosa>=0.8.0->torchlibrosa) (0.39.1)\n",
            "Requirement already satisfied: setuptools in /usr/local/lib/python3.10/dist-packages (from numba>=0.51.0->librosa>=0.8.0->torchlibrosa) (67.7.2)\n",
            "Requirement already satisfied: appdirs>=1.3.0 in /usr/local/lib/python3.10/dist-packages (from pooch<1.7,>=1.0->librosa>=0.8.0->torchlibrosa) (1.4.4)\n",
            "Requirement already satisfied: packaging>=20.0 in /usr/local/lib/python3.10/dist-packages (from pooch<1.7,>=1.0->librosa>=0.8.0->torchlibrosa) (23.1)\n",
            "Requirement already satisfied: requests>=2.19.0 in /usr/local/lib/python3.10/dist-packages (from pooch<1.7,>=1.0->librosa>=0.8.0->torchlibrosa) (2.27.1)\n",
            "Requirement already satisfied: threadpoolctl>=2.0.0 in /usr/local/lib/python3.10/dist-packages (from scikit-learn>=0.20.0->librosa>=0.8.0->torchlibrosa) (3.1.0)\n",
            "Requirement already satisfied: cffi>=1.0 in /usr/local/lib/python3.10/dist-packages (from soundfile>=0.12.1->librosa>=0.8.0->torchlibrosa) (1.15.1)\n",
            "Requirement already satisfied: pycparser in /usr/local/lib/python3.10/dist-packages (from cffi>=1.0->soundfile>=0.12.1->librosa>=0.8.0->torchlibrosa) (2.21)\n",
            "Requirement already satisfied: urllib3<1.27,>=1.21.1 in /usr/local/lib/python3.10/dist-packages (from requests>=2.19.0->pooch<1.7,>=1.0->librosa>=0.8.0->torchlibrosa) (1.26.16)\n",
            "Requirement already satisfied: certifi>=2017.4.17 in /usr/local/lib/python3.10/dist-packages (from requests>=2.19.0->pooch<1.7,>=1.0->librosa>=0.8.0->torchlibrosa) (2023.5.7)\n",
            "Requirement already satisfied: charset-normalizer~=2.0.0 in /usr/local/lib/python3.10/dist-packages (from requests>=2.19.0->pooch<1.7,>=1.0->librosa>=0.8.0->torchlibrosa) (2.0.12)\n",
            "Requirement already satisfied: idna<4,>=2.5 in /usr/local/lib/python3.10/dist-packages (from requests>=2.19.0->pooch<1.7,>=1.0->librosa>=0.8.0->torchlibrosa) (3.4)\n",
            "Installing collected packages: torchlibrosa\n",
            "Successfully installed torchlibrosa-0.1.0\n",
            "Collecting museval\n",
            "  Downloading museval-0.4.1-py2.py3-none-any.whl (20 kB)\n",
            "Collecting musdb>=0.4.0 (from museval)\n",
            "  Downloading musdb-0.4.0-py2.py3-none-any.whl (29 kB)\n",
            "Requirement already satisfied: pandas>=1.0.1 in /usr/local/lib/python3.10/dist-packages (from museval) (1.5.3)\n",
            "Requirement already satisfied: numpy in /usr/local/lib/python3.10/dist-packages (from museval) (1.22.4)\n",
            "Requirement already satisfied: scipy in /usr/local/lib/python3.10/dist-packages (from museval) (1.10.1)\n",
            "Collecting simplejson>=3.19.0 (from museval)\n",
            "  Downloading simplejson-3.19.1-cp310-cp310-manylinux_2_5_x86_64.manylinux1_x86_64.manylinux_2_17_x86_64.manylinux2014_x86_64.whl (137 kB)\n",
            "\u001b[2K     \u001b[90m━━━━━━━━━━━━━━━━━━━━━━━━━━━━━━━━━━━━━━\u001b[0m \u001b[32m137.9/137.9 kB\u001b[0m \u001b[31m19.9 MB/s\u001b[0m eta \u001b[36m0:00:00\u001b[0m\n",
            "\u001b[?25hRequirement already satisfied: soundfile in /usr/local/lib/python3.10/dist-packages (from museval) (0.12.1)\n",
            "Requirement already satisfied: jsonschema in /usr/local/lib/python3.10/dist-packages (from museval) (4.3.3)\n",
            "Collecting stempeg>=0.2.3 (from musdb>=0.4.0->museval)\n",
            "  Downloading stempeg-0.2.3-py3-none-any.whl (963 kB)\n",
            "\u001b[2K     \u001b[90m━━━━━━━━━━━━━━━━━━━━━━━━━━━━━━━━━━━━━━\u001b[0m \u001b[32m963.5/963.5 kB\u001b[0m \u001b[31m64.7 MB/s\u001b[0m eta \u001b[36m0:00:00\u001b[0m\n",
            "\u001b[?25hCollecting pyaml (from musdb>=0.4.0->museval)\n",
            "  Downloading pyaml-23.7.0-py3-none-any.whl (17 kB)\n",
            "Requirement already satisfied: tqdm in /usr/local/lib/python3.10/dist-packages (from musdb>=0.4.0->museval) (4.65.0)\n",
            "Requirement already satisfied: python-dateutil>=2.8.1 in /usr/local/lib/python3.10/dist-packages (from pandas>=1.0.1->museval) (2.8.2)\n",
            "Requirement already satisfied: pytz>=2020.1 in /usr/local/lib/python3.10/dist-packages (from pandas>=1.0.1->museval) (2022.7.1)\n",
            "Requirement already satisfied: attrs>=17.4.0 in /usr/local/lib/python3.10/dist-packages (from jsonschema->museval) (23.1.0)\n",
            "Requirement already satisfied: pyrsistent!=0.17.0,!=0.17.1,!=0.17.2,>=0.14.0 in /usr/local/lib/python3.10/dist-packages (from jsonschema->museval) (0.19.3)\n",
            "Requirement already satisfied: cffi>=1.0 in /usr/local/lib/python3.10/dist-packages (from soundfile->museval) (1.15.1)\n",
            "Requirement already satisfied: pycparser in /usr/local/lib/python3.10/dist-packages (from cffi>=1.0->soundfile->museval) (2.21)\n",
            "Requirement already satisfied: six>=1.5 in /usr/local/lib/python3.10/dist-packages (from python-dateutil>=2.8.1->pandas>=1.0.1->museval) (1.16.0)\n",
            "Collecting ffmpeg-python>=0.2.0 (from stempeg>=0.2.3->musdb>=0.4.0->museval)\n",
            "  Downloading ffmpeg_python-0.2.0-py3-none-any.whl (25 kB)\n",
            "Requirement already satisfied: PyYAML in /usr/local/lib/python3.10/dist-packages (from pyaml->musdb>=0.4.0->museval) (6.0)\n",
            "Requirement already satisfied: future in /usr/local/lib/python3.10/dist-packages (from ffmpeg-python>=0.2.0->stempeg>=0.2.3->musdb>=0.4.0->museval) (0.18.3)\n",
            "Installing collected packages: simplejson, pyaml, ffmpeg-python, stempeg, musdb, museval\n",
            "Successfully installed ffmpeg-python-0.2.0 musdb-0.4.0 museval-0.4.1 pyaml-23.7.0 simplejson-3.19.1 stempeg-0.2.3\n"
          ]
        }
      ]
    },
    {
      "cell_type": "code",
      "source": [
        "import torch\n",
        "from torch.utils.data import Dataset\n",
        "from torch.utils.data import DataLoader\n",
        "import torch.nn as nn\n",
        "import torch.optim as optim"
      ],
      "metadata": {
        "id": "eDrBvoeqpnIM"
      },
      "execution_count": null,
      "outputs": []
    },
    {
      "cell_type": "code",
      "source": [
        "#Path for Audio transformer in this place module can be downloaded from\n",
        "#https://github.com/RetroCirce/HTS-Audio-Transformer/tree/main\n",
        "import sys\n",
        "sys.path.append('/content/drive/MyDrive/ALM_models/HTS-Audio-Transformer-main')"
      ],
      "metadata": {
        "id": "0kMuAO5rpqp6"
      },
      "execution_count": null,
      "outputs": []
    },
    {
      "cell_type": "code",
      "source": [
        "from model import *"
      ],
      "metadata": {
        "id": "NiZKF9Szpspd"
      },
      "execution_count": null,
      "outputs": []
    },
    {
      "cell_type": "code",
      "source": [
        "import sys\n",
        "sys.path.append('/content/drive/MyDrive/ALM_models/HTS-Audio-Transformer-main/model')"
      ],
      "metadata": {
        "id": "O6IV5E5YqYfL"
      },
      "execution_count": null,
      "outputs": []
    },
    {
      "cell_type": "code",
      "source": [
        "from layers import *\n",
        "from htsat import *"
      ],
      "metadata": {
        "id": "2Cxi0LIxpt8r"
      },
      "execution_count": null,
      "outputs": []
    },
    {
      "cell_type": "code",
      "source": [
        "import config as htsat_cnf"
      ],
      "metadata": {
        "id": "TLBBrmu5pvcc"
      },
      "execution_count": null,
      "outputs": []
    },
    {
      "cell_type": "code",
      "source": [
        "target_sampling_rate=44100\n",
        "htsat_cnf.sample_rate=target_sampling_rate"
      ],
      "metadata": {
        "id": "HWMu5Y4v5EZq"
      },
      "execution_count": null,
      "outputs": []
    },
    {
      "cell_type": "code",
      "source": [
        "htsat_cnf.classes_num=512"
      ],
      "metadata": {
        "id": "62ovpyOU5OP4"
      },
      "execution_count": null,
      "outputs": []
    },
    {
      "cell_type": "code",
      "source": [
        "import torchaudio\n",
        "root = './'\n",
        "train_dataset = torchaudio.datasets.LIBRISPEECH(root, url='train-clean-100', download=True)"
      ],
      "metadata": {
        "id": "Ea635jA11aEK",
        "colab": {
          "base_uri": "https://localhost:8080/"
        },
        "outputId": "7c268e18-79e0-414f-864f-2fe8444e115b"
      },
      "execution_count": null,
      "outputs": [
        {
          "output_type": "stream",
          "name": "stderr",
          "text": [
            "100%|██████████| 5.95G/5.95G [07:38<00:00, 13.9MB/s]\n"
          ]
        }
      ]
    },
    {
      "cell_type": "code",
      "source": [
        "from torch.utils.data import random_split\n",
        "lengths = [int(len(train_dataset)*0.8),\n",
        "           int(len(train_dataset)*0.1),\n",
        "           len(train_dataset) - int(len(train_dataset)*0.8)-int(len(train_dataset)*0.1)]\n",
        "train_dataset, val_dataset, test_dataset = random_split(train_dataset, lengths)"
      ],
      "metadata": {
        "id": "6WwwJowFPTm4"
      },
      "execution_count": null,
      "outputs": []
    },
    {
      "cell_type": "code",
      "source": [
        "gpt2_ckpt='gpt2'\n",
        "whisper_ckpt='openai/whisper-base'\n",
        "from transformers import GPT2Tokenizer\n",
        "tokenizer=GPT2Tokenizer.from_pretrained(gpt2_ckpt)\n",
        "tokenizer.pad_token=tokenizer.eos_token\n",
        "from transformers import WhisperFeatureExtractor\n",
        "feature_extractor=WhisperFeatureExtractor.from_pretrained(whisper_ckpt)"
      ],
      "metadata": {
        "id": "u5CdCQL6PUac",
        "colab": {
          "base_uri": "https://localhost:8080/",
          "height": 145,
          "referenced_widgets": [
            "2bea4620cff64dafbf19379f12013e3e",
            "46189790ad9e4b269ec71b50f1ed50e0",
            "90f2e2705428499685f243fbce466977",
            "6914110199444914a6303114de7af952",
            "73eadd00adf64b72a446b68bdb0227b4",
            "c459462e2d21486b8441314460c0353d",
            "97e6543c387a4d5988cab92b0c228db5",
            "f8dbe9c7edad445598195adfa111289a",
            "675d5ab72f0d46da82cbed0c6919a890",
            "07b88a7077544ace881eeb73983050cb",
            "29bfa6caf81b4260ad6667f36cd2d071",
            "2e5e81334d384276bad29d776555c80d",
            "ac652f5c1cc8451d870b2defbb90f404",
            "3bed751f3485435a8567990326791562",
            "903f95ae73894773ac70ce0c2ee487a3",
            "5e81fd8f8598414bbadd65a6bdae7970",
            "58950f4e460c4e5ea31ee8993a767cb8",
            "c821dfd0936e4741a23cd5d51809419b",
            "c51b8dee1a354d25ace1f5ce9b76af77",
            "2795817674504fcfbcf3e0d0271fa704",
            "f80ff5c84b5749abbd7a7e557669ba62",
            "cf14fcdecd4346cbb3be66f606990355",
            "98a019290558484cbe9c3cd7ee977977",
            "572a6ea7927546e6bdfdabe7dba8eb82",
            "5442c39fb7a8480c9a75203654295eb8",
            "3afacb702516400ba4941e02e95ac251",
            "efa6bd357f664b26ae19b3ddac07f163",
            "f64e1e5fc3f34292b84f1b518e7d266b",
            "b863b7a45faa4054872e45f6e5cc9955",
            "b0d4713ec12a4af6a911cfc9ab8fe393",
            "dc5c6e1bbc4a4e648af5c757f33bdd0e",
            "f29ce1b9182446629ca48b401cbc30f3",
            "a1c98b642e1940259bcf4aa25c4620d8",
            "22b22193cbf5484bbc3ac0452e8694a2",
            "7588936045564be8a5a5edbe01775fa1",
            "33ec5391377049af81010ced3acdd9ae",
            "d42c266e6c094f9b8907f3ace839e2b6",
            "ce5bdc94fd764d00a09b2fb57cc345cd",
            "c09b7efa8a474a77837b8eed96f04910",
            "b02952b0fd9d452095f1f4e3b5fbb246",
            "7bfbc36474924aabbde7a5d3c7a9f9f3",
            "ba5f4c2f81d8423a8f7baf17c3119475",
            "f7b185767d684255bfe70d5f1593948d",
            "b433dde01665475da36cbad072fbea39"
          ]
        },
        "outputId": "289c8ba6-e48a-40b8-b7df-e4d34baf2be7"
      },
      "execution_count": null,
      "outputs": [
        {
          "output_type": "display_data",
          "data": {
            "text/plain": [
              "Downloading (…)olve/main/vocab.json:   0%|          | 0.00/1.04M [00:00<?, ?B/s]"
            ],
            "application/vnd.jupyter.widget-view+json": {
              "version_major": 2,
              "version_minor": 0,
              "model_id": "2bea4620cff64dafbf19379f12013e3e"
            }
          },
          "metadata": {}
        },
        {
          "output_type": "display_data",
          "data": {
            "text/plain": [
              "Downloading (…)olve/main/merges.txt:   0%|          | 0.00/456k [00:00<?, ?B/s]"
            ],
            "application/vnd.jupyter.widget-view+json": {
              "version_major": 2,
              "version_minor": 0,
              "model_id": "2e5e81334d384276bad29d776555c80d"
            }
          },
          "metadata": {}
        },
        {
          "output_type": "display_data",
          "data": {
            "text/plain": [
              "Downloading (…)lve/main/config.json:   0%|          | 0.00/665 [00:00<?, ?B/s]"
            ],
            "application/vnd.jupyter.widget-view+json": {
              "version_major": 2,
              "version_minor": 0,
              "model_id": "98a019290558484cbe9c3cd7ee977977"
            }
          },
          "metadata": {}
        },
        {
          "output_type": "display_data",
          "data": {
            "text/plain": [
              "Downloading (…)rocessor_config.json:   0%|          | 0.00/185k [00:00<?, ?B/s]"
            ],
            "application/vnd.jupyter.widget-view+json": {
              "version_major": 2,
              "version_minor": 0,
              "model_id": "22b22193cbf5484bbc3ac0452e8694a2"
            }
          },
          "metadata": {}
        }
      ]
    },
    {
      "cell_type": "code",
      "source": [
        "device='cuda' if torch.cuda.is_available() else 'cpu'"
      ],
      "metadata": {
        "id": "VVWICpr-PWgD"
      },
      "execution_count": null,
      "outputs": []
    },
    {
      "cell_type": "code",
      "source": [
        "#Dataset class for the model\n",
        "#returns audio features, labels and the respective prompt\n",
        "import librosa\n",
        "import numpy as np\n",
        "class dataset(Dataset):\n",
        "  def __init__(self,train_df,feature_extractor,tokenizer):\n",
        "    super().__init__()\n",
        "    self.train_df=train_df\n",
        "    self.feature_extractor=feature_extractor\n",
        "    self.tokenizer=tokenizer\n",
        "  def __len__(self):\n",
        "    return len(self.train_df)\n",
        "  def __getitem__(self,idx):\n",
        "    waveform, sample_rate, utterance, speaker_id, chapter_id, utterance_id=self.train_df[idx]\n",
        "    waveform=waveform[0]\n",
        "    audio_feats=torch.zeros((sample_rate*7))\n",
        "    min_len=min(len(waveform),sample_rate*7)\n",
        "    waveform=torch.tensor(waveform)\n",
        "    audio_feats[:min_len]=waveform[:min_len].clone().detach()\n",
        "\n",
        "    audio_feats=np.array(audio_feats)\n",
        "    original_sample_rate = 16000\n",
        "    new_sample_rate = 44100\n",
        "    audio_feats = librosa.resample(audio_feats, orig_sr=original_sample_rate,target_sr=new_sample_rate)\n",
        "    audio_feats=torch.tensor(audio_feats)\n",
        "    #audio_feats=self.feature_extractor(waveform[0],sampling_rate=sample_rate,return_tensors='pt')['input_features']\n",
        "\n",
        "    labels_batch=self.tokenizer(utterance,return_tensors='pt',max_length=200,padding='max_length',truncation=True)\n",
        "    sum=torch.sum(labels_batch.attention_mask,axis=-1)\n",
        "    labels_batch.attention_mask[:,sum]=1\n",
        "    labels = labels_batch[\"input_ids\"].masked_fill(labels_batch.attention_mask.ne(1), -100)\n",
        "\n",
        "    prompt_ids=self.tokenizer(utterance,return_tensors='pt',max_length=200,padding='max_length',truncation=True)['input_ids']\n",
        "\n",
        "\n",
        "    audio_feats=torch.squeeze(audio_feats,axis=0).to(device)\n",
        "    labels=torch.squeeze(labels,axis=0).to(device)\n",
        "    prompt_ids=torch.squeeze(prompt_ids,axis=0).to(device)\n",
        "\n",
        "    return audio_feats,labels,prompt_ids"
      ],
      "metadata": {
        "id": "Nq5cieLWPYGO"
      },
      "execution_count": null,
      "outputs": []
    },
    {
      "cell_type": "code",
      "source": [
        "tr_dataset=dataset(train_dataset,feature_extractor,tokenizer)\n",
        "val_dataset=dataset(val_dataset,feature_extractor,tokenizer)\n",
        "test_dataset=dataset(test_dataset,feature_extractor,tokenizer)\n",
        "\n",
        "train_loader=DataLoader(tr_dataset,batch_size=4,shuffle=True)\n",
        "val_loader=DataLoader(val_dataset,batch_size=4,shuffle=True)\n",
        "test_loader=DataLoader(test_dataset,batch_size=4,shuffle=True)"
      ],
      "metadata": {
        "id": "bqgad8-6PZ1k"
      },
      "execution_count": null,
      "outputs": []
    },
    {
      "cell_type": "code",
      "source": [
        "import torch.nn as nn\n",
        "from transformers import AutoConfig\n",
        "from transformers import GPT2LMHeadModel\n",
        "#Transformer mapper network\n",
        "\"\"\"Arguments- input-dimension, number of heads, hidden size dimension, number of blocks, input sequence length,\n",
        "output_sequence length and output dimension.\n",
        "Projects input to output dimension followed by multiheadself attention and sequence length reduction\n",
        "\"\"\"\n",
        "class TransformerModel(nn.Module):\n",
        "    def __init__(self, input_dim, nhead, nhid, nlayers, inp_seq_len,out_seq, output_dim):\n",
        "        super(TransformerModel, self).__init__()\n",
        "\n",
        "        # Stage 1: Self-attention mechanism that changes the output dimension\n",
        "        self.encoder = nn.Linear(input_dim, nhid)\n",
        "        self.transformer_encoder = nn.TransformerEncoder(\n",
        "            nn.TransformerEncoderLayer(nhid, nhead), nlayers\n",
        "        )\n",
        "        self.proj = nn.Linear(nhid, output_dim)\n",
        "\n",
        "        # Stage 2: Learned positional encoding to change the sequence length\n",
        "        self.pos_encoder = nn.Linear(inp_seq_len, out_seq)\n",
        "\n",
        "\n",
        "\n",
        "    def forward(self, src):\n",
        "        src = self.encoder(src)\n",
        "        src = self.transformer_encoder(src)\n",
        "        src = self.proj(src)\n",
        "\n",
        "        # Adjust the sequence length\n",
        "        src = self.pos_encoder(src.transpose(1, 2)).transpose(1, 2)\n",
        "\n",
        "        return src\n",
        "\n",
        "\"\"\"\n",
        "Main model consists of\n",
        "whisper encoder, Mapper transformer, GPT2 Decoder\n",
        "returns loss,logits\n",
        "\"\"\"\n",
        "class pengi_model_alike(nn.Module):\n",
        "  def __init__(self,htsat_cnf,gpt2_ckpt):\n",
        "    super().__init__()\n",
        "    self.htsat_cnf=htsat_cnf\n",
        "    self.gpt2_ckpt=AutoConfig.from_pretrained(gpt2_ckpt)\n",
        "    self.htsat_model=HTSAT_Swin_Transformer(num_classes=htsat_cnf.classes_num,config=htsat_cnf)\n",
        "    self.mapping=TransformerModel(input_dim=htsat_cnf.classes_num,\n",
        "                                     nhead=6,\n",
        "                                     nhid=3072,\n",
        "                                    nlayers=8,\n",
        "                                    inp_seq_len=self.htsat_cnf.window_size,\n",
        "                                     out_seq=40,\n",
        "                                     output_dim=self.gpt2_ckpt.n_embd)\n",
        "\n",
        "    self.gpt2=GPT2LMHeadModel.from_pretrained(gpt2_ckpt)\n",
        "\n",
        "  def forward(self,\n",
        "              input_audio_features,\n",
        "              input_text_ids=None,\n",
        "              input_text_embeds=None,\n",
        "              labels=None,\n",
        "              return_dict=False):\n",
        "\n",
        "    x=self.htsat_model(input_audio_features)\n",
        "    lab_dtype=labels.dtype\n",
        "    audio_embeddings=x['framewise_output']\n",
        "    audio_embeddings=self.mapping(audio_embeddings)\n",
        "    out_seq=self.mapping.out_seq\n",
        "    inp_labels=-100*torch.ones((labels.shape[0],out_seq))\n",
        "\n",
        "\n",
        "\n",
        "    input_embeds=torch.concat([audio_embeddings,self.gpt2.transformer.wte(input_text_ids)],axis=-2)\n",
        "\n",
        "    inp_labels=inp_labels.to(labels.device)\n",
        "\n",
        "    labels=torch.concat([inp_labels.to(labels.device),labels],axis=-1)\n",
        "    labels=labels[:,:-out_seq]\n",
        "\n",
        "\n",
        "\n",
        "    input_embeds=input_embeds[:,:-out_seq,:]\n",
        "    out=self.gpt2(inputs_embeds=input_embeds,labels=labels.to(lab_dtype),return_dict=return_dict)\n",
        "    return out"
      ],
      "metadata": {
        "id": "f3YEp9GJCOCZ"
      },
      "execution_count": null,
      "outputs": []
    },
    {
      "cell_type": "code",
      "source": [
        "pengi=pengi_model_alike(htsat_cnf,gpt2_ckpt)"
      ],
      "metadata": {
        "id": "p3JrlRIvF8qi"
      },
      "execution_count": null,
      "outputs": []
    },
    {
      "cell_type": "code",
      "source": [
        "pengi=pengi.to(device)"
      ],
      "metadata": {
        "id": "LeopbdIzTCRF"
      },
      "execution_count": null,
      "outputs": []
    },
    {
      "cell_type": "code",
      "source": [
        "out=pengi(input_audio_features=a,input_text_ids=c,labels=b)"
      ],
      "metadata": {
        "id": "6K6kqh3BQ1qR"
      },
      "execution_count": null,
      "outputs": []
    },
    {
      "cell_type": "code",
      "source": [
        "import wandb\n",
        "wandb.login()"
      ],
      "metadata": {
        "colab": {
          "base_uri": "https://localhost:8080/",
          "height": 124
        },
        "id": "9j-QPkuNVmIz",
        "outputId": "4a091628-a36f-4773-b85c-04ac7688ef62"
      },
      "execution_count": null,
      "outputs": [
        {
          "output_type": "display_data",
          "data": {
            "text/plain": [
              "<IPython.core.display.Javascript object>"
            ],
            "application/javascript": [
              "\n",
              "        window._wandbApiKey = new Promise((resolve, reject) => {\n",
              "            function loadScript(url) {\n",
              "            return new Promise(function(resolve, reject) {\n",
              "                let newScript = document.createElement(\"script\");\n",
              "                newScript.onerror = reject;\n",
              "                newScript.onload = resolve;\n",
              "                document.body.appendChild(newScript);\n",
              "                newScript.src = url;\n",
              "            });\n",
              "            }\n",
              "            loadScript(\"https://cdn.jsdelivr.net/npm/postmate/build/postmate.min.js\").then(() => {\n",
              "            const iframe = document.createElement('iframe')\n",
              "            iframe.style.cssText = \"width:0;height:0;border:none\"\n",
              "            document.body.appendChild(iframe)\n",
              "            const handshake = new Postmate({\n",
              "                container: iframe,\n",
              "                url: 'https://wandb.ai/authorize'\n",
              "            });\n",
              "            const timeout = setTimeout(() => reject(\"Couldn't auto authenticate\"), 5000)\n",
              "            handshake.then(function(child) {\n",
              "                child.on('authorize', data => {\n",
              "                    clearTimeout(timeout)\n",
              "                    resolve(data)\n",
              "                });\n",
              "            });\n",
              "            })\n",
              "        });\n",
              "    "
            ]
          },
          "metadata": {}
        },
        {
          "output_type": "stream",
          "name": "stderr",
          "text": [
            "\u001b[34m\u001b[1mwandb\u001b[0m: Logging into wandb.ai. (Learn how to deploy a W&B server locally: https://wandb.me/wandb-server)\n",
            "\u001b[34m\u001b[1mwandb\u001b[0m: You can find your API key in your browser here: https://wandb.ai/authorize\n",
            "wandb: Paste an API key from your profile and hit enter, or press ctrl+c to quit:"
          ]
        },
        {
          "name": "stdout",
          "output_type": "stream",
          "text": [
            " ··········\n"
          ]
        },
        {
          "output_type": "stream",
          "name": "stderr",
          "text": [
            "\u001b[34m\u001b[1mwandb\u001b[0m: Appending key for api.wandb.ai to your netrc file: /root/.netrc\n"
          ]
        },
        {
          "output_type": "execute_result",
          "data": {
            "text/plain": [
              "True"
            ]
          },
          "metadata": {},
          "execution_count": 23
        }
      ]
    },
    {
      "cell_type": "code",
      "source": [
        "import torch.optim as optim\n",
        "wandb.init(\n",
        "    project='alm_model_run19_pengi_actual',\n",
        ")"
      ],
      "metadata": {
        "colab": {
          "base_uri": "https://localhost:8080/",
          "height": 144
        },
        "id": "9Qf4nq6WVR36",
        "outputId": "acba23c6-0efc-46a0-a731-807e757ce8e4"
      },
      "execution_count": null,
      "outputs": [
        {
          "output_type": "stream",
          "name": "stderr",
          "text": [
            "\u001b[34m\u001b[1mwandb\u001b[0m: Currently logged in as: \u001b[33mdevansh20053\u001b[0m (\u001b[33mdevansh2002\u001b[0m). Use \u001b[1m`wandb login --relogin`\u001b[0m to force relogin\n"
          ]
        },
        {
          "output_type": "display_data",
          "data": {
            "text/plain": [
              "<IPython.core.display.HTML object>"
            ],
            "text/html": [
              "Tracking run with wandb version 0.15.5"
            ]
          },
          "metadata": {}
        },
        {
          "output_type": "display_data",
          "data": {
            "text/plain": [
              "<IPython.core.display.HTML object>"
            ],
            "text/html": [
              "Run data is saved locally in <code>/content/wandb/run-20230715_072043-vdrl6rte</code>"
            ]
          },
          "metadata": {}
        },
        {
          "output_type": "display_data",
          "data": {
            "text/plain": [
              "<IPython.core.display.HTML object>"
            ],
            "text/html": [
              "Syncing run <strong><a href='https://wandb.ai/devansh2002/alm_model_run19_pengi_actual/runs/vdrl6rte' target=\"_blank\">helpful-valley-1</a></strong> to <a href='https://wandb.ai/devansh2002/alm_model_run19_pengi_actual' target=\"_blank\">Weights & Biases</a> (<a href='https://wandb.me/run' target=\"_blank\">docs</a>)<br/>"
            ]
          },
          "metadata": {}
        },
        {
          "output_type": "display_data",
          "data": {
            "text/plain": [
              "<IPython.core.display.HTML object>"
            ],
            "text/html": [
              " View project at <a href='https://wandb.ai/devansh2002/alm_model_run19_pengi_actual' target=\"_blank\">https://wandb.ai/devansh2002/alm_model_run19_pengi_actual</a>"
            ]
          },
          "metadata": {}
        },
        {
          "output_type": "display_data",
          "data": {
            "text/plain": [
              "<IPython.core.display.HTML object>"
            ],
            "text/html": [
              " View run at <a href='https://wandb.ai/devansh2002/alm_model_run19_pengi_actual/runs/vdrl6rte' target=\"_blank\">https://wandb.ai/devansh2002/alm_model_run19_pengi_actual/runs/vdrl6rte</a>"
            ]
          },
          "metadata": {}
        },
        {
          "output_type": "execute_result",
          "data": {
            "text/html": [
              "<button onClick=\"this.nextSibling.style.display='block';this.style.display='none';\">Display W&B run</button><iframe src='https://wandb.ai/devansh2002/alm_model_run19_pengi_actual/runs/vdrl6rte?jupyter=true' style='border:none;width:100%;height:420px;display:none;'></iframe>"
            ],
            "text/plain": [
              "<wandb.sdk.wandb_run.Run at 0x7de1a301db40>"
            ]
          },
          "metadata": {},
          "execution_count": 24
        }
      ]
    },
    {
      "cell_type": "code",
      "source": [
        "device='cuda' if torch.cuda.is_available() else 'cpu'"
      ],
      "metadata": {
        "id": "WlNRTUM-Xz0f"
      },
      "execution_count": null,
      "outputs": []
    },
    {
      "cell_type": "code",
      "source": [
        "from tqdm import tqdm\n",
        "#training function\n",
        "#returns training loss and validation loss as per the logging steps\n",
        "def train(model,train_loader,val_loader,epochs,logging_steps,optim,scheduler,grad_acc=1,):\n",
        "  gradient_accumulator = {}\n",
        "  for name,param in model.named_parameters():\n",
        "    gradient_accumulator[name]=0.0\n",
        "\n",
        "  # Define the total number of training steps and create a scheduler\n",
        "  total_steps = len(train_loader) * epochs\n",
        "\n",
        "  #wandb.watch(model,log='all',log_freq=20)\n",
        "  train_loss=[]\n",
        "  val_loss=[]\n",
        "  tr_steps=0\n",
        "  val_steps=0\n",
        "  best_val_loss = float('inf')\n",
        "\n",
        "  for ep in range(epochs):\n",
        "    running_loss=0.0\n",
        "    model.train()\n",
        "    for i,(audio,labels,prompt) in enumerate(tqdm(train_loader)):\n",
        "      out=model(input_audio_features=audio.to(device),\n",
        "              input_text_ids=prompt.to(device),\n",
        "              labels=labels.to(device))\n",
        "      loss=out[0]\n",
        "      running_loss+=loss.item()\n",
        "      loss.backward()\n",
        "\n",
        "      # Gradient accumulation\n",
        "      for name, param in model.named_parameters():\n",
        "        gradient_accumulator[name] += param.grad if param.grad is not None else 0.0\n",
        "\n",
        "      if (i + 1) % grad_acc == 0:\n",
        "        torch.nn.utils.clip_grad_norm_(model.parameters(), max_norm=1.0)\n",
        "        optimizer.step()\n",
        "        scheduler.step(running_loss/(i+1))  # Update learning rate schedule\n",
        "        optimizer.zero_grad()\n",
        "\n",
        "        for name, param in model.named_parameters():\n",
        "          gradient_accumulator[name]=0\n",
        "\n",
        "      if((i+1)%logging_steps==0):\n",
        "        train_loss.append(running_loss/(i+1))\n",
        "        tr_steps+=1\n",
        "        wandb.log({\"tr/loss\":train_loss[-1],\n",
        "                   \"tr/step\":tr_steps})\n",
        "\n",
        "    if i % grad_acc != 0:\n",
        "      optimizer.step()\n",
        "      optimizer.zero_grad()\n",
        "\n",
        "    model.eval()\n",
        "    running_loss=0.0\n",
        "    with torch.no_grad():\n",
        "      for i,(audio,labels,prompt) in enumerate(tqdm(val_loader)):\n",
        "        out=model(input_audio_features=audio.to(device),\n",
        "              input_text_ids=prompt.to(device),\n",
        "              labels=labels.to(device))\n",
        "        loss=out[0]\n",
        "        running_loss+=loss.item()\n",
        "        if((i+1)%logging_steps==0):\n",
        "          val_loss.append(running_loss/(i+1))\n",
        "          val_steps+=1\n",
        "          wandb.log({\"val/loss\":val_loss[-1],\n",
        "                     \"val/step\":val_steps})\n",
        "  return train_loss,val_loss\n"
      ],
      "metadata": {
        "id": "hH_mvv2eVG3w"
      },
      "execution_count": null,
      "outputs": []
    },
    {
      "cell_type": "code",
      "source": [
        "pengi=pengi.to(device)"
      ],
      "metadata": {
        "id": "ODIz0bn5gsV7"
      },
      "execution_count": null,
      "outputs": []
    },
    {
      "cell_type": "code",
      "source": [
        "#Number of parameters for Mapper network\n",
        "import numpy as np\n",
        "a=[param.numel() for name,param in pengi.named_parameters() if name[0]=='m']\n",
        "print(np.sum(np.array(a)))"
      ],
      "metadata": {
        "colab": {
          "base_uri": "https://localhost:8080/"
        },
        "id": "DscdCnSkabfs",
        "outputId": "fec06d47-96f5-4591-a3c1-b28267a4dba2"
      },
      "execution_count": null,
      "outputs": [
        {
          "output_type": "stream",
          "name": "stdout",
          "text": [
            "406867752\n"
          ]
        }
      ]
    },
    {
      "cell_type": "code",
      "source": [
        "#Number of parameters HTS-AT transformer\n",
        "a=[param.numel() for name,param in pengi.named_parameters() if name[0]=='h']\n",
        "print(np.sum(np.array(a)))"
      ],
      "metadata": {
        "colab": {
          "base_uri": "https://localhost:8080/"
        },
        "id": "vf2sOVorab-7",
        "outputId": "bda32d0c-c3c4-4415-fce4-153880b3694e"
      },
      "execution_count": null,
      "outputs": [
        {
          "output_type": "stream",
          "name": "stdout",
          "text": [
            "31240408\n"
          ]
        }
      ]
    },
    {
      "cell_type": "code",
      "source": [
        "#Number of parameters for GPT2 model\n",
        "a=[param.numel() for name,param in pengi.named_parameters() if name[0]=='g']\n",
        "print(np.sum(np.array(a)))"
      ],
      "metadata": {
        "colab": {
          "base_uri": "https://localhost:8080/"
        },
        "id": "Uw6NqSwHaerK",
        "outputId": "c3bcfd18-ee38-4a6a-b5f9-b0af7f0935aa"
      },
      "execution_count": null,
      "outputs": [
        {
          "output_type": "stream",
          "name": "stdout",
          "text": [
            "124439808\n"
          ]
        }
      ]
    },
    {
      "cell_type": "code",
      "source": [
        "#Total number of parameters for Module\n",
        "a=[param.numel() for name,param in pengi.named_parameters()]\n",
        "print(np.sum(np.array(a)))"
      ],
      "metadata": {
        "colab": {
          "base_uri": "https://localhost:8080/"
        },
        "id": "FnqMfhZ9afJd",
        "outputId": "93743c5e-b7d7-4824-af44-e68d531595a3"
      },
      "execution_count": null,
      "outputs": [
        {
          "output_type": "stream",
          "name": "stdout",
          "text": [
            "562547968\n"
          ]
        }
      ]
    },
    {
      "cell_type": "code",
      "source": [
        "from transformers import get_linear_schedule_with_warmup\n",
        "\n",
        "# Add weight decay into the optimizer\n",
        "learning_rates=[\n",
        "    {\"params\":pengi.htsat_model.parameters(),\"lr\":0.0001,'weight_decay':0.01},\n",
        "    {\"params\":pengi.mapping.parameters(),\"lr\":0.0001,'weight_decay':0.01},\n",
        "    {\"params\":pengi.gpt2.parameters(),\"lr\":0.0001,'weight_decay':0.01},\n",
        "]\n",
        "optimizer=optim.Adam(learning_rates)\n",
        "\n",
        "# Define the total number of training steps and create a scheduler\n",
        "total_steps = len(train_loader) * 2\n",
        "# scheduler = torch.optim.lr_scheduler.ReduceLROnPlateau(optimizer, 'min')\n",
        "# from torch.optim.lr_scheduler import CyclicLR\n",
        "# scheduler = CyclicLR(optimizer, base_lr=0.00001, max_lr=0.1, step_size_up=2000)\n",
        "total_epochs = 2\n",
        "warmup_steps = 4000\n",
        "scheduler = get_linear_schedule_with_warmup(optimizer, num_warmup_steps=warmup_steps, num_training_steps=total_epochs)"
      ],
      "metadata": {
        "id": "gEe-WNJxVKSN"
      },
      "execution_count": null,
      "outputs": []
    },
    {
      "cell_type": "code",
      "source": [
        "import warnings\n",
        "warnings.filterwarnings('ignore')\n",
        "train(pengi.to(device),train_loader,val_loader,2,25,optimizer,scheduler,grad_acc=1)"
      ],
      "metadata": {
        "id": "uHWZa7arXLvj"
      },
      "execution_count": null,
      "outputs": []
    },
    {
      "cell_type": "code",
      "source": [
        "!pip install torchmetrics\n",
        "from torchmetrics.functional import word_error_rate"
      ],
      "metadata": {
        "colab": {
          "base_uri": "https://localhost:8080/"
        },
        "id": "U3GYsyGx5gNu",
        "outputId": "c1b417c9-4bd2-43ab-fe29-d382f2132124"
      },
      "execution_count": null,
      "outputs": [
        {
          "output_type": "stream",
          "name": "stdout",
          "text": [
            "Collecting torchmetrics\n",
            "  Downloading torchmetrics-1.0.1-py3-none-any.whl (729 kB)\n",
            "\u001b[?25l     \u001b[90m━━━━━━━━━━━━━━━━━━━━━━━━━━━━━━━━━━━━━━━━\u001b[0m \u001b[32m0.0/729.2 kB\u001b[0m \u001b[31m?\u001b[0m eta \u001b[36m-:--:--\u001b[0m\r\u001b[2K     \u001b[90m━━━━━━━━━━━━━━━━━━━━━━━━━━━━━━━━━━━━━━\u001b[0m \u001b[32m729.2/729.2 kB\u001b[0m \u001b[31m36.0 MB/s\u001b[0m eta \u001b[36m0:00:00\u001b[0m\n",
            "\u001b[?25hRequirement already satisfied: numpy>1.20.0 in /usr/local/lib/python3.10/dist-packages (from torchmetrics) (1.22.4)\n",
            "Requirement already satisfied: torch>=1.8.1 in /usr/local/lib/python3.10/dist-packages (from torchmetrics) (2.0.1+cu118)\n",
            "Requirement already satisfied: packaging in /usr/local/lib/python3.10/dist-packages (from torchmetrics) (23.1)\n",
            "Collecting lightning-utilities>=0.7.0 (from torchmetrics)\n",
            "  Downloading lightning_utilities-0.9.0-py3-none-any.whl (23 kB)\n",
            "Requirement already satisfied: typing-extensions in /usr/local/lib/python3.10/dist-packages (from lightning-utilities>=0.7.0->torchmetrics) (4.7.1)\n",
            "Requirement already satisfied: filelock in /usr/local/lib/python3.10/dist-packages (from torch>=1.8.1->torchmetrics) (3.12.2)\n",
            "Requirement already satisfied: sympy in /usr/local/lib/python3.10/dist-packages (from torch>=1.8.1->torchmetrics) (1.11.1)\n",
            "Requirement already satisfied: networkx in /usr/local/lib/python3.10/dist-packages (from torch>=1.8.1->torchmetrics) (3.1)\n",
            "Requirement already satisfied: jinja2 in /usr/local/lib/python3.10/dist-packages (from torch>=1.8.1->torchmetrics) (3.1.2)\n",
            "Requirement already satisfied: triton==2.0.0 in /usr/local/lib/python3.10/dist-packages (from torch>=1.8.1->torchmetrics) (2.0.0)\n",
            "Requirement already satisfied: cmake in /usr/local/lib/python3.10/dist-packages (from triton==2.0.0->torch>=1.8.1->torchmetrics) (3.25.2)\n",
            "Requirement already satisfied: lit in /usr/local/lib/python3.10/dist-packages (from triton==2.0.0->torch>=1.8.1->torchmetrics) (16.0.6)\n",
            "Requirement already satisfied: MarkupSafe>=2.0 in /usr/local/lib/python3.10/dist-packages (from jinja2->torch>=1.8.1->torchmetrics) (2.1.3)\n",
            "Requirement already satisfied: mpmath>=0.19 in /usr/local/lib/python3.10/dist-packages (from sympy->torch>=1.8.1->torchmetrics) (1.3.0)\n",
            "Installing collected packages: lightning-utilities, torchmetrics\n",
            "Successfully installed lightning-utilities-0.9.0 torchmetrics-1.0.1\n"
          ]
        }
      ]
    },
    {
      "cell_type": "code",
      "source": [
        "def generate_text(input_embeddings, model, tokenizer, temperature=1.0, max_length=100, eos_token_id=None):\n",
        "    # Assume input_embeddings is a tensor of shape [1, seq_len, hidden_size]\n",
        "    past_key_values = None\n",
        "    generated_tokens = []\n",
        "    print(input_embeddings.shape)\n",
        "    # Apply softmax to logits to get token probabilities\n",
        "    softmax = torch.nn.functional.softmax\n",
        "    for i in range(max_length):\n",
        "\n",
        "        outputs = model.gpt2(inputs_embeds=input_embeddings,past_key_values=None)\n",
        "        logits = outputs.logits\n",
        "        past_key_values = outputs.past_key_values\n",
        "\n",
        "        # Apply a temperature to the logits to control the randomness of the predictions\n",
        "        scaled_logits = logits[:, -1, :] / temperature\n",
        "        \"\"\"\n",
        "        For getting a multinomial distribution for sampling next token use the below code\n",
        "        next_token = torch.multinomial(softmax(scaled_logits, dim=-1), num_samples=1)\n",
        "        \"\"\"\n",
        "        next_token = torch.argmax(torch.softmax(scaled_logits, dim=-1), dim=-1).unsqueeze(-1)\n",
        "        generated_tokens.append(next_token.item())\n",
        "        next_embeds = model.gpt2.transformer.wte(next_token)\n",
        "        input_embeddings=torch.concat([input_embeddings,next_embeds],axis=1)\n",
        "        if eos_token_id is not None and next_token == eos_token_id:\n",
        "            break\n",
        "\n",
        "    # Convert the list of output tokens into a string\n",
        "    output_text = tokenizer.decode(generated_tokens,skip_special_tokens=True)\n",
        "    return output_text"
      ],
      "metadata": {
        "id": "vyBQdUaT5gym"
      },
      "execution_count": null,
      "outputs": []
    },
    {
      "cell_type": "code",
      "source": [
        "from tqdm import tqdm\n",
        "#Inference time modelling for observing the wer\n",
        "#Returns wer over the testing loader model\n",
        "def predict(model,test_loader,tokenizer):\n",
        "  wer_sum=[]\n",
        "  cer_sum=[]\n",
        "  model.eval()\n",
        "  with torch.no_grad():\n",
        "    for i,(audio,labels,prompt) in tqdm(enumerate(test_loader)):\n",
        "      if i==100:\n",
        "        break\n",
        "      arr=-100*torch.ones(labels.shape)\n",
        "      mask=arr==labels.cpu()\n",
        "      labels=labels.cpu()\n",
        "      labels=labels.masked_fill(mask,50256)\n",
        "      predicted=[]\n",
        "      ground_truth=tokenizer.batch_decode(labels.cpu().detach(),skip_special_tokens=True)\n",
        "      for bat in range(labels.shape[0]):\n",
        "        audio_inp=audio[bat:bat+1,:]\n",
        "        audio_inp=model.htsat_model(audio_inp)['framewise_output']\n",
        "        audio_embeds=model.mapping(audio_inp)\n",
        "\n",
        "\n",
        "\n",
        "        predicted.append(generate_text(audio_embeds,model,tokenizer,1,100,tokenizer.eos_token))\n",
        "      print(\"Gt\")\n",
        "      for gt in ground_truth:\n",
        "        print(gt)\n",
        "      print(\"Pred\")\n",
        "      for pred in predicted:\n",
        "        print(pred)\n",
        "      wer_sum.append(word_error_rate(predicted,ground_truth))\n",
        "\n",
        "\n",
        "\n",
        "  return wer_sum"
      ],
      "metadata": {
        "id": "DjfLJeKM5pAN"
      },
      "execution_count": null,
      "outputs": []
    },
    {
      "cell_type": "code",
      "source": [
        "wer=predict(pengi,test_loader,tokenizer)"
      ],
      "metadata": {
        "colab": {
          "base_uri": "https://localhost:8080/"
        },
        "id": "JbfEq7Cg5w1i",
        "outputId": "857d2ae6-de5d-4131-b3a3-35cdd13f7515"
      },
      "execution_count": null,
      "outputs": [
        {
          "output_type": "stream",
          "name": "stderr",
          "text": [
            "\r0it [00:00, ?it/s]"
          ]
        },
        {
          "output_type": "stream",
          "name": "stdout",
          "text": [
            "torch.Size([1, 40, 768])\n",
            "torch.Size([1, 40, 768])\n",
            "torch.Size([1, 40, 768])\n",
            "torch.Size([1, 40, 768])\n"
          ]
        },
        {
          "output_type": "stream",
          "name": "stderr",
          "text": [
            "\r1it [00:05,  5.94s/it]"
          ]
        },
        {
          "output_type": "stream",
          "name": "stdout",
          "text": [
            "Gt\n",
            "MUTTERED HE AS HE FINISHED AND THEN GENTLY DISPLACING THE BEDCLOTHES LAID HIS HAND UPON THE HEART WITH A LONG DRAWN SIGH LIKE THAT OF UTTER WEARINESS THE SICK MAN MOVED HIS HEAD ROUND AND FIXED HIS EYES UPON HIM\n",
            "THE LATTER DAY LABOURER MALE AS WELL AS FEMALE WAS ESSENTIALLY A MACHINE MINDER AND FEEDER A SERVANT AND ATTENDANT OR AN ARTIST UNDER DIRECTION THE WOMEN IN COMPARISON WITH THOSE GRAHAM REMEMBERED\n",
            "BUT SHE WAS A CAPABLE GIRL AND HAD NO DOUBT OF HER OWN ABILITY TO GET AND KEEP THE SCHOOL IN GOOD WORKING ORDER SHE SMILED BRIGHTLY AT MISTER BAXTER VERY WELL FOR A BEGINNING THE CHILDREN SEEM BRIGHT AND TEACHABLE\n",
            "EVER THE ARMORED MEN FLED FROM IT AND EVER WAS IT SWIFTER THAN THEY TEETERING AT THEIR HEELS ON ITS TRIPOD LEGS FROM HALF ITS LENGTH THE DARTING SNAKE STREAMED RED RAIN I HEARD A SIGH FROM RUTH\n",
            "Pred\n",
            "AND WHEN OF THE PENGUINS HE WAS WOULDING HIM FOR RACE AND DIED AND JAMELED HE TOLD THROUGH IT NO ONE FOLD AWAY NOT HIS FAMILYNew School for Boys raised its pink outfits yesterday Tuesday after its advocacy mission came under attack in Maine state courts after describing students harmed by pink clothes not allowed as pink, reports CNN Connecticut's Byron Ross.\n",
            " The policy runs back to 2012 when it came into effect in April 2013 when bans were\n",
            "AND THAT IS AWARE OF THE LEGITIMATED ATTITUDE OF THIS FRANKFUR OF ADVICE TO IT AND TO BE COMPOSED WITH A HELICOPTER HAND TO APPEAR FOR OUR OWN GOVERNMENT AND TO SAVE RISENNESS AND COMPLAIN FOR OUR PAST FINALITIES THESE THINGS HAD AFFECTED IN THE FRANKFUR, AND PCS STILL BELIEVE THAT IS ALLThis Tempur City\n",
            "IF YOU WERE SCROLLING OUT FROM THE BELL OF GIVEN TO THE GORDON ROOK, THEN GO TO MY HOUSE THEY SHOULD BE LOOKING OUT INTO THE EAST OR GO BACK HOME TO NO LAWBoello died at Addison Hospital early Thursday morning on Death Row after suffering from complications from self-inflicted gunshot wounds at Sonoma airport shortly after 5 p....This article originally appeared on Business Insider UK's Business Specialist Conferences September 2017 Reading Time\n",
            "AGAINED THAT THE CHARNELLIE HEARING MY AFFRAIDING QUESTION IN THE MOST EXPENSIVE CASE LOVE BEHAVIORED THE SUMMARY OF THE UNAGAINST DIFFICULTLY WAS PROVEN AGAINST THE MAINLY POVERTY; AND IF YOU LOOK AT THE LARGE AND WINS UP THE WINGS OF SHADOW VULNERABLE AND up FORM THE FIRST AND THIRD POSSESSIONS OF MORR\n",
            "torch.Size([1, 40, 768])\n",
            "torch.Size([1, 40, 768])\n",
            "torch.Size([1, 40, 768])\n",
            "torch.Size([1, 40, 768])\n"
          ]
        },
        {
          "output_type": "stream",
          "name": "stderr",
          "text": [
            "\r2it [00:11,  5.89s/it]"
          ]
        },
        {
          "output_type": "stream",
          "name": "stdout",
          "text": [
            "Gt\n",
            "PURGED NOT ONLY BY SUFFERING BUT BY IT CAME TO ME SOME STRANGE KNOWLEDGE NO USE DRAKE HE SAID DREAMILY\n",
            "AN EYE FOR AN EYE EIGHTEEN SEVENTY NINE COUSIN HENRY EIGHTEEN SEVENTY NINE THACKERAY EIGHTEEN SEVENTY NINE THE DUKE'S CHILDREN EIGHTEEN EIGHTY LIFE OF CICERO\n",
            "SIR YOU QUITE MISUNDERSTAND ME SAID MISSUS BENNET ALARMED LIZZY IS ONLY HEADSTRONG IN SUCH MATTERS AS THESE IN EVERYTHING ELSE SHE IS AS GOOD NATURED A GIRL AS EVER LIVED\n",
            "AS I TURNED TO MEET IT UNARMED AND NAKED AS I WAS THE FIRST LAW OF NATURE MANIFESTED ITSELF IN THE ONLY POSSIBLE SOLUTION OF MY IMMEDIATE PROBLEM AND THAT WAS TO GET OUT OF THE VICINITY\n",
            "Pred\n",
            "AND AND YOU HEARD A SUBJECTION AND A BSRILLING PLAY MARKL I ALSO HAD THINKHE WISHED TO HMDYO ADS READ BEFORE ME AND TOLD MY STORY GETTING DIFFERENTMarissa Gerring has told Chesterfield House she just love her country again have decided to switch her number to Canada instead of England as her future plans have ended up winding down after New Zealand Labour Party chief Mick Cunn appeared on Channel 4 Live Following\n",
            "ICOUSLY, AND NO MORE LIKE THEE OFFICIAL LISTS A PRETCH OF CALLING GURANTINE AND V7 HE WOULD NOT HAVE JUST MEETED A MAN OPPOSED TO HER ELADITIONStrong research has shown that there is one reason life can be so hard—some people have evolved through extreme stress and lack of priority—not one simple reason for them to lose their mind to death. Highly unusual things happen through root causes—test out\n",
            "AND SO THE UNDERGROUND AND THE ORANGE HAD FUN TO LOOK OUT AS MAKING A SITUATION OF MINDDeveloping your business isn't enough and getting into debt can still be easy work for well over 30 years. Here are some ideas for their hows and a few tips you can use as you run your own loan firm as well.\n",
            "98 Interesting IdeasI can make up any sequences you want on this site if you cannot remember what many people have done in\n",
            "RENDERS GROWED HIS HEAD WITH BEACE AND CHBURWING BABANDIC CAPACATOR IN THE ROAR OF THE END THE WOMAN FAIRHEAT CREEPED BY YOUNG AND LGB MUSICERTA MEREDITHNo carbon fuels will just kick out an existing human problem -- all attempts to get carbon out of the ground will fail catastrophically like all existing human problems already end up moving on society's way but some will be making challenges insur\n",
            "torch.Size([1, 40, 768])\n",
            "torch.Size([1, 40, 768])\n",
            "torch.Size([1, 40, 768])\n",
            "torch.Size([1, 40, 768])\n"
          ]
        },
        {
          "output_type": "stream",
          "name": "stderr",
          "text": [
            "\r3it [00:17,  5.84s/it]"
          ]
        },
        {
          "output_type": "stream",
          "name": "stdout",
          "text": [
            "Gt\n",
            "CHAPTER SEVEN PARRY\n",
            "AH HERE'S THE COUNTESS EXCLAIMED THE MILLIONAIRE STEPPING FORWARD TO INTRODUCE US WE TURNED AND SAW A PALE BEAUTIFUL WOMAN ATTIRED IN A HANDSOME DINNER GOWN ETHEL YOU\n",
            "AS LATE AS EIGHTEEN SEVENTY SIX DOCTOR WASHINGTON MATHEWS A SURGEON IN THE UNITED STATES ARMY\n",
            "WITH NO SIGN THAT THE ATTACK MIGHT NOT GO ON INDEFINITELY YET THEY NEVER ONCE TOOK A STEP BACKWARD BUT ADVANCED GRIMLY CLEANING A BUSH OR THICKET OF ITS OCCUPANTS BEFORE CHARGING IT\n",
            "Pred\n",
            "TO SAY THE PLIE BOTH GUYS WHO BEHAVE GOT SAL HUMBLE WORKERS JOINED FOR THEM FOR THE REPEACANCE OF THE OMBH EDGE THE CHEAPE AND PEACE\n",
            "And yet even these one has not called Man O' America but when he today thought how that would be possible he called himself the King John of EnglandWelcome to COOK JUGBEL every issue out from the most recent record release of Original Mixtonics at\n",
            "AND ANOTHER COLD SIR OF THE CHILD THAT WAS ON HIS TANNER AND A KOSMON IN WHICH HE WAS HEPT UP AND KOUTEEN AND WONDERFUL OF HIS LIVING BY THESE WALLMATTES IN THIS CONNOR HAVEN'T CHANGED OF HIS HEAVY DEATH AND MADDENED BEAUTIFUL WILL HASERE HEMENADEBrowse\n",
            "(If devenued by original\n",
            "I WAS PREPARING FOR A MAN WHO SAID THE EXCELLENT ARTICLES OF THE COMPLETE MASTER WHO POCUNISHED THE POLITICIANS TO BEHAVE YOU BEFORE SEARCHING THE PERSONSPeople who tell you it's best early in life isn't necessarily supposed us. And it's bad management for patients when people think it's best when everyone can get together for one meal before early company hours early Wednesday mornings for poor people were supposed to\n",
            "WHAT YOU ARE SAYING SO FAR THIS PART CONSPIRACY ISACHE AND FORME WILL PERFECT FRAMES OF MY CARE IN ANOTHER FOREIGN TOGETHER YOU ALL MEAN THE JEFF PROFIT BEFORE ITS BASISWASHINGTON — Citing lawsuits against Alabama politically connected to the Democratic nominee Roy Moore, federal political consultants for the state highlighted over 30 new advertisements designed to help voters put him ahead of Democratic candidate Doug Jones who is looking to take home a convention\n",
            "torch.Size([1, 40, 768])\n",
            "torch.Size([1, 40, 768])\n",
            "torch.Size([1, 40, 768])\n",
            "torch.Size([1, 40, 768])\n"
          ]
        },
        {
          "output_type": "stream",
          "name": "stderr",
          "text": [
            "\r4it [00:23,  5.85s/it]"
          ]
        },
        {
          "output_type": "stream",
          "name": "stdout",
          "text": [
            "Gt\n",
            "WITHIN THAT REGION WHERE THE SWEET WEST WIND RISES TO OPEN THE NEW LEAVES WHEREWITH EUROPE IS SEEN TO CLOTHE HERSELF AFRESH NOT FAR OFF FROM THE BEATING OF THE WAVES BEHIND WHICH IN HIS LONG CAREER THE SUN SOMETIMES CONCEALS HIMSELF FROM EVERY MAN\n",
            "A CONTEMPORARY POET OF THE COUNTRY KING MERRIWIG THE FIRST RODE BACK FROM WAR AS MANY OTHER KINGS HAD DONE BEFORE FIVE HUNDRED MEN BEHIND HIM WERE IN SIGHT LEFT RIGHT LEFT RIGHT LEFT RIGHT LEFT RIGHT LEFT RIGHT\n",
            "AS AT THE BLOWING OF THE WINDS A COAL QUICKENS TO FLAME SO I BEHELD THAT LIGHT BECOME RESPLENDENT AT MY BLANDISHMENTS AND AS UNTO MINE EYES IT GREW MORE FAIR WITH VOICE MORE SWEET AND TENDER BUT NOT IN THIS MODERN DIALECT IT SAID TO ME\n",
            "SAYING IN A VOICE WHICH COULD ONLY BE HEARD BY THE INDIVIDUAL WHOM HE ADDRESSED YOU UNDERSTAND I HAVE NOT THE SLIGHTEST DOUBT MYSELF OF YOUR MORAL RIGHT I BELIEVE ON EVERY PRINCIPLE OF JUSTICE THAT MOWBRAY CASTLE IS AS MUCH YOURS\n",
            "Pred\n",
            "DAME JAMES KINGLY AND THE NAMES JORDAN'S NAMES JORDAN WAS KEEPING HIS Human BEDING AND HIS HEAVEN HONEST HOMES AWAY FROM HIS COMMUNITIES AND COMBSEAST HIS NATURAL SIGHT AND HIS PASSIVE LIFE AND HE COULD AT LEAST CARE FOR HIMSELF AND HE WAS NOT HEALTHY WITH RECRUITING PROMISE UNI KNOWINGLYImage copyright Scott Rapp\n",
            "THE FAIRTH OF THE REVOLUTION HAD APPROACHED THE POODLE TO GREAT TONGUE FUSING CLICK AWAY THE BRUCERED HOUR WOULD COME CLOSED BY HER ESCORT AT THE DANCE TOWER HAND A CALLOUS LIGHT WAS AWAY A DEPARTICE HAD BEEN DISADOPTED HE UFCED BY ENCOURAGEMENT AND WHAT HE SAIDThis Is Not Us on Your Family Dinner Read more\n",
            "BEHIND THAT BANDOUCHES SENT TO HATE ACTUALLY ON THE SAME LESS THAN THE COINCIDENT AND NEARLY FOR A BIT OF YEAR CLOSE UP THE ONIICT IN THE MODERN ACADEMY AND ASJPYOUG MAINTAINED A 71 TENTHOUSE FULLORAGE OF VOLCANO a very large priestess and her stepside mother were given such luxury that thinking of things she thought of as winter only became\n",
            "THERE THEY ARE NOT UNDER CONSCRIBE ABSOLUTELY NEAR KITTY SNAWINGS HURSDITH THERE AREN'T ASHLEY MAN AT EDE TO APPEAR TO THE PARTY NOR WILLON AS 2014 NEAR THAT AU WITHOUT YOUR HELP1 Item Name Assessment Class Contents At random on Active Duty Online Skills 10 None Hunter Single cannot be tracked By statsAmount Health Base HP Percentage Health Unlock Quantity Attack % Per Level Unit Elf Grandmaster 50 50\n",
            "torch.Size([1, 40, 768])\n",
            "torch.Size([1, 40, 768])\n",
            "torch.Size([1, 40, 768])\n",
            "torch.Size([1, 40, 768])\n"
          ]
        },
        {
          "output_type": "stream",
          "name": "stderr",
          "text": [
            "\r5it [00:29,  5.84s/it]"
          ]
        },
        {
          "output_type": "stream",
          "name": "stdout",
          "text": [
            "Gt\n",
            "THE STUDY HAS BEEN SO FULL OF FRESHMEN ALL THE TIME THAT I TOLD HER TO HANG IT ON THE DOOR AND LET THEM JOIN OUTSIDE IT WORKS BEAUTIFULLY PATTY TURNED THE LEAVES AND RAN HER EYES DOWN THE LIST OF SPRAWLING SIGNATURES IT'S A POPULAR ORGANIZATION ISN'T IT\n",
            "THEN I LOCKED MYSELF IN MY ROOM TILL HE WAS GONE HE CAME SEVERAL TIMES KNOCKED AT MY DOOR AND BEGGED ME TO SEE HIM BUT I WOULD NOT\n",
            "ON RETURNING HOME I DEFERRED FOR A TIME MY DESIRE TO EMBRACE ALL MANKIND I HAD HOWEVER ONE OTHER ACQUAINTANCE OF A SORT SIMONOV WHO WAS AN OLD SCHOOLFELLOW I HAD A NUMBER OF SCHOOLFELLOWS INDEED IN PETERSBURG\n",
            "TO DECAY WHO GATHERS TOGETHER THEIR SCATTERED FRAGMENTS AS THEY ROT AND WHO PIOUSLY AT LENGTH COLLECTS THEIR ASHES INTO THE MAUSOLEUM OF HIS WORK AND REARS A TRIUMPHANT MONUMENT\n",
            "Pred\n",
            "THIS IS THE LAST WAY OF SAYING WHAT KNEW IS POWERFUL FOR MAN WERE OVERNIGHT PASSED ON TO THE VECTOR OF SPERELLA WERE KILLED BY THE ABISIS OF THE EUROPEAN IDEOLOGYPC For Ages22td114427 Exelku World..... Solo Vanuu=- The Game Brothers Mobit's Episode series consists of plays by some mid aged finders who have even attempted to recreate this playing session!! » The Powerball Set Name\n",
            "A LITTLE WHILE WONDERFUL BUT THERE THIS GREAT LITTLE OTHER FUGGLE HID BLINDED UP HIS LEG AND TO PRETEND HIM THAT THE ACCIDENT MAY HAVE BEEN HIM ADMITTED NOR YORK HE WAS BETWEEN A TARGET AND THE HANDS\n",
            "(32) AND THE LITURE OF A READY MARA HAD ALWAYS BEENThe scene of the grief on the balcony at the newspaper office by FT Paris\n",
            "WHICH WAS NOT HAPPENING AND SO SO STILL HAPPENED AND SO SMART EAILABLE CHANGE SO MANY FETISHCLUSIONS ALMOST OPTIMISTIC FEARFUL BUSINESS SIR CONDUCTED UPON THE INVENTOR OF FALLING THORNE COMES TO CANNABE BARNES-TOUR AND SURELY HAS BEEN REQUIRED OF SMART Even THE SPRINKSTALKER MERK AND THE\n",
            "BY JOSHUA AND HER LEAVES LIKE AN ELDER REELLING DOWN PENIS DOWN THE SCHOOL HOALS THE INCREDIBLE OLD MEN CALM DOWN AND TELL THEM TO BEGAN THE LISTS JOHN FINIEL SAYS WAIT FOR THE MINUITShe hides behind her glass until she gets out of lineNine people are dead after a bus explosion that broke windows at a Red Cross station in north London on Sunday evening and left one 72\n",
            "torch.Size([1, 40, 768])\n",
            "torch.Size([1, 40, 768])\n",
            "torch.Size([1, 40, 768])\n",
            "torch.Size([1, 40, 768])\n"
          ]
        },
        {
          "output_type": "stream",
          "name": "stderr",
          "text": [
            "\r6it [00:35,  5.86s/it]"
          ]
        },
        {
          "output_type": "stream",
          "name": "stdout",
          "text": [
            "Gt\n",
            "WHICH HAD NOT BEEN NECESSARY DURING THE ASCENT\n",
            "THAT GAVE US AN IMPETUS WHICH SOON CARRIED OUR VESSEL OUT OF SIGHT OF LYNDON AND ITS PAPER MILL AND STRAW STACKS PROPHETSTOWN FIVE MILES BELOW IS PRETTILY SITUATED IN AN OAK GROVE ON THE SOUTHERN BANK\n",
            "THEY SAID THEY SAILED ON SOUTH ALL THE TIME LOOKING FOR A PLACE TO GO ASHORE I AM SICK OF THIS ENDLESS SEA THORHILD COMPLAINED BUT THIS LAND IS WORSE\n",
            "THE LATTER STAGGERED TO THE FIRE LAY DOWN ON THE FLOOR AND CURLED HIMSELF UP LIKE A DOG FOR A LITTLE WHILE NOBODY SPOKE\n",
            "Pred\n",
            "OMINENTOUS TO HER REGARD G. TROUBLES AND OTHER SONS CLANGERED OFF THE STAND INDIVIDUALLY AND RELATED ALLURE TO BE THE MOST POPULARBODY OF THE GDR SEXPRESS AND SUBJECTIVE AND RECOGNIZEANT FANTASTIC AND MORE FREQUENT GRAPHICThe King of Hoaxes had built some 100 Miles Out of Green Earth Fountain as part of his visit to Alaska to see are\n",
            "SHAUSHAE JEFF CRAIG MOLLENGILMAN HAS BEEN LEFT ON SMALL BEACH TO Thin Foursome MONTHS OF THE WHOLE YEARS THAT HAD BEEN HAPPENED FOR THE LAST FOUR\n",
            "The three well-known men say that two of them ended up dead when they fell down from heaven and were buried at Windsor Castle in May 1986WASHINGTON — Conservative Tea Party activists say they met with Corker this week to hear his\n",
            "SOME THINGS IS JUST THE GOOVER MY OFFANY LIGHTER SIR KHASE HUMPHRELLEDIn a piece published yesterday by Ann Coulter's Twitter account I am aware that women are working extremely hard every day to create an army of feminism sexism out to make up for past mistakes and reckless behavior on sexism carelessness, disregard and inconsistency that has become commonplace on platform posts from Michelle Obama to Sean Hannity to Bruce Springsteen to gay porn star Elie Wertheimer with\n",
            "BUT IT EXCEPTED WORTH AS GOOD AS NOTIFY THE FREEDOM OF LITTLE LITTLE LITTLE LITTLE LITTLE LITTLE LITTLE LITTLE LITTLE LITTLE LITTLE LITTLE LITTle LITTLE LITTLE LITTLE LITTLE LITTLE LITTLE LITTLE LITTle LITTLE LITTle LITTle Little Little Little L\n",
            "torch.Size([1, 40, 768])\n",
            "torch.Size([1, 40, 768])\n",
            "torch.Size([1, 40, 768])\n",
            "torch.Size([1, 40, 768])\n"
          ]
        },
        {
          "output_type": "stream",
          "name": "stderr",
          "text": [
            "\r7it [00:41,  5.87s/it]"
          ]
        },
        {
          "output_type": "stream",
          "name": "stdout",
          "text": [
            "Gt\n",
            "THE MOUNTAINS ON ONE SIDE WERE CRESTED GREAT CRAGS AND PILES OF ROCK CROWNED THEM AS FAR AS WE COULD SEE TIMBER GREW ONLY ABOUT HALFWAY UP THE TRUNKS OF THE QUAKING ASPENS SHONE SILVERY IN THE EARLY SUNLIGHT AND THEIR LEAVES WERE SHIMMERING GOLD\n",
            "GREGG THIS IS SERO OB HAHN I MET THE KEEN SOMBER GAZE OF A VENUS MAN OF MIDDLE AGE A SMALL SLIM GRACEFUL MAN WITH SLEEK BLACK HAIR HIS POINTED FACE ACCENTUATED BY THE POINTED BEARD WAS PALLID\n",
            "NOR CAN SO GREAT A SPLENDOUR WEARY US FOR STRONG WILL BE THE ORGANS OF THE BODY TO EVERYTHING WHICH HATH THE POWER TO PLEASE US SO SUDDEN AND ALERT APPEARED TO ME BOTH ONE AND THE OTHER CHOIR TO SAY AMEN THAT WELL THEY SHOWED DESIRE FOR THEIR DEAD BODIES\n",
            "SEEMS TO HAVE BEEN ENCOURAGED BY THE PRINCESS AND THE DUKE PRESUMED SO FAR ON HER GOOD GRACES THAT AFTER HIS DEPARTURE HE SECRETLY RETURNED UPON SOME PRETENCE AND PAYING A VISIT TO THE QUEEN\n",
            "Pred\n",
            "ENGLAND WAS NOT ROBERT ABOVE TO HEAR THE VOICE OF THE HOUSE OURLIBBOYD HAS DONE ABOUT THIS MAN HARBING TO MIND THE CLESPAM BEYOND THE FUTUREURE AND SENDING A copy OF THE WILD BELTERArmadillo has made historical progress around the world including social media dealing, flagships and more kindly with businessmen trying to firm up a deal over ties organised\n",
            "— 6 November 2015\n",
            "\n",
            "[Phot\n",
            "HAVING TO PROVIDE AN AMOUNT MANY SQUARE LIQUIRES OF FORCE WAS GUILTY TO TAKE AN AMOUNT OF A BANK OF PROPER JUSTICE IN THE AFREED DEVICE WHICH IS THE IRAQ THEY SO WOULD OCCUR TO RESPOND BY NONOTIEKING THE SUNPASSING PROCUREKidnapping Cartel's noob story comes to life at manchester Island Pentland specifically for me this week along with The Mac\n",
            "HULK HAD TOLD ME THAT WHEN THE ARMS DREAMED IT HULK IS THE DIMNIFYING MAXIMUM OF MY PROJECT, BUT WHEN THERE IS NOT MANNER FOR HIM LEADED UP THE MERCER CRAFT AGAIN\n",
            "12 IF YOU by any means REPEAL THE IAFLIIAN CENTURY AND THEN Plussatore Francotte CressillierBreaking News Emails Get breaking news alerts and special reports from ABC News\n",
            "WHAT THE LAWFULLY UKED FOR WRITING THE LICENSING TO FORCE THE TEACH AND DON'T WANT TO PONDER IF YOU MUST YOU'VE BETTER BOMB AT FIFTEEN HEYTS PLEASE LET RAISIN THE GROP BUT LET FIX IT 3 C TELENATE RESEMVING MEIt's made in India through European bullshin coat hanger pajamas Inspired by vintage Chinese patoiswear worn by British\n",
            "torch.Size([1, 40, 768])\n",
            "torch.Size([1, 40, 768])\n",
            "torch.Size([1, 40, 768])\n",
            "torch.Size([1, 40, 768])\n"
          ]
        },
        {
          "output_type": "stream",
          "name": "stderr",
          "text": [
            "\r8it [00:46,  5.88s/it]"
          ]
        },
        {
          "output_type": "stream",
          "name": "stdout",
          "text": [
            "Gt\n",
            "I PASSED WHOLE DAYS AT THE FEET OF MY MISTRESS WE OPENED THE WINDOWS UPON THE GARDEN AND AS WE WATCHED THE SUMMER RIPENING IN ITS FLOWERS\n",
            "SHE HAD NO CHOICE BUT TO GO ON TO KANSAS CITY AND TAKE THE FIRST FAST TRAIN FOR HOME CUTTER COULD HAVE GOT HOME A DAY EARLIER THAN HIS WIFE BY ANY ONE OF A DOZEN SIMPLER DEVICES HE COULD HAVE LEFT HER IN THE OMAHA HOTEL\n",
            "SO THERE THEY STAYED THE WHOLE NIGHT THROUGH THEY OFTEN HEARD THE KING'S MEN SEARCHING AND TALKING IN THE JUNGLE ROUND ABOUT BUT THEY WERE QUITE SAFE FOR NO ONE KNEW OF THAT HIDING PLACE BUT CHEE CHEE NOT EVEN THE OTHER MONKEYS\n",
            "OH HOW I PRAYED FOR THE DAY TO PASS QUICKLY\n",
            "Pred\n",
            "VERY WHAT VALUE WHO IS THE CONSERVATIVE OF GOOD AND DIARY ACTOR BUT MISS SOTO KEEN THE KEY PROUSHIT FROM THE CYCLONE OF people WHO ARE GOING TO COOPERATE WITH THEIR Governing Body BEHIND MY MAMA AND INDIVIDUALS FOR THE CORRECT MANY NIGHTThe Sporting Goods Bureau said Manitoba's women looking to better season were in for an extended period of good luck as it was early Sunday afternoon an\n",
            "ROBED TONY DOYLE ANGELS AND MASSACHUSETTS ON THE ROAD THERE IS NO SWEET DIRECTION FROM TO THE CASTLE SHOP AND IT IS SEEN TO THE WAYWARD CONNOR FIGURESBoston Volleyball for 2018 is certain to see an increase of 20 pounds staggering competition springing just below Detroit Spitfire—but it's hard to see how areas without near diseases like bone cancer will witness firsthand both while surrounded and otherwise exposed.\n",
            "UCH INDUSTRIAL AND VOLUNTARY FOODS ARE GREAT WILL CALL DAMNING LUCKY GRATS OF THE FOOD MONGERES TO MENG COCKS FOR FUN USE THERE IS NOT A STEP THERE; WILL HOLD YOUR EDGES AGAINRecent Posts\n",
            "Now Playing Comments Archnab members by Genji Create a Genji sample profile Replying to Archnab Member Create a Genji sample profile Replying to Genji List Replying\n",
            "BUT IF YOU PERVERT IT\n",
            "It was your intent and YOUR inattentiveness\n",
            "If you pray, I see you will gladly do it, but I will definitely sacrifice yours which is very precious\n",
            "And you may be my twin tonight and the next week before you come hereMy Little Stranger Zero Is Going Around Somewhere Right Somehow My Little Stranger Zero has her own special chance to learn about some totally abstract concepts that are hidden in her space based campaign; https://t1zdf6\n",
            "torch.Size([1, 40, 768])\n",
            "torch.Size([1, 40, 768])\n",
            "torch.Size([1, 40, 768])\n",
            "torch.Size([1, 40, 768])\n"
          ]
        },
        {
          "output_type": "stream",
          "name": "stderr",
          "text": [
            "\r9it [00:52,  5.91s/it]"
          ]
        },
        {
          "output_type": "stream",
          "name": "stdout",
          "text": [
            "Gt\n",
            "RETORTED PETER BUT YOU HAVEN'T TOLD ME WHO ROSEBREAST IS THE GROSBEAK OF COURSE STUPID SPUTTERED JENNY IF YOU DON'T KNOW ROSEBREAST THE GROSBEAK PETER RABBIT YOU CERTAINLY MUST HAVE BEEN BLIND AND DEAF EVER SINCE YOU WERE BORN\n",
            "AND PAWED HIS KNEES AND STARED BESEECHINGLY UP INTO HIS FACE HE TURNED HIS HEAD TOWARDS THE CORNER WHERE THE COLLIE STILL LAY THUMPING HIS TAIL FEEBLY AND PATHETICALLY JOHN SILENCE UNDERSTOOD HE BENT DOWN AND STROKED THE CREATURE'S LIVING FUR\n",
            "I AM A GREAT STICKLER FOR A GOOD VIEW MYSELF SAID PORTHOS\n",
            "GOT HIMSELF UNIVERSALLY LAUGHED AT FOR APING FASHIONABLE MANNERS EVERY BIRD AND BEAST IN THE FOREST HAD A GIBE AT HIM AND EVEN OLD PARSON TOO WHIT THOUGHT IT WORTH HIS WHILE TO MAKE HIM A PASTORAL CALL\n",
            "Pred\n",
            "AND WHICH MAKE SENSE AND SOMETHING SHOULD STILL YELL WITH THE HUMANITY OF THE LATERIn an unusual letter sent yesterday as part of the Arts Festival plans in Washington, Francis Craddock sent out a brief address on Ministry Road at Tomorrow Church upstate New York that seemed to have the defence of some academic killers thanks to its suggestive language: \"How do you explain for one year your interest on religious spiritual rather than human rights?\" While an Irishmen's man emailed\n",
            "AND SACRED OUT OF THE WOODS OF THE STATES OF DAVID THAT ARE UNDEREDGE 5:10 SHE STOPPED A SHOOTING SQUDATA ON THE 10 UNDERGROUND CUBESThe dinner dinner is on Friday when we meet up with Theresa Blair for our first date on our wedding anniversary with server Ally Graham and her lieutenant Matt Leinenychen. We caught up during the trip down to Quebec where we visited his house and where we met him once again and\n",
            "HE WAS THE FASTEST OF THE FOLD OF THE TEXANS AND THE SEX OF THE MOST AND FOREGATE THAN HER SELF AND A FEW BELT TO BE IN THIS FEW-FREED DAKOTA THE PATH OF THE PHASE HAS BEGAN TO THE ONE WHERE ISee supporting information for Man Island\n",
            "The Man Island Estate was developed in 1934 on one of Dr. Francis Moore' Showboat Mounts out by Canopy Elev\n",
            "THE DOYLE AND THE SUDDENOULD BE FALLING UPYARDSIDE HER WADDLE SHOTS CUT OFF HER AND THEY DID OBSERVELY TAKE HER IN LONG FOUR IN THEIR POV AND JUAN PAID WAITING NO MORE'S THAT THEY LOVED MY FAVORITE LIFE AND NOW'S WHEN THEY STARTED THEIR LAST MOTHER'S BEHIND HIMFULLY INTO WHICH JUDGE BOARDARD\n",
            "torch.Size([1, 40, 768])\n",
            "torch.Size([1, 40, 768])\n",
            "torch.Size([1, 40, 768])\n",
            "torch.Size([1, 40, 768])\n"
          ]
        },
        {
          "output_type": "stream",
          "name": "stderr",
          "text": [
            "\r10it [00:58,  5.89s/it]"
          ]
        },
        {
          "output_type": "stream",
          "name": "stdout",
          "text": [
            "Gt\n",
            "TAKE THEM ALL UP ON TRUST FURTHER ON HE MET IT PEACEFULLY A LITTLE PERHAPS AS AN EXAMPLE TO MISSUS STRINGHAM OH AS FAR ON AS YOU LIKE THIS EVEN HAD ITS EFFECT MISSUS STRINGHAM APPROPRIATED AS MUCH OF IT AS MIGHT BE MEANT FOR HERSELF\n",
            "SAID BORG TO THE NEWCOMER LAYING HIS HAND ON HIS BREAST POCKET WHAT A QUESTION TO ASK\n",
            "SUCH A LUCKY FIND HAS LIFTED THE MORTGAGE FROM A FARM IN EASTERN PENNSYLVANIA FROM WHICH IN TWO OR THREE YEARS HAS BEEN TAKEN FELDSPAR EXCEEDING IN VALUE THE AGRICULTURAL PRODUCTS\n",
            "SHE STRUGGLED THEY HELD HER HER EYES PRAYED TO HIS BUT HIS WERE THE FIRE OF HELL SHE FELL BACK UPON HER PILLOW IN SILENCE HE HAD NOT UTTERED A WORD HE HELD HER\n",
            "Pred\n",
            "AND SHE WAS NOT WITH HER FAMILY BUT SHE MUST HAVE RIDICULOUSER AND EXTREMELY MUCH BEAUTIFUL TO HIS WIFE HER TEETH OF HER SOCEER AND OF OUNCE WITH THE WHICH SHE WAS CREATING her INSIDE WHEN HER VENUE AT THAT TIME WAS DWI AND HIS IF HE'S NIGHT I'.Standard of Fashion Select Questions Answered General Answers Why do Centaurs pay for Honours recognition They can avoid set\n",
            "THE HANDELLE IS DOORED OUT IN A GLACE CELLS WHICH BELLOWER AND PENCE RICHARD BEETUCA HTTPURDED HER EXCITULE OF SANDLYAs an entrepreneur I love letting you know about my prototypes that hopefully may be useful for you too! If you want contact me on my business page or make an appointment with me right away!!! Thank you so much!This app helps you choose from all kinds of\n",
            "BUT THE TREE WAS SENT A BLOCK OF RED IN THE TREE AND WHILE THE DRAGON HEARTS ALL HER WELL AS FAR AS SHE'S WALKED YOUNG WAS IN LOVE WITH HERWhy Google found multiple screwdrivers available in a single fix at the Walmart or Amazon stores that its searches turned up like these yourself.. What it did revealed to me was became more complicated when the tools here were missing.. Which lollywood types included a Comma Face Appear like\n",
            "WHETHER WELCOME HE SHOULD'VE SAKUNA W here BECAUSE MANOnly HARBOUR OUR THUNDER -The effects of sexual or homal sexual intercourse will affect your health in certain conditions as well. Some people may have complicated stools or special causes pertaining to lifestyle is why not connect to weight loss when you can help you out! Natural fat loss hormones now share your condition where they are much better laid back typehope can be atlases\n",
            "torch.Size([1, 40, 768])\n",
            "torch.Size([1, 40, 768])\n",
            "torch.Size([1, 40, 768])\n",
            "torch.Size([1, 40, 768])\n"
          ]
        },
        {
          "output_type": "stream",
          "name": "stderr",
          "text": [
            "\r11it [01:04,  5.91s/it]"
          ]
        },
        {
          "output_type": "stream",
          "name": "stdout",
          "text": [
            "Gt\n",
            "AS A CRISIS IN WHICH THEY WERE CALLED UPON TO DO SOMETHING THEY DID NOT YET CLEARLY KNOW WHAT INTO THIS TOPIC THEY PEERED AS INTO SOME DEEP POOL SIDE BY SIDE AND IN IT THEY SAW EACH OTHER REFLECTED\n",
            "AND COULD ONLY CRAWL ALONG THE GROUND NOT KNOWING IN THE LEAST WHERE HE WAS GOING BUT WHEN THE SUN WAS ONCE MORE HIGH IN THE HEAVENS FERKO FELT THE BLAZING HEAT SCORCH HIM\n",
            "TELL HIM THAT I HAVE JUST MADE KNOWN TO YOU HIS NOBLE AND DISINTERESTED CONDUCT YOU ARE RIGHT I WILL I FEAR HOWEVER HUMPHREY THAT YOU ARE RIGHT AND EDITH WRONG AS REGARDS HIS DAUGHTER\n",
            "AND HE ATE GREEDILY FOR HE WAS VERY HUNGRY THE MAIDEN SAID SIR THOU HADST BEST GO QUICKLY FROM HERE FOR FEAR THAT MY FRIENDS SHOULD COME AND EVIL SHOULD BEFALL YOU BUT PERCEVAL SAID\n",
            "Pred\n",
            "LOCALLY BEGGED HIS HURDLED ANNOY HE TRIED TO SEE HER TSUNK AND SAID THAT SHE WAS NO LONGER A THING AS THE BOOKS WERE TOMMYG'S INDEEDING IN HIS SAWBlack writer Gina Levin heard some Shrek fans using the phrase last Friday night at Microsoft Store Hannover from someone who's never even heard of the franchise before it come out in South America. All websites everyone is talking about except\n",
            "THE LETTER DIVIDED IN A PASS OF NIGHTWARD WHEN THE BODY OF LIVING A GREAT VISION OF CATHOLIC WAVE WHEN PEOPLE BURIED THEIR SERVANTS AND IF I GIVE YOU A SIR FOR THE EACH PEN2 PACIFIC SWEET NOR THE SLAVES THE FELLING OF KESSON AND BABYNGUE DAMNS AND ALL I WHO HAVE PET HAD HAPPENED\n",
            "\n",
            ">As so many\n",
            "YERE ARE THESE MANAGERS ALONE THAT HAVE BEEN PERHAPS ALL THE DISCOMFORTUNITIES OFPAR'T THE CHILDREN WHO ABSENCED HIM IN ESNOT MARXISTINATION TO SUBMIT THEIR DESCIANS TO BOOK PEOPLE OR OTHERGIES BROUGHT THEM UP BY POETRY SIMPSONSAnime Breakdown | Anime Characters Studio November Blog a guest Nov 29th 2016 200 Never a guest197Never+Never\n",
            "TOKYO THE JOURNALDRUDGES THAT HE WAS FICTION AND TO SEE THE INPUT PLANTED IN THE CHAIR FOR THE STUDENTS TO VISIT THE MOUNTAINS SO THAT THEY HAD NOT FEELED THIS JUMMY OF THEIR OWN THEY BECAME FIRST INTO QUALIFIED ASSOCIATIONS FROM THE CSEDWOOD REVOLUTIONIn this issue, Eddie Lepraeger follows up on his take on award winning goalkeeper extraordina\n",
            "torch.Size([1, 40, 768])\n",
            "torch.Size([1, 40, 768])\n",
            "torch.Size([1, 40, 768])\n",
            "torch.Size([1, 40, 768])\n"
          ]
        },
        {
          "output_type": "stream",
          "name": "stderr",
          "text": [
            "\r12it [01:10,  5.89s/it]"
          ]
        },
        {
          "output_type": "stream",
          "name": "stdout",
          "text": [
            "Gt\n",
            "IN A FEW MINUTES THE PRINCE APPEARED THE PRINCESS RECOGNIZED HIM AT ONCE BUT DID NOT THINK IT WORTH WHILE TO ACKNOWLEDGE HIM HERE I AM SAID THE PRINCE PUT ME IN\n",
            "SOMETIMES MAN AND WOMAN AND A CHILD OR TWO ON HORSEBACK NO MATTER HOW WILD THE STORM HOW SWOLLEN THE STREAMS HOW DEEP THE WHIRLING SNOW THEY ALL COME TO CHURCH\n",
            "AND THEY KNEW THAT IT WAS ONE OF THE SHATTERED BOAT'S CREW CLINGING TO AN OAR HE WAS THE ONLY ONE OF EM ALIVE SAID BURGESS BANDAGING HIS SPRAINED WRIST TWO HOURS AFTERWARDS AT THE NECK AND HE'S FOOD FOR THE FISHES BY THIS TIME HE WAS MISTAKEN HOWEVER\n",
            "IT WAS NOT WITHOUT A CREEPING FEELING OF AWE MINGLED WITH HIS ASTONISHMENT THAT NATHAN GAZED UPON THE DOOR THROUGH WHICH THIS SILENT FIGURE HAD VANISHED BUT HE WAS NOT EASILY TO BE DAUNTED\n",
            "Pred\n",
            "THE RED OCTRINA BEGAN OF WHICH THE SMITH OF ISLE AND THE SISTER AND Father AND FATHER ALL WERE COME IN THE OCTOPUS MOST UNHARMONY AND AND THEY LIVE AND WILL RIDE CONTINUE THEIR LONG RAPID LIFEPalestine Hepburn Seminaries Seminars Sep 28th 2018 Price Year Is Opening Dec 18th 2018 Price In Num And Year Of Trival Calendar Centennial YearGet wars across the globe\n",
            "FOR THE SUICIDE IN MY PROPTON SHE BELIEFS TO PUNISH ME-BY AND THEN I BE STANDARD IN THIS FRIEND'S EZED FELLAS I SAY COULD FIND HER IN LABOROnce again in the world-wide literary universe, these chapters lead you into ending your list of only three books or films this year Looking for more theatrical theater big screen adaptations as well? Yes please two not easily accessible ones they'll be available as\n",
            "GO FN YOU HAVE A PLUS GSON HISTORIOUSSoundline's blog address is named \"Reflection Point Concept\". They have won numerous awards including this year's Revenue Per Headache Awards for Collection Choice by exz PM Jaase Danon's Audition for Design Awards Writing by Hugayn Elhoubra Audition AwardsWhen I'm really comfortable with being an adult I like teaching myself things about myself while also snacking on kaimabuxumab gum from\n",
            "THE MAN WHO WAS DESPERATE TO MAKE HIS OWN DISGUISENT WAS ITS OWN ONE THIS LADY WAS SEEN TO TRUMPER ENOUGH TO HAVE FROZEN FOR ALL HIS EXTRAORDIAL WISE GRHHHHHHH\n",
            "\n",
            "\"FOR JACKET HATE And LARPLIN OF ITS NAINER GORGEZ AKA CHOPPEST AXOEHi everyone, here is iOS 13 update 0.15 542529 pages » • Thursday November 24\n",
            "\n",
            "torch.Size([1, 40, 768])\n",
            "torch.Size([1, 40, 768])\n",
            "torch.Size([1, 40, 768])\n",
            "torch.Size([1, 40, 768])\n"
          ]
        },
        {
          "output_type": "stream",
          "name": "stderr",
          "text": [
            "\r13it [01:16,  5.92s/it]"
          ]
        },
        {
          "output_type": "stream",
          "name": "stdout",
          "text": [
            "Gt\n",
            "A RUIN AND A WRECK UPON THE FIELDS OF THE ATLANTIC WHAT ARE WE THE INHABITANTS OF THIS GLOBE LEAST AMONG THE MANY THAT PEOPLE INFINITE SPACE OUR MINDS EMBRACE INFINITY\n",
            "OR ELSE ON THE BARE PAVEMENT AND SOMETIMES RESTED IN THE PUBLIC PLACES APPOINTED FOR THE USE OF TRAVELLERS AS FOR SUSTENANCE THEY DID NOT WANT FOR THEY OFTEN CAME TO PLACES WHERE BREAD BOILED RICE AND OTHER PROVISIONS ARE DISTRIBUTED TO ALL TRAVELLERS WHO DESIRE IT\n",
            "HEED NOT WHAT THE VILLAIN SAYS MY GOOD FELLOW SAID THE DUKE OF SHOREDITCH YOU HAVE CAPTURED HIM BRAVELY AND I WILL TAKE CARE YOUR CONDUCT IS DULY REPORTED TO HIS MAJESTY TO THE CASTLE WITH HIM TO THE CASTLE\n",
            "PROVIDED I BRING HIM THE GOLDEN FLEECE THIS AS YOUR MAJESTY IS AWARE IS NOW HANGING ON A TREE HERE AT COLCHIS AND I HUMBLY SOLICIT YOUR GRACIOUS LEAVE TO TAKE IT AWAY IN SPITE OF HIMSELF THE KING'S FACE TWISTED ITSELF INTO AN ANGRY FROWN\n",
            "Pred\n",
            "AND SO HE WORKED THE LAST EXPERIENCE OF UNDERSTANDING THE SLANG GAS ANTHOLOGY FOR YOU ALL IS SO MAGIC THAT IT WOULD EVEN IMMIGRATE TO ME TO SAY WHAT CHILDREN WOMEN SHOULD TAKE ADOPTED AND MODERN SOUND DODGING ALSO THAT I HAVE WATCHED WITHWITH THE NEW ANCHOR OF LIFE IF I TAKE QUORROW EVENTS IN OLD DAYYSpeculation over an early\n",
            "I CREEPED THE ABOVE PLASTIC SIDE OF VOODOO AND SAID A SAID IN MY SQLUS WHAT EITHER THUS HAD PREDATORY VIEWS VIA HER PALACE FOR TAKING THE GREEN ON IT IT IN MY PCACE I DEFOUNTABLELY RESOURCED THAT WHILE A HANDFUL WOULD BESUFFERED, IT WAS3 I THINK, I WAS APPROBABLY THINKING OF A\n",
            "TERRIFIED Greek was related to Arabic. His readers were much dismayed at this unkindness as holy was this country what was being impelled from them a splendid religious tradition without which no true country foreign nations could have emigrated from. Nor would they spend much time in spite of highly threatening an endowments that did not spread from England or Scotland nor those whom might have served for their own country themselves, because they were wholly good nations themselves. And in England it appealed to God by\n",
            "IF THEY SHALL GO GET OUR MASTER OUT OF THEM BEAUTIFUL THEY SHALL COUNT VOLMONTY AS LONG AS THEY MAY BELIVE WHICH ONLY WE REPRESENTED FOR THEIR HAIR, WHICH IS WHAT A GREAT PARAMOUNT IS WITH TWO THE MERCHANTS HOLDING THE toil OF THEIR BASIN AND AMISTING THERE IS NO OTHER OUT THEREStill loading... The data shows significant changes in atmospheric heat content due to increased surface temperatures vs.\n",
            "torch.Size([1, 40, 768])\n",
            "torch.Size([1, 40, 768])\n",
            "torch.Size([1, 40, 768])\n",
            "torch.Size([1, 40, 768])\n"
          ]
        },
        {
          "output_type": "stream",
          "name": "stderr",
          "text": [
            "\r14it [01:22,  5.91s/it]"
          ]
        },
        {
          "output_type": "stream",
          "name": "stdout",
          "text": [
            "Gt\n",
            "I WANT YOU TO BE SURE AND REMEMBER ABOUT THIS GENTLENESS AND PATIENCE BECAUSE WHEN HE WAS OLDER PEOPLE OFTEN ACCUSED HIM OF BEING CROSS AND RUDE BUT AT THIS TIME I AM SURE NO ONE COULD HAVE BEEN NICER\n",
            "WILL AT LEAST ENTER UPON THE TASK FREE FROM ANY SINISTER BIAS THEIR TRANSIENT EXISTENCE AND THEIR DETACHED SITUATION ALREADY TAKEN NOTICE OF AFFORD A SATISFACTORY PROSPECT OF THEIR CONTINUING SO TO THE CONCLUSION OF IT\n",
            "OR THE LABORER MUST LOSE THE FRUIT OF HIS LABOR AND WHEREAS IN EVERY OTHER CASE PROPERTY IN RAW MATERIAL WOULD GIVE A TITLE TO ADDED IMPROVEMENTS MINUS THEIR COST\n",
            "NO I THANK YOU SIGHING AS SHE SPOKE THEY ARE ALL VERY WELL MY LETTER WAS FROM MY BROTHER AT OXFORD NOTHING FURTHER WAS SAID FOR A FEW MINUTES AND THEN SPEAKING THROUGH HER TEARS SHE ADDED\n",
            "Pred\n",
            "OUR KOMBIC MAN HAS NOT THE dearest hope of ever being able to say anything other than to look forward to her future sadly but he stands before\n",
            "In his lofty tower an old man's name is now his name. He has it up loud in his world he has gone free writing a Discourse but when he reads it there will be no longer a woman here for him but he must simply turn off at lastAlthough they have fixed an Edmonton out back medical coach booked for last\n",
            "HE NEARLY EMOVE FROM A LEVEL OF CONCERNS THAT UNDER HEARTH OF BOULYS WILLTHANE HITS ALL OF THEM AND ENSURE EVERYTHING ABOUT HIM IN THE TRUTH OF HIS STORY IS LIKE THIS#AllAwake---BEHOLD ---Song from Tipora #Title HXX3F4DA8C|cloudAn erstwhile Overwatch veteran handed down an ethical lesson on his tournament victories after playing online against hero Kazuhiro\n",
            "THAT I'M OUT OF MY HOUSE BUT THERE'S NOTHING I'D LIKE TO DO THOSE AREThis article shows an easy way to determine when and how bacteria grow outside the human body where bacteria can be found hidden under stasis or under heat each year outside the sun or inside other living tissue, such as skin or blood vessels\n",
            "• Leaves bacteria transplantable through an organ that fits into a gram stick with a slit at the end of it • Seeds germs inside\n",
            "OR AND HE FANDERS CAME DOWN FROM HIS BACK AND ACCIDENTLY WANTED TO FUCK BACK AND HE CAME BACK WITH ANOTHER AWESOME WASP PAID BY THE HELL INSIDE THE BARBRIER AND ANOTHER FEMALE SMALL CAME OVER AND FOUND TEACHING WHILE BEING HURTING HER ALCOHOLY CBRD DONNELL $5 PORK CAMPSES A MATCH FROM HORRIBLE F'EELING\n",
            "torch.Size([1, 40, 768])\n",
            "torch.Size([1, 40, 768])\n",
            "torch.Size([1, 40, 768])\n",
            "torch.Size([1, 40, 768])\n"
          ]
        },
        {
          "output_type": "stream",
          "name": "stderr",
          "text": [
            "\r15it [01:28,  5.89s/it]"
          ]
        },
        {
          "output_type": "stream",
          "name": "stdout",
          "text": [
            "Gt\n",
            "FOR JUST AS HE UNDERSTOOD THE SPIRITUAL ALCHEMY THAT CAN TRANSMUTE EVIL FORCES BY RAISING THEM INTO HIGHER CHANNELS SO HE KNEW FROM LONG STUDY THE OCCULT USE OF SOUND AND ITS DIRECT EFFECT UPON THE PLASTIC REGION\n",
            "TO WHOM IT WAS SAID HE HAD SOLD HIS SISTER MISS CHURCHILL BOLINGBROKE WAS IN HIS MERIDIAN AND RICHELIEU IN HIS DAWN GALLANTRY FOUND ITS CONVENIENCE IN A CERTAIN MEDLEY OF RANKS MEN WERE EQUALIZED BY THE SAME VICES AS THEY WERE LATER ON PERHAPS BY THE SAME IDEAS\n",
            "HE HAD OVER A THOUSAND DETACHED MAPS ILLUSTRATIVE BOTH OF THE GEOGRAPHY AND HISTORY OF AMERICA FOR MANY OF THEM WERE MAPS AND PLANS DRAWN FOR MILITARY PURPOSES HE WOULD SHOW YOU PERHAPS\n",
            "IS THE VERY CENTRE OF ALL THE VERSES THE LETTER A THAT IS THE HEBREW LETTER WHICH STANDS FOR A OCCURS FORTY TWO THOUSAND THREE HUNDRED SEVENTY SEVEN TIMES THE LETTER B THIRTY FIVE THOUSAND TWO HUNDRED EIGHTEEN\n",
            "Pred\n",
            "WITH HIS FINEL IS HOW FAR RABBIT OF FOOOOOOOOOOOOOOOOOOOOOOOOAAAAAAAAAAAAAAAAAAAAAAAAAAAI YEARS UP THE DROP IS DISCORRECTIn this case, after a few minutes in use, it is hard to say where with our limited time we will end up in our cars with its presence directly affecting brand options for new velodrome day driving or what festivals a new engine can make it out of working mode later yesterday morning. We will probably start our terms together with\n",
            "REMARKABLE TRUTH OF OUR OPPOSE REGARDLESS OF A QUALITY OF PCORN TRANSPORTATION OF OUR MEN OF LAW ENVIRONMENTARY AND JUSTICE STRENGTHED BY THE IMPAIRING OF POWER SHOWN TO BYCHRONIZED BY LATE PROBLEMATIC STRENGTHSC camera classes are available within mainstream schools locally by checking the tutorials on Godsdumb beneath the technical sections. Use this page to learn about university courses that require\n",
            "THEN TOO MUCH HAPPENED THAN WILLIAM ELMMITT LETTEBOOK FOR PEOPLE OF YOUR MANNIG IN VIENNA POLANDIf you'd like to keep discounted item on your shopping list apply here Share this article Share\n",
            "23 August 2012 Pet Stores Misquoted Available Tablets in [Spring 2011] Pet Stores Improved Never Mean Never Buy in your local Pet Store Printable book more in in no use Pet Show more Per size Search Details Display pet products\n",
            "THE SHOCKED HOLY LOOK WAS SO HELLY HE WAS HERE 1 CABIN IN PRIVATE CONDITIONS NOT SATISFIING THE HUNT OF THE PLANT PHOTOSFREDK Bowman joined an International Book Centre at Oxford University's University College on Wednesday yesterday held a sociological survey on prolific writers called Collectives of Letter Presentation – attempting to identify what literary arrangements do arts incorporate in their living spaces ahead\n",
            " 80 or so portfolio curators have applied codes of\n",
            "torch.Size([1, 40, 768])\n",
            "torch.Size([1, 40, 768])\n",
            "torch.Size([1, 40, 768])\n",
            "torch.Size([1, 40, 768])\n"
          ]
        },
        {
          "output_type": "stream",
          "name": "stderr",
          "text": [
            "\r16it [01:34,  5.90s/it]"
          ]
        },
        {
          "output_type": "stream",
          "name": "stdout",
          "text": [
            "Gt\n",
            "WHAT SHOULD WE MEET BUT THE HISPANIOLA CRUISING BY HERSELF THE LAST FLOOD HAD LIFTED HER AND HAD THERE BEEN MUCH WIND OR A STRONG TIDE CURRENT AS IN THE SOUTHERN ANCHORAGE WE SHOULD NEVER HAVE FOUND HER MORE OR FOUND HER STRANDED BEYOND HELP\n",
            "OH MARILLA I HAVE TRIED SO HARD TO BE PATIENT AND TO WIN ANTHONY'S LIKING AND NOW IT HAS ALL GONE FOR NOTHING MARILLA PASSED HER HARD WORK WORN HAND OVER THE GIRL'S GLOSSY TUMBLED HAIR WITH A WONDERFUL TENDERNESS\n",
            "AND APPEARED BUSILY EMPLOYED IN DIGGING AND PULLING UP ROOTS\n",
            "ALL IN SUCH A RAMPANT STATE THAT BUSY MOTHERS WONDERED HOW THEY EVER SHOULD BE ABLE TO KEEP THEIR FRISKY DARLINGS OUT OF MISCHIEF THRIFTY FATHERS PLANNED HOW THEY COULD BRIBE THE IDLE HANDS TO PICK BERRIES OR RAKE HAY AND THE OLD FOLKS\n",
            "Pred\n",
            "I CAME TO A WAREHOUSE RICHER DRACE THOUGHT OF ME I MADE A MUCHIDAN PARASITRATE FOR WELCOME AND WORDS WOULD COLOR AT HOME SO HE WAS HELD IN VERARIAN DHALLAWAYData Study Methodology This study involves a large length analysis of census data from 2004 through 2008 scanned online for trailing 0.5 percent demarcated populations which correspond to age 25 and older population groups\n",
            "MATHEMATIC IMAGE WAS IN HANDELIGHTING MY AEHRLOSDE ; AND TENDINGOUST ME TO FIX ON MY CABLES AND However I HAVEN'T COMFED MY DAUGHTER I AM NOW IN MY UNDERLIKE AND BETTER PERSONAL OLD MEN AND ERAATORS WHICH HAD MIGHT Be BraveFantasy fiction is out Roy Moore covers a staff member on Twitter this morning That won't prove it but once\n",
            "AND THEN HE CHARMED HIM IN THE PRESS FOR EIGHT OTHER DAYS WHICH HE 1933 SHOULD NOT HAPPENThis video gathered together is really great information for you to use for reconnaissance plays and matching ships. In other words please watch it from the robotic rocket lines please including the description so that you can be sure your resources will be brought into comparison and probablity honestlyIf only this radish carcass were… still fresh like the rusty rock else nailed its food circle wet with\n",
            "AND HE GOT OUT A GUN FROM HIS SAHIC OF CRASH, AN EXTRAORDIAL ANGLE IN HIS BEAM SHORES PIRVED HIS LOWER BEARDS AND CLOBS UP HIS BARWAYS AND SHOOTS VARIATIONALLY INTO THE SILVER NORTH THE THOUGHT WAS IMPOSSIBLE TO VIEW THE BLACK and GREEN BUT OF GOD BEHIND HIMSUBMIT ANNOUNCEMENT ('It's time to do something almost as simple\n",
            "torch.Size([1, 40, 768])\n",
            "torch.Size([1, 40, 768])\n",
            "torch.Size([1, 40, 768])\n",
            "torch.Size([1, 40, 768])\n"
          ]
        },
        {
          "output_type": "stream",
          "name": "stderr",
          "text": [
            "\r17it [01:40,  5.88s/it]"
          ]
        },
        {
          "output_type": "stream",
          "name": "stdout",
          "text": [
            "Gt\n",
            "A WEDDING THAT BEGINS WITH SMELLS LIKE THAT BY MY FAITH OUGHT TO BE PLENTIFUL AND UNSTINTING HAVE DONE THOU GLUTTON SAID DON QUIXOTE COME LET US GO AND WITNESS THIS BRIDAL AND SEE WHAT THE REJECTED BASILIO DOES\n",
            "CONTINUALLY FRINGED WITH IRREGULAR BORDERS OF NATIVE TURF AND LEAD TO PLEASANT NOOKS AND CORNERS ONE WHO KNEW AND LOVED IT WELL VERY HAPPILY EXPRESSED ITS QUIET CHARMS WHEN HE WROTE TRUE TASTE IS NOT FASTIDIOUS\n",
            "NOT SO FAR FROM HIS OWN JUST ACROSS A GREEN MEADOW BY WAY OF A FOOTPATH AND STILE AND THROUGH THE FIRS BEYOND IT HOW OFTEN HE HAD TRAVERSED THAT PATH IN THE OLD DAYS KNOWING THAT JOYCE WOULD BE WAITING AT THE END OF IT AMONG THE FIRS\n",
            "FOR THE BIRDS AND BEASTS ARE SO SKILFULLY ARRANGED THAT IT IS MORE LIKE TRAVELLING THROUGH A STRANGE AND PLEASANT COUNTRY THAN VISITING A MENAGERIE THE FIRST THING I SAW WAS A GREAT AMERICAN BISON\n",
            "Pred\n",
            "I GOT THE GREATEST ENTHUSIASM OF THEM ALL AND ITS STAYSOUNDING THROUGH THE TWO OPINIONS OF LITTLE TITGRAMMAR OF ENVIRONMENTALISM, ABERDEENLECTED THEIR TROUBLES AND IIRECTED THEIR TOTALITY IN TOXICITY ATONEMENT AND SINCE PETER MARCH TYPOLL AND HOW RICH AS IMO FURTHERSANGERS CHICKEN UP L\n",
            "WHAY SHE MAKES ME CORRECT AND GIVES ME AN EXTOOLY LIGHTSWAGS PERHAPS SEEMED TO BE MADE HE IS NOT A Fool BUT HE IS A TRUE MISSLEAGHER OF MY COMMENTS EXCEPT FOR FOR HER INFORMATION WILL SPAWN MY LITTLE NOTESLast Sunday like any good thing, Mark Davis met the Mariner at Wonnnarue Park over at WildStar Garrett Photography Experience. His conversation Tuesday morning included\n",
            "THAT THE OWNER OF THE GREAT SAME ROUBLE OF\n",
            "COLUMBIA CORPLICATIONS TO A MATTER IS BEING RAL'T IN THE HOUSEBEFORE THE EIGHTOklahoma Man Killed Monday Over Rice Law Implicating He Was Allegedly Driving Scooter In Self-Injury Roundtable Lawsuit Car Bomb Threatened Birmingham Mayor Garrett gets his nerve prosecutors are looking for prosecutors on Tuesday if they can be found guilty of crimes they were caught talking about Thursday before\n",
            "OH WHAT! But only half of the world would get it done if the elect only came in were not so different from those who thought it was themselves that did not come from the earthMembers of prayers for Hurricane Harvey filled the city's city hall Friday morning to pay their respects. Jamie Vanderkofer If you had heard about not only Harvey's theme of letting people hear its story online, you may have become completely unprepared for how headlines like this repeated themselves in your city hall message for your days\n",
            "torch.Size([1, 40, 768])\n",
            "torch.Size([1, 40, 768])\n",
            "torch.Size([1, 40, 768])\n",
            "torch.Size([1, 40, 768])\n"
          ]
        },
        {
          "output_type": "stream",
          "name": "stderr",
          "text": [
            "\r18it [01:45,  5.88s/it]"
          ]
        },
        {
          "output_type": "stream",
          "name": "stdout",
          "text": [
            "Gt\n",
            "THE COUNTENANCE OF KATY CHANGED FROM THE NATURAL EXPRESSION OF CONCERN TO THE SET FORM OF MELANCHOLY AS SHE ANSWERED HE IS HAPPILY REMOVED FROM THE CARES OF THE WORLD THE CHINKING OF THE MONEY MADE HIM GET OUT OF HIS BED AND THE POOR SOUL FOUND THE SHOCK TOO GREAT FOR HIM\n",
            "TO SHOW WHAT MY LEAVES WERE LIKE BEFORE I WAS A SCARLET MAPLE I THINK IT WOULD BE AWFUL HOMELY SAID EMMA JANE\n",
            "PUT INVINCIBLE DETERMINATION I WILL INTO YOUR COMPLEX PROBLEM PUT IRRESISTIBLE CONFIDENCE I SHALL ACHIEVE INTO YOUR ARDENT DESIRES YOU WILL THEN LOVE WORK\n",
            "ALICE GREGGORY TURNED AS IF STUNG WISHED TO SELL SHE REPEATED THE WORDS WITH SUPERB DISDAIN SHE WAS PLAINLY VERY ANGRY HER BLUE GRAY EYES GLEAMED WITH SCORN AND HER WHOLE FACE WAS SUFFUSED WITH A RED THAT HAD SWEPT TO THE ROOTS OF HER SOFT HAIR\n",
            "Pred\n",
            "GOLDING BLUE HE WAS TAKING THE ONLY RECORD IN HAD BEEN ARTICULAR THE WORLD'S NEXT FOUR DAYS AS GALLERY WORKS STILL RECORDED HE WERE PROBABLY OVER THOSE WHO WENT ON THE PLACEShe still has her hands round her neck but when she clutches them she knows them're not like those in tunnels where her parents fought mightily for her self-dashing pages after an abusive relationship more\n",
            "MANY MEMBER AND WEIGHTING TOWARDS THE INCLUDE AT THE UNKNOWN SHELTER THAT RETURNS ASHPOE I SAW Every BRIDGE OF HEAPBURG AT MY PNEUMBARK TO APPEAR TO THE PNEUMBURG AND CONTAIN TO WHICH WARRIORS' GUILTY HOLAINGS STANDARD THE PNEUMBLY MAN WARM THE SWEET ROBAN\n",
            "1 AND I WOULD\n",
            "AND I WAS NOT THE FAILURE OF THAT NEW WARRIOR AND HE WAS NOT READY TO HAVE THE STRENGTH OF HIS OBJECTIONO AND TO BE UNPRECEDENTLY IN THE 180 EVEN GREAT LADIES OF AQUILA AND BARRE WSORREZWhat about what was said when everyone realizes Jesus came back from the dead one day soon after he died March 2809 at meelays 2 september 28th http://cnsl5rn\n",
            "THOUGHT THERE WAS A SECOND PISA FOR SOME SIZE OF A VISA THAT CENTRALCITY WOULD GIVE EQUAL MASTERFULBURNING FOR THE DETERMINATION OF THE PRESIDENT OF AMERICA HERE THE COURT LIKED MICHAELWASHINGTON — Republican senator Susan Collins voted in favor of moving forward with the state funding push Monday morning after showing one positive sign — she was glad the state funding would help Republican Sen Russ Feingold continue his success as vice president\n",
            "torch.Size([1, 40, 768])\n",
            "torch.Size([1, 40, 768])\n",
            "torch.Size([1, 40, 768])\n",
            "torch.Size([1, 40, 768])\n"
          ]
        },
        {
          "output_type": "stream",
          "name": "stderr",
          "text": [
            "\r19it [01:51,  5.87s/it]"
          ]
        },
        {
          "output_type": "stream",
          "name": "stdout",
          "text": [
            "Gt\n",
            "THOUGH THEY HAD ALREADY LEVIED A GUARD FOR THEMSELVES HAD ATTEMPTED TO SEIZE ALL THE MILITARY POWER ALL THE NAVY AND ALL THE FORTS OF THE KINGDOM AND HAD OPENLY EMPLOYED THEIR AUTHORITY IN EVERY KIND OF WARLIKE PREPARATIONS YET IMMEDIATELY VOTED\n",
            "THIS IT IS WHICH CHRISTIANITY HAS CONDEMNED BUT WHICH ITS IGNORANT MINISTERS DEIFY WHO HAVE AS LITTLE DESIRE TO STUDY NATURE AND MAN AS ABILITY TO READ THEIR SCRIPTURES\n",
            "AT THE READY PEERING INTO THE BUSHES WE MUST HAVE WAITED THERE WHILE WOOD RECONNOITRED FOR OVER TEN MINUTES THEN HE RETURNED AND BEGAN DEPLOYING HIS TROOPS OUT AT EITHER SIDE OF THE TRAIL\n",
            "OSWALD SO SOON AS EDWARD CAME DOWN TO ARNWOOD GAVE UP HIS PLACE IN THE NEW FOREST AND LIVED ENTIRELY WITH EDWARD AS HIS STEWARD AND PHOEBE ALSO WENT TO ARNWOOD AND LIVED TO A GOOD OLD AGE\n",
            "Pred\n",
            "But he said he did this for his grandmother's benefit, for knowledge that would put off any thoughts rather than for their good fortune or ill fortune and so he went on before his landlord possibly thinking that he ought to make something out of what he could come by … but they agreed that certain persons must be chosen from among them which might be better bargains than their own.\"If you want to make your own decent home you need a firm story idea that can make your homes work together with personal\n",
            "YEAH ROSE INFATULATIONED THE ENTIRE CREATIONS OF THE MOST UNSET SPECIES AND THEIR DNA INVOLVED THE SHOCK OF THINGS AND MILES OF IT THE EXORDERS OF LIFE A SHAPE OF HOLINESS IN FEET WEDGE MY DEATH WAS ON THE FOUR HOUR WHO HAD NEVER LYNNEDBy Dominic Marroquin Posted August 24, 2015 Plans to build New South Wales housing market as a regional economic\n",
            "AN FEW BUFFET WITH BEAUTIFUL PEOPLE EVEN HAD FALLED OFF IN LOVE AND A MAN HUNTENS OF MONARCHS THOSE THAT LOST STORIES WERE THE SODS FOR THE HUNT OF BIRTH! THAT WOULD KNOW IF MADE DARKNESS TEARS DOWN AND THE LITTLE PLEASANT THE DEATH IS HEARD FOR FOUR CUT IN A RAFANG I'M TURNING TO THIS COUNTRY NOW\n",
            "I PARADiseED THE HOPES AND THE HOPES REMAIN ON FOR MY COUNT ALL AFTER DOING PAGEBOOKSS FOR A while NOT GOING KNOWNABC NEWS CLINTON TERROR : I HAVE PM RAMS PIERREWOOD SIMONą More Amazing Than City Cartoon Shows Oct 2011 China Deadline on Asian Disc Tape Credits for Peru Weekly Paper thanks @hpmulling wos Maid to Colombian Man Listen More You just can't suck my cock More Rick\n",
            "torch.Size([1, 40, 768])\n",
            "torch.Size([1, 40, 768])\n",
            "torch.Size([1, 40, 768])\n",
            "torch.Size([1, 40, 768])\n"
          ]
        },
        {
          "output_type": "stream",
          "name": "stderr",
          "text": [
            "\r20it [01:57,  5.86s/it]"
          ]
        },
        {
          "output_type": "stream",
          "name": "stdout",
          "text": [
            "Gt\n",
            "THREE EIGHTH THREE QUARTER AND THREE HALF MEASURE RESPECTIVELY THREE QUADRUPLE IN WHICH THERE ARE FOUR BEATS THE FIRST AND THIRD BEING ACCENTED PRIMARY ACCENT ON ONE SECONDARY ACCENT ON THREE\n",
            "THE STRUCTURES VARIED GREATLY IN SIZE AND SEEMED TO BE ARRANGED IN SOME SORT OF REGULAR ORDER LIKE HOUSES ALONG A NARROW STREET\n",
            "NODDED GOOD NIGHT AND WITHDREW ACCOMPANIED BY HER AUNT FOR HIMSELF HE WAS ANNOYED AT HIS MOTHER THOUGH HE THOUGHT SHE WAS RIGHT ABOVE STAIRS THE TWO LADIES SEPARATED AT MISSUS TOUCHETT'S DOOR ISABEL HAD SAID NOTHING ON HER WAY UP\n",
            "A SAYING MYSTICALLY EXPRESSED BY THE CHINESE CHARACTER FOR SOUL UPON THE BACKS OF MANY BRONZE MIRRORS AND SHE FEARED THAT IT WAS TRUE IN WEIRDER WAYS THAN SHE HAD BEFORE IMAGINED BUT SHE COULD NOT DARE TO SPEAK OF HER PAIN TO ANYBODY\n",
            "Pred\n",
            "AND HOW MANY MEN DID WE ALL GO OUT OF JUNE THE NEXT DAY LIKE NOTING ANY OTHER COOK IN THE MIGHT BE ALL SOCH OFF A TIME AND HE NON FORTHLY FUCKED OFF THE MOTHIN MAN SO MIGHT TALK JUSTICE ON MY STEELToday I review your Beast 10 Two Pack of Coffee Slow Cooker Beans with brown sugar cream cheese frosting drizzle White Christmas Garlic with all your many seasons to chooseListen carefully behind the wheel (\n",
            "THE MYSTERY TOLD ME THAT MIR BEART'S LIFE SHOWED THEM THAT SHE'S SEENLY SAVING CHRISTMAS WHEN WE Were Still Years Away —Embedded is often described as a disaster form — from which terms like fear refusing to enter into an accidental judgment — but perhaps because the words we use really mean something as well. But what happens when people who simply believe the word become really angry when they start banging pots onto each other on its own, without\n",
            "I WAS A MUSEANT OF THOSE AREN'T ON THE PAYS OF DUST TO PROVIDE THIS FATHER BECAUSE THE TROY OF FLOUR CONTAGUES WAS HAMSTRIDDLED WHEN THE HARMONIA GODSLY CLARA OFFIT WAS ATTEMP & THE VEGAS OF RILADO CELLINALSTATQUEWe found possible evidence of advanced brain diseases after completing our 2015 Boston Marathon screening visit in 2013 for brain condition management research\n",
            "THE TWENTYMINE WHOSE MOTIONS WAS HUMPING ALONG ABOVE THE OLD TURBEN LARGE AS THEY PASSED JOURNALIZED OUT OF THE FESTATIONBest broth since discussion started today\n",
            "\n",
            "May 17th 2015 09:43\n",
            "\n",
            " from 3rd February 2015In a 2010 blog post titled \"Further System,\" Richard Stagg observes that people review Pasteurized milk because it contains neither egg nor egg white, although both proteins have\n",
            "torch.Size([1, 40, 768])\n",
            "torch.Size([1, 40, 768])\n",
            "torch.Size([1, 40, 768])\n",
            "torch.Size([1, 40, 768])\n"
          ]
        },
        {
          "output_type": "stream",
          "name": "stderr",
          "text": [
            "\r21it [02:03,  5.86s/it]"
          ]
        },
        {
          "output_type": "stream",
          "name": "stdout",
          "text": [
            "Gt\n",
            "THIS SHAME I SAY BETRAYED THE WANT OF A SECURE RESTING PLACE FOR HER AFFECTION SHE NEVER CALLED HER SON BY ANY NAME BUT JOHN LOVE AND DEAR AND SUCH LIKE TERMS WERE RESERVED FOR FANNY\n",
            "SO BE IT LET US RAISE THE BARRICADE TO A HEIGHT OF TWENTY FEET AND LET US ALL REMAIN IN IT CITIZENS LET US OFFER THE PROTESTS OF CORPSES\n",
            "TO SEE UPON WHAT PERSON THIS DARK LOOK WAS DIRECTED THEN HE SAW BENEATH A THICK CLUMP OF LINDEN TREES WHICH WERE NEARLY DIVESTED OF FOLIAGE MADAME DE VILLEFORT SITTING WITH A BOOK IN HER HAND\n",
            "EARNEST PLEADINGS AND BENEVOLENT ELOQUENCE WERE IRRESISTIBLE TO GIVE UP THEIR PLEASURE GROUNDS TO THE AGRICULTURIST TO DIMINISH SENSIBLY THE NUMBER OF HORSES KEPT FOR THE PURPOSES OF LUXURY THROUGHOUT THE COUNTRY\n",
            "Pred\n",
            "CHALEAN SAYS OF THE GREAT MEN FOR THE FIRST TIME YOUTHALDS THAT THE LORD WHO PROVOONS THEMISTS THE ENTIRE CRIMINAL LAWThe Fort McMurray Steakhouse will reopen on Sunday with an opened name that will be engraved all over the entryway next season. Owners Anderson Stertek and Jonathan Imley tell The Age they will open its doors on June 17 after the Calgary Hockey League opens May 20.250 Brewing Best Beer Deals of 2015\n",
            "AND THE OLD MAN WAS SHOT OUT OF THE HURRAY BPIKE'S WHOLESALE SCHOOL AND WHEN THE ODDS AND ROSELDOES WERE TRACKED WITH THE WHITE AND LARGER EDGES AT HIS ROOTS NIGHT THE NEIGHBOURNE TEACHED HIS EYES TO A Near PlaceNot over there where he would make him as safe as possible Some choice places For women Did not like her satin Awakened her her heart were\n",
            "MISHAMETTE FABRIOTAL POKIES AT THE PUSSEE WERE A PART OF THE FIELDS OF THOSE WHO SUBJECT TO HIM AND WERE ART INSPIRING THE PRESERVATION OF THE SHEV PROTEST MEAN OR TOLD HIS SAID TALKING WERE ACCREDITED SO LITTLE NOT TO ASK THEM ABLE TO ME OF THE POSSESSION & BE HARD TO TAKE ME BACK TO THE SCHOOL\n",
            "AND I HEARD TO HOLD THE GREASE AND CALL HER A HERALD THE SUN SPREAD PRICES AWINNA'S THEDN LONG NOW LEARNING AT HER SPORTSPACE WE BENOSED THE BVK AND DIRED EVERYTHING BUT MUSLIM IN THE WEDNESDAY AFTER HIS MARCH HE HE STEVENED HIS SAINTS MOUSE AND BELIEVED TELLING TAIL'S PARLANY AND THEY AFPITED THE AMOUN\n",
            "torch.Size([1, 40, 768])\n",
            "torch.Size([1, 40, 768])\n",
            "torch.Size([1, 40, 768])\n",
            "torch.Size([1, 40, 768])\n"
          ]
        },
        {
          "output_type": "stream",
          "name": "stderr",
          "text": [
            "\r22it [02:09,  5.86s/it]"
          ]
        },
        {
          "output_type": "stream",
          "name": "stdout",
          "text": [
            "Gt\n",
            "AND THE DAY CAME AT LAST WHEN IT WAS WELL WORTH HIS WHILE TO TAKE THE LITTLE EXTRA TROUBLE OF PEEPING OUT BEFORE HE HAD HIS SWIM FOR MASTER MEADOW MOUSE CAUGHT A GLIMPSE OF A SNAKELIKE HEAD THAT DARTED OUT FROM UNDER THE BANK OF THE BROOK AND DARTED BACK AGAIN OUT OF SIGHT\n",
            "AND IS THE HEAD OF AN AEROPLANE FIRM BUT I DON'T THINK HE HAS AN AEROPLANE HERE HE COULD GET ONE EASY ENOUGH THE CLEVER DEVIL LOOK OVER THERE HE HAD THE BROAD SWEEP OF THE GOLF COURSE AS A PERFECT LANDING GROUND\n",
            "THE ROSES FEARFULLY ON THORNS DID STAND ONE BLUSHING SHAME ANOTHER WHITE DESPAIR A THIRD NOR RED NOR WHITE HAD STOL'N OF BOTH AND TO HIS ROBBERY HAD ANNEX'D THY BREATH\n",
            "A PLACE ELF HAUNTED WONDERFUL SIMPLY PRODUCED SO MANY APPLES AND CHERRIES OR IT DIDN'T WHEN THE FAILURES OF NATURE WERE NOT INFREQUENTLY ASCRIBED TO US\n",
            "Pred\n",
            "WOULD I THINK THAT ANY ONE OF HIS COMPANIES OF MOST ALCOHOLIC RISES LIKE ABERDEEN THE DOJEL OF THE FIRST SHIPY OF MAN WHICH MOST HAD NOT BEEN HAVEN'T HEAR AN ABERDEEN ALBUM IT DIDTER TO BE PERMITTED BY WHO'S WALKING IN THE RIVER OF BOTH THE GREATER SOURCES AND THE THIRTENING NOTE TO\n",
            "STUCK IN THIS OPERATOR MAJORITY OF HER NEEDY USE FOR FOTY PROBLEMS AND ELIMINITY WITH LOVE AND REPULLITION TO SHALL RAISE MUGHS OLD AND GOOD\n",
            "[Icky] It's not like you have to focus on me or feel degraded dead and you're always popping up next to me at home5 Ways Miss Houston got her access slip Book Doom Robert Octum is the actor Behind Lady on Good Day Job\n",
            "ONE OF THAT HANDS OF A GIRLS DISPATIENTLY ACTIVELY ASKED IT TO ME THATMY DEAR GIRLS TRIED TO MERCY THE OTTOMANUS FTA WAS A SHORT PROCESS IT FITTED TO OBTAINAGE AND PROVIDE ME A ROSAL MENTAL CONTRACT THERETHOSE WINGS THAT COME FROM LAs and I SAID NO WE CARRY ON THE BENCHDoes an investigator use a\n",
            "SMILE HANDLE AND FLAWLESS ART AND STRENGTHS THE CELLS AND PERHAPS THE HORSE THE SPIRIT TURNER IS MUCH MORE MAGNIFIED FOR IT THEY FEEL HIM TO BE TOILETTY ANDAMNA WHURETS ANDESSEES AZURE HE WAS SEEN IN HIS GAME MUSED AND A SIS TO GEEON THE NBA POST WEDEN ONE DAY HE WAS WORKING ANDNOTE: Cats can be slightly\n",
            "torch.Size([1, 40, 768])\n",
            "torch.Size([1, 40, 768])\n",
            "torch.Size([1, 40, 768])\n",
            "torch.Size([1, 40, 768])\n"
          ]
        },
        {
          "output_type": "stream",
          "name": "stderr",
          "text": [
            "\r23it [02:15,  5.85s/it]"
          ]
        },
        {
          "output_type": "stream",
          "name": "stdout",
          "text": [
            "Gt\n",
            "HE EMPLOYED ALL THE ADVANTAGES WHICH REMAINED TO HIM AND ROUSED UP HIS ADHERENTS TO ARMS THE RESOURCES OF THIS PRINCE'S GENIUS INCREASED IN PROPORTION TO HIS DIFFICULTIES\n",
            "THUS I LAY WITH MY FACE TO THE CLIFF AND ELZEVIR PUSHING FIRMLY IN MY BACK AND THE THING THAT FRIGHTENED ME MOST WAS THAT THERE WAS NOTHING AT ALL FOR THE HAND TO TAKE HOLD OF FOR HAD THERE BEEN A PIECE OF STRING OR EVEN A THREAD OF COTTON\n",
            "UDO DROPPED UNDECIDEDLY INTO A SEAT THIS WANTED THINKING OUT THE COUNTESS WHAT WAS WRONG WITH HER AFTER ALL AND SHE EVIDENTLY ADORED HIM OF COURSE THAT WAS NOT SURPRISING THE QUESTION WAS\n",
            "EXACT AND RESOLUTE ALLEGIANCE EXAMPLES OF TERRIFIC AND EXPLOSIVE ENERGY EXASPERATING TO THE LAST DEGREE\n",
            "Pred\n",
            "SIGNED THE TWO ROADS TO THEM AND SEDUCTED THEM AWAY FROM THE LIGHTS OF THE DOOR WHICH DIDN'T GO UP TO THE ELIZABETH I WAS THERE AND HER LITTLE REMEDY DIDY DEELY GO ROAST AND CAME NEAR HER HOUSEEven though there are ways you can accomplish Majors in Your Home Another way that you can fall into Majors during on your travels south travel is by having your language skills get written\n",
            "THE MAN HAD PURQUITED BY HIS CORNER OF STREAMS A GREAT SIGHT IN GARLAND AND A GREAT CENTER TO HIM AND TO APPLY THUS A DAY POOL PATCH OF CEARING HE ASKED AND REPRESENTED AS MUCH GURAME AS HE BADE HIM GO ON IN CONJUDENCE AND WOULD TRAVEL UP TO HIS DARKEST DISTRICTWhat is bankherosra disaster policy? Bankherosra requires companies\n",
            "BUT ILLIANTLY WHY HE CARRIED ALL THE TIME HE WAS SANDY AS GOVERNOR AND HOW HE COMMONDEED DUSTRY. ILLIANTLY FORTAILED HIM CONDAIN'S BACK IS IT THE WATHERSNot long ago, an Arizona man named Escobar Melanie Johnson decided to pontificate as an anthropologist based on seven plates that hung from the ceiling of her studio in her enchanting flat in The Hotel Jeff Pech\n",
            "AND THE LOOK IS ALREADY FEW INFLUENT AND LYNELY OF THE ENEMY AND THE EVERYTHING IS SO CUJANNY AND OFF CAPTAINLY AND SUFFICIENTLY AS ROEDOM SECURITY MADE PITIES AND CHILDWAVES OR LANCON FISHER DECEMBER 29, 1763We are proud to rise out of a small patch in Charlotte in September 2018 on behalf of Japan Pacific Japan since 1986.Al\n",
            "torch.Size([1, 40, 768])\n",
            "torch.Size([1, 40, 768])\n",
            "torch.Size([1, 40, 768])\n",
            "torch.Size([1, 40, 768])\n"
          ]
        },
        {
          "output_type": "stream",
          "name": "stderr",
          "text": [
            "\r24it [02:21,  5.86s/it]"
          ]
        },
        {
          "output_type": "stream",
          "name": "stdout",
          "text": [
            "Gt\n",
            "AND THE BUILDING IS PRACTICALLY FINISHED SUCH A HOUSE IS USUALLY OCCUPIED BY A NUMBER OF FAMILIES UPON QUEEN CHARLOTTE ISLANDS THERE IS A DWELLING OF THIS KIND LARGE ENOUGH TO HOLD SEVEN HUNDRED INDIANS\n",
            "AND STRUCK HIS STICK ON THE FLOOR AGAIN MY MOTHER SAT OPPOSITE AN AWE STRUCK BUT ADMIRING AUDITOR MISSUS GRAHAM SAID I HE CONTINUED SHAKING HIS HEAD AS HE SPOKE\n",
            "THE HEAD OF A PROCESSION WHICH ADVANCED TO THE FOOT OF THE THRONE FIRST THERE MARCHED FOUR OFFICERS OF THE JEDDAK'S GUARD BEARING A HUGE SALVER ON WHICH REPOSED UPON A CUSHION OF SCARLET SILK\n",
            "BUT SHE WAS RATHER STARTLED WHEN SHE PERCEIVED THAT KEMP WAS ADDRESSING HER I SHOULD LIKE TO SHOW MY PROWESS TO YOU MISS LEVICE IN WHAT SHE ASKED SOMEWHAT DAZED RUTH RUTH LAUGHED HER MOTHER\n",
            "Pred\n",
            "AGAINST ALLY WILL THEY UNDERSTAND THAT YOU MAY WALK OUT IN A DIGNITY KEIKER JOURNALIZED — BUT THEY FLOOD DRISE OVER UP THE CHAIR BANK AND TAKE THEM BACK TO BE HEARD AND READ AND THEN CALLED YOU TO EAT A CHAMBERCLOSE An early morning outside of New England on Saturday August 24th featured a cherished family gathering across the country for a family barbecue….\n",
            "In her first trip since\n",
            "HE THINKS IN HIS SPRITEE HE DELIVERED HE CANKLED FROM AMYTHE MOBILIN TIME HE WALLS OUT OF THE MACKETABLES AND WITH HIS LIFE AND HE HAD IT THROUGH HIS SOULS AND HE BELIEFS THE NIGHT AND MAY EVEN FREE HIM FROM HIS PEAM AND SUM DRAWLAn error reporting their presence through PM is relatively common conversations among politicians who are also responsible for countrywide forums where every online discussion should be\n",
            "WELL WE WILL LITE SAIL OUR MEN LATER AS THE PAID RELIEF OF SERVANTS\n",
            "\n",
            "…Western AllStars​ Organisation will have announced details over upcoming two weeks for three CSKA games at Sherpa Weathercenter Skota Stadium in Sutton and Edgewood share infielder Adam Gueney's retirement is hanging over the club's move towards international citizenship this month.If you haven't watched all 31 episodes of Game of Thrones Season 1 Season 2 season 3 season 4\n",
            "TO THE THE OTHER COMMUNED BRUS HILL CARGOON, LITTLE ALGUMENT AND JEBELO JUDGE JUSTICE LITTLE ANSWERED THAT BRUSHOLIAN REPRESENTATOR LOVES AND RUNNS WHO WAS RATHER CLASSED AS THOUGHT HAD NOT ENCOURAGED BY HILARIOUS LESSONSThis stalker could almost claim credit for defeating her teacher's Mordell boss Jo Forlani\n",
            "torch.Size([1, 40, 768])\n",
            "torch.Size([1, 40, 768])\n",
            "torch.Size([1, 40, 768])\n",
            "torch.Size([1, 40, 768])\n"
          ]
        },
        {
          "output_type": "stream",
          "name": "stderr",
          "text": [
            "\r25it [02:26,  5.88s/it]"
          ]
        },
        {
          "output_type": "stream",
          "name": "stdout",
          "text": [
            "Gt\n",
            "NO ONE WHO HAS EVER SEEN YOU TOGETHER CAN DOUBT HIS AFFECTION MISS BINGLEY I AM SURE CANNOT SHE IS NOT SUCH A SIMPLETON COULD SHE HAVE SEEN HALF AS MUCH LOVE IN MISTER DARCY FOR HERSELF\n",
            "WE WERE NOT ALLOWED TO VISIT THE PLAYGROUND TILL THE SERMON WAS FINISHED MINE WAS ONLY DONE A DAY OR TWO BEFORE THE HOLIDAYS MISSUS DRURY WHEN SHE SAW US SHOOK HER HEAD WITH PITYING HORROR\n",
            "AND KNOWS TOO THAT THESE THINGS ARE NOT TO BE LAUGHED AT MY DEAR FELLOW SAID ALBERT TURNING TO FRANZ HERE IS AN ADMIRABLE ADVENTURE WE WILL FILL OUR CARRIAGE WITH PISTOLS BLUNDERBUSSES AND DOUBLE BARRELLED GUNS\n",
            "HE DID WHAT HE CHANCED TO DO HE SET OUT AGAIN IN THE DIRECTION OF JOHNSTONE ROW BUT NOW HE NO LONGER WALKED HE DRAGGED HIMSELF ALONG HE LEFT SAINT MARY'S STREET TO THE LEFT MADE ZIGZAGS THROUGH LANES\n",
            "Pred\n",
            "AND THEN THAT WAS WHAT REAL WAS HE HAD LIKELY TO SAID THAT THEYLOVE IT HE WAS TOO VICTIM Chris Hadel was to painfully tell how he looked on his other side as if to say that with them both then that he lay there alone there a very perplexed feeling they did not think beyond their aeons ; as if expecting all this was not possible they looked down upon their own for tears they could not remember it at all >and they lay like\n",
            "ARE WE MOVING INTO SOMETHING THAT I GATHER OANGVAR MOZIMEN SENTENCING SOON IN ANANDIYA, FOR THE CURRENT I HAD SEEN OUR TERMS BUT THAT FOCUSED ON HER CUNNINGING ITSSELF INTO A CHAPTER WHERE SHE WOULD LET A PRINENT AVANGAR KILL THE CARNER OF RED MASHED HAVEN HUNDRED PILLS OF Ends I LEND HER O\n",
            "WHO AESTHETIC PROXIABLE WITH THE SAME IS ONLY TO WAGES AND DISPOSITION OF THE MAN FOR FAMILY IN DEATH AND PEOPLE WHO LITERALLY PREVAILSKERLY LAUGH WE SHALL SEE THEMIn this first Million Miles Hot Price Report interactive travel experience you will discover out your own is to keep from being stranded in other countries or everyone you encounter those situations you know do not exist in your experience beyond your cheap tourist spot INJECT MAIN search\n",
            "HELEN AND PHAKE PASHOT THIS SKIN POSSESSED AS IT WAS SUCH A HEART TREADY TO COME HOME AND HAD AS OF LAST SO HONORING TERE ENOUGH HE MADE HIM USE PLEASAL BUT THE SEVERE GROWTH DOES TENNEL GUVRA EMBRACE ON HIMESELF AND THUSLU'S WAS IN THE DRAN TEMPORARY AND she so CHAN HE\n",
            "torch.Size([1, 40, 768])\n",
            "torch.Size([1, 40, 768])\n",
            "torch.Size([1, 40, 768])\n",
            "torch.Size([1, 40, 768])\n"
          ]
        },
        {
          "output_type": "stream",
          "name": "stderr",
          "text": [
            "\r26it [02:32,  5.88s/it]"
          ]
        },
        {
          "output_type": "stream",
          "name": "stdout",
          "text": [
            "Gt\n",
            "SKELETONS THEY WERE AND NO HUMAN BEINGS AT ALL HER FATHER\n",
            "MISTER LINCOLN SEATED HIMSELF AT HIS TABLE TOOK UP THE PEN DIPPED IT IN THE INK HELD THE PEN A MOMENT THEN LAID IT DOWN AFTER WAITING A WHILE HE WENT THROUGH THE SAME MOVEMENTS AS BEFORE\n",
            "HAROLD IT FURTHER APPEARED GREATLY COVETING TADPOLES AND TOP HEAVY WITH THE EAGERNESS OF POSSESSION HAD FALLEN INTO THE POND THIS IN ITSELF WAS NOTHING BUT ON ATTEMPTING TO SNEAK IN\n",
            "IS NOT THE ORDINARY WORD FOR THINGS PHYSICALLY FOUL IT IS A RITUAL TERM AND CORRESPONDS EXACTLY TO THE IDEA OF TABOO THE IDEAS UNCLEAN AND HOLY SEEM TO US TO STAND IN POLAR OPPOSITION TO ONE ANOTHER\n",
            "Pred\n",
            "IN THE FIRST HOURS OF THE CONSTAINING THERE WAS 37 CANDY DETERMINATIONS AT A RANDOM LIFE/ TWO HUNDRED THOUSAND YEARS TO PERFORM TWELVE DAYS IN A SUPER the ENTIRE WORLD HAS BEENSTRUGGED WITH THE LIGEST BITWASTING SKEELS HANDS IN THE STRONG OBSERVATIONS ON THE ROAD AND ALLOWING TO GENERA TO SURVIVENATUR\n",
            "NO I AMSUED LIMAN SEADING MY THOUGHT AND REHABILITATED HIM TO BE MY OLD FATHER IS NOW IS HERE TO OCAVE IN MY THOUGHT AND FOR A SPEECH OF LOVE and KNOWLEDGE AND MASK AND REUNIFUL TEN DAYS LEAD IT IN CONTROL BUT I WOULDNOT ASSHARE YOUImage copyright Getty Images\n",
            "…When Sammy Watkins was allowed to return from his drug suspension\n",
            "AH I SEE THE MOLESTRAY FINTA LASEMEAS GARRISON SHALL SUFFER HIS 79 DRUGS DURING THEIR HELLY SUTHOUR'S SPIRIT WITH A BRILLIANT TALE OF HER WHITE PHILOSOPHY OF HOLY RAIN WHICH IS RESTORED THROUGH THE HABIT OF THE HABIT OF THIS HOUSEDavid Lee Hammes from BT Sport got Liverpool a little bit closer as Liverpool bought Hull from\n",
            "THE BODY WAS QUITING WITH ITS HEADLIMITED DISCHARGAGE TO RAISE A COLOUR OF THE Sun AS WERE MADE TO POINT AT... THE TRIUMBLSHEED AND WERE SHIPPED IN STOCK8 Of Even Now That Been Seen Before Now With Purpose Because Of The Body In Episode 8 We Can't Stop It Unless We Approach For Reflection As Our Own Cleaver It's Like Her Means Are Respect Enough Anytime Every Time\n",
            "torch.Size([1, 40, 768])\n",
            "torch.Size([1, 40, 768])\n",
            "torch.Size([1, 40, 768])\n",
            "torch.Size([1, 40, 768])\n"
          ]
        },
        {
          "output_type": "stream",
          "name": "stderr",
          "text": [
            "\r27it [02:38,  5.87s/it]"
          ]
        },
        {
          "output_type": "stream",
          "name": "stdout",
          "text": [
            "Gt\n",
            "WHAT HAVE YOU GOT IN THE POCKET OF THAT NEW DRESS THAT MAKES IT SAG DOWN SO IT'S MY NUTS AND RAISINS FROM DINNER REPLIED REBECCA WHO NEVER SUCCEEDED IN KEEPING THE MOST INNOCENT ACTION A SECRET FROM HER AUNT MIRANDA THEY'RE JUST WHAT YOU GAVE ME ON MY PLATE WHY DIDN'T YOU EAT THEM\n",
            "WHEN SEGOUIN SHEPHERDED HIS PARTY INTO POLITICS HERE WAS CONGENIAL GROUND FOR ALL JIMMY UNDER GENEROUS INFLUENCES FELT THE BURIED ZEAL OF HIS FATHER WAKE TO LIFE WITHIN HIM HE AROUSED THE TORPID ROUTH AT LAST\n",
            "THEY HAD KEPT UP WITH HIM FOR THOSE THREE YEARS THOUGH PRIVATELY THEY DID NOT CONSIDER THEMSELVES ON AN EQUAL FOOTING WITH HIM I AM CONVINCED OF THAT OF SIMONOV'S TWO VISITORS ONE WAS FERFITCHKIN A RUSSIANISED GERMAN\n",
            "HE CAN SAY THENCE OPEN FACED BEFORE THE WHOLE CONGREGATION AND THE PERSON IN NEED THEREOF MAY HEAR IT WITHOUT UMBRAGE OR THE CHOKING HUSK OF INDIVIDUAL APPLICATION IRRITATING TO THE REJECTION OF WHAT TRUTH MAY LIE IN IT FOR HIM\n",
            "Pred\n",
            "I ASKED IF ANY ONE HAVE FELT ASKED HER HER IF ANY ONE CAN EVEN SEE THIS GRACE ITS TIME TO OTHERS BUT THAT RESULTS IN MANUALS HE CAN GET THEM BEFORE LADY'S REESE'S ISTRESSLiving dirty is simple… Chances are up if you take Samantha (@MirabellaSamantha) out on a date at an alley party tonight… and you have a million questions over whether you should use any fragrance\n",
            "AND SHE WAS OLDLY HAD NOT A TABLEGE AND SHE WOOD TO THE ATTRACT OF LUSH BLACK DOGS TO THE DOOMENISHMENT OF DAUGHTERONE'S HAND AND SHE HAD SUCH ABODE THE BOBBY THE FIRED TITLE OF THE Peaches' LAST WORLDS HAD TINY IN IT AND THEYHERE SWHAT HE ATTRACTED AS IF THEY CHEAP HIS MASSE KINGDOM\n",
            "AND FOR AN ANSWER TO HIM THAT THAT HE WAS GOING TO HIM TO KNOW THAT HIS SCHOOL GUILTY WAS Frank Larkin's, AND WHEN HE PAXUALLY PULLED OFF HIS FRINGUNAGEILLES AND FELT OUT WITH HIS HEAD Fucking HIS PANG I INDED THE AIR BUT I WAS KILLED BY LIEBORN SMITH THE JEWELS PILOTS BERING UNDER HIS HORNET LOOK OUT OF SAND DI\n",
            "THE NIGHT SHOOTED MY HEAD UP AND THE ONE SOUNDING TOXIOUS FROM A MOUNTAIN SPIRIT DROPS FOR ONE MOUNTAINStill loading... # Hostname Base address Set ipv4 ipv4 pube_phy No port 774 Tue Nov 22 08:29\n",
            " {119302258943}(1) No JavaScript available at this time\n",
            "— The item identifier alternative plot notes < char notJoyOneName = \"#0b\n",
            "torch.Size([1, 40, 768])\n",
            "torch.Size([1, 40, 768])\n",
            "torch.Size([1, 40, 768])\n",
            "torch.Size([1, 40, 768])\n"
          ]
        },
        {
          "output_type": "stream",
          "name": "stderr",
          "text": [
            "\r28it [02:44,  5.88s/it]"
          ]
        },
        {
          "output_type": "stream",
          "name": "stdout",
          "text": [
            "Gt\n",
            "WITH ITS LOFTY DOME OR THE FACES OF IMAGINARY BEINGS BEAUTIFUL OR DEMONIACAL ACCORDING TO THE WILL AND TEMPER OF THE SUBJECT PERHAPS THE MOST WONDERFUL EXAMPLE OF SELF HYPNOTISM WHICH WE HAVE IN HISTORY\n",
            "AND SINCE THAT THOUGH IT'S QUITE A LITTLE WHILE AGO THE SHOP'S OPEN TILL ELEVEN EVERY NIGHT NOW AND JEFF IS SHAVING AWAY TO PAY BACK THAT FIVE HUNDRED THAT JOHNSON THE LIVERY MAN SENT TO THE CUBANS AND PATHETIC TUT TUT YOU DON'T KNOW MARIPOSA\n",
            "THEN WITH A BEAUTIFUL GESTURE THE MAN HELD OUT HIS ARMS AND THE WOMAN WITH A LITTLE GASP OF HAPPINESS\n",
            "HE FOUND A YOUNG SHEPHERD WATCHING HIS FLOCK THE NATURAL MESSENGERS OF THE BANDITS ARE THE SHEPHERDS WHO LIVE BETWEEN THE CITY AND THE MOUNTAINS BETWEEN CIVILIZED AND SAVAGE LIFE THE BOY UNDERTOOK THE COMMISSION PROMISING TO BE IN FROSINONE IN LESS THAN AN HOUR\n",
            "Pred\n",
            "AND WE CAN TOLD YOU THAT THEY WANT A GREAT KING FAIRWELLby Nick Rudney\n",
            "1) One person has been arrested for failing to bring food into Palmerston Centre for Riot Police Issue broadcast sing songs or music from John Wick also it does not matter if you sit next to you when you play parleys it doesnt matter if you go first or next door things will come out like this perennial stalker from Riverside In Islington You need not nuts chase every other person when you\n",
            "AND THE GRIM OF A MAN SMACK IN HIS PALES AND THE WOODS OF HIS ROE FOUNTAIN RIMS WHICH RAGGED WITH JAZZING HIS HORN AND CRYING AYSELF INTO A PITASTERY UNCOLD FROM AN ICE RAPID STRIP OF BLACK SHEARBOX BUT IT CHANGED AND BITE THE KNEE AS THEY SHUT ITUntitled a guest Jul 30th to Sep 12th 2016\n",
            "UUUUUEGAAAAASTHOOOOOOOOONGThese creatures lack snakes' associations, but are feared for any way they can touch the tree or pluck it off its edge. They use their wild powers to attack indoors and outside however possible. However, their back strike threat even their faces are also fragile and they are always angry at any who attempt to harm them.Every Canada must live up to its goals and most NAFTA agreements are not to be trifled with this year not at Congress but\n",
            "BAND RENTED ALONG THE BOOKS FOREVER SLEEP SOUL BOARDED NOT NEVERS UNDER THE BEACH, BUT IT WAS NEVERS FACE APPEARING AND MADLY OLD IN THESE TWO WINDOWS THE PEER CALL HOPE WAS SENDING THE SUBWECTIONS AND PHOTOS INTO THE PHOTOS OF ANOTHER OF THE MOST BRUTALLY HEARTYER AND POWERFUL TO ANGLE TOWARDS THE LOW WITH PIEC\n",
            "torch.Size([1, 40, 768])\n",
            "torch.Size([1, 40, 768])\n",
            "torch.Size([1, 40, 768])\n",
            "torch.Size([1, 40, 768])\n"
          ]
        },
        {
          "output_type": "stream",
          "name": "stderr",
          "text": [
            "\r29it [02:50,  5.87s/it]"
          ]
        },
        {
          "output_type": "stream",
          "name": "stdout",
          "text": [
            "Gt\n",
            "NO NEED OF THAT CAME THE REPLY BECAUSE I'D BE WILLING TO START AFTER THAT MOOSE ALONE AND FOLLOW HIM FOR A WEEK IF I THOUGHT I COULD GET A FAIR CRACK AT HIM IN THE END THEN IT'S A GO BLUFF\n",
            "TO DEVELOP ACCORDING TO THE NATURAL LAWS OF SOCIAL EVOLUTION SECOND TO PROVIDE THROUGH OUR OPEN CONFERENCES THE MEANS FOR A FREE DISCUSSION ON ALL SUBJECTS BEARING ON THE WELFARE OF THE RACE THIRD\n",
            "AND PASSED OVER HIS SPRAWLING BODY TO THE SHORE COX GRASPING AT ANYTHING TO SAVE HIMSELF CLUTCHED AN OAR AND THE NEXT MOMENT FOUND HIMSELF BORNE OUT WITH THE OVERTURNED WHALE BOAT BY THE UNDER TOW HE WAS DRIFTED PAST HIS ONLY HOPE OF RESCUE THE GUARD BOAT\n",
            "IF HE DID THE LESS PRECISE AND DEVOTIONAL MAY PARDON HIM HE HAD LOVED THE GIRL SINCE HER EARLY TEENS AND IT WAS ONLY YESTERDAY'S POST THAT HAD BROUGHT HIM THE APPOINTMENT THAT ONE MIGHT MARRY ON THE APPOINTMENT HAD COME THROUGH HER FATHER\n",
            "Pred\n",
            "IN ANOTHER PATREON HAW KICKED HER HORSE MAN FROM THE POWER OF LIVING REMAININGS.From Look Back We Look Forward to Truly Beautiful Awesomeness On Summer Day We Love You After earlier this week We Celebrate Great Flag Designs with Generations Cutin Wood Melissa LeoPastport Woodland Telescope Light Sensor and Illumination Tuner Input Device\n",
            "\n",
            "The Duncan Cove Town Telescope Tuner is rated 4.3 out of 5 by 29. Reason for\n",
            "AND THAT SIR TO HIS SINGLE ROLLING THAT HE CREATED IT WOULD NOT HAVE ME WITHGOTTEN MANAGEMENT BY ANY MOTHERHOODWASHINGTON -- Commonly represented are lawmakers from both parties in Congress -- Sheldon Whitehouse and Martin Heinrich, former Sen from Arkansas and Republican vice president for State Affairs for Heritage Conservation CenterIn August 2006 the Trump administration implemented a decision making process for selecting officers when active minority agencies were designated for elimination through potential appointment criteria or\n",
            "HIS WINE ON TWO 308 INCH QUILLS SOPS\n",
            "782 QUINT WITH LOUISENS © EAGLE SMITH DARYL FARMSTONE SANUS DAVIES HONEY HONEY THAT WELCOME TO THE HOUSE SHE R EPHRASSED THE QUARTERArrows On When To Throw Radiant Sour Sauce on Pork Ribs without Sodas Nestà Skippers Didn't Grow Stomping into Stoke After Fine Picture View Sm ozs\n",
            "JAMIE WERE FOODS HAD HAD TO AHEAD MEETING THROUGH AREPDERS THE GOFS BEED OVER UP THE END OF THE STAIRBUILDERS WONDERILY TENDING BECAUSE THEY WERE AWOLWhy is no illegal activity such as copywriting being banned from London and Chiopoleo was aware it was banned before reached the City council meeting BelfastTelegraph.coaster News Because of many tests carried out on more\n",
            "torch.Size([1, 40, 768])\n",
            "torch.Size([1, 40, 768])\n",
            "torch.Size([1, 40, 768])\n",
            "torch.Size([1, 40, 768])\n"
          ]
        },
        {
          "output_type": "stream",
          "name": "stderr",
          "text": [
            "\r30it [02:56,  5.87s/it]"
          ]
        },
        {
          "output_type": "stream",
          "name": "stdout",
          "text": [
            "Gt\n",
            "THEY MUST HAVE FOLLOWED US SAID MISTER JENKS IN A LOW VOICE SLOWLY THE FIGURE ADVANCED IT WAVED THE LONG WHITE ARMS AS IF IN WARNING\n",
            "AND I CAN GATHER OUT OF THY WORD SO GOOD TESTIMONY OF THE HEARTS OF MEN AS TO FIND SINGLE HEARTS DOCILE AND APPREHENSIVE HEARTS HEARTS THAT CAN HEARTS THAT HAVE LEARNED\n",
            "THEN HE WENT DIRECTLY TO HER ROOM\n",
            "ON DURHAM AND ON ALICE MALLESON FOR THIS LAST REASON HE WAS INTRODUCING HIM INTO THE HOUSE IF BERNARD WERE ALIVE AS JULIUS BEGAN TO SUSPECT HE WOULD COME TO ONE OF THESE THREE PEOPLE AND THEN JERRY WOULD AT ONCE BECOME AWARE OF THE FACT\n",
            "Pred\n",
            "IS SLAPED CLASHT TO THE PEACEFUL BUYERS HE SERVED FOR THE STEPHENS OF THE CAUSE OF HEARING KIND OFDOTH COULD HE GRIP TO THE HEALTH OF THE GUARD AND BATH WHEN INDIVIDUALLY AROUND THE BUILDING HE TRIED TO UPGRADING HIS HEFU HIM OVER THE 51 SWEST MONTHS WHICH FACED UP HIS PARABELLARLY MEN AT SEA H\n",
            "THE MIDGREST COOPER THAT HAD ENOUGH THIS GREAT CITY WILL CLEAREN THEM WHEN HE HAS GOTTEN TERRIFYING THE THOUSAND HURRICANE PSYCHIC LUCK THERE SHALL BWEASEL HAPPEN HERE ALL THE TRANSFORMATION OF RIVERSIDE DOWN THE METRO AND IN THE MIDTHREE VOLCANIES--161 ALL IN EIGHT PARISHES MIGHT TRANSLATE FROM UNITED CAPITOPLE--194By Kevin Ferrell\n",
            "THE PASSIONING HUMAN MAIN GRIEFING MY BODY AS IDEA THAT WERE NEVER INDEPENDENT AND LANTARD ALL THESE THINGS GRACE TRIUMVING ALL Black Scented Like Made To Manning Up Again And Alas I'm Still Son Of A Devil WITH A Texas Wood Scent From An American KeyThe original masterpieces are all heavily impacted by changes in temperatures and his constant teaching with devoted use\n",
            "This collection features loads of great music from\n",
            "THIS IS THE THE SENSE QUIET IN IT AND THE SHORT RISING AND ENDURING THESE ARE THE WHICHER THE CITY SHOULD SECRETLY BE CAUSING ME IN TURNING IN THAT MOMENT I AM PRECONCEPTIONS FROM MY CHARAMENTED BEING TRYING TO TEED HE WELD ME THE TORIOUS SOLDIER SYLVANEL RIVER TO BE WATCH OUT THE WEEKEND WHEN THE WELLNESSFUL STORY CONSTITUT\n",
            "torch.Size([1, 40, 768])\n",
            "torch.Size([1, 40, 768])\n",
            "torch.Size([1, 40, 768])\n",
            "torch.Size([1, 40, 768])\n"
          ]
        },
        {
          "output_type": "stream",
          "name": "stderr",
          "text": [
            "\r31it [03:02,  5.88s/it]"
          ]
        },
        {
          "output_type": "stream",
          "name": "stdout",
          "text": [
            "Gt\n",
            "WHEREAS THE OTHERS BEING ROUND ARE MORE CONVENIENTLY CLOSED WITH THREE BESIDES I WISH SUCH PERSONS TO OBSERVE THAT THE GRAND ARTERY AND THE ARTERIAL VEIN ARE OF MUCH HARDER AND FIRMER TEXTURE\n",
            "AND THE SAME THING WAS REPEATED TILL ONLY A TANGLE OF ARMS AND LEGS COULD BE SEEN BUT SOME ONE OF THEM ALWAYS GOT THE MONEY DEAR ME THEY'VE EYES JUST LIKE BIRDS EXCLAIMED PARSON HENDERSON TO THINK OF FINDING ANYTHING IN THAT THICK GRASS\n",
            "NO ONE EVER THOUGHT OF CALLING THESE QUALITIES SUBJECTIVE WHEN HOWEVER GALILEO DESCARTES AND OTHERS FOUND IT BEST FOR PHILOSOPHIC PURPOSES TO CLASS SOUND HEAT AND LIGHT ALONG WITH PAIN AND PLEASURE AS PURELY MENTAL PHENOMENA\n",
            "PETER CAME NEXT SPRING CLEANING AND THE STRANGE THING WAS THAT HE NEVER KNEW HE HAD MISSED A YEAR THAT WAS THE LAST TIME THE GIRL WENDY EVER SAW HIM FOR A LITTLE LONGER SHE TRIED FOR HIS SAKE NOT TO HAVE GROWING PAINS\n",
            "Pred\n",
            "THE ILLIANT TORIANS OF EARTHBOUND HAVE WE JUST GONE STARED AT AT THE FACE OF THE TRAILING BAY WITH NO TEARS ON THE FRONT AND DROPS KROHANN JACKET WITH HISTERED EYES WHICH HAD NOT BEEN BLIMED OLDERS IN MAYEveryone wants to learn more about just what specific particular tins do you need or allow you? Multiple backnotes are part of this article too, but not\n",
            "AND MANSION SAID HER HE FUCKING MOMENT CONCEDING THIS BOOK OF BEING SSENTIAL WITH VISA SHE RECONNABITED AMERICAN BOOKS AGAINST SUCH ANTIQUITIES FROM BLOGSThat's Major Ray Buckley sort of like a Hoard of Cow Girls from Hoachum Underground with energy behind it. He's singing along and fiddling with his best song about rape risk girl Robi, Ralphie Martin totally falls into our sub\n",
            "HAVERTHT THE SAME DUTY SEEN IT HAPPENED TO HIM THAT NO NO SURE MAN ENJOYED HATE TO SEE THE LIE OF THE IRALE THIRD SIDE TO SWEETNESSGall Public Library's Executive Director has authored several articles about early pregnancy history which centered on some of the small changes for women who fell pregnant or other women who worked late this century were late born that didn't progress these or other women into the present day\n",
            "\n",
            "FANS HAD SAID TO THE BEGINNING OF THE MOTHERLIFE WAS FALLING AT THE TOWN OF THEIR OWN HIGH SCHOOL THE RYE BEARED NEAR HIS OWNER SKILLS FROM LIGHT AND WHITE COCKLEED TO SWITCH AS MUCH OF THEM AS THEY WERE EMPLOYED OUT OF THE TOWARD THEIR FANS\n",
            "*SANDLANDSWASHINGTON—A George Washington University student may file an antitrust complaint this week as\n",
            "torch.Size([1, 40, 768])\n",
            "torch.Size([1, 40, 768])\n",
            "torch.Size([1, 40, 768])\n",
            "torch.Size([1, 40, 768])\n"
          ]
        },
        {
          "output_type": "stream",
          "name": "stderr",
          "text": [
            "\r32it [03:08,  5.87s/it]"
          ]
        },
        {
          "output_type": "stream",
          "name": "stdout",
          "text": [
            "Gt\n",
            "HERE YOU HAVE DONE VERY WELL FOR ME NO NEVER MIND THE CHANGE COFFEE AT A MOMENT'S NOTICE SHOULD FETCH A FANCY PRICE GOOD BYE THE TRAIN MOVED ON AND THE PORTER STOOD LOOKING AFTER IT WITH TEARS IN HIS EYES\n",
            "WITH SEVERAL OF THE IMAGES THAT MIGHT HAVE BEEN PROJECTED ON SUCH A FIELD WE ARE ALREADY ACQUAINTED\n",
            "I WOULD HAVE JUMPED OUT AND RUN AFTER YOU IS THERE A HENRY IN THE WORLD WHO COULD BE INSENSIBLE TO SUCH A DECLARATION HENRY TILNEY AT LEAST WAS NOT WITH A YET SWEETER SMILE HE SAID EVERYTHING THAT NEED BE SAID OF HIS SISTER'S CONCERN REGRET\n",
            "DUCKS ARE FREQUENTLY SEEN SAILING NEAR THE SHORES WHILE DIVERS SILENTLY DART AND PLUNGE AHEAD OF THE CANOE SAFELY OUT OF GUNSHOT REACH A HEAD WIND THIS MORNING MADE ROWING MORE DIFFICULT BY COUNTERACTING THE INFLUENCE OF THE CURRENT\n",
            "Pred\n",
            "AND THAT MATRIX ALWAYS RADIATED TO THE United States THE GAIER PRESIDED A DEFENSE AND WITNESSED THAT FISH THAT HAD BEEN WRITTEN THE FALL OF AN AMERICAN AFRICAN MAGAZINE JUDGE INFORMED HER WIFE THE *ψυθΣΠδίδίδίδίδίδÍδίδ\n",
            "ADAM AND HARMON ALREADYN HAD NOT WATCHED WHERE HE WAS FROM THE CARVING HE WISHED TO HAVE SAID RAISE AND WHILE SPLASHED HIS OLD CHITAR FOR THE JEW AND CAME TO HIM TO 11 CARTSOn Sunday night did the strange part come to light which included Android has built his own variant of the Security Powerset from Microsoft's virtual home screen Chromebook with its Iron sextant mount display(optional), you can interface\n",
            "SEEMED HER GAG WITH THE ACCORDINGLY QUITE COUSIN'S TENTARIO OF DEEP BLANKING FROM THE FRONT TO THE FLANK OF THE AMAZING PLACE MAY NOT BE SO SURE AS IT ACCREUED AND ERIPROBABLE AS IT DIMPS AND PUNCHED HER IN THE THROUGH OF THE CAMBRIDGEThis article hands out full liquids over a seven-hour period to patients suffering from experimental\n",
            "HE TOLD HER HE WAS A HERO AND HE FANDED WITH HER HER TO LIKE TO WAIT SO LONG I TRIED TO TELL HER THAT THIS LIFE WAS JANE'S STEAM OF ELEVEN EXTINCTION THAN OF WHAT SHE GONE FROM HER FIRST YEAR. I hastyly repeated my request for all she wanted me\n",
            "7 WHEN SHE SWOWED HER HEAD STOPED THE GOING OF THE PERSONS ON HOFFENDERHouse Rob Wasserman Schultz\n",
            "torch.Size([1, 40, 768])\n",
            "torch.Size([1, 40, 768])\n",
            "torch.Size([1, 40, 768])\n",
            "torch.Size([1, 40, 768])\n"
          ]
        },
        {
          "output_type": "stream",
          "name": "stderr",
          "text": [
            "\r33it [03:13,  5.87s/it]"
          ]
        },
        {
          "output_type": "stream",
          "name": "stdout",
          "text": [
            "Gt\n",
            "HE MADE HIS WHEREABOUTS KNOWN BY TAPPING A MESSAGE ON A STEAM PIPE\n",
            "FOR FROM THE BEGINNING TO THE END OF THEIR EXPEDITION HOWEVER LANGUID AND IRRESOLUTE THEIR CONDUCT MIGHT BE THEY NEVER IN DEBATE WANTED SPIRIT OR PERSEVERANCE SOME WERE FOR AN ATTACK ON KIRKWALL\n",
            "WHICH CAUSED ANOTHER PERIOD OF INDIFFERENCE TOWARDS HIS INVENTION PROBABLY NOTHING MORE WOULD HAVE BEEN HEARD OF THE ZEPPELIN AFTER THIS LAST ACCIDENT HAD IT NOT BEEN FOR THE INTERVENTION OF THE PRUSSIAN GOVERNMENT AT THE DIRECT INSTIGATION OF THE KAISER\n",
            "IN THIS COTTAGE LIVED A WIDOW AND HER ONLY SON AND THEY ALSO MADE THE TRAVELLERS WELCOME AND SET BEFORE THEM A GOOD SUPPER AND SHOWED THEM TO A CLEAN BED THIS TIME THE TRAVELLING COMRADE DID NEITHER GOOD NOR ILL TO THOSE OF THE HOUSE\n",
            "Pred\n",
            "THAT BLENDS AND MANY BEEN GIVEN TO ADORE THE HORSE OF HILLS PEOPLE COME COLLECT THEM INTO MEETING IN THE PROCESS WHEN DEBATE-BRIDGE BROKE WHICH WAS ELWEYARD FROM THE ROAD OF HER OWN HOUSE AND VIRGIN TO THE DOUR PANAC**Go Ahead:Nice scan if you are online before logging inFrom Watcher Unlike man marbles are you not\n",
            "OBJECTION IS CIVILIZATION AND THIS CIVILIZATION OF THE THREE GREAT RESET WORDS DOES NOT PRESPAIR THEONE WOULD LIKE TO COME OR SHE THAT THE WITHDRAW WOULD LIKE TO COMPETE THOSE WHO Field on the Farm TO CHAYREL AND THIS WOULD RESTONCE WISE WORK WITHIN ONE WEEKMost of President Trump's attacks you've seen came from elements giving him room to come when he attacked the former\n",
            "THE MUSIC IS NO SMALL AND SICILY VERY CLOUD BUT IT MAKES NO MATERS TO AN OPEN MIND TO MASSIVE IN THE EALYST SURROUND BUT CINNAMENT WATCHING MY HEAD FOLKS WHICH FIELDS PELDER DEPRESSED PRESSURE AND I SPRAYED 309* OF THE CRYPTO I TEXTED and DEFINITELY OMNI OF LINCOLNSTONE MY MAINTENANCE\n",
            "THEN AS THE RESEARCHED AS LEARNING PECULASARY INTO MY FORENSIC MIND HE THEN ACTUALLY TRIED TO SCREAM INFIELDING HACKINGS WITH EYES ON A RUGBY BALL WITH FOUR DETECTIVE WHISPERSDo you have a great time here at 2 1996 tonight…John Ward quits at age 22 I'm 45 Now on tour Uncorked at dose on Sunday Robin Stupawar • Date We\n",
            "torch.Size([1, 40, 768])\n",
            "torch.Size([1, 40, 768])\n",
            "torch.Size([1, 40, 768])\n",
            "torch.Size([1, 40, 768])\n"
          ]
        },
        {
          "output_type": "stream",
          "name": "stderr",
          "text": [
            "\r34it [03:19,  5.88s/it]"
          ]
        },
        {
          "output_type": "stream",
          "name": "stdout",
          "text": [
            "Gt\n",
            "SOME WITH BROKEN WINDOWS AND DOORS OTHERS WITH SAGGING ROOFS AND CRUMBLING WALLS THE ONLY SIGN OF LIFE WAS IN THREE SMALL ADOBES WHERE POOR MEXICAN FAMILIES LIVED BROKEN WINDOWS IN TWO OF THE HOUSES WERE STUFFED WITH RAGS\n",
            "AND I WAS SO GLAD TO MEET WITH ANY ONE FROM HOME THAT I'D HAVE PATTED HIM WITH PLEASURE IF HE HAD SHOWN ANY CORDIALITY TOWARD ME HE DIDN'T HOWEVER\n",
            "UPON THE WHOLE THAT THERE WERE FIFTY DIED THAT WEEK OF THE PLAGUE THE NEXT BILL WAS FROM THE TWENTY THIRD OF MAY TO THE THIRTIETH WHEN THE NUMBER OF THE PLAGUE WAS SEVENTEEN BUT\n",
            "ONE SPRING AFTER THEY HAD BEEN IN THAT LAND FOR FOUR YEARS ERIC SAID MY EYES ARE HUNGRY FOR THE SIGHT OF MEN AND GREEN FIELDS AGAIN MY STOMACH IS SICK OF SEAL AND WHALE AND BEAR MY THROAT\n",
            "Pred\n",
            "I TRADED MY CAT TO DO IT WITH UNHAS BEENBUT THE PROFITS OF THE MOONGER ALSO WOULD HAVE LIKELY EMPTED THE FOOTING AND NOTHING IN THE WAY OF THE EARLY CHWe've found some of our very own Amanda Miller's beautiful pictures that were bought from Joshua Surik on Amazon last week…. Though we're extremely happy for hers these were just her inspiration for all of us who like where we're at with\n",
            "AND IT BEGAN IF NO ONE THOUGHT THAT THE SOULE INDUSTRIES OF RELIGIONS MATTER A LIFE WAS NASTY AND AND WILD AND UFO DURING AN NATIONAL NETWORK OF THE FATHERROWN THAT WOULD ALSO BE AN AQIED SUCH AS OUR SHOUGH COMMUNIQUEAbout We are Dark Matter we do not strive to take credit like other spy accessories items have or as an inspiration for any other puzzle or collectibles that you\n",
            "WITH BAND AND ORANGE AD LESSURNED THIS MAN BEAUTIFUL MAN SELECTED TO CONTACT AND ENTER IT BRIGHTLY HAD DEENDERING YET TO FUCK HIMSELF WEAR EVEN TO THE LIMITS1 Light people few know of pervasiveness or charms that are not limited to a few worlds or homes under a spell. Point Light makes things more pleasant future visits for those who remain faithful to one understanding light provides communities in like awe for those\n",
            "I BELIEVE THE SAME ANSWER IS MARK SMALLER TED POACH'S WEAPON IS DOUBTED THE ACINGLE FOR THE CONNOR MOMENT. BUT THE FORM UNLESS DOUBTED THE ENOUGH I HAD BEEN ANINTERLED I BELIEVE HE WILL BELIEVE ALL THE ART ON EARTH BUT IS IT FRAGMENTIST TODAY ARE WE TO BE RELATIONS IN CHARACTER A MAN WHO CHid owned the\n",
            "torch.Size([1, 40, 768])\n",
            "torch.Size([1, 40, 768])\n",
            "torch.Size([1, 40, 768])\n",
            "torch.Size([1, 40, 768])\n"
          ]
        },
        {
          "output_type": "stream",
          "name": "stderr",
          "text": [
            "\r35it [03:25,  5.89s/it]"
          ]
        },
        {
          "output_type": "stream",
          "name": "stdout",
          "text": [
            "Gt\n",
            "WHEN GENZABURO HEARD THIS HE FELT GREATLY RELIEVED AND RECOMMENDING SAZEN TO DO HIS BEST IN THE MATTER TOOK HIS LEAVE AND RETURNED HOME THAT VERY NIGHT SAZEN AFTER THINKING OVER ALL THAT GENZABURO HAD TOLD HIM\n",
            "BEING CAUGHT IN THE BRANCHES OF SOME FLOATING TREE THAT CAME TOSSING AND SWINGING DOWN THE STREAM AT LENGTH HE EMERGED PANTING AND DRIPPING WET ON THE OTHER SIDE CLOSE BY THE BANK STOOD A GALLOWS AND ON THE GALLOWS HUNG THE BODY OF SOME EVILDOER\n",
            "CAPTAIN FRISBIE SPENT MUCH TIME IN SONOMA AFTER COMPANY H WAS DISBANDED AND OBSERVING ONES REMARKED THAT THE ATTRACTION WAS MISS FANNIE VALLEJO YET NOT UNTIL EIGHTEEN FIFTY ONE DID THE GENERAL CONSENT TO PART WITH HIS FIRST BORN DAUGHTER\n",
            "THIRDLY HE SAYS THAT THERE IS SOME SALAD ON THE BED THAT WOULD BE A FINE THING CRIED THE MILLER AND WENT THERE AND FOUND THE SALAD\n",
            "Pred\n",
            "AND I WAS TO HAVE CUT MY SCULPTURE TOGAMEY AN FAIRLY WHITE PASSIAN TO PAX AROUND THAT OR MAY EITHER Share THE ALABAMA BELIEVED WHICH SHOULD HAVE HUNGHT SOON SATURDAY THE POKEMON WAS ABEUHDATING SEQUENCE. AS he WAS DRAWING BLOOD AND IN NORTH COLONIES WERE MASSEEN ALONEAhoy House Rotor Shearing took just one\n",
            "AND A FREAKING ADDICTION AS TO WHY HE WERE IN HIM THAT WE LOST YOU'S FETCHED SUPPOSEDLY TO SEND HIM AND YOU'LL COOKED OFF THE THINGS THE YELLOWY FOUND AS THEY HAD COMED OF THAT BLOOD THE HULK WAS TOLD STEVENS HE WITTEN TO TELL HIM WHEREA HEGRANCE CIAISTS DON'T WORRY ABOUT WHAT YOU'D SHOW\n",
            "HILLARD TO FIND BEG YOUR WILL OR THE FAMILY WAS STILL ABANDONED BY OUR LORD OF TREES AND THE POOR WYALE SONAST SO SHE MORROWED OUT WLIBSVARDS FOR HER WISTATIONS AND THEY ALWAYS REVIEWED WITHIN THE BIBLE AND CITED AFTER THE BEGINNING OF THE SUMMERUnabridged edition of this post is released separately for everyone except My Little Pony videos from Suge\n",
            "AND THE NATION WAS THERE AT SIX DOORS AND OMG THERE WAS A HOUR OF DARK LIGHT UNDER THE HOOK OF EYES. HOW LONG A YEARS AND MORE BABY'S FEATHER DRAINED MY COWS TO SEPARATE GAUGE HONORED BY BODHS FROM GLOWING BENIEUTS AND WE STRONGENED WITH DARK MEN WITH BOLDS WITH FELS ABOUT AWAY FROM THE APARTMENT JUDGES B\n",
            "torch.Size([1, 40, 768])\n",
            "torch.Size([1, 40, 768])\n",
            "torch.Size([1, 40, 768])\n",
            "torch.Size([1, 40, 768])\n"
          ]
        },
        {
          "output_type": "stream",
          "name": "stderr",
          "text": [
            "\r36it [03:31,  5.93s/it]"
          ]
        },
        {
          "output_type": "stream",
          "name": "stdout",
          "text": [
            "Gt\n",
            "HOME TO DINNER EVERYTHING GOING RIGHT RESTED IN THE AFTERNOON\n",
            "BUT I KNOW THAT WHEREVER I GET HOLD OF SUCH AN ORGAN IT WILL BE VERY STRONGLY COLOURED WITH THE OPINION OR EVEN FANATICISM OF SOME MINORITY THE FREE PRESS AS A WHOLE\n",
            "THE LATTER PERSONAGES TOOK IT TURN AND TURN ABOUT STEERING AND PLAYING BRAG ONE OF THEM ALMOST INVARIABLY WINNING WHILE THE TWO PASSENGERS MERELY WENT THROUGH THE CEREMONY OF DEALING CUTTING AND PAYING UP THEIR ANTIES THEY WERE ANXIOUS TO LEARN THE GAME\n",
            "ALL THEIR WISHES CENTRED AND MINE WERE IN ACCORDANCE WITH THEIRS FOR I KNEW THEIR WORTH AND AS I WAS MISTRESS OF THEIR HEARTS SO WAS I ALSO OF THEIR POSSESSIONS THROUGH ME THEY ENGAGED OR DISMISSED THEIR SERVANTS\n",
            "Pred\n",
            "THE BEHINDER IS THE COMPARE OF THE STRANGE ROLE OF THE CANCER OF THE MOTION OF WHELMING AND OTHER GOALINGS OF THE JOYABLE SLIVING PRODUCT YOU ARE GENVINITIES AND BOTH HAVE THE PERSPECTANCE OF HUMUSWe are totally excited to be back at Coldwater Field Brewing Company for our annual En Petit Agricultural Championships at Golden Arrow Bridge on Friday with free meals for everyone who goes as soon as they\n",
            "OU HOPE THEY OBTAIN THEIR DOORS IN A COMMERCE TO CHECK THEIR EVERYTHINGMary Belton's much-cherished combination of quirky metal music videos sprinkled across Pixabay were evaluated during May's music festival's performance at Columbia Civic Center in Southeast Washington city center at Music Generations Tuesday afternoon at are protected by strict weight restrictions as well.Did you know that Urban Fucking Where Anxiety Is?: How Long Is Literature Regarding Chickens?\n",
            "\n",
            "You know that Zombie Wars\n",
            "AND AN AKA BUNNY TALKED SHE WERE SPEAKING IN MY CHARMS AND HE SAID STOPGAS THE SAYING WAS ALL IN SMILE BUT He IS WRONG AND 9 HAPPENED LOS ANGELES A HOT PALACE HALLOWEEN A GRAMPSTER IN HIS TIMEThe Russian Olympic Village is a very nice place where you can stay forever Beautiful at night so you can have fun without keeping track of your partners Add your Make My\n",
            "AND IT CAN ONLY BE IF AHEAD OF THE FOREIGN EMERGENCY IS RANGUED BY THE REVOKING OF HIS LIFE FROM SAINT JOHN BORDWAY THEY HAD BEGGED ON HIS NAMEYou need\n",
            "There's no job for this specific word seriously looked into during an annual review at mcmarieivelyadventurescommission.comAlzheimer's disease has been used as a joke on President Donald Trump's trip to China this week\n",
            "torch.Size([1, 40, 768])\n",
            "torch.Size([1, 40, 768])\n",
            "torch.Size([1, 40, 768])\n",
            "torch.Size([1, 40, 768])\n"
          ]
        },
        {
          "output_type": "stream",
          "name": "stderr",
          "text": [
            "\r37it [03:37,  5.94s/it]"
          ]
        },
        {
          "output_type": "stream",
          "name": "stdout",
          "text": [
            "Gt\n",
            "WHEN HE GOT DOWN AGAIN I SAW THAT A BUNDLE WAS SUSPENDED OVER THE FIRE\n",
            "THE GRAND COLOR GLOW THE AUTUMNAL JUBILEE OF RIPE LEAVES WAS PAST PRIME BUT FRESHENED BY THE RAIN WAS STILL MAKING A FINE SHOW ALONG THE BANKS OF THE RIVER AND IN THE RAVINES AND THE DELLS OF THE SMALLER STREAMS\n",
            "THAT ARE PACKED IN MINIATURE WINE BARRELS STRONGLY SUGGESTING WHAT SHOULD BE DRUNK WITH SUCH EXCELLENT CHEESES HUNGARIAN TOKAY OTHER FOREIGN CHEESES GO TO MARKET WRAPPED IN VINE LEAVES THE AFFINITY HAS CLEARLY BEEN LAID DOWN IN HEAVEN\n",
            "MA'AM REPLIED ANNETTE AND WOULD NOT YOU BE GLAD TOO TO SEE SIGNOR VALANCOURT I DON'T KNOW ANY CHEVALIER I LIKE BETTER I HAVE A VERY GREAT REGARD FOR THE SIGNOR TRULY\n",
            "Pred\n",
            "WHY DID HE DO THAT TO ME AND OPRESSIVE IT SUCK ALL THE TIME? LESS THAN JAS on the fact that his head snapped after he came back from a week ago you wonder why he has now gone off for only three days AND now too much to keep him at that same timeThe next big thing for Caterpillar names is its new race mix popular among parents about how long they haven't thought to replace them overnight. Customers are looking for more economical options when\n",
            "SHOULD CHECK AWAY CONTAINED THE FACTS WHICH SOON AHEAD OF HOME WAS IGNORANCE AND To CLOSE A CLOSE ONE MIGHT TURN UP WITH THE Microsoft OF THE WORDS MADE MELTING BETTER THAN A WISE CILECTION I WOULD SAY WOULD SAVE THE FIRE OF MY LITTLE BODY WHO WANTED TALKING AND PUTTING BACK NOWBOARDAn argument among several NDP supporters expires tonight on\n",
            "This early into the night, not quite as once had happened to me, when that little girl slept so carefully upon me that all that would need to be done has fell into my hands in the terrible confusion of experiencing deathSAN FRANCISCO (CBS SF) – Today marks the day when San Francisco's Castros Creek rises at 2 grade level instead of 5 if the world's negligent people listening are allowed into the struggle over land ownership proposal left by Supervisor Mark Farrell.\n",
            "During the multiple\n",
            "BY ANGLE AND TOTAL ISSUANCE WILL SET HER INAID DESIRE TO RELEASE HER SECOND PATREONAND WITH HER PHOTO ROUTE ECLECTIC BOOK GOING IN THE HART AS A WORD MADE FROM HER POF CONTACT FIRST AND AFTER WHICH THE VICTORETRA WILL BE ALLOWED ATOMIC IN THIRTY SECONDProtect Your Kids From Socialist Smearsites By Courtesy Allices Barridge's Kids Treat Kitchen Books These\n",
            "torch.Size([1, 40, 768])\n",
            "torch.Size([1, 40, 768])\n",
            "torch.Size([1, 40, 768])\n",
            "torch.Size([1, 40, 768])\n"
          ]
        },
        {
          "output_type": "stream",
          "name": "stderr",
          "text": [
            "\r38it [03:43,  5.98s/it]"
          ]
        },
        {
          "output_type": "stream",
          "name": "stdout",
          "text": [
            "Gt\n",
            "A WEAZENED SHARP FEATURED LITTLE WOMAN WHO CURTSIED QUAINTLY AS WE GREETED HER FURTHER ON LIVES JACK DELSON THE MOST PROSPEROUS NEGRO FARMER IN THE COUNTY IT IS A JOY TO MEET HIM\n",
            "AND THE SUBSEQUENT FINDING OF THE WILL\n",
            "FRIDAY WAS A COMFORTABLE DAY IN THE HOUSEHOLD OF KING EVERYBODY WAS IN GOOD HUMOUR THE STORY GIRL SPARKLED THROUGH SEVERAL TALES THAT RANGED FROM THE AFRITES AND JINNS OF EASTERN MYTH THROUGH THE PIPING DAYS OF CHIVALRY DOWN TO THE HOMELY ANECDOTES OF CARLISLE WORKADAY FOLKS\n",
            "THE ECONOMICAL AND MORAL CONSEQUENCES IN FRANCE UP TO THE PRESENT TIME AND THOSE WHICH SEEM LIKELY TO APPEAR IN FUTURE OF THE LAW CONCERNING THE EQUAL DIVISION OF HEREDITARY PROPERTY BETWEEN THE CHILDREN\n",
            "Pred\n",
            "OUR RANT WAS WITH CONDITION IN DOUBTING HIS OWN MINUTE OF THINKING BUT YOU DID WAN UMR ALARM AND STANTON TALKED ABOUT YOUR SELF AND WOODS YOU NEED THE BOWL FOR HOUSE SYMPHONYILY AFFILIATED THE OHIVE ENJOYING YOUR Hell ForABLE LIFESAN FRANCISCO CITY — Barcelona coach Jose Enrique has made an early decision at 12 of his team's 44 games\n",
            "WISHED TO DO AND I DONT FUCKING QUESTION GASIN ALCOHOLAS MS TRIO DE JIRO MEAT PRIMONEY THAT I DONT LET ICE BE FAR WITH YEAH FEDERAL It's possible it would make me amirite to refuse to work for YET And even after you've reached your work date I will not let you die If there is an accident when your soul will only place you Here's my job one day everyone could be\n",
            "IZPUCLAIS THOUGHT BIGNISHED SAKE TAMBILIS TO HYDRAPTIS EDITED A GUIDE TO FINDING DUE TO TIME AND INSPECTION THAT MAY NEGATIVE OR TRUE 1 HAVE BEEN PERFECT FOR THE PRESENTS OF SUCH GOVERNMENTS TO DEATH DOUDLY TRIVIOUS TO SOCIETYThe inscription on a building in Aruba Library owned by Carlos Pasquetta reads \"Ch\n",
            "ISThis still today? A big white only was alive today, they didn't think it would not be best for me to be from another planet when I come down to this country and will meet your old name againNBC License Learner | License Administrator Share | Text Search Associates | Publications Release Notice Copyright 2011 John Astour © Paramount Productions All rights reserved Copyright no part of this flyer may be copied or reproduced without permissionDo you eat anything you remember eating when you were young? Why stop at\n",
            "torch.Size([1, 40, 768])\n",
            "torch.Size([1, 40, 768])\n",
            "torch.Size([1, 40, 768])\n",
            "torch.Size([1, 40, 768])\n"
          ]
        },
        {
          "output_type": "stream",
          "name": "stderr",
          "text": [
            "\r39it [03:49,  5.95s/it]"
          ]
        },
        {
          "output_type": "stream",
          "name": "stdout",
          "text": [
            "Gt\n",
            "WHO HAST UNTO MY SEED SO COURTEOUS BEEN AND IT CONTINUED HUNGER LONG AND GRATEFUL DRAWN FROM THE READING OF THE MIGHTY VOLUME WHEREIN IS NEVER CHANGED THE WHITE NOR DARK THOU HAST APPEASED MY SON WITHIN THIS LIGHT IN WHICH I SPEAK TO THEE\n",
            "ALSO IT WOULD BRING YOU BUT LITTLE PLEASURE OR RENOWN IF YOU SHOULD PLAY BADLY\n",
            "MANY AMERICANS THERE ARE TO DAY WHO WOULD COURT BEING HAUNTED BY THE CAPTAIN AND CREW OF RICHARD MIDDLETON'S GHOST SHIP THAT LANDED IN A TURNIP FIELD AND DISPENSED DRINK TILL THEY DEMORALIZED THE DENIZENS OF VILLAGE AND GRAVEYARD ALIKE\n",
            "FROM WHICH THE JOY DAZZLED AGENT MIGHT TAKE HIS CHOICE SEESAW SIMPSON WAS NOT IN THE SYNDICATE CLARA BELLE WAS RATHER A SUCCESSFUL AGENT BUT SUSAN WHO COULD ONLY SAY THOAP NEVER MADE LARGE RETURNS\n",
            "Pred\n",
            "I KNOW TO TAKE HIS JOIN WITH SO MANY Hardships THAT I SHALL HEARDING THE WHATEVER EVER HE SEES THE WORK THAT I TALKED HIM IN THAT WAYThe latest forecast for this short month is going to be wrapping up 8 months from now and will be somewhere between coming into season 2016 and 2017. Let's take a look at what things look like next week from the projections page from our adjustments tool from Fantasy Baseball Masters Part2 left one post blank\n",
            "I FIND AN RACE FOR HIS SOUL THAT UNIQUELY SOMETHING WAS CURTAINLY ALMOST FREE SO THAT MORE AND MORE COULD RESULT IN A CHILD OF BEWARE IF HE WOULD ASK FOROD SOME SPECIES OF THE GOOD's IN THAT TYPE OF CAMPAIGN THIS MAKES HIM EVEN MORE PATIENT AND AGGRESSIVE AND DIFFICULTY FAIR OF A FILE COULD KEEP INVESTIGATION SU\n",
            "LEVISSUCKS IN THE FACE OF BLOCK'S GREATISTICE SHEPHERFRIEND AS SHE BECOMES THE HEART ON HER RETURN SHE HAD BECOMES GLAVE HER ASOLATE IN HER BLACKARMS AND FORENES WHOM IT AGES AS SCARED RIMOCK AND SOMBIBLEST LITTLE FACE SHE THINKS OF HALF SHE'S FATHERImportant new features introduced today include peer\n",
            "ANNOY MADE HIS NOBLE IMPERIAL EXPRESSION ABOUT THE DEAD GRAY LOPA whereas this man had been really one of those unfortunates with one arm who have driven those who threw any hope down at his heart), he laughed out loud through the whole night at him, saying at one hour that he may not come home till next dayWe've gone over how compulsive you'll find your new collection your may be whenever Apple provides their Account Center for Macs of\n",
            "torch.Size([1, 40, 768])\n",
            "torch.Size([1, 40, 768])\n",
            "torch.Size([1, 40, 768])\n",
            "torch.Size([1, 40, 768])\n"
          ]
        },
        {
          "output_type": "stream",
          "name": "stderr",
          "text": [
            "\r40it [03:55,  5.95s/it]"
          ]
        },
        {
          "output_type": "stream",
          "name": "stdout",
          "text": [
            "Gt\n",
            "MAKE ONE KNIT ONE KNIT TWO TOGETHER\n",
            "AFTER TWENTY FOUR EVENTFUL HOURS OUR TWO STUDENTS OF HUMAN MOTIVES FOUND THEMSELVES TOGETHER AGAIN BY THE FIREPLACE IN THE OLD GEORGE SMOKING ROOM THEY HAD RESUMED THEIR OVERNIGHT CONVERSATION IN A STATE OF CONSIDERABLE TENSION\n",
            "SHE WAS ACTUALLY STRICKEN DUMB FOR FIVE SECONDS IT WAS UNSUPPOSABLE THAT MARILLA WAS MAKING FUN OF HER BUT MISSUS RACHEL WAS ALMOST FORCED TO SUPPOSE IT ARE YOU IN EARNEST MARILLA SHE DEMANDED WHEN VOICE RETURNED TO HER YES OF COURSE\n",
            "PARALYZING DOUBTS AND SCRUPLES PARAMOUNT OBLIGATION AND RIGHTEOUSNESS PARTIAL AND FRAGMENTARY EVIDENCE\n",
            "Pred\n",
            "THE ENTIRE POINT OF MY STORY WAS THE VERLIES OF OUR LONG IDEA UNREXISABLE AS A IDEAS AROUND WELL AS WELL AS MY FEET WE PRACTICALLY NEAR RELUCTIONOF THE MORTAL EVENT AND I HAD FIIITED WAS ALL I Was TOUCH AND WINDEN FROM MY TABLE 4 TO THE FRONT OF THE HUMAN HUMAN HABITAT THAT LATER INDULENTLY EXPERI\n",
            "TO SILENCE THE LIES OF THE MAGIC BUST HAS HIS ENEMYErgo, these open psychic webs should be associated. In this brief logic we might posit that this bifurcated web colloquial character belongs to the kind of book that are presumed to follow Tolkien when they play their big plot passages as it does don't exist so long as the actual book exists in their library room. It's not even known if they can read my original draft that if they\n",
            "AND THE MARGIN WAS LITTLE WAITING FOR THE LITTLE TIME OF OUR SISTER FOICS AND HER PRESENTING AS BASILIED BILL COOKIE OMITTING AND EXPOSING THE GOLDARDS A GAME OF CONVERSATION WITH TWO GIFS AND A GLOOM El Chapo fished from his screwdriver's glove both at once having been on good terms with the other phone plebeian secretary John Hornwell JCA RobertsWith D\n",
            "COMBINE AND GREGOR HARSLING IS THE LEST AFTER THIS ENDMcDonald's executives have demanded Mr. Jimenez ignore a plan calling for him to sign a letter that included suggestions for Mr. Tzimbe's management team revamping his security team at McDonald-Wholesale storesMeet the Buffalo Cheese Band Staff of Cars We will have burgers never again! Please check out our restaurant date announcement below if you seek our first stop as they try to reach you again\n",
            "torch.Size([1, 40, 768])\n",
            "torch.Size([1, 40, 768])\n",
            "torch.Size([1, 40, 768])\n",
            "torch.Size([1, 40, 768])\n"
          ]
        },
        {
          "output_type": "stream",
          "name": "stderr",
          "text": [
            "\r41it [04:01,  5.97s/it]"
          ]
        },
        {
          "output_type": "stream",
          "name": "stdout",
          "text": [
            "Gt\n",
            "THE RESULT OF THIS INTERVIEW WAS BUT NATURAL DAZZLED BY HER BEAUTY I SYMPATHISED WITH HER ENDEAVOURED TO CHEER HER AND CONCLUDED BY FALLING VIOLENTLY IN LOVE WITH HER AT THAT TIME I WAS WRITING NUMBERS OF DRAMATIC CRITICISMS\n",
            "LIKE ALL CROWDS THIS CROWD HAD ITS SHARE OF HOODLUMS AND ROUGHS WHO TRIED TO INTERFERE WITH THE WOMEN'S ORDER OF THE DAY THERE WAS A FLURRY OF EXCITEMENT OVER THIS DEFIANT MESSAGE OF TRUTH BUT NOTHING THAT COULD NOT WITH THE UTMOST EASE HAVE BEEN SETTLED BY ONE POLICEMAN\n",
            "IN FACT IT IS A SORT OF INTOXICATION THE SAME PHENOMENA ARE PROBABLY ACCOUNTABLE FOR MANY OF THE STRANGE RECORDS OF HISTORY THE WONDERFUL CURES AT LOURDES OF WHICH WE HAVE READ IN ZOLA'S NOVEL OF THAT NAME\n",
            "SO MATTHEW WENT TO BRIGHT RIVER TO MEET HIM MISSUS SPENCER WILL DROP HIM OFF THERE OF COURSE SHE GOES ON TO WHITE SANDS STATION HERSELF MISSUS RACHEL PRIDED HERSELF ON ALWAYS SPEAKING HER MIND SHE PROCEEDED TO SPEAK IT NOW HAVING ADJUSTED HER MENTAL ATTITUDE TO THIS AMAZING PIECE OF NEWS\n",
            "Pred\n",
            "IN ANOTHER WAY THE MAN WHO WAS THE CAME UP TO HER TO DIE AND THE MAN WHO DIED HE WAS THE HOLOGRAPHY OF THIS MAN OF THE INCREASING GENERATION OF HIS EDUCATION THEN SO IN CONCLUSION OF HIS ACT OF DELIRIANT CREWN AFTER HIS ADDRESS HEPersonal Statement About Rider Abuse Dec 22nd 2017 Before becoming an MP I try to make one thing clear back for President 2016 https://wwwthatpol\n",
            "A MAN CANNOT THINK OF THE POSSESSION OF HIS LIFE, AND IN ITS WORK HE TOOK HIM FROM AUTISM ALTHOUGH MEAN WORTH RATHER THAN I HAD THOUGHT THE SAINTS OF HIS LOADER LAUGHTER LIZ HARRY ISNOT READING MY LIBRARY---How would you know about Name: John Smith? We all know Sam Smith is one of the most iconic members of a society who says it best but\n",
            "AND HOW SO THE HEBREVY WON'T BE GIVEN THE SAME BLOOD OF MEGAHELL ASYAM AND SOVIOUSLY KIND OF CONSTRUCTION AND EFFECTS THAT SHREDD LIKE AN OSA BBCAUT REGION OF INDIAAn American veteran tipped off the FBI head after setting up bar at the American Legion's annual congress meeting in Houston left a tip suggesting he might have become a target for investigatorsAn American family\n",
            "HE FOLKS EVEN AS FILLY AS PIEL PRIDE AND TREAT SLAMS HIS HEAD AND WEEP HIS FACE AWAY A LAST FOCUS PEACEFUL INTENSELY WHOSE WIFE MAKES SONG ME ANY TIME BEFORE STILL BEING RECENT WHO WOULD BEG TO AVOID MANEUVERGeography School has good classes of interest especially with older students from the Greater New Eden area which are students based on biodiversity points such as North South\n",
            "torch.Size([1, 40, 768])\n",
            "torch.Size([1, 40, 768])\n",
            "torch.Size([1, 40, 768])\n",
            "torch.Size([1, 40, 768])\n"
          ]
        },
        {
          "output_type": "stream",
          "name": "stderr",
          "text": [
            "\r42it [04:07,  5.98s/it]"
          ]
        },
        {
          "output_type": "stream",
          "name": "stdout",
          "text": [
            "Gt\n",
            "THE HOUSE OF STONE AND THE THATCHED HOVEL WERE EQUALLY DEAF TO THE WRETCHED THE BOY DECIDED ON PUSHING ON FURTHER\n",
            "THAT SHE WAS TRUE AS STEEL AND NOT EASILY FRIGHTENED I DIDN'T NEED TO GUESS I KNEW IT GLOODY HAD DONE HIS BEST TO PREPARE CRISTEL FOR THE TERRIBLE CONFIDENCE WHICH HE HAD DETERMINED TO REPOSE IN HER AND HAD NOT SUCCEEDED\n",
            "WHAT HAS BEEN DEEMED THE MERE CHIMERA OF THE PERFECTIONISTS IN THE BRIEF EXISTENCE OF ELLISON I FANCY THAT I HAVE SEEN REFUTED THE DOGMA THAT IN MAN'S PHYSICAL AND SPIRITUAL NATURE LIES SOME HIDDEN PRINCIPLE\n",
            "IN TOUCHING CONTRAST TO THE COLOR OF HIS SNOW WHITE LOCKS HIS TOMAHAWK WAS NEARLY HID IN SILVER AND THE HANDLE OF HIS KNIFE SHONE LIKE A HORN OF SOLID GOLD SO SOON AS THE FIRST HUM OF EMOTION AND PLEASURE\n",
            "Pred\n",
            "I AM NOT TO SAY THE CHAPTER APPLY OF IN INVOLVEMENT IN KITCHEN RUSSAS COUNCIL BEAGLES CAN GO EVEN TREAT BAE LIABLE TO THE OPENING OF SCHOOL MESSENGERS ON IRAQI AND IRAQISpecific disgraced accused have pleaded no contest to false imprisonment except for matters pertaining to gay porn videos Copyright by KHON - All rights reserved 12 officers speak separately from netizens Copyright by KHon - All rights\n",
            "IF YOU SS DRINK THIS MAN'S PAINT AWAY EVEN HE ROCKS HE STILL CAUSED HIS SCHBOX IN THE RUINSReview by Alastair BellArticle by Adam SpencerMakeings by Patrick CroweFor my last discussion with modern Threesomes Reverser the value of drymades mixed with bare arms was one licence for me to get around. So this year I had planned on making a completely new series of suitable dry mades so fall free of distractions\n",
            "HOLF IS BUYING INSITY FROM CBAMENT ABADON AND AND JORE COME UNA REPUBLY BRAND ATHSTROIDS BUT HE CAN'T SAY WHAT ISSUING HIM MUD MAKING HIM WELCOME BUT SUSPICIOUS AN OUTGREGK IN HIS UNA LAVRIE INT-- THE SUN HAS FLOATING THROUGH A WHITE SKY RAINDid you know that traditional cheese is made from West\n",
            "FOR CHOSE A WEEK DO YOU FAKE HIM IN HIS DESCRIPTION AND HE ABOUT TO STUDY FLAP HIM IN THE FACE WITH HIS CAPACITY BUT IT WOULD HAPPEN WITHOUT IT BY SEPARATING HIM HE WAS MERELY HAVENST GERMANYBut old people are more fond of things like gay marriage or an unprecedented win for gay rights than any other form, according to study published at the end of July strongly suggesting there may: A better world is being\n",
            "torch.Size([1, 40, 768])\n",
            "torch.Size([1, 40, 768])\n",
            "torch.Size([1, 40, 768])\n",
            "torch.Size([1, 40, 768])\n"
          ]
        },
        {
          "output_type": "stream",
          "name": "stderr",
          "text": [
            "\r43it [04:13,  6.01s/it]"
          ]
        },
        {
          "output_type": "stream",
          "name": "stdout",
          "text": [
            "Gt\n",
            "LIKED QUATRAINS AND ACROSTICS HAD THE KEYS OF TOWNS PRESENTED TO HER BY CUPIDS BIT HER LIPS AFTER THE ITALIAN FASHION ROLLED HER EYES AFTER THE SPANISH HAD IN HER WARDROBE THREE THOUSAND DRESSES AND COSTUMES\n",
            "SAID BARBICANE IN A SERIOUS VOICE LET US PREPARE\n",
            "THE FERN BELOW THEM CAUGHT ALL THE SLANTING SUNBEAMS THE WEATHER WAS SULTRY AND BROODINGLY STILL MARGARET USED TO TRAMP ALONG BY HER FATHER'S SIDE CRUSHING DOWN THE FERN WITH A CRUEL GLEE\n",
            "THE BIG COWARD MUTTERED BLUFF CLENCHING HIS FISTS AND SHAKING HIS HEAD AS THOUGH HE WOULD LIKE NOTHING BETTER THAN TO GET IN A BLOW AT THE BULLY MY OPINION AS FAR AS I HAVE ANY IS ABOUT LIKE THIS FRANK CONTINUED\n",
            "Pred\n",
            "LET HIM BE HELD THERE INSTANTLY AS SHE HEARED THE TRANSMISQUENTS OF THE CS OF THE PLANET THAT BEEN A CHOSHI AND IN FULL CIRCLEE STORM GROWLIER TO SUCH AS HE TOOK MELEEEL AND SAY SAID THE IN FIVE TIMES LATER WAITING AT THE SINGLED BOND THE CYRUS MAY WILDLED THE WHEY MERCURING DEGREE AGAINST\n",
            "HE LET HIS DIRTY HONORED FUNCTIONS THROW INTO FORTERY AS HE LET HONORED HONORED FROGRAPHY GRAB THEY BETTER TO THINK OF WILD PEOPLE AND HE SAID HE WOULD KILL ALL OF ASIONPeople who speak English have made a colonial act of national faith by holding their favoured language scrawled on their land with banners within the country which they are so honoured to be known. Here are some examples published this month\n",
            "BUT THE PEREMENT HE UNDERSTANDING SEEMED TO DO BY PLEWSH NOT VOTE WITH HIM STANDING HIS THE HOUSE AND THAT HE DID NOT Senator HUE FMANYou can ask any woman who has questions about your wife if they can smell her pubic hair or your manager's bum out of the water on her phone or frank talk not to come across it because at this point you would be left with no option in the world. You can ask your friend or\n",
            "GOES ON TO THE OTHER NAMES TO MAKE OF HIM COMPARATIVE IN HIS TENSENESS TO THINK OF HIM AS HE SPENT THE LAST THREE YEARS BRIDGE IN A LARGER VISION LETTING ALL OF HIS SENTENCES STAY IN HIS SIPLATHS WHERE THEY RELATE TO THE LONG AND WONDERING YEARS OF FRANCE AND THE SAD CHILDRENSouthern Okanagan Tribe have sent word on their welfare to their\n",
            "torch.Size([1, 40, 768])\n",
            "torch.Size([1, 40, 768])\n",
            "torch.Size([1, 40, 768])\n",
            "torch.Size([1, 40, 768])\n"
          ]
        },
        {
          "output_type": "stream",
          "name": "stderr",
          "text": [
            "\r44it [04:19,  6.01s/it]"
          ]
        },
        {
          "output_type": "stream",
          "name": "stdout",
          "text": [
            "Gt\n",
            "AND KEEP A GUARD UPON THE MONEY AS FOR YOU JIM HE SAID IT WENT AGAINST MY HEART\n",
            "UNDRESSING MEANWHILE AND SURVEYING THE APARTMENT CASSY MISSUS MORGESON IS AN EXCELLENT HOUSEKEEPER YES I SAID HUSKILY FOR THE DRY BISCUIT CHOKED ME WHAT WOULD TEMPERANCE AND HEPSEY SAY TO THIS\n",
            "THEN WE FOREGATHERED AROUND A TINY WOOD SPRING COLD AND PELLUCID UNDER ITS YOUNG MAPLES AND ATE THE JELLY COOKIES AND THE STORY GIRL TOLD US A TALE OF A HAUNTED SPRING IN A MOUNTAIN GLEN WHERE A FAIR WHITE LADY DWELT\n",
            "PROMISE TO KEEP MY SECRET FOR THE PRESENT I WILL PRESERVE SILENCE I ANSWERED MY HEART SOFTENING TOWARDS HER BUT I CANNOT PROMISE THAT I WILL NEVER TELL HIM\n",
            "Pred\n",
            "NOT A QUITE GUT TEMPER IS THE ONLY ONE LYING THERE IS SOMETHING HAPPENS THERE AND NO ONE PERSISTENT THERAPY AIFTS IS NOT HERE AS SO MANY OF THE PEOPLE VENTINOPLE WHO METAGED ANGELS A YEAR AGO THERE WILL NEVER BE THAT MANAGER THIS AFTERWARDSProduct Hunt is close at hand again as we deal with requests from those who actually sue Hillary with some other wish list on their\n",
            "BECAUSE THERE'S A CLEARANCE BETWEEN THE EXECUTIVE SAINTS OF THE NEQUAL SHELF AND WHICH SUPPOSES TO FARM IN THE PAYMENT (HE SAID IT) BEYOND MAYBE HE'S THERE BY THE WORK OF A FAT AND DOTSALCHRIST I MAYBODY CHRIST WATCH HIMWhat does Anthony Silva's football experience mean for FC Edmonton FCYesterday went before an election campaign panel which included Eric Holder\n",
            "HE SAID STRONGLY WITHIN HIS STRENGTHS and SHOULDER FOR THE FIRST TIME SWEETLY MISSING THE DEAD MACHINE WHICH STATES VERY PAINED UP EVEN SHE WAS TRYING TO GET STUPID LEVEL <250 IN THE SHOCKING230 EVERYTIME SHE RUNGED THIS!! HE ENDS NOW THAT MUCH CHANGE IS DECOYED AT THIS POINTContinuing Garnante's find about My Little Heloise's location maintained until last team game\n",
            "THAT HAD ACTIVATED THAT OF TAKING HIM SURELY TO MENTIONLY TAKE ADAM INSIDE THE MAI HAD ONLY PROBLEMS OF THIS RACED SWIM OF STRONGINGSTEETS BY A DIFFICULTY OF SCREENED CONSULTS OF PASSION ALIKE TO ME ANOTHER WISHED TO SCREAM AT HER ABILITY MADE HER THRILLED READY AND DISPENSE THOSE FURTHER\n",
            "torch.Size([1, 40, 768])\n",
            "torch.Size([1, 40, 768])\n",
            "torch.Size([1, 40, 768])\n",
            "torch.Size([1, 40, 768])\n"
          ]
        },
        {
          "output_type": "stream",
          "name": "stderr",
          "text": [
            "\r45it [04:25,  6.02s/it]"
          ]
        },
        {
          "output_type": "stream",
          "name": "stdout",
          "text": [
            "Gt\n",
            "FOR AS HAS BEEN SAID SUCH VESSELS WERE CONTINUALLY PLYING ABOUT THOSE SHALLOW WATERS THE CANOES WERE HAILED AND AFTER HAVING GIVEN AN ACCOUNT OF THEMSELVES THEY WERE ASKED IF THEY KNEW ANYTHING ABOUT THE PIRATE SHIP UPON THE COAST\n",
            "QUITE UNUSUAL WITH HER WHILE THE HOT TEARS CAME INTO HER EYES FOR SHE KNEW VERY WELL WHAT WAS LUCY'S OPINION OF HER FATHER AND MORE THAN HALF SUSPECTED THAT SHE HAD BEEN MAKING SOME UNKIND REMARK ABOUT HIM TO THE OTHERS\n",
            "AND OCCASIONALLY WE PASSED A HILL SCATTERINGLY COVERED WITH IT THE CHARACTER OF THE FOREST CONTINUED THE SAME AND AMONG THE TREES THE PINE WITH SHARP LEAVES AND VERY LARGE CONES WAS ABUNDANT SOME OF THEM BEING NOBLE TREES\n",
            "BEGGED HER NOT TO LOSE HEART AND ASSURED HER THAT HER TROUBLES SHOULD BE REWARDED SHE ACCOMPANIED HER ADVICE BY THE GIFT OF A CRYSTAL SMELLING BOTTLE WITH STRICT ORDERS ONLY TO OPEN IT IN CASE OF URGENT NEED\n",
            "Pred\n",
            "WHILE THE WOMAN WAS STILL BEING SMILE AS FAR AS CAN BE HE EXPLAINED AS HE WANTS TO BE PREAGRAMMING AS OLD AS ONE WHO'S WELCOME TO THE MOUNTAIN DAWN WHILE HE'LLIS GO FROM THE MOUNTAIN TO THE EAST SOUTH AND CLUBS TO THE White Mountains AND PT2 MORE STATES OF THE FOUR AT THE 15 minute mark OF TIMEClick this\n",
            "I HAD TURNED THE TABLE AND FOLKS OLD MEN STARTED ASKING THEIR INFORMATION DIRECTLY DOWN AND POINTED TO THE PRETTY MAN WHO WAS SERVING THE PROSE OF THE JOLLESTOPER AS A VISITOR ON WHAT I WATCHED HE REMEMBERED PET WAITING BEFORE MEOhohhh hoo ho did pretty well so far this week i love lovelight we were running these last week can only hope so bad my only hope\n",
            "HUMAN AND HIS JANUARY CONCILED IN HIS PEACE THAT SHE HAD ACCOMPLISHED HER POWERFUL RESULT AND WARNED HER WINNINGLY THINKING IT DETERMINED THAT HER COUNTRY MONITORING A VOLTIOFLECTION TO A MICHAEL AND HIS SANCTIONS AND THEMAS FROM ADMISSION TO SOCIAL SCHOOLERS OF THE UNITED STATES AND NOT OTHER COUNSTRATES OF VERMONTPorsche is\n",
            "THE BROSING OF THE BATTLE FROM CENTRAL TO THE CHEROKEE WAS A BATTLE THAT WHICH RUNSE THE MORWIN CREEP INTO THE MISSION OF SOFT TERRORFUCKERS THAT If YOU see your eyes i hope you can see your whole faceThe father of two boys this week insisted their son was being held from care despite his recent mental or physical injury he suffered last night before a local grand jury indicted him on four counts of assault and battery —\n",
            "torch.Size([1, 40, 768])\n",
            "torch.Size([1, 40, 768])\n",
            "torch.Size([1, 40, 768])\n",
            "torch.Size([1, 40, 768])\n"
          ]
        },
        {
          "output_type": "stream",
          "name": "stderr",
          "text": [
            "\r46it [04:31,  5.98s/it]"
          ]
        },
        {
          "output_type": "stream",
          "name": "stdout",
          "text": [
            "Gt\n",
            "CAUGHT HIM BY THE ARMS JUST ABOVE THE ELBOW SHOOK HIM ANGRILY AS ONE SHAKES A NAUGHTY CHILD LOOKED HIM ONCE IN THE EYES AND BURIED HER FACE IN HIS NECK SOBBING LONG DRY BREATHLESS SOBS EVEN THEN HE TRIED TO BE STRONG\n",
            "THIS CONTRIBUTION TO THE DISCUSSION HOWEVER MISS STACKPOLE REJECTED WITH SCORN MIDDLING INDEED IF THEY WERE NOT THE BEST IN THE WORLD THEY WERE THE WORST BUT THERE WAS NOTHING MIDDLING ABOUT AN AMERICAN HOTEL\n",
            "AND MISS LAURA CORNELIUS WE ORGANIZED AS A COMMITTEE AND ISSUED A GENERAL CALL FOR A CONFERENCE IN OCTOBER AT THE UNIVERSITY UPON THE CORDIAL INVITATION OF DOCTOR MC KENZIE AND PRESIDENT THOMPSON\n",
            "CHAPTER EIGHTEEN HOW EMANCIPATION CAME TO PASS WHEN ABRAHAM LINCOLN WAS A SMALL BOY HE BEGAN TO SHOW THE KEENEST SYMPATHY FOR THE HELPLESS AND OPPRESSED THE ONLY TIME HE BETRAYED ANGER AS A CHILD\n",
            "Pred\n",
            "AND THEN HE HAD BLUSHED THAT A FRIEND BECAME FROM THE IFE AND A GIRL WERE SUGGESTLY Trolling THEM AS HE FALLED OUT UP MON STATION AND HARVEYS FEELING PREGNANTLY JAPANESEThe Grizun Cavefellow lined the floor across the centre of Hozenon at a pitch darkened by temperature extremes. Like many of Corridor Trail's major attractions, the cave – ideal for st\n",
            "AND SHE WOULD NOT SUFFER FOR THE PASSION OF MY OWN PRINCIPLES YOU HAVE SEVENTH TIME TO BE In true the same I saw her weep out her broken head beneath the caulkThis should be a very good seventeenth after all … but it may not seem like it at all at all… just an annoyance to catch up on what you mean now because it just feels weird that good old time has come to an end… something that may end up coming back\n",
            "EDUCATIONAL EMPIRE PROPERLY AND BY JOINT BOYED CAPTAIN ABILLOASHARE THIS ARTICLE Share Tweet Post Email\n",
            ">This is not another nonsense about China questioning at least once again from Putin's term as president: We want exposure where it is from outside; our real understanding no longer exists We have enabled every nation to know this but ourselves citizens not including our own only? James Katzman is an American lawyer from New York City who writes particularly important American stories on national\n",
            "AND WHY SHALL IT BE REFIED AND HAD BEOUNDS DESPERATE IT GIVEN TO TITAN NUTS WHO LTONGUE GAVE A PLACE WHICH OCCURRED THOSE WHO CAME OUTTHORM BATTELY MISS PADFORD OLYMPUS WERE DESPERATE EATING THAT HISKE WERE TWO MENTIONABLE SHADILY SUFFERERS, YOUR LIFEI bumped into Lanana at the Groo Gro\n",
            "torch.Size([1, 40, 768])\n",
            "torch.Size([1, 40, 768])\n",
            "torch.Size([1, 40, 768])\n",
            "torch.Size([1, 40, 768])\n"
          ]
        },
        {
          "output_type": "stream",
          "name": "stderr",
          "text": [
            "\r47it [04:37,  5.97s/it]"
          ]
        },
        {
          "output_type": "stream",
          "name": "stdout",
          "text": [
            "Gt\n",
            "AND IN SPITE OF ALL HER VIRTUOUS INDIGNATION SHE FOUND HERSELF AGAIN OBLIGED TO WALK WITH HIM LISTEN TO HIM AND EVEN TO SMILE WHEN HE SMILED BEING NO LONGER ABLE HOWEVER TO RECEIVE PLEASURE FROM THE SURROUNDING OBJECTS SHE SOON BEGAN TO WALK WITH LASSITUDE\n",
            "HIS EFFORTS TO PREVENT THE RESOLUTION OF THE STATES GENERAL FROM TAKING IMMEDIATE EFFECT PROVING UNAVAILING HE PUT FORWARD THE SUGGESTION THAT ON ACCOUNT OF ITS IMPORTANCE THE DESPATCH SHOULD BE SENT TO THE ENVOYS IN CIPHER\n",
            "THEY TASTE TWICE AS GOOD AS ANY OTHER COLOR THE ORCHARD WITH ITS GREAT SWEEPING BOUGHS THAT BENT TO THE GROUND WITH FRUIT PROVED SO DELIGHTFUL THAT THE LITTLE GIRLS SPENT MOST OF THE AFTERNOON IN IT\n",
            "THAT IT IS WHAT I CALL A HOUSEHOLD BOOK BY A HOUSEHOLD BOOK I MEAN A BOOK WHICH EVERYBODY IN THE HOUSEHOLD LOVES AND QUOTES CONTINUALLY EVER AFTERWARDS A BOOK WHICH IS READ ALOUD\n",
            "Pred\n",
            "BYSTANDING THIS THEY ENSENTIALIZED THE TALL HE LAUGHED BETWEEN BULLS AND GERMAN MOONSHOVES AND AN EXPLORABLE COOK THAT HE LOVES RATING THE COUPLE!! AND AND SURE SHE DID NOT CLEARLY TAKE ANY MEDICAL ADVICE AT ALL ON CLINTONThis paper based upon the notion that false positives can be precisely tied to clinically meant phenomena possessive changes both persistent and finite\n",
            "THE ABOVE THE BLACK SLEEP ARE EXCEPTED FROM BEING WOMEN LIKE A KNIFE THEY STAND WITH THEIR OF PATIR OR ARE IN A PLACE AT LACTAIRFacebook Anon Wrote User Name Price Addresses UkeAnarchist Facebook Anon Wanted posted on last clan tour Lowest price on my list was $800 Rarely seen for long fundraising items $6408 Average Art Items Only $1200New NZ Dollars Read our Story Section at BP Prices The\n",
            "BY WHICH TAKEN THE WIND WERT A GIANT TV CLAPPELLING IN ALBUM THE WILDER FILLED THE SIDE OF THE LIGHTING POET ASILE THEY RESOLVEDWhat's next for Lance Warden? Sail aboard this week's DragonCast feature with three more new episodes surfacing Haystack Ship Awaiting for release on Wednesday from 9/9 PM Pacific TimeOh how far did you really go early on your journey\n",
            "A MAN WHO WOULDN'T ANSWER TO THE HOMOR OF A MINIMUM AS IT HAS BEEN HIS mode OF LIFE BEEN COMMON FORCEESSE LITTLE REMINDER WILL BECAUSE HE RUNN'T A REAL PEACEEndennis Is Due To Blow Out Of His Blood Through Her Pokey Bars Run By Scaffolds\n",
            "\n",
            "My favorite example of an Figurine Gastrointestinal disease is my Greg Pastely\n",
            "torch.Size([1, 40, 768])\n",
            "torch.Size([1, 40, 768])\n",
            "torch.Size([1, 40, 768])\n",
            "torch.Size([1, 40, 768])\n"
          ]
        },
        {
          "output_type": "stream",
          "name": "stderr",
          "text": [
            "\r48it [04:43,  5.97s/it]"
          ]
        },
        {
          "output_type": "stream",
          "name": "stdout",
          "text": [
            "Gt\n",
            "WELL YOU NEVER CAN TELL SAID HURSTWOOD THERE MAY BE SOMETHING TO IT I WOULDN'T BOTHER ABOUT IT MYSELF THOUGH BY THE WAY HE ADDED ARE YOU GOING ANYWHERE TO NIGHT THE HOLE IN THE GROUND\n",
            "FINALLY THE RATTLING BANG OF FOLDING SEATS INSIDE ANNOUNCED THAT THE USHERS WERE AT WORK NEW YORK SEEMED NOT SO MUCH AWAKENING AS TURNING OVER IN ITS BED PALLID MEN RUSHED BY PINCHING TOGETHER THEIR COAT COLLARS\n",
            "WILL INSPIRE THEM WITH THE MOST VIOLENT ABHORRENCE OF ALL OTHER SECTS AND CONTINUALLY ENDEAVOR BY SOME NOVELTY TO EXCITE THE LANGUID DEVOTION OF HIS AUDIENCE NO REGARD WILL BE PAID TO TRUTH MORALS OR DECENCY IN THE DOCTRINES INCULCATED\n",
            "TO BEHOLD FIVE OR SIX TABLES IN A STEAMBOAT'S CABIN WITH HALF A DOZEN MEN PLAYING AT CARDS AND MONEY PISTOLS BOWIE KNIVES ALL IN CONFUSION ON THE TABLES IS WHAT MAY BE SEEN AT ALMOST ANY TIME ON THE MISSISSIPPI RIVER ON THE FOURTH DAY WHILE AT NATCHEZ\n",
            "Pred\n",
            "AND AND I CONCARE TO THIS YOU WOULD SEE IT AS RECOGNIZE THE WHICH YOUR SEXUAL FAVORES RESIDE IN WHICH SOME OF MAYBE EXTRACTION EXITS THAT JUST as thought it had no exact due regard.Dr. Eric Morgan writes in the Times Magazine article, his expose on Lake Criscilla used student data as information first gave the National Parks Service as evidence that Lake Criscilla was desolate but reflected ill at 30 years ago Yesterday\n",
            "AND I TOO MOMENT THAT FIFE CRIED FIVER AND GENTLE AWAY FROM HIS ENGLISHATION\n",
            "(I BRIGHTLY OBLIGED LOVE) BUT TO ONE WHO WAS BEAUTIFUL MANLLY KNOWNTHE DATING LIVE IN a MOUNTAINS WHICH HAVE Gone KNOWNJUST LIKE ALL THE HIGHTSORS OF A VIPER BEAUTIFUL PAPER BEACH JURISDICTIONTwo young men were\n",
            "OISE LOOKS Oh God oh Why did he ask me so much.--Why did I ask him so muchIDENTITY RETURNS FOR 2nd YEAR THEY HAD SAID HE WAS 23 YEARS HOLDING WHICH explains how this is going to be an interesting storyline for all parties Those will be so glad Then said you can use snapchatYou are an anonymous messagebot Your object, who is what you are not remember you sayThere were five great days when party scenes\n",
            "JED MANYIONS FROM THE FLAT SOUTH WERE STEEPING A BETTER THAN AOVE AND THE ANGLE OF THE SOUTH SEEMED TO JUDGE BEFORE HIM MERALD FINANCED UPLEFT HER LEFT EMPEROR CAUSES AS THEY WERE HAPPENING AFTER TO JUDGE INHOLLY JAVIER THE FINANCIALM READY FOR HIMGet daily updates directly to your inbox Subscribe Thank you for\n",
            "torch.Size([1, 40, 768])\n",
            "torch.Size([1, 40, 768])\n",
            "torch.Size([1, 40, 768])\n",
            "torch.Size([1, 40, 768])\n"
          ]
        },
        {
          "output_type": "stream",
          "name": "stderr",
          "text": [
            "\r49it [04:49,  5.95s/it]"
          ]
        },
        {
          "output_type": "stream",
          "name": "stdout",
          "text": [
            "Gt\n",
            "AND HE KNEW THE YOUNG MAN ON WHOM THE FULLERTON ESTATE MUST DEVOLVE THE GENERAL NEEDED NO MORE ENRAGED WITH ALMOST EVERYBODY IN THE WORLD BUT HIMSELF HE SET OUT THE NEXT DAY FOR THE ABBEY WHERE HIS PERFORMANCES HAVE BEEN SEEN\n",
            "THREE TIMES DID THE BELL RING WITH A DULL HEAVY SOUND SEEMING TO PARTICIPATE IN THE GENERAL SADNESS BEFORE THE CONCIERGE APPEARED AND PEEPED THROUGH THE DOOR WHICH HE OPENED JUST WIDE ENOUGH TO ALLOW HIS WORDS TO BE HEARD\n",
            "THEIR FEET MADE A HOLLOW THUNDER ON THE PLANKS ALONG WHICH THEY WENT TO AND FRO AND AS HE LOOKED AT THIS SCENE SOME HIDDEN VOICE IN THE DARKNESS BEGAN TO SING STOP THAT SHOUTED ONE OF THE POLICEMEN BUT THE ORDER WAS DISOBEYED\n",
            "BUT BELIEVE ME WHAT I SAY I SAY AS MUCH FOR MYSELF AS FOR YOU I AM YOUR HUSBAND AND I LOVE YOU FOR AN INSTANT HER FACE FELL AND THE MOCKING GLEAM IN HER EYES DIED AWAY BUT THE WORD LOVE THREW HER INTO REVOLT AGAIN SHE THOUGHT\n",
            "Pred\n",
            "AND SENTAMI THERE WAS MANY INTENTIONS IN THE SHORES OF THE AVIATION COULD BLUEEN AND LIGHT IN MY SPIRIT I'D REMEMBER HOW FAR I WOULD CANDLE MY TWO MY FAMILY SORTS OF NIGHTS AND DAILYDAMN IT WAS OKAYFrom RationalWiki\n",
            "\n",
            ", page 8 Distribution of Video Game Release date {{{ console3st poll || {rocofforcest right }} Object Rating If\n",
            "WHICH WAS SO SO HARD FOR A FAMOUS FAMILY HE HAD ADRIATED THE FAMILY OF CUDDY BUT SHE HAS NEVER AT ALL REASONED THAT SHE SUBHIBIT IT TO BING PART OF WITH HIM AS SHE WERE ENDORSING NAMI HE COULD ILL MAKE IT SO BETTERYou might recognize the Steve Ballmer illustrations from The Late Show With Craig Ferguson for any number of reasons: Their facial expressions helped keep Bill Maher away from\n",
            "THE LADIES SWEETLY PEOMENS IN THE VIEW OF THE LICENSE FEED OUT MORE THAN A YEAR FROM A SULLESS THING THAN A FORM AND STUFFNAME OF PARENTS SUPPORTS WHICH NULL REFUNDS BY FP YE GRAND PUSH Actionsquest QUIDNIT Democratsg2001272 Mystallberen Zeen Strictly Languages Word Match veramplifierEmployee Your reputations are not from your business defer\n",
            "BUT HE WOULDN'T HAVE MISSED STONE AT THAT TIME THE LIGHT BE FROM A COUNTRY THAT WAS OBEY AND MAGINAZINIC AROUND THE WORLD THERE OR DID THE EVEN A SKY DRAG RALE YELL IT OVER AND MACDONALD Harlequin was knifed by a drifter who was holy to the Indian states she said she was smiling when she saw himActress Keita BoPage has reportedly communicated with Morgan William Campbell/Enter\n",
            "torch.Size([1, 40, 768])\n",
            "torch.Size([1, 40, 768])\n",
            "torch.Size([1, 40, 768])\n",
            "torch.Size([1, 40, 768])\n"
          ]
        },
        {
          "output_type": "stream",
          "name": "stderr",
          "text": [
            "\r50it [04:55,  5.96s/it]"
          ]
        },
        {
          "output_type": "stream",
          "name": "stdout",
          "text": [
            "Gt\n",
            "WHITE DUST HOT UNDERFOOT BLINDING TO THE EYE IS NOW A SOFT GREY SILENCE WITH THE GLITTER OF A CRYSTAL GRAIN SET STARLIKE IN ITS SILVER HERE AND THERE OVERHEAD RIDING SERENELY THROUGH THE SPACIOUS BLUE IS THE MOTHER OF THE SILENCE\n",
            "AS HE GLARED THROUGH THE DARKNESS INTO THE OLD KIRK OF ALLOWAY THE GREAT CHANDELIER OF THE CHURCH WAS PARTLY LIGHTED AND THERE WERE BESIDES MANY CANDLES AND LANTERNS BURNING IN DIFFERENT PARTS OF THE ROOM\n",
            "THE AUTHOR OF A MAXIM DELIGHTS IN OPPORTUNITIES TO WHICH IT MAY BE APPLIED HERE WAS A CASE OF THE RESTORATION OF A PEER SEARCH WAS MADE GWYNPLAINE BY THE INSCRIPTION OVER HIS DOOR\n",
            "AND BANISHED HIM TO CHERSON THEODOTUS AND STEPHANUS HE HANDED OVER TO THE MOB WHO DRAGGED THEM ROUND THE CITY AND BURNT THEM ALIVE\n",
            "Pred\n",
            "HE OFFERED THE LAST SUPERIORAGE AND THE STANDIN TO THE GLASS WERE SCORING TO EASILY PASS MEN ON BEING EASY AND CONSERVATIVE WITHIN AN IDEAL EFLYCan a geon -- resident of Jersey City named Bryce Stadler -- be successfully implemented at the post office before Athens 2018 he will promptly receive his pension to be donated to Forky Springs FFV Posted by @braceingseronGiant ph\n",
            "AND ONE OF THE HIBALS NOTHING ELSE HAS COMMUNATED WITH THE DOLLAR THEY KEEP THE DISMISAREFUL HOUND INSTEAD OF BEGINNING TO REMAK THEIR TLCS WHICH LESS THAN OLIVER COMMUNISMPolice have come from Frankfort County leading detectives to warn about her disappearance after North Point homicide charges were dropped against Sumay Bushman Chris DunnMCW5@aol.com huffingtonpost.com\n",
            "AND AS SO HE TEXAS MANY MINUTES NEGAL ENRIANTS WAS BEING SMASHED BY THE UNITED STATESMAN FOR GARBAGING WITH HIM HE FEELED LIKE A FEMALE SHIME GOOGLE TOWERED A MAN I MAYPASS ON HIS FACE KIND OF PRINCE AS HE WATCHED US UP THEREby Pamela Bermistero. Alberta Democrats — served two terms in opposition — voted against Calgary mayor's bid\n",
            "AND IF THERE ARE BEEN A MAKING A CATCH FOR HIM THAT SHOULD BE YOU GUYSIn this lesson you will learn how to build a living room using stray solar and wind energy energy which will provide you with basic electrical wiring first during laying down your installation plan and then during completion of your residents project schedule you will become an electrician first\n",
            "When used as a summer training practice after the work week you will start doing your first warm up more than your other sleeping sounds like this\n",
            "torch.Size([1, 40, 768])\n",
            "torch.Size([1, 40, 768])\n",
            "torch.Size([1, 40, 768])\n",
            "torch.Size([1, 40, 768])\n"
          ]
        },
        {
          "output_type": "stream",
          "name": "stderr",
          "text": [
            "\r51it [05:01,  5.95s/it]"
          ]
        },
        {
          "output_type": "stream",
          "name": "stdout",
          "text": [
            "Gt\n",
            "WHOSE SMOOTH LINEAR STRUCTURE SHOWED THAT SNOW WAS BEGINNING TO FALL OF THESE PARTIAL STORMS THERE WERE SOON TEN OR TWELVE ARRANGED IN TWO ROWS WHILE THE MAIN JORDAN VALLEY BETWEEN THEM LAY AS YET IN PROFOUND CALM AT FOUR THIRTY P M\n",
            "NICHOLAS WOULD TURN THE BROKEN RING ON HIS FINGER AND WOULD DROP HIS EYES BEFORE THE MAN WHO WAS MAKING HIM ANGRY BUT HE DID FORGET HIMSELF ONCE OR TWICE WITHIN A TWELVEMONTH AND THEN HE WOULD GO AND CONFESS TO HIS WIFE AND WOULD AGAIN PROMISE THAT THIS SHOULD REALLY BE THE VERY LAST TIME\n",
            "TO MONARCHICAL AND DIPLOMATIC EUROPE A SORT OF PROSTITUTE THE ENGLISH PEOPLE HAS ALWAYS HAD IN KEEPING PARLIAMENT HAVING VOTED A PATRIOTIC LOAN OF THIRTY FOUR MILLION FRANCS OF ANNUITIES THERE HAD BEEN A CRUSH AT THE EXCHEQUER TO SUBSCRIBE IT\n",
            "THE CAPITALIST OWNING THE SHEET WOULD NECESSARILY CONSIDER HIS REVENUE FROM ADVERTISEMENT BEFORE ANYTHING ELSE HE WAS INDEED COMPELLED TO DO SO UNLESS HE HAD ENORMOUS REVENUES FROM OTHER SOURCES AND RAN HIS PAPER AS A LUXURY COSTING A VAST FORTUNE A YEAR\n",
            "Pred\n",
            "AND WERE CONTINUING AND REPAIRING IN AN EXISTENCE OF A SECRECATION THE LINGUIST SWODGHOFF READYED HIS SALES IN THOUGH THE ADMINISTRATIVE RESPONSIBILITY AT THE EATER GROUNDS RAGGED WITH HISTORIC REVOLUTION WHICH QUACK CLOSED UP AGAINST HIM THE HERSELF EXAGGERED IN ANOTHER ADDITION TO HIS DISTRACTION FOR GENERAL INVESTIG\n",
            "AND HE WAS DEFEATED PATTY R18B MAKING SEVERAL PUBLIC MUSEATURES DEAFLY BIAS DARE TO MAKE ONCOLUMENTS OF EMOTION IN HIS SILENT MILITARY INTERAMINATION TO AND FROM A DXTCH ENQUIRY TO UK INDIA HAD 12 years TO GO READ A VIDEO OF MADE NECESSARY TO all REAL Americans', HAWKS WHEN THEY LOOK BACK AT JOAER'S FAMILY WHICH\n",
            "USB WAS HALFING IT TO THE RIVER OF OUR SOULS ALL THE TRADE THAT EIGHT MEN HAVE ILLO COMMONOn This blog we talk\n",
            "Here are some links it gets easy surprisingly all bench surfing is only so fast working bike shops sort of spy stuff here they install those nice bombs strapped to BMW's throwball throw stuff BMW for a loving family sexy lady's relationship battery replacement serviceThe Doctor soon has a different student girlfriend we aren't sure if her\n",
            "THE PAIR SANGERED AT YOU BEEPS GOOD MR SON MERRY TIM PSAID THAT THEY SAID BETTER OF ALL THE THINGS THAT I HAD SAID OF MY BEAVER NOT OF THEIR BRITISH HOBE AND THEN MANY DRUGE FUNNY HORSE FEMALE 4 CUGIN NICHOLAS BET AND SAID BUT SHE BAWLED AND HAD SAID WHY WOULDT YOU BE QUITE FEARED FOR\n",
            "torch.Size([1, 40, 768])\n",
            "torch.Size([1, 40, 768])\n",
            "torch.Size([1, 40, 768])\n",
            "torch.Size([1, 40, 768])\n"
          ]
        },
        {
          "output_type": "stream",
          "name": "stderr",
          "text": [
            "\r52it [05:07,  5.94s/it]"
          ]
        },
        {
          "output_type": "stream",
          "name": "stdout",
          "text": [
            "Gt\n",
            "AND I HAVE HEARD MANY OF THOSE WHO RECOVERED SPEAK WITH ALL THE PASSIONATE FERVOR OF THE ITALIAN NATURE\n",
            "LAST OUT A WHOLE TEN MONTHS YOU ARE IN EGREGIOUS ERROR COMPLIMENTS THE VERY OPPOSITE TO HONEY AND SWEETNESS HAVE GENERALLY SUPERVENED LONG BEFORE TRY IT IF YOU DON'T BELIEVE ME TWO LETTERS SHE CONTINUED\n",
            "THE ATMOSPHERE THROUGHOUT THE NEIGHBORHOOD WHERE CHARLES AND MARGARET HAD LIVED AND BREATHED AND HAD THEIR EXISTENCE WAS HEAVILY OPPRESSED WITH SLAVERY NO EDUCATION FOR THE FREEMAN OF COLOR MUCH LESS FOR THE SLAVE\n",
            "BUT WAS CAUGHT AS HE WAS ABOUT TO SWIM ACROSS THE RIVER\n",
            "Pred\n",
            "COME IN AND SAW THAT EXCAUSE OF HIS PRINCIPAL TO RATHER MADE HIMIE BLEACHING THE SMALL BAND AND THE WINE BALL HAVE BEEN TRIVIED TO ANIMAL HOMEEcologists have discovered several thousand bison bones dating to 1245 lung cancer victims found in Belle Crest dike early this year in Douglas County Forked River County Glen Canada — that show extensive changes— about 10 feet long.\n",
            "\n",
            "]Add this notebook\n",
            "AND TAKING BACK HIS MATTER BUT SUCKING SHINE PONY AND CORKTHIS BOYS CUT HIS MASON IN HAND AND THEN HE ARRANGED LYING UNDER THE HAND AND ADMITTED SMOKE TO THE CARMA MOSTLY AND DIED HIM IN FOOT FASHION AND ALMOST TURNED HIM INTO ENCESSION HE WORKED WITHOUT ERA SEEDSDid you know…the dinner is over baby? Resident Evil\n",
            "SHE IS EXPOSING UP TO SALT AND EVEN EUROPEAN ALICES BECAUSE ONE INTEREST WAS GOT INTO IT AND TAKEN HIS SCIENCE INTO THINGS THAT FAILS IT WAS A CATALYST FOR JESUS OF WHOSE REFIT AREAS THEY BELIEVE IT TO BE RIGHTTS 94Let us be honest about this question: How much are you getting out of this book now so many readers flock to your website anyway?! I don't\n",
            "AND GATHER THERE IN HIS REVERSE ONE DON'T CHOSE THIS OWNER IN SIMPLE CAPTURE MALE'S REPUBLICThe Man of the Year Hugo Chávez this week complained about the lack of re-signing of San Diego's highly successful goaltender David Broten this season because of the recent shift in his hand and his subsequent room availability and desire. We have Chávez committed to getting things organized for more games this season only after just one team\n",
            "torch.Size([1, 40, 768])\n",
            "torch.Size([1, 40, 768])\n",
            "torch.Size([1, 40, 768])\n",
            "torch.Size([1, 40, 768])\n"
          ]
        },
        {
          "output_type": "stream",
          "name": "stderr",
          "text": [
            "\r53it [05:13,  5.93s/it]"
          ]
        },
        {
          "output_type": "stream",
          "name": "stdout",
          "text": [
            "Gt\n",
            "MOREOVER THE SOLUTION IT PROPOSED ALLOWED FOR FREE PLAY OF THE IMAGINATION THE HUMAN MIND ENJOYS IMPRESSIVE VISIONS OF UNEARTHLY CREATURES NOW THEN THE SEA IS PRECISELY THEIR BEST MEDIUM\n",
            "I AM ONLY A LITTLE KNOCKED UP BUT I SHALL SOON BE BETTER OH SAYS MY UNCLE THAT'S NOTHING TO SIGNIFY YOU ARE ONLY A LITTLE BIT TIRED BUT YOU UNCLE YOU SEEM IN VERY GOOD SPIRITS THIS MORNING\n",
            "BUT HIS SUCCESSOR LIVED TO BE ARCHBISHOP OF CANTERBURY I THINK IT WAS IN THE AUTUMN OF EIGHTEEN THIRTY ONE THAT MY MOTHER WITH THE REST OF THE FAMILY RETURNED FROM AMERICA\n",
            "MORADABAD INDIA JULY EIGHTEEN TWENTY SIX LIVING AGE\n",
            "Pred\n",
            "SHAJAH HACKEY TEACHED THE WAY NOT TO SUCH ANOTHER BATMAN THEY HAD SUSPENDED HIM HIS MISS SIMON HE KNEW THE DADA COULD NOT HAPPEN AT ALL TO EVERYTHING ACCUSER GOOD MAKING HIM CRUSSISHWith Barack Obama on the issue before shaping the election that went Missouri's 2018 general election is likely to be an ugly man's day that's likely to bring nail biting headlines about how our communities are being permanently\n",
            "NUTB UPDATES CONTINUE TO CREATE SUPPLIES OF FREE IT BY FIKING THEM INTO THE NEIGHBORHOOD THEY DID NOT COME BACK TO THAT QUARTER AGAINAustralian anti-communist protesters have successfully forced Australia and one of the world's most powerful cities in Sydney over to put up fences that prevent them from marching further south heading south however they descend.\n",
            " pic Sketch of Australia's decision to move to Sydney in October 2017 Mark Cohen #f\n",
            "HE TRUSTED HE HAD MISSED A COUNT OF EVERY NAME OUTRAGE ATTENUATE WITH HEROES HER FRIEND IN SCREENYou hardly ever know when somebody will dress up like Effie behind the scenes with a nipple to sit beside her on a road ride instead. Or when other people decide to dabble with her social media profile online to see where her career is headed..or when messages finally arrive that say you can be their real date she can definitely accept\n",
            "AND SO HE DROPS A HEAVY PINK THE PRESSES THROUGH THE BUFF BEFORE SUMMINE THEIR DEALING TRIADS AND SPOTTLY TO SUFFER FOR THE DISLIKE OF THE CONSPIRACY OF RULERS AND THE FORGIVEN LOVE OF COLD ENOMYHey everyone, this week was really rough for the last stop vs @thecomprop. Video blogs are still quite new but we are happy to let you know what your favorite\n",
            "torch.Size([1, 40, 768])\n",
            "torch.Size([1, 40, 768])\n",
            "torch.Size([1, 40, 768])\n",
            "torch.Size([1, 40, 768])\n"
          ]
        },
        {
          "output_type": "stream",
          "name": "stderr",
          "text": [
            "\r54it [05:19,  5.95s/it]"
          ]
        },
        {
          "output_type": "stream",
          "name": "stdout",
          "text": [
            "Gt\n",
            "FOUR SEXTUPLE IN WHICH THERE ARE SIX BEATS THE FIRST AND FOURTH BEING ACCENTED THE OTHERS NOT IN RAPID TEMPI THIS IS ALWAYS TAKEN AS COMPOUND DUPLE MEASURE A DOTTED QUARTER NOTE HAVING A BEAT\n",
            "I WILL TELL YOU HOW IT WAS IN THE PINCH OF YOUR CAMPAIGN UP THERE WHEN EVERYBODY SEEMED PANIC STRICKEN\n",
            "BETWEEN MAN AND MAN SHALL END THROUGHOUT THE WORLD BECAUSE ALL THIS IS TRUE IT IS ALSO TRUE THAT THERE ARE NO MEN MORE IGNOBLE OR MORE FOOLISH NO MEN WHOSE ACTIONS ARE FRAUGHT WITH GREATER POSSIBILITY OF MISCHIEF\n",
            "THE YARD IS FULL OF CARRIAGES ALREADY SOMEBODY HANDED ME GLOVES MY BONNET WAS TIED A HANDKERCHIEF GIVEN TO ME AND THE DOOR OPENED IN THE PASSAGE I HEARD A KNOCKING FROM VERONICA'S ROOM AND CROSSED TO LEARN WHAT SHE WANTED\n",
            "Pred\n",
            "THE SHIRTS THREATEN ABOUT MEED AND THE WALKER SOON WAS NOT OKING ME UP BUT SHE DID NOT TELL ME THAT WAS \"ILL\" ABOUT ME FALLING MY HAT AND BUT I DO NOT FORGET IF I SHOULD DO THIS ONCE I SHOULD ALWAYS CALL CHRISTMAS TOESTOWN ABOUT FROM 2013POF is going to come out about movies or three once everything's out… or there's more that certainly could be happening at this moment Scroll\n",
            "AS HE BECOMED THE FIRST RUSHED OUT OF HIM IN THE CAR AND HAD ALLEN SUCH AN ACTION CLOSED UP SHE ZERO VISITED ME OUT AGAIN AND HAD DONE SOMETHING TO PARTICULARLY INTEREST HER IN THE WORK AND CLOSED UP AS MAXIMARILY AS DO I SHOULD HAVE HEARD HIS MOM WHEN THEY WERE BACK IN THE CITY GETTING OUT WALKING FROM THE JOB BEFORE THEY EVEN METHy\n",
            "HAVE BEEN UTTER THAN THE LAST IN THE CONSTITUTE OF HOME IS HE BEST WHEN HE COMES OUT OF THE STAIRS FULL OF SUCH NOISE AND HE IS MIGHTEN'T BE SEEN by YOUATWe are having actually campaign ourselves into the Queen Guianhee Into The Classroom….here we are on March 4 2017 whereyloggers are having so much fun introducing us as the new details emerging from our burrows out into our ar\n",
            "LIKE TO HAVE THE ANTICIPALITY OF CLOTHES WE BECOME GOVERNMENTS OF WHITE WE Blackened AND CPOTYE WITH DISPLAYINGS OF WHITE IT WAS STILL STABIN'S PROFESSIONAL IT WAS ITIT'S BY NATURALITY STEMUSKE PLACE THE REAR AND THE ENTIREEM\n",
            "Do you think that it can be confined unto light, but rather does it have any place at any time?\n",
            "torch.Size([1, 40, 768])\n",
            "torch.Size([1, 40, 768])\n",
            "torch.Size([1, 40, 768])\n",
            "torch.Size([1, 40, 768])\n"
          ]
        },
        {
          "output_type": "stream",
          "name": "stderr",
          "text": [
            "\r55it [05:25,  5.94s/it]"
          ]
        },
        {
          "output_type": "stream",
          "name": "stdout",
          "text": [
            "Gt\n",
            "HE LAUGHS AT GHOSTS THAT AREN'T EXPERTS IN EFFICIENCY HAUNTING AND HE HAS A LOT OF FUN OUT OF MORTALS FOR BEING SCARED OF SPECTERS HE LOVES TO SHAKE THE LUGUBRIOUS TERRORS OF THE PAST BEFORE YOU\n",
            "HE WAS CURIOUS BECAUSE HE COULDN'T EVEN GUESS AT WHAT ITS FUNCTION WAS IT WAS JUST LYING THERE IN A CUBICLE SO HE DID CONSIDERABLE EXPERIMENTING WITH IT WHILE HE WAITED FOR GESS FAYLE TO SHOW UP\n",
            "SO THEY REACHED UNHURT THE SHORE OF THE HAPPY ISLAND AND WANDERED THROUGH THE FLOWERY FIELDS AND BY THE BANKS OF RUSHING STREAMS AND THEY KNEW NOT HUNGER NOR THIRST NEITHER COLD NOR HEAT\n",
            "A PART OF HIS DAILY EXERCISE HE THRASHED ME WITH A BIG STICK THAT SUCH THRASHINGS SHOULD HAVE BEEN POSSIBLE AT A SCHOOL AS A CONTINUAL PART OF ONE'S DAILY LIFE\n",
            "Pred\n",
            "EMILY THE VANILLA'S ENGLISH IS THE SERBY PALACE In our own land after sporting when we have been had done but never put through this time To be a hero we are made fair from that they all know Best they know when not he looks homeSeán Obronesz has helped me demonize a lot of my progressive friends throughout the internet integration community – including me personally. Through tonight's evening chat we both have our own opinions these days from where we\n",
            "I WAS THERING NOW TO LIVEUALLY TILL A CURIOUS ERROR CASE OF A ALTERNATIVE'S CALL OF MEMORY BECAUSE NINECENT GOD BUT QUITE JUST THAT ONE DIRECTION OF HIS KIND OF THE BATHDLE AFTER THE TERROR AERONorthern Texas could be used as an alternative to having a nuclear weapon at any point since Texas plans to put off until at least June 21 what applications for such weapons make since state lawmakers are now\n",
            "AND MOTHERFUCKIN' UP TO EACH SOVERS THE RELIGIBLE WORK OF THE RELIGIBLE PARTY THUS MONSTER WAS REFUSED TO AKER YOU APOLOGIZE ABOUT THAT BLAME FOR THE FOUNDATION OF THE MONSTER ON MORRISON WHICH FOR ONE HULKBECKTORRES TC01 Buffalo Scilli Champagne Polish Style brown wine aroma from a tap date at your door Departure late tonightapprox 1800mond\n",
            "THE HYPER EYE WE GOT REMARKED FROM ALL HIS LEGS IN HEAVEN HE SAW WITH ANNEPOONS DOCTRINE TASKS AND STADIUM BUT THE HABITUS HAS ACTUALLY GAVE A VERIFICATION IN THE STAND AND JOHN MOREEY IS ALSO HEADS THE SUNHere is an extended note wishing to bring a relief to the family previously affected with the horrific tragic events of the night at high school which has affected all students\n",
            "torch.Size([1, 40, 768])\n",
            "torch.Size([1, 40, 768])\n",
            "torch.Size([1, 40, 768])\n",
            "torch.Size([1, 40, 768])\n"
          ]
        },
        {
          "output_type": "stream",
          "name": "stderr",
          "text": [
            "\r56it [05:31,  5.92s/it]"
          ]
        },
        {
          "output_type": "stream",
          "name": "stdout",
          "text": [
            "Gt\n",
            "AND HE LAUGHED AND STROKED HER HAIR\n",
            "AND SORELY WOULD HE SWELL WHEN FROM THE RAMPARTS OF FORT CASIMIR HE BEHELD THE FLAG OF THEIR HIGH MIGHTINESSES STRUCK TO THE RIVAL FORTRESS TO HEIGHTEN HIS VEXATION GOVERNOR PRINTZ WHO AS HAS BEEN SHOWN WAS A HUGE TRENCHERMAN\n",
            "I MEAN THE EXTERNAL ORGAN OF SMELLING OR THAT PART OF MAN WHICH STANDS PROMINENT IN HIS FACE AND WHICH PAINTERS SAY IN GOOD JOLLY NOSES AND WELL PROPORTIONED FACES SHOULD COMPREHEND A FULL THIRD THAT IS MEASURED DOWNWARDS FROM THE SETTING ON OF THE HAIR\n",
            "MY DESIRE OF HAVING CHILDREN ONLY INDUCED ME TO PURCHASE A SLAVE BY WHOM I HAD A SON WHO WAS EXTREMELY PROMISING MY WIFE BEING JEALOUS CHERISHED A HATRED FOR BOTH MOTHER AND CHILD\n",
            "Pred\n",
            "HIT THE CIRCLE OF THE ANGELS AND SOMEWHERE WE LIGHT UP WITH THE FLESH OF GOOTHOW LAVINGS AS SKEWERS TO WILD AND A FEW OF THEIR RINGS DOING JUST AFTER THEIR USE OF These GIRLWOODS HUT FROM THE KNEER LEVEL\n",
            "2 ENDED IN ONSET OF THE OTHER Then they entered their previous outposts from this current land and walked off into the daylight of the worldDear Members\n",
            "AND I WAS ALMOST RETRACTED THE DEAD MINISTER WHICH SO MISLEADED AND AGGRESSIVELY MERCHANTAED HER GOVERNORS AND THE COUNCIL OF THE CITY HE LOST TOMORROW AGAIN AT THE HAZARD BEHAVIOR AS HE THE LOST YO MANIFEST EVERYDED HIM COUNCIL OF THE MICHALES AND SECURITY AT GAMMINTVChapter 32 - OMG\n",
            "AND EAT TURNED WITH FLAWS OF AUDIENCE-BUILDING SHE PIECE EDITION OF THAT AVENUE WERE IN GOOD MERCHANDISE NOW PAYING ONLY QUESTIONS OF ITSELF ORVIDENCE AS TO HOW HE WOULD THINK IT SAID LARGE TO ME MERCHANDISE WITH THEMHere's another example of a pitch for game development on huge open shoes or defined trails crashing over an unusual moment at a concert without oil on its hands.\n",
            "AND BRIGHAM ADVISED THAT ASLY AS A MIND IF I WAS WORKING AT DIVINE IT SAID IT WAS NOT Once I WAS AT DIVINE, I SHOULDNFTTH PEOPLE I HAD HAD ITThe Type 1 Flexible Feet is one from whalebone short leather with hot pulls made like an anvil providing rubbing actions for you necessarily wishing for good times from your back up hand hangs behind your knuckles (right hand).65 Feet By Act\n",
            "torch.Size([1, 40, 768])\n",
            "torch.Size([1, 40, 768])\n",
            "torch.Size([1, 40, 768])\n",
            "torch.Size([1, 40, 768])\n"
          ]
        },
        {
          "output_type": "stream",
          "name": "stderr",
          "text": [
            "\r57it [05:36,  5.91s/it]"
          ]
        },
        {
          "output_type": "stream",
          "name": "stdout",
          "text": [
            "Gt\n",
            "INTO HIS MIND CAME THE THOUGHT THAT HIS HAVING BEEN LOST AND FRIGHTENED IN THE DARKNESS WAS AN ALTOGETHER UNIMPORTANT MATTER\n",
            "AS HAD BEEN MY CASE BEFORE THE BATH IS A PLACE OF GALLANTRY ENOUGH EXPENSIVE AND FULL OF SNARES I WENT THITHER INDEED\n",
            "YOU ARE LUCKY I WISH I COULD SAY AS MUCH FOR I DO CONCEAL MYSELF AND THEN I WAS AFRAID YOU WOULD NOT RECOGNIZE ME BUT YOU DID\n",
            "THEN MY FATHER FOLLOWED THEM TAKING MY ELDER BROTHER BEFORE HE WENT TO OXFORD\n",
            "Pred\n",
            "AND THEY INHERITED OVER AND AWAY THE HUSKY MAN CRAHHHOSE POPULATION OF THE MOUTHED MEN WHO WERE WEAK AND THEY WERE ABLE TO MEND INTO THE DANGER OF THAT FUELINESS02 Sen Bob Ryan's remarks on job opportunities at Texas West Florida a day after failed budget deal despite findings by Senate Republican leadership on poverty research great eyeWhile first officials across the country seems to have confirmed this coming Saturday night,\n",
            "THEN HE GAUGHT OF HIM RUFÉImage caption Signs suddenly appeared in Cairo early on Thursday morning (11 April 2016)\n",
            " = We'd never have been here if we had never known about it + Thanks to our splinter taking place outside of Cairo © Jan De Morphe, National Autonomous University of Egypt\n",
            "\\Very short notice after my home address is changed please allow me before using your information for posterity Copyright © Jan De Morphe 2008About 50 more\n",
            "AND THERE WAS PASSING OFF THE KING FROM WHICH THEY WELCOME OF HUUUUUUUMMY FREEDOM IN THE ETCENSIVE PRODUCTION OF TH'S MIND SO FAR THAT NO MEASURE OF CONTINUATION IS NORHAP IT MIGHT HARBINGNT ARE PLEASE PRORECTETY PULLED IN THE FUTUREEvent Summary\n",
            " ByexperienceIncome Capital Income level December 16 2017 Wealth line Total Gross personal wealth Total 23\n",
            "THAT THOSE KNEW WHO THERE WAS ANY OF THAT CHARGE OF WHICH COMBINED BETWEEN THE SATANIC MACHINE AND THE WATER MACHINE LIGHTED IT HATRED THE HORSE LIGHTEDY STRENGTHER THAN THE CLAMP FROM THE STRATEGY OF STEREOFF THAT FAMILY NOThrough Kickstarter our company would put military equipment when you first get to feel some of its features—else how would you ever expect\n",
            "torch.Size([1, 40, 768])\n",
            "torch.Size([1, 40, 768])\n",
            "torch.Size([1, 40, 768])\n",
            "torch.Size([1, 40, 768])\n"
          ]
        },
        {
          "output_type": "stream",
          "name": "stderr",
          "text": [
            "\r58it [05:42,  5.93s/it]"
          ]
        },
        {
          "output_type": "stream",
          "name": "stdout",
          "text": [
            "Gt\n",
            "UNTIL SUCH A ONE CHOSE TO MAKE SOME MOVEMENT NO DEEDS IN ARMS NO NATURAL GIFTS NOR ANY RENOWN AS AN ORATOR\n",
            "COME A LITTLE NEARER TO THE WELL NO ONE KNOWS WHO MAY BE BEHIND THOSE TREES NOW LISTEN CAN YOU TELL ME WHAT IS GOING WRONG WITH DIETRICH HE NEVER WHISTLES NOW HE NEVER LAUGHS AND HIS MOTHER LOOKS SO SAD AND SHE RARELY SPEAKS EVEN TO ANSWER WHEN SPOKEN TO\n",
            "BUT ON SUCCEEDING EARLY IN LIFE TO A SMALL INDEPENDENCE HAD BECOME INDISPOSED FOR ANY OF THE MORE HOMELY PURSUITS IN WHICH HIS BROTHERS WERE ENGAGED AND HAD SATISFIED AN ACTIVE CHEERFUL MIND\n",
            "THEY WERE AT THEIR WITS END TO KNOW HOW TO GET RID OF JESUS THE CRAFTIEST MEN IN JERUSALEM COULD NOT THINK WHAT TO DO THERE WAS A KNOCK AT THE DOOR IT WAS ONE OF JESUS TWELVE DISCIPLES\n",
            "Pred\n",
            "SUTTER AS A MAXIMUM WE PROCEED FROM DEATH TO DEATH (UNNOTABLY ONE FOR THE FAST BENEFIT THAT ONE CAN GOWAYS A LONG WAY) MELOOLING IT IN AN FRACKIN'News Deutschland featuring three new beautiful photos of the Serafinica canyoneering event by an airline jet like hyperbus Luenging Asian passenger su x Wohl has been positive that he has taken this vacation with his\n",
            "I'M NOT A TRAP OR A SHOMPING CREATURE OF THIS EUROPE AND SEXUALITY IS NOT THE INTENT OF MEASURE ME I MIGHT GIVE YOU ANY WAY YOU WANT TO SAY IT MARK TEHRARDSAdvanced Topics Security features over the Grand Canyon National Golf Club does not require a staff members list though you use the Club's Online Members Score Method used at Continental Golf Gridel Parking Places Business shop hereIllinois radio stations have returned their call\n",
            "IN HER THEMA OF THE UNIVERSE TO CARRY IT RATHER WIDENUS HANDS ATTENDED THE HOME SHE LEFT IN THE VAN DIARY AT NIGHT AND SAID IT TO HIS FRIENDEROver On Main Leash Shortcuts We're Restoring Height Enjoy this quick overview for a few shortcuts here perfect for this week's commuting list if you like some shortcuts you may like more handy features from our Historian Sessions 2018 Past Month and a baby us\n",
            "BOYD GRADU OLLING OUR STEPHOURS HANDS LIKELY HE WAS PITFULLY ADVOCATED ON FAKING HIS VOICES ENOUGH WHILE SAVING THE INFORMAL POSSIBLE CORPORATION'S REPORTDave Richards has said he rejected White stripper Clay Cantrell for sacking him for an undisclosed amount of money after an incident involving the women involved in this new world video gameEthiopia is among a large number of\n",
            "torch.Size([1, 40, 768])\n",
            "torch.Size([1, 40, 768])\n",
            "torch.Size([1, 40, 768])\n",
            "torch.Size([1, 40, 768])\n"
          ]
        },
        {
          "output_type": "stream",
          "name": "stderr",
          "text": [
            "\r59it [05:48,  5.92s/it]"
          ]
        },
        {
          "output_type": "stream",
          "name": "stdout",
          "text": [
            "Gt\n",
            "BUT AT ANY RATE THEY FOUND CORNERS AND THEY ALL FITTED IN AS FOR PETER HE SAW WENDY ONCE AGAIN BEFORE HE FLEW AWAY HE DID NOT EXACTLY COME TO THE WINDOW BUT HE BRUSHED AGAINST IT IN PASSING SO THAT SHE COULD OPEN IT IF SHE LIKED AND CALL TO HIM\n",
            "I CANNOT STAND I SAID THERE IS SOMETHING GONE IN MY LEG AND I FEEL BLOOD RUNNING DOWN INTO MY BOOT HE KNELT AND ROLLED DOWN THE LEG OF MY STOCKING BUT THOUGH HE ONLY MOVED MY FOOT\n",
            "AND THAT ON THE BRIDEGROOM APPROACHING TO UNLACE THE BOSOM OF HER DRESS TO GIVE HER AIR\n",
            "AND THE LIGHT WAS SUBDUED ENOUGH WITH BLINDS DRAWN UP AND WINDOWS OPEN SHE WAS SEATED GAZING FIXEDLY ON THE SEA RESTING HER CHEEK ON HER HAND LOOKING LESS SHATTERED THAN WHEN HE HAD LEFT HER BUT WITH A DEEP MELANCHOLY IN HER EXPRESSION\n",
            "Pred\n",
            "THE HIVE VERY UNLEASHED LIKE THE GOARD_OBSERVENT TWO DIGITAL NELSED SIRY WOULD HUNGLE ANOTHER ONE OF THE MINIMUS FITTERS SET OUT SIGHTING A COMMAND CORTAL NARROW TO HIS HEAD AND PASSING A XLYF IN THE FACE AND FATHER'S EXTINCTIVE MORROW CONTAINED HIS CLANCACY LLER WHILE NARROW CLOSED THE\n",
            "AND HER BODY CANT BEEP FROM HIM TO THESE MEANINGS WILL COME FROM HIM WITH THEIR OWN GROUND AND THEIR TEARS WELL OF HIM MADE NO LOGIC AND BEED IN THE CLOSURE OF THE CHORONETThis is just another everyday news story about my Irish family from over 100 years ago which is telling a wonderful story about how our family survived those tough times but it is missing a great resolution here I just rewatched it over here on\n",
            "ANYWAY YOU TOLD ME THAT EVERY WERE GOOD OWLL A WALLER PLACE I HOPE YOU NO YOU HOPE THAT WAS GOOD PRACTICE IN ASS HUMAN HOMOSIS AND WIFEApple's high prices have few customers but their majority are organization members so they can maintain their loyalty for long term commitments for necessary functions including securing phone calls. If Apple provides you with a trip request with a flexible pattern that helps track your needs within her organization or as a whole\n",
            "AND AS JEFFREY COLD SIR ALIENS HE CHAKS UP TOM THEM THOUGHT THAT IN ARTICLE 9 AIN'T WHICH THEY SHOULD TOEND ON THE ROOM OF THE REPUBLIC OF ALACHEMMINESo much so that almost anyone who picked up this book just left me wanting another one out here too 😀 Perhaps there's room for some inspiration if you want to enjoy this story too 😉 Word often writes too many words especially\n",
            "torch.Size([1, 40, 768])\n",
            "torch.Size([1, 40, 768])\n",
            "torch.Size([1, 40, 768])\n",
            "torch.Size([1, 40, 768])\n"
          ]
        },
        {
          "output_type": "stream",
          "name": "stderr",
          "text": [
            "\r60it [05:54,  5.90s/it]"
          ]
        },
        {
          "output_type": "stream",
          "name": "stdout",
          "text": [
            "Gt\n",
            "AND TOUCHED SOME SMOOTH HARD SURFACE LIKE GLASS THIS WAS SO UNEXPECTED THAT IT STARTLED HIM EXTREMELY QUITE SUDDENLY HE ROLLED OVER STARED FOR A MOMENT AND STRUGGLED INTO A SITTING POSITION\n",
            "BY HOLDING HER TO MY HEART AND KISSING HER LOVELY HAIR REASSURINGLY AS I MURMURED YOU ARE SAFE MY DARLING NOT A HAIR OF YOUR PRECIOUS HEAD SHALL BE HURT DON'T BE FRIGHTENED SHE SHIVERED LIKE A LEAF\n",
            "THE ADDERS WERE ALWAYS AWAY PEOPLE SAID THAT THE ADDERS WERE AFRAID OF THEM THE YELLOW BROWN FROG WISHED THAT THE ADDERS COULD BE SCARED BADLY SCARED SOME TIME SO SCARED THAT A CHILLY FEELING WOULD RUN DOWN THEIR BACKS FROM THEIR HEADS CLEAR TO THE TIPS OF THEIR TAILS\n",
            "SHE RECEIVED HIM CIVILLY AND ASKED HIM WHAT HE WANTED HE TRIED TO MAKE A BARGAIN WITH HER BUT COULD EFFECT NOTHING UNLESS KING CHARMING WOULD CONSENT TO MARRY TROUTINA THE ENCHANTER FOUND THIS BRIDE SO UGLY\n",
            "Pred\n",
            "HE LOOKS LIKE A WIZARDMAN IN FRONT OF HIS WHICH IN MANY MESSAGES HIS THIRD ROE IS SPIRIT FOR MILITARY MASTER IN SECRET HEREMan Arrested After Stingling Jets Killed Four Jets By Boy Mark Young Read more…\n",
            "Another NFL Deep Dive into Pace Lines Is Due at NFL Scouting Combine Next Week Young NFL Pros Pat Leppock Read more…\n",
            "As mentioned above, Roger Goodell indulges at NFL Scouting\n",
            "THE MAST200 FROM OTHER SUAS ISOON SOUTHWEST AND SOMETIMES MOST EXCELLENTLY LCD(NOLENT) WHERESE THE OSIVASIA I LEARNED CANNIBAL TEARS BUT MY WORDS WILL BE SENGED BY THINGS THAT HAD BEEN RSOLVE MOST A SOMETIMES GOOD OLD MAN THE IRON MIST THE SILVA FELLS DUO WHIEVER\n",
            "AND MAN SO FANTASTICIALLY PARGUNNAGULLIFICALLY BALLS AND RACELY SLAMS THE BOYS WITH HIS HEARING HE GIVEN TO THE HEAT AND DIED AGAIN THE DISTURBING FROM THE HOP CREES ADMITTED TO LIVE THE OLD EAVY MIXEAS YETAfter a long gunfight ends tonight when the princely country bows all to the party hack Monroe votes deal no reward\n",
            "I COULD USE ANYTHING OR ANYTHING THAT I CAN DO FOR AS LONG WILLY AS I CAN THROUGH AND SUPPORT WHILE I SHARE THIS WORLD OF TODAYStill loading... Click here\n",
            " | Last updated on presentsaviation here\n",
            "We've changed how that is shared once closes out businessOne will no longer inherit over from their parentsThe first code change for existing guests also becomes public for For guests mutually agree which property will be inheritedBest browser Find my gift where your restaurant can be\n",
            "torch.Size([1, 40, 768])\n",
            "torch.Size([1, 40, 768])\n",
            "torch.Size([1, 40, 768])\n",
            "torch.Size([1, 40, 768])\n"
          ]
        },
        {
          "output_type": "stream",
          "name": "stderr",
          "text": [
            "\r61it [06:00,  5.90s/it]"
          ]
        },
        {
          "output_type": "stream",
          "name": "stdout",
          "text": [
            "Gt\n",
            "OF ALL INSTANCES I HAVE THAT ATTRIBUTE THE FALL OF SMALL FROGS OR TOADS TO WHIRLWINDS ONLY ONE DEFINITELY IDENTIFIES OR PLACES THE WHIRLWIND ALSO AS HAS BEEN SAID BEFORE A POND GOING UP WOULD BE QUITE AS INTERESTING AS FROGS COMING DOWN\n",
            "ALL THESE FIGURES ARE REPRODUCED BY PLOSS AND BARTELS EVEN IN MODERN EUROPE THE SAME IDEAS PREVAIL IN PORTUGAL ACCORDING TO REYS IT IS BELIEVED THAT DURING MENSTRUATION WOMEN ARE LIABLE TO BE BITTEN BY LIZARDS\n",
            "AFTER HAVING WRITTEN A FAREWELL LETTER CONTAINING THESE WORDS WHEN I AM DEAD IT WILL NOT BE DIFFICULT TO MELT THE MIRROR AND TO CAST THE BELL BUT TO THE PERSON WHO BREAKS THAT BELL BY RINGING IT GREAT WEALTH WILL BE GIVEN BY THE GHOST OF ME\n",
            "THE PILGRIMAGE TOWARDS A PERSONAL BEING SEEMED TO TRAVERSE VAST GULFS TO OCCUPY EPOCHS GIGANTIC DREAMS THAT WERE TERRIBLE REALITIES AT THE TIME\n",
            "Pred\n",
            "AND ON A CREDE AND FOR HIMSELF AND WHICH SHE COULD BRING AND THE PORTINS OF LOVE IN HER POPULAR PIECE AND WHEN WHEN GOLD THE BIG LANGEN OF THE ART OF CIDER WAS WILD AND WHERE IT FURTHER DANGERED FROM OLD AS A TRILLION THEY OWE THE JOY OF DAVID'S EMPATHEMISTSFrom Christian full of new art to Disney Zoop Goodie Bad\n",
            "AND SO SIX HAD HEVERED TO GO TO THE EXTENT THE CUP FRANKISE ARROWED AFTER HIM THAT A CUP STANDARD OF CAT STORIES WHICH CASCADE HER OWN SYMBOLISM FROM POOR PLACE HE HE SALES THE MOSSNPR's James Montopoli joined together with McCani Di Marzano from Life magazine for an interview about his sperm donation through his latest endeavours — like failing away to live an irreversible\n",
            "WHAT WAS SHE TO DO AND WHILE SHE MPHED THE 10 FEET ON THE TOP OF THE FRONT OF THE JOHN CARROLLA look at how much each new language does on Reddit has never been better! Thanks so much for sending us some of your questions on why human language has evolved in recent timeshere anymoret sure you will have be accepting me :)Copy one from Reddit Post complete content with your name, email, news filetype and an artist thumbnail link on this blog\n",
            "WILL OF MAKING SUCH A GOODTennessee is escorted off the grounds by tweetstorm Ryan BurnsShares Go Beer Hadbel Ballard Word Wedding Promise Plans Clothing Peep Trailer | All pics by Bjorn Foote Monarch Edition Texas Festivals Week 59 Home Landmark Photo Gallery Photo\n",
            "It all starts next month with 15 days of Houston World Tour rounds including 44th Annual Texas TechFest and 42nd Annual Texas TechFest. To show off what we can expect from Texas Tech Festivals Check\n",
            "torch.Size([1, 40, 768])\n",
            "torch.Size([1, 40, 768])\n",
            "torch.Size([1, 40, 768])\n",
            "torch.Size([1, 40, 768])\n"
          ]
        },
        {
          "output_type": "stream",
          "name": "stderr",
          "text": [
            "\r62it [06:06,  5.91s/it]"
          ]
        },
        {
          "output_type": "stream",
          "name": "stdout",
          "text": [
            "Gt\n",
            "YES SHE SAID SHE OFTEN THOUGHT SO AND ADDED\n",
            "AT LAST I THINK IT WAS ON THE THIRD NIGHT THE DOCTOR AND I WERE STROLLING ON THE SHOULDER OF THE HILL WHERE IT OVERLOOKS THE LOWLANDS OF THE ISLE\n",
            "HAVING THEREFORE NO LONGER CAUSE TO DOUBT BUT THAT HE HAD UNJUSTLY PERSECUTED GANEM AND HIS FAMILY AND HAD PUBLICLY WRONGED THEM HE RESOLVED TO MAKE THEM PUBLIC SATISFACTION\n",
            "WITH GRAVEL RATTLING ON MY FENDERS I TURNED OFF THE CONCRETE AND SWEPT BETWEEN THE TWO MASSIVE STUCCOED PILLARS THAT GUARDED THE DRIVE BOTH OF THEM BORE CORRODED BRONZE PLATES THE BILLOWS THE NAME GIVEN THE MONSTROSITY BY THE ORIGINAL OWNER\n",
            "Pred\n",
            "NO YOU CAN DO THAT WHEREAS IT IS NO HE MUST GO ALL OVER THE WORLD THIS 1000 DOLLARS TOUCHED HER THIS VACANT SOUL AND HE STINK DINNER ALL OVER THE WORLDLOS ANGELES VETS have moved ahead with a revamped food menu in New Orleans even if the River will remain in effect until next spring. Those who opted to get their food off their inventory are now continuing on with one new menu now said to pack all their bags into their\n",
            "IF MY ADDRESS DID NOT HAVE MY PART JUST AWAY FROM ETHANA PLEASE SHARE IT TO ME. THANK YOU FOR AWAY FROM RIGHT AN ORMANEL FOR YOUR CAPTAIN OF METEROTIONSamsung just released the first glimpse at its new SuperChrome device set to be unveiled at Pebble Pebble Beach on Tuesday…\n",
            "[To see the Hue Light White Noise feature on your phone come complete without a surprise look]\n",
            "\n",
            " Like Apple's original Hue IoT device was\n",
            "BUT FINDING A FEAST FOR HIS PRIDE SPECIES YOU WOULD SEE THAT THERE FRAY IS THE CMINGER OF HIS FCAJM SCREAMER OF GOLDEN GOODNESSDepending on how you look at it, Salt Lake City undoubtedly is some of the nation's best athletics facilities. Situated on all four sides, this city boasts one of the largest non-majority soccer stadiums at any team in the NBA and makes for a top five city vacation out of all sports\n",
            "RAYE DURNERSHREY TAKE A CLOSE LOOK ATK as HE TAKED HIM ADVERSE RANGE HE'D BE CONTINUED A TERRIBLE TIME CD OF THE SHAVAKERLY RODLE IN THE COUNTRYYet she accepted the chance of jeopardising Cooke's future going forward despite all other options being looked into when questions were raised during this morning's meeting with Nelson FitzgeraldImage copyright Getty Images\n",
            "1962 Truman's top aides\n",
            "torch.Size([1, 40, 768])\n",
            "torch.Size([1, 40, 768])\n",
            "torch.Size([1, 40, 768])\n",
            "torch.Size([1, 40, 768])\n"
          ]
        },
        {
          "output_type": "stream",
          "name": "stderr",
          "text": [
            "\r63it [06:12,  5.91s/it]"
          ]
        },
        {
          "output_type": "stream",
          "name": "stdout",
          "text": [
            "Gt\n",
            "HAS JUST MADE US A VERY PLEASANT PROPOSITION OH I SAID YOU KNOW ABOUT WITH ALL DUE RESPECT TO MASTER CONSEIL REPLIED THE NAUTILUS'S COMMANDER HAS INVITED US TOGETHER WITH MASTER\n",
            "INTO WHICH THE ABBE'S CELL OPENED FROM THAT POINT THE PASSAGE BECAME MUCH NARROWER AND BARELY PERMITTED ONE TO CREEP THROUGH ON HANDS AND KNEES THE FLOOR OF THE ABBE'S CELL WAS PAVED AND IT HAD BEEN BY RAISING ONE OF THE STONES IN THE MOST OBSCURE CORNER\n",
            "WAITING BESIDE THE ROAD FOR US THEY HAD COME TO PILOT US INTO CAMP FOR THERE WOULD BE NO ROAD SOON SUCH A WAY AS WE CAME OVER SUCH JOLTING AND SLIDING I BEGGED TO GET OFF AND WALK\n",
            "AND ANNOUNCING HIS IMMEDIATE DEPARTURE FOR SOME PLACE WHOSE NAME HE DID NOT MENTION BUSINESS HAD CALLED HIM AWAY AND LADY THROCKMORTON OF COURSE KNEW WHAT SUCH BUSINESS WAS AND HOW IMPERATIVE ITS DEMANDS WERE HE MIGHT HAVE WAITED THEO SAID TO HERSELF\n",
            "Pred\n",
            "THERE IS RIDE AND EVERYWHERE IS PICTURE OF A FRANKFURY AND HE DESPENDS BRINGING CENSOR RIVER AND WHICH STILL TAKE SOME GATHERINGS FROM THE RESPAIR ARE THE GYRAN FICTIONES OF THIS GROCERY TO COUCHON HOMEAfter a 4-10 year period where I have been working at Manchester City FC until recently, Permohhán Retin bemoaned how\n",
            "THINK AT THIS, THERE HE WAS A BODY FROM THE WORD BROKE FASTING A HEAD DOWN TO HER ROUTEE WATER AND TIGHTENED IN HER SEAT SHE WAS COMING INTO THE DOOR NEAR The DOORMeasure Gold Steel Brick Different gate offering missing contours for keys for extra storage enjoymentDESCRIPTION: Customer service redirected my payments hours when calculating your total payments asking me if @matthedoc was either an Australian or German bank\n",
            "OF WHICH THIS LIFE STVER ISOMORPHY IS BASED ON DIFFERENCE IN THOSE WHO 2008'S TRULY'S WISDOM DINNER SYMPATHIZE MONMcAW'S ENTHUSIASM THE P2S ARE TONY 1626 CANON BEREA DEAR HARDELL BENALD WOLDBERGAnother bata arguments deluged by the Indians who have more than one other vacation time member Will think this one\n",
            "THE SUICIDE OF AN OLD MAN WHO WAS 18 YEARS OLD AND DIIIIIIIIIIIIII DEEEEEEEEEEEEEEEEEEE BOOOOIT IT IS GUESS WHAT JUST FEMALE WHEN YOU HAVE ABUS THE Other PART OF THIS ZAPHAMT-SMALL ANGEL SHOULD FELT REFUSE ALL OF THIS AND THEN SAID IT HAP DAY ABCThis video from London and Channel 4 shows how someone called Tim Adelson watched someone tweet an\n",
            "torch.Size([1, 40, 768])\n",
            "torch.Size([1, 40, 768])\n",
            "torch.Size([1, 40, 768])\n",
            "torch.Size([1, 40, 768])\n"
          ]
        },
        {
          "output_type": "stream",
          "name": "stderr",
          "text": [
            "\r64it [06:18,  5.90s/it]"
          ]
        },
        {
          "output_type": "stream",
          "name": "stdout",
          "text": [
            "Gt\n",
            "MORE THAN THREE HUNDRED YEARS AGO THE GREAT ENGLISH POET EDMUND SPENSER LIVED FOR SOME TIME IN IRELAND AND MADE HIMSELF WELL ACQUAINTED WITH ITS HISTORY HE KNEW WHAT IT WAS IN PAST AGES\n",
            "AND YET WHEN IT CAME IT SEEMED SO QUIET EVER SO QUIET NOT A BIT LIKE THE NORTHERN STAR MINE AND THE OYSTER SUPPER AND THE MARIPOSA BAND IT IS STRANGE HOW QUIET THESE THINGS LOOK THE OTHER WAY ROUND\n",
            "I WAS AMUSING MYSELF UNTIL YOUR RETURN I I HAVE SOMETHING TO TELL YOU WELL WHAT IS IT I ASKED RATHER SURPRISED CANNOT YOU GUESS DICK HAS ASKED ME TO BECOME HIS WIFE SHE SAID IN A LOW TONE\n",
            "I GUESS IT'S ALL UP I GUESS I KNEW IT WOULD BE SOME DAY MOYNE HADN'T ANYTHING TO DO WITH IT I STOLE THE MONEY MYSELF FROM THE BANK TO NIGHT I GUESS IT'S ALL UP\n",
            "Pred\n",
            "WE'LL SAID IT WAS HE THAT SAID THAT HE GAVE A THING FOR THAT HOPEFULLY O; DON'T SAY WHAT A MGHOUSE OF SKULL THAT FLUSHED YOU1 Vampire Stalker Overcome Rick's Dark Future 3 2 Dark Lord Seek Vision 3\n",
            "Merleway Shukam Flam Saturday Sept 29 4000 Illensite Robinie Desquire 4 3 Legiac Plague Yes 5 4 Neo Grassy Red Dusk Have you been really looking\n",
            "IT ISN'T WRITING TO ME HOW HE DOES INSTANCED HER DOOR HOW WHICH SATURES WERE BUILDING EVERYWHERE WHICH WENT THERE WHICH WAS CAPITAL AND That which was DownWARD IT BOLTED IN FACT HIM ELUSIFIES HAS DISGUISED HIM THE WHOLE VOYAGE OF CHOUSEL AND INROMEDAEBuy Photo Mikkelsen calls Washington State's refugee process a 'fantasy.' (Photo:\n",
            "AND OR THE PENAL OR THE PERPETUAL SUBCOURAGNE OF A CIA ROM DRAGH OFF WITH A FACEHOLES AND A NET WITH WATER UNISHED IN ADDITION AND ALL OVER IT THESE BULLIES CONDUCTED IRREUROUS IN THEIR PALPHANTIC AND BIOPROPHRES THE HEALTHY FOOLS OF ALL BOSUAN CHFDid Benjamin Webb like well? Each play he took would be a\n",
            "THE POTTER WAS EVERYWHERE READY TO EAT BABYEEEIVE OR THERE WAS THE REST OF THE EARTH AND THE BRIFTER AND THE WAY WOULD SEEN IT As Sunday morning everyone couldn't sleep well this eveningOFFICIAL THANK YOU FOR READING OUR SURGEF CONTRACT SCHEDULE NOTE 04 IN 1975; NEVER pragged for FREE SCHEDULE Read it here There's no shortage of roles for most open positions on Upcoming Exchanges Mr Doll\n",
            "torch.Size([1, 40, 768])\n",
            "torch.Size([1, 40, 768])\n",
            "torch.Size([1, 40, 768])\n",
            "torch.Size([1, 40, 768])\n"
          ]
        },
        {
          "output_type": "stream",
          "name": "stderr",
          "text": [
            "\r65it [06:24,  5.90s/it]"
          ]
        },
        {
          "output_type": "stream",
          "name": "stdout",
          "text": [
            "Gt\n",
            "MEANWHILE IF HIS OPPONENT WERE THE BEST MAN WHO EVER JUMPED THE ROPES INTO A RING HIS OWN DUTY WAS CLEAR HE MUST PREPARE HIMSELF CAREFULLY THROW AWAY NO CHANCE AND DO THE VERY BEST THAT HE COULD BUT HE KNEW ENOUGH TO APPRECIATE THE DIFFERENCE WHICH EXISTS IN BOXING AS IN EVERY SPORT\n",
            "THEN MARIAN BARBER DROPPED A NEAT FIELD GOAL AND SOON AFTER GRACE SCORED ON A FOUL THE JUNIOR FANS HOWLED JOYFULLY AT THE GOOD WORK OF THEIR TEAM THE SENIORS DID NOT INTEND TO ALLOW THEM TO SCORE AGAIN IN A HURRY\n",
            "SUCH AN INSOLENT SCOUNDREL HE CRIED GROWING HOT AGAIN AT THE MERE RECOLLECTION OF HIM IF HE HAD TOLD ME HE WAS DRUNK AND DID NOT SEE BUT WHAT IS THE MATTER WITH YOU MARY HE SUDDENLY ASKED\n",
            "WHEN HE WOULD HAVE BEEN DELIGHTED TO GAMBLE TO GET DRUNK AND TO RUN AMUCK UP AND DOWN THE DECK BUT HE CAREFULLY ABSTAINED FROM ALL THESE RECREATIONS AND SHOWED HIMSELF TO BE SUCH AN ABLE BODIED AND WILLING SAILOR\n",
            "Pred\n",
            "THE MAN WHO SAID SENSE OF TICKENING HIS A®The Lost Manchester Please Tell Me Where Are You LocatedBecause China is an outpost for pro-American ideals and compatible energy resources that have been neglected over recent years President Trump is on a hit when it comes to recreating his Cuban heritage ahead of his presidential election this fall. But here's something about what's new about Trump's Facebook page that could be helpful in connecting with people even more who oppose President Trump's opposition\n",
            "SPEAKER HE GROUNDED AND ANONYMOUS TWENTY NINE YEARS AND ONE HUNDRED OLD CORN BY THE WINDOW BEEP AND HER FEARTHY OTHERS AS INIVNISTY AS PECKY'S HEROUS MUD OFF THE HOME REPEATED IN UP RATINE PLACE AYLOKOUELBy Frank Olson\n",
            "\n",
            "14 January 1972\n",
            "© Ameriya Postos View All v Health Health\n",
            "AND TRY YOUTake your robot closer to mine…for a more realistic portrait of every time you're near by, show your love for tons of different factsJust like close relatives do when their love is over, their hatred does not change when we talk about them at all. Mrs. Nuttall has been living under crueltyer conditions for almost four years now with her adopted daughter Negan's old hand using another set of rules that allows her to control her own life when she does not\n",
            "BUT YOU'RE USING THE KORJ WAS NOT ABOUT TO WOCK IT OUT HOWITE YOU ARE WHENASCENDED IT YOU SAID TO HIM NO WHEN YOU HAD MYER KORJ IN HIS TIME WHICH TISő NOT ROMANCE MEAN VERY JOKING and I WERE SON'T MEANT TO READ HIS SLORDS CALLED TO MY TAKES TELL ME THAT SHE MADE ME LARGER AND YOU HE NEEDED A 22mm\n",
            "torch.Size([1, 40, 768])\n",
            "torch.Size([1, 40, 768])\n",
            "torch.Size([1, 40, 768])\n",
            "torch.Size([1, 40, 768])\n"
          ]
        },
        {
          "output_type": "stream",
          "name": "stderr",
          "text": [
            "\r66it [06:30,  5.89s/it]"
          ]
        },
        {
          "output_type": "stream",
          "name": "stdout",
          "text": [
            "Gt\n",
            "POLYMORPHUS PERVERSE AND IF HE MAKES BUT SLIGHT USE OF ALL THESE IMPULSES IT IS ON THE ONE HAND BECAUSE OF THEIR LESSER INTENSITY AS COMPARED TO LATER LIFE AND ON THE OTHER HAND\n",
            "AND THE ARTERIAL VEIN WERE IT NOT THAT THE BLOOD OF THE VENOUS ARTERY HAVING ONLY BEEN IN THE LUNGS AFTER IT HAS PASSED THROUGH THE HEART IS THINNER AND RAREFIES MORE READILY AND IN A HIGHER DEGREE\n",
            "USED TO RUN ABOUT LONDON DURING THE HOURS WHEN THE CITIZENS WERE ASLEEP PULLING THE HINGES FROM THE SHUTTERS CUTTING OFF THE PIPES OF PUMPS FILLING UP CISTERNS DIGGING UP CULTIVATED PLOTS OF GROUND PUTTING OUT LAMPS SAWING THROUGH THE BEAMS WHICH SUPPORTED HOUSES\n",
            "WAS STILL FORMING THE ORDER FOR TOINON TO BE REMOVED FROM THE ROOM WHEN HE FOUND THE DOOR CLOSED AGAIN\n",
            "Pred\n",
            "GETTING TO THE SHERIFF'S (BARTKE), OF COURSE ALL OF MEN HAVE TO SAVE THEIR OWN HIGHNESS WHEN WE'RE AT OUR LITTLE NECKS AND IN POPULAR SILLIES OF THE PERFECT COUNTRY'S WORD MARTH ROSEWOOD AND HUMAN FELONS MAYBE TORSO ORIGILEDWhen Don Zeidhoff was hired by Silicon Valley after 15 years on the Board of Directors at Intel Inc., he\n",
            "THE RANDOM WICKED IN WIDTH UP AND BUSTUN A CLAP OF BUSTUN AND HE SURPRISED IN MORPHANT HABES AND LIGHTS!!!! BUT HE DID NOT SEEM TO BE BE A GREAT MAN FOR HE WENT BACK TO FRANKLIN SAVAGE AND NEVER ARRIVED FOR THE FIRST LIGHT AT A JACKBINWhat you need to know about qualiel's foddy mutliple innations to stay in\n",
            "IT WAS JUNE 31-DECEMBER 2012 THERE WAS CELTMike Allen admitted today that he plans to hold a press conference on Thursday morning at his employment lawyer's office where he will have an open shooting interview with one person who will be well enough taken care of before his turn of next year. Allen had repeated his invitation to somebody here recently so managed to sneak his own interview earlier in the day by linking it up into an event line to make sure you have no trouble read it up\n",
            "AND THE TAPE OF THE SURVIVAL OF PASSION IS ADDED BETWEEN TWO BASES IT MAY ALSO BE REEVEN TO MAKE DIFFERENT HERE AT UNEVEN SENSE ONLY BY SAMUEL PULLING HIS PARABLE IN THE FORBIDGE OF A NON CONTROLLED LOVE AND BEGAN MATTERSImage caption In 2008 schoolchildren used the Robindex lightbulb after being advised to be cautious he has moved to south east\n",
            "torch.Size([1, 40, 768])\n",
            "torch.Size([1, 40, 768])\n",
            "torch.Size([1, 40, 768])\n",
            "torch.Size([1, 40, 768])\n"
          ]
        },
        {
          "output_type": "stream",
          "name": "stderr",
          "text": [
            "\r67it [06:35,  5.91s/it]"
          ]
        },
        {
          "output_type": "stream",
          "name": "stdout",
          "text": [
            "Gt\n",
            "AND DUTY WITH GENTLENESS AND HE REWARDED THEM\n",
            "MATTHEW WENT TO BRIGHT RIVER WE'RE GETTING A LITTLE BOY FROM AN ORPHAN ASYLUM IN NOVA SCOTIA AND HE'S COMING ON THE TRAIN TONIGHT IF MARILLA HAD SAID THAT MATTHEW HAD GONE TO BRIGHT RIVER TO MEET A KANGAROO FROM AUSTRALIA MISSUS RACHEL COULD NOT HAVE BEEN MORE ASTONISHED\n",
            "WHY IT IS INDEED A TRUE ROYAL JEWEL\n",
            "LUCY ROBARTS IN HER HEART DID NOT GIVE HER DISMISSED LOVER CREDIT FOR MUCH MORE HEROISM THAN DID TRULY APPERTAIN TO HIM DID NOT PERHAPS GIVE HIM FULL CREDIT FOR A CERTAIN AMOUNT OF HEROISM WHICH DID REALLY APPERTAIN TO HIM\n",
            "Pred\n",
            "BANGERED SO THAT FOR A FINE MAJOR CHILL SHADOW REMAYED SOME OF THE MATCHES ALREADY MADE TIE THE HANGINGS AND WHICH THE PORTIONS FATHER TOMEDLY OWE THEM TOGETHER THOUGH NOT ********************************************************************\\**** THE VERY NECESSARY ACCOMMODATIONS OF BOTH THESE YOUTUBER LIED IN ABOUT 35 ORDER FROM EVERY PIECE OF RESIDENCE HIS SALMONTH\n",
            "HUMANDA'S ASHEROTHESEN OF THANKING HE GIVEN HE INDEPENDENTLY DOING PERFECTLY\n",
            "(BUT WHEREFORE PURE RICKER STRONG LIKE A CRAZY LITTLE BUILDING INTO MORMON THE DEEP AND FALSE IMAGES OF MICHAEL NAROFFINSON HAVEN'T SUFFIXED THE 14 SECOND OMITTED PITTS BELOW THING GIRLUONNE BENAREEK\n",
            "AND THEN BECAUSE NORMALITY WAS IN NETHERLANDSTHAN HE KNOWS THAT SHE FORDING HE KNOWS THAT IT WAS TRANSCRIPTED FROM THE UNIVERSE TO THE INDEPENDENCE OF OTHER EMPLOYEES AND THEREFORE AFTER KEEPING AWAY FROM OUR MISSION OF NON-ENERGY BECAUSE HE SAYS YOU USES IT HERE THE REAL HERHOOD IS BLACK AND EARLYYoung American punk rocker Nicholas Duff spark\n",
            "WHERE AN EARS AND A PHILADELPH ARE MASCELLATIONS NEAR THE AGE OF 70 AN HEART SAW WHEN HE PASSED OUT ON HIS OWN SIR AND HE GAVE EMERGENCY AND WHAT DETECTED MASSIVE SENTENCESWhile some reported underestimates the value of wetsuits when subsisting bests Climate Consensus peers do are less likely, this trend appears to make one Greek yogurt far more palatable to Canadian adults less likely\n",
            "torch.Size([1, 40, 768])\n",
            "torch.Size([1, 40, 768])\n",
            "torch.Size([1, 40, 768])\n",
            "torch.Size([1, 40, 768])\n"
          ]
        },
        {
          "output_type": "stream",
          "name": "stderr",
          "text": [
            "\r68it [06:41,  5.90s/it]"
          ]
        },
        {
          "output_type": "stream",
          "name": "stdout",
          "text": [
            "Gt\n",
            "PROBABLY BORED HER MORE THAN SHE REALIZED TO ANYONE TOO INTELLIGENT TO BE STEADILY EXCITED BY BUYING THINGS AND WEARING THINGS AND DANCING AND PLAYING GAMES AND GOING TO PLACES OF ENTERTAINMENT AND BEING GIVEN FLOWERS SWEETS JEWELLERY\n",
            "WITH HIS CUTLASS WAVING HIGH IN THE AIR HE WOULD RUSH OUT INTO THE STREET AND TAKE A WHACK AT EVERY ONE WHOM HE MET AS FAR AS WAS POSSIBLE THE CITIZENS ALLOWED HIM TO HAVE THE STREET TO HIMSELF AND IT WAS NOT AT ALL LIKELY\n",
            "STILL HE CREPT SLOWLY TOWARDS HER HIS LIPS WORKING AND HIS HANDS MOVING CONVULSIVELY JOE JOE SHE SAID HOARSELY WHAT S THE MATTER\n",
            "THE DANCERS KEPT ON THEIR MASKS UNTIL MIDNIGHT AND THE MERRY AND MOTLEY THRONG PRESENTED A BRILLIANT SCENE MOVING GRACEFULLY BENEATH THE BRIGHT GAS LIGHT TO THE INSPIRITING MUSIC TO ME IT WAS A NOVEL AND ENTERTAINING SIGHT\n",
            "Pred\n",
            "WHEL'S IT GOING ON TO ACCOMPLISHED HER TO HEAR ME AT ALL SEPARATE ME HERE? IF YOU ARE IN THIS AND MISS LOT KILLPERSON YOU MUST BE A LONERLooks like Tecky's homestead in Tokyo was never something far from its rafters in Rueckyll Park on Monday morning. This is yet another wonderful example of why your family could enjoy visiting together in Tokyo at lunchtime after your previous trip down south is over\n",
            "AND YET THAT NO BONE AT LEAST ONE OF THEM WAS WHO COUT OF NEWS COLLEGESWhen we asked Alex Seitz if sales will continue for several years to come but we were told over the phone from Diamond Dogs we'd already seen an expected number of new releases planned in 2016 it could be expected that things might change for sure so we're not seeing any number out there yet though since we have kept an eye on nothing else due to our editors fan reviews right now\n",
            "IN THE THE AFTERGIVING ROMAN I'D MADE CARD TO THE SMALL PONY OF HARWOOD GLOVES PILLIANS MADE THEIR CENTER OF THE RAINTS MILLION DOING THEM THINK I HATED THEMObnoxious Paywall Stamps Military Union Membership Gained Membership Added Including all payment accounts including his own paywall old owned or Jewish family owner costs are now down increasing Question: what about other PC Capitalist Members Do You Deserve To\n",
            "FOR IN HIS OWN HEART AND PAYS MONEY TO HIS DEBT WE GONE OUR SEVEN HOURS TO THE CAR AGAIN AND HE REACHED INTO HIS VALLEY AND HE WAS THE OFFICER OF THE CITY OR BRIDGE OF THE OFFICE BATHOUGE MADLY HAPPENED WILDLY AND HE FILLED THE BATHOW WITH NO DEAL.The issuance\n",
            "The Road Limited imposed serious penalties on four members of its board of trustees at\n",
            "torch.Size([1, 40, 768])\n",
            "torch.Size([1, 40, 768])\n",
            "torch.Size([1, 40, 768])\n",
            "torch.Size([1, 40, 768])\n"
          ]
        },
        {
          "output_type": "stream",
          "name": "stderr",
          "text": [
            "\r69it [06:47,  5.89s/it]"
          ]
        },
        {
          "output_type": "stream",
          "name": "stdout",
          "text": [
            "Gt\n",
            "CHICAGO IS LIFTING HER HEAD NEVERTHELESS BOSTON STILL CONTROLS THE TEXT BOOK IN ENGLISH AND DOMINATES OUR HIGH SCHOOLS IRONIC FEELINGS IN THIS MATTER ON THE PART OF WESTERN MEN ARE BASED SOMEWHAT ON ENVY AND ILLEGITIMATE CUSSEDNESS\n",
            "MISSUS LOWDER HAD MADE DEAR MILLY THE TOPIC AND IT PROVED ON THE SPOT A TOPIC AS FAMILIAR TO THE ENTHUSIASTIC YOUNGER AS TO THE SAGACIOUS OLDER MAN ANY KNOWLEDGE THEY MIGHT LACK MISSUS LOWDER'S NIECE WAS MOREOVER ALERT TO SUPPLY\n",
            "RAIDS FEROCIOUS COMBATS AND LOOT ARE PART OF AN ANT'S REGULAR LIFE ANT REFORMERS IF THERE WERE ANY MIGHT LAY THIS TO THEIR PROPERTY SENSE AND TALK OF ABOLISHING PROPERTY AS A CURE FOR THE EVIL\n",
            "AND THE SPIRIT THAT PROCEEDETH FROM THEM IS TEACHING YOU AS I BELIEVE I TOO AM BEING TAUGHT BY THE SAME WHY THEN SHOULD I BE ANXIOUS TO CONVINCE YOU OF ANYTHING WILL YOU NOT IN HIS GOOD TIME COME TO SEE WHAT HE WOULD HAVE YOU SEE\n",
            "Pred\n",
            "BECAUSE HAD LACK OF THE STRENGTH AND POWER BENEFITS RESEMBLED FOR THIS CEREAL TURMA WHICH DONE SORRY TOGETHER IT WAS DURING THE MOTHER OF THE HEART THAT ANGELDALE DRAWSED EVERYDAY PORTIONBarakiri Conspiracy Afflicts Creating FraudWell, Raiders stay undefeated over Miami Raiders nozzles for 23 straight games while York City Bulls stay shut by Blakes defense opener Nov\n",
            "BEFORE HE WASIn the eyes of those who belong to the people of Israel, it bears little resemblance to what some form of thinking forbade it from becoming a pebble past which has now incited this impostuous one. For there exist filtering characteristics that bear witness to it. It is now one thing only to say that all men born after Moses wore his uniform are expected to show their passives which presume their privilege. And it is only this thing that is opposite of what\n",
            "AND HOMAN'SGOING AS HE SAYS THEY MIGHT BE IN A BROKENGE HERE NOW HE WANTS TO FINISH THEM BEING ABLE TO FIGURE THEM THAN BLACK TO THE WHITE MESA YOU ARE PULLING OVER HER SHOOTS INTO A RAPE CD SHE SAW HULK BEATTING HURTY TOMUA PULLED UP TO HURTBOW THESE LIQUORS TO END WHATEVER HE POSSESS\n",
            "THE ATTRACTIC MANY MORE NIJZOWAFU PEOPLE AMONG NIJZOWAFUNA AND HIS FRIENDS DID LOSS A BROADCAST ON A TPP TO GLADSTOOLED VIDEOLINE TO BE SEEMED TO BE IN THE STATE OF JAPANESE MULTYBIOUS MUSLIMS INTO SUPPORTING TRAVELING BANHOUSEThe Chicago Planning Commission has objected to expanding housing growth while absolutely ignoring or ignoring another\n",
            "torch.Size([1, 40, 768])\n",
            "torch.Size([1, 40, 768])\n",
            "torch.Size([1, 40, 768])\n",
            "torch.Size([1, 40, 768])\n"
          ]
        },
        {
          "output_type": "stream",
          "name": "stderr",
          "text": [
            "\r70it [06:53,  5.89s/it]"
          ]
        },
        {
          "output_type": "stream",
          "name": "stdout",
          "text": [
            "Gt\n",
            "OBSERVED THE DIAMOND MAN AT FIRST I THOUGHT I WOULD BE FRIGHTENED BUT I'M NOT A BIT IT DOESN'T SEEM AS IF ANYTHING COULD HAPPEN SOMETHING IS LIKELY TO HAPPEN SOON SAID MISTER PARKER SUDDENLY\n",
            "UNDER WHICH HIS COUNSELLOR HAD NEVER BEFORE SEEN HIM LABOUR TOLD MACMURDO THE CIRCUMSTANCES OF THE STORY HIS ADVISER CAUGHT AT SOME STRAY HINTS IN IT\n",
            "FOR THE ROOTS WHICH THEY HAD KEPT WARM THROUGH ALL THE CRUEL WINTER HAND NOW COME TO THEIR FULL SIZE DAY BY DAY THE PRINCESS PULLED UP SOME OF THEM AND MADE EXPERIMENTS WITH THEM CONJURING UP NOW THIS LONGED FOR PERSON AND NOW THAT\n",
            "TILL I'D TAUGHT HER TO LOVE ME MORE BUT IF SHE'S A COLD HEART AND CANNOT CARE FOR A HONEST SAILOR WHY THEN I'D BEST GO BACK AT ONCE HE MADE FOR THE DOOR HE MUST HAVE BEEN PRETTY SURE FROM SOME SIGN OR OTHER OR HE WOULD NEVER HAVE LEFT IT TO HER WOMANLY PRIDE TO GIVE WAY\n",
            "Pred\n",
            "ILLAY THESE MOUTHS IS JUST ABOUT HILL AND THEOpen Source Godimpressions by Home That church fathers told me that they could have three new schedules but they were stopped because they gave each a list of their children's names when they settled their landsteen plans at home because they don't want adults around for anything really long (for their business.) Me too\n",
            "\n",
            "For these women it was true that there were men who had heard these stories but only if there was enough\n",
            "AND WITH A CLEAR WE STAND ON the feet AND TARMOUR TO THE LIVE HOFFMAN A LOOKED SIERCE ABOUT THE LN ROTHARDS AND A THREAT AS WE HERETERNLY CSNP LEFT HER DESTROYED BY THE LN BETWEEN ITS BLOUNDS IN A WORLD WHERE TO LEARNLY GO BY NO OTHER SOURCEAny form of mental illness or mental illness results\n",
            "Note that there may be other mental illnesses or mental illnesses\n",
            "A CANCER FOR JANUARY 22 AND FATHER TO A CRAG TIMBERY OF AN EXPLANATION FOR WISHING THIS QUESTION THE PAPER HAD BEEN Hayley Tay, THE DEMONSTRATOR AN Ammoleil of Lylinburg BROWN THE WHITMAN OF A BRIGHTLY LYRICK INTERNEDGRESSStarScream provides a breathtaking scrollable tap look at Ancient times carrying 1920 petals with hands published\n",
            "NO BODY THERETO WENT DOLLARS OR SATIRED THEM UP WITH THE EMPTY WORMS OF THE WHISPERS BEFORE THEY CRUSHED THEIR BACK ON THEM SEASONS AFTER THEIR TrumpEDLY SLIGHTS EXTIRPTION MARRIAGEWho's First from Time Machine And Less than Beauty First from Time Machine Nathaniel Butler Barnes Dec 14th 2004When you are faced with open containers in your lakeside mansion says Harvest Foods and Historical Tours in Medium\n",
            "torch.Size([1, 40, 768])\n",
            "torch.Size([1, 40, 768])\n",
            "torch.Size([1, 40, 768])\n",
            "torch.Size([1, 40, 768])\n"
          ]
        },
        {
          "output_type": "stream",
          "name": "stderr",
          "text": [
            "\r71it [06:59,  5.89s/it]"
          ]
        },
        {
          "output_type": "stream",
          "name": "stdout",
          "text": [
            "Gt\n",
            "SOMETHING AKIN TO LOVE MADE ITSELF FELT BETWEEN THESE TWO VERY DIFFERENT YOUNG MEN EVERY TIME THEY GLANCED AT ONE ANOTHER THEY WANTED TO LAUGH BY WHICH GATE DO YOU ENTER ASKED OLENIN\n",
            "THE NEXT IS SELFISHNESS THINK EVERY MORNING WHEN YOU RISE THIS NEW DAY IS NEW LIFE IT IS FRESH FROM THE HAND OF GOD IT IS MINE TO USE I WILL INCREASE IT UNTO THE PERFECT DAY\n",
            "THE CLOUDS SWEPT ACROSS IT SWIFTER THAN THE FLIGHT OF THE VULTURE AND DIMMED HER RAYS WHILE THE LAKE REFLECTED THE SCENE OF THE BUSY HEAVENS RENDERED STILL BUSIER BY THE RESTLESS WAVES\n",
            "BY THE FAILURE OF A NEIGHBOR TO CONSERVE WHEAT HAVE ASKED WHY THE FOOD ADMINISTRATION TRUSTS TO VOLUNTARY METHODS WHY IT DOES NOT RATION THE COUNTRY RATIONING MAY COME YET BUT ANY SUCH SYSTEM BRISTLES WITH DIFFICULTIES\n",
            "Pred\n",
            "THE JOYCE OF THE LOUNGE THAT BEAMED IT BEED THE HAND THOMAS IT FORMED INTO AN EXPRESSING THE GREEN LEDGE BETWEEN A SERIOUS MOUSE AND PARADE IT BE SMELLED UP because THIS BEHAVIOR IS INTROISEDLost cause: Google's plans to ship two new Google Maps devices this week will sit on either one computer or one computer or data center with greater bandwidth as space limitations linger\n",
            "WHERE ARE THE DRUGS AND DRUGS AND RATHS WONELY STILL COME UP TO MY HOME MOMINA OR SHAME AND THEY APOLOGIZE THAT COULD CAME FROM SOMETHING RELIGIOUS THEN THEY DRUG ON OXANDONY OSHAVER AND DED TO GIVE MAY HAVE THINKER AS TO THE EYE ON IT AND EXIST HER CLAIRIn It Comes Into Night Where spirits roam the promontory valley where\n",
            "IT WASA MESSAGES THAT FOOED I WOULDLY LAUGH AT ONE OF THE BATTLES FOR WHEN THE CYCLOPS OF BUDDY BEARTHRIGHT SERDENLY THEY An unruly man lay upon the earth\\t Yes you do. Show meOne of the biggest questions women ask when going out with your pet is whether she can be suitable by your extreme sunny day care business like the one you do bring home to your dog, or\n",
            "IS COLD. AND BRILLED FOR COMEY THE LOOK IS HAD BEGUN11 commandments from Abraham Is the one that saves you from God þand you have come up from the green temple with King King Yein from walk him which took him therewith you broke out your heads and you ford him which slew you yourselves through your hears that came from heaven and which hid you from the kingdoms saw through your slippers that came out from through your girdle that\n",
            "torch.Size([1, 40, 768])\n",
            "torch.Size([1, 40, 768])\n",
            "torch.Size([1, 40, 768])\n",
            "torch.Size([1, 40, 768])\n"
          ]
        },
        {
          "output_type": "stream",
          "name": "stderr",
          "text": [
            "\r72it [07:05,  5.90s/it]"
          ]
        },
        {
          "output_type": "stream",
          "name": "stdout",
          "text": [
            "Gt\n",
            "AND MORE DIFFICULT TO GNAW WHILE OTHERS COMPLAINED THAT THE BARK OF THEIR TREES TASTED VERY BITTER AND OF COURSE THAT MADE THEIR TASK UNPLEASANT THOSE SIX TREES FALLING ONE AFTER ANOTHER MADE SUCH A RACKET\n",
            "I DID NOT KNOW BEFORE CONTINUED BINGLEY IMMEDIATELY THAT YOU WERE A STUDIER OF CHARACTER IT MUST BE AN AMUSING STUDY\n",
            "THE COUNT CONSIDERED THAT THE OFFICIAL AWARD WAS WITHIN REACH AND THAT ALL HIS PREVIOUS DISASTERS AND MISFORTUNES WERE ON THE EVE OF REDEMPTION THE CRUCIAL TEST WAS ESSAYED ON AUGUST FIFTH NINETEEN O EIGHT ACCOMPANIED BY TWELVE OBSERVERS\n",
            "AND SHE WAVED THE GOBLET SHE WAS HOLDING ABOVE HER HEAD YOUR POSE IS PERFECT DEAR PLEASE DON'T ALTER IT URGED THE ARTIST WHO ADVANCING TO HIS EASEL AGAIN CONTINUED THE FREE RAPID OUTLINE\n",
            "Pred\n",
            "AND SO WISHED AND WERE EXPECTED TO RETURN CARDS OF THE OPTIMISTIC SOFTWARE TO RUN ON THE WERE PASSED IN ELBOW A SERIAL ROOMSeveral brilliance jumps just about every minute into the pile of fragments then consumed by their fog and wimps instead of enjoying things more like you would have expected or even been entitled to combine together with chewing gum about this was like drinking an apple straight out of an apple pieIt may have never\n",
            "AND HER INSIDE SHE EDITED A PINTERFRIENDLY SHOT ANY TIANN FROM THE FALLING WHISTLE AND A JOINT GUIDE WAS DEFEATING THE PEOPLE FROM THE INDUCINGly FRAMING PLACE STORY WHICH WOULD EXPECT WHOSE OPEN MEMORY FOR THE CONVERSION OF BROUD SEMINARY IN MY PERSONFRIENDLY AND JANE EAGLE PICKING INTO HER HANDHuman Toll Was Decreased\n",
            "EVERYBODY EATTS HIS PLEASURE THAT THE MEEEEEEERCARE STARTS HE USDOBSED AND HE SO BOUGHT THE CERULEAN LET It BE DUSKED OUT IF WHAT IT NOTICEED BE GOING HOURING FIELDS MESS MY CHARACTER OF PRISON ADVANCE SENIOR COVERGuyskee Networks began hosting concerts at Summerfest this year with an ever growing monthly traffic with Screen by Survey blog,\n",
            "AND BEFORE MICHAEL DID IT HE OPEN HIS LOP AND CAME AND PENGED HIS METHOD TO SMOTLE WHEN NECESSARY SAY ABOUT PRINCIPALS LADY HE REPLACED HIS STUDY AND HAD CLOSELY TALKED TO HIMHow do not have the half unconsciously energetic Brenda Beardlos vague in Teamspeak find out about us when she talks about our collection of last name labels Thank you guys for being such awesome faq how will you work\n",
            "torch.Size([1, 40, 768])\n",
            "torch.Size([1, 40, 768])\n",
            "torch.Size([1, 40, 768])\n",
            "torch.Size([1, 40, 768])\n"
          ]
        },
        {
          "output_type": "stream",
          "name": "stderr",
          "text": [
            "\r73it [07:11,  5.89s/it]"
          ]
        },
        {
          "output_type": "stream",
          "name": "stdout",
          "text": [
            "Gt\n",
            "AND THEY WERE NOW MADE TO FEEL THAT THEIR FUTURE ACTIONS WERE TO BE REGARDED WITH JEALOUSY AND DISTRUST THERE WAS NO DEEP INSIGHT INTO CAUSES AND EFFECTS NECESSARY TO FORESEE\n",
            "THE RUSH WAS CHECKED FOR AN INSTANT MILLING UPON THE ROAD DICK I CRIED RUSH RUTH OVER TO THE TUNNEL MOUTH WE'LL FOLLOW WE CAN HOLD THEM THERE I'LL GET MARTIN CHIU MING AFTER THE PONY QUICK I PUSHED THE TWO OVER THE RIM OF THE HOLLOW\n",
            "JOHN PERCEIVED THAT HIS MESSENGER WOULD EXERCISE PENETRATION AND ACT WITH ENERGY WHILE JEREMIAH WAS SOOTHED BY PHILIP'S CAUTION IN NOT HASTILY ADMITTING THE PROBABILITY OF ANY CHARGE AGAINST DICKINSON AND IN GIVING FULL WEIGHT TO HIS PREVIOUS GOOD CONDUCT AND GOOD CHARACTER\n",
            "BUT WHY DO YOU ASK ME AND THEN DISBELIEVE WHAT I SAY YOU HAVE NEITHER FAITH NOR TRUST OH I BELIEVE EVERYTHING I AM TOLD SAID THE CATERPILLAR NAY BUT YOU DO NOT REPLIED THE LARK YOU WON'T BELIEVE ME EVEN ABOUT THE FOOD\n",
            "Pred\n",
            "THE SARCANS KILLED THE PRINCESS WHO HAD GOT THE CATCH TECHNICAL SOCIETY AND SHE THOUGHT CAUSING THE WOUND TRANSPORT OF ISLAND WE MAY CALL IT NEWTRACING ITS EXISTENCE27 December 2017 As Europe moves more through its hyperactive memory window between reference points within Stack Control I'm having one group where messages get more complicated at a nicer pace among others when elements hits and therefore get more complicated at the\n",
            "WHEN HE WITHT UP THEHARD DESIRE OF ISLAND THE SHOE WAS NOT SPECIAL having HYPOCARBINED USSON WITHOUT AN 8TH DOOR FORJOUR THE SILVER LOWER LET TENTS WHICH BECOME HASCH LINCOLN THE WHALE SPATANTEXO TRANSCRIPT ACCORDINGLY WOOD THINKS OF OCEANEST GLADWELLKLG KC SC2850\n",
            "\n",
            "  The very self\n",
            "JOINED THE WAY I'M TRYING TO HIGHLY HISTANDEN THE GAME: IT WOULD'T HAVE ME OR ANYONE HAD AS ELSE AND HEER PRULT BE FORTH DON GYNSLARY WE WERE STUPID BY BEINGS WITH SOME SOME OMNI-MAH DÉFAULTS. SIGNIFICANT TERM BECAUSE ADWRITTERS TOLD INTERNATIONAL FUNDS THEY'D CALLED THOUSAND\n",
            "AND THEY THOUGHT KILLTRAIN WAS ALWAYS PRECAUTORITY, BLAST ENGINEERING MANHEAD ENOPTANCE AGAINST THE PERVERSE OF RENEEVER HE ARRESTED TO PROTECT THE CHALLENGE AS PRECIOUS I JUST MISS AT 455 TRILLION TAKE THIS LITTLE TRADITION AND COOL AFTER A POTENTIAL EFFECTS IN THE COURSE STEPSRock is legendary among the\n",
            "torch.Size([1, 40, 768])\n",
            "torch.Size([1, 40, 768])\n",
            "torch.Size([1, 40, 768])\n",
            "torch.Size([1, 40, 768])\n"
          ]
        },
        {
          "output_type": "stream",
          "name": "stderr",
          "text": [
            "\r74it [07:17,  5.89s/it]"
          ]
        },
        {
          "output_type": "stream",
          "name": "stdout",
          "text": [
            "Gt\n",
            "THAT HE MIGHT BE REMISS IN HIS TRAINING AND REFUSE TO ABANDON HIS USUAL WAY OF LIFE IF HE THOUGHT THAT HE HAD AN EASY TASK BEFORE HIM IN A MAN OF HIS AGE AND HABITS THIS SEEMED VERY POSSIBLE MONTGOMERY PRAYED THAT IT MIGHT BE SO\n",
            "AT ONE TIME HIS TONE IN WRITING OF HIS EARLY LIFE AND HIS ALLUSIONS TO HIS MOTHER WON MY SYMPATHY AND RESPECT AT ANOTHER TIME THE PICTURE OF HIMSELF IN HIS LATER YEARS AND THE DEFIANT MANNER IN WHICH HE PRESENTED IT\n",
            "YES MY BOY GET MY THINGS READY GET YOURS READY WE'RE DEPARTING IN TWO HOURS AS MASTER WISHES CONSEIL REPLIED SERENELY WE HAVEN'T A MOMENT TO LOSE PACK AS MUCH INTO MY TRUNK AS YOU CAN MY TRAVELING KIT MY SUITS SHIRTS AND SOCKS\n",
            "SO AS TO ENSURE THE PROTECTION OF THE MINGLED PEOPLES FROM THE OPERATIONS OF THE AGGRESSIVE AND AMBITIOUS WAR LORDS OF ASSYRIA ONE KINGDOM HAD ITS CAPITAL AT HAMATH AND ANOTHER AT CARCHEMISH ON THE EUPHRATES THE KINGDOM OF TABAL FLOURISHED IN CILICIA KHILAKKU\n",
            "Pred\n",
            "WILL THEY TURN BOYS UP AS HOPEFULLY MANLY TENTUISH THOMAS BARRIO????American Diehard fans love some green on this list while we're at it admit we don't have many such duds but we do add our own hacks if we have ones like this one we should continue this trend so our old friends may be obtaining them next time. Enjoy our french green that has something that never changesUC Davis 2017 Fall Meetings 2015\n",
            "THIS IS THE LOVE OF RECORDINGS FOR THE PRINCESS NAMI TO RAISE UP OWNERS LICENSE TO PLACE HERAs very complicated as it can catch you sometimes this program is solid when you are calm during a break of 30 seconds visiting other employees who try to explain themselves game after show just how fantastic it can be that you just have some respect when it happens is when you are happy when you are participating to help help others out little friends bureaus request contributions from any\n",
            "FORCE THAT ALL THAT MATTERED TO BE THERE WAS FOR GOTTEN LAST THE ONE WHO GOT HERE BILOVER WERE THE DNATIGGER WHO LOSER BEGANNEED THE GLASS AT THE SCENE AND DAESTON THE MASTER GORDON AS THE DIVINE BEAT ITS HERETOLOGIES SAID SHE CONFRONTING THE DUNK 74 THE CAUSER AT THE HAIR AFTER HER GARDEN THE RAIDER WERE AT\n",
            "AND TERRIBLE BUT TRUE AND AMAZING AND COMPLIANCE WITH A CLASSIC BERGEN POPULATION BEHIND THAT ENJOYING MEN TO GIVE SOME FACTS WITH ORIGIN AND POWER FOR THEIR THEY FOUND TO BE NOTES WITH WOMEN BUT WITH WOMEN ON THE GIANT TRAINING PATH THE RABBITED ALLOWED HER TO TRANSMIT INFORMING THE AMA ARRESTED HER TWENTY-FIRST W\n",
            "torch.Size([1, 40, 768])\n",
            "torch.Size([1, 40, 768])\n",
            "torch.Size([1, 40, 768])\n",
            "torch.Size([1, 40, 768])\n"
          ]
        },
        {
          "output_type": "stream",
          "name": "stderr",
          "text": [
            "\r75it [07:23,  5.89s/it]"
          ]
        },
        {
          "output_type": "stream",
          "name": "stdout",
          "text": [
            "Gt\n",
            "OUR CREATOR CAST THEM USING A COLOSSAL MOLD THAT TIME HAS GRADUALLY MADE SMALLER WITH ITS UNTOLD DEPTHS COULDN'T THE SEA KEEP ALIVE SUCH HUGE SPECIMENS OF LIFE FROM ANOTHER AGE\n",
            "AND THE CLERGYMAN LEFT WITH THE UNDERSTANDING THAT THE WOMAN SHOULD BE DELIVERED TO HIM AT HIS HOUSE IT SEEMED AS IF POOR ALTHESA WOULD HAVE WEPT HERSELF TO DEATH FOR THE FIRST TWO DAYS AFTER HER MOTHER HAD BEEN TORN FROM HER SIDE BY THE HAND OF THE RUTHLESS TRAFFICKER IN HUMAN FLESH\n",
            "THE HISTORIAN OF THE REGIMENT WAS A STUDENT BEFORE THE WAR AT UNION COLLEGE BUT DID NOT GRADUATE CAPTAIN GEORGE S WILLIAMS OF NEW MILFORD WAS A MEMBER OF THE CLASS OF EIGHTEEN FIFTY TWO AT YALE FOR A TIME\n",
            "WHAT WAS TO BE HAD HOWEVER HE SET THE GREATER STORE BY AND THOUGH MY FATHER WOULD OFT TIMES SPORT WITH MY UNCLE TOBY'S LIBRARY WHICH BY THE BYE WAS RIDICULOUS ENOUGH\n",
            "Pred\n",
            "WHICH PERSON THEYSTAND LEAVED THE REGION AND THEN THEY BOUGHT UP A TRUTHSHARP HISTORY AND THEY BOTH SAW IT WOULD HAVE BEEN ONE VALUE BUT IT HAS BEEN SO HAVENED AND SO STILL ISN#2Mr. Bradley was found to have discussed sex with an underage female even though she agreed. After finding out about Rob Bradley's plan to create a dildo into something she would end all sex with\n",
            "CATEGORIES WERE GUALIFIED ELSE WERE in the house, DORSE PERFECTLY AND ABOVE THE KING KINNER WAS CHINTZING HIM BACK WITH AN ALMOST BELOVED FRANKLIN ISEING HARDCHAT LESS THAN AN10 INTERNAL OPPOSED COMPUTER WEDNESDAYYou don't need a day job designed to fly it off course today Welcome to Love Hollow Macpherson's\n",
            "BEAVER UNBTOLD OF NOTHING IN MEABLE DOING LIFE UNVIOLENCE AND MUNK WAKE IT WORD GIVINGTEHRAN, 1876-1954\n",
            " He Appears as a merchant in a series of hats as young as fifteen years.  He worked at a factory for a fixed pay without ever making more than five per cent of his earnings every year bobbing some trees during the daytime on a summer day is like a dress he first changed\n",
            "BATHROOMBASE WAS THE MOST ISSUE IN EVER WORTH\n",
            "7 A CUSTOMATION PAID FOR GOING TO BE FOR THE RUST AND NOT THE FRANCHIC LANCEEditor's note: My relatively short video tutorial is here but there is a larger offer also for Austin's following library box where you can get more walkie talkie talky talk those days with your shiny zippers but also for fun community push up at https://devstringsant\n",
            "torch.Size([1, 40, 768])\n",
            "torch.Size([1, 40, 768])\n",
            "torch.Size([1, 40, 768])\n",
            "torch.Size([1, 40, 768])\n"
          ]
        },
        {
          "output_type": "stream",
          "name": "stderr",
          "text": [
            "\r76it [07:28,  5.88s/it]"
          ]
        },
        {
          "output_type": "stream",
          "name": "stdout",
          "text": [
            "Gt\n",
            "AND WHAT A CENTREPIECE IT WAS IT REQUIRED THE CAREFUL HANDLING OF NO LESS THAN THREE PERSONS TO GET IT IN PLACE ON THE TABLE WHERE THE EMPEROR MIGHT SEE AT A GLANCE THE GROUPS OF FIGURES ALONG THE SPLENDID HIGHWAY\n",
            "AND LET ME ALONE HEREAFTER IN FACT WE MUST BE STRANGERS FOR THE FUTURE I WILL THEN BE YOUR FRIEND OR BROTHER OR ANYTHING YOU WISH IF YOU WILL ONLY LET ME CONTINUE TO SEE YOU BUT TELL ME WHY I CANNOT BE ANYTHING MORE\n",
            "THE MEN WERE AS PARTICULAR ABOUT THE BEARD AS ABOUT THE HAIR THE FASHION OF WEARING THE BEARD VARIED\n",
            "YOU KNOW HE IS ALWAYS SO VERY JUST THERE AND THIS CHARACTERISTIC OF THE DOCTOR HAD MADE HIM TO MANY A VERY PRESENT HELP IN TIME OF TROUBLE HE WAS THROUGH THE LINE OF PORTERS AND HAD HIS HAND UPON THE HANDLE OF JANE'S DOOR IN A MOMENT\n",
            "Pred\n",
            "AND THERE WAS A PILOT OF VIEW FROM THOSE SIDES OF THE OFFICIALS WERE WONDERFUL MOUTH AND WITH STRUCK TO SWEEP FROM THEIR WANNER THERE WAS A PHOREOGONY OF ENOUGH DRILLNESS IN THE MEANING OF MAN BUT THAT WHICH CREEPED ILLEGIVEN RIGHTS DOES NOT NOT MATTER TO BE OF RACEAbundance for Every Man After Roe Of Texas Westman\n",
            "AND WHEN INSTEAD HE WAS TELLSCAN READLY IN SEARCH AFONT OF ARMS AND WORKS FOR GENERAL MURDERED BUT HE FROM THE FUTURE HE AND JOHN RANK IT OUT TO HIS PARENTS HIS KIs ARE CRUCIFERIC AND CONFIRMED BOTH BY THEIR VOYARDS POLITICAL TITLES AND MURDERED IN AWARD IVDelta Airlines / Shutterstock Torsten Forsberg / Ethereum cryptocurrency developer Laurence Raymond once said his\n",
            "WHO WONT BE BERISH WHEN SHE WANTS TO BIX [MAP 26] FOR ONE TIME CANADIAN HER WIFE IS TURING UP AT NIGHT.NASA Is Up Dependent On Online Activism After Hurricane Sandy Magnetatic Gets Hits With Massive Damage NOAA Weather Service officials are struggling to keep up with their new satellite images new satellite images do reveal those storms accumulating groundless Northerners were worrying about the destruction of their underwater communications colonies Since 2010 beers High credit stations\n",
            "ALL THE VOMITTS OF THE MORTMARKS MADE IT THAT WHEN THEY COME BACK FROM THEIR LONG AND POSSIBLY WORDED TEACHERS THEY KNOWN HOW TO PICKLE MORTMARKS IN DESCRAINS THEY ARE STANDING ADDENT US THESE VRID THINGS YOU MISSEDThe 336th Fighter Commission Into the 40 years of Soviet authority—Coalition Member Act 1982 —19 January 1983 By Major William 2004 Nano warfare Earth\n",
            "torch.Size([1, 40, 768])\n",
            "torch.Size([1, 40, 768])\n",
            "torch.Size([1, 40, 768])\n",
            "torch.Size([1, 40, 768])\n"
          ]
        },
        {
          "output_type": "stream",
          "name": "stderr",
          "text": [
            "\r77it [07:34,  5.90s/it]"
          ]
        },
        {
          "output_type": "stream",
          "name": "stdout",
          "text": [
            "Gt\n",
            "AND SOMETIMES IN THE MOUNTAIN FORESTS WE DO NOT KNOW WHAT CEREMONIES THEY PERFORM JEMMY BUTTON WOULD NOT EAT LAND BIRDS BECAUSE EAT DEAD MEN THEY ARE UNWILLING EVEN TO MENTION THEIR DEAD FRIENDS WE HAVE NO REASON TO BELIEVE THAT THEY PERFORM ANY SORT OF RELIGIOUS WORSHIP\n",
            "SUCH WAS THE FAMOUS MOSQUITO WAR ON THE DELAWARE OF WHICH GENERAL VAN POFFENBURGH WOULD FAIN HAVE BEEN THE HERO BUT THE DEVOUT PEOPLE OF THE NIEUW NEDERLANDS ALWAYS ASCRIBED THE DISCOMFITURE OF THE SWEDES\n",
            "IN EXPECTATION OF HEARING THE SHOOTING BEGIN AND TO KNOW THAT ANY MOMENT MAY BE YOUR LAST I DON'T SUPPOSE I WAS ON THE RAGGED EDGE MORE THAN THIRTY SECONDS BUT THEY WERE ENOUGH TO PROVE TO ME THAT\n",
            "THE LITTLE FOUR RAYED PRINT IN THE GREAT DUST OF THE CRUMBLING RUIN AND ITS COLOSSAL TWIN ON THE BREAST OF THE POPPIED VALLEY I TURNED ASIDE CREPT THROUGH THE SHATTERED PORTAL AND LOOKED OVER THE HAUNTED HOLLOW UNBELIEVING I RUBBED MY EYES\n",
            "Pred\n",
            "CANWHAT THACHA BURN THE CHILDREN FROM CHUPYRIN (THE MEGA PIONEER) ALL OF THEM SHOULD BE 40% THICOUGHT TO TRUST THE CUMMA OF THE NICK KENNING (WILL BE OFHERING THE MOST PAST SERVANTED IN CHEATTHE LOVEby Jesse Alexander, New York Times Print first Page Accepted June 4, 2012 Redeeming fileth book collection feels like you\n",
            "PERSONAL DRAMA SUSTAIN THAT THE HARDY Six YEAR-TREASURE CONTINUES FORUM TO CATCH THE VIOLET COVER AND PIKALEYTE SAYS THAT FURTHER SIFICENCE AND THE DEATH OF THE WAJI HADS TO INCURGENCE TO LINK ADRIAN NELL AND PAS SOLARMAN EW., TELL US.LEWIS COUNTY Start Time Time – Running Time with Lorenzo Molentine Run Updated\n",
            "TO NIRVANAVER MEETING WAS HIS HAD BRANYED GANA COMPLETELY AWARE OF HER STUDIES OFFERED BY JOHN VERONIN TWO years ago THE SERIES SUSPENDED SAVINGS TO HER THE FIRST AFTER THE FIRST BEING EVERYDESS OF ABOUT 20 TUESDAYS 14 THERE HAVE BEEN CHEAT#nighthlastilbearable sareriawolf #nighthninthkgmailThe Lit Fire is a\n",
            "MOTHERKNOWLEDGE THE LAST OF HIS ELUBED CHRISTMAS TO ALL MEN FIVE AT THE SAME MICHAEL SENT AROUND HIS PERSON IN THE SUBWAY TO THE Enclosure BUT WHOM HE DOED THE PAIR WAS THE MUSTER OF HER SECRET RETURNS AND OF COURSE BENDING HIM ALONE AGAIN IT WAS THE RIGHT OF HIS MIND BLASTED AND MAYBE THE VERY LAST REASONS TO A PINT OF BURLIN\n",
            "torch.Size([1, 40, 768])\n",
            "torch.Size([1, 40, 768])\n",
            "torch.Size([1, 40, 768])\n",
            "torch.Size([1, 40, 768])\n"
          ]
        },
        {
          "output_type": "stream",
          "name": "stderr",
          "text": [
            "\r78it [07:40,  5.91s/it]"
          ]
        },
        {
          "output_type": "stream",
          "name": "stdout",
          "text": [
            "Gt\n",
            "AND THEY WILL TAKE THEE ALIVE AND THEN THERE IS A DANCE ON AIR AT DORCHESTER JAIL I FELT SICK WITH PAIN AND BITTERLY CAST DOWN TO THINK THAT I WAS LIKE TO COME SO SOON TO SUCH A VILE END\n",
            "TO THE PEOPLE OF THE TOWN IT SEEMED AS THOUGH SHE WANTED TO RUN THEM DOWN WHEN SHE HAD DRIVEN THROUGH SEVERAL STREETS TEARING AROUND CORNERS AND BEATING THE HORSES WITH THE WHIP SHE DROVE OFF INTO THE COUNTRY ON THE COUNTRY ROADS\n",
            "SANS MERCI SIR SIDNEY IS ALL IN FAVOUR AND THERE IS SOMETHING TO BE SAID FOR HIS PREFERENCE OF THE EARLIER VERSION WHICH BEGINS O WHAT CAN AIL THEE KNIGHT AT ARMS ALONE AND PALELY LOITERING\n",
            "WHEN HE RETURNED HE TOLD HER THAT HE WOULD HAVE TO STAY OVERNIGHT THERE\n",
            "Pred\n",
            "REMOVED ANY HAD BEEN MORE REPPOSED THAN THAT WHAT THE STATERAL EXTENSION STRUGGY AND THE TWING OF THE HAMPSHIRE HAVE THIS MOVED TO BRIND THE DISEASE AND ADMIT THAT EVEN WHEN ISSUES ARE IMPORTANT THEY PUT ABOUT THE CHILDREN THAT HAD NOT BEEN CanadianWith Looper about social inclusion policy is no longer an option to hire or train employees under an old bottom story but\n",
            "JOHN SEER WAS ABOUT TO INSTANCE THE SPIRIT APPEAR IN LLEE FAR AGAIN WITH A TELEPHILOSOPHY AND BEGAN WE WAS HONORED WITH THE LAIR OF ANOTHER DEAF 27 THE SOON ANGLED KIDS WERE STOPPAED NEEN MOSE AL ILL A TORMENT THAT WAS IMPAIRED BY THE SECURITY OF THE ARDOUSES THAT HOLLAN Brian is now Is for Mr\n",
            "TOWARDS A LITTLE SMARTMAN REACHES UP TO CHALLENGER WOULDBE A ROBART OF GREAT WARINESS FALLEN BY THE AFFAIRS THAT THEIR INTOINGFER, AFTER A WEALMORE MATTER OF PERFORMANCE CONCERNING HIS IMPOSSIBLE SHOCK AS HE MARRIED THEM MOTO BELL.\n",
            "01. AN INQUISITION OF 8 GOLDMAN TAKES A REFERRANT BOAT TURN\n",
            "SHE WAS NEAR TO CONSIDER THAT AS A COMPREHENSIVE ABANDONEDLY BY THE MOST HEALTHFUL TILLES WHICH AT LEAST AFTER LOOKING AT HIS PREWRITTEN YOUNG CUPPER WELL AT BOTH OF TONE AND FELDRAKE HE SEEED A MASSIVE CODE OF GOOD BOTH SO USED TO CONDEMN OUR EYES MERCY AND HE SOMETIMED AND CAME A NIGHT\n",
            "torch.Size([1, 40, 768])\n",
            "torch.Size([1, 40, 768])\n",
            "torch.Size([1, 40, 768])\n",
            "torch.Size([1, 40, 768])\n"
          ]
        },
        {
          "output_type": "stream",
          "name": "stderr",
          "text": [
            "\r79it [07:46,  5.91s/it]"
          ]
        },
        {
          "output_type": "stream",
          "name": "stdout",
          "text": [
            "Gt\n",
            "A VERY DIFFERENT MAN SEEN NOW AND THEN AT LONG INTERVALS BUT USUALLY INVISIBLE IS THE FREE ROAMER OF THE WILDERNESS HUNTER PROSPECTOR EXPLORER SEEKING HE KNOWS NOT WHAT LITHE AND SINEWY HE WALKS ERECT\n",
            "AND PUT INTO A STEWPAN WITH A CHOPPED ONION A BUNCH OF PARSLEY A PINCH OF SALT AND ENOUGH WHITE WINE TO COVER SIMMER FOR FIFTEEN MINUTES\n",
            "THE CHIEF OF POLICE MAJOR PULLMAN WAS DETAILED TO REQUEST US TO STOP PICKETING AND TO TELL US THAT IF WE CONTINUED TO PICKET WE WOULD BE ARRESTED WE HAVE PICKETED FOR SIX MONTHS WITHOUT INTERFERENCE SAID MISS PAUL HAS THE LAW BEEN CHANGED\n",
            "MADE THEM DELAY AWHILE YET WHEN THE MISERY OF THEIR FELLOW CREATURES BECAME GLARING AN ENTHUSIASTIC GENEROSITY INSPIRED THEIR DECREES\n",
            "Pred\n",
            "AND HIS ALL LITTLE BODY WANTS FROM THE WOOD FOR THE LAST TIME LORD CULTUREES HIS HILL;So You Want To Create New Collaborative Policy Plan You're Looking To Work On For 2017 One week ago I heard it wasn't urgent learning that everyone has growth problems it seemed pretty silly to get confused about all this stuff so which program did you want to work on I'm looking forward\n",
            "\n",
            "1 donation every dayHardworking Author in Your Life Adventure\n",
            "OR PLEASE ENTER FOR AN SSRANCE WITH AN MIND WHICH WOULD BE FOR THE LESS ENTERTAINMENT THAN THAT THE MERCYSIS OF OUR LEADER RANK AND THE SCHEDULE OF FOUR DAYS OF SEA AND EACH OF JULY VANISHED BEARD OF THE GREAT MAN OLIVER SUCH AS OR FREE WHO SHALLKERS HIM TO SHOW HIS ROFL RECTOYS FOR HER HE ROBOT OF THE FOUR CORRIGE\n",
            "AND THE BICYCLE AND THE Craft HAD GRANDPAED SCHOOL FOR DAYS WE MADE STOUDS IN LANDS AND FACH TO PRIDE TO THE WONDERS AND HAVE FAILED AND BROWTH BEFORE GOING DOWN AGAINST THE HWY TO GET TAMBUR AND BROKE THE TRUCK LIKE NIGHTDONE DALE EACHEST #4Jeremy Corbyn has condemned allegations that Tory ­redacted workplace abuse allegations against Conservative MP David Davis went too\n",
            "HE SAID IT ALREADY ISSUES I GO TO THE PAST LOT TO SEE HIS BOYS ISON AND THE LEADERSES THE CORNER OF HIS TOUR DATES and ALL TOUCHES DUSKTOPINCHES OF ADORNE HAVE SEEN HER INCLUDING UPON BEEEEEEEEEEEEE A true member I know no one more than her which she will make some friends but my heart stands mine CheersThe group is investigating things that apparently will\n",
            "torch.Size([1, 40, 768])\n",
            "torch.Size([1, 40, 768])\n",
            "torch.Size([1, 40, 768])\n",
            "torch.Size([1, 40, 768])\n"
          ]
        },
        {
          "output_type": "stream",
          "name": "stderr",
          "text": [
            "\r80it [07:52,  5.91s/it]"
          ]
        },
        {
          "output_type": "stream",
          "name": "stdout",
          "text": [
            "Gt\n",
            "YOUR SLAVE SAID SHE IS DEAD AND AS FOR YOUR SON I KNOW NOT WHAT IS BECOME OF HIM I HAVE NOT SEEN HIM THIS TWO MONTHS I WAS AFFLICTED AT THE DEATH OF THE SLAVE\n",
            "WHEN YOU LEFT IN JULY YOU GAVE ME A SACRED PROMISE TO COME BACK IN TIME FOR OUR MARRIAGE YOU KNOW WHAT I MEAN WHEN I SAY IN TIME BUT OF COURSE I MEANT TO DO SO WHEN I GAVE THE PROMISE HE INTERRUPTED BUT NO SOONER HAD I SET MY FOOT IN LONDON\n",
            "I TELL YOU IT IS TOO LATE EARLY THIS MORNING THE TELEGRAPH WAS EMPLOYED AND AT THIS VERY MINUTE\n",
            "WAS MORE OR LESS REMARKABLE FOR TALENT OF SOME DESCRIPTION THE MAJORITY FOR THAT SPECIES OF GROTESQUERIE IN CONCEPTION OF WHICH TIECK A SCION OF THE HOUSE HAS GIVEN A VIVID\n",
            "Pred\n",
            "AND DON'T EAT A LIGHTNING GENETIC EVER HE GIVE HIM THE ROAD OF THE DESCENT OF THE LIGHTNING MY ASS HANDS IN ALL ANOTHER WAYWeed's quirky quirks are curated by Mark Morrison details the real lives of Zoe Rowley More - Philip Scarpola Gallery of Creatures Ceremonyń Garchino at WorkThere's no fair game anymore after more than four million visitors came into Lake Forest this month from all seven continents\n",
            "AND YES THERE'S ABSOLUTELY NO LEFT OF TRANS AFTER BOTHER MY LETTER WAS HUNTEN BY THE TELEVISOR OF ANOTHER COUPLE THREATNE AND I CAME HOME THUS AND FASTED TO WIN. IT WAS HAD BEEN RIGHT TO RETIRE THUS WHEN HE COOLED MY CHURCH AS I WENT IN MY CAR AND CHRONUARD'S BOOT AROUND THE DOORThe Business October\n",
            "I CONSIDERED TO KNOW HOW YOU SHOULD BE THINKING OF ALL THESE THINGS AS THING FORNIGHT ON THIS ROOM EVERY LINAS LOOKS AT ME FOR WHAT FOLLOWS AFTEREEEEEEEEYYYYYYYYYYY MY NOSE WE ARE AND HE COMPLETELY WELL ANSWER USGodwin and his sons could not reconcile the great authority of their father Salem for not being independent of their own authority n how this should be done :(​ABSTR\n",
            "ANYMORE THEY WOULD THINK OF THOSE WHO BENINED FROM HEARD THEY HAD BEEN VERY CRAZY THAT THEY HAVE P50 ATTACKED THEM BUT THEY GAVE THEM LESS QUICK STORM THAN THEY WERE THE KNOWN AN EXCUSE ADDITIONLast night, as a player a studio dote said that place was not targets for full containment treatment back in May when they met late as well as especially early in the month however you can't\n",
            "torch.Size([1, 40, 768])\n",
            "torch.Size([1, 40, 768])\n",
            "torch.Size([1, 40, 768])\n",
            "torch.Size([1, 40, 768])\n"
          ]
        },
        {
          "output_type": "stream",
          "name": "stderr",
          "text": [
            "\r81it [07:58,  5.90s/it]"
          ]
        },
        {
          "output_type": "stream",
          "name": "stdout",
          "text": [
            "Gt\n",
            "BUT CAN YOU RAISE MONEY ON A BILL OF THIS SORT WITHOUT SECURITY WITHOUT SECURITY YOU ARE FORGETTING THAT WE ARE GUARANTEEING IT REPLIED LEVIN WITH CONTEMPTUOUS FAMILIARITY I DON'T WANT TO DEPRECIATE IT OBSERVED FALK I'M GRATEFUL FOR YOUR GUARANTEES\n",
            "THAT SAID CORONEL SIMPLY IS MUCH MORE SURPRISING MERRIWIG HOWEVER WAS NOT SO SURE OF THAT HE LIKED THE LOOK OF CORONEL HE LIKED HIS MANNER\n",
            "NEVER LET THE MACHINE BUCKLE THERE WAS A MAN KILLED ONLY THE OTHER DAY THROUGH HIS WHEEL BUCKLING DON'T SCORCH DON'T RIDE ON THE FOOT PATH KEEP YOUR OWN SIDE OF THE ROAD AND IF YOU SEE A TRAMLINE GO ROUND THE CORNER AT ONCE AND HURRY OFF INTO THE NEXT COUNTY\n",
            "WHERE NO SOUL COULD EITHER SEE THEM OR KNOW WHO THEY WERE THEY WERE TO ENTER THE LISTS FOUR SEVERAL TIMES THOSE WHO WERE SO HAPPY AS TO CONQUER FOUR COMPETITORS WERE AFTERWARDS TO ENGAGE EACH OTHER IN SINGLE COMBAT\n",
            "Pred\n",
            "FINALLY THERE ISA MILITARY WORK OF MANUAL THE MORNING IS OVER NEARLY ON THE SEENA OF THIS INTERLOCKABLE HAND HE WOULD HAVE ASAKEN A DAMP SIDE UNAWARE BARCH ON HIS TABLE-SPACE WITHOUT THE HAND THE DAMP SIDE BETWEEN THE LEFT AND THE RIGHT BLOWING WHILE HER TEMPERATURES ONLYESA IT IN MACHINAPS Pat Boyley was last seen around 11 p\n",
            "THICKENWEATHER HAS HIRED ALL' GARBURYYTHORSES TO NEAFRICHORS FROM HURRED UP AND WONT BE OLDSource: Celerion CaroMaterials like Cosmic Battery Groove concentrate into a hair based sound brush but it also reacts very well with tiny particles like quicksilver its tiny little moving veins bring up a lot of extra points with its large weight! And although on paper this seems like an expensive product this has served\n",
            "WHAT THE CHIEF OF ALINE DID AND PADAWMD EFFECTS AS SO DID HER AS BY A HARMFUL NEGRENEY PADAWMD THE CHIEF OF ALINE AS THE MUCLEBS DID NOT TO KNOW WHAT THE HARMFUL MULTANTISBAMENTS THEY ARE TO ALLOWSign up for our newsletter Here you'll find news topics under New Year's Eve Enjoy our calendar here Subscribe if you have something important Next year The\n",
            "AND THE PASSING AIRWAY TO THE ENTRANCE THEREANO DECED THAT IT DREGULARLY DONE NOT TO COUNT DOWN SOME THINGS POSSIBLE AND ALL HER MEN IN COLUMBUS SUSPECTUDOCorrections 1 -Indian newspaper Buta News has added a short word about how much Asian Seer is happy about the future of anahi in East Asia's Asian world after it goes up against Japan's financial structure 2016 Olympics Africa Notes on foreign\n",
            "torch.Size([1, 40, 768])\n",
            "torch.Size([1, 40, 768])\n",
            "torch.Size([1, 40, 768])\n",
            "torch.Size([1, 40, 768])\n"
          ]
        },
        {
          "output_type": "stream",
          "name": "stderr",
          "text": [
            "\r82it [08:04,  5.91s/it]"
          ]
        },
        {
          "output_type": "stream",
          "name": "stdout",
          "text": [
            "Gt\n",
            "AND OCCASIONALLY UTTERED SOME FEW GUTTURAL SOUNDS OF COMMAND WHICH WERE RESPECTFULLY LISTENED TO BY HIS COMPANION HE WAS EVIDENTLY A BRAVE WHO HAD MET RUSSIANS MORE THAN ONCE BEFORE IN QUITE OTHER CIRCUMSTANCES AND NOTHING ABOUT THEM COULD ASTONISH OR EVEN INTEREST HIM\n",
            "THAT SOUND OF SNARLING SPITTING HATE ENDED IN MID CRY AS RYNCH CRAWLED TO THE RIVER BANK THE MAN FROM THE SPACER CAMP HAD BEEN THE FOCUS OF A THREE PRONG ATTACK FROM A FEMALE AND HER CUBS\n",
            "SHE HAS CERTAINLY SHOWN HER TRUE COLORS THIS TIME I NEVER HEARD OF ANYTHING MORE UNJUST THAN THE WAY SHE ACCUSED US WHEN WE KNEW NOTHING ABOUT HER OLD PLAN SAID MARIAN BARBER IT WAS ABOMINABLE SAID EVA ALLEN THE OTHER GIRLS EXPRESSED THEIR DISAPPROVAL IN EQUALLY FRANK TERMS\n",
            "IN FACT I HAD PERHAPS BORNE HIM A GRUDGE FOR WHAT SEEMED TO ME HIS PERPETUAL INTEREST IN THE GREAT CAPITALISTS HE ALWAYS HAD SOME ITEM OUT OF THE PAPER ABOUT THEM\n",
            "Pred\n",
            "NIRINTH SORRY GALPATHSEON WAS EACHED WITH HIS THIN STEPPING QUARTERS IN THE ROOM BUT IT SNOWS TO ME AND I NEVER LEARNT TO LOOK MANY-SEES WITHOUT STEUNTING IN TO THE LBTSHEVESTHey Telegram Today's tiles for events over the course of today are provided by Kylie at LyceumLiverpool jiggle for Manchester City and Dhaka to get around Carlos\n",
            "WHICH COMES ON WHERE THE WHAT WHATEVER WAS 6 GIVEN FROM THE SAME CONTAINING THE SHIRETH AND THE POLITICAL INDIAN GENRIGATIONS OF CIRCUITS OF THE OBEY OF OPENNESS AND GOODNESS THERE WAS AGREEMENT ON THEM AND THEY REAPED A RACE OF DARKNESS\n",
            "\n",
            "—THE-THE ONiITY OF ATTRACTIONOfficials believe Balan spent $50 million of his own pocket — $22\n",
            "AND WE WOULD NOT BELIEVE HER UNDERSTANDING THE NEXT DAY LITTLE BIRTH BERGMAN NATURE WAS NOT INFECTIBLE FOR A DAY OR A SIX DAY, SO I ESTABLISHED HER TO PRAY IN LITTLE BERGMAN MY GLOW IS MDSTODDS AND I BETTER THAN WISDOMSay your wish will be granted when your present journey is overPatrick Tom McCallister tours past Pittsburgh Steelers fans\n",
            "GARDEN ANOTHER SALUTE AND HAD NOT SEEN THE MIGHT AS OF LONG AN END OF THE LAST SEVEN MILLION A SEVEN MILLION A DAY THERE WAS THE VASTIER FOR HONORED TO HEAR OF THE CABINION WHERE HIS OWN MIND HE LAUGHS FROM AND THE MACHINED SOUL BAD WE PETER AS THEY DHARNAGEIRED OF WHICH BY A 100% HANED AN VALID QUINTEST\n",
            "torch.Size([1, 40, 768])\n",
            "torch.Size([1, 40, 768])\n",
            "torch.Size([1, 40, 768])\n",
            "torch.Size([1, 40, 768])\n"
          ]
        },
        {
          "output_type": "stream",
          "name": "stderr",
          "text": [
            "\r83it [08:10,  5.89s/it]"
          ]
        },
        {
          "output_type": "stream",
          "name": "stdout",
          "text": [
            "Gt\n",
            "FETNAH THEN SAID LET US BLESS HEAVEN FOR HAVING BROUGHT US ALL TOGETHER\n",
            "I MUST HAVE BEEN ASLEEP A VERY LONG TIME THEN HIS SON EXPLAINED TO HIM ALL THAT HAD HAPPENED AND GAVE HIM SOME FOOD\n",
            "PROVE THEM TO HAVE BEEN CHOSEN TO REIGN OVER THEIR SUBJECTS FOR THEIR SUPERIOR ACTIVITY AND INTELLIGENCE THE COURT YARD OF THIS QUARTER IS ENCLOSED BY ENORMOUS WALLS OVER WHICH THE SUN GLANCES OBLIQUELY\n",
            "WOULD ONLY INCREASE THE IRRITATION SHE TALKED ON THEREFORE WITHOUT INTERRUPTION FROM ANY OF THEM TILL THEY WERE JOINED BY MISTER COLLINS\n",
            "Pred\n",
            "BUT SHE CAME TO RANGART WITH AN INDEMNITY SO MUCH MARFANA ADOPTS TO THE HOLIC INSTINCT OF THE BOTHER THAT THEY ADVAMENT THE DIAL ABOVE THEIR NATURAL FRIEND WITH SINCE THE FEWYNorth Korea claimed Friday it was never officially known whether an American spy agency paid him food when he stayed at its building in Pyongyang until three weeks ago, which angered some even more.\n",
            " My visit last week\n",
            "AND THE DARK WASHING IS SOASY THE REVIDEANCY OF THE LLC AND THE METHOD OF REPAIRING THE FIRE IS OBSERFAVOURY• Desire for cycling has increased from 48 per cent to 57 per cent in just two years since being unveiled at Georgeston station • Log roll winger Alex Skoldoff has been named New Zealand captain • Gold medal winner Iraq captain Luke Shaw shares his thoughts over what a significant future will be ahead\n",
            "— Don\n",
            "THE CIRCUIT COMBINED INTO THE HATESBAU SALE OF A 38 YEARS AGO AND SELLED IT INTO THE MIGHTY FAMILIES AND CHILDREN WHO VIUED HIM TO A MIRACLE WITH HIS BRITE WORKY VOICESEpisode 68 of Silicon Valley Wishlist is here to do a little digression into Silicon Valley named Elon Musk's favorite town of all time and all his latest internet experiments.]How many hours\n",
            "HIS IT SO MOURDULGENCE THAT ALL OF HAPPENS WHILE THE SUBMISSIONS COME IN THE CAPOS MINNESOTA AND THE EVERSIDES OF HE UNINTERRUPTED THE STATES CONSIDERED THEIR PROPER RULEES OF COACHING THE GREAT ROAST AND ITS PROVINCIAL ARMOS AND ADAPTING AREMED OUT TO RAVENGE THE KINGDOM. THE COPIES we had so kindly made were rather cut down by\n",
            "torch.Size([1, 40, 768])\n",
            "torch.Size([1, 40, 768])\n",
            "torch.Size([1, 40, 768])\n",
            "torch.Size([1, 40, 768])\n"
          ]
        },
        {
          "output_type": "stream",
          "name": "stderr",
          "text": [
            "\r84it [08:16,  5.90s/it]"
          ]
        },
        {
          "output_type": "stream",
          "name": "stdout",
          "text": [
            "Gt\n",
            "AND THE TWO PERSONS HAVE TO WORK OUT A COMMON LIFE THAT MEANS SOMETHING TO THEM OVER AND ABOVE THE PLEASURE THEY MAY TAKE IN EACH OTHER'S COMPANY AS A CONTINUING PART OF THIS LIFE ADJUSTMENT SEX ADJUSTMENT CAN DEVELOP INTO A PERMANENT FACTOR OF MARRIED HAPPINESS\n",
            "AND BY ORDER OF THE QUEEN ALL NECESSARY AND LEGAL FORMALITIES WERE CARRIED OUT WITH THE DISCRETION NECESSARY IN A MATTER SO DELICATE THAT THE LAST FORM THE CONFRONTATION HAS JUST BEEN CARRIED OUT\n",
            "AND THEN HE MADE OFF WITH THIS\n",
            "JOSIANA BROUGHT TO ONE'S MIND THE LINE\n",
            "Pred\n",
            "I UNDERACHASED FOR A LONG TIME THE CASES OF MY FOURTY FEAST EIGHTY ROUSONS OR SHARES AS LONG AS I FELL A DAY FAITH FOR WHAT I DEFENDED TO OIL THE MIDRIGHT OF THEIR LUXURY THEY CAME TO THEMImage copyright Emma Stinson Image caption Women who run all over the world have had far different experiences across the world\n",
            "Can children manage more effectively than they do today? Too many people have found themselves losing\n",
            "AND AGAIN THE SHOWY FOG BEZEEN MASSIVE FRUITS AND THE SEATS OF HIS FRIENDLIN were PLACED WITH RECALL OF THEIR SURE GENERANCE THE LITTLE THINGS AS TO THE SAME EXPLAINED UNDER THE COMMON COMPUTERS OF THE WOMAN THAT HAD WROPEN A DEEP CUDDY PRESENT CONTEXTIt looks like a dangerous scam attempting to make money through gambling could be legit too thanks\n",
            "I WENT TO A MIND THAT GOTTEN PLANT GIVEN HORDAMENTLY from homain's foreheads but one meeting gave me one final storm that really shone like an electric blue light in the night outside.When our home was remodeled five hundred years ago, the previous houses had zoned for wired lights. Looking after these lamps would be done within this long construction experience for securing our home into being unblinking green stations have soon opened up at my\n",
            "TILL EXUAL TRKAINE IS TELL EVERYONE YOU'VE BREATHEN AND █ GO ON SIR HIMTILL MISS HAS NOT BEEN UNDERSTANDING PROGRAM SEMA'S PASADENA'S CHARLEEN ROSIGNEFree Syrian Families Celebrate All Parts\n",
            "\n",
            "From Friday's Adquenine Advent MinistriesWith more Sister Rebeards each day than us kind people can get married this year, you'd know you loved your Bible\n",
            "torch.Size([1, 40, 768])\n",
            "torch.Size([1, 40, 768])\n",
            "torch.Size([1, 40, 768])\n",
            "torch.Size([1, 40, 768])\n"
          ]
        },
        {
          "output_type": "stream",
          "name": "stderr",
          "text": [
            "\r85it [08:22,  5.89s/it]"
          ]
        },
        {
          "output_type": "stream",
          "name": "stdout",
          "text": [
            "Gt\n",
            "TO CALL UPON SAZEN WHO MET HIM AT THE PORCH OF HIS HOUSE AND SAID THIS IS A GREAT HONOUR MY LORD GENZABURO IS INDEED WELCOME MY HOUSE IS VERY MEAN BUT LET ME INVITE YOUR LORDSHIP TO COME INTO AN INNER CHAMBER\n",
            "HER IMAGINATION GLOWED IN HER EYES AND WARMED HER VOICE I BELIEVE WHAT YOU SAY IS POSSIBLE IF PEOPLE DARE I AM TIRED OF FOLLOWING LITTLE MOTIVES THAT ARE LIKE FLAMES THAT GO OUT WHEN YOU GET TO THEM\n",
            "WHEN THE KING PASSED BEFORE HIM THE UNKNOWN WHO HAD LEANT FORWARD OVER THE BALCONY TO OBTAIN A BETTER VIEW AND WHO HAD CONCEALED HIS FACE BY LEANING ON HIS ARM FELT HIS HEART SWELL AND OVERFLOW WITH A BITTER JEALOUSY THE NOISE OF THE TRUMPETS EXCITED HIM\n",
            "WE WANT THE BEST IN TWO RACES AND CIVILIZATIONS IN EXCHANGE FOR WHAT WE HAVE LOST SOME OF US HAVE ENTERED UPON EVERY KNOWN PROFESSIONAL CAREER SUCH AS MEDICINE LAW THE MINISTRY EDUCATION AND THE SCIENCES\n",
            "Pred\n",
            "THE WORLD IS TAKING ON A COOLERIZED EGYPT A THEORY IT WAS HEARD IT WAS IT'S THE ABANDONED LIFE THAT GLAD THAT GIVES ON OUR EVENTS AND HAVEED OUR NEWS YOU DIDN'T DRINK MORE THAN YOU PRETAKE SUNDAY WHEN TIME FEES LONG SUMMER NETWORK HARD TO WRECK SOUNDGerman photographer Stefan Warsz of Germantown photographed this historic space bank on Sunday from German photographer Aaron\n",
            "A LIVING THING THE SOUND WASMy Living\n",
            "What would you choose as to what form you would consider your food suprise your palate plane's world when you design at the grocery store during today's pizza brunch lunch!New signs on Manhattan at Old Village over stops gence me all over the country like New York University selling signs Busch Makes Free Days is excited to make do with our recently opened sign for those neighborhoods where there's always a catch when they go bad With\n",
            "THE WIFE IS UNFANNOUS AND CLOSE UP AS OBIE THOSE TWO EYES OF MATBAS TURNED VERY FAR AKGING A NEET ELIZABETH BREACHING DETERY OF OUR SCARDFormula One Believes In Experience — By Alan Cameron — May 22, 2016\n",
            "Use our Search Guideline For Formula\n",
            "What do you think of the idea of putting an audible sound into your car seat if you put all your attention into it\n",
            "AND HOW SOARD THEY FOSTERSType Film Bay Area Studios You need an API key this tutorial is freeAs you browse through our added restaurant area options you may recognize one of the most popular features we know about you as well: this carving icon made of chalk made from salt cheese sticks are made of raw silver from a butcher similar to our Chardonnay's Doodle Barn you'll find them featured on our offerings from jobs to restaurants served anywhere from our beloved farm Cook Off Wine\n",
            "torch.Size([1, 40, 768])\n",
            "torch.Size([1, 40, 768])\n",
            "torch.Size([1, 40, 768])\n",
            "torch.Size([1, 40, 768])\n"
          ]
        },
        {
          "output_type": "stream",
          "name": "stderr",
          "text": [
            "\r86it [08:27,  5.89s/it]"
          ]
        },
        {
          "output_type": "stream",
          "name": "stdout",
          "text": [
            "Gt\n",
            "FRANCE HAS RECENTLY PUT HER WHOLE PEOPLE ON A RIGOROUS RATION WHICH LIMITS THEM TO TWO THIRDS OF THE AMOUNT OF BREAD THAT THEY HAVE BEEN ACCUSTOMED TO REMEMBER THAT BREAD IS A FAR MORE IMPORTANT PART OF THE FRENCH DIET THAN OF OURS\n",
            "I'D RATHER NOT SIXTY CROWNS IS ALL I WANT\n",
            "CONTINUED TO INSULT THE CANNON AND EACH TIME THAT THAT GLOOMY CLOUD OF PROJECTILES WHICH IS CALLED GRAPE SHOT PASSED OVERHEAD WITH ITS TERRIBLE SOUND HE ASSAILED IT WITH A BURST OF IRONY YOU ARE WEARING OUT YOUR LUNGS POOR BRUTAL OLD FELLOW\n",
            "HIS NAME WILL BE CLEARED AND THEN YOU WILL THROW ME OVER AND TRY TO BECOME LADY GORE I THROW YOU OVER NOW SAID LUCY LOSING HER TEMPER AND COLORING HOTLY HOW DARE YOU SPEAK TO ME LIKE THIS JULIUS\n",
            "Pred\n",
            "THE DEPARTMENT LOOKED AHEAD UP AT THE DIVISION OF THE POLICE MIND AND THE PEOPLE LEARYED GUTSOne thing is certain, though, it's worth a trip under the buff sun with my friend Tom Watson. I'll be eating lunch at the lovely restaurant next Sunday when they release the formal regular distribution menu with my taste buds with expert samples along with my own recipes for their weekly surprise release year recently. Always an adventure when herbs stir together on chilly\n",
            "I NEVER VIED TO RUN OUT I FILLED WITH MORTGAGES AMONG THE PORT OF THE MOST IAM PROBABLY THERE TO ECHO THEIR NOONWhen we talk bioceremonial size we always assume that we are looking for roundness of color as well. Sometimes we are looking for some sort of shade of color with a facet or both but often there is none of that make up for that fairly substantial circle of solid white or black so what\n",
            "HAVE YOU EVER ACKNOWLEDGE THAT HUSAT OR WILDAMAS WAS ONE OF THE RIGHT STRAITING OF OUR PLANE AT THIS SONIAO GOVERNMENT THE LATH GRAIN WAS NOW OPEN FOR ANOTHER SPREAD OF EYESAn act in which mischievous creatures is believed to hold swivels toward their owners when they return from a dream; our friends remember it nowWhite Texas snake didn't have to get down\n",
            "THEN BOBBYSE WERE WAVING CROSSOVER BECAUSE THEY WENT DOWN THE MARK OF THE COLD SCENE AND CREATED AN EFFECTOR WHICH KINDUPED THE SPACE BETWEEN THEM AND WHERE THE COLD SCENE WAS HEARD FOR PEOPLE IN SEA AND SHARED FROM SEA WHAT WOULD LIE ABOUT THAT LINELINING ROOSAlan Scott's style The Ultimate Living roomists Who has no quits for next month send them\n",
            "torch.Size([1, 40, 768])\n",
            "torch.Size([1, 40, 768])\n",
            "torch.Size([1, 40, 768])\n",
            "torch.Size([1, 40, 768])\n"
          ]
        },
        {
          "output_type": "stream",
          "name": "stderr",
          "text": [
            "\r87it [08:33,  5.89s/it]"
          ]
        },
        {
          "output_type": "stream",
          "name": "stdout",
          "text": [
            "Gt\n",
            "IT IS ONE OF THE BEST HOUSES IN EUROPE SAID DANGLARS CARELESSLY THROWING DOWN THE RECEIPT ON HIS DESK AND HE HAD FIVE MILLIONS IN YOUR HANDS ALONE WHY THIS COUNT OF MONTE CRISTO MUST BE A NABOB INDEED I DO NOT KNOW WHAT HE IS\n",
            "AT WHOSE FEET IN TIME OF DEARTH OR NEED A MYRIAD MEN HAVE LAID THEIR SORROWS AND ARISEN BOLD INCESSANTLY THE LONG RAIN FALLS SLANTING ON BLACK WALLS BUT THROUGH THE DARK INTERMINABLE STREETS\n",
            "AND IT WAS CHIEFLY BY GOOD LUCK AND THE FACT THAT MOST ROADS ABOUT A TOWN CONVERGE THEREUPON THAT CHICHESTER WAS AT LAST ATTAINED IT SEEMED AT FIRST AS THOUGH EVERYONE HAD GONE TO BED BUT THE RED HOTEL STILL GLOWED YELLOW AND WARM\n",
            "AH HE HAS THE TRUE WALKING STICK SPIRIT THEN THEY PAID NO MORE ATTENTION TO HIM AND AFTER A WHILE HE AND HIS SISTER AND THEIR GREEN LITTLE FRIEND LEFT THE FOREST FOR THE MEADOW ON THE DAY WHEN THE GRASS WAS CUT THEY HAD SAT QUIETLY IN THEIR TREES AND LOOKED GENTEEL\n",
            "Pred\n",
            "PERSESRITH WAS NOW MAD APPOINTED FOR THAT APPEARANCE FOR THE FIRST TIME. I CAPTAINRELLIED IT FOR AN OLD TITLE MEAN OF SERRYWe have what is called a binding order for companies from all 50 states plus New Jersey taking typically 90 days as a result (in truth what is known on this website) you must register listed items announced on this website should just have your name below for free too otherwise you will lose your\n",
            "TFETTER BUT MR. LEE WAS ON SPEEDS DRIFTING THE EVIDENCE OF ROBERT AND ROBERT ANDTHE CONGREGATOR OF KEYSIRL BEING STEPIN ON PES‐ON THEREHopefully one day Ignite Tower is replaced by another dragon after one at one time this season — temporarily disappeared from its house when Oswin Overlord's coming further on in Season Foolsight Season 6 coöperation after finding Meridith has been cleared for\n",
            "BY THE FACT, THE CIRCUIT'S MEMORIALRATIONS STFUFFED TO THE CIRCUIT'S SKULL AND LOGACY AND THE AUGUSTAL HEARD THE WOUNDERS DIED THEIR SUBMISSIONS. MANY MISTAKE FASCELY BARRED AND PISSED THEIR FAULTS VOTER MYSTERIES IN AN ACT OF INTEMPLATENESS WITH YOUR ALEXANDERGood morning Sara, you\n",
            "THAT WHICH I STILL BRIGHTEN THERE GREAT WAY TO RETURN AN RULE TO ALL THE INDIVIDUAL BEINGS WHO WOULD BE RISKY A TALK OF A LINGLEIONCopyright Infowars by Raisse Teafia should be brought before the chances are high if the Republican Party returns this fall tough state election away from Donald Trump Donald John TrumpWatch: Former TV journalist challenged Trump over abuse claims FBI teases Kavanaugh investigation into Kavanaugh Kavanaugh allegation Trump's wife\n",
            "torch.Size([1, 40, 768])\n",
            "torch.Size([1, 40, 768])\n",
            "torch.Size([1, 40, 768])\n",
            "torch.Size([1, 40, 768])\n"
          ]
        },
        {
          "output_type": "stream",
          "name": "stderr",
          "text": [
            "\r88it [08:39,  5.88s/it]"
          ]
        },
        {
          "output_type": "stream",
          "name": "stdout",
          "text": [
            "Gt\n",
            "AND THERE'S NO OTHER WOODYARD FOR NINE MILES AHEAD AND IF YOU HAPPEN TO BE NEARLY OUT OF FOOEL WHY WELL WELL INTERRUPTED THE CAPTAIN WE'LL TAKE A FEW CORDS UNDER THE CIRCUMSTANCES AND HE RETURNED TO HIS GAME OF BRAG\n",
            "WHAT'S THE ODD QUARTER FOR I SHOULD LIKE TO KNOW YOU ONLY CHARGED ME THREE AS I WENT DOWN WHY CAPTAING DRAWLED OUT THE WOOD MERCHANT WITH A SORT OF LEER ON HIS YELLOW COUNTENANCE WHICH CLEARLY INDICATED THAT HIS WOOD WAS AS GOOD AS SOLD\n",
            "FOR THE MOMENT HE WAS ABSORBED BY TWO EXIGENCIES AND BY TWO ECSTASIES FOOD AND WARMTH URSUS CONTINUED HIS IMPRECATIONS MUTTERING TO HIMSELF\n",
            "AND IN A FEW YEARS HUMPHREY SAVED UP SUFFICIENT TO PURCHASE A PROPERTY FOR HIMSELF HE THEN MARRIED CLARA RATCLIFFE WHO HAS NOT APPEARED LATELY ON THE SCENE OWING TO HER HAVING BEEN ABOUT TWO YEARS BEFORE THE RESTORATION\n",
            "Pred\n",
            "AND THEN MEANS NOW THAT BECAME THE BREAKING OF HER MOTHER AND PEOPLE AND SHE COME TO YOUR MATTER AND SHE HELPED ME SO THAT FUTURE Ai' SHE SAID THAT I LOVE HER SO THAT WHEN I MADE I'd BLOW OFF THE VEBYL FOR KEITHAt this for the first time ever, Jenn Cook Cheam six times for this week – totaling over 75 community calls and still receiving public comments from people who brought up their own\n",
            "I WILL OF COURSE ASYLUM CAN ONLY BE AT LEAST 30 HOURS (PITTS HOLD NO PROPOSALS).Smoking hot air on winter weekends shouldn't be such an American disappointment — particularly when this song isn't covered by pictures of people with a big smile on their faces—so if you have one we recommend you get up early! First time even though you might set up an game for big time leader Brice Gita explains why women have Bon App\n",
            "AND BEFORE HE RATHER? THE OLD MAN RATHER BEING HENGLY DISAGREED THE STROKE AND RATHER SLOP OF CHICKEN THAT POINT CURGHS IN HIS FACE HER THING AND LOVES SO LAUGHING THUS A PLUMP OF ABOVE A LOW VIEW ON BORN THE Other SEYS BADE WAITING AND OPEN FOR A BUTTON ON HIS MOLEST AND BRASKRUMPThis version is not\n",
            "ANOTHER TIME IT SAID YOU KNOW HE WAS NOT GREAT BUT YOU ANSWERED THAT THE END VITABACITATED HIS FRIENDS AND FRIENDS ENDED THE FOOTBALL OBNCONCURED OF MONTHEFARDAL ACADEMIC CONSTRUCTION CHAPTER 10Soon after Indo Santo opened many other adventures giving a simple stovetop view of his or her home city outside Ofchon in south west Brazil © Mark ClarkPublished online\n",
            "torch.Size([1, 40, 768])\n",
            "torch.Size([1, 40, 768])\n",
            "torch.Size([1, 40, 768])\n",
            "torch.Size([1, 40, 768])\n"
          ]
        },
        {
          "output_type": "stream",
          "name": "stderr",
          "text": [
            "\r89it [08:45,  5.88s/it]"
          ]
        },
        {
          "output_type": "stream",
          "name": "stdout",
          "text": [
            "Gt\n",
            "I SUPPOSE IT DID LOOK AS THOUGH I TOLD YOU GIRLS SAID MABEL ALLISON WHO HAD JOINED THEM AT THE GATE YOU KNOW I WAS WITH YOU AT RECESS RIGHT AFTER THE PAPER HAD BEEN PASSED TO ME\n",
            "AND SO WHEN BUD'S CLOTHES WERE FOUND AT THE SWIMMING HOLE ONE DAY AND NO BUD INSIDE THEM SHE DIDN'T TAKE ON UP TO THE EXPECTATIONS OF THE NEIGHBORS WHO HAD BROUGHT THE NEWS AND WHO WERE STANDING AROUND WAITING FOR HER TO GO OFF INTO SOMETHING SPECIAL IN THE WAY OF HIGH STRIKES\n",
            "HE DOES NOT HESITATE TO WOUND AND HE DOES NOT HESITATE TO MISUNDERSTAND BUT HE IS FREE FROM MALICE THE GENIALITY OF HIS COMEDY ON THE OTHER HAND IS OFTEN MORE OFFENSIVE THAN MALICE\n",
            "THAN HIS BRAINS IN A YEAR BUT A CHILL OF DOUBT CAME OVER HIM HOW CAN I FIGHT FOR THE COAL PITS SAID HE I AM NOT CONNECTED WITH THEM EH LAD BUT THOU ART CRIED OLD PURVIS WE'VE GOT IT DOWN IN WRITIN AND IT'S CLEAR ENOUGH\n",
            "Pred\n",
            "AND AND SAW A BOY OF CODE BODIES AND GEORGE INTO THE LIABILITY OF THE EYES OF A FEW HOURS AFTER THE DANNY NOT FOR ANY OF THESE MIGHT GUARD THEM AND MIGHT STOP THE MADDEN AS THEY BURDEN TOGETHER THEIR VICTORIAES FROM THE SKILLThis staff based collection includes sample examples from Philippine lessons from each city. Taken together, these personal essays empower students of each city to learn different aspects of\n",
            "SO THUD IN HAND AND HAND WHERE LOVE FILLS OTHER WORDSThe Saudi Prince Hassan al-Shammari said that Asatul Al Saud has no economic nationalist government yet but that they are likely to be at peace when his two most senior appointees should be safe next seasonDENVER — Geelong's major professional sports rivalry has ended but there is renewed interest in signing veteran veteran James Gordon for a one-year contract worth $109 million at $35.75\n",
            "BUT HELEN CLOTHER AND HER MOTHER FOUR THINGS HAD JUST AND ALMOST HAD CONSIDERED IT AN AURAUSE BUT SMILE WAS AS THEY WOULD HAVE DEPTILED PREVENT AS A TOATON RECORDED TONGUE BUT THE BIGGEST NICODOLAS CLOTHERS STILL THINKHaving no college may or may not make you ideal friends but do you need it any more than someone who's older seems\n",
            "IVANKAIN TENTSIZEED THE SIMS OF A PUBLISH OF IT WHICH PURPOSED TO BE THE MIDDLE PERFECT FERTILIZATION OF AN INDIVIDUAL WHO KNOWS WHICH THE LESSOURY OF HER IS A PAIN THE IMAGES ARE OF THE OPEN LOOKING CORNER OF THE ARELLIPESCorrelation arises when an artifact is studied giving one analysis a greater degree, a greater degree than that given by something previously\n",
            "torch.Size([1, 40, 768])\n",
            "torch.Size([1, 40, 768])\n",
            "torch.Size([1, 40, 768])\n",
            "torch.Size([1, 40, 768])\n"
          ]
        },
        {
          "output_type": "stream",
          "name": "stderr",
          "text": [
            "\r90it [08:51,  5.88s/it]"
          ]
        },
        {
          "output_type": "stream",
          "name": "stdout",
          "text": [
            "Gt\n",
            "WOULDN'T KNOW THEM IF I DID ANY OTHER AGREEABLE SURPRISES ABOUT THE RESORT NO OH YES I NEARLY FORGOT THERE'S A LITTLE FRIEND OF GLORIA GREENE'S GIRL TIRED OUT\n",
            "NO ONE EXPECTED YOU TO WAKE THEY WERE CUNNING DAMNED TYRANTS BUT THEY WERE TAKEN BY SURPRISE THEY DID NOT KNOW WHETHER TO DRUG YOU HYPNOTISE YOU KILL YOU AGAIN THE HALL DOMINATED EVERYTHING OSTROG IS AT THE WIND VANE OFFICES READY\n",
            "HAD NOTHING TO DO IT WAS CONCERNED ONLY WITH THE EFFORT TO OBTAIN FOR WOMEN THE OPPORTUNITY TO GIVE EFFECTIVE EXPRESSION THROUGH POLITICAL POWER TO THEIR IDEALS WHATEVER THEY MIGHT BE\n",
            "ALL THIS DISCONCERTED ME I SAT DOWN FEELING RATHER MISERABLE AND BEGAN LISTENING TO WHAT THEY WERE SAYING THEY WERE ENGAGED IN WARM AND EARNEST CONVERSATION ABOUT A FAREWELL DINNER WHICH THEY WANTED TO ARRANGE FOR THE NEXT DAY TO A COMRADE OF THEIRS CALLED ZVERKOV\n",
            "Pred\n",
            "THAT WOULD BE VERY BAD NEWS TO SELLCopyright 2018 Nexstar Broadcasting, Inc. All rights reserved. No part of this website may be reproduced, identified or copied without the prior written consent of the show owner, or by a third party unless otherwise specified. Published on matters subject to its own license information summaryTuesday's annual meeting focused on just raw numbers on Thursday morning and stopping with purpose. Instead, it would be better for what's known today as energy conservationism focused on\n",
            "HE CAME AT THE EYES OF THE FATHER OR THE AFTERME OF THE OLD BIRTH AND THE CASTLE KEEPING HIM ALONE FORD'S SEAT UPPER THAN HE ENSURED AND SURROUNDED HIS PSYCHERYSome women use what body positivity takes to get back on track despite being undereducated in relationship with a partner as much as they may not feel they still winCity Place Mitensin\n",
            "AND WHICH HE LOOKS ASPIED WITH GORGESREND AND SOVIETS GISSOLVE IN HIS PATSY WHY SHOULD HIS HUMANITY BE OVER HARD AND GRIEFON AND I AM SERIOUSLY AS I AM ABOUT TO COME HE MADE ITThe front of the rent house smelled to me like rotting garbage off a carapace to some wildly inefficient lighting impasse in the bayou of Antarctica, one in which we\n",
            "TH'SHARE THEM ALL IN ALEXANDER SAMARO LITTLE LICENSING STEEN ALTAS I MAID BEHIND EXHAUSTEENT WORDS AND BENEFIT FROM HIM WOULD NOT BE SUCH AS HE INFECTLY FILLED WITH MY DEFXESINTTIESWelcome! Pull from my all time favorite castaway designs from my sister Magi Tebowcoby style collection here leaving her tucked away my Halloween decorations and Christmas cheer\n",
            "torch.Size([1, 40, 768])\n",
            "torch.Size([1, 40, 768])\n",
            "torch.Size([1, 40, 768])\n",
            "torch.Size([1, 40, 768])\n"
          ]
        },
        {
          "output_type": "stream",
          "name": "stderr",
          "text": [
            "\r91it [08:57,  5.87s/it]"
          ]
        },
        {
          "output_type": "stream",
          "name": "stdout",
          "text": [
            "Gt\n",
            "SO THAT LARGE SHIPS COULD NOT APPROACH VERY NEAR AND THUS THE VILLAGERS WERE KEPT BUSY CARRYING GOODS AND SUPPLIES IN SMALL BOATS BACKWARDS AND FORWARDS FROM THE TOWN TO THE VESSELS AT ANCHOR\n",
            "COULD NOT FAIL TO EXCITE PUBLIC ENVY AND HOWEVER MEN'S HATRED MIGHT HAVE BEEN SUSPENDED FOR A MOMENT WHILE THE DUKE'S CONDUCT SEEMED TO GRATIFY THEIR PASSIONS AND THEIR PREJUDICES IT WAS IMPOSSIBLE FOR HIM LONG TO PRESERVE THE AFFECTIONS OF THE PEOPLE\n",
            "AND THE DRIVING IS LIKE THE DRIVING OF JEHU THE SON OF NIMSHI FOR HE DRIVETH FURIOUSLY KING JORAM WENT OUT HIMSELF TO MEET THE FAMOUS CHARIOTEER\n",
            "I WISH YOU A GOOD DAY SO YOU WILL NOT EVEN SHAKE HANDS WITH ME ISABEL I WOULD PREFER NOT AND THUS THEY PARTED SIR FRANCIS LEFT THE ROOM BUT NOT IMMEDIATELY THE HOUSE HE WENT INTO A DISTANT APARTMENT\n",
            "Pred\n",
            "GYDEN I AM BELIEVERS I WAIT AT THE PERFECTION INTO THE PLANE ITS HARPUTIN FIT ITS ART I FEEL I CAN'T LET UP FOR OLD MERRY AS THIS COULD BE AN MMASEEvery film sends me goosebumps when I talk about \"tubed up not Yet,\" throw a bit of water on it for desire or just enjoy it without letting it sour at first glance. Often they do it for laughs or because they think\n",
            "I TOLD HER THAT SHE WENT ASTAIN THAT HER ENTIRE INSTENTIVE DAYS AWAY TOWARDS HER HAND I MISSED HER THAT SUMMER SHE WAS PEACEFUL EIGHTTIGHT A BIT FROM MY THOMAS AND TOWN GOING SO BEAUTIFUL IF SHE WENT AWAYChina is yet to act on China's rising hostility to certain foreign nation states head-on joined by Japan and Netherlands looked back on the progress to January 15\n",
            "END USURE TO A STRANGE ATTACK IMMEDIATE TO TAKE THEM ALL OUT OF THE LINE AND INCLUD IN THE SEN'DAN'S HOUR AND THIS SHOOTING OF THEM BACK INTO THE NEWS SHOT WAS HER ALLEGED ESSAYS SIGHT AND THINKS QUITELY WHEN GLAD IS ARROWING TO BURNINGTwo felons were killed with Greenberry ammo for your enjoyment today during a visit to Kentucky We look into Frank\n",
            "THAT THERE WAS DORAN'S LAZAR REZAAR HAD BEEN TO WERE BAILED BY THE WHOLE INFESTIONS OF THE DOCTOR IN THE BOTTOM OF MARSHALLREES THAT PARKER COLLEGE IN PARLOWER MIGHT BE MAKING WHICH A SHLIKE THAT BENCH WAS HER GUARANTEEDJackie Ford was born on January 28 1918 in MG Littleton Williams Rd., Oregon Hills, Iowa\n",
            "torch.Size([1, 40, 768])\n",
            "torch.Size([1, 40, 768])\n",
            "torch.Size([1, 40, 768])\n",
            "torch.Size([1, 40, 768])\n"
          ]
        },
        {
          "output_type": "stream",
          "name": "stderr",
          "text": [
            "\r92it [09:03,  5.88s/it]"
          ]
        },
        {
          "output_type": "stream",
          "name": "stdout",
          "text": [
            "Gt\n",
            "BUT THAT HIS HEART WENT OUT ALSO TO THE BOYS IN GRAY THE SOLDIERS WERE ALL BOYS TO HIM THEY KNEW HE LOVED THEM THEY SAID AMONG THEMSELVES HE CARES FOR US HE TAKES OUR PART\n",
            "THIS THIRD BOOK THE STORY OF ANCIENT IRISH CIVILISATION GIVES IN SIMPLE PLAIN LANGUAGE AN ACCOUNT OF THE CONDITION OF THE COUNTRY IN THE OLDEN TIME BUT AS IT IS HERE TO SPEAK FOR ITSELF I NEED NOT DESCRIBE IT FURTHER\n",
            "AS I CLAMPED ON MY BRAKES A SWIFT SHADOW PASSED TWO OF THE LOWER WINDOWS BEFORE I COULD LEAP FROM THE CAR THE BROAD FRONT DOOR WITH ITS ROUNDED TOP AND CIRCULAR GRILLED WINDOW WAS FLUNG WIDE AND MERCER CAME RUNNING TO MEET ME\n",
            "QUOTH LITTLE JOHN TO HIMSELF WHAT YON KNAVE IS AFTER THAT HE SHOULD GO THUS PEEPING AND PEERING ABOUT I VERILY BELIEVE THAT YON SCURVY VARLET IS NO BETTER THAN A THIEF AND COMETH HERE AFTER OUR OWN AND THE GOOD KING'S DUN DEER FOR\n",
            "Pred\n",
            "HE WHISTLES THERE A GIANT WON'T SMICHEN THE HEAT OF WORK BUT THE WORK OF BREAKING THEETROME OF CRAP AND RAPWhy Could So Many Irritated Women Go Too Late To Act With God's Love First Take Two Years Who Is Why Does Marriage Are Good For Women?, Who Is Power To Get Away? Why Does Cain Make Wrong [Prayer]The report from the John Birch Society says: \"If we look at\n",
            "IF YOU FELT ANY CULTURE FOR HIM OR THAT OTHER SECH THAT CEREAS HIS AND HYDRAY VARGIN OSTIFYING ITS CLASSAL ECONOMIC JOY OF NULLNESS SORRY CANT'T BE SHIPPED UNTIL HE AND THEIR SAGAL SAYSAs this post shifted into more ambient areas you can see the theme behind all my other posts already opened on my Twitter channels... Major Datasories Classified\n",
            "AND HE WOULDN'T LET HIM GO HELP HIM GET GONE AND NO DOUBT TO THE CARNISTS THAT HE'S HOT & ANTI-BROUGHT him HOMESep 18, 2017 Veterans Day Outfitters Quick Start Guide Get Started Get Started One day of shopping is a break Monday Night Outfitters is where it is recommended to purchase your own room closet or guest room when you need it!! Join us today for special discounts on a seasonally important\n",
            "AND so THEY EMPTYTHOOD SURPASSED THEIR SUVATIVES AND DISCOMFORTABLE THINGS AGAINST THE ZIONS AND UNJUSTLY UNWEAR SPOILED THE OTHER KING OF FRAtheK.-that's how it really feels! RIGHT THERE NEARLY HARDSOME MEDICAL BACTUNG!!!!First in Germany is Peoples' Bank of Germany provided by European Union into euro area on Save it from euro area costs payments within euro area Israel Israeli Oil Area\n",
            "torch.Size([1, 40, 768])\n",
            "torch.Size([1, 40, 768])\n",
            "torch.Size([1, 40, 768])\n",
            "torch.Size([1, 40, 768])\n"
          ]
        },
        {
          "output_type": "stream",
          "name": "stderr",
          "text": [
            "\r93it [09:09,  5.89s/it]"
          ]
        },
        {
          "output_type": "stream",
          "name": "stdout",
          "text": [
            "Gt\n",
            "FOR SEVERAL MINUTES HE UTTERED NOT A WORD BUT SWUNG HIS RIGHT FOOT WHICH HUNG DOWN AND STARED AT THE BRAZIER WITH AN AIR OF SAVAGE REVERY\n",
            "BUT IT WAS A LONG WAY AND DUSK CAME ON BEFORE THE RED FARM HOUSE APPEARED NOW I'M SAFE THANK YOU VERY MUCH WON'T YOU COME IN AND STAY ALL NIGHT MY MOTHER WILL BE GLAD TO SEE YOU\n",
            "HE WAS PUZZLED DO YOU MEAN WELCOME ROBIN'S SONG HE ASKED RATHER SHEEPISHLY FOR HE HAD A FEELING THAT HE WOULD BE THE VICTIM OF JENNY WREN'S SHARP TONGUE NO I DON'T MEAN WELCOME ROBIN'S SONG SNAPPED JENNY\n",
            "YOU MUST PAY FOR IT YOU UNDERSTAND WELL\n",
            "Pred\n",
            "BUT LADY CANRADICIKE TO GIVE THINGS AS HE WENT THROUGH THE CHUFTTER WITH MANICE TO — JUST LOOKING FOR SOME SEX TO BEABOUT IT HAD BEEN HEARD THAT HIS SON'S WAY DEAD SO I WAS MISSED PERIODY OF HIM HE CALLED LADY LAS CIREThe team's career correspondent Sam Rosenzweig reported that on set a few episodes ago from the show\n",
            "WHAT WILL COME FROM A CANTON BERRY BUILDING IN AN OLD CANTON? FOUR HILLIES LIKE THIS ROLL OUT FRIGHTENED BY THE CANTON BROUGHT IN SEARCHING IN THE WEST OF THE CHOICE TWO LOOKING DOWN MY GLASS AND LISTENING HIM UP AS THEY PASSED through my officeEmployees couldn't agree more about Dr. Martin Selender's consulting work amid criticism for using random button\n",
            "DEARS LARGE LEGS USING UPON THE HORSE TO SUCH AS THE SLUTE INSTEAD OF THAT HE SHOULD HAVE BREAKED OUT ALL OUT OF HIS DIRECTION OF THE SEVEN MOVIESIt may come as a surprise that Harvard's Dean of Students Chris Hayes has met with that asker when he visited the former Liberal politician last month for an interview over breakfast on Tuesday night on MSNBC. Hayes wrote about the chilling split hours he spent with BonoNicola that\n",
            "SOUTH AND NINE OF THE PENDERS WHO DIABED PERFECTLY DANNING HIM BACK THERE IN WHICH HE IS SLABY AND HE NEITHER DISEASMED IS THE DOCTOR WHERE OUR PERSONS HAVE LEARNED ALL THE WORLD BIRTH OF THE SAME ODY AND IN THE NEW YORK TERRAINTax Saving Deals With Gift Cards\n",
            "You're probably asking yourself if you too have used this guide because your\n",
            "torch.Size([1, 40, 768])\n",
            "torch.Size([1, 40, 768])\n",
            "torch.Size([1, 40, 768])\n",
            "torch.Size([1, 40, 768])\n"
          ]
        },
        {
          "output_type": "stream",
          "name": "stderr",
          "text": [
            "\r94it [09:15,  5.90s/it]"
          ]
        },
        {
          "output_type": "stream",
          "name": "stdout",
          "text": [
            "Gt\n",
            "WAS LANDING A FARM WAGON AND TEAM AS WE PULLED IN UPON THE MUDDY ROADWAY WHEN QUESTIONED ABOUT QUARTERS HE SMILED AND POINTING TO HIS LITTLE CABIN A FEW RODS OFF IN THE BUSHES SAID WE'VE FOUR PEOPLE TO SLEEP IN TWO ROOMS\n",
            "YOU'D UNDERSTAND WHY IF YOU EVER SAW HIM AT A PARTY OR A PICNIC SAID FELICITY TRYING TO PASS PLATES AND DROPPING THEM WHENEVER A WOMAN LOOKED AT HIM THEY SAY IT'S PITIFUL TO SEE HIM I MUST GET WELL ACQUAINTED WITH THAT MAN NEXT SUMMER SAID THE STORY GIRL\n",
            "ALICE HAS SUCH A TENDER HEART DOCTOR PAYNE WAS DOUBTFUL SO FAR AS HE SAW MISS MALLESON WAS REMARKABLY CHEERFUL UNDER HER SORROW SHE IS PHILOSOPHIC MISS RANDOLPH\n",
            "THAT HE WAS NOT INTENSELY SERIOUS IN ALL THAT HE WROTE ABOUT THE WAR BUT HIS SERIOUSNESS IS ESSENTIALLY THE SERIOUSNESS OF IN THE HIGHER SENSE OF THE WORD THE COMIC ARTIST OF THE DISILLUSIONIST\n",
            "Pred\n",
            "SPOUTING A PASSION STORY AS ANRussia's deputy foreign minister Sergei Lavrov said Russia would engage in negotiations with Syria about joining the United States after what he said was now overdue political changes from their previous stateships were seen as a conflict over Syria government forces which were making moves of heavy arming after years of occupation and Russian intervention in Ukraine's eastern territories were deteriorating\n",
            "\n",
            "In Moscow's hours-long meeting officially ended on Tuesday between Russian ministers Mr Lavrov and Foreign Secretary Sergei Lavrov gave no indication\n",
            "RETURNMILNMOCK STERLING CITY FOREST ETC DWARF ST 23 By Katie Gully Random Article Blend You said first time with Silverstone bikes you always thought it was too cold outside and then restwelled at fusion in Munich or Campsie at Arlesa Hotel after seeing pictures from last year happening in the very same country on cars You had to turn left but it still looked like it could be as close as my body coming down again In the cold we\n",
            "HE SAYS THAT HE IS GOING TO OLGETHER AND DRAW GENTLE RORT OF THEM BEAR FROM SAID HE HAD NO SESSIONS TO CONTINUE AND TO LOOK AWAY FROM THE KINDS OF FULL FULL PEAR AND HEAD WITH THE LOW PART INTO THE SEATruth is that over time the adults supposed to have more wetti time when writing These are all wrong I have read through a handful of girls telling me about not before stories including one on Warrant\n",
            "THUS THE CITY PROPERLY RESOURSEED MUSICAL THOUGHT ABOUT OVERADDRESSING THE BLEEDER'S HOTTO DISNEYLAND WITH VANCITY AND ORANGE AND TIER WITH MOUNTAIN LOUF TAKE HIS SEASON TO TREAT THE HUGE Blake's BAND AND NO SUCH AHEAD AS HE DOES IT BASTARDLY RODOBIKAfter two seasons of doing battle, How Can You Get More Be Better\n",
            "torch.Size([1, 40, 768])\n",
            "torch.Size([1, 40, 768])\n",
            "torch.Size([1, 40, 768])\n",
            "torch.Size([1, 40, 768])\n"
          ]
        },
        {
          "output_type": "stream",
          "name": "stderr",
          "text": [
            "\r95it [09:20,  5.91s/it]"
          ]
        },
        {
          "output_type": "stream",
          "name": "stdout",
          "text": [
            "Gt\n",
            "SOME KINDS OF AGENTS AS RARE MINERALS OR TOOLS THAT CAN BE PRODUCED ONLY BY HIGHLY SKILLED LABOR CANNOT BE INCREASED RAPIDLY IN NUMBER AND REMAIN HIGH IN PRICE FOR A LONG PERIOD\n",
            "THE WINTER AFTERNOON WAS REDDENING TOWARDS EVENING AND ALREADY A RUBY LIGHT WAS ROLLED OVER THE BLOOMLESS BEDS FILLING THEM AS IT WERE WITH THE GHOSTS OF THE DEAD ROSES\n",
            "TORE THEMSELVES UP BY THE ROOTS WHEREVER A DRAGON'S TOOTH HAD FALLEN THERE STOOD A MAN ARMED FOR BATTLE THEY MADE A CLANGOR WITH THEIR SWORDS AGAINST THEIR SHIELDS AND EYED ONE ANOTHER FIERCELY\n",
            "AS HE SOON FORCED HER TO TELL HIM IN WORDS THAT SHE HAD NEVER SEEN ANY GARDENS AT ALL EQUAL TO THEM BEFORE\n",
            "Pred\n",
            "THE WOMAN WAS HAD TO BE ILLISANCED PULLED UP IN FRONT OF HIM AROUND THE ABOVE THE MPE AND PAUL AND HAD TO BE QUICKLY DISCLOSEED ON WILSON's PRESENCE THAT ABCLCATION COMMITTED HIM SO BEHOLD THAT THEY MAY PRINT OTHER'S SUPPORTThere are so many health benefits to eating well and serendipitously healthy things when you're young! Even better are healthy\n",
            "QUERION COULD BE 18 CREEKERS AT A FLIGHT IN THE LILY WHEN THEIR SAINCE HE SAID HE COULD not leave his wife Kate forever BUT SHE WAS THOSE SEATS THIRTY HOURS A SHIFT OF YEAR IN THE MCREaryTalent selection could be used to improve adolescence quality at any age of maturity in NFL 32\n",
            "For Clay Pennington Junior was found guilty on out of court Monday for his dispeachment of her adopted son\n",
            "WHEREFORE BE HAPPILY I SHALL MORAL A RICH PRODUCT TO TRUST ME AND MY GOVERNANCE BYMAXIC DAVID ON THE KEY OF ALONG THE CREW ASBED THE SAME TIME WE SHALL SEE A FEW FEET WHILE ON MORIMETOWN[There were three helpful homes] And three before this we remember what we have been told our ages have been brought together so effective unto our grief that we do not deny we have been told we\n",
            "AND BERRY BLASGOWED CHASSTOP HAVING A WOMAN WRATHED OVER HER BRANCH TO A SPANIARD AND STEALED HER CRACKSHOTS HIT HER HEAD AND PLOTTED HER DEAD FROM DRAMA BRIEF WINTERThe story has made online soap opera phenomenon Paste have great impact on web sites run by independent adult fans of the iOccitinie oi platinum @ September 23, 2017 @ 01:55\n",
            "My\n",
            "torch.Size([1, 40, 768])\n",
            "torch.Size([1, 40, 768])\n",
            "torch.Size([1, 40, 768])\n",
            "torch.Size([1, 40, 768])\n"
          ]
        },
        {
          "output_type": "stream",
          "name": "stderr",
          "text": [
            "\r96it [09:26,  5.90s/it]"
          ]
        },
        {
          "output_type": "stream",
          "name": "stdout",
          "text": [
            "Gt\n",
            "WE HAD A HUNDRED THOUSAND AGAINST A HUNDRED AND TWENTY THOUSAND AFTERWARDS LITTLE MORE THAN FIFTY THOUSAND AGAINST A HUNDRED THOUSAND YET THE SHREWD AND EXPERIENCED KUTUZOV ACCEPTED THE BATTLE WHILE NAPOLEON\n",
            "MISCHIEVOUS ENOUGH IN HIS OWN NATURE AND ROUSES AND PROVOKES HIM YET MORE BY HER COMPLAINTS SHE POINTS OUT PSYCHE TO HIM AND SAYS MY DEAR SON PUNISH THAT CONTUMACIOUS BEAUTY GIVE THY MOTHER A REVENGE AS SWEET AS HER INJURIES ARE GREAT\n",
            "MISSUS BENNET AND HER DAUGHTERS THEN DEPARTED AND ELIZABETH RETURNED INSTANTLY TO JANE LEAVING HER OWN AND HER RELATIONS BEHAVIOUR TO THE REMARKS OF THE TWO LADIES AND MISTER DARCY THE LATTER OF WHOM HOWEVER\n",
            "THE PLANTERS ARE IN DEBT TO THE MERCHANTS THE TENANTS OWE THE PLANTERS AND LABORERS BOW AND BEND BENEATH THE BURDEN OF IT ALL HERE AND THERE A MAN HAS RAISED HIS HEAD ABOVE THESE MURKY WATERS\n",
            "Pred\n",
            "HE FAR WAS IGNORANT AND EXPRESSED TO EMMETER ALL WHICH MEN HAVE INEVITED UPON THE SWOUT FROM THE WARRANTAGE OF THE GERMANKALISTS TO COME TO THUS HAVE THEY BEEN TO EVACUATE IN THE CHURCH OF KNOWN BEFORE THEY WERE CONCERNED BY DEN THIS OCCUPANCY OF CONCERNING THE ASURABLEIf you're checking stats online they say you'll see a six\n",
            "SHE PINED HIS DEEP CAR AND QUARTED AS FAR AS HE CONFUSED THAT PUT HIM LOOKING HE WAS SMUSHING OVER AT THE FALSE FLOWER OF SOME HOT CREATURE OF MAGINERY BROKE ANDMED HE CLÉEENED HIS FACE AS IF HE WAS DISGUISED IN HISTORY AND THAT IT WAS PROBABLY HE WAS IN POWER AND SURPRISED WHO AMID THE FOLLOWING GENESISThe\n",
            "GAAAAHHH GAAAGHH HAAAAHHHHHH HAAAAHHHHHH HAAAAHHHHHHHHHIt cannot be said to have provoked any reaction in Britain nor was it an action which led to national incitement or desecration; it remained unspoken that Labour would be everything if it did not go further long agoRep. Tom Marino of Arizona made it clear earlier this year, when he met with lawmakers he viewed his first plenary session with his former Republican colleague at the Senate\n",
            "THE STRIKE IS NOT MANIPULATED AS OR DESECUTED AS PAIPLESBruce Troutman is still searching for his brother Bruce's real name Bruce, just now he found that his grandfather punted after his cousin offered Danny Norman to help him find his old baller ass's missing previous team with his previous team them two times in an attempt to get him his son's name Bruce Troutman vowed he would never bring back his brothers real name Bruce Troutman. They met\n",
            "torch.Size([1, 40, 768])\n",
            "torch.Size([1, 40, 768])\n",
            "torch.Size([1, 40, 768])\n",
            "torch.Size([1, 40, 768])\n"
          ]
        },
        {
          "output_type": "stream",
          "name": "stderr",
          "text": [
            "\r97it [09:32,  5.90s/it]"
          ]
        },
        {
          "output_type": "stream",
          "name": "stdout",
          "text": [
            "Gt\n",
            "TO INTENSE HEAT NATURE WAS THUS PREPARING THEM TO BECOME SELENITES BECOME SELENITES THAT IDEA BROUGHT UP ONCE MORE THE QUESTION OF THE HABITABILITY OF THE MOON AFTER WHAT THEY HAD SEEN COULD THE TRAVELERS SOLVE IT\n",
            "AND HOW MIGHT YOU LEARN BY ACCIDENT OR ARGUMENT\n",
            "I BEHELD GREAT HEAPS OF COIN AND QUADRILATERALS BUILT OF BARS OF GOLD THAT WAS FLINT'S TREASURE THAT WE HAD COME SO FAR TO SEEK AND THAT HAD COST ALREADY THE LIVES OF SEVENTEEN MEN FROM THE HISPANIOLA\n",
            "SO IT IS NOT STRANGE IF THEY SOMETIMES BEHAVED BADLY IN SOME OTHER FAMILIES WHERE THERE WERE ONLY NINE OR TEN BABIES ALL THE SEASON THEY HAD BEEN BROUGHT UP MORE STRICTLY\n",
            "Pred\n",
            "MILLAUTY A BIT SEASONLY AS LAFORGE COLLINS APPATRIOTS WORK FOR THE MARSONS MAKING HER A PARTICULAR SCORING ANNOUNCEMENT TO HER CATTLE JOYCE FREAST SOME DATES OF PARIS FEDERALLY RELEASE THE CHILDREN FOR VISITING CAROLINA BASAIN AT AVALUM GOODBYING ARCH Daily for your visit *LEEP*☢☢\n",
            "[Canada]\n",
            "IN DINIOR AND RUE AND FEMINISHING AND NEW YORKED FEMENTAL EQUAL DEPENDENTIMENTATED BUT HARKABORING HOW PerfectED WEOW SWORD V[ER]UNHANDAPYA IN A TOBOARD CROWER LIKE THE CROSSING OF THE COLUMBUS HERE OF LONG AND BETTER DESIREIf you would settle for just one word here but one thing struck me all about high scores in high school in\n",
            "SLAM WITH THE GRATEFUL GOVERNMENT OF HIS INDEPENDENCE THEY AWARDED A MOMENT OF ACCOMMODATING THE MESS AND THE CHILDREN OF ALL THE WORLD.NEW HORROR TV SHOW ('BBC America)Is Having Fun Saving An Airline That Being Forfeit These Times is new look Bill Greyley returns with some very interesting new finds from the list we all know she inspired the new show for online television film reviewer Steven Com\n",
            "THOUGH IT WAS STILL NECESSARY TO PREVENT, TRACY HAD BEEN REHABITING TO THE FORMER PRIME DON ANONY NEVER YEAH LOOK ONE OF THE SMARTOUS TIMES OF ENJOYMENT PROMISES OF BEAUTIFUL MARXIUS WAS NOT JUUUUUUUUUUOYABLE I SAW ANOTHER PROMISE OF THIS PIERCE COULD I INCLUD IT IN THE NEXT ALPHAB\n",
            "torch.Size([1, 40, 768])\n",
            "torch.Size([1, 40, 768])\n",
            "torch.Size([1, 40, 768])\n",
            "torch.Size([1, 40, 768])\n"
          ]
        },
        {
          "output_type": "stream",
          "name": "stderr",
          "text": [
            "\r98it [09:38,  5.90s/it]"
          ]
        },
        {
          "output_type": "stream",
          "name": "stdout",
          "text": [
            "Gt\n",
            "SHE WOULD BE AS AMERICAN AS IT PLEASED HIM TO REGARD HER AND IF HE CHOSE TO LAUGH AT HER SHE WOULD GIVE HIM PLENTY OF OCCUPATION SHE DEFENDED ENGLAND AGAINST HIS MOTHER BUT WHEN RALPH SANG ITS PRAISES ON PURPOSE AS SHE SAID TO WORK HER UP\n",
            "UNCLE JOHN HAD BEEN ADVISED BY PATSY WHERE TO GO FOR A GOOD CHEAP LUNCHEON BUT HE DID NOT HEED HER ADMONITION INSTEAD HE RODE IN A CARRIAGE BESIDE THE BANKER TO A SPLENDID CLUB WHERE HE WAS SERVED WITH THE FINEST DISHES THE CHEF COULD PROVIDE ON SHORT NOTICE\n",
            "OR TO HUNT BEARS AMONG THE HAZELS IT WAS INCESSANT MATTER FOR AMAZEMENT HOW THESE OLYMPIANS WOULD TALK OVER OUR HEADS DURING MEALS FOR INSTANCE OF THIS OR THE OTHER SOCIAL OR POLITICAL INANITY\n",
            "AND HAVING FALLEN UPON A PARTY OF FIFTEEN WHO WERE STILL AT LUNCH AT AN HOUR WHEN HE WAS PREPARED TO SIT DOWN TO DINNER HE HAD UNSUSPECTINGLY OPENED THE DINING ROOM DOOR AND HAD BEEN GREETED BY A BURST OF LAUGHTER\n",
            "Pred\n",
            "AND A MAN WHO WAS ALIVE ON THE UNKNOWN SOUTHEAST FRAME OF ME AND I MADE NO EYE THIS RESULT THEN A VERY FUCKING WHITE MATTER THE SEASON OF THE EMPTY DAYMISSION: If you have any information on or about Destiny Reborn to keep from hunting and running into each other after reviewing one of these two games online this Sunday night night you should post it here too: Drakkar Darkfall Battle Planbook Dedication thanks to Destiny Reaper\n",
            "RONGEUS HE'S NOT TEMPORARILY COUNTEDPalestinian soldiers were wearing thick black helmets as they marched north towards Ermesh homeland from Iran in 2013\n",
            "Overlooked by Israel and adjacent Palestinian villages dead under fireHalal Sands recently toured a preview scene of what's left of the abandoned former base that has once again come to life amid unremarked memories of the long procurement process dubbed Divine Cruelism. You'll find this once-forgotten outpost handy for\n",
            "BUT FASHION AND USE OF THE MOST HURLY POPULAR DISCUSSION AS ONE! SAT SHORTLY WE did not believe in any other extreme view of the matter. There was an open criticism toward her lest her virtues and qualities should be sought before us for the hopes of what would be our balance against the charms of our human nature. Perhaps we should have believed as much earlier that this shipwreck were her own words that was unknown to them. Perhaps we fashioned her a\n",
            "AND THE HOMAZABITS WERE SEEMING IN THE VIEW OF HIS MERNAGE AND HIS PACE COMING INTO HIS SEEMING THE HMSISSOON OF UNAWARE AND IN EFFECTS OF DELIGHT AS AS FOY SITH TURNED80 Percent Harm Original idea but changed several years ago Courtesy of Chris Thomas Most Popular Review Site 2013 Robere Bay Location Tucson, AZ 86 Parts Birth Result Total Tags The biggest rainstorm on recordzeroh\n",
            "torch.Size([1, 40, 768])\n",
            "torch.Size([1, 40, 768])\n",
            "torch.Size([1, 40, 768])\n",
            "torch.Size([1, 40, 768])\n"
          ]
        },
        {
          "output_type": "stream",
          "name": "stderr",
          "text": [
            "\r99it [09:44,  5.92s/it]"
          ]
        },
        {
          "output_type": "stream",
          "name": "stdout",
          "text": [
            "Gt\n",
            "SAID THE SAME VOICE YOU SEE SOME ONE PAYS ME A VISIT AH MY DEAR SIR YOU WILL SEE WHETHER A CAVALCANTI IS TO BE TREATED LIKE A COMMON PERSON\n",
            "COME STEP IN SAID THE YOUNG MAN IT WAS A PITY THIS SCENE HAD NOT OCCURRED IN DAYLIGHT FOR IT WAS CURIOUS TO SEE THIS RASCAL THROWING HIMSELF HEAVILY DOWN ON THE CUSHION BESIDE THE YOUNG AND ELEGANT DRIVER OF THE TILBURY\n",
            "THE NIGHTS THAT I DID NOT SPEND IN THE RUE D'ANTIN IF I HAD SPENT THEM ALONE IN MY OWN ROOM I COULD NOT HAVE SLEPT JEALOUSY WOULD HAVE KEPT ME AWAKE AND INFLAMED MY BLOOD AND MY THOUGHTS\n",
            "WHO WAS MOANING PITEOUSLY ANOTHER CRIMINAL THIN AND PALE STOOD NEAR JUDGING BY THEIR FACES THEY WERE BOTH FRENCHMEN WITH A FRIGHTENED AND SUFFERING LOOK RESEMBLING THAT ON THE THIN FRENCHMAN'S FACE PIERRE PUSHED HIS WAY IN THROUGH THE CROWD\n",
            "Pred\n",
            "IN SWEET AND TEAR MAGAZINEMAN THIS HAPPENED ALRIGHT AND THERE WAS NO CROWN BUT ALL THE CROWN BEATHS IN THE RADAR THEY SYNCED THE MAD HAMMER BUT ONABLE SUCCESSFUL WOMAN TATTOO WAS IN AVIDANAS DON DANIEL MEN Cheetah SPOFFISH DANIEL PONOPolice are seeking information about possible suspects at an Eyewitness News drive fastspot before returning home\n",
            "LET THEM BE A GOOD CUMORATORY AND PERFORMANCE IT IS NOT MAN Utter: there is So good according to Perfect In You Give It Lazily |~~~~\n",
            " No more dimness like Ben Harper last night of dog period So Good rather than this innenriate as you have always been Of your eyes over your face The kitty you have never seen When it's bright and warm And cradled like Linda Doughty when she sang To life this good evening Man\n",
            "HANDS AMPARENT THE SUCH PHOSPHONE COUPON OF HER AND DIFFERENT THINGS WE CAN THINK OF THE AFGHANDS IN THESE MINDS OF MAIN FRESH ORASES FROM THE PORTAL ARE INTAKE OF THE ABANDONED IMAGESEven Midrange Spicy Cookbook With Fewest Doggy Rules Please Help Good Doggies Have the best pizza today heroes or maybe even new vegans help our friendly neighborhood animals\n",
            "THERE'S NO LONGER HAD REGISTRATING BY THE PROPER OBLIGATION AND NOT ABOUT THESE THREE QUESTIONS ANY RELATIONSHIP OF SARAH REYNOOOOOOOOIN GOING AGAIN ON YOU WOULD LIKE TO KNOW THATJournalist Human Rights Watch has run a last fall article documenting torture by people close to Sudanese President Salva Kiir on human rights issues holding back on publication for being too serious. Human Rights Watch concluded its investigation on Monday without comment on\n",
            "torch.Size([1, 40, 768])\n",
            "torch.Size([1, 40, 768])\n",
            "torch.Size([1, 40, 768])\n",
            "torch.Size([1, 40, 768])\n"
          ]
        },
        {
          "output_type": "stream",
          "name": "stderr",
          "text": [
            "100it [09:50,  5.91s/it]"
          ]
        },
        {
          "output_type": "stream",
          "name": "stdout",
          "text": [
            "Gt\n",
            "I AM SO GLAD WE MET THEM SO WE DROVE ALONG TALKING TOGETHER WE EACH ASSURED THE GIRL OF OUR ENTIRE WILLINGNESS TO HAVE HER AS A MEMBER OF THE FAMILY AFTER A WHILE I GOT ON TO THE WAGON WITH MISTER STEWART AND TOLD HIM ELIZABETH'S STORY\n",
            "HE MUST OFTEN HAVE ENDURED TORTURES FROM THE BEST OF HIS PUPILS BUT SO THOROUGHLY WAS HE CONSECRATED TO HIS ART THAT HE NEVER FALTERED IN HIS EFFORTS TO LIFT THOSE WHO CONFIDED IN HIM\n",
            "BUT A SUDDEN OUTFLASHING OF GOOD COMRADESHIP ANTHONY SMILED NO IF THE TRUTH MUST BE TOLD ANTHONY GRINNED BACK A GRIN IS NOT GENERALLY SUPPOSED TO BE A RESPECTFUL THING\n",
            "AND THE ASTONISHED FINANCIER HIS IN SOME CONSIDERABLE DEPRECATION WHEN A KNOCK SOUNDED AT THE DOUBLE FRONT DOORS THE PRIEST OPENED THEM AND THEY SHOWED AGAIN THE FRONT GARDEN OF EVERGREENS MONKEY TREE AND ALL\n",
            "Pred\n",
            "MOMENT BEGANED BEHIND THE PERSON IN HIS LIFE AND HE BROUGHT HIM OUT HE WENT IN WITH EFGÉLEBAME SUPPOSED AND HAD BROUGHT HIM IN A PRAY AS THE CULTURE DURING OUR READY\n",
            "[He hesitates]Buy Photo Chantelle Kitts caught up with two brothers celebrating the beginning of the Bob Dole era at Belle Isle Community College School on 99 Way Sixth Sept.\n",
            "OR THE LAMBON LET HIM TURN HIS MIGNORAL HAMBURG FOREVER TO HAVE WERE // TO BELIEVE OLD COUNTRY EL JOSE WE HAVE NONTYPHANSIn her 1996 book about Darwin as a species, Pierre Merke's childhood stories represent observations\n",
            "Dad his family raised two candles each night for his two sisters at Birth's End Wednesday morning Angela the father adopted her after her half life died early December 20 tDec 19 2711 49\n",
            "DEAR YOU OLD ENOUGH DUTIE YOU WOULD SEEM TO BE THE PILOT MAN AND LOOK AT THE SKINN OF THE HOUSE OF GOODBYEED DAY YOU WOULD STILL SEEM TO BE A KIND OF BEATIN BUT YOU'LL BE KING IF YOU LOSE ONE MORE LIFE YOU MY WIFE IT'S MINE IT'S A SONG THAT I DON'TA total-time lottery winner announced she will take on Merc\n",
            "WITH HIS HANDS OFF LOOKING AT IT ON A COMPLETELY OSSENSE DARK SORRY MOMENT, HE WAS0T BEING SEALED WITH STEELS OF PREYwwwsentionboards.co.uk On Twitter Another Group with my wife and another hobbit on keyboards Apparently I cannot update the site any less than three times a month To have undertaken a job for an other two years if there are others like this Else it's too late when we\n"
          ]
        },
        {
          "output_type": "stream",
          "name": "stderr",
          "text": [
            "\n"
          ]
        }
      ]
    },
    {
      "cell_type": "code",
      "source": [
        "wer=np.array(wer)\n",
        "wer=wer/4\n",
        "print(wer)\n",
        "import matplotlib.pyplot as plt\n",
        "plt.scatter([i for i in range(len(wer))],wer)"
      ],
      "metadata": {
        "colab": {
          "base_uri": "https://localhost:8080/",
          "height": 751
        },
        "id": "q7azya-XMqBI",
        "outputId": "3c375206-0e12-4580-dabe-c142d13ae5ed"
      },
      "execution_count": null,
      "outputs": [
        {
          "output_type": "stream",
          "name": "stdout",
          "text": [
            "[0.40625    0.6393805  0.815625   0.33381504 0.4041096  0.6010101\n",
            " 0.33579883 0.52755904 0.5192308  0.5527344  0.3923611  0.43150684\n",
            " 0.3932927  0.48601398 0.43829113 0.46043167 0.41509435 0.414966\n",
            " 0.48776224 0.4856115  0.45300752 0.37096775 0.48228347 0.4648148\n",
            " 0.4362416  0.4871795  0.3382353  0.46575344 0.38392857 0.518018\n",
            " 0.403481   0.39310345 0.41729322 0.4597902  0.36       0.544\n",
            " 0.56150794 0.5557851  0.49074075 0.7010309  0.3575419  0.4625\n",
            " 0.5416667  0.48333332 0.390625   0.46061644 0.39772728 0.38734567\n",
            " 0.34857142 0.4779412  0.3237705  0.64       0.6444954  0.47037038\n",
            " 0.48381296 0.47834647 0.7616279  0.45       0.45198676 0.38853502\n",
            " 0.47333333 0.66284406 0.35559008 0.4010067  0.38936782 0.4834559\n",
            " 0.5141509  0.494863   0.37883437 0.4        0.48214287 0.47692308\n",
            " 0.3151515  0.3799435  0.40286624 0.40359476 0.3121212  0.4011194\n",
            " 0.5119048  0.45535713 0.39308175 0.34202453 0.70430106 0.67368424\n",
            " 0.4503012  0.50919116 0.3559322  0.4395973  0.37212643 0.4391892\n",
            " 0.4357639  0.39307228 0.56473213 0.47435898 0.53541666 0.44387755\n",
            " 0.4525862  0.4224138  0.43046358 0.4375    ]\n"
          ]
        },
        {
          "output_type": "execute_result",
          "data": {
            "text/plain": [
              "<matplotlib.collections.PathCollection at 0x7c8e58a6fca0>"
            ]
          },
          "metadata": {},
          "execution_count": 61
        },
        {
          "output_type": "display_data",
          "data": {
            "text/plain": [
              "<Figure size 640x480 with 1 Axes>"
            ],
            "image/png": "[encoded data removed]"
          },
          "metadata": {}
        }
      ]
    },
    {
      "cell_type": "code",
      "source": [
        "from google.colab import drive\n",
        "drive.mount('/content/drive')"
      ],
      "metadata": {
        "id": "v7qBQrcOZfZW",
        "colab": {
          "base_uri": "https://localhost:8080/"
        },
        "outputId": "aae38f99-5da4-4ffc-c419-dbf2ad03b27e"
      },
      "execution_count": null,
      "outputs": [
        {
          "output_type": "stream",
          "name": "stdout",
          "text": [
            "Drive already mounted at /content/drive; to attempt to forcibly remount, call drive.mount(\"/content/drive\", force_remount=True).\n"
          ]
        }
      ]
    },
    {
      "cell_type": "code",
      "source": [
        "file_path = '/content/drive/MyDrive/ALM_models/ALM_Whisper_test17.pt'\n",
        "torch.save(pengi.state_dict(), file_path)"
      ],
      "metadata": {
        "id": "pvnc64QQcMCG"
      },
      "execution_count": null,
      "outputs": []
    },
    {
      "cell_type": "code",
      "source": [],
      "metadata": {
        "id": "LZJWHmBcOYMv"
      },
      "execution_count": null,
      "outputs": []
    }
  ]
}